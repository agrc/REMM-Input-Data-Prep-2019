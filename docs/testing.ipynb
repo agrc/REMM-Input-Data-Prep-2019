{
 "cells": [
  {
   "cell_type": "code",
   "execution_count": 1,
   "id": "56a8a8dd",
   "metadata": {},
   "outputs": [],
   "source": [
    "import pandas as pd\n",
    "import numpy as np\n",
    "from arcgis.features import GeoAccessor, GeoSeriesAccessor\n",
    "from arcgis.geometry import Geometry, SpatialReference\n",
    "from arcgis import geometry\n",
    "from arcgis.gis import GIS\n",
    "import arcpy\n",
    "import os\n",
    "import datetime\n",
    "from pathlib import Path"
   ]
  },
  {
   "cell_type": "code",
   "execution_count": 17,
   "id": "cf6bf83d",
   "metadata": {},
   "outputs": [],
   "source": [
    "#: WARNING: if you do this twice with the same geometry, you may overwrite the other column and lose it forever. \n",
    "#: I haven't tested that yet.\n",
    "\n",
    "def _change_geometry(df, new_geometry_column, name_for_current):\n",
    "    df[name_for_current] = df['SHAPE']\n",
    "    df['SHAPE'] = df[new_geometry_column]\n",
    "    df.spatial.set_geometry('SHAPE')\n",
    "    df.spatial.sindex(reset=True)  #: not sure how necessary this is, but for safety's sake"
   ]
  },
  {
   "cell_type": "code",
   "execution_count": 18,
   "id": "8b2128fb",
   "metadata": {},
   "outputs": [],
   "source": [
    "def _dissolve_duplicate_parcels(parcels_for_modeling_layer):\n",
    "    # dissolve on parcel id,summarizing attributes in various ways\n",
    "    parcels_dissolved = 'memory/dissolved'\n",
    "    if arcpy.Exists(parcels_dissolved):\n",
    "        arcpy.management.Delete(parcels_dissolved)\n",
    "    arcpy.management.Dissolve(\n",
    "        parcels_for_modeling_layer, parcels_dissolved, 'PARCEL_ID', [\n",
    "            ['PARCEL_ID', 'COUNT'],\n",
    "            ['TAXEXEMPT_TYPE', 'FIRST'],\n",
    "            ['TOTAL_MKT_VALUE', 'SUM'],\n",
    "            ['LAND_MKT_VALUE', 'SUM'],\n",
    "            ['PARCEL_ACRES', 'SUM'],\n",
    "            ['PROP_CLASS', 'FIRST'],\n",
    "            ['PRIMARY_RES', 'FIRST'],\n",
    "            ['HOUSE_CNT', 'MAX'],\n",
    "            ['BLDG_SQFT', 'SUM'],\n",
    "            ['FLOORS_CNT', 'MAX'],\n",
    "            ['BUILT_YR', 'FIRST'],\n",
    "            ['EFFBUILT_YR', 'FIRST'],\n",
    "        ], 'MULTI_PART', 'DISSOLVE_LINES'\n",
    "    )\n",
    "\n",
    "    # rename columns\n",
    "    #: moves OBJECTID to first column\n",
    "    parcels_dissolved_sdf = pd.DataFrame.spatial.from_featureclass(parcels_dissolved)\n",
    "    parcels_dissolved_sdf.columns = [\n",
    "        'OBJECTID',\n",
    "        'PARCEL_ID',\n",
    "        'COUNT_PARCEL_ID',\n",
    "        'TAXEXEMPT_TYPE',\n",
    "        'TOTAL_MKT_VALUE',\n",
    "        'LAND_MKT_VALUE',\n",
    "        'PARCEL_ACRES',\n",
    "        'PROP_CLASS',\n",
    "        'PRIMARY_RES',\n",
    "        'HOUSE_CNT',\n",
    "        'BLDG_SQFT',\n",
    "        'FLOORS_CNT',\n",
    "        'BUILT_YR',\n",
    "        'EFFBUILT_YR',\n",
    "        'SHAPE',\n",
    "    ]\n",
    "\n",
    "    # remove parcels without parcel ids\n",
    "    # parcels_dissolved_sdf = parcels_dissolved_sdf[parcels_dissolved_sdf['PARCEL_ID'].isnull() == False].copy()\n",
    "    # parcels_dissolved_sdf = parcels_dissolved_sdf[parcels_dissolved_sdf['PARCEL_ID'].notnull()].copy()\n",
    "    parcels_dissolved_sdf.dropna(subset=['PARCEL_ID'], inplace=True)\n",
    "\n",
    "    return parcels_dissolved_sdf"
   ]
  },
  {
   "cell_type": "code",
   "execution_count": 19,
   "id": "cb1fa4ce",
   "metadata": {},
   "outputs": [],
   "source": [
    "def _add_centroids_to_parcel_df(parcels_df, join_field):\n",
    "    memory_parcels = 'memory/parcels'\n",
    "    memory_centroids = 'memory/centroids'\n",
    "\n",
    "    for featureclass in [memory_centroids, memory_parcels]:\n",
    "        if arcpy.Exists(featureclass):\n",
    "            arcpy.management.Delete(featureclass)\n",
    "\n",
    "    print('writing parcels to fc')\n",
    "    parcels_df.spatial.to_featureclass(memory_parcels)\n",
    "    print('feature to point')\n",
    "    arcpy.management.FeatureToPoint(memory_parcels, memory_centroids, 'INSIDE')\n",
    "    print('reading centroids to df')\n",
    "    centroids_df = (\n",
    "        pd.DataFrame.spatial.from_featureclass(memory_centroids)[[join_field.lower(), 'SHAPE']]\n",
    "        .rename(columns={'SHAPE':'CENTROIDS', join_field.lower(): join_field})\n",
    "        .assign(**{join_field:lambda df: df[join_field].astype(str)})\n",
    "    )    \n",
    "\n",
    "    print(centroids_df.dtypes)\n",
    "    print('joining back')\n",
    "    joined_df = parcels_df.merge(centroids_df, on=join_field, how='left')\n",
    "\n",
    "    blank_centroids = joined_df['CENTROIDS'].isna().sum()\n",
    "    if blank_centroids:\n",
    "        print(f'{blank_centroids} blank centroids!')\n",
    "\n",
    "    return joined_df"
   ]
  },
  {
   "cell_type": "markdown",
   "id": "8bb11093",
   "metadata": {
    "heading_collapsed": true
   },
   "source": [
    "# Join test"
   ]
  },
  {
   "cell_type": "code",
   "execution_count": 4,
   "id": "f048d315",
   "metadata": {
    "hidden": true
   },
   "outputs": [],
   "source": [
    "areas_fc = r'c:/gis/projects/udoh/udoh.gdb/SmallStatisticalAreas_2018'\n",
    "tracts_fc = r'C:\\Users\\jdadams\\AppData\\Roaming\\Esri\\ArcGISPro\\Favorites\\opensgid.agrc.utah.gov.sde\\opensgid.demographic.census_tracts_2020'"
   ]
  },
  {
   "cell_type": "code",
   "execution_count": 25,
   "id": "7c8f60ac",
   "metadata": {
    "hidden": true
   },
   "outputs": [],
   "source": [
    "areas_df = pd.DataFrame.spatial.from_featureclass(areas_fc)\n",
    "tracts_df = pd.DataFrame.spatial.from_featureclass(tracts_fc)"
   ]
  },
  {
   "cell_type": "code",
   "execution_count": 6,
   "id": "7af5d8db",
   "metadata": {
    "hidden": true
   },
   "outputs": [],
   "source": [
    "tracts_df['CENTROIDS'] = tracts_df['SHAPE'].apply(\n",
    "    lambda shape: Geometry({\n",
    "        'x': shape.centroid[0],\n",
    "        'y': shape.centroid[1],\n",
    "        'spatialReference': shape.spatial_reference\n",
    "    })\n",
    ")"
   ]
  },
  {
   "cell_type": "code",
   "execution_count": 18,
   "id": "de815cbe",
   "metadata": {
    "collapsed": true,
    "hidden": true
   },
   "outputs": [
    {
     "data": {
      "application/vnd.jupyter.widget-view+json": {
       "model_id": "ba317a44c4454eeebd5288989aad1125",
       "version_major": 2,
       "version_minor": 0
      },
      "text/plain": [
       "MapView(layout=Layout(height='400px', width='100%'))"
      ]
     },
     "metadata": {},
     "output_type": "display_data"
    },
    {
     "data": {
      "text/html": [
       "<div class=\"map-static-img-preview-73cdac68-1866-4e50-89ef-1ff09585a7ea\"><img src=\"\"></img></div>"
      ],
      "text/plain": [
       "<IPython.core.display.HTML object>"
      ]
     },
     "metadata": {},
     "output_type": "display_data"
    },
    {
     "data": {
      "text/html": [
       "<div class=\"map-html-embed-preview-73cdac68-1866-4e50-89ef-1ff09585a7ea\"></div>"
      ],
      "text/plain": [
       "<IPython.core.display.HTML object>"
      ]
     },
     "metadata": {},
     "output_type": "display_data"
    }
   ],
   "source": [
    "m1 = GIS().map()\n",
    "m1.add_layer(tracts_df)\n",
    "m1.add_layer(areas_df)\n",
    "m1"
   ]
  },
  {
   "cell_type": "code",
   "execution_count": 7,
   "id": "077c567e",
   "metadata": {
    "hidden": true
   },
   "outputs": [],
   "source": [
    "_change_geometry(tracts_df, 'CENTROIDS', 'POLYS')"
   ]
  },
  {
   "cell_type": "code",
   "execution_count": 8,
   "id": "2b8a7bfe",
   "metadata": {
    "hidden": true,
    "scrolled": true
   },
   "outputs": [],
   "source": [
    "joined_df = tracts_df.spatial.join(areas_df, 'left', 'within')"
   ]
  },
  {
   "cell_type": "code",
   "execution_count": 9,
   "id": "37c532e1",
   "metadata": {
    "collapsed": true,
    "hidden": true
   },
   "outputs": [
    {
     "data": {
      "text/html": [
       "<div>\n",
       "<style scoped>\n",
       "    .dataframe tbody tr th:only-of-type {\n",
       "        vertical-align: middle;\n",
       "    }\n",
       "\n",
       "    .dataframe tbody tr th {\n",
       "        vertical-align: top;\n",
       "    }\n",
       "\n",
       "    .dataframe thead th {\n",
       "        text-align: right;\n",
       "    }\n",
       "</style>\n",
       "<table border=\"1\" class=\"dataframe\">\n",
       "  <thead>\n",
       "    <tr style=\"text-align: right;\">\n",
       "      <th></th>\n",
       "      <th>xid</th>\n",
       "      <th>statefp20</th>\n",
       "      <th>countyfp20</th>\n",
       "      <th>tractce20</th>\n",
       "      <th>geoid20</th>\n",
       "      <th>name20</th>\n",
       "      <th>namelsad20</th>\n",
       "      <th>mtfcc20</th>\n",
       "      <th>funcstat20</th>\n",
       "      <th>aland20</th>\n",
       "      <th>awater20</th>\n",
       "      <th>intptlat20</th>\n",
       "      <th>intptlon20</th>\n",
       "      <th>SHAPE</th>\n",
       "      <th>CENTROIDS</th>\n",
       "      <th>POLYS</th>\n",
       "      <th>index_right</th>\n",
       "      <th>OBJECTID</th>\n",
       "      <th>smallareanumber</th>\n",
       "      <th>smallareaname</th>\n",
       "    </tr>\n",
       "  </thead>\n",
       "  <tbody>\n",
       "    <tr>\n",
       "      <th>0</th>\n",
       "      <td>1</td>\n",
       "      <td>49</td>\n",
       "      <td>049</td>\n",
       "      <td>000901</td>\n",
       "      <td>49049000901</td>\n",
       "      <td>9.01</td>\n",
       "      <td>Census Tract</td>\n",
       "      <td>G5020</td>\n",
       "      <td>S</td>\n",
       "      <td>1.686016e+06</td>\n",
       "      <td>0.0</td>\n",
       "      <td>+40.3051285</td>\n",
       "      <td>-111.6922978</td>\n",
       "      <td>{\"x\": 441169.29876317625, \"y\": 4461854.3007924...</td>\n",
       "      <td>{'x': 441169.29876317625, 'y': 4461854.3007924...</td>\n",
       "      <td>{\"rings\": [[[440398.4642000003, 4462604.4892],...</td>\n",
       "      <td>59.0</td>\n",
       "      <td>63.0</td>\n",
       "      <td>44</td>\n",
       "      <td>Orem (North)</td>\n",
       "    </tr>\n",
       "    <tr>\n",
       "      <th>1</th>\n",
       "      <td>2</td>\n",
       "      <td>49</td>\n",
       "      <td>049</td>\n",
       "      <td>002500</td>\n",
       "      <td>49049002500</td>\n",
       "      <td>25</td>\n",
       "      <td>Census Tract</td>\n",
       "      <td>G5020</td>\n",
       "      <td>S</td>\n",
       "      <td>1.034541e+06</td>\n",
       "      <td>0.0</td>\n",
       "      <td>+40.2296149</td>\n",
       "      <td>-111.6497278</td>\n",
       "      <td>{\"x\": 444725.4420491648, \"y\": 4453445.15503423...</td>\n",
       "      <td>{'x': 444725.4420491648, 'y': 4453445.15503423...</td>\n",
       "      <td>{\"rings\": [[[444113.66309999954, 4453163.1712]...</td>\n",
       "      <td>64.0</td>\n",
       "      <td>68.0</td>\n",
       "      <td>48.2</td>\n",
       "      <td>Provo (East City Center)</td>\n",
       "    </tr>\n",
       "    <tr>\n",
       "      <th>2</th>\n",
       "      <td>3</td>\n",
       "      <td>49</td>\n",
       "      <td>049</td>\n",
       "      <td>003401</td>\n",
       "      <td>49049003401</td>\n",
       "      <td>34.01</td>\n",
       "      <td>Census Tract</td>\n",
       "      <td>G5020</td>\n",
       "      <td>S</td>\n",
       "      <td>9.085765e+06</td>\n",
       "      <td>23788.0</td>\n",
       "      <td>+40.0560227</td>\n",
       "      <td>-111.7122570</td>\n",
       "      <td>{\"x\": 439257.47857315646, \"y\": 4434122.5080396...</td>\n",
       "      <td>{'x': 439257.47857315646, 'y': 4434122.5080396...</td>\n",
       "      <td>{\"rings\": [[[436447.3992999997, 4432868.571], ...</td>\n",
       "      <td>71.0</td>\n",
       "      <td>75.0</td>\n",
       "      <td>50.2</td>\n",
       "      <td>Payson</td>\n",
       "    </tr>\n",
       "    <tr>\n",
       "      <th>3</th>\n",
       "      <td>4</td>\n",
       "      <td>49</td>\n",
       "      <td>049</td>\n",
       "      <td>010210</td>\n",
       "      <td>49049010210</td>\n",
       "      <td>102.10</td>\n",
       "      <td>Census Tract</td>\n",
       "      <td>G5020</td>\n",
       "      <td>S</td>\n",
       "      <td>1.581048e+07</td>\n",
       "      <td>0.0</td>\n",
       "      <td>+40.4005884</td>\n",
       "      <td>-111.7306856</td>\n",
       "      <td>{\"x\": 437994.61392989865, \"y\": 4472476.4166772...</td>\n",
       "      <td>{'x': 437994.61392989865, 'y': 4472476.4166772...</td>\n",
       "      <td>{\"rings\": [[[434385.5806999998, 4474166.1998],...</td>\n",
       "      <td>58.0</td>\n",
       "      <td>62.0</td>\n",
       "      <td>43</td>\n",
       "      <td>Pleasant Grove/Lindon</td>\n",
       "    </tr>\n",
       "    <tr>\n",
       "      <th>4</th>\n",
       "      <td>5</td>\n",
       "      <td>49</td>\n",
       "      <td>049</td>\n",
       "      <td>000505</td>\n",
       "      <td>49049000505</td>\n",
       "      <td>5.05</td>\n",
       "      <td>Census Tract</td>\n",
       "      <td>G5020</td>\n",
       "      <td>S</td>\n",
       "      <td>3.919712e+06</td>\n",
       "      <td>0.0</td>\n",
       "      <td>+40.3700595</td>\n",
       "      <td>-111.7070846</td>\n",
       "      <td>{\"x\": 439970.29811329854, \"y\": 4469071.4450746...</td>\n",
       "      <td>{'x': 439970.29811329854, 'y': 4469071.4450746...</td>\n",
       "      <td>{\"rings\": [[[438303.71279999986, 4469684.0035]...</td>\n",
       "      <td>58.0</td>\n",
       "      <td>62.0</td>\n",
       "      <td>43</td>\n",
       "      <td>Pleasant Grove/Lindon</td>\n",
       "    </tr>\n",
       "    <tr>\n",
       "      <th>...</th>\n",
       "      <td>...</td>\n",
       "      <td>...</td>\n",
       "      <td>...</td>\n",
       "      <td>...</td>\n",
       "      <td>...</td>\n",
       "      <td>...</td>\n",
       "      <td>...</td>\n",
       "      <td>...</td>\n",
       "      <td>...</td>\n",
       "      <td>...</td>\n",
       "      <td>...</td>\n",
       "      <td>...</td>\n",
       "      <td>...</td>\n",
       "      <td>...</td>\n",
       "      <td>...</td>\n",
       "      <td>...</td>\n",
       "      <td>...</td>\n",
       "      <td>...</td>\n",
       "      <td>...</td>\n",
       "      <td>...</td>\n",
       "    </tr>\n",
       "    <tr>\n",
       "      <th>711</th>\n",
       "      <td>712</td>\n",
       "      <td>49</td>\n",
       "      <td>035</td>\n",
       "      <td>111701</td>\n",
       "      <td>49035111701</td>\n",
       "      <td>1117.01</td>\n",
       "      <td>Census Tract</td>\n",
       "      <td>G5020</td>\n",
       "      <td>S</td>\n",
       "      <td>1.358256e+06</td>\n",
       "      <td>0.0</td>\n",
       "      <td>+40.6934670</td>\n",
       "      <td>-111.8826082</td>\n",
       "      <td>{\"x\": 425428.02143853245, \"y\": 4505104.4082948...</td>\n",
       "      <td>{'x': 425428.02143853245, 'y': 4505104.4082948...</td>\n",
       "      <td>{\"rings\": [[[424945.5695000002, 4504747.2454],...</td>\n",
       "      <td>23.0</td>\n",
       "      <td>27.0</td>\n",
       "      <td>25</td>\n",
       "      <td>South Salt Lake</td>\n",
       "    </tr>\n",
       "    <tr>\n",
       "      <th>712</th>\n",
       "      <td>713</td>\n",
       "      <td>49</td>\n",
       "      <td>035</td>\n",
       "      <td>111903</td>\n",
       "      <td>49035111903</td>\n",
       "      <td>1119.03</td>\n",
       "      <td>Census Tract</td>\n",
       "      <td>G5020</td>\n",
       "      <td>S</td>\n",
       "      <td>2.072253e+06</td>\n",
       "      <td>0.0</td>\n",
       "      <td>+40.6806830</td>\n",
       "      <td>-111.8627470</td>\n",
       "      <td>{\"x\": 427092.1915410602, \"y\": 4503668.64664819...</td>\n",
       "      <td>{'x': 427092.1915410602, 'y': 4503668.64664819...</td>\n",
       "      <td>{\"rings\": [[[426353.4841, 4503135.8453], [4263...</td>\n",
       "      <td>25.0</td>\n",
       "      <td>29.0</td>\n",
       "      <td>26.2</td>\n",
       "      <td>Millcreek (South)</td>\n",
       "    </tr>\n",
       "    <tr>\n",
       "      <th>713</th>\n",
       "      <td>714</td>\n",
       "      <td>49</td>\n",
       "      <td>035</td>\n",
       "      <td>111905</td>\n",
       "      <td>49035111905</td>\n",
       "      <td>1119.05</td>\n",
       "      <td>Census Tract</td>\n",
       "      <td>G5020</td>\n",
       "      <td>S</td>\n",
       "      <td>1.167718e+06</td>\n",
       "      <td>0.0</td>\n",
       "      <td>+40.6765749</td>\n",
       "      <td>-111.8744366</td>\n",
       "      <td>{\"x\": 426099.79680161, \"y\": 4503222.390862818,...</td>\n",
       "      <td>{'x': 426099.79680161, 'y': 4503222.390862818,...</td>\n",
       "      <td>{\"rings\": [[[425548.92899999954, 4502917.7248]...</td>\n",
       "      <td>34.0</td>\n",
       "      <td>38.0</td>\n",
       "      <td>31</td>\n",
       "      <td>Murray</td>\n",
       "    </tr>\n",
       "    <tr>\n",
       "      <th>714</th>\n",
       "      <td>715</td>\n",
       "      <td>49</td>\n",
       "      <td>035</td>\n",
       "      <td>113309</td>\n",
       "      <td>49035113309</td>\n",
       "      <td>1133.09</td>\n",
       "      <td>Census Tract</td>\n",
       "      <td>G5020</td>\n",
       "      <td>S</td>\n",
       "      <td>1.867612e+06</td>\n",
       "      <td>0.0</td>\n",
       "      <td>+40.6881369</td>\n",
       "      <td>-111.9693980</td>\n",
       "      <td>{\"x\": 418088.48904618004, \"y\": 4504590.0128683...</td>\n",
       "      <td>{'x': 418088.48904618004, 'y': 4504590.0128683...</td>\n",
       "      <td>{\"rings\": [[[417449.58469999954, 4505538.77260...</td>\n",
       "      <td>20.0</td>\n",
       "      <td>24.0</td>\n",
       "      <td>23.1</td>\n",
       "      <td>West Valley (East) V2</td>\n",
       "    </tr>\n",
       "    <tr>\n",
       "      <th>715</th>\n",
       "      <td>716</td>\n",
       "      <td>49</td>\n",
       "      <td>015</td>\n",
       "      <td>976500</td>\n",
       "      <td>49015976500</td>\n",
       "      <td>9765</td>\n",
       "      <td>Census Tract</td>\n",
       "      <td>G5020</td>\n",
       "      <td>S</td>\n",
       "      <td>8.782568e+09</td>\n",
       "      <td>14165655.0</td>\n",
       "      <td>+38.9311083</td>\n",
       "      <td>-110.6644589</td>\n",
       "      <td>{\"x\": 531221.4397219317, \"y\": 4305075.81417691...</td>\n",
       "      <td>{'x': 531221.4397219317, 'y': 4305075.81417691...</td>\n",
       "      <td>{\"rings\": [[[473273.6588000003, 4276684.8684],...</td>\n",
       "      <td>83.0</td>\n",
       "      <td>87.0</td>\n",
       "      <td>56.2</td>\n",
       "      <td>Emery County</td>\n",
       "    </tr>\n",
       "  </tbody>\n",
       "</table>\n",
       "<p>716 rows × 20 columns</p>\n",
       "</div>"
      ],
      "text/plain": [
       "     xid statefp20 countyfp20 tractce20      geoid20   name20    namelsad20  \\\n",
       "0      1        49        049    000901  49049000901     9.01  Census Tract   \n",
       "1      2        49        049    002500  49049002500       25  Census Tract   \n",
       "2      3        49        049    003401  49049003401    34.01  Census Tract   \n",
       "3      4        49        049    010210  49049010210   102.10  Census Tract   \n",
       "4      5        49        049    000505  49049000505     5.05  Census Tract   \n",
       "..   ...       ...        ...       ...          ...      ...           ...   \n",
       "711  712        49        035    111701  49035111701  1117.01  Census Tract   \n",
       "712  713        49        035    111903  49035111903  1119.03  Census Tract   \n",
       "713  714        49        035    111905  49035111905  1119.05  Census Tract   \n",
       "714  715        49        035    113309  49035113309  1133.09  Census Tract   \n",
       "715  716        49        015    976500  49015976500     9765  Census Tract   \n",
       "\n",
       "    mtfcc20 funcstat20       aland20    awater20   intptlat20    intptlon20  \\\n",
       "0     G5020          S  1.686016e+06         0.0  +40.3051285  -111.6922978   \n",
       "1     G5020          S  1.034541e+06         0.0  +40.2296149  -111.6497278   \n",
       "2     G5020          S  9.085765e+06     23788.0  +40.0560227  -111.7122570   \n",
       "3     G5020          S  1.581048e+07         0.0  +40.4005884  -111.7306856   \n",
       "4     G5020          S  3.919712e+06         0.0  +40.3700595  -111.7070846   \n",
       "..      ...        ...           ...         ...          ...           ...   \n",
       "711   G5020          S  1.358256e+06         0.0  +40.6934670  -111.8826082   \n",
       "712   G5020          S  2.072253e+06         0.0  +40.6806830  -111.8627470   \n",
       "713   G5020          S  1.167718e+06         0.0  +40.6765749  -111.8744366   \n",
       "714   G5020          S  1.867612e+06         0.0  +40.6881369  -111.9693980   \n",
       "715   G5020          S  8.782568e+09  14165655.0  +38.9311083  -110.6644589   \n",
       "\n",
       "                                                 SHAPE  \\\n",
       "0    {\"x\": 441169.29876317625, \"y\": 4461854.3007924...   \n",
       "1    {\"x\": 444725.4420491648, \"y\": 4453445.15503423...   \n",
       "2    {\"x\": 439257.47857315646, \"y\": 4434122.5080396...   \n",
       "3    {\"x\": 437994.61392989865, \"y\": 4472476.4166772...   \n",
       "4    {\"x\": 439970.29811329854, \"y\": 4469071.4450746...   \n",
       "..                                                 ...   \n",
       "711  {\"x\": 425428.02143853245, \"y\": 4505104.4082948...   \n",
       "712  {\"x\": 427092.1915410602, \"y\": 4503668.64664819...   \n",
       "713  {\"x\": 426099.79680161, \"y\": 4503222.390862818,...   \n",
       "714  {\"x\": 418088.48904618004, \"y\": 4504590.0128683...   \n",
       "715  {\"x\": 531221.4397219317, \"y\": 4305075.81417691...   \n",
       "\n",
       "                                             CENTROIDS  \\\n",
       "0    {'x': 441169.29876317625, 'y': 4461854.3007924...   \n",
       "1    {'x': 444725.4420491648, 'y': 4453445.15503423...   \n",
       "2    {'x': 439257.47857315646, 'y': 4434122.5080396...   \n",
       "3    {'x': 437994.61392989865, 'y': 4472476.4166772...   \n",
       "4    {'x': 439970.29811329854, 'y': 4469071.4450746...   \n",
       "..                                                 ...   \n",
       "711  {'x': 425428.02143853245, 'y': 4505104.4082948...   \n",
       "712  {'x': 427092.1915410602, 'y': 4503668.64664819...   \n",
       "713  {'x': 426099.79680161, 'y': 4503222.390862818,...   \n",
       "714  {'x': 418088.48904618004, 'y': 4504590.0128683...   \n",
       "715  {'x': 531221.4397219317, 'y': 4305075.81417691...   \n",
       "\n",
       "                                                 POLYS  index_right  OBJECTID  \\\n",
       "0    {\"rings\": [[[440398.4642000003, 4462604.4892],...         59.0      63.0   \n",
       "1    {\"rings\": [[[444113.66309999954, 4453163.1712]...         64.0      68.0   \n",
       "2    {\"rings\": [[[436447.3992999997, 4432868.571], ...         71.0      75.0   \n",
       "3    {\"rings\": [[[434385.5806999998, 4474166.1998],...         58.0      62.0   \n",
       "4    {\"rings\": [[[438303.71279999986, 4469684.0035]...         58.0      62.0   \n",
       "..                                                 ...          ...       ...   \n",
       "711  {\"rings\": [[[424945.5695000002, 4504747.2454],...         23.0      27.0   \n",
       "712  {\"rings\": [[[426353.4841, 4503135.8453], [4263...         25.0      29.0   \n",
       "713  {\"rings\": [[[425548.92899999954, 4502917.7248]...         34.0      38.0   \n",
       "714  {\"rings\": [[[417449.58469999954, 4505538.77260...         20.0      24.0   \n",
       "715  {\"rings\": [[[473273.6588000003, 4276684.8684],...         83.0      87.0   \n",
       "\n",
       "    smallareanumber             smallareaname  \n",
       "0                44              Orem (North)  \n",
       "1              48.2  Provo (East City Center)  \n",
       "2              50.2                    Payson  \n",
       "3                43     Pleasant Grove/Lindon  \n",
       "4                43     Pleasant Grove/Lindon  \n",
       "..              ...                       ...  \n",
       "711              25           South Salt Lake  \n",
       "712            26.2         Millcreek (South)  \n",
       "713              31                    Murray  \n",
       "714            23.1     West Valley (East) V2  \n",
       "715            56.2              Emery County  \n",
       "\n",
       "[716 rows x 20 columns]"
      ]
     },
     "execution_count": 9,
     "metadata": {},
     "output_type": "execute_result"
    }
   ],
   "source": [
    "joined_df"
   ]
  },
  {
   "cell_type": "code",
   "execution_count": 50,
   "id": "da1ce7dd",
   "metadata": {
    "hidden": true
   },
   "outputs": [
    {
     "data": {
      "text/plain": [
       "1"
      ]
     },
     "execution_count": 50,
     "metadata": {},
     "output_type": "execute_result"
    }
   ],
   "source": [
    "joined_df[joined_df.isna().any(axis=1)].shape[0]  #:Number of rows with nan values"
   ]
  },
  {
   "cell_type": "code",
   "execution_count": 51,
   "id": "9c5cc9a7",
   "metadata": {
    "collapsed": true,
    "hidden": true
   },
   "outputs": [
    {
     "data": {
      "text/html": [
       "<div>\n",
       "<style scoped>\n",
       "    .dataframe tbody tr th:only-of-type {\n",
       "        vertical-align: middle;\n",
       "    }\n",
       "\n",
       "    .dataframe tbody tr th {\n",
       "        vertical-align: top;\n",
       "    }\n",
       "\n",
       "    .dataframe thead th {\n",
       "        text-align: right;\n",
       "    }\n",
       "</style>\n",
       "<table border=\"1\" class=\"dataframe\">\n",
       "  <thead>\n",
       "    <tr style=\"text-align: right;\">\n",
       "      <th></th>\n",
       "      <th>xid</th>\n",
       "      <th>statefp20</th>\n",
       "      <th>countyfp20</th>\n",
       "      <th>tractce20</th>\n",
       "      <th>geoid20</th>\n",
       "      <th>name20</th>\n",
       "      <th>namelsad20</th>\n",
       "      <th>mtfcc20</th>\n",
       "      <th>funcstat20</th>\n",
       "      <th>aland20</th>\n",
       "      <th>awater20</th>\n",
       "      <th>intptlat20</th>\n",
       "      <th>intptlon20</th>\n",
       "      <th>SHAPE</th>\n",
       "      <th>CENTROIDS</th>\n",
       "      <th>POLYS</th>\n",
       "      <th>index_right</th>\n",
       "      <th>OBJECTID</th>\n",
       "      <th>smallareanumber</th>\n",
       "      <th>smallareaname</th>\n",
       "    </tr>\n",
       "  </thead>\n",
       "  <tbody>\n",
       "    <tr>\n",
       "      <th>0</th>\n",
       "      <td>1</td>\n",
       "      <td>49</td>\n",
       "      <td>049</td>\n",
       "      <td>000901</td>\n",
       "      <td>49049000901</td>\n",
       "      <td>9.01</td>\n",
       "      <td>Census Tract</td>\n",
       "      <td>G5020</td>\n",
       "      <td>S</td>\n",
       "      <td>1.686016e+06</td>\n",
       "      <td>0.0</td>\n",
       "      <td>+40.3051285</td>\n",
       "      <td>-111.6922978</td>\n",
       "      <td>{\"x\": 441169.29876317625, \"y\": 4461854.3007924...</td>\n",
       "      <td>{'x': 441169.29876317625, 'y': 4461854.3007924...</td>\n",
       "      <td>{\"rings\": [[[440398.4642000003, 4462604.4892],...</td>\n",
       "      <td>59.0</td>\n",
       "      <td>63.0</td>\n",
       "      <td>44</td>\n",
       "      <td>Orem (North)</td>\n",
       "    </tr>\n",
       "    <tr>\n",
       "      <th>1</th>\n",
       "      <td>2</td>\n",
       "      <td>49</td>\n",
       "      <td>049</td>\n",
       "      <td>002500</td>\n",
       "      <td>49049002500</td>\n",
       "      <td>25</td>\n",
       "      <td>Census Tract</td>\n",
       "      <td>G5020</td>\n",
       "      <td>S</td>\n",
       "      <td>1.034541e+06</td>\n",
       "      <td>0.0</td>\n",
       "      <td>+40.2296149</td>\n",
       "      <td>-111.6497278</td>\n",
       "      <td>{\"x\": 444725.4420491648, \"y\": 4453445.15503423...</td>\n",
       "      <td>{'x': 444725.4420491648, 'y': 4453445.15503423...</td>\n",
       "      <td>{\"rings\": [[[444113.66309999954, 4453163.1712]...</td>\n",
       "      <td>64.0</td>\n",
       "      <td>68.0</td>\n",
       "      <td>48.2</td>\n",
       "      <td>Provo (East City Center)</td>\n",
       "    </tr>\n",
       "    <tr>\n",
       "      <th>2</th>\n",
       "      <td>3</td>\n",
       "      <td>49</td>\n",
       "      <td>049</td>\n",
       "      <td>003401</td>\n",
       "      <td>49049003401</td>\n",
       "      <td>34.01</td>\n",
       "      <td>Census Tract</td>\n",
       "      <td>G5020</td>\n",
       "      <td>S</td>\n",
       "      <td>9.085765e+06</td>\n",
       "      <td>23788.0</td>\n",
       "      <td>+40.0560227</td>\n",
       "      <td>-111.7122570</td>\n",
       "      <td>{\"x\": 439257.47857315646, \"y\": 4434122.5080396...</td>\n",
       "      <td>{'x': 439257.47857315646, 'y': 4434122.5080396...</td>\n",
       "      <td>{\"rings\": [[[436447.3992999997, 4432868.571], ...</td>\n",
       "      <td>71.0</td>\n",
       "      <td>75.0</td>\n",
       "      <td>50.2</td>\n",
       "      <td>Payson</td>\n",
       "    </tr>\n",
       "    <tr>\n",
       "      <th>3</th>\n",
       "      <td>4</td>\n",
       "      <td>49</td>\n",
       "      <td>049</td>\n",
       "      <td>010210</td>\n",
       "      <td>49049010210</td>\n",
       "      <td>102.10</td>\n",
       "      <td>Census Tract</td>\n",
       "      <td>G5020</td>\n",
       "      <td>S</td>\n",
       "      <td>1.581048e+07</td>\n",
       "      <td>0.0</td>\n",
       "      <td>+40.4005884</td>\n",
       "      <td>-111.7306856</td>\n",
       "      <td>{\"x\": 437994.61392989865, \"y\": 4472476.4166772...</td>\n",
       "      <td>{'x': 437994.61392989865, 'y': 4472476.4166772...</td>\n",
       "      <td>{\"rings\": [[[434385.5806999998, 4474166.1998],...</td>\n",
       "      <td>58.0</td>\n",
       "      <td>62.0</td>\n",
       "      <td>43</td>\n",
       "      <td>Pleasant Grove/Lindon</td>\n",
       "    </tr>\n",
       "    <tr>\n",
       "      <th>4</th>\n",
       "      <td>5</td>\n",
       "      <td>49</td>\n",
       "      <td>049</td>\n",
       "      <td>000505</td>\n",
       "      <td>49049000505</td>\n",
       "      <td>5.05</td>\n",
       "      <td>Census Tract</td>\n",
       "      <td>G5020</td>\n",
       "      <td>S</td>\n",
       "      <td>3.919712e+06</td>\n",
       "      <td>0.0</td>\n",
       "      <td>+40.3700595</td>\n",
       "      <td>-111.7070846</td>\n",
       "      <td>{\"x\": 439970.29811329854, \"y\": 4469071.4450746...</td>\n",
       "      <td>{'x': 439970.29811329854, 'y': 4469071.4450746...</td>\n",
       "      <td>{\"rings\": [[[438303.71279999986, 4469684.0035]...</td>\n",
       "      <td>58.0</td>\n",
       "      <td>62.0</td>\n",
       "      <td>43</td>\n",
       "      <td>Pleasant Grove/Lindon</td>\n",
       "    </tr>\n",
       "    <tr>\n",
       "      <th>...</th>\n",
       "      <td>...</td>\n",
       "      <td>...</td>\n",
       "      <td>...</td>\n",
       "      <td>...</td>\n",
       "      <td>...</td>\n",
       "      <td>...</td>\n",
       "      <td>...</td>\n",
       "      <td>...</td>\n",
       "      <td>...</td>\n",
       "      <td>...</td>\n",
       "      <td>...</td>\n",
       "      <td>...</td>\n",
       "      <td>...</td>\n",
       "      <td>...</td>\n",
       "      <td>...</td>\n",
       "      <td>...</td>\n",
       "      <td>...</td>\n",
       "      <td>...</td>\n",
       "      <td>...</td>\n",
       "      <td>...</td>\n",
       "    </tr>\n",
       "    <tr>\n",
       "      <th>711</th>\n",
       "      <td>712</td>\n",
       "      <td>49</td>\n",
       "      <td>035</td>\n",
       "      <td>111701</td>\n",
       "      <td>49035111701</td>\n",
       "      <td>1117.01</td>\n",
       "      <td>Census Tract</td>\n",
       "      <td>G5020</td>\n",
       "      <td>S</td>\n",
       "      <td>1.358256e+06</td>\n",
       "      <td>0.0</td>\n",
       "      <td>+40.6934670</td>\n",
       "      <td>-111.8826082</td>\n",
       "      <td>{\"x\": 425428.02143853245, \"y\": 4505104.4082948...</td>\n",
       "      <td>{'x': 425428.02143853245, 'y': 4505104.4082948...</td>\n",
       "      <td>{\"rings\": [[[424945.5695000002, 4504747.2454],...</td>\n",
       "      <td>23.0</td>\n",
       "      <td>27.0</td>\n",
       "      <td>25</td>\n",
       "      <td>South Salt Lake</td>\n",
       "    </tr>\n",
       "    <tr>\n",
       "      <th>712</th>\n",
       "      <td>713</td>\n",
       "      <td>49</td>\n",
       "      <td>035</td>\n",
       "      <td>111903</td>\n",
       "      <td>49035111903</td>\n",
       "      <td>1119.03</td>\n",
       "      <td>Census Tract</td>\n",
       "      <td>G5020</td>\n",
       "      <td>S</td>\n",
       "      <td>2.072253e+06</td>\n",
       "      <td>0.0</td>\n",
       "      <td>+40.6806830</td>\n",
       "      <td>-111.8627470</td>\n",
       "      <td>{\"x\": 427092.1915410602, \"y\": 4503668.64664819...</td>\n",
       "      <td>{'x': 427092.1915410602, 'y': 4503668.64664819...</td>\n",
       "      <td>{\"rings\": [[[426353.4841, 4503135.8453], [4263...</td>\n",
       "      <td>25.0</td>\n",
       "      <td>29.0</td>\n",
       "      <td>26.2</td>\n",
       "      <td>Millcreek (South)</td>\n",
       "    </tr>\n",
       "    <tr>\n",
       "      <th>713</th>\n",
       "      <td>714</td>\n",
       "      <td>49</td>\n",
       "      <td>035</td>\n",
       "      <td>111905</td>\n",
       "      <td>49035111905</td>\n",
       "      <td>1119.05</td>\n",
       "      <td>Census Tract</td>\n",
       "      <td>G5020</td>\n",
       "      <td>S</td>\n",
       "      <td>1.167718e+06</td>\n",
       "      <td>0.0</td>\n",
       "      <td>+40.6765749</td>\n",
       "      <td>-111.8744366</td>\n",
       "      <td>{\"x\": 426099.79680161, \"y\": 4503222.390862818,...</td>\n",
       "      <td>{'x': 426099.79680161, 'y': 4503222.390862818,...</td>\n",
       "      <td>{\"rings\": [[[425548.92899999954, 4502917.7248]...</td>\n",
       "      <td>34.0</td>\n",
       "      <td>38.0</td>\n",
       "      <td>31</td>\n",
       "      <td>Murray</td>\n",
       "    </tr>\n",
       "    <tr>\n",
       "      <th>714</th>\n",
       "      <td>715</td>\n",
       "      <td>49</td>\n",
       "      <td>035</td>\n",
       "      <td>113309</td>\n",
       "      <td>49035113309</td>\n",
       "      <td>1133.09</td>\n",
       "      <td>Census Tract</td>\n",
       "      <td>G5020</td>\n",
       "      <td>S</td>\n",
       "      <td>1.867612e+06</td>\n",
       "      <td>0.0</td>\n",
       "      <td>+40.6881369</td>\n",
       "      <td>-111.9693980</td>\n",
       "      <td>{\"x\": 418088.48904618004, \"y\": 4504590.0128683...</td>\n",
       "      <td>{'x': 418088.48904618004, 'y': 4504590.0128683...</td>\n",
       "      <td>{\"rings\": [[[417449.58469999954, 4505538.77260...</td>\n",
       "      <td>20.0</td>\n",
       "      <td>24.0</td>\n",
       "      <td>23.1</td>\n",
       "      <td>West Valley (East) V2</td>\n",
       "    </tr>\n",
       "    <tr>\n",
       "      <th>715</th>\n",
       "      <td>716</td>\n",
       "      <td>49</td>\n",
       "      <td>015</td>\n",
       "      <td>976500</td>\n",
       "      <td>49015976500</td>\n",
       "      <td>9765</td>\n",
       "      <td>Census Tract</td>\n",
       "      <td>G5020</td>\n",
       "      <td>S</td>\n",
       "      <td>8.782568e+09</td>\n",
       "      <td>14165655.0</td>\n",
       "      <td>+38.9311083</td>\n",
       "      <td>-110.6644589</td>\n",
       "      <td>{\"x\": 531221.4397219317, \"y\": 4305075.81417691...</td>\n",
       "      <td>{'x': 531221.4397219317, 'y': 4305075.81417691...</td>\n",
       "      <td>{\"rings\": [[[473273.6588000003, 4276684.8684],...</td>\n",
       "      <td>83.0</td>\n",
       "      <td>87.0</td>\n",
       "      <td>56.2</td>\n",
       "      <td>Emery County</td>\n",
       "    </tr>\n",
       "  </tbody>\n",
       "</table>\n",
       "<p>715 rows × 20 columns</p>\n",
       "</div>"
      ],
      "text/plain": [
       "     xid statefp20 countyfp20 tractce20      geoid20   name20    namelsad20  \\\n",
       "0      1        49        049    000901  49049000901     9.01  Census Tract   \n",
       "1      2        49        049    002500  49049002500       25  Census Tract   \n",
       "2      3        49        049    003401  49049003401    34.01  Census Tract   \n",
       "3      4        49        049    010210  49049010210   102.10  Census Tract   \n",
       "4      5        49        049    000505  49049000505     5.05  Census Tract   \n",
       "..   ...       ...        ...       ...          ...      ...           ...   \n",
       "711  712        49        035    111701  49035111701  1117.01  Census Tract   \n",
       "712  713        49        035    111903  49035111903  1119.03  Census Tract   \n",
       "713  714        49        035    111905  49035111905  1119.05  Census Tract   \n",
       "714  715        49        035    113309  49035113309  1133.09  Census Tract   \n",
       "715  716        49        015    976500  49015976500     9765  Census Tract   \n",
       "\n",
       "    mtfcc20 funcstat20       aland20    awater20   intptlat20    intptlon20  \\\n",
       "0     G5020          S  1.686016e+06         0.0  +40.3051285  -111.6922978   \n",
       "1     G5020          S  1.034541e+06         0.0  +40.2296149  -111.6497278   \n",
       "2     G5020          S  9.085765e+06     23788.0  +40.0560227  -111.7122570   \n",
       "3     G5020          S  1.581048e+07         0.0  +40.4005884  -111.7306856   \n",
       "4     G5020          S  3.919712e+06         0.0  +40.3700595  -111.7070846   \n",
       "..      ...        ...           ...         ...          ...           ...   \n",
       "711   G5020          S  1.358256e+06         0.0  +40.6934670  -111.8826082   \n",
       "712   G5020          S  2.072253e+06         0.0  +40.6806830  -111.8627470   \n",
       "713   G5020          S  1.167718e+06         0.0  +40.6765749  -111.8744366   \n",
       "714   G5020          S  1.867612e+06         0.0  +40.6881369  -111.9693980   \n",
       "715   G5020          S  8.782568e+09  14165655.0  +38.9311083  -110.6644589   \n",
       "\n",
       "                                                 SHAPE  \\\n",
       "0    {\"x\": 441169.29876317625, \"y\": 4461854.3007924...   \n",
       "1    {\"x\": 444725.4420491648, \"y\": 4453445.15503423...   \n",
       "2    {\"x\": 439257.47857315646, \"y\": 4434122.5080396...   \n",
       "3    {\"x\": 437994.61392989865, \"y\": 4472476.4166772...   \n",
       "4    {\"x\": 439970.29811329854, \"y\": 4469071.4450746...   \n",
       "..                                                 ...   \n",
       "711  {\"x\": 425428.02143853245, \"y\": 4505104.4082948...   \n",
       "712  {\"x\": 427092.1915410602, \"y\": 4503668.64664819...   \n",
       "713  {\"x\": 426099.79680161, \"y\": 4503222.390862818,...   \n",
       "714  {\"x\": 418088.48904618004, \"y\": 4504590.0128683...   \n",
       "715  {\"x\": 531221.4397219317, \"y\": 4305075.81417691...   \n",
       "\n",
       "                                             CENTROIDS  \\\n",
       "0    {'x': 441169.29876317625, 'y': 4461854.3007924...   \n",
       "1    {'x': 444725.4420491648, 'y': 4453445.15503423...   \n",
       "2    {'x': 439257.47857315646, 'y': 4434122.5080396...   \n",
       "3    {'x': 437994.61392989865, 'y': 4472476.4166772...   \n",
       "4    {'x': 439970.29811329854, 'y': 4469071.4450746...   \n",
       "..                                                 ...   \n",
       "711  {'x': 425428.02143853245, 'y': 4505104.4082948...   \n",
       "712  {'x': 427092.1915410602, 'y': 4503668.64664819...   \n",
       "713  {'x': 426099.79680161, 'y': 4503222.390862818,...   \n",
       "714  {'x': 418088.48904618004, 'y': 4504590.0128683...   \n",
       "715  {'x': 531221.4397219317, 'y': 4305075.81417691...   \n",
       "\n",
       "                                                 POLYS  index_right  OBJECTID  \\\n",
       "0    {\"rings\": [[[440398.4642000003, 4462604.4892],...         59.0      63.0   \n",
       "1    {\"rings\": [[[444113.66309999954, 4453163.1712]...         64.0      68.0   \n",
       "2    {\"rings\": [[[436447.3992999997, 4432868.571], ...         71.0      75.0   \n",
       "3    {\"rings\": [[[434385.5806999998, 4474166.1998],...         58.0      62.0   \n",
       "4    {\"rings\": [[[438303.71279999986, 4469684.0035]...         58.0      62.0   \n",
       "..                                                 ...          ...       ...   \n",
       "711  {\"rings\": [[[424945.5695000002, 4504747.2454],...         23.0      27.0   \n",
       "712  {\"rings\": [[[426353.4841, 4503135.8453], [4263...         25.0      29.0   \n",
       "713  {\"rings\": [[[425548.92899999954, 4502917.7248]...         34.0      38.0   \n",
       "714  {\"rings\": [[[417449.58469999954, 4505538.77260...         20.0      24.0   \n",
       "715  {\"rings\": [[[473273.6588000003, 4276684.8684],...         83.0      87.0   \n",
       "\n",
       "    smallareanumber             smallareaname  \n",
       "0                44              Orem (North)  \n",
       "1              48.2  Provo (East City Center)  \n",
       "2              50.2                    Payson  \n",
       "3                43     Pleasant Grove/Lindon  \n",
       "4                43     Pleasant Grove/Lindon  \n",
       "..              ...                       ...  \n",
       "711              25           South Salt Lake  \n",
       "712            26.2         Millcreek (South)  \n",
       "713              31                    Murray  \n",
       "714            23.1     West Valley (East) V2  \n",
       "715            56.2              Emery County  \n",
       "\n",
       "[715 rows x 20 columns]"
      ]
     },
     "execution_count": 51,
     "metadata": {},
     "output_type": "execute_result"
    }
   ],
   "source": [
    "joined_df[joined_df['smallareaname'].notna()]"
   ]
  },
  {
   "cell_type": "code",
   "execution_count": 10,
   "id": "08f26711",
   "metadata": {
    "hidden": true
   },
   "outputs": [],
   "source": [
    "joined_inner_df = tracts_df.spatial.join(areas_df, 'inner', 'within')"
   ]
  },
  {
   "cell_type": "code",
   "execution_count": 11,
   "id": "fd8c1bd1",
   "metadata": {
    "hidden": true
   },
   "outputs": [
    {
     "data": {
      "text/html": [
       "<div>\n",
       "<style scoped>\n",
       "    .dataframe tbody tr th:only-of-type {\n",
       "        vertical-align: middle;\n",
       "    }\n",
       "\n",
       "    .dataframe tbody tr th {\n",
       "        vertical-align: top;\n",
       "    }\n",
       "\n",
       "    .dataframe thead th {\n",
       "        text-align: right;\n",
       "    }\n",
       "</style>\n",
       "<table border=\"1\" class=\"dataframe\">\n",
       "  <thead>\n",
       "    <tr style=\"text-align: right;\">\n",
       "      <th></th>\n",
       "      <th>xid</th>\n",
       "      <th>statefp20</th>\n",
       "      <th>countyfp20</th>\n",
       "      <th>tractce20</th>\n",
       "      <th>geoid20</th>\n",
       "      <th>name20</th>\n",
       "      <th>namelsad20</th>\n",
       "      <th>mtfcc20</th>\n",
       "      <th>funcstat20</th>\n",
       "      <th>aland20</th>\n",
       "      <th>awater20</th>\n",
       "      <th>intptlat20</th>\n",
       "      <th>intptlon20</th>\n",
       "      <th>SHAPE</th>\n",
       "      <th>CENTROIDS</th>\n",
       "      <th>POLYS</th>\n",
       "      <th>index_right</th>\n",
       "      <th>OBJECTID</th>\n",
       "      <th>smallareanumber</th>\n",
       "      <th>smallareaname</th>\n",
       "    </tr>\n",
       "  </thead>\n",
       "  <tbody>\n",
       "    <tr>\n",
       "      <th>0</th>\n",
       "      <td>1</td>\n",
       "      <td>49</td>\n",
       "      <td>049</td>\n",
       "      <td>000901</td>\n",
       "      <td>49049000901</td>\n",
       "      <td>9.01</td>\n",
       "      <td>Census Tract</td>\n",
       "      <td>G5020</td>\n",
       "      <td>S</td>\n",
       "      <td>1.686016e+06</td>\n",
       "      <td>0.0</td>\n",
       "      <td>+40.3051285</td>\n",
       "      <td>-111.6922978</td>\n",
       "      <td>{\"x\": 441169.29876317625, \"y\": 4461854.3007924...</td>\n",
       "      <td>{'x': 441169.29876317625, 'y': 4461854.3007924...</td>\n",
       "      <td>{'rings': [[[440398.4642000003, 4462604.4892],...</td>\n",
       "      <td>59</td>\n",
       "      <td>63</td>\n",
       "      <td>44</td>\n",
       "      <td>Orem (North)</td>\n",
       "    </tr>\n",
       "    <tr>\n",
       "      <th>1</th>\n",
       "      <td>13</td>\n",
       "      <td>49</td>\n",
       "      <td>049</td>\n",
       "      <td>000703</td>\n",
       "      <td>49049000703</td>\n",
       "      <td>7.03</td>\n",
       "      <td>Census Tract</td>\n",
       "      <td>G5020</td>\n",
       "      <td>S</td>\n",
       "      <td>1.831747e+06</td>\n",
       "      <td>0.0</td>\n",
       "      <td>+40.3156465</td>\n",
       "      <td>-111.6899270</td>\n",
       "      <td>{\"x\": 441379.8662237534, \"y\": 4463020.20262828...</td>\n",
       "      <td>{'x': 441379.8662237534, 'y': 4463020.20262828...</td>\n",
       "      <td>{'rings': [[[440128.60699999984, 4463430.2863]...</td>\n",
       "      <td>59</td>\n",
       "      <td>63</td>\n",
       "      <td>44</td>\n",
       "      <td>Orem (North)</td>\n",
       "    </tr>\n",
       "    <tr>\n",
       "      <th>2</th>\n",
       "      <td>123</td>\n",
       "      <td>49</td>\n",
       "      <td>049</td>\n",
       "      <td>000707</td>\n",
       "      <td>49049000707</td>\n",
       "      <td>7.07</td>\n",
       "      <td>Census Tract</td>\n",
       "      <td>G5020</td>\n",
       "      <td>S</td>\n",
       "      <td>1.532480e+06</td>\n",
       "      <td>0.0</td>\n",
       "      <td>+40.3258061</td>\n",
       "      <td>-111.7137593</td>\n",
       "      <td>{\"x\": 439364.00949996844, \"y\": 4464163.9476659...</td>\n",
       "      <td>{'x': 439364.00949996844, 'y': 4464163.9476659...</td>\n",
       "      <td>{'rings': [[[438670.8861999996, 4464615.9099],...</td>\n",
       "      <td>59</td>\n",
       "      <td>63</td>\n",
       "      <td>44</td>\n",
       "      <td>Orem (North)</td>\n",
       "    </tr>\n",
       "    <tr>\n",
       "      <th>3</th>\n",
       "      <td>124</td>\n",
       "      <td>49</td>\n",
       "      <td>049</td>\n",
       "      <td>000801</td>\n",
       "      <td>49049000801</td>\n",
       "      <td>8.01</td>\n",
       "      <td>Census Tract</td>\n",
       "      <td>G5020</td>\n",
       "      <td>S</td>\n",
       "      <td>1.833326e+06</td>\n",
       "      <td>0.0</td>\n",
       "      <td>+40.3081523</td>\n",
       "      <td>-111.7127586</td>\n",
       "      <td>{\"x\": 439433.2507907797, \"y\": 4462203.73230499...</td>\n",
       "      <td>{'x': 439433.2507907797, 'y': 4462203.73230499...</td>\n",
       "      <td>{'rings': [[[438328.6040000003, 4462625.9417],...</td>\n",
       "      <td>59</td>\n",
       "      <td>63</td>\n",
       "      <td>44</td>\n",
       "      <td>Orem (North)</td>\n",
       "    </tr>\n",
       "    <tr>\n",
       "      <th>4</th>\n",
       "      <td>125</td>\n",
       "      <td>49</td>\n",
       "      <td>049</td>\n",
       "      <td>000706</td>\n",
       "      <td>49049000706</td>\n",
       "      <td>7.06</td>\n",
       "      <td>Census Tract</td>\n",
       "      <td>G5020</td>\n",
       "      <td>S</td>\n",
       "      <td>2.184751e+06</td>\n",
       "      <td>0.0</td>\n",
       "      <td>+40.3177123</td>\n",
       "      <td>-111.7170691</td>\n",
       "      <td>{\"x\": 439075.5541741788, \"y\": 4463267.82426487...</td>\n",
       "      <td>{'x': 439075.5541741788, 'y': 4463267.82426487...</td>\n",
       "      <td>{'rings': [[[437849.7767000003, 4464232.577500...</td>\n",
       "      <td>59</td>\n",
       "      <td>63</td>\n",
       "      <td>44</td>\n",
       "      <td>Orem (North)</td>\n",
       "    </tr>\n",
       "    <tr>\n",
       "      <th>...</th>\n",
       "      <td>...</td>\n",
       "      <td>...</td>\n",
       "      <td>...</td>\n",
       "      <td>...</td>\n",
       "      <td>...</td>\n",
       "      <td>...</td>\n",
       "      <td>...</td>\n",
       "      <td>...</td>\n",
       "      <td>...</td>\n",
       "      <td>...</td>\n",
       "      <td>...</td>\n",
       "      <td>...</td>\n",
       "      <td>...</td>\n",
       "      <td>...</td>\n",
       "      <td>...</td>\n",
       "      <td>...</td>\n",
       "      <td>...</td>\n",
       "      <td>...</td>\n",
       "      <td>...</td>\n",
       "      <td>...</td>\n",
       "    </tr>\n",
       "    <tr>\n",
       "      <th>710</th>\n",
       "      <td>716</td>\n",
       "      <td>49</td>\n",
       "      <td>015</td>\n",
       "      <td>976500</td>\n",
       "      <td>49015976500</td>\n",
       "      <td>9765</td>\n",
       "      <td>Census Tract</td>\n",
       "      <td>G5020</td>\n",
       "      <td>S</td>\n",
       "      <td>8.782568e+09</td>\n",
       "      <td>14165655.0</td>\n",
       "      <td>+38.9311083</td>\n",
       "      <td>-110.6644589</td>\n",
       "      <td>{\"x\": 531221.4397219317, \"y\": 4305075.81417691...</td>\n",
       "      <td>{'x': 531221.4397219317, 'y': 4305075.81417691...</td>\n",
       "      <td>{'rings': [[[473273.6588000003, 4276684.8684],...</td>\n",
       "      <td>83</td>\n",
       "      <td>87</td>\n",
       "      <td>56.2</td>\n",
       "      <td>Emery County</td>\n",
       "    </tr>\n",
       "    <tr>\n",
       "      <th>711</th>\n",
       "      <td>651</td>\n",
       "      <td>49</td>\n",
       "      <td>037</td>\n",
       "      <td>978200</td>\n",
       "      <td>49037978200</td>\n",
       "      <td>9782</td>\n",
       "      <td>Census Tract</td>\n",
       "      <td>G5020</td>\n",
       "      <td>S</td>\n",
       "      <td>9.296421e+09</td>\n",
       "      <td>192709561.0</td>\n",
       "      <td>+37.6174788</td>\n",
       "      <td>-109.9834213</td>\n",
       "      <td>{\"x\": 589598.9234787896, \"y\": 4162715.97376665...</td>\n",
       "      <td>{'x': 589598.9234787896, 'y': 4162715.97376665...</td>\n",
       "      <td>{'rings': [[[508811.7142000003, 4114325.200899...</td>\n",
       "      <td>86</td>\n",
       "      <td>90</td>\n",
       "      <td>57.4</td>\n",
       "      <td>San Juan County (Other)</td>\n",
       "    </tr>\n",
       "    <tr>\n",
       "      <th>712</th>\n",
       "      <td>652</td>\n",
       "      <td>49</td>\n",
       "      <td>037</td>\n",
       "      <td>942100</td>\n",
       "      <td>49037942100</td>\n",
       "      <td>9421</td>\n",
       "      <td>Census Tract</td>\n",
       "      <td>G5020</td>\n",
       "      <td>S</td>\n",
       "      <td>2.962764e+09</td>\n",
       "      <td>74416830.0</td>\n",
       "      <td>+37.1031945</td>\n",
       "      <td>-110.3979381</td>\n",
       "      <td>{\"x\": 553426.9994610251, \"y\": 4107382.06255905...</td>\n",
       "      <td>{'x': 553426.9994610251, 'y': 4107382.06255905...</td>\n",
       "      <td>{'rings': [[[463282.94570000004, 4095174.705],...</td>\n",
       "      <td>86</td>\n",
       "      <td>90</td>\n",
       "      <td>57.4</td>\n",
       "      <td>San Juan County (Other)</td>\n",
       "    </tr>\n",
       "    <tr>\n",
       "      <th>713</th>\n",
       "      <td>654</td>\n",
       "      <td>49</td>\n",
       "      <td>037</td>\n",
       "      <td>942000</td>\n",
       "      <td>49037942000</td>\n",
       "      <td>9420</td>\n",
       "      <td>Census Tract</td>\n",
       "      <td>G5020</td>\n",
       "      <td>S</td>\n",
       "      <td>2.220605e+09</td>\n",
       "      <td>8760375.0</td>\n",
       "      <td>+37.1948026</td>\n",
       "      <td>-109.3389774</td>\n",
       "      <td>{\"x\": 646718.0546056273, \"y\": 4116071.81085491...</td>\n",
       "      <td>{'x': 646718.0546056273, 'y': 4116071.81085491...</td>\n",
       "      <td>{'rings': [[[612062.9029999999, 4111103.7786],...</td>\n",
       "      <td>86</td>\n",
       "      <td>90</td>\n",
       "      <td>57.4</td>\n",
       "      <td>San Juan County (Other)</td>\n",
       "    </tr>\n",
       "    <tr>\n",
       "      <th>714</th>\n",
       "      <td>653</td>\n",
       "      <td>49</td>\n",
       "      <td>037</td>\n",
       "      <td>978100</td>\n",
       "      <td>49037978100</td>\n",
       "      <td>9781</td>\n",
       "      <td>Census Tract</td>\n",
       "      <td>G5020</td>\n",
       "      <td>S</td>\n",
       "      <td>5.773384e+09</td>\n",
       "      <td>17931507.0</td>\n",
       "      <td>+38.1009569</td>\n",
       "      <td>-109.3743934</td>\n",
       "      <td>{\"x\": 642266.7011735539, \"y\": 4217224.44717875...</td>\n",
       "      <td>{'x': 642266.7011735539, 'y': 4217224.44717875...</td>\n",
       "      <td>{'rings': [[[583369.1594000002, 4256468.832], ...</td>\n",
       "      <td>85</td>\n",
       "      <td>89</td>\n",
       "      <td>57.3</td>\n",
       "      <td>Blanding/Monticello</td>\n",
       "    </tr>\n",
       "  </tbody>\n",
       "</table>\n",
       "<p>715 rows × 20 columns</p>\n",
       "</div>"
      ],
      "text/plain": [
       "     xid statefp20 countyfp20 tractce20      geoid20 name20    namelsad20  \\\n",
       "0      1        49        049    000901  49049000901   9.01  Census Tract   \n",
       "1     13        49        049    000703  49049000703   7.03  Census Tract   \n",
       "2    123        49        049    000707  49049000707   7.07  Census Tract   \n",
       "3    124        49        049    000801  49049000801   8.01  Census Tract   \n",
       "4    125        49        049    000706  49049000706   7.06  Census Tract   \n",
       "..   ...       ...        ...       ...          ...    ...           ...   \n",
       "710  716        49        015    976500  49015976500   9765  Census Tract   \n",
       "711  651        49        037    978200  49037978200   9782  Census Tract   \n",
       "712  652        49        037    942100  49037942100   9421  Census Tract   \n",
       "713  654        49        037    942000  49037942000   9420  Census Tract   \n",
       "714  653        49        037    978100  49037978100   9781  Census Tract   \n",
       "\n",
       "    mtfcc20 funcstat20       aland20     awater20   intptlat20    intptlon20  \\\n",
       "0     G5020          S  1.686016e+06          0.0  +40.3051285  -111.6922978   \n",
       "1     G5020          S  1.831747e+06          0.0  +40.3156465  -111.6899270   \n",
       "2     G5020          S  1.532480e+06          0.0  +40.3258061  -111.7137593   \n",
       "3     G5020          S  1.833326e+06          0.0  +40.3081523  -111.7127586   \n",
       "4     G5020          S  2.184751e+06          0.0  +40.3177123  -111.7170691   \n",
       "..      ...        ...           ...          ...          ...           ...   \n",
       "710   G5020          S  8.782568e+09   14165655.0  +38.9311083  -110.6644589   \n",
       "711   G5020          S  9.296421e+09  192709561.0  +37.6174788  -109.9834213   \n",
       "712   G5020          S  2.962764e+09   74416830.0  +37.1031945  -110.3979381   \n",
       "713   G5020          S  2.220605e+09    8760375.0  +37.1948026  -109.3389774   \n",
       "714   G5020          S  5.773384e+09   17931507.0  +38.1009569  -109.3743934   \n",
       "\n",
       "                                                 SHAPE  \\\n",
       "0    {\"x\": 441169.29876317625, \"y\": 4461854.3007924...   \n",
       "1    {\"x\": 441379.8662237534, \"y\": 4463020.20262828...   \n",
       "2    {\"x\": 439364.00949996844, \"y\": 4464163.9476659...   \n",
       "3    {\"x\": 439433.2507907797, \"y\": 4462203.73230499...   \n",
       "4    {\"x\": 439075.5541741788, \"y\": 4463267.82426487...   \n",
       "..                                                 ...   \n",
       "710  {\"x\": 531221.4397219317, \"y\": 4305075.81417691...   \n",
       "711  {\"x\": 589598.9234787896, \"y\": 4162715.97376665...   \n",
       "712  {\"x\": 553426.9994610251, \"y\": 4107382.06255905...   \n",
       "713  {\"x\": 646718.0546056273, \"y\": 4116071.81085491...   \n",
       "714  {\"x\": 642266.7011735539, \"y\": 4217224.44717875...   \n",
       "\n",
       "                                             CENTROIDS  \\\n",
       "0    {'x': 441169.29876317625, 'y': 4461854.3007924...   \n",
       "1    {'x': 441379.8662237534, 'y': 4463020.20262828...   \n",
       "2    {'x': 439364.00949996844, 'y': 4464163.9476659...   \n",
       "3    {'x': 439433.2507907797, 'y': 4462203.73230499...   \n",
       "4    {'x': 439075.5541741788, 'y': 4463267.82426487...   \n",
       "..                                                 ...   \n",
       "710  {'x': 531221.4397219317, 'y': 4305075.81417691...   \n",
       "711  {'x': 589598.9234787896, 'y': 4162715.97376665...   \n",
       "712  {'x': 553426.9994610251, 'y': 4107382.06255905...   \n",
       "713  {'x': 646718.0546056273, 'y': 4116071.81085491...   \n",
       "714  {'x': 642266.7011735539, 'y': 4217224.44717875...   \n",
       "\n",
       "                                                 POLYS  index_right  OBJECTID  \\\n",
       "0    {'rings': [[[440398.4642000003, 4462604.4892],...           59        63   \n",
       "1    {'rings': [[[440128.60699999984, 4463430.2863]...           59        63   \n",
       "2    {'rings': [[[438670.8861999996, 4464615.9099],...           59        63   \n",
       "3    {'rings': [[[438328.6040000003, 4462625.9417],...           59        63   \n",
       "4    {'rings': [[[437849.7767000003, 4464232.577500...           59        63   \n",
       "..                                                 ...          ...       ...   \n",
       "710  {'rings': [[[473273.6588000003, 4276684.8684],...           83        87   \n",
       "711  {'rings': [[[508811.7142000003, 4114325.200899...           86        90   \n",
       "712  {'rings': [[[463282.94570000004, 4095174.705],...           86        90   \n",
       "713  {'rings': [[[612062.9029999999, 4111103.7786],...           86        90   \n",
       "714  {'rings': [[[583369.1594000002, 4256468.832], ...           85        89   \n",
       "\n",
       "    smallareanumber            smallareaname  \n",
       "0                44             Orem (North)  \n",
       "1                44             Orem (North)  \n",
       "2                44             Orem (North)  \n",
       "3                44             Orem (North)  \n",
       "4                44             Orem (North)  \n",
       "..              ...                      ...  \n",
       "710            56.2             Emery County  \n",
       "711            57.4  San Juan County (Other)  \n",
       "712            57.4  San Juan County (Other)  \n",
       "713            57.4  San Juan County (Other)  \n",
       "714            57.3      Blanding/Monticello  \n",
       "\n",
       "[715 rows x 20 columns]"
      ]
     },
     "execution_count": 11,
     "metadata": {},
     "output_type": "execute_result"
    }
   ],
   "source": [
    "joined_inner_df"
   ]
  },
  {
   "cell_type": "code",
   "execution_count": 12,
   "id": "83cb494b",
   "metadata": {
    "collapsed": true,
    "hidden": true
   },
   "outputs": [
    {
     "data": {
      "text/plain": [
       "smallareaname\n",
       "Alpine                          8.864834e+07\n",
       "American Fork                   5.599178e+07\n",
       "Ben Lomond                      3.395271e+08\n",
       "Blanding/Monticello             5.773384e+09\n",
       "Bountiful                       9.298409e+07\n",
       "                                    ...     \n",
       "West Jordan (West)/Copperton    2.316268e+07\n",
       "West Valley (Center)            1.631328e+07\n",
       "West Valley (East) V2           2.805217e+07\n",
       "West Valley (West) V2           3.281206e+07\n",
       "Woods Cross/West Bountiful      3.164638e+07\n",
       "Name: aland20, Length: 99, dtype: float64"
      ]
     },
     "execution_count": 12,
     "metadata": {},
     "output_type": "execute_result"
    }
   ],
   "source": [
    "joined_inner_df.groupby('smallareaname')['aland20'].sum()"
   ]
  },
  {
   "cell_type": "code",
   "execution_count": 44,
   "id": "06aec0be",
   "metadata": {
    "hidden": true
   },
   "outputs": [],
   "source": [
    "areas_inner_df = areas_df.spatial.join(tracts_df, 'inner', 'contains')\n",
    "aland_sum = areas_inner_df.groupby('smallareaname')['aland20'].sum()\n",
    "awater_sum = areas_inner_df.groupby('smallareaname')['awater20'].sum()"
   ]
  },
  {
   "cell_type": "code",
   "execution_count": 60,
   "id": "02d0d669",
   "metadata": {
    "hidden": true
   },
   "outputs": [],
   "source": [
    "combo_df = areas_df.copy()"
   ]
  },
  {
   "cell_type": "code",
   "execution_count": 69,
   "id": "f38119d5",
   "metadata": {
    "hidden": true
   },
   "outputs": [
    {
     "data": {
      "text/html": [
       "<div>\n",
       "<style scoped>\n",
       "    .dataframe tbody tr th:only-of-type {\n",
       "        vertical-align: middle;\n",
       "    }\n",
       "\n",
       "    .dataframe tbody tr th {\n",
       "        vertical-align: top;\n",
       "    }\n",
       "\n",
       "    .dataframe thead th {\n",
       "        text-align: right;\n",
       "    }\n",
       "</style>\n",
       "<table border=\"1\" class=\"dataframe\">\n",
       "  <thead>\n",
       "    <tr style=\"text-align: right;\">\n",
       "      <th></th>\n",
       "      <th>OBJECTID</th>\n",
       "      <th>smallareanumber</th>\n",
       "      <th>smallareaname</th>\n",
       "      <th>SHAPE</th>\n",
       "    </tr>\n",
       "  </thead>\n",
       "  <tbody>\n",
       "    <tr>\n",
       "      <th>57</th>\n",
       "      <td>61</td>\n",
       "      <td>42.2</td>\n",
       "      <td>Alpine</td>\n",
       "      <td>{\"rings\": [[[439836.0700000003, 4487116.82], [...</td>\n",
       "    </tr>\n",
       "    <tr>\n",
       "      <th>56</th>\n",
       "      <td>60</td>\n",
       "      <td>42.1</td>\n",
       "      <td>American Fork</td>\n",
       "      <td>{\"rings\": [[[439487.78000000026, 4479946.93], ...</td>\n",
       "    </tr>\n",
       "    <tr>\n",
       "      <th>69</th>\n",
       "      <td>73</td>\n",
       "      <td>5</td>\n",
       "      <td>Ben Lomond</td>\n",
       "      <td>{\"rings\": [[[405343.53000000026, 4576771.42], ...</td>\n",
       "    </tr>\n",
       "    <tr>\n",
       "      <th>85</th>\n",
       "      <td>89</td>\n",
       "      <td>57.3</td>\n",
       "      <td>Blanding/Monticello</td>\n",
       "      <td>{\"rings\": [[[647234.3200000003, 4242568.18], [...</td>\n",
       "    </tr>\n",
       "    <tr>\n",
       "      <th>10</th>\n",
       "      <td>14</td>\n",
       "      <td>16</td>\n",
       "      <td>Bountiful</td>\n",
       "      <td>{\"rings\": [[[433248, 4530334.6], [433240, 4530...</td>\n",
       "    </tr>\n",
       "    <tr>\n",
       "      <th>...</th>\n",
       "      <td>...</td>\n",
       "      <td>...</td>\n",
       "      <td>...</td>\n",
       "      <td>...</td>\n",
       "    </tr>\n",
       "    <tr>\n",
       "      <th>38</th>\n",
       "      <td>42</td>\n",
       "      <td>34.2</td>\n",
       "      <td>West Jordan (West)/Copperton</td>\n",
       "      <td>{\"rings\": [[[408316.4400000004, 4501536.75], [...</td>\n",
       "    </tr>\n",
       "    <tr>\n",
       "      <th>18</th>\n",
       "      <td>22</td>\n",
       "      <td>22.1</td>\n",
       "      <td>West Valley (Center)</td>\n",
       "      <td>{\"rings\": [[[417478.2999999998, 4508850.199999...</td>\n",
       "    </tr>\n",
       "    <tr>\n",
       "      <th>20</th>\n",
       "      <td>24</td>\n",
       "      <td>23.1</td>\n",
       "      <td>West Valley (East) V2</td>\n",
       "      <td>{\"rings\": [[[423261.2400000002, 4508781.26], [...</td>\n",
       "    </tr>\n",
       "    <tr>\n",
       "      <th>19</th>\n",
       "      <td>23</td>\n",
       "      <td>22.2</td>\n",
       "      <td>West Valley (West) V2</td>\n",
       "      <td>{\"rings\": [[[413492.6500000004, 4508812.74], [...</td>\n",
       "    </tr>\n",
       "    <tr>\n",
       "      <th>9</th>\n",
       "      <td>13</td>\n",
       "      <td>15.2</td>\n",
       "      <td>Woods Cross/West Bountiful</td>\n",
       "      <td>{\"rings\": [[[424877.6200000001, 4528774.23], [...</td>\n",
       "    </tr>\n",
       "  </tbody>\n",
       "</table>\n",
       "<p>99 rows × 4 columns</p>\n",
       "</div>"
      ],
      "text/plain": [
       "    OBJECTID smallareanumber                 smallareaname  \\\n",
       "57        61            42.2                        Alpine   \n",
       "56        60            42.1                 American Fork   \n",
       "69        73               5                    Ben Lomond   \n",
       "85        89            57.3           Blanding/Monticello   \n",
       "10        14              16                     Bountiful   \n",
       "..       ...             ...                           ...   \n",
       "38        42            34.2  West Jordan (West)/Copperton   \n",
       "18        22            22.1          West Valley (Center)   \n",
       "20        24            23.1         West Valley (East) V2   \n",
       "19        23            22.2         West Valley (West) V2   \n",
       "9         13            15.2    Woods Cross/West Bountiful   \n",
       "\n",
       "                                                SHAPE  \n",
       "57  {\"rings\": [[[439836.0700000003, 4487116.82], [...  \n",
       "56  {\"rings\": [[[439487.78000000026, 4479946.93], ...  \n",
       "69  {\"rings\": [[[405343.53000000026, 4576771.42], ...  \n",
       "85  {\"rings\": [[[647234.3200000003, 4242568.18], [...  \n",
       "10  {\"rings\": [[[433248, 4530334.6], [433240, 4530...  \n",
       "..                                                ...  \n",
       "38  {\"rings\": [[[408316.4400000004, 4501536.75], [...  \n",
       "18  {\"rings\": [[[417478.2999999998, 4508850.199999...  \n",
       "20  {\"rings\": [[[423261.2400000002, 4508781.26], [...  \n",
       "19  {\"rings\": [[[413492.6500000004, 4508812.74], [...  \n",
       "9   {\"rings\": [[[424877.6200000001, 4528774.23], [...  \n",
       "\n",
       "[99 rows x 4 columns]"
      ]
     },
     "execution_count": 69,
     "metadata": {},
     "output_type": "execute_result"
    }
   ],
   "source": [
    "combo_df.sort_values(by='smallareaname', inplace=True)\n",
    "combo_df"
   ]
  },
  {
   "cell_type": "code",
   "execution_count": 74,
   "id": "b4e7912b",
   "metadata": {
    "hidden": true
   },
   "outputs": [
    {
     "name": "stdout",
     "output_type": "stream",
     "text": [
      "<class 'pandas.core.frame.DataFrame'>\n",
      "RangeIndex: 716 entries, 0 to 715\n",
      "Data columns (total 14 columns):\n",
      " #   Column      Non-Null Count  Dtype   \n",
      "---  ------      --------------  -----   \n",
      " 0   xid         716 non-null    int64   \n",
      " 1   statefp20   716 non-null    object  \n",
      " 2   countyfp20  716 non-null    object  \n",
      " 3   tractce20   716 non-null    object  \n",
      " 4   geoid20     716 non-null    object  \n",
      " 5   name20      716 non-null    object  \n",
      " 6   namelsad20  716 non-null    object  \n",
      " 7   mtfcc20     716 non-null    object  \n",
      " 8   funcstat20  716 non-null    object  \n",
      " 9   aland20     716 non-null    float64 \n",
      " 10  awater20    716 non-null    float64 \n",
      " 11  intptlat20  716 non-null    object  \n",
      " 12  intptlon20  716 non-null    object  \n",
      " 13  SHAPE       716 non-null    geometry\n",
      "dtypes: float64(2), geometry(1), int64(1), object(10)\n",
      "memory usage: 78.4+ KB\n"
     ]
    }
   ],
   "source": [
    "tracts_df.info()"
   ]
  },
  {
   "cell_type": "code",
   "execution_count": null,
   "id": "6463a2b9",
   "metadata": {
    "hidden": true
   },
   "outputs": [],
   "source": []
  },
  {
   "cell_type": "code",
   "execution_count": null,
   "id": "b1cfdac3",
   "metadata": {
    "hidden": true
   },
   "outputs": [],
   "source": []
  },
  {
   "cell_type": "code",
   "execution_count": null,
   "id": "8811003f",
   "metadata": {
    "hidden": true
   },
   "outputs": [],
   "source": []
  },
  {
   "cell_type": "code",
   "execution_count": null,
   "id": "84083357",
   "metadata": {
    "hidden": true
   },
   "outputs": [],
   "source": []
  },
  {
   "cell_type": "markdown",
   "id": "ae95f13c",
   "metadata": {
    "heading_collapsed": true
   },
   "source": [
    "# Davis testing"
   ]
  },
  {
   "cell_type": "code",
   "execution_count": 15,
   "id": "747220c2",
   "metadata": {
    "hidden": true
   },
   "outputs": [],
   "source": [
    "davis_parcels_fc = r'C:\\gis\\git\\housing-unit-inventory\\Parcels\\2020-Davis\\Inputs\\Davis_County_LIR_Parcels.gdb\\Parcels_Davis_LIR_UTM12'\n",
    "davis_common_areas_fc = r'C:\\gis\\git\\housing-unit-inventory\\Parcels\\2020-Davis\\Inputs\\Common_Areas.gdb\\Common_Areas_Reviewed'\n"
   ]
  },
  {
   "cell_type": "code",
   "execution_count": 16,
   "id": "64b191bc",
   "metadata": {
    "hidden": true
   },
   "outputs": [],
   "source": [
    "davis_parcels_df = pd.DataFrame.spatial.from_featureclass(davis_parcels_fc)\n",
    "davis_common_areas_df = pd.DataFrame.spatial.from_featureclass(davis_common_areas_fc)"
   ]
  },
  {
   "cell_type": "code",
   "execution_count": 5,
   "id": "a1497f74",
   "metadata": {
    "hidden": true
   },
   "outputs": [
    {
     "data": {
      "text/plain": [
       "(119357, 30)"
      ]
     },
     "execution_count": 5,
     "metadata": {},
     "output_type": "execute_result"
    }
   ],
   "source": [
    "davis_parcels_df.shape"
   ]
  },
  {
   "cell_type": "code",
   "execution_count": 6,
   "id": "4fa17783",
   "metadata": {
    "hidden": true
   },
   "outputs": [
    {
     "data": {
      "text/plain": [
       "(574, 6)"
      ]
     },
     "execution_count": 6,
     "metadata": {},
     "output_type": "execute_result"
    }
   ],
   "source": [
    "davis_common_areas_df.shape"
   ]
  },
  {
   "cell_type": "code",
   "execution_count": 77,
   "id": "98a53865",
   "metadata": {
    "hidden": true
   },
   "outputs": [],
   "source": [
    "davis_dissolved_parcels_df = _dissolve_duplicate_parcels(davis_parcels_fc)"
   ]
  },
  {
   "cell_type": "code",
   "execution_count": 78,
   "id": "f369a980",
   "metadata": {
    "hidden": true
   },
   "outputs": [],
   "source": [
    "davis_parcels_df = davis_dissolved_parcels_df.copy()\n",
    "davis_parcels_df['CENTROIDS'] = davis_parcels_df['SHAPE'].apply(\n",
    "    lambda shape: Geometry({\n",
    "        'x': shape.centroid[0],\n",
    "        'y': shape.centroid[1],\n",
    "        'spatialReference': shape.spatial_reference\n",
    "    })\n",
    ")"
   ]
  },
  {
   "cell_type": "code",
   "execution_count": 79,
   "id": "2ec89f82",
   "metadata": {
    "hidden": true
   },
   "outputs": [],
   "source": [
    "_change_geometry(davis_parcels_df, 'CENTROIDS', 'POLYS')"
   ]
  },
  {
   "cell_type": "code",
   "execution_count": 9,
   "id": "94e2e394",
   "metadata": {
    "collapsed": true,
    "hidden": true
   },
   "outputs": [
    {
     "data": {
      "text/html": [
       "<div>\n",
       "<style scoped>\n",
       "    .dataframe tbody tr th:only-of-type {\n",
       "        vertical-align: middle;\n",
       "    }\n",
       "\n",
       "    .dataframe tbody tr th {\n",
       "        vertical-align: top;\n",
       "    }\n",
       "\n",
       "    .dataframe thead th {\n",
       "        text-align: right;\n",
       "    }\n",
       "</style>\n",
       "<table border=\"1\" class=\"dataframe\">\n",
       "  <thead>\n",
       "    <tr style=\"text-align: right;\">\n",
       "      <th></th>\n",
       "      <th>OBJECTID</th>\n",
       "      <th>SUBTYPE_WFRC</th>\n",
       "      <th>Review</th>\n",
       "      <th>MERGE_SRC</th>\n",
       "      <th>TYPE_WFRC</th>\n",
       "      <th>SHAPE</th>\n",
       "    </tr>\n",
       "  </thead>\n",
       "  <tbody>\n",
       "    <tr>\n",
       "      <th>291</th>\n",
       "      <td>293</td>\n",
       "      <td>condo</td>\n",
       "      <td>1</td>\n",
       "      <td>Common_Areas_Josh</td>\n",
       "      <td>multi_family</td>\n",
       "      <td>None</td>\n",
       "    </tr>\n",
       "  </tbody>\n",
       "</table>\n",
       "</div>"
      ],
      "text/plain": [
       "     OBJECTID SUBTYPE_WFRC  Review          MERGE_SRC     TYPE_WFRC SHAPE\n",
       "291       293        condo       1  Common_Areas_Josh  multi_family  None"
      ]
     },
     "execution_count": 9,
     "metadata": {},
     "output_type": "execute_result"
    }
   ],
   "source": [
    "#: common areas has an empty geography! \n",
    "davis_common_areas_df[davis_common_areas_df['SHAPE'].isna()]\n"
   ]
  },
  {
   "cell_type": "code",
   "execution_count": 20,
   "id": "57866e48",
   "metadata": {
    "hidden": true
   },
   "outputs": [],
   "source": [
    "def _remove_empty_geometries(dfs, shape_field='SHAPE'):\n",
    "    for df in dfs:\n",
    "        df.dropna(subset=[shape_field], inplace=True)"
   ]
  },
  {
   "cell_type": "code",
   "execution_count": 21,
   "id": "31adaa1d",
   "metadata": {
    "hidden": true
   },
   "outputs": [],
   "source": [
    "_remove_empty_geometries([davis_common_areas_df, davis_parcels_df])"
   ]
  },
  {
   "cell_type": "code",
   "execution_count": 85,
   "id": "a853d54d",
   "metadata": {
    "hidden": true
   },
   "outputs": [
    {
     "name": "stderr",
     "output_type": "stream",
     "text": [
      "C:\\Users\\jdadams\\Miniconda3\\envs\\housing\\lib\\site-packages\\pandas\\core\\indexing.py:1817: SettingWithCopyWarning: \n",
      "A value is trying to be set on a copy of a slice from a DataFrame.\n",
      "Try using .loc[row_indexer,col_indexer] = value instead\n",
      "\n",
      "See the caveats in the documentation: https://pandas.pydata.org/pandas-docs/stable/user_guide/indexing.html#returning-a-view-versus-a-copy\n",
      "  self._setitem_single_column(loc, value, pi)\n"
     ]
    },
    {
     "data": {
      "text/plain": [
       "'c:\\\\gis\\\\Projects\\\\housinginventory\\\\housinginventory.gdb\\\\parcels_dataframe_centroids'"
      ]
     },
     "execution_count": 85,
     "metadata": {},
     "output_type": "execute_result"
    }
   ],
   "source": [
    "davis_parcels_df[['PARCEL_ID', 'SHAPE']].spatial.to_featureclass(r'c:\\gis\\projects\\housinginventory\\housinginventory.gdb\\parcels_dataframe_centroids')\n",
    "# davis_parcels_df.spatial.geometry_type"
   ]
  },
  {
   "cell_type": "code",
   "execution_count": 63,
   "id": "5e12fa95",
   "metadata": {
    "hidden": true
   },
   "outputs": [],
   "source": [
    "davis_inner_df = davis_parcels_df.spatial.join(davis_common_areas_df, 'inner', 'within')"
   ]
  },
  {
   "cell_type": "code",
   "execution_count": 64,
   "id": "6d69225f",
   "metadata": {
    "hidden": true
   },
   "outputs": [
    {
     "data": {
      "text/plain": [
       "(12604, 23)"
      ]
     },
     "execution_count": 64,
     "metadata": {},
     "output_type": "execute_result"
    }
   ],
   "source": [
    "davis_inner_df.shape"
   ]
  },
  {
   "cell_type": "code",
   "execution_count": 65,
   "id": "08853365",
   "metadata": {
    "hidden": true,
    "scrolled": true
   },
   "outputs": [
    {
     "name": "stderr",
     "output_type": "stream",
     "text": [
      "C:\\Users\\jdadams\\Miniconda3\\envs\\housing\\lib\\site-packages\\pandas\\core\\indexing.py:1817: SettingWithCopyWarning: \n",
      "A value is trying to be set on a copy of a slice from a DataFrame.\n",
      "Try using .loc[row_indexer,col_indexer] = value instead\n",
      "\n",
      "See the caveats in the documentation: https://pandas.pydata.org/pandas-docs/stable/user_guide/indexing.html#returning-a-view-versus-a-copy\n",
      "  self._setitem_single_column(loc, value, pi)\n"
     ]
    },
    {
     "data": {
      "text/plain": [
       "'c:\\\\gis\\\\Projects\\\\housinginventory\\\\housinginventory.gdb\\\\cenroids_df_inner_join'"
      ]
     },
     "execution_count": 65,
     "metadata": {},
     "output_type": "execute_result"
    }
   ],
   "source": [
    "davis_inner_df[['PARCEL_ID', 'OBJECTID_right', 'TYPE_WFRC', 'SHAPE']].spatial.to_featureclass(r'c:\\gis\\projects\\housinginventory\\housinginventory.gdb\\cenroids_df_inner_join')\n"
   ]
  },
  {
   "cell_type": "code",
   "execution_count": 66,
   "id": "c332b4c5",
   "metadata": {
    "collapsed": true,
    "hidden": true
   },
   "outputs": [
    {
     "data": {
      "text/html": [
       "<div>\n",
       "<style scoped>\n",
       "    .dataframe tbody tr th:only-of-type {\n",
       "        vertical-align: middle;\n",
       "    }\n",
       "\n",
       "    .dataframe tbody tr th {\n",
       "        vertical-align: top;\n",
       "    }\n",
       "\n",
       "    .dataframe thead th {\n",
       "        text-align: right;\n",
       "    }\n",
       "</style>\n",
       "<table border=\"1\" class=\"dataframe\">\n",
       "  <thead>\n",
       "    <tr style=\"text-align: right;\">\n",
       "      <th></th>\n",
       "      <th>OBJECTID_left</th>\n",
       "      <th>PARCEL_ID</th>\n",
       "      <th>COUNT_PARCEL_ID</th>\n",
       "      <th>TAXEXEMPT_TYPE</th>\n",
       "      <th>TOTAL_MKT_VALUE</th>\n",
       "      <th>LAND_MKT_VALUE</th>\n",
       "      <th>PARCEL_ACRES</th>\n",
       "      <th>PROP_CLASS</th>\n",
       "      <th>PRIMARY_RES</th>\n",
       "      <th>HOUSE_CNT</th>\n",
       "      <th>BLDG_SQFT</th>\n",
       "      <th>FLOORS_CNT</th>\n",
       "      <th>BUILT_YR</th>\n",
       "      <th>EFFBUILT_YR</th>\n",
       "      <th>SHAPE</th>\n",
       "      <th>CENTROIDS</th>\n",
       "      <th>POLYS</th>\n",
       "      <th>index_right</th>\n",
       "      <th>OBJECTID_right</th>\n",
       "      <th>SUBTYPE_WFRC</th>\n",
       "      <th>Review</th>\n",
       "      <th>MERGE_SRC</th>\n",
       "      <th>TYPE_WFRC</th>\n",
       "    </tr>\n",
       "  </thead>\n",
       "  <tbody>\n",
       "    <tr>\n",
       "      <th>0</th>\n",
       "      <td>2993</td>\n",
       "      <td>011270002</td>\n",
       "      <td>1.0</td>\n",
       "      <td>NO</td>\n",
       "      <td>153000.0</td>\n",
       "      <td>25500.0</td>\n",
       "      <td>0.01</td>\n",
       "      <td>Residential</td>\n",
       "      <td>Y</td>\n",
       "      <td>1</td>\n",
       "      <td>980.0</td>\n",
       "      <td>2.0</td>\n",
       "      <td>1980.0</td>\n",
       "      <td>None</td>\n",
       "      <td>{\"x\": 423098.2202059751, \"y\": 4521292.73668173...</td>\n",
       "      <td>{'x': 423098.2202059751, 'y': 4521292.73668173...</td>\n",
       "      <td>{'rings': [[[423095.46829999983, 4521288.78460...</td>\n",
       "      <td>216</td>\n",
       "      <td>218</td>\n",
       "      <td>townhome</td>\n",
       "      <td>1</td>\n",
       "      <td>Common_Areas_Josh</td>\n",
       "      <td>multi_family</td>\n",
       "    </tr>\n",
       "    <tr>\n",
       "      <th>1</th>\n",
       "      <td>2994</td>\n",
       "      <td>011270003</td>\n",
       "      <td>1.0</td>\n",
       "      <td>NO</td>\n",
       "      <td>158000.0</td>\n",
       "      <td>38000.0</td>\n",
       "      <td>0.01</td>\n",
       "      <td>Residential</td>\n",
       "      <td>Y</td>\n",
       "      <td>1</td>\n",
       "      <td>980.0</td>\n",
       "      <td>2.0</td>\n",
       "      <td>1980.0</td>\n",
       "      <td>None</td>\n",
       "      <td>{\"x\": 423092.8142552632, \"y\": 4521292.23292286...</td>\n",
       "      <td>{'x': 423092.8142552632, 'y': 4521292.23292286...</td>\n",
       "      <td>{'rings': [[[423090.1489000004, 4521296.3013],...</td>\n",
       "      <td>216</td>\n",
       "      <td>218</td>\n",
       "      <td>townhome</td>\n",
       "      <td>1</td>\n",
       "      <td>Common_Areas_Josh</td>\n",
       "      <td>multi_family</td>\n",
       "    </tr>\n",
       "    <tr>\n",
       "      <th>2</th>\n",
       "      <td>2995</td>\n",
       "      <td>011270004</td>\n",
       "      <td>1.0</td>\n",
       "      <td>NO</td>\n",
       "      <td>158000.0</td>\n",
       "      <td>38000.0</td>\n",
       "      <td>0.01</td>\n",
       "      <td>Residential</td>\n",
       "      <td>Y</td>\n",
       "      <td>1</td>\n",
       "      <td>980.0</td>\n",
       "      <td>2.0</td>\n",
       "      <td>1980.0</td>\n",
       "      <td>None</td>\n",
       "      <td>{\"x\": 423087.41084402276, \"y\": 4521292.2796537...</td>\n",
       "      <td>{'x': 423087.41084402276, 'y': 4521292.2796537...</td>\n",
       "      <td>{'rings': [[[423090.1489000004, 4521296.3013],...</td>\n",
       "      <td>216</td>\n",
       "      <td>218</td>\n",
       "      <td>townhome</td>\n",
       "      <td>1</td>\n",
       "      <td>Common_Areas_Josh</td>\n",
       "      <td>multi_family</td>\n",
       "    </tr>\n",
       "    <tr>\n",
       "      <th>3</th>\n",
       "      <td>2996</td>\n",
       "      <td>011270005</td>\n",
       "      <td>1.0</td>\n",
       "      <td>NO</td>\n",
       "      <td>158000.0</td>\n",
       "      <td>38000.0</td>\n",
       "      <td>NaN</td>\n",
       "      <td>Residential</td>\n",
       "      <td>Y</td>\n",
       "      <td>1</td>\n",
       "      <td>980.0</td>\n",
       "      <td>2.0</td>\n",
       "      <td>1980.0</td>\n",
       "      <td>None</td>\n",
       "      <td>{\"x\": 423103.29551107954, \"y\": 4521275.8902960...</td>\n",
       "      <td>{'x': 423103.29551107954, 'y': 4521275.8902960...</td>\n",
       "      <td>{'rings': [[[423100.6451000003, 4521279.9691],...</td>\n",
       "      <td>216</td>\n",
       "      <td>218</td>\n",
       "      <td>townhome</td>\n",
       "      <td>1</td>\n",
       "      <td>Common_Areas_Josh</td>\n",
       "      <td>multi_family</td>\n",
       "    </tr>\n",
       "    <tr>\n",
       "      <th>4</th>\n",
       "      <td>2997</td>\n",
       "      <td>011270006</td>\n",
       "      <td>1.0</td>\n",
       "      <td>NO</td>\n",
       "      <td>174000.0</td>\n",
       "      <td>38000.0</td>\n",
       "      <td>0.01</td>\n",
       "      <td>Residential</td>\n",
       "      <td>Y</td>\n",
       "      <td>1</td>\n",
       "      <td>980.0</td>\n",
       "      <td>2.0</td>\n",
       "      <td>1980.0</td>\n",
       "      <td>None</td>\n",
       "      <td>{\"x\": 423097.89209049527, \"y\": 4521275.9370569...</td>\n",
       "      <td>{'x': 423097.89209049527, 'y': 4521275.9370569...</td>\n",
       "      <td>{'rings': [[[423100.5574000003, 4521271.868699...</td>\n",
       "      <td>216</td>\n",
       "      <td>218</td>\n",
       "      <td>townhome</td>\n",
       "      <td>1</td>\n",
       "      <td>Common_Areas_Josh</td>\n",
       "      <td>multi_family</td>\n",
       "    </tr>\n",
       "  </tbody>\n",
       "</table>\n",
       "</div>"
      ],
      "text/plain": [
       "   OBJECTID_left  PARCEL_ID  COUNT_PARCEL_ID TAXEXEMPT_TYPE  TOTAL_MKT_VALUE  \\\n",
       "0           2993  011270002              1.0             NO         153000.0   \n",
       "1           2994  011270003              1.0             NO         158000.0   \n",
       "2           2995  011270004              1.0             NO         158000.0   \n",
       "3           2996  011270005              1.0             NO         158000.0   \n",
       "4           2997  011270006              1.0             NO         174000.0   \n",
       "\n",
       "   LAND_MKT_VALUE  PARCEL_ACRES   PROP_CLASS PRIMARY_RES HOUSE_CNT  BLDG_SQFT  \\\n",
       "0         25500.0          0.01  Residential           Y         1      980.0   \n",
       "1         38000.0          0.01  Residential           Y         1      980.0   \n",
       "2         38000.0          0.01  Residential           Y         1      980.0   \n",
       "3         38000.0           NaN  Residential           Y         1      980.0   \n",
       "4         38000.0          0.01  Residential           Y         1      980.0   \n",
       "\n",
       "   FLOORS_CNT  BUILT_YR EFFBUILT_YR  \\\n",
       "0         2.0    1980.0        None   \n",
       "1         2.0    1980.0        None   \n",
       "2         2.0    1980.0        None   \n",
       "3         2.0    1980.0        None   \n",
       "4         2.0    1980.0        None   \n",
       "\n",
       "                                               SHAPE  \\\n",
       "0  {\"x\": 423098.2202059751, \"y\": 4521292.73668173...   \n",
       "1  {\"x\": 423092.8142552632, \"y\": 4521292.23292286...   \n",
       "2  {\"x\": 423087.41084402276, \"y\": 4521292.2796537...   \n",
       "3  {\"x\": 423103.29551107954, \"y\": 4521275.8902960...   \n",
       "4  {\"x\": 423097.89209049527, \"y\": 4521275.9370569...   \n",
       "\n",
       "                                           CENTROIDS  \\\n",
       "0  {'x': 423098.2202059751, 'y': 4521292.73668173...   \n",
       "1  {'x': 423092.8142552632, 'y': 4521292.23292286...   \n",
       "2  {'x': 423087.41084402276, 'y': 4521292.2796537...   \n",
       "3  {'x': 423103.29551107954, 'y': 4521275.8902960...   \n",
       "4  {'x': 423097.89209049527, 'y': 4521275.9370569...   \n",
       "\n",
       "                                               POLYS  index_right  \\\n",
       "0  {'rings': [[[423095.46829999983, 4521288.78460...          216   \n",
       "1  {'rings': [[[423090.1489000004, 4521296.3013],...          216   \n",
       "2  {'rings': [[[423090.1489000004, 4521296.3013],...          216   \n",
       "3  {'rings': [[[423100.6451000003, 4521279.9691],...          216   \n",
       "4  {'rings': [[[423100.5574000003, 4521271.868699...          216   \n",
       "\n",
       "   OBJECTID_right SUBTYPE_WFRC  Review          MERGE_SRC     TYPE_WFRC  \n",
       "0             218     townhome       1  Common_Areas_Josh  multi_family  \n",
       "1             218     townhome       1  Common_Areas_Josh  multi_family  \n",
       "2             218     townhome       1  Common_Areas_Josh  multi_family  \n",
       "3             218     townhome       1  Common_Areas_Josh  multi_family  \n",
       "4             218     townhome       1  Common_Areas_Josh  multi_family  "
      ]
     },
     "execution_count": 66,
     "metadata": {},
     "output_type": "execute_result"
    }
   ],
   "source": [
    "davis_inner_df.head()"
   ]
  },
  {
   "cell_type": "code",
   "execution_count": 68,
   "id": "9ceb5227",
   "metadata": {
    "hidden": true
   },
   "outputs": [
    {
     "name": "stderr",
     "output_type": "stream",
     "text": [
      "C:\\Users\\jdadams\\Miniconda3\\envs\\housing\\lib\\site-packages\\pandas\\core\\indexing.py:1817: SettingWithCopyWarning: \n",
      "A value is trying to be set on a copy of a slice from a DataFrame.\n",
      "Try using .loc[row_indexer,col_indexer] = value instead\n",
      "\n",
      "See the caveats in the documentation: https://pandas.pydata.org/pandas-docs/stable/user_guide/indexing.html#returning-a-view-versus-a-copy\n",
      "  self._setitem_single_column(loc, value, pi)\n"
     ]
    },
    {
     "data": {
      "text/plain": [
       "'c:\\\\gis\\\\Projects\\\\housinginventory\\\\housinginventory.gdb\\\\davis_parcels_dissolved'"
      ]
     },
     "execution_count": 68,
     "metadata": {},
     "output_type": "execute_result"
    }
   ],
   "source": [
    "#: TODO: figure out why dataframe centroid inner join and arcpy centroids are giving different number of output points. Maybe export parcels as polys, intersect with subsetted main parcels to see what additional parcels i'm getting?\n",
    "_change_geometry(davis_inner_df, 'POLYS', 'CENTROIDS')\n",
    "# _change_geometry(davis_dissolved_parcles_df, 'POLYS', 'CENTROIDS')\n",
    "davis_inner_df[['PARCEL_ID', 'OBJECTID_right', 'TYPE_WFRC', 'SHAPE']].spatial.to_featureclass(r'c:\\gis\\projects\\housinginventory\\housinginventory.gdb\\cenroids_df_inner_join_polys')\n",
    "davis_dissolved_parcels_df.spatial.to_featureclass(r'c:\\gis\\projects\\housinginventory\\housinginventory.gdb\\davis_parcels_dissolved')"
   ]
  },
  {
   "cell_type": "code",
   "execution_count": 17,
   "id": "805d82fd",
   "metadata": {
    "hidden": true
   },
   "outputs": [],
   "source": [
    "arcgis_parcels = r'c:\\gis\\projects\\housinginventory\\housinginventory.gdb\\Pro_centroids_select_within'\n",
    "arcgis_df = pd.DataFrame.spatial.from_featureclass(arcgis_parcels)"
   ]
  },
  {
   "cell_type": "code",
   "execution_count": 18,
   "id": "e70023c9",
   "metadata": {
    "hidden": true
   },
   "outputs": [
    {
     "name": "stderr",
     "output_type": "stream",
     "text": [
      "C:\\Users\\jdadams\\Miniconda3\\envs\\housing\\lib\\site-packages\\ipykernel_launcher.py:2: FutureWarning: In a future version of pandas all arguments of DataFrame.drop except for the argument 'labels' will be keyword-only\n",
      "  \n"
     ]
    }
   ],
   "source": [
    "#: Excluding outer join\n",
    "difference = davis_inner_df.merge(arcgis_df, on='PARCEL_ID', how='left', indicator=True).query('_merge == \"left_only\"').drop('_merge', 1)\n"
   ]
  },
  {
   "cell_type": "code",
   "execution_count": 23,
   "id": "1525a8e7",
   "metadata": {
    "hidden": true
   },
   "outputs": [],
   "source": [
    "difference.rename({'SHAPE_x':'SHAPE'}, axis=1, inplace=True)\n",
    "difference.spatial.set_geometry('SHAPE')"
   ]
  },
  {
   "cell_type": "code",
   "execution_count": 29,
   "id": "d5c7e8db",
   "metadata": {
    "hidden": true
   },
   "outputs": [],
   "source": [
    "difference.spatial.to_featureclass(r'c:\\gis\\projects\\housinginventory\\housinginventory.gdb\\difference_parcels')"
   ]
  },
  {
   "cell_type": "code",
   "execution_count": 28,
   "id": "c6dd5b01",
   "metadata": {
    "hidden": true
   },
   "outputs": [
    {
     "data": {
      "text/plain": [
       "(34, 68)"
      ]
     },
     "execution_count": 28,
     "metadata": {},
     "output_type": "execute_result"
    }
   ],
   "source": [
    "difference.shape"
   ]
  },
  {
   "cell_type": "code",
   "execution_count": 36,
   "id": "22cef716",
   "metadata": {
    "hidden": true
   },
   "outputs": [
    {
     "data": {
      "text/plain": [
       "Index(['OBJECTID_left', 'COUNTY_NAME_x', 'COUNTY_ID_x', 'ASSESSOR_SRC_x',\n",
       "       'BOUNDARY_SRC_x', 'DISCLAIMER_x', 'CURRENT_ASOF_x', 'PARCEL_ID',\n",
       "       'SERIAL_NUM_x', 'PARCEL_ADD_x', 'PARCEL_CITY_x', 'TAXEXEMPT_TYPE_x',\n",
       "       'TAX_DISTRICT_x', 'TOTAL_MKT_VALUE_x', 'LAND_MKT_VALUE_x',\n",
       "       'PARCEL_ACRES_x', 'PROP_CLASS_x', 'PRIMARY_RES_x', 'HOUSE_CNT_x',\n",
       "       'SUBDIV_NAME_x', 'BLDG_SQFT_x', 'BLDG_SQFT_INFO_x', 'FLOORS_CNT_x',\n",
       "       'FLOORS_INFO_x', 'BUILT_YR_x', 'EFFBUILT_YR_x', 'CONST_MATERIAL_x',\n",
       "       'x_x', 'y_x', 'SHAPE_x', 'CENTROIDS', 'POLYS', 'index_right',\n",
       "       'OBJECTID_right', 'SUBTYPE_WFRC', 'Review', 'MERGE_SRC', 'TYPE_WFRC',\n",
       "       'OBJECTID', 'COUNTY_NAME_y', 'COUNTY_ID_y', 'ASSESSOR_SRC_y',\n",
       "       'BOUNDARY_SRC_y', 'DISCLAIMER_y', 'CURRENT_ASOF_y', 'SERIAL_NUM_y',\n",
       "       'PARCEL_ADD_y', 'PARCEL_CITY_y', 'TAXEXEMPT_TYPE_y', 'TAX_DISTRICT_y',\n",
       "       'TOTAL_MKT_VALUE_y', 'LAND_MKT_VALUE_y', 'PARCEL_ACRES_y',\n",
       "       'PROP_CLASS_y', 'PRIMARY_RES_y', 'HOUSE_CNT_y', 'SUBDIV_NAME_y',\n",
       "       'BLDG_SQFT_y', 'BLDG_SQFT_INFO_y', 'FLOORS_CNT_y', 'FLOORS_INFO_y',\n",
       "       'BUILT_YR_y', 'EFFBUILT_YR_y', 'CONST_MATERIAL_y', 'x_y', 'y_y',\n",
       "       'ORIG_FID', 'SHAPE_y'],\n",
       "      dtype='object')"
      ]
     },
     "execution_count": 36,
     "metadata": {},
     "output_type": "execute_result"
    }
   ],
   "source": [
    "difference.columns"
   ]
  },
  {
   "cell_type": "code",
   "execution_count": 42,
   "id": "d162e208",
   "metadata": {
    "hidden": true
   },
   "outputs": [],
   "source": [
    "davis_dissolved_parcels_df = _dissolve_duplicate_parcels(davis_parcels_fc)"
   ]
  },
  {
   "cell_type": "code",
   "execution_count": 43,
   "id": "343f6a0c",
   "metadata": {
    "hidden": true
   },
   "outputs": [
    {
     "data": {
      "text/plain": [
       "(114047, 15)"
      ]
     },
     "execution_count": 43,
     "metadata": {},
     "output_type": "execute_result"
    }
   ],
   "source": [
    "davis_dissolved_parcels_df.shape"
   ]
  },
  {
   "cell_type": "code",
   "execution_count": 45,
   "id": "3fc060a3",
   "metadata": {
    "hidden": true
   },
   "outputs": [],
   "source": [
    "dup_parcel_ids = davis_parcels_df[davis_parcels_df.duplicated(subset=['PARCEL_ID'])]"
   ]
  },
  {
   "cell_type": "code",
   "execution_count": 49,
   "id": "dd60afbe",
   "metadata": {
    "hidden": true
   },
   "outputs": [
    {
     "data": {
      "text/plain": [
       "(604, 32)"
      ]
     },
     "execution_count": 49,
     "metadata": {},
     "output_type": "execute_result"
    }
   ],
   "source": [
    "dup_parcel_ids[dup_parcel_ids['PARCEL_ID'].isna()].shape"
   ]
  },
  {
   "cell_type": "code",
   "execution_count": 50,
   "id": "d068ac45",
   "metadata": {
    "hidden": true
   },
   "outputs": [],
   "source": [
    "pd.set_option('display.max_columns', None)"
   ]
  },
  {
   "cell_type": "code",
   "execution_count": 55,
   "id": "589692bb",
   "metadata": {
    "collapsed": true,
    "hidden": true
   },
   "outputs": [
    {
     "data": {
      "text/html": [
       "<div>\n",
       "<style scoped>\n",
       "    .dataframe tbody tr th:only-of-type {\n",
       "        vertical-align: middle;\n",
       "    }\n",
       "\n",
       "    .dataframe tbody tr th {\n",
       "        vertical-align: top;\n",
       "    }\n",
       "\n",
       "    .dataframe thead th {\n",
       "        text-align: right;\n",
       "    }\n",
       "</style>\n",
       "<table border=\"1\" class=\"dataframe\">\n",
       "  <thead>\n",
       "    <tr style=\"text-align: right;\">\n",
       "      <th></th>\n",
       "      <th>OBJECTID</th>\n",
       "      <th>PARCEL_ID</th>\n",
       "      <th>COUNT_PARCEL_ID</th>\n",
       "      <th>TAXEXEMPT_TYPE</th>\n",
       "      <th>TOTAL_MKT_VALUE</th>\n",
       "      <th>LAND_MKT_VALUE</th>\n",
       "      <th>PARCEL_ACRES</th>\n",
       "      <th>PROP_CLASS</th>\n",
       "      <th>PRIMARY_RES</th>\n",
       "      <th>HOUSE_CNT</th>\n",
       "      <th>BLDG_SQFT</th>\n",
       "      <th>FLOORS_CNT</th>\n",
       "      <th>BUILT_YR</th>\n",
       "      <th>EFFBUILT_YR</th>\n",
       "      <th>SHAPE</th>\n",
       "    </tr>\n",
       "  </thead>\n",
       "  <tbody>\n",
       "    <tr>\n",
       "      <th>56696</th>\n",
       "      <td>56697</td>\n",
       "      <td>093660015</td>\n",
       "      <td>12.0</td>\n",
       "      <td>COMMON</td>\n",
       "      <td>600.0</td>\n",
       "      <td>600.0</td>\n",
       "      <td>1.200</td>\n",
       "      <td>Vacant Land</td>\n",
       "      <td>N</td>\n",
       "      <td>None</td>\n",
       "      <td>0.0</td>\n",
       "      <td>0.0</td>\n",
       "      <td>NaN</td>\n",
       "      <td>None</td>\n",
       "      <td>{\"rings\": [[[423407.31819999963, 4548329.5931]...</td>\n",
       "    </tr>\n",
       "    <tr>\n",
       "      <th>83369</th>\n",
       "      <td>83370</td>\n",
       "      <td>121260110</td>\n",
       "      <td>11.0</td>\n",
       "      <td>YES</td>\n",
       "      <td>77506.0</td>\n",
       "      <td>77506.0</td>\n",
       "      <td>2.882</td>\n",
       "      <td>Vacant Land</td>\n",
       "      <td>N</td>\n",
       "      <td>None</td>\n",
       "      <td>0.0</td>\n",
       "      <td>0.0</td>\n",
       "      <td>NaN</td>\n",
       "      <td>None</td>\n",
       "      <td>{\"rings\": [[[413167.71779999975, 4547802.1066]...</td>\n",
       "    </tr>\n",
       "    <tr>\n",
       "      <th>98740</th>\n",
       "      <td>98741</td>\n",
       "      <td>130600034</td>\n",
       "      <td>11.0</td>\n",
       "      <td>NO</td>\n",
       "      <td>50380000.0</td>\n",
       "      <td>3350622.0</td>\n",
       "      <td>16.005</td>\n",
       "      <td>Commercial</td>\n",
       "      <td>N</td>\n",
       "      <td>16</td>\n",
       "      <td>705309.0</td>\n",
       "      <td>1.0</td>\n",
       "      <td>1981.0</td>\n",
       "      <td>None</td>\n",
       "      <td>{\"rings\": [[[413828.1775000002, 4556043.2356],...</td>\n",
       "    </tr>\n",
       "    <tr>\n",
       "      <th>6357</th>\n",
       "      <td>6358</td>\n",
       "      <td>013490009</td>\n",
       "      <td>10.0</td>\n",
       "      <td>NO</td>\n",
       "      <td>89892350.0</td>\n",
       "      <td>30265430.0</td>\n",
       "      <td>513.140</td>\n",
       "      <td>Residential</td>\n",
       "      <td>Y</td>\n",
       "      <td>5</td>\n",
       "      <td>195810.0</td>\n",
       "      <td>1.0</td>\n",
       "      <td>2012.0</td>\n",
       "      <td>None</td>\n",
       "      <td>{\"rings\": [[[426978.04839999974, 4521322.22980...</td>\n",
       "    </tr>\n",
       "    <tr>\n",
       "      <th>100862</th>\n",
       "      <td>100863</td>\n",
       "      <td>131370044</td>\n",
       "      <td>9.0</td>\n",
       "      <td>YES</td>\n",
       "      <td>885555.0</td>\n",
       "      <td>885555.0</td>\n",
       "      <td>1.890</td>\n",
       "      <td>Vacant Land</td>\n",
       "      <td>N</td>\n",
       "      <td>None</td>\n",
       "      <td>0.0</td>\n",
       "      <td>0.0</td>\n",
       "      <td>NaN</td>\n",
       "      <td>None</td>\n",
       "      <td>{\"rings\": [[[422536.15670000017, 4552418.81980...</td>\n",
       "    </tr>\n",
       "    <tr>\n",
       "      <th>...</th>\n",
       "      <td>...</td>\n",
       "      <td>...</td>\n",
       "      <td>...</td>\n",
       "      <td>...</td>\n",
       "      <td>...</td>\n",
       "      <td>...</td>\n",
       "      <td>...</td>\n",
       "      <td>...</td>\n",
       "      <td>...</td>\n",
       "      <td>...</td>\n",
       "      <td>...</td>\n",
       "      <td>...</td>\n",
       "      <td>...</td>\n",
       "      <td>...</td>\n",
       "      <td>...</td>\n",
       "    </tr>\n",
       "    <tr>\n",
       "      <th>39091</th>\n",
       "      <td>39092</td>\n",
       "      <td>072840122</td>\n",
       "      <td>1.0</td>\n",
       "      <td>COMMON</td>\n",
       "      <td>35.0</td>\n",
       "      <td>35.0</td>\n",
       "      <td>0.070</td>\n",
       "      <td>Vacant Land</td>\n",
       "      <td>N</td>\n",
       "      <td>None</td>\n",
       "      <td>0.0</td>\n",
       "      <td>0.0</td>\n",
       "      <td>NaN</td>\n",
       "      <td>None</td>\n",
       "      <td>{\"rings\": [[[422435.1802000003, 4541558.1943],...</td>\n",
       "    </tr>\n",
       "    <tr>\n",
       "      <th>39090</th>\n",
       "      <td>39091</td>\n",
       "      <td>072840121</td>\n",
       "      <td>1.0</td>\n",
       "      <td>NO</td>\n",
       "      <td>345000.0</td>\n",
       "      <td>79300.0</td>\n",
       "      <td>0.050</td>\n",
       "      <td>Residential</td>\n",
       "      <td>Y</td>\n",
       "      <td>1</td>\n",
       "      <td>989.0</td>\n",
       "      <td>1.0</td>\n",
       "      <td>2014.0</td>\n",
       "      <td>None</td>\n",
       "      <td>{\"rings\": [[[422431.71389999986, 4541553.94270...</td>\n",
       "    </tr>\n",
       "    <tr>\n",
       "      <th>39089</th>\n",
       "      <td>39090</td>\n",
       "      <td>072840120</td>\n",
       "      <td>1.0</td>\n",
       "      <td>NO</td>\n",
       "      <td>366000.0</td>\n",
       "      <td>79300.0</td>\n",
       "      <td>0.050</td>\n",
       "      <td>Residential</td>\n",
       "      <td>Y</td>\n",
       "      <td>1</td>\n",
       "      <td>1143.0</td>\n",
       "      <td>1.0</td>\n",
       "      <td>2014.0</td>\n",
       "      <td>None</td>\n",
       "      <td>{\"rings\": [[[422425.10259999987, 4541559.3331]...</td>\n",
       "    </tr>\n",
       "    <tr>\n",
       "      <th>39088</th>\n",
       "      <td>39089</td>\n",
       "      <td>072840119</td>\n",
       "      <td>1.0</td>\n",
       "      <td>NO</td>\n",
       "      <td>364000.0</td>\n",
       "      <td>79300.0</td>\n",
       "      <td>0.050</td>\n",
       "      <td>Residential</td>\n",
       "      <td>Y</td>\n",
       "      <td>1</td>\n",
       "      <td>1143.0</td>\n",
       "      <td>1.0</td>\n",
       "      <td>2014.0</td>\n",
       "      <td>None</td>\n",
       "      <td>{\"rings\": [[[422418.4912999999, 4541564.723200...</td>\n",
       "    </tr>\n",
       "    <tr>\n",
       "      <th>114047</th>\n",
       "      <td>114048</td>\n",
       "      <td>550060001</td>\n",
       "      <td>1.0</td>\n",
       "      <td>NO</td>\n",
       "      <td>NaN</td>\n",
       "      <td>NaN</td>\n",
       "      <td>1.345</td>\n",
       "      <td>Commercial</td>\n",
       "      <td>N</td>\n",
       "      <td>None</td>\n",
       "      <td>0.0</td>\n",
       "      <td>0.0</td>\n",
       "      <td>2020.0</td>\n",
       "      <td>None</td>\n",
       "      <td>{\"rings\": [[[414325.5843000002, 4552909.3949],...</td>\n",
       "    </tr>\n",
       "  </tbody>\n",
       "</table>\n",
       "<p>114047 rows × 15 columns</p>\n",
       "</div>"
      ],
      "text/plain": [
       "        OBJECTID  PARCEL_ID  COUNT_PARCEL_ID TAXEXEMPT_TYPE  TOTAL_MKT_VALUE  \\\n",
       "56696      56697  093660015             12.0         COMMON            600.0   \n",
       "83369      83370  121260110             11.0            YES          77506.0   \n",
       "98740      98741  130600034             11.0             NO       50380000.0   \n",
       "6357        6358  013490009             10.0             NO       89892350.0   \n",
       "100862    100863  131370044              9.0            YES         885555.0   \n",
       "...          ...        ...              ...            ...              ...   \n",
       "39091      39092  072840122              1.0         COMMON             35.0   \n",
       "39090      39091  072840121              1.0             NO         345000.0   \n",
       "39089      39090  072840120              1.0             NO         366000.0   \n",
       "39088      39089  072840119              1.0             NO         364000.0   \n",
       "114047    114048  550060001              1.0             NO              NaN   \n",
       "\n",
       "        LAND_MKT_VALUE  PARCEL_ACRES   PROP_CLASS PRIMARY_RES HOUSE_CNT  \\\n",
       "56696            600.0         1.200  Vacant Land           N      None   \n",
       "83369          77506.0         2.882  Vacant Land           N      None   \n",
       "98740        3350622.0        16.005   Commercial           N        16   \n",
       "6357        30265430.0       513.140  Residential           Y         5   \n",
       "100862        885555.0         1.890  Vacant Land           N      None   \n",
       "...                ...           ...          ...         ...       ...   \n",
       "39091             35.0         0.070  Vacant Land           N      None   \n",
       "39090          79300.0         0.050  Residential           Y         1   \n",
       "39089          79300.0         0.050  Residential           Y         1   \n",
       "39088          79300.0         0.050  Residential           Y         1   \n",
       "114047             NaN         1.345   Commercial           N      None   \n",
       "\n",
       "        BLDG_SQFT  FLOORS_CNT  BUILT_YR EFFBUILT_YR  \\\n",
       "56696         0.0         0.0       NaN        None   \n",
       "83369         0.0         0.0       NaN        None   \n",
       "98740    705309.0         1.0    1981.0        None   \n",
       "6357     195810.0         1.0    2012.0        None   \n",
       "100862        0.0         0.0       NaN        None   \n",
       "...           ...         ...       ...         ...   \n",
       "39091         0.0         0.0       NaN        None   \n",
       "39090       989.0         1.0    2014.0        None   \n",
       "39089      1143.0         1.0    2014.0        None   \n",
       "39088      1143.0         1.0    2014.0        None   \n",
       "114047        0.0         0.0    2020.0        None   \n",
       "\n",
       "                                                    SHAPE  \n",
       "56696   {\"rings\": [[[423407.31819999963, 4548329.5931]...  \n",
       "83369   {\"rings\": [[[413167.71779999975, 4547802.1066]...  \n",
       "98740   {\"rings\": [[[413828.1775000002, 4556043.2356],...  \n",
       "6357    {\"rings\": [[[426978.04839999974, 4521322.22980...  \n",
       "100862  {\"rings\": [[[422536.15670000017, 4552418.81980...  \n",
       "...                                                   ...  \n",
       "39091   {\"rings\": [[[422435.1802000003, 4541558.1943],...  \n",
       "39090   {\"rings\": [[[422431.71389999986, 4541553.94270...  \n",
       "39089   {\"rings\": [[[422425.10259999987, 4541559.3331]...  \n",
       "39088   {\"rings\": [[[422418.4912999999, 4541564.723200...  \n",
       "114047  {\"rings\": [[[414325.5843000002, 4552909.3949],...  \n",
       "\n",
       "[114047 rows x 15 columns]"
      ]
     },
     "execution_count": 55,
     "metadata": {},
     "output_type": "execute_result"
    }
   ],
   "source": [
    "davis_dissolved_parcels_df.sort_values(by=['COUNT_PARCEL_ID'], ascending=False)\n",
    "# davis_dissolved_parcels_df"
   ]
  },
  {
   "cell_type": "markdown",
   "id": "3850af85",
   "metadata": {
    "heading_collapsed": true
   },
   "source": [
    "# To centroid testing"
   ]
  },
  {
   "cell_type": "code",
   "execution_count": 120,
   "id": "97afa49d",
   "metadata": {
    "hidden": true
   },
   "outputs": [],
   "source": [
    "def _add_centroids_to_parcel_df(parcels_df, join_field):\n",
    "    memory_parcels = 'memory/parcels'\n",
    "    memory_centroids = 'memory/centroids'\n",
    "\n",
    "    for featureclass in [memory_centroids, memory_parcels]:\n",
    "        if arcpy.Exists(featureclass):\n",
    "            arcpy.management.Delete(featureclass)\n",
    "\n",
    "    print('writing parcels to fc')\n",
    "    parcels_df.spatial.to_featureclass(memory_parcels)\n",
    "    print('feature to point')\n",
    "    arcpy.management.FeatureToPoint(memory_parcels, memory_centroids, 'INSIDE')\n",
    "    print('reading centroids to df')\n",
    "    centroids_df = (\n",
    "        pd.DataFrame.spatial.from_featureclass(memory_centroids)[[join_field.lower(), 'SHAPE']]\n",
    "        .rename(columns={'SHAPE':'CENTROIDS', join_field.lower(): join_field})\n",
    "        .assign(**{join_field:lambda df: df[join_field].astype(str)})\n",
    "    )    \n",
    "\n",
    "    print(centroids_df.dtypes)\n",
    "    print('joining back')\n",
    "    joined_df = parcels_df.merge(centroids_df, on=join_field, how='left')\n",
    "\n",
    "    blank_centroids = joined_df['CENTROIDS'].isna().sum()\n",
    "    if blank_centroids:\n",
    "        print(f'{blank_centroids} blank centroids!')\n",
    "\n",
    "    return joined_df"
   ]
  },
  {
   "cell_type": "code",
   "execution_count": 122,
   "id": "25c23ea1",
   "metadata": {
    "hidden": true
   },
   "outputs": [
    {
     "name": "stdout",
     "output_type": "stream",
     "text": [
      "writing parcels to fc\n",
      "feature to point\n",
      "reading centroids to df\n",
      "PARCEL_ID      object\n",
      "CENTROIDS    geometry\n",
      "dtype: object\n",
      "joining back\n"
     ]
    }
   ],
   "source": [
    "centroid_parcels_df = _add_centroids_to_parcel_df(davis_dissolved_parcels_df, 'PARCEL_ID')"
   ]
  },
  {
   "cell_type": "code",
   "execution_count": 123,
   "id": "3e658f32",
   "metadata": {
    "hidden": true
   },
   "outputs": [],
   "source": [
    "_change_geometry(centroid_parcels_df, 'CENTROIDS', 'POLYS')\n",
    "# centroid_parcels_df.spatial.to_featureclass(r'c:\\gis\\projects\\housinginventory\\housinginventory.gdb\\centroid_parcels_test')"
   ]
  },
  {
   "cell_type": "code",
   "execution_count": 125,
   "id": "2575897d",
   "metadata": {
    "hidden": true
   },
   "outputs": [
    {
     "name": "stderr",
     "output_type": "stream",
     "text": [
      "C:\\Users\\jdadams\\Miniconda3\\envs\\housing\\lib\\site-packages\\pandas\\core\\indexing.py:1817: SettingWithCopyWarning: \n",
      "A value is trying to be set on a copy of a slice from a DataFrame.\n",
      "Try using .loc[row_indexer,col_indexer] = value instead\n",
      "\n",
      "See the caveats in the documentation: https://pandas.pydata.org/pandas-docs/stable/user_guide/indexing.html#returning-a-view-versus-a-copy\n",
      "  self._setitem_single_column(loc, value, pi)\n"
     ]
    },
    {
     "data": {
      "text/plain": [
       "'c:\\\\gis\\\\Projects\\\\housinginventory\\\\housinginventory.gdb\\\\centroid_parcels_test'"
      ]
     },
     "execution_count": 125,
     "metadata": {},
     "output_type": "execute_result"
    }
   ],
   "source": [
    "#: Result: it works!\n",
    "centroid_parcels_df[['PARCEL_ID', 'SHAPE']].spatial.to_featureclass(r'c:\\gis\\projects\\housinginventory\\housinginventory.gdb\\centroid_parcels_test')"
   ]
  },
  {
   "cell_type": "code",
   "execution_count": 126,
   "id": "891aa64d",
   "metadata": {
    "hidden": true
   },
   "outputs": [
    {
     "data": {
      "text/html": [
       "<div>\n",
       "<style scoped>\n",
       "    .dataframe tbody tr th:only-of-type {\n",
       "        vertical-align: middle;\n",
       "    }\n",
       "\n",
       "    .dataframe tbody tr th {\n",
       "        vertical-align: top;\n",
       "    }\n",
       "\n",
       "    .dataframe thead th {\n",
       "        text-align: right;\n",
       "    }\n",
       "</style>\n",
       "<table border=\"1\" class=\"dataframe\">\n",
       "  <thead>\n",
       "    <tr style=\"text-align: right;\">\n",
       "      <th></th>\n",
       "      <th>OBJECTID</th>\n",
       "      <th>PARCEL_ID</th>\n",
       "      <th>COUNT_PARCEL_ID</th>\n",
       "      <th>TAXEXEMPT_TYPE</th>\n",
       "      <th>TOTAL_MKT_VALUE</th>\n",
       "      <th>LAND_MKT_VALUE</th>\n",
       "      <th>PARCEL_ACRES</th>\n",
       "      <th>PROP_CLASS</th>\n",
       "      <th>PRIMARY_RES</th>\n",
       "      <th>HOUSE_CNT</th>\n",
       "      <th>BLDG_SQFT</th>\n",
       "      <th>FLOORS_CNT</th>\n",
       "      <th>BUILT_YR</th>\n",
       "      <th>EFFBUILT_YR</th>\n",
       "      <th>SHAPE</th>\n",
       "      <th>CENTROIDS</th>\n",
       "      <th>POLYS</th>\n",
       "    </tr>\n",
       "  </thead>\n",
       "  <tbody>\n",
       "    <tr>\n",
       "      <th>0</th>\n",
       "      <td>2</td>\n",
       "      <td>010010001</td>\n",
       "      <td>1.0</td>\n",
       "      <td>YES</td>\n",
       "      <td>2631555.0</td>\n",
       "      <td>2631555.0</td>\n",
       "      <td>584.790</td>\n",
       "      <td>Vacant Land</td>\n",
       "      <td>N</td>\n",
       "      <td>None</td>\n",
       "      <td>0.0</td>\n",
       "      <td>0.0</td>\n",
       "      <td>NaN</td>\n",
       "      <td>None</td>\n",
       "      <td>{\"x\": 433640.0864000004, \"y\": 4522271.3223, \"s...</td>\n",
       "      <td>{'x': 433640.0864000004, 'y': 4522271.3223, 's...</td>\n",
       "      <td>{'rings': [[[432837.2489, 4523084.3905], [4344...</td>\n",
       "    </tr>\n",
       "    <tr>\n",
       "      <th>1</th>\n",
       "      <td>3</td>\n",
       "      <td>010020001</td>\n",
       "      <td>1.0</td>\n",
       "      <td>YES</td>\n",
       "      <td>2862855.0</td>\n",
       "      <td>2862855.0</td>\n",
       "      <td>636.190</td>\n",
       "      <td>Vacant Land</td>\n",
       "      <td>N</td>\n",
       "      <td>None</td>\n",
       "      <td>0.0</td>\n",
       "      <td>0.0</td>\n",
       "      <td>NaN</td>\n",
       "      <td>None</td>\n",
       "      <td>{\"x\": 432067.84109999985, \"y\": 4522288.0898, \"...</td>\n",
       "      <td>{'x': 432067.84109999985, 'y': 4522288.0898, '...</td>\n",
       "      <td>{'rings': [[[431259.5963000003, 4523102.8245],...</td>\n",
       "    </tr>\n",
       "    <tr>\n",
       "      <th>2</th>\n",
       "      <td>4</td>\n",
       "      <td>010030001</td>\n",
       "      <td>1.0</td>\n",
       "      <td>YES</td>\n",
       "      <td>2820735.0</td>\n",
       "      <td>2820735.0</td>\n",
       "      <td>626.830</td>\n",
       "      <td>Vacant Land</td>\n",
       "      <td>N</td>\n",
       "      <td>None</td>\n",
       "      <td>0.0</td>\n",
       "      <td>0.0</td>\n",
       "      <td>NaN</td>\n",
       "      <td>None</td>\n",
       "      <td>{\"x\": 430479.2838000003, \"y\": 4522300.2831, \"s...</td>\n",
       "      <td>{'x': 430479.2838000003, 'y': 4522300.2831, 's...</td>\n",
       "      <td>{'rings': [[[431298.3334999997, 4521492.8399],...</td>\n",
       "    </tr>\n",
       "    <tr>\n",
       "      <th>3</th>\n",
       "      <td>5</td>\n",
       "      <td>010040001</td>\n",
       "      <td>1.0</td>\n",
       "      <td>YES</td>\n",
       "      <td>720000.0</td>\n",
       "      <td>720000.0</td>\n",
       "      <td>160.000</td>\n",
       "      <td>Vacant Land</td>\n",
       "      <td>N</td>\n",
       "      <td>None</td>\n",
       "      <td>0.0</td>\n",
       "      <td>0.0</td>\n",
       "      <td>NaN</td>\n",
       "      <td>None</td>\n",
       "      <td>{\"x\": 428672.2905000001, \"y\": 4522950.6358, \"s...</td>\n",
       "      <td>{'x': 428672.2905000001, 'y': 4522950.6358, 's...</td>\n",
       "      <td>{'rings': [[[429278.03220000025, 4523132.31059...</td>\n",
       "    </tr>\n",
       "    <tr>\n",
       "      <th>4</th>\n",
       "      <td>6</td>\n",
       "      <td>010040002</td>\n",
       "      <td>1.0</td>\n",
       "      <td>NO</td>\n",
       "      <td>627025.0</td>\n",
       "      <td>627025.0</td>\n",
       "      <td>71.420</td>\n",
       "      <td>Vacant Land</td>\n",
       "      <td>N</td>\n",
       "      <td>None</td>\n",
       "      <td>0.0</td>\n",
       "      <td>0.0</td>\n",
       "      <td>NaN</td>\n",
       "      <td>None</td>\n",
       "      <td>{\"x\": 428162.5903000003, \"y\": 4521728.47340000...</td>\n",
       "      <td>{'x': 428162.5903000003, 'y': 4521728.47340000...</td>\n",
       "      <td>{'rings': [[[428065.1196999997, 4522371.7095],...</td>\n",
       "    </tr>\n",
       "    <tr>\n",
       "      <th>...</th>\n",
       "      <td>...</td>\n",
       "      <td>...</td>\n",
       "      <td>...</td>\n",
       "      <td>...</td>\n",
       "      <td>...</td>\n",
       "      <td>...</td>\n",
       "      <td>...</td>\n",
       "      <td>...</td>\n",
       "      <td>...</td>\n",
       "      <td>...</td>\n",
       "      <td>...</td>\n",
       "      <td>...</td>\n",
       "      <td>...</td>\n",
       "      <td>...</td>\n",
       "      <td>...</td>\n",
       "      <td>...</td>\n",
       "      <td>...</td>\n",
       "    </tr>\n",
       "    <tr>\n",
       "      <th>114042</th>\n",
       "      <td>114044</td>\n",
       "      <td>550030001</td>\n",
       "      <td>1.0</td>\n",
       "      <td>NO</td>\n",
       "      <td>214922.0</td>\n",
       "      <td>58600.0</td>\n",
       "      <td>0.223</td>\n",
       "      <td>Commercial</td>\n",
       "      <td>N</td>\n",
       "      <td>None</td>\n",
       "      <td>1384.0</td>\n",
       "      <td>0.0</td>\n",
       "      <td>1950.0</td>\n",
       "      <td>None</td>\n",
       "      <td>{\"x\": 414203.3998999996, \"y\": 4553013.13440000...</td>\n",
       "      <td>{'x': 414203.3998999996, 'y': 4553013.13440000...</td>\n",
       "      <td>{'rings': [[[414211.6102, 4553028.373], [41422...</td>\n",
       "    </tr>\n",
       "    <tr>\n",
       "      <th>114043</th>\n",
       "      <td>114045</td>\n",
       "      <td>550030002</td>\n",
       "      <td>1.0</td>\n",
       "      <td>NO</td>\n",
       "      <td>2797906.0</td>\n",
       "      <td>305521.0</td>\n",
       "      <td>1.460</td>\n",
       "      <td>Commercial</td>\n",
       "      <td>N</td>\n",
       "      <td>1</td>\n",
       "      <td>9886.0</td>\n",
       "      <td>1.0</td>\n",
       "      <td>2014.0</td>\n",
       "      <td>None</td>\n",
       "      <td>{\"x\": 414282.1196999997, \"y\": 4552960.726, \"sp...</td>\n",
       "      <td>{'x': 414282.1196999997, 'y': 4552960.726, 'sp...</td>\n",
       "      <td>{'rings': [[[414302.11479999963, 4552902.90530...</td>\n",
       "    </tr>\n",
       "    <tr>\n",
       "      <th>114044</th>\n",
       "      <td>114046</td>\n",
       "      <td>550040001</td>\n",
       "      <td>1.0</td>\n",
       "      <td>NO</td>\n",
       "      <td>2848745.0</td>\n",
       "      <td>271413.0</td>\n",
       "      <td>1.276</td>\n",
       "      <td>Commercial</td>\n",
       "      <td>N</td>\n",
       "      <td>1</td>\n",
       "      <td>20968.0</td>\n",
       "      <td>1.0</td>\n",
       "      <td>2017.0</td>\n",
       "      <td>None</td>\n",
       "      <td>{\"x\": 414510.1227000002, \"y\": 4552697.9208, \"s...</td>\n",
       "      <td>{'x': 414510.1227000002, 'y': 4552697.9208, 's...</td>\n",
       "      <td>{'rings': [[[414561.9134999998, 4552696.2083],...</td>\n",
       "    </tr>\n",
       "    <tr>\n",
       "      <th>114045</th>\n",
       "      <td>114047</td>\n",
       "      <td>550050005</td>\n",
       "      <td>1.0</td>\n",
       "      <td>NO</td>\n",
       "      <td>20723538.0</td>\n",
       "      <td>981752.0</td>\n",
       "      <td>5.511</td>\n",
       "      <td>Commercial</td>\n",
       "      <td>N</td>\n",
       "      <td>None</td>\n",
       "      <td>76778.0</td>\n",
       "      <td>0.0</td>\n",
       "      <td>2017.0</td>\n",
       "      <td>None</td>\n",
       "      <td>{\"x\": 414851.3979000002, \"y\": 4552851.6852, \"s...</td>\n",
       "      <td>{'x': 414851.3979000002, 'y': 4552851.6852, 's...</td>\n",
       "      <td>{'rings': [[[414893.5239000004, 4552990.350099...</td>\n",
       "    </tr>\n",
       "    <tr>\n",
       "      <th>114046</th>\n",
       "      <td>114048</td>\n",
       "      <td>550060001</td>\n",
       "      <td>1.0</td>\n",
       "      <td>NO</td>\n",
       "      <td>NaN</td>\n",
       "      <td>NaN</td>\n",
       "      <td>1.345</td>\n",
       "      <td>Commercial</td>\n",
       "      <td>N</td>\n",
       "      <td>None</td>\n",
       "      <td>0.0</td>\n",
       "      <td>0.0</td>\n",
       "      <td>2020.0</td>\n",
       "      <td>None</td>\n",
       "      <td>{\"x\": 414359.4461000003, \"y\": 4552865.26129999...</td>\n",
       "      <td>{'x': 414359.4461000003, 'y': 4552865.26129999...</td>\n",
       "      <td>{'rings': [[[414325.5843000002, 4552909.3949],...</td>\n",
       "    </tr>\n",
       "  </tbody>\n",
       "</table>\n",
       "<p>114047 rows × 17 columns</p>\n",
       "</div>"
      ],
      "text/plain": [
       "        OBJECTID  PARCEL_ID  COUNT_PARCEL_ID TAXEXEMPT_TYPE  TOTAL_MKT_VALUE  \\\n",
       "0              2  010010001              1.0            YES        2631555.0   \n",
       "1              3  010020001              1.0            YES        2862855.0   \n",
       "2              4  010030001              1.0            YES        2820735.0   \n",
       "3              5  010040001              1.0            YES         720000.0   \n",
       "4              6  010040002              1.0             NO         627025.0   \n",
       "...          ...        ...              ...            ...              ...   \n",
       "114042    114044  550030001              1.0             NO         214922.0   \n",
       "114043    114045  550030002              1.0             NO        2797906.0   \n",
       "114044    114046  550040001              1.0             NO        2848745.0   \n",
       "114045    114047  550050005              1.0             NO       20723538.0   \n",
       "114046    114048  550060001              1.0             NO              NaN   \n",
       "\n",
       "        LAND_MKT_VALUE  PARCEL_ACRES   PROP_CLASS PRIMARY_RES HOUSE_CNT  \\\n",
       "0            2631555.0       584.790  Vacant Land           N      None   \n",
       "1            2862855.0       636.190  Vacant Land           N      None   \n",
       "2            2820735.0       626.830  Vacant Land           N      None   \n",
       "3             720000.0       160.000  Vacant Land           N      None   \n",
       "4             627025.0        71.420  Vacant Land           N      None   \n",
       "...                ...           ...          ...         ...       ...   \n",
       "114042         58600.0         0.223   Commercial           N      None   \n",
       "114043        305521.0         1.460   Commercial           N         1   \n",
       "114044        271413.0         1.276   Commercial           N         1   \n",
       "114045        981752.0         5.511   Commercial           N      None   \n",
       "114046             NaN         1.345   Commercial           N      None   \n",
       "\n",
       "        BLDG_SQFT  FLOORS_CNT  BUILT_YR EFFBUILT_YR  \\\n",
       "0             0.0         0.0       NaN        None   \n",
       "1             0.0         0.0       NaN        None   \n",
       "2             0.0         0.0       NaN        None   \n",
       "3             0.0         0.0       NaN        None   \n",
       "4             0.0         0.0       NaN        None   \n",
       "...           ...         ...       ...         ...   \n",
       "114042     1384.0         0.0    1950.0        None   \n",
       "114043     9886.0         1.0    2014.0        None   \n",
       "114044    20968.0         1.0    2017.0        None   \n",
       "114045    76778.0         0.0    2017.0        None   \n",
       "114046        0.0         0.0    2020.0        None   \n",
       "\n",
       "                                                    SHAPE  \\\n",
       "0       {\"x\": 433640.0864000004, \"y\": 4522271.3223, \"s...   \n",
       "1       {\"x\": 432067.84109999985, \"y\": 4522288.0898, \"...   \n",
       "2       {\"x\": 430479.2838000003, \"y\": 4522300.2831, \"s...   \n",
       "3       {\"x\": 428672.2905000001, \"y\": 4522950.6358, \"s...   \n",
       "4       {\"x\": 428162.5903000003, \"y\": 4521728.47340000...   \n",
       "...                                                   ...   \n",
       "114042  {\"x\": 414203.3998999996, \"y\": 4553013.13440000...   \n",
       "114043  {\"x\": 414282.1196999997, \"y\": 4552960.726, \"sp...   \n",
       "114044  {\"x\": 414510.1227000002, \"y\": 4552697.9208, \"s...   \n",
       "114045  {\"x\": 414851.3979000002, \"y\": 4552851.6852, \"s...   \n",
       "114046  {\"x\": 414359.4461000003, \"y\": 4552865.26129999...   \n",
       "\n",
       "                                                CENTROIDS  \\\n",
       "0       {'x': 433640.0864000004, 'y': 4522271.3223, 's...   \n",
       "1       {'x': 432067.84109999985, 'y': 4522288.0898, '...   \n",
       "2       {'x': 430479.2838000003, 'y': 4522300.2831, 's...   \n",
       "3       {'x': 428672.2905000001, 'y': 4522950.6358, 's...   \n",
       "4       {'x': 428162.5903000003, 'y': 4521728.47340000...   \n",
       "...                                                   ...   \n",
       "114042  {'x': 414203.3998999996, 'y': 4553013.13440000...   \n",
       "114043  {'x': 414282.1196999997, 'y': 4552960.726, 'sp...   \n",
       "114044  {'x': 414510.1227000002, 'y': 4552697.9208, 's...   \n",
       "114045  {'x': 414851.3979000002, 'y': 4552851.6852, 's...   \n",
       "114046  {'x': 414359.4461000003, 'y': 4552865.26129999...   \n",
       "\n",
       "                                                    POLYS  \n",
       "0       {'rings': [[[432837.2489, 4523084.3905], [4344...  \n",
       "1       {'rings': [[[431259.5963000003, 4523102.8245],...  \n",
       "2       {'rings': [[[431298.3334999997, 4521492.8399],...  \n",
       "3       {'rings': [[[429278.03220000025, 4523132.31059...  \n",
       "4       {'rings': [[[428065.1196999997, 4522371.7095],...  \n",
       "...                                                   ...  \n",
       "114042  {'rings': [[[414211.6102, 4553028.373], [41422...  \n",
       "114043  {'rings': [[[414302.11479999963, 4552902.90530...  \n",
       "114044  {'rings': [[[414561.9134999998, 4552696.2083],...  \n",
       "114045  {'rings': [[[414893.5239000004, 4552990.350099...  \n",
       "114046  {'rings': [[[414325.5843000002, 4552909.3949],...  \n",
       "\n",
       "[114047 rows x 17 columns]"
      ]
     },
     "execution_count": 126,
     "metadata": {},
     "output_type": "execute_result"
    }
   ],
   "source": [
    "centroid_parcels_df"
   ]
  },
  {
   "cell_type": "markdown",
   "id": "e82f1444",
   "metadata": {
    "heading_collapsed": true
   },
   "source": [
    "# groupby testing"
   ]
  },
  {
   "cell_type": "code",
   "execution_count": 5,
   "id": "d068a2fe",
   "metadata": {
    "hidden": true
   },
   "outputs": [],
   "source": [
    "areas_fc = r'c:/gis/projects/udoh/udoh.gdb/SmallStatisticalAreas_2018'\n",
    "tracts_fc = r'C:\\Users\\jdadams\\AppData\\Roaming\\Esri\\ArcGISPro\\Favorites\\opensgid.agrc.utah.gov.sde\\opensgid.demographic.census_tracts_2020'"
   ]
  },
  {
   "cell_type": "code",
   "execution_count": 6,
   "id": "fbe13e0e",
   "metadata": {
    "hidden": true
   },
   "outputs": [],
   "source": [
    "areas_df = pd.DataFrame.spatial.from_featureclass(areas_fc)\n",
    "tracts_df = pd.DataFrame.spatial.from_featureclass(tracts_fc)"
   ]
  },
  {
   "cell_type": "code",
   "execution_count": 7,
   "id": "5f0423a1",
   "metadata": {
    "hidden": true
   },
   "outputs": [
    {
     "name": "stdout",
     "output_type": "stream",
     "text": [
      "writing parcels to fc\n",
      "feature to point\n",
      "reading centroids to df\n",
      "geoid20        object\n",
      "CENTROIDS    geometry\n",
      "dtype: object\n",
      "joining back\n"
     ]
    }
   ],
   "source": [
    "tracts_with_centroids_df = _add_centroids_to_parcel_df(tracts_df, 'geoid20')"
   ]
  },
  {
   "cell_type": "code",
   "execution_count": 8,
   "id": "213c01e1",
   "metadata": {
    "hidden": true
   },
   "outputs": [],
   "source": [
    "_change_geometry(tracts_with_centroids_df, 'CENTROIDS', 'POLYS')"
   ]
  },
  {
   "cell_type": "code",
   "execution_count": 9,
   "id": "6eb2018a",
   "metadata": {
    "hidden": true
   },
   "outputs": [],
   "source": [
    "areas_joined_df = areas_df.spatial.join(tracts_with_centroids_df, 'inner', 'contains')"
   ]
  },
  {
   "cell_type": "code",
   "execution_count": 10,
   "id": "61a41f94",
   "metadata": {
    "hidden": true
   },
   "outputs": [
    {
     "data": {
      "text/plain": [
       "smallareaname\n",
       "Alpine                          8.864834e+07\n",
       "American Fork                   5.599178e+07\n",
       "Ben Lomond                      3.395271e+08\n",
       "Blanding/Monticello             5.773384e+09\n",
       "Bountiful                       9.298409e+07\n",
       "                                    ...     \n",
       "West Jordan (West)/Copperton    2.316268e+07\n",
       "West Valley (Center)            1.631328e+07\n",
       "West Valley (East) V2           2.805217e+07\n",
       "West Valley (West) V2           3.281206e+07\n",
       "Woods Cross/West Bountiful      3.164638e+07\n",
       "Name: aland20, Length: 99, dtype: float64"
      ]
     },
     "execution_count": 10,
     "metadata": {},
     "output_type": "execute_result"
    }
   ],
   "source": [
    "areas_joined_df.groupby('smallareaname')['aland20'].sum()"
   ]
  },
  {
   "cell_type": "code",
   "execution_count": 11,
   "id": "89bca56e",
   "metadata": {
    "hidden": true
   },
   "outputs": [],
   "source": [
    "areas_by_name_df = areas_df.set_index('smallareaname')"
   ]
  },
  {
   "cell_type": "code",
   "execution_count": 12,
   "id": "c4251db4",
   "metadata": {
    "hidden": true
   },
   "outputs": [
    {
     "data": {
      "text/html": [
       "<div>\n",
       "<style scoped>\n",
       "    .dataframe tbody tr th:only-of-type {\n",
       "        vertical-align: middle;\n",
       "    }\n",
       "\n",
       "    .dataframe tbody tr th {\n",
       "        vertical-align: top;\n",
       "    }\n",
       "\n",
       "    .dataframe thead th {\n",
       "        text-align: right;\n",
       "    }\n",
       "</style>\n",
       "<table border=\"1\" class=\"dataframe\">\n",
       "  <thead>\n",
       "    <tr style=\"text-align: right;\">\n",
       "      <th></th>\n",
       "      <th>OBJECTID</th>\n",
       "      <th>smallareanumber</th>\n",
       "      <th>SHAPE</th>\n",
       "      <th>land</th>\n",
       "    </tr>\n",
       "    <tr>\n",
       "      <th>smallareaname</th>\n",
       "      <th></th>\n",
       "      <th></th>\n",
       "      <th></th>\n",
       "      <th></th>\n",
       "    </tr>\n",
       "  </thead>\n",
       "  <tbody>\n",
       "    <tr>\n",
       "      <th>Alpine</th>\n",
       "      <td>61</td>\n",
       "      <td>42.2</td>\n",
       "      <td>{\"rings\": [[[439836.0700000003, 4487116.82], [...</td>\n",
       "      <td>8.864834e+07</td>\n",
       "    </tr>\n",
       "    <tr>\n",
       "      <th>American Fork</th>\n",
       "      <td>60</td>\n",
       "      <td>42.1</td>\n",
       "      <td>{\"rings\": [[[439487.78000000026, 4479946.93], ...</td>\n",
       "      <td>5.599178e+07</td>\n",
       "    </tr>\n",
       "    <tr>\n",
       "      <th>Ben Lomond</th>\n",
       "      <td>73</td>\n",
       "      <td>5</td>\n",
       "      <td>{\"rings\": [[[405343.53000000026, 4576771.42], ...</td>\n",
       "      <td>3.395271e+08</td>\n",
       "    </tr>\n",
       "    <tr>\n",
       "      <th>Blanding/Monticello</th>\n",
       "      <td>89</td>\n",
       "      <td>57.3</td>\n",
       "      <td>{\"rings\": [[[647234.3200000003, 4242568.18], [...</td>\n",
       "      <td>5.773384e+09</td>\n",
       "    </tr>\n",
       "    <tr>\n",
       "      <th>Bountiful</th>\n",
       "      <td>14</td>\n",
       "      <td>16</td>\n",
       "      <td>{\"rings\": [[[433248, 4530334.6], [433240, 4530...</td>\n",
       "      <td>9.298409e+07</td>\n",
       "    </tr>\n",
       "    <tr>\n",
       "      <th>...</th>\n",
       "      <td>...</td>\n",
       "      <td>...</td>\n",
       "      <td>...</td>\n",
       "      <td>...</td>\n",
       "    </tr>\n",
       "    <tr>\n",
       "      <th>West Jordan (West)/Copperton</th>\n",
       "      <td>42</td>\n",
       "      <td>34.2</td>\n",
       "      <td>{\"rings\": [[[408316.4400000004, 4501536.75], [...</td>\n",
       "      <td>2.316268e+07</td>\n",
       "    </tr>\n",
       "    <tr>\n",
       "      <th>West Valley (Center)</th>\n",
       "      <td>22</td>\n",
       "      <td>22.1</td>\n",
       "      <td>{\"rings\": [[[417478.2999999998, 4508850.199999...</td>\n",
       "      <td>1.631328e+07</td>\n",
       "    </tr>\n",
       "    <tr>\n",
       "      <th>West Valley (East) V2</th>\n",
       "      <td>24</td>\n",
       "      <td>23.1</td>\n",
       "      <td>{\"rings\": [[[423261.2400000002, 4508781.26], [...</td>\n",
       "      <td>2.805217e+07</td>\n",
       "    </tr>\n",
       "    <tr>\n",
       "      <th>West Valley (West) V2</th>\n",
       "      <td>23</td>\n",
       "      <td>22.2</td>\n",
       "      <td>{\"rings\": [[[413492.6500000004, 4508812.74], [...</td>\n",
       "      <td>3.281206e+07</td>\n",
       "    </tr>\n",
       "    <tr>\n",
       "      <th>Woods Cross/West Bountiful</th>\n",
       "      <td>13</td>\n",
       "      <td>15.2</td>\n",
       "      <td>{\"rings\": [[[424877.6200000001, 4528774.23], [...</td>\n",
       "      <td>3.164638e+07</td>\n",
       "    </tr>\n",
       "  </tbody>\n",
       "</table>\n",
       "<p>99 rows × 4 columns</p>\n",
       "</div>"
      ],
      "text/plain": [
       "                              OBJECTID smallareanumber  \\\n",
       "smallareaname                                            \n",
       "Alpine                              61            42.2   \n",
       "American Fork                       60            42.1   \n",
       "Ben Lomond                          73               5   \n",
       "Blanding/Monticello                 89            57.3   \n",
       "Bountiful                           14              16   \n",
       "...                                ...             ...   \n",
       "West Jordan (West)/Copperton        42            34.2   \n",
       "West Valley (Center)                22            22.1   \n",
       "West Valley (East) V2               24            23.1   \n",
       "West Valley (West) V2               23            22.2   \n",
       "Woods Cross/West Bountiful          13            15.2   \n",
       "\n",
       "                                                                          SHAPE  \\\n",
       "smallareaname                                                                     \n",
       "Alpine                        {\"rings\": [[[439836.0700000003, 4487116.82], [...   \n",
       "American Fork                 {\"rings\": [[[439487.78000000026, 4479946.93], ...   \n",
       "Ben Lomond                    {\"rings\": [[[405343.53000000026, 4576771.42], ...   \n",
       "Blanding/Monticello           {\"rings\": [[[647234.3200000003, 4242568.18], [...   \n",
       "Bountiful                     {\"rings\": [[[433248, 4530334.6], [433240, 4530...   \n",
       "...                                                                         ...   \n",
       "West Jordan (West)/Copperton  {\"rings\": [[[408316.4400000004, 4501536.75], [...   \n",
       "West Valley (Center)          {\"rings\": [[[417478.2999999998, 4508850.199999...   \n",
       "West Valley (East) V2         {\"rings\": [[[423261.2400000002, 4508781.26], [...   \n",
       "West Valley (West) V2         {\"rings\": [[[413492.6500000004, 4508812.74], [...   \n",
       "Woods Cross/West Bountiful    {\"rings\": [[[424877.6200000001, 4528774.23], [...   \n",
       "\n",
       "                                      land  \n",
       "smallareaname                               \n",
       "Alpine                        8.864834e+07  \n",
       "American Fork                 5.599178e+07  \n",
       "Ben Lomond                    3.395271e+08  \n",
       "Blanding/Monticello           5.773384e+09  \n",
       "Bountiful                     9.298409e+07  \n",
       "...                                    ...  \n",
       "West Jordan (West)/Copperton  2.316268e+07  \n",
       "West Valley (Center)          1.631328e+07  \n",
       "West Valley (East) V2         2.805217e+07  \n",
       "West Valley (West) V2         3.281206e+07  \n",
       "Woods Cross/West Bountiful    3.164638e+07  \n",
       "\n",
       "[99 rows x 4 columns]"
      ]
     },
     "execution_count": 12,
     "metadata": {},
     "output_type": "execute_result"
    }
   ],
   "source": [
    "pd.concat([areas_by_name_df, areas_joined_df.groupby('smallareaname')['aland20'].sum().rename('land')], axis=1).sort_index()"
   ]
  },
  {
   "cell_type": "code",
   "execution_count": 13,
   "id": "b141900f",
   "metadata": {
    "hidden": true
   },
   "outputs": [
    {
     "data": {
      "text/plain": [
       "715"
      ]
     },
     "execution_count": 13,
     "metadata": {},
     "output_type": "execute_result"
    }
   ],
   "source": [
    "areas_joined_df.groupby('smallareaname')['SHAPE'].count().sum()"
   ]
  },
  {
   "cell_type": "code",
   "execution_count": 14,
   "id": "3c72e469",
   "metadata": {
    "hidden": true
   },
   "outputs": [
    {
     "data": {
      "text/plain": [
       "Index(['OBJECTID', 'smallareanumber', 'smallareaname', 'SHAPE', 'index_right',\n",
       "       'xid', 'statefp20', 'countyfp20', 'tractce20', 'geoid20', 'name20',\n",
       "       'namelsad20', 'mtfcc20', 'funcstat20', 'aland20', 'awater20',\n",
       "       'intptlat20', 'intptlon20', 'CENTROIDS', 'POLYS'],\n",
       "      dtype='object')"
      ]
     },
     "execution_count": 14,
     "metadata": {},
     "output_type": "execute_result"
    }
   ],
   "source": [
    "areas_joined_df.columns"
   ]
  },
  {
   "cell_type": "code",
   "execution_count": 15,
   "id": "c82abf03",
   "metadata": {
    "hidden": true
   },
   "outputs": [
    {
     "data": {
      "text/plain": [
       "Index(['OBJECTID', 'smallareanumber', 'smallareaname', 'SHAPE', 'xid_left',\n",
       "       'statefp20_left', 'countyfp20_left', 'tractce20_left', 'geoid20_left',\n",
       "       'name20_left', 'namelsad20_left', 'mtfcc20_left', 'funcstat20_left',\n",
       "       'aland20_left', 'awater20_left', 'intptlat20_left', 'intptlon20_left',\n",
       "       'CENTROIDS_left', 'POLYS_left', 'index_right', 'xid_right',\n",
       "       'statefp20_right', 'countyfp20_right', 'tractce20_right',\n",
       "       'geoid20_right', 'name20_right', 'namelsad20_right', 'mtfcc20_right',\n",
       "       'funcstat20_right', 'aland20_right', 'awater20_right',\n",
       "       'intptlat20_right', 'intptlon20_right', 'CENTROIDS_right',\n",
       "       'POLYS_right'],\n",
       "      dtype='object')"
      ]
     },
     "execution_count": 15,
     "metadata": {},
     "output_type": "execute_result"
    }
   ],
   "source": [
    "double_join_df = areas_joined_df.drop(columns=['index_right']).spatial.join(tracts_with_centroids_df, 'left', 'contains')\n",
    "double_join_df.columns"
   ]
  },
  {
   "cell_type": "code",
   "execution_count": 16,
   "id": "9e053ad3",
   "metadata": {
    "hidden": true
   },
   "outputs": [
    {
     "data": {
      "text/plain": [
       "geoid20_left\n",
       "49001100100    8\n",
       "49001100200    8\n",
       "49003960100    4\n",
       "49003960200    4\n",
       "49003960301    2\n",
       "              ..\n",
       "49057210900    9\n",
       "49057211000    5\n",
       "49057211100    5\n",
       "49057211201    9\n",
       "49057211202    5\n",
       "Name: SHAPE, Length: 715, dtype: int64"
      ]
     },
     "execution_count": 16,
     "metadata": {},
     "output_type": "execute_result"
    }
   ],
   "source": [
    "double_join_df.groupby('geoid20_left')['SHAPE'].count()"
   ]
  },
  {
   "cell_type": "code",
   "execution_count": 17,
   "id": "72870054",
   "metadata": {
    "hidden": true
   },
   "outputs": [],
   "source": [
    "df = pd.DataFrame({'year1': [5, 10, 0, 9], 'year2':[5, 11, 11, 9]})"
   ]
  },
  {
   "cell_type": "code",
   "execution_count": 18,
   "id": "45e5da13",
   "metadata": {
    "hidden": true
   },
   "outputs": [
    {
     "data": {
      "text/html": [
       "<div>\n",
       "<style scoped>\n",
       "    .dataframe tbody tr th:only-of-type {\n",
       "        vertical-align: middle;\n",
       "    }\n",
       "\n",
       "    .dataframe tbody tr th {\n",
       "        vertical-align: top;\n",
       "    }\n",
       "\n",
       "    .dataframe thead th {\n",
       "        text-align: right;\n",
       "    }\n",
       "</style>\n",
       "<table border=\"1\" class=\"dataframe\">\n",
       "  <thead>\n",
       "    <tr style=\"text-align: right;\">\n",
       "      <th></th>\n",
       "      <th>year1</th>\n",
       "      <th>year2</th>\n",
       "    </tr>\n",
       "  </thead>\n",
       "  <tbody>\n",
       "    <tr>\n",
       "      <th>0</th>\n",
       "      <td>5</td>\n",
       "      <td>5</td>\n",
       "    </tr>\n",
       "    <tr>\n",
       "      <th>1</th>\n",
       "      <td>10</td>\n",
       "      <td>11</td>\n",
       "    </tr>\n",
       "    <tr>\n",
       "      <th>2</th>\n",
       "      <td>0</td>\n",
       "      <td>11</td>\n",
       "    </tr>\n",
       "    <tr>\n",
       "      <th>3</th>\n",
       "      <td>9</td>\n",
       "      <td>9</td>\n",
       "    </tr>\n",
       "  </tbody>\n",
       "</table>\n",
       "</div>"
      ],
      "text/plain": [
       "   year1  year2\n",
       "0      5      5\n",
       "1     10     11\n",
       "2      0     11\n",
       "3      9      9"
      ]
     },
     "execution_count": 18,
     "metadata": {},
     "output_type": "execute_result"
    }
   ],
   "source": [
    "df"
   ]
  },
  {
   "cell_type": "code",
   "execution_count": 19,
   "id": "b2df73df",
   "metadata": {
    "hidden": true
   },
   "outputs": [],
   "source": [
    "df.loc[df['year1'] == 0, 'year1'] = df['year2']"
   ]
  },
  {
   "cell_type": "code",
   "execution_count": 20,
   "id": "d3890b25",
   "metadata": {
    "hidden": true
   },
   "outputs": [
    {
     "data": {
      "text/html": [
       "<div>\n",
       "<style scoped>\n",
       "    .dataframe tbody tr th:only-of-type {\n",
       "        vertical-align: middle;\n",
       "    }\n",
       "\n",
       "    .dataframe tbody tr th {\n",
       "        vertical-align: top;\n",
       "    }\n",
       "\n",
       "    .dataframe thead th {\n",
       "        text-align: right;\n",
       "    }\n",
       "</style>\n",
       "<table border=\"1\" class=\"dataframe\">\n",
       "  <thead>\n",
       "    <tr style=\"text-align: right;\">\n",
       "      <th></th>\n",
       "      <th>year1</th>\n",
       "      <th>year2</th>\n",
       "    </tr>\n",
       "  </thead>\n",
       "  <tbody>\n",
       "    <tr>\n",
       "      <th>0</th>\n",
       "      <td>5</td>\n",
       "      <td>5</td>\n",
       "    </tr>\n",
       "    <tr>\n",
       "      <th>1</th>\n",
       "      <td>10</td>\n",
       "      <td>11</td>\n",
       "    </tr>\n",
       "    <tr>\n",
       "      <th>2</th>\n",
       "      <td>11</td>\n",
       "      <td>11</td>\n",
       "    </tr>\n",
       "    <tr>\n",
       "      <th>3</th>\n",
       "      <td>9</td>\n",
       "      <td>9</td>\n",
       "    </tr>\n",
       "  </tbody>\n",
       "</table>\n",
       "</div>"
      ],
      "text/plain": [
       "   year1  year2\n",
       "0      5      5\n",
       "1     10     11\n",
       "2     11     11\n",
       "3      9      9"
      ]
     },
     "execution_count": 20,
     "metadata": {},
     "output_type": "execute_result"
    }
   ],
   "source": [
    "df"
   ]
  },
  {
   "cell_type": "code",
   "execution_count": 21,
   "id": "e33b5889",
   "metadata": {
    "hidden": true
   },
   "outputs": [
    {
     "data": {
      "text/plain": [
       "3    1\n",
       "4    2\n",
       "Name: foo, dtype: int64"
      ]
     },
     "execution_count": 21,
     "metadata": {},
     "output_type": "execute_result"
    }
   ],
   "source": [
    "pd.Series([1, 2], [3, 4], name='foo')"
   ]
  },
  {
   "cell_type": "code",
   "execution_count": 22,
   "id": "b7782898",
   "metadata": {
    "hidden": true
   },
   "outputs": [
    {
     "data": {
      "text/plain": [
       "['point']"
      ]
     },
     "execution_count": 22,
     "metadata": {},
     "output_type": "execute_result"
    }
   ],
   "source": [
    "tracts_with_centroids_df.spatial.geometry_type"
   ]
  },
  {
   "cell_type": "code",
   "execution_count": 23,
   "id": "7e781a4f",
   "metadata": {
    "hidden": true
   },
   "outputs": [],
   "source": [
    "point_join_df = areas_df.spatial.join(tracts_with_centroids_df, 'left', 'contains')"
   ]
  },
  {
   "cell_type": "code",
   "execution_count": 24,
   "id": "7cb1e433",
   "metadata": {
    "hidden": true
   },
   "outputs": [
    {
     "data": {
      "text/plain": [
       "smallareaname\n",
       "Alpine                           3\n",
       "American Fork                   11\n",
       "Ben Lomond                      15\n",
       "Blanding/Monticello              1\n",
       "Bountiful                       10\n",
       "                                ..\n",
       "West Jordan (West)/Copperton     8\n",
       "West Valley (Center)             9\n",
       "West Valley (East) V2           12\n",
       "West Valley (West) V2            6\n",
       "Woods Cross/West Bountiful       3\n",
       "Name: ap_count, Length: 99, dtype: int64"
      ]
     },
     "execution_count": 24,
     "metadata": {},
     "output_type": "execute_result"
    }
   ],
   "source": [
    "point_join_df.groupby('smallareaname')['SHAPE'].count().rename('ap_count')"
   ]
  },
  {
   "cell_type": "code",
   "execution_count": 25,
   "id": "981371ef",
   "metadata": {
    "hidden": true
   },
   "outputs": [],
   "source": [
    "test_parcels_df = pd.DataFrame({'PARCEL_ID': [1, 1, 1, 2], 'BUILT_YR': [4, 5, 6, 7]})\n",
    "# test_parcels_df.groupby('PARCEL_ID')['BUILT_YR'].agg(pd.Series.mode)\n",
    "grouped = test_parcels_df.groupby('PARCEL_ID')"
   ]
  },
  {
   "cell_type": "code",
   "execution_count": 26,
   "id": "190b06c3",
   "metadata": {
    "hidden": true
   },
   "outputs": [
    {
     "data": {
      "text/plain": [
       "dict_keys([1, 2])"
      ]
     },
     "execution_count": 26,
     "metadata": {},
     "output_type": "execute_result"
    }
   ],
   "source": [
    "grouped.groups.keys()"
   ]
  },
  {
   "cell_type": "code",
   "execution_count": 27,
   "id": "c9fd25c5",
   "metadata": {
    "hidden": true
   },
   "outputs": [
    {
     "data": {
      "text/plain": [
       "1    0\n",
       "2    0\n",
       "3    0\n",
       "dtype: int64"
      ]
     },
     "execution_count": 27,
     "metadata": {},
     "output_type": "execute_result"
    }
   ],
   "source": [
    "test_series = pd.Series(0, index=[1, 2, 3])\n",
    "test_series"
   ]
  },
  {
   "cell_type": "code",
   "execution_count": 28,
   "id": "3e8ac384",
   "metadata": {
    "hidden": true
   },
   "outputs": [
    {
     "data": {
      "text/html": [
       "<div>\n",
       "<style scoped>\n",
       "    .dataframe tbody tr th:only-of-type {\n",
       "        vertical-align: middle;\n",
       "    }\n",
       "\n",
       "    .dataframe tbody tr th {\n",
       "        vertical-align: top;\n",
       "    }\n",
       "\n",
       "    .dataframe thead th {\n",
       "        text-align: right;\n",
       "    }\n",
       "</style>\n",
       "<table border=\"1\" class=\"dataframe\">\n",
       "  <thead>\n",
       "    <tr style=\"text-align: right;\">\n",
       "      <th></th>\n",
       "      <th>id</th>\n",
       "      <th>PtType</th>\n",
       "    </tr>\n",
       "  </thead>\n",
       "  <tbody>\n",
       "    <tr>\n",
       "      <th>0</th>\n",
       "      <td>0</td>\n",
       "      <td></td>\n",
       "    </tr>\n",
       "    <tr>\n",
       "      <th>1</th>\n",
       "      <td>1</td>\n",
       "      <td></td>\n",
       "    </tr>\n",
       "    <tr>\n",
       "      <th>3</th>\n",
       "      <td>3</td>\n",
       "      <td></td>\n",
       "    </tr>\n",
       "  </tbody>\n",
       "</table>\n",
       "</div>"
      ],
      "text/plain": [
       "   id PtType\n",
       "0   0       \n",
       "1   1       \n",
       "3   3       "
      ]
     },
     "execution_count": 28,
     "metadata": {},
     "output_type": "execute_result"
    }
   ],
   "source": [
    "test_df = pd.DataFrame({'id': [0, 1, 2, 3], 'PtType': ['', '', 'BASE ADDRESS', '']})\n",
    "type_column_name = 'PtType'\n",
    "base_address_value = 'BASE ADDRESS'\n",
    "test_df.query(f'{type_column_name} != \"BASE ADDRESS\"')"
   ]
  },
  {
   "cell_type": "code",
   "execution_count": 29,
   "id": "89e9fc2a",
   "metadata": {
    "hidden": true
   },
   "outputs": [
    {
     "data": {
      "text/html": [
       "<div>\n",
       "<style scoped>\n",
       "    .dataframe tbody tr th:only-of-type {\n",
       "        vertical-align: middle;\n",
       "    }\n",
       "\n",
       "    .dataframe tbody tr th {\n",
       "        vertical-align: top;\n",
       "    }\n",
       "\n",
       "    .dataframe thead th {\n",
       "        text-align: right;\n",
       "    }\n",
       "</style>\n",
       "<table border=\"1\" class=\"dataframe\">\n",
       "  <thead>\n",
       "    <tr style=\"text-align: right;\">\n",
       "      <th></th>\n",
       "      <th>id</th>\n",
       "      <th>TYPE_WFRC</th>\n",
       "      <th>SUBTYPE_WFRC</th>\n",
       "    </tr>\n",
       "  </thead>\n",
       "  <tbody>\n",
       "    <tr>\n",
       "      <th>0</th>\n",
       "      <td>1</td>\n",
       "      <td>single_family</td>\n",
       "      <td>pud</td>\n",
       "    </tr>\n",
       "    <tr>\n",
       "      <th>1</th>\n",
       "      <td>2</td>\n",
       "      <td>multi_family</td>\n",
       "      <td></td>\n",
       "    </tr>\n",
       "    <tr>\n",
       "      <th>2</th>\n",
       "      <td>3</td>\n",
       "      <td>multi_family</td>\n",
       "      <td></td>\n",
       "    </tr>\n",
       "  </tbody>\n",
       "</table>\n",
       "</div>"
      ],
      "text/plain": [
       "   id      TYPE_WFRC SUBTYPE_WFRC\n",
       "0   1  single_family          pud\n",
       "1   2   multi_family             \n",
       "2   3   multi_family             "
      ]
     },
     "execution_count": 29,
     "metadata": {},
     "output_type": "execute_result"
    }
   ],
   "source": [
    "class_df = pd.DataFrame({'id': [1, 2, 3], 'TYPE_WFRC':['single_family', 'multi_family', 'multi_family'], 'SUBTYPE_WFRC':['pud', '', '']})\n",
    "class_df"
   ]
  },
  {
   "cell_type": "code",
   "execution_count": 37,
   "id": "5d57fb53",
   "metadata": {
    "hidden": true
   },
   "outputs": [
    {
     "data": {
      "text/html": [
       "<div>\n",
       "<style scoped>\n",
       "    .dataframe tbody tr th:only-of-type {\n",
       "        vertical-align: middle;\n",
       "    }\n",
       "\n",
       "    .dataframe tbody tr th {\n",
       "        vertical-align: top;\n",
       "    }\n",
       "\n",
       "    .dataframe thead th {\n",
       "        text-align: right;\n",
       "    }\n",
       "</style>\n",
       "<table border=\"1\" class=\"dataframe\">\n",
       "  <thead>\n",
       "    <tr style=\"text-align: right;\">\n",
       "      <th></th>\n",
       "      <th>id</th>\n",
       "      <th>TYPE_WFRC</th>\n",
       "      <th>SUBTYPE_WFRC</th>\n",
       "      <th>TYPE</th>\n",
       "      <th>SUBTYPE</th>\n",
       "      <th>basebldg</th>\n",
       "      <th>building_type_id</th>\n",
       "    </tr>\n",
       "  </thead>\n",
       "  <tbody>\n",
       "    <tr>\n",
       "      <th>0</th>\n",
       "      <td>1</td>\n",
       "      <td>single_family</td>\n",
       "      <td>pud</td>\n",
       "      <td></td>\n",
       "      <td></td>\n",
       "      <td></td>\n",
       "      <td></td>\n",
       "    </tr>\n",
       "    <tr>\n",
       "      <th>1</th>\n",
       "      <td>2</td>\n",
       "      <td>multi_family</td>\n",
       "      <td></td>\n",
       "      <td></td>\n",
       "      <td></td>\n",
       "      <td></td>\n",
       "      <td></td>\n",
       "    </tr>\n",
       "    <tr>\n",
       "      <th>2</th>\n",
       "      <td>3</td>\n",
       "      <td>multi_family</td>\n",
       "      <td></td>\n",
       "      <td></td>\n",
       "      <td></td>\n",
       "      <td></td>\n",
       "      <td></td>\n",
       "    </tr>\n",
       "  </tbody>\n",
       "</table>\n",
       "</div>"
      ],
      "text/plain": [
       "   id      TYPE_WFRC SUBTYPE_WFRC TYPE SUBTYPE basebldg building_type_id\n",
       "0   1  single_family          pud                                       \n",
       "1   2   multi_family                                                    \n",
       "2   3   multi_family                                                    "
      ]
     },
     "execution_count": 37,
     "metadata": {},
     "output_type": "execute_result"
    }
   ],
   "source": [
    "class_df['TYPE'] = ''\n",
    "class_df['SUBTYPE'] = ''\n",
    "class_df['basebldg'] = ''\n",
    "class_df['building_type_id'] = ''\n",
    "class_df"
   ]
  },
  {
   "cell_type": "code",
   "execution_count": 56,
   "id": "2c6c834f",
   "metadata": {
    "hidden": true
   },
   "outputs": [],
   "source": [
    "class_df.loc[class_df['SUBTYPE_WFRC'] == 'pud', 'TYPE'] = 'pud'"
   ]
  },
  {
   "cell_type": "code",
   "execution_count": 57,
   "id": "dacaf198",
   "metadata": {
    "hidden": true
   },
   "outputs": [
    {
     "data": {
      "text/html": [
       "<div>\n",
       "<style scoped>\n",
       "    .dataframe tbody tr th:only-of-type {\n",
       "        vertical-align: middle;\n",
       "    }\n",
       "\n",
       "    .dataframe tbody tr th {\n",
       "        vertical-align: top;\n",
       "    }\n",
       "\n",
       "    .dataframe thead th {\n",
       "        text-align: right;\n",
       "    }\n",
       "</style>\n",
       "<table border=\"1\" class=\"dataframe\">\n",
       "  <thead>\n",
       "    <tr style=\"text-align: right;\">\n",
       "      <th></th>\n",
       "      <th>id</th>\n",
       "      <th>TYPE_WFRC</th>\n",
       "      <th>SUBTYPE_WFRC</th>\n",
       "      <th>TYPE</th>\n",
       "      <th>SUBTYPE</th>\n",
       "      <th>basebldg</th>\n",
       "      <th>building_type_id</th>\n",
       "    </tr>\n",
       "  </thead>\n",
       "  <tbody>\n",
       "    <tr>\n",
       "      <th>0</th>\n",
       "      <td>1</td>\n",
       "      <td>single_family</td>\n",
       "      <td>pud</td>\n",
       "      <td>pud</td>\n",
       "      <td></td>\n",
       "      <td></td>\n",
       "      <td></td>\n",
       "    </tr>\n",
       "    <tr>\n",
       "      <th>1</th>\n",
       "      <td>2</td>\n",
       "      <td>multi_family</td>\n",
       "      <td></td>\n",
       "      <td></td>\n",
       "      <td></td>\n",
       "      <td></td>\n",
       "      <td></td>\n",
       "    </tr>\n",
       "    <tr>\n",
       "      <th>2</th>\n",
       "      <td>3</td>\n",
       "      <td>multi_family</td>\n",
       "      <td></td>\n",
       "      <td></td>\n",
       "      <td></td>\n",
       "      <td></td>\n",
       "      <td></td>\n",
       "    </tr>\n",
       "  </tbody>\n",
       "</table>\n",
       "</div>"
      ],
      "text/plain": [
       "   id      TYPE_WFRC SUBTYPE_WFRC TYPE SUBTYPE basebldg building_type_id\n",
       "0   1  single_family          pud  pud                                  \n",
       "1   2   multi_family                                                    \n",
       "2   3   multi_family                                                    "
      ]
     },
     "execution_count": 57,
     "metadata": {},
     "output_type": "execute_result"
    }
   ],
   "source": [
    "class_df"
   ]
  },
  {
   "cell_type": "markdown",
   "id": "10418612",
   "metadata": {
    "heading_collapsed": true
   },
   "source": [
    "# series merge testing"
   ]
  },
  {
   "cell_type": "code",
   "execution_count": 15,
   "id": "af6be76b",
   "metadata": {
    "hidden": true
   },
   "outputs": [],
   "source": [
    "test_parcels_df = pd.DataFrame({\n",
    "    'PARCEL_ID': [10, 11],\n",
    "    'class': ['apartment', 'apartment'],\n",
    "    'SHAPE': ['parcel_shape_10', 'parcel_shape_11'],\n",
    "})\n",
    "\n",
    "test_addr_pts_df = pd.DataFrame({\n",
    "    'addr_id': [1, 2, 3, 4],\n",
    "    'SHAPE': ['addr_1', 'addr_2', 'addr_3', 'addr_4'],\n",
    "})\n",
    "\n",
    "addr_pt_count_series = pd.Series(data=[2, 2], index=[10, 11], name='ap_count')\n",
    "addr_pt_count_series.index.name = 'PARCEL_ID'"
   ]
  },
  {
   "cell_type": "code",
   "execution_count": 17,
   "id": "04143f1e",
   "metadata": {
    "hidden": true
   },
   "outputs": [
    {
     "data": {
      "text/html": [
       "<div>\n",
       "<style scoped>\n",
       "    .dataframe tbody tr th:only-of-type {\n",
       "        vertical-align: middle;\n",
       "    }\n",
       "\n",
       "    .dataframe tbody tr th {\n",
       "        vertical-align: top;\n",
       "    }\n",
       "\n",
       "    .dataframe thead th {\n",
       "        text-align: right;\n",
       "    }\n",
       "</style>\n",
       "<table border=\"1\" class=\"dataframe\">\n",
       "  <thead>\n",
       "    <tr style=\"text-align: right;\">\n",
       "      <th></th>\n",
       "      <th>PARCEL_ID</th>\n",
       "      <th>class</th>\n",
       "      <th>SHAPE</th>\n",
       "      <th>ap_count</th>\n",
       "    </tr>\n",
       "  </thead>\n",
       "  <tbody>\n",
       "    <tr>\n",
       "      <th>0</th>\n",
       "      <td>10</td>\n",
       "      <td>apartment</td>\n",
       "      <td>parcel_shape_10</td>\n",
       "      <td>2</td>\n",
       "    </tr>\n",
       "    <tr>\n",
       "      <th>1</th>\n",
       "      <td>11</td>\n",
       "      <td>apartment</td>\n",
       "      <td>parcel_shape_11</td>\n",
       "      <td>2</td>\n",
       "    </tr>\n",
       "  </tbody>\n",
       "</table>\n",
       "</div>"
      ],
      "text/plain": [
       "   PARCEL_ID      class            SHAPE  ap_count\n",
       "0         10  apartment  parcel_shape_10         2\n",
       "1         11  apartment  parcel_shape_11         2"
      ]
     },
     "execution_count": 17,
     "metadata": {},
     "output_type": "execute_result"
    }
   ],
   "source": [
    "test_parcels_df.merge(addr_pt_count_series, how='left', on='PARCEL_ID')"
   ]
  },
  {
   "cell_type": "code",
   "execution_count": 10,
   "id": "5772094e",
   "metadata": {
    "hidden": true
   },
   "outputs": [
    {
     "data": {
      "text/plain": [
       "Int64Index([11, 12], dtype='int64', name='PARCEL_ID')"
      ]
     },
     "execution_count": 10,
     "metadata": {},
     "output_type": "execute_result"
    }
   ],
   "source": [
    "addr_pt_count_series.index"
   ]
  },
  {
   "cell_type": "code",
   "execution_count": 22,
   "id": "a3d2937d",
   "metadata": {
    "hidden": true
   },
   "outputs": [
    {
     "data": {
      "text/plain": [
       "Series([], Name: ap_count, dtype: int64)"
      ]
     },
     "execution_count": 22,
     "metadata": {},
     "output_type": "execute_result"
    }
   ],
   "source": [
    "pd.Series(name='ap_count', dtype=np.int64)"
   ]
  },
  {
   "cell_type": "markdown",
   "id": "eaa08ab5",
   "metadata": {
    "heading_collapsed": true
   },
   "source": [
    "# Field standardization"
   ]
  },
  {
   "cell_type": "code",
   "execution_count": 2,
   "id": "0aecbb49",
   "metadata": {
    "hidden": true
   },
   "outputs": [],
   "source": [
    "field_mapping = {'account_no': 'PARCEL_ID', 'class': 'class'}"
   ]
  },
  {
   "cell_type": "code",
   "execution_count": 4,
   "id": "a2472a1e",
   "metadata": {
    "hidden": true
   },
   "outputs": [
    {
     "name": "stdout",
     "output_type": "stream",
     "text": [
      "account_no\n",
      "class\n"
     ]
    }
   ],
   "source": [
    "for original_field in field_mapping.keys():\n",
    "    print(original_field)"
   ]
  },
  {
   "cell_type": "code",
   "execution_count": 10,
   "id": "5082c37e",
   "metadata": {
    "hidden": true
   },
   "outputs": [
    {
     "data": {
      "text/plain": [
       "True"
      ]
     },
     "execution_count": 10,
     "metadata": {},
     "output_type": "execute_result"
    }
   ],
   "source": [
    "test_df = pd.DataFrame({\n",
    "    'foo': [1, 2, 3],\n",
    "    'bar': [4, 5, 6],\n",
    "})\n",
    "'foo' in test_df.columns\n",
    "# test_df.columns"
   ]
  },
  {
   "cell_type": "code",
   "execution_count": 12,
   "id": "42694bea",
   "metadata": {
    "hidden": true
   },
   "outputs": [
    {
     "data": {
      "text/plain": [
       "['foo', 'bar']"
      ]
     },
     "execution_count": 12,
     "metadata": {},
     "output_type": "execute_result"
    }
   ],
   "source": [
    "list(test_df.columns)"
   ]
  },
  {
   "cell_type": "code",
   "execution_count": 80,
   "id": "f6ce090b",
   "metadata": {
    "hidden": true
   },
   "outputs": [
    {
     "name": "stdout",
     "output_type": "stream",
     "text": [
      "writing parcels to fc\n",
      "feature to point\n",
      "reading centroids to df\n",
      "PARCEL_ID      object\n",
      "CENTROIDS    geometry\n",
      "dtype: object\n",
      "joining back\n"
     ]
    }
   ],
   "source": [
    "davis_parcels_fc = r'C:\\gis\\git\\housing-unit-inventory\\Parcels\\2020-Davis\\Inputs\\Davis_County_LIR_Parcels.gdb\\Parcels_Davis_LIR_UTM12'\n",
    "davis_common_areas_fc = r'C:\\gis\\git\\housing-unit-inventory\\Parcels\\2020-Davis\\Inputs\\Common_Areas.gdb\\Common_Areas_Reviewed'\n",
    "\n",
    "# davis_parcels_df = pd.DataFrame.spatial.from_featureclass(davis_parcels_fc)\n",
    "davis_parcels_df = _dissolve_duplicate_parcels(davis_parcels_fc)\n",
    "davis_parcels_with_centroids_df = _add_centroids_to_parcel_df(davis_parcels_df, 'PARCEL_ID')\n",
    "davis_common_areas_df = pd.DataFrame.spatial.from_featureclass(davis_common_areas_fc)"
   ]
  },
  {
   "cell_type": "code",
   "execution_count": 81,
   "id": "d23b2350",
   "metadata": {
    "hidden": true
   },
   "outputs": [],
   "source": [
    "def _remove_empty_geometries(dfs, shape_field='SHAPE'):\n",
    "    for df in dfs:\n",
    "        df.dropna(subset=[shape_field], inplace=True)"
   ]
  },
  {
   "cell_type": "code",
   "execution_count": 82,
   "id": "833741bc",
   "metadata": {
    "hidden": true
   },
   "outputs": [],
   "source": [
    "_remove_empty_geometries([davis_common_areas_df, davis_parcels_with_centroids_df])"
   ]
  },
  {
   "cell_type": "code",
   "execution_count": 83,
   "id": "d105c6ac",
   "metadata": {
    "hidden": true
   },
   "outputs": [
    {
     "name": "stderr",
     "output_type": "stream",
     "text": [
      "C:\\Users\\jdadams\\Miniconda3\\envs\\housing\\lib\\site-packages\\ipykernel_launcher.py:6: SettingWithCopyWarning: \n",
      "A value is trying to be set on a copy of a slice from a DataFrame.\n",
      "Try using .loc[row_indexer,col_indexer] = value instead\n",
      "\n",
      "See the caveats in the documentation: https://pandas.pydata.org/pandas-docs/stable/user_guide/indexing.html#returning-a-view-versus-a-copy\n",
      "  \n"
     ]
    }
   ],
   "source": [
    "common_area_key = 'common_area_key'\n",
    "davis_common_areas_df[common_area_key] = davis_common_areas_df['OBJECTID']\n",
    "\n",
    "common_areas_subset_df = davis_common_areas_df[(davis_common_areas_df['SUBTYPE_WFRC'] == 'pud') |\n",
    "                                               (davis_common_areas_df['TYPE_WFRC'] == 'multi_family')]\n",
    "common_areas_subset_df['IS_OUG'] = 1"
   ]
  },
  {
   "cell_type": "code",
   "execution_count": 84,
   "id": "a555224d",
   "metadata": {
    "hidden": true
   },
   "outputs": [],
   "source": [
    "_change_geometry(davis_parcels_with_centroids_df, 'CENTROIDS', 'POLYS')\n",
    "parcels_with_pud_join = davis_parcels_with_centroids_df.spatial.join(common_areas_subset_df, 'left', 'within')"
   ]
  },
  {
   "cell_type": "code",
   "execution_count": 65,
   "id": "fcec7fd6",
   "metadata": {
    "hidden": true
   },
   "outputs": [
    {
     "name": "stdout",
     "output_type": "stream",
     "text": [
      "(114047, 15)\n",
      "(114232, 23)\n"
     ]
    }
   ],
   "source": [
    "print(davis_parcels_df.shape)\n",
    "print(parcels_with_pud_join.shape)"
   ]
  },
  {
   "cell_type": "code",
   "execution_count": 85,
   "id": "87bfe410",
   "metadata": {
    "hidden": true
   },
   "outputs": [
    {
     "data": {
      "text/html": [
       "<div>\n",
       "<style scoped>\n",
       "    .dataframe tbody tr th:only-of-type {\n",
       "        vertical-align: middle;\n",
       "    }\n",
       "\n",
       "    .dataframe tbody tr th {\n",
       "        vertical-align: top;\n",
       "    }\n",
       "\n",
       "    .dataframe thead th {\n",
       "        text-align: right;\n",
       "    }\n",
       "</style>\n",
       "<table border=\"1\" class=\"dataframe\">\n",
       "  <thead>\n",
       "    <tr style=\"text-align: right;\">\n",
       "      <th></th>\n",
       "      <th>OBJECTID</th>\n",
       "      <th>PARCEL_ID</th>\n",
       "      <th>COUNT_PARCEL_ID</th>\n",
       "      <th>TAXEXEMPT_TYPE</th>\n",
       "      <th>TOTAL_MKT_VALUE</th>\n",
       "      <th>LAND_MKT_VALUE</th>\n",
       "      <th>PARCEL_ACRES</th>\n",
       "      <th>PROP_CLASS</th>\n",
       "      <th>PRIMARY_RES</th>\n",
       "      <th>HOUSE_CNT</th>\n",
       "      <th>BLDG_SQFT</th>\n",
       "      <th>FLOORS_CNT</th>\n",
       "      <th>BUILT_YR</th>\n",
       "      <th>EFFBUILT_YR</th>\n",
       "      <th>SHAPE</th>\n",
       "    </tr>\n",
       "  </thead>\n",
       "  <tbody>\n",
       "  </tbody>\n",
       "</table>\n",
       "</div>"
      ],
      "text/plain": [
       "Empty DataFrame\n",
       "Columns: [OBJECTID, PARCEL_ID, COUNT_PARCEL_ID, TAXEXEMPT_TYPE, TOTAL_MKT_VALUE, LAND_MKT_VALUE, PARCEL_ACRES, PROP_CLASS, PRIMARY_RES, HOUSE_CNT, BLDG_SQFT, FLOORS_CNT, BUILT_YR, EFFBUILT_YR, SHAPE]\n",
       "Index: []"
      ]
     },
     "execution_count": 85,
     "metadata": {},
     "output_type": "execute_result"
    }
   ],
   "source": [
    "davis_parcels_df[davis_parcels_df.duplicated(subset=['PARCEL_ID'], keep=False)]"
   ]
  },
  {
   "cell_type": "code",
   "execution_count": 86,
   "id": "07ed9658",
   "metadata": {
    "hidden": true
   },
   "outputs": [],
   "source": [
    "dup_parcel_ids = parcels_with_pud_join[parcels_with_pud_join.duplicated(subset=['PARCEL_ID'], keep=False)]"
   ]
  },
  {
   "cell_type": "code",
   "execution_count": 42,
   "id": "c3c6c2ca",
   "metadata": {
    "hidden": true
   },
   "outputs": [
    {
     "data": {
      "text/plain": [
       "'c:\\\\gis\\\\Projects\\\\housinginventory\\\\housinginventory.gdb\\\\within_dup_pids'"
      ]
     },
     "execution_count": 42,
     "metadata": {},
     "output_type": "execute_result"
    }
   ],
   "source": [
    "dup_parcel_ids.spatial.to_featureclass(r'c:\\gis\\projects\\housinginventory\\housinginventory.gdb\\within_dup_pids')"
   ]
  },
  {
   "cell_type": "code",
   "execution_count": 87,
   "id": "77d004d7",
   "metadata": {
    "hidden": true
   },
   "outputs": [
    {
     "data": {
      "text/html": [
       "<div>\n",
       "<style scoped>\n",
       "    .dataframe tbody tr th:only-of-type {\n",
       "        vertical-align: middle;\n",
       "    }\n",
       "\n",
       "    .dataframe tbody tr th {\n",
       "        vertical-align: top;\n",
       "    }\n",
       "\n",
       "    .dataframe thead th {\n",
       "        text-align: right;\n",
       "    }\n",
       "</style>\n",
       "<table border=\"1\" class=\"dataframe\">\n",
       "  <thead>\n",
       "    <tr style=\"text-align: right;\">\n",
       "      <th></th>\n",
       "      <th>OBJECTID_left</th>\n",
       "      <th>PARCEL_ID</th>\n",
       "      <th>COUNT_PARCEL_ID</th>\n",
       "      <th>TAXEXEMPT_TYPE</th>\n",
       "      <th>TOTAL_MKT_VALUE</th>\n",
       "      <th>LAND_MKT_VALUE</th>\n",
       "      <th>PARCEL_ACRES</th>\n",
       "      <th>PROP_CLASS</th>\n",
       "      <th>PRIMARY_RES</th>\n",
       "      <th>HOUSE_CNT</th>\n",
       "      <th>...</th>\n",
       "      <th>CENTROIDS</th>\n",
       "      <th>POLYS</th>\n",
       "      <th>index_right</th>\n",
       "      <th>OBJECTID_right</th>\n",
       "      <th>SUBTYPE_WFRC</th>\n",
       "      <th>Review</th>\n",
       "      <th>MERGE_SRC</th>\n",
       "      <th>TYPE_WFRC</th>\n",
       "      <th>common_area_key</th>\n",
       "      <th>IS_OUG</th>\n",
       "    </tr>\n",
       "  </thead>\n",
       "  <tbody>\n",
       "    <tr>\n",
       "      <th>77558</th>\n",
       "      <td>77560</td>\n",
       "      <td>118100001</td>\n",
       "      <td>1.0</td>\n",
       "      <td>NO</td>\n",
       "      <td>300000.0</td>\n",
       "      <td>98800.0</td>\n",
       "      <td>0.050</td>\n",
       "      <td>Residential</td>\n",
       "      <td>Y</td>\n",
       "      <td>1</td>\n",
       "      <td>...</td>\n",
       "      <td>{'x': 416165.37789999973, 'y': 4543773.3864999...</td>\n",
       "      <td>{'rings': [[[416154.9603000004, 4543770.784399...</td>\n",
       "      <td>285.0</td>\n",
       "      <td>287.0</td>\n",
       "      <td>townhome</td>\n",
       "      <td>1.0</td>\n",
       "      <td>Common_Areas_Josh</td>\n",
       "      <td>multi_family</td>\n",
       "      <td>287.0</td>\n",
       "      <td>1.0</td>\n",
       "    </tr>\n",
       "    <tr>\n",
       "      <th>77559</th>\n",
       "      <td>77560</td>\n",
       "      <td>118100001</td>\n",
       "      <td>1.0</td>\n",
       "      <td>NO</td>\n",
       "      <td>300000.0</td>\n",
       "      <td>98800.0</td>\n",
       "      <td>0.050</td>\n",
       "      <td>Residential</td>\n",
       "      <td>Y</td>\n",
       "      <td>1</td>\n",
       "      <td>...</td>\n",
       "      <td>{'x': 416165.37789999973, 'y': 4543773.3864999...</td>\n",
       "      <td>{'rings': [[[416154.9603000004, 4543770.784399...</td>\n",
       "      <td>341.0</td>\n",
       "      <td>343.0</td>\n",
       "      <td>townhome</td>\n",
       "      <td>1.0</td>\n",
       "      <td>_02c_common_areas_Nicole</td>\n",
       "      <td>multi_family</td>\n",
       "      <td>343.0</td>\n",
       "      <td>1.0</td>\n",
       "    </tr>\n",
       "    <tr>\n",
       "      <th>77560</th>\n",
       "      <td>77561</td>\n",
       "      <td>118100002</td>\n",
       "      <td>1.0</td>\n",
       "      <td>NO</td>\n",
       "      <td>297000.0</td>\n",
       "      <td>98800.0</td>\n",
       "      <td>0.050</td>\n",
       "      <td>Residential</td>\n",
       "      <td>Y</td>\n",
       "      <td>1</td>\n",
       "      <td>...</td>\n",
       "      <td>{'x': 416157.0996000003, 'y': 4543781.04329999...</td>\n",
       "      <td>{'rings': [[[416167.73000000045, 4543783.86339...</td>\n",
       "      <td>285.0</td>\n",
       "      <td>287.0</td>\n",
       "      <td>townhome</td>\n",
       "      <td>1.0</td>\n",
       "      <td>Common_Areas_Josh</td>\n",
       "      <td>multi_family</td>\n",
       "      <td>287.0</td>\n",
       "      <td>1.0</td>\n",
       "    </tr>\n",
       "    <tr>\n",
       "      <th>77561</th>\n",
       "      <td>77561</td>\n",
       "      <td>118100002</td>\n",
       "      <td>1.0</td>\n",
       "      <td>NO</td>\n",
       "      <td>297000.0</td>\n",
       "      <td>98800.0</td>\n",
       "      <td>0.050</td>\n",
       "      <td>Residential</td>\n",
       "      <td>Y</td>\n",
       "      <td>1</td>\n",
       "      <td>...</td>\n",
       "      <td>{'x': 416157.0996000003, 'y': 4543781.04329999...</td>\n",
       "      <td>{'rings': [[[416167.73000000045, 4543783.86339...</td>\n",
       "      <td>341.0</td>\n",
       "      <td>343.0</td>\n",
       "      <td>townhome</td>\n",
       "      <td>1.0</td>\n",
       "      <td>_02c_common_areas_Nicole</td>\n",
       "      <td>multi_family</td>\n",
       "      <td>343.0</td>\n",
       "      <td>1.0</td>\n",
       "    </tr>\n",
       "    <tr>\n",
       "      <th>77562</th>\n",
       "      <td>77562</td>\n",
       "      <td>118100003</td>\n",
       "      <td>1.0</td>\n",
       "      <td>NO</td>\n",
       "      <td>300000.0</td>\n",
       "      <td>98800.0</td>\n",
       "      <td>0.050</td>\n",
       "      <td>Residential</td>\n",
       "      <td>Y</td>\n",
       "      <td>1</td>\n",
       "      <td>...</td>\n",
       "      <td>{'x': 416149.24700000044, 'y': 4543789.136, 's...</td>\n",
       "      <td>{'rings': [[[416159.6646999996, 4543791.7382],...</td>\n",
       "      <td>285.0</td>\n",
       "      <td>287.0</td>\n",
       "      <td>townhome</td>\n",
       "      <td>1.0</td>\n",
       "      <td>Common_Areas_Josh</td>\n",
       "      <td>multi_family</td>\n",
       "      <td>287.0</td>\n",
       "      <td>1.0</td>\n",
       "    </tr>\n",
       "    <tr>\n",
       "      <th>...</th>\n",
       "      <td>...</td>\n",
       "      <td>...</td>\n",
       "      <td>...</td>\n",
       "      <td>...</td>\n",
       "      <td>...</td>\n",
       "      <td>...</td>\n",
       "      <td>...</td>\n",
       "      <td>...</td>\n",
       "      <td>...</td>\n",
       "      <td>...</td>\n",
       "      <td>...</td>\n",
       "      <td>...</td>\n",
       "      <td>...</td>\n",
       "      <td>...</td>\n",
       "      <td>...</td>\n",
       "      <td>...</td>\n",
       "      <td>...</td>\n",
       "      <td>...</td>\n",
       "      <td>...</td>\n",
       "      <td>...</td>\n",
       "      <td>...</td>\n",
       "    </tr>\n",
       "    <tr>\n",
       "      <th>103806</th>\n",
       "      <td>103614</td>\n",
       "      <td>133090076</td>\n",
       "      <td>1.0</td>\n",
       "      <td>NO</td>\n",
       "      <td>184000.0</td>\n",
       "      <td>48000.0</td>\n",
       "      <td>0.020</td>\n",
       "      <td>Residential</td>\n",
       "      <td>Y</td>\n",
       "      <td>1</td>\n",
       "      <td>...</td>\n",
       "      <td>{'x': 413077.6827999996, 'y': 4555900.33190000...</td>\n",
       "      <td>{'rings': [[[413075.44070000015, 4555893.6346]...</td>\n",
       "      <td>538.0</td>\n",
       "      <td>544.0</td>\n",
       "      <td>townhome</td>\n",
       "      <td>1.0</td>\n",
       "      <td>_02c_common_areas_Nicole</td>\n",
       "      <td>multi_family</td>\n",
       "      <td>544.0</td>\n",
       "      <td>1.0</td>\n",
       "    </tr>\n",
       "    <tr>\n",
       "      <th>103807</th>\n",
       "      <td>103615</td>\n",
       "      <td>133090077</td>\n",
       "      <td>2.0</td>\n",
       "      <td>COMMON</td>\n",
       "      <td>3110.0</td>\n",
       "      <td>3110.0</td>\n",
       "      <td>6.220</td>\n",
       "      <td>Vacant Land</td>\n",
       "      <td>N</td>\n",
       "      <td>None</td>\n",
       "      <td>...</td>\n",
       "      <td>{'x': 413070.4210000001, 'y': 4556123.01469999...</td>\n",
       "      <td>{'rings': [[[413101.80929999985, 4556222.8649]...</td>\n",
       "      <td>290.0</td>\n",
       "      <td>292.0</td>\n",
       "      <td>townhome</td>\n",
       "      <td>1.0</td>\n",
       "      <td>Common_Areas_Josh</td>\n",
       "      <td>multi_family</td>\n",
       "      <td>292.0</td>\n",
       "      <td>1.0</td>\n",
       "    </tr>\n",
       "    <tr>\n",
       "      <th>103808</th>\n",
       "      <td>103615</td>\n",
       "      <td>133090077</td>\n",
       "      <td>2.0</td>\n",
       "      <td>COMMON</td>\n",
       "      <td>3110.0</td>\n",
       "      <td>3110.0</td>\n",
       "      <td>6.220</td>\n",
       "      <td>Vacant Land</td>\n",
       "      <td>N</td>\n",
       "      <td>None</td>\n",
       "      <td>...</td>\n",
       "      <td>{'x': 413070.4210000001, 'y': 4556123.01469999...</td>\n",
       "      <td>{'rings': [[[413101.80929999985, 4556222.8649]...</td>\n",
       "      <td>540.0</td>\n",
       "      <td>546.0</td>\n",
       "      <td>townhome</td>\n",
       "      <td>1.0</td>\n",
       "      <td>_02c_common_areas_Nicole</td>\n",
       "      <td>multi_family</td>\n",
       "      <td>546.0</td>\n",
       "      <td>1.0</td>\n",
       "    </tr>\n",
       "    <tr>\n",
       "      <th>103809</th>\n",
       "      <td>103616</td>\n",
       "      <td>133090078</td>\n",
       "      <td>1.0</td>\n",
       "      <td>COMMON</td>\n",
       "      <td>90.0</td>\n",
       "      <td>90.0</td>\n",
       "      <td>0.179</td>\n",
       "      <td>Vacant Land</td>\n",
       "      <td>N</td>\n",
       "      <td>None</td>\n",
       "      <td>...</td>\n",
       "      <td>{'x': 413074.9819, 'y': 4555886.4783, 'spatial...</td>\n",
       "      <td>{'rings': [[[413084.7778000003, 4555907.628900...</td>\n",
       "      <td>288.0</td>\n",
       "      <td>290.0</td>\n",
       "      <td>townhome</td>\n",
       "      <td>1.0</td>\n",
       "      <td>Common_Areas_Josh</td>\n",
       "      <td>multi_family</td>\n",
       "      <td>290.0</td>\n",
       "      <td>1.0</td>\n",
       "    </tr>\n",
       "    <tr>\n",
       "      <th>103810</th>\n",
       "      <td>103616</td>\n",
       "      <td>133090078</td>\n",
       "      <td>1.0</td>\n",
       "      <td>COMMON</td>\n",
       "      <td>90.0</td>\n",
       "      <td>90.0</td>\n",
       "      <td>0.179</td>\n",
       "      <td>Vacant Land</td>\n",
       "      <td>N</td>\n",
       "      <td>None</td>\n",
       "      <td>...</td>\n",
       "      <td>{'x': 413074.9819, 'y': 4555886.4783, 'spatial...</td>\n",
       "      <td>{'rings': [[[413084.7778000003, 4555907.628900...</td>\n",
       "      <td>538.0</td>\n",
       "      <td>544.0</td>\n",
       "      <td>townhome</td>\n",
       "      <td>1.0</td>\n",
       "      <td>_02c_common_areas_Nicole</td>\n",
       "      <td>multi_family</td>\n",
       "      <td>544.0</td>\n",
       "      <td>1.0</td>\n",
       "    </tr>\n",
       "  </tbody>\n",
       "</table>\n",
       "<p>392 rows × 25 columns</p>\n",
       "</div>"
      ],
      "text/plain": [
       "        OBJECTID_left  PARCEL_ID  COUNT_PARCEL_ID TAXEXEMPT_TYPE  \\\n",
       "77558           77560  118100001              1.0             NO   \n",
       "77559           77560  118100001              1.0             NO   \n",
       "77560           77561  118100002              1.0             NO   \n",
       "77561           77561  118100002              1.0             NO   \n",
       "77562           77562  118100003              1.0             NO   \n",
       "...               ...        ...              ...            ...   \n",
       "103806         103614  133090076              1.0             NO   \n",
       "103807         103615  133090077              2.0         COMMON   \n",
       "103808         103615  133090077              2.0         COMMON   \n",
       "103809         103616  133090078              1.0         COMMON   \n",
       "103810         103616  133090078              1.0         COMMON   \n",
       "\n",
       "        TOTAL_MKT_VALUE  LAND_MKT_VALUE  PARCEL_ACRES   PROP_CLASS  \\\n",
       "77558          300000.0         98800.0         0.050  Residential   \n",
       "77559          300000.0         98800.0         0.050  Residential   \n",
       "77560          297000.0         98800.0         0.050  Residential   \n",
       "77561          297000.0         98800.0         0.050  Residential   \n",
       "77562          300000.0         98800.0         0.050  Residential   \n",
       "...                 ...             ...           ...          ...   \n",
       "103806         184000.0         48000.0         0.020  Residential   \n",
       "103807           3110.0          3110.0         6.220  Vacant Land   \n",
       "103808           3110.0          3110.0         6.220  Vacant Land   \n",
       "103809             90.0            90.0         0.179  Vacant Land   \n",
       "103810             90.0            90.0         0.179  Vacant Land   \n",
       "\n",
       "       PRIMARY_RES HOUSE_CNT  ...  \\\n",
       "77558            Y         1  ...   \n",
       "77559            Y         1  ...   \n",
       "77560            Y         1  ...   \n",
       "77561            Y         1  ...   \n",
       "77562            Y         1  ...   \n",
       "...            ...       ...  ...   \n",
       "103806           Y         1  ...   \n",
       "103807           N      None  ...   \n",
       "103808           N      None  ...   \n",
       "103809           N      None  ...   \n",
       "103810           N      None  ...   \n",
       "\n",
       "                                                CENTROIDS  \\\n",
       "77558   {'x': 416165.37789999973, 'y': 4543773.3864999...   \n",
       "77559   {'x': 416165.37789999973, 'y': 4543773.3864999...   \n",
       "77560   {'x': 416157.0996000003, 'y': 4543781.04329999...   \n",
       "77561   {'x': 416157.0996000003, 'y': 4543781.04329999...   \n",
       "77562   {'x': 416149.24700000044, 'y': 4543789.136, 's...   \n",
       "...                                                   ...   \n",
       "103806  {'x': 413077.6827999996, 'y': 4555900.33190000...   \n",
       "103807  {'x': 413070.4210000001, 'y': 4556123.01469999...   \n",
       "103808  {'x': 413070.4210000001, 'y': 4556123.01469999...   \n",
       "103809  {'x': 413074.9819, 'y': 4555886.4783, 'spatial...   \n",
       "103810  {'x': 413074.9819, 'y': 4555886.4783, 'spatial...   \n",
       "\n",
       "                                                    POLYS  index_right  \\\n",
       "77558   {'rings': [[[416154.9603000004, 4543770.784399...        285.0   \n",
       "77559   {'rings': [[[416154.9603000004, 4543770.784399...        341.0   \n",
       "77560   {'rings': [[[416167.73000000045, 4543783.86339...        285.0   \n",
       "77561   {'rings': [[[416167.73000000045, 4543783.86339...        341.0   \n",
       "77562   {'rings': [[[416159.6646999996, 4543791.7382],...        285.0   \n",
       "...                                                   ...          ...   \n",
       "103806  {'rings': [[[413075.44070000015, 4555893.6346]...        538.0   \n",
       "103807  {'rings': [[[413101.80929999985, 4556222.8649]...        290.0   \n",
       "103808  {'rings': [[[413101.80929999985, 4556222.8649]...        540.0   \n",
       "103809  {'rings': [[[413084.7778000003, 4555907.628900...        288.0   \n",
       "103810  {'rings': [[[413084.7778000003, 4555907.628900...        538.0   \n",
       "\n",
       "       OBJECTID_right SUBTYPE_WFRC Review                 MERGE_SRC  \\\n",
       "77558           287.0     townhome    1.0         Common_Areas_Josh   \n",
       "77559           343.0     townhome    1.0  _02c_common_areas_Nicole   \n",
       "77560           287.0     townhome    1.0         Common_Areas_Josh   \n",
       "77561           343.0     townhome    1.0  _02c_common_areas_Nicole   \n",
       "77562           287.0     townhome    1.0         Common_Areas_Josh   \n",
       "...               ...          ...    ...                       ...   \n",
       "103806          544.0     townhome    1.0  _02c_common_areas_Nicole   \n",
       "103807          292.0     townhome    1.0         Common_Areas_Josh   \n",
       "103808          546.0     townhome    1.0  _02c_common_areas_Nicole   \n",
       "103809          290.0     townhome    1.0         Common_Areas_Josh   \n",
       "103810          544.0     townhome    1.0  _02c_common_areas_Nicole   \n",
       "\n",
       "           TYPE_WFRC  common_area_key IS_OUG  \n",
       "77558   multi_family            287.0    1.0  \n",
       "77559   multi_family            343.0    1.0  \n",
       "77560   multi_family            287.0    1.0  \n",
       "77561   multi_family            343.0    1.0  \n",
       "77562   multi_family            287.0    1.0  \n",
       "...              ...              ...    ...  \n",
       "103806  multi_family            544.0    1.0  \n",
       "103807  multi_family            292.0    1.0  \n",
       "103808  multi_family            546.0    1.0  \n",
       "103809  multi_family            290.0    1.0  \n",
       "103810  multi_family            544.0    1.0  \n",
       "\n",
       "[392 rows x 25 columns]"
      ]
     },
     "execution_count": 87,
     "metadata": {},
     "output_type": "execute_result"
    }
   ],
   "source": [
    "dup_parcel_ids"
   ]
  },
  {
   "cell_type": "code",
   "execution_count": 88,
   "id": "b42594ae",
   "metadata": {
    "hidden": true
   },
   "outputs": [
    {
     "data": {
      "text/html": [
       "<div>\n",
       "<style scoped>\n",
       "    .dataframe tbody tr th:only-of-type {\n",
       "        vertical-align: middle;\n",
       "    }\n",
       "\n",
       "    .dataframe tbody tr th {\n",
       "        vertical-align: top;\n",
       "    }\n",
       "\n",
       "    .dataframe thead th {\n",
       "        text-align: right;\n",
       "    }\n",
       "</style>\n",
       "<table border=\"1\" class=\"dataframe\">\n",
       "  <thead>\n",
       "    <tr style=\"text-align: right;\">\n",
       "      <th></th>\n",
       "      <th>OBJECTID_left</th>\n",
       "      <th>PARCEL_ID</th>\n",
       "      <th>COUNT_PARCEL_ID</th>\n",
       "      <th>TAXEXEMPT_TYPE</th>\n",
       "      <th>TOTAL_MKT_VALUE</th>\n",
       "      <th>LAND_MKT_VALUE</th>\n",
       "      <th>PARCEL_ACRES</th>\n",
       "      <th>PROP_CLASS</th>\n",
       "      <th>PRIMARY_RES</th>\n",
       "      <th>HOUSE_CNT</th>\n",
       "      <th>...</th>\n",
       "      <th>CENTROIDS</th>\n",
       "      <th>POLYS</th>\n",
       "      <th>index_right</th>\n",
       "      <th>OBJECTID_right</th>\n",
       "      <th>SUBTYPE_WFRC</th>\n",
       "      <th>Review</th>\n",
       "      <th>MERGE_SRC</th>\n",
       "      <th>TYPE_WFRC</th>\n",
       "      <th>common_area_key</th>\n",
       "      <th>IS_OUG</th>\n",
       "    </tr>\n",
       "  </thead>\n",
       "  <tbody>\n",
       "    <tr>\n",
       "      <th>2389</th>\n",
       "      <td>2391</td>\n",
       "      <td>011070116</td>\n",
       "      <td>1.0</td>\n",
       "      <td>NO</td>\n",
       "      <td>500.0</td>\n",
       "      <td>500.0</td>\n",
       "      <td>NaN</td>\n",
       "      <td>Vacant Land</td>\n",
       "      <td>N</td>\n",
       "      <td>None</td>\n",
       "      <td>...</td>\n",
       "      <td>{'x': 423521.5990000004, 'y': 4520113.0613, 's...</td>\n",
       "      <td>{'rings': [[[423523.51049999986, 4520112.94150...</td>\n",
       "      <td>213.0</td>\n",
       "      <td>215.0</td>\n",
       "      <td>pud</td>\n",
       "      <td>1.0</td>\n",
       "      <td>Common_Areas_Josh</td>\n",
       "      <td>single_family</td>\n",
       "      <td>215.0</td>\n",
       "      <td>1.0</td>\n",
       "    </tr>\n",
       "    <tr>\n",
       "      <th>2990</th>\n",
       "      <td>2992</td>\n",
       "      <td>011270001</td>\n",
       "      <td>1.0</td>\n",
       "      <td>NO</td>\n",
       "      <td>165000.0</td>\n",
       "      <td>25500.0</td>\n",
       "      <td>0.01</td>\n",
       "      <td>Residential</td>\n",
       "      <td>Y</td>\n",
       "      <td>1</td>\n",
       "      <td>...</td>\n",
       "      <td>{'x': 423103.6414999999, 'y': 4521292.6625, 's...</td>\n",
       "      <td>{'rings': [[[423100.86120000016, 4521288.72089...</td>\n",
       "      <td>216.0</td>\n",
       "      <td>218.0</td>\n",
       "      <td>townhome</td>\n",
       "      <td>1.0</td>\n",
       "      <td>Common_Areas_Josh</td>\n",
       "      <td>multi_family</td>\n",
       "      <td>218.0</td>\n",
       "      <td>1.0</td>\n",
       "    </tr>\n",
       "    <tr>\n",
       "      <th>2991</th>\n",
       "      <td>2993</td>\n",
       "      <td>011270002</td>\n",
       "      <td>1.0</td>\n",
       "      <td>NO</td>\n",
       "      <td>153000.0</td>\n",
       "      <td>25500.0</td>\n",
       "      <td>0.01</td>\n",
       "      <td>Residential</td>\n",
       "      <td>Y</td>\n",
       "      <td>1</td>\n",
       "      <td>...</td>\n",
       "      <td>{'x': 423098.22020000033, 'y': 4521292.7367, '...</td>\n",
       "      <td>{'rings': [[[423095.46829999983, 4521288.78460...</td>\n",
       "      <td>216.0</td>\n",
       "      <td>218.0</td>\n",
       "      <td>townhome</td>\n",
       "      <td>1.0</td>\n",
       "      <td>Common_Areas_Josh</td>\n",
       "      <td>multi_family</td>\n",
       "      <td>218.0</td>\n",
       "      <td>1.0</td>\n",
       "    </tr>\n",
       "    <tr>\n",
       "      <th>2992</th>\n",
       "      <td>2994</td>\n",
       "      <td>011270003</td>\n",
       "      <td>1.0</td>\n",
       "      <td>NO</td>\n",
       "      <td>158000.0</td>\n",
       "      <td>38000.0</td>\n",
       "      <td>0.01</td>\n",
       "      <td>Residential</td>\n",
       "      <td>Y</td>\n",
       "      <td>1</td>\n",
       "      <td>...</td>\n",
       "      <td>{'x': 423092.81429999974, 'y': 4521292.2328999...</td>\n",
       "      <td>{'rings': [[[423090.1489000004, 4521296.3013],...</td>\n",
       "      <td>216.0</td>\n",
       "      <td>218.0</td>\n",
       "      <td>townhome</td>\n",
       "      <td>1.0</td>\n",
       "      <td>Common_Areas_Josh</td>\n",
       "      <td>multi_family</td>\n",
       "      <td>218.0</td>\n",
       "      <td>1.0</td>\n",
       "    </tr>\n",
       "    <tr>\n",
       "      <th>2993</th>\n",
       "      <td>2995</td>\n",
       "      <td>011270004</td>\n",
       "      <td>1.0</td>\n",
       "      <td>NO</td>\n",
       "      <td>158000.0</td>\n",
       "      <td>38000.0</td>\n",
       "      <td>0.01</td>\n",
       "      <td>Residential</td>\n",
       "      <td>Y</td>\n",
       "      <td>1</td>\n",
       "      <td>...</td>\n",
       "      <td>{'x': 423087.4107999997, 'y': 4521292.2797, 's...</td>\n",
       "      <td>{'rings': [[[423090.1489000004, 4521296.3013],...</td>\n",
       "      <td>216.0</td>\n",
       "      <td>218.0</td>\n",
       "      <td>townhome</td>\n",
       "      <td>1.0</td>\n",
       "      <td>Common_Areas_Josh</td>\n",
       "      <td>multi_family</td>\n",
       "      <td>218.0</td>\n",
       "      <td>1.0</td>\n",
       "    </tr>\n",
       "    <tr>\n",
       "      <th>...</th>\n",
       "      <td>...</td>\n",
       "      <td>...</td>\n",
       "      <td>...</td>\n",
       "      <td>...</td>\n",
       "      <td>...</td>\n",
       "      <td>...</td>\n",
       "      <td>...</td>\n",
       "      <td>...</td>\n",
       "      <td>...</td>\n",
       "      <td>...</td>\n",
       "      <td>...</td>\n",
       "      <td>...</td>\n",
       "      <td>...</td>\n",
       "      <td>...</td>\n",
       "      <td>...</td>\n",
       "      <td>...</td>\n",
       "      <td>...</td>\n",
       "      <td>...</td>\n",
       "      <td>...</td>\n",
       "      <td>...</td>\n",
       "      <td>...</td>\n",
       "    </tr>\n",
       "    <tr>\n",
       "      <th>114228</th>\n",
       "      <td>114034</td>\n",
       "      <td>150270029</td>\n",
       "      <td>1.0</td>\n",
       "      <td>NO</td>\n",
       "      <td>50000.0</td>\n",
       "      <td>50000.0</td>\n",
       "      <td>0.03</td>\n",
       "      <td>Vacant Land</td>\n",
       "      <td>N</td>\n",
       "      <td>None</td>\n",
       "      <td>...</td>\n",
       "      <td>{'x': 414558.1183000002, 'y': 4550610.99410000...</td>\n",
       "      <td>{'rings': [[[414561.88019999955, 4550617.9801]...</td>\n",
       "      <td>488.0</td>\n",
       "      <td>494.0</td>\n",
       "      <td>condo</td>\n",
       "      <td>1.0</td>\n",
       "      <td>_02c_common_areas_Nicole</td>\n",
       "      <td>multi_family</td>\n",
       "      <td>494.0</td>\n",
       "      <td>1.0</td>\n",
       "    </tr>\n",
       "    <tr>\n",
       "      <th>114229</th>\n",
       "      <td>114035</td>\n",
       "      <td>150270030</td>\n",
       "      <td>1.0</td>\n",
       "      <td>NO</td>\n",
       "      <td>50000.0</td>\n",
       "      <td>50000.0</td>\n",
       "      <td>0.03</td>\n",
       "      <td>Vacant Land</td>\n",
       "      <td>N</td>\n",
       "      <td>None</td>\n",
       "      <td>...</td>\n",
       "      <td>{'x': 414565.42920000013, 'y': 4550610.8836, '...</td>\n",
       "      <td>{'rings': [[[414569.1911000004, 4550617.869799...</td>\n",
       "      <td>488.0</td>\n",
       "      <td>494.0</td>\n",
       "      <td>condo</td>\n",
       "      <td>1.0</td>\n",
       "      <td>_02c_common_areas_Nicole</td>\n",
       "      <td>multi_family</td>\n",
       "      <td>494.0</td>\n",
       "      <td>1.0</td>\n",
       "    </tr>\n",
       "    <tr>\n",
       "      <th>114230</th>\n",
       "      <td>114036</td>\n",
       "      <td>150270031</td>\n",
       "      <td>1.0</td>\n",
       "      <td>NO</td>\n",
       "      <td>50000.0</td>\n",
       "      <td>50000.0</td>\n",
       "      <td>0.03</td>\n",
       "      <td>Vacant Land</td>\n",
       "      <td>N</td>\n",
       "      <td>None</td>\n",
       "      <td>...</td>\n",
       "      <td>{'x': 414572.74010000005, 'y': 4550610.7732, '...</td>\n",
       "      <td>{'rings': [[[414576.50189999957, 4550617.75940...</td>\n",
       "      <td>488.0</td>\n",
       "      <td>494.0</td>\n",
       "      <td>condo</td>\n",
       "      <td>1.0</td>\n",
       "      <td>_02c_common_areas_Nicole</td>\n",
       "      <td>multi_family</td>\n",
       "      <td>494.0</td>\n",
       "      <td>1.0</td>\n",
       "    </tr>\n",
       "    <tr>\n",
       "      <th>114231</th>\n",
       "      <td>114037</td>\n",
       "      <td>150270032</td>\n",
       "      <td>1.0</td>\n",
       "      <td>NO</td>\n",
       "      <td>50000.0</td>\n",
       "      <td>50000.0</td>\n",
       "      <td>0.03</td>\n",
       "      <td>Vacant Land</td>\n",
       "      <td>N</td>\n",
       "      <td>None</td>\n",
       "      <td>...</td>\n",
       "      <td>{'x': 414580.1297000004, 'y': 4550610.6118, 's...</td>\n",
       "      <td>{'rings': [[[414576.2893000003, 4550603.6768],...</td>\n",
       "      <td>488.0</td>\n",
       "      <td>494.0</td>\n",
       "      <td>condo</td>\n",
       "      <td>1.0</td>\n",
       "      <td>_02c_common_areas_Nicole</td>\n",
       "      <td>multi_family</td>\n",
       "      <td>494.0</td>\n",
       "      <td>1.0</td>\n",
       "    </tr>\n",
       "    <tr>\n",
       "      <th>114232</th>\n",
       "      <td>114038</td>\n",
       "      <td>150270033</td>\n",
       "      <td>1.0</td>\n",
       "      <td>COMMON</td>\n",
       "      <td>730.0</td>\n",
       "      <td>730.0</td>\n",
       "      <td>1.46</td>\n",
       "      <td>Vacant Land</td>\n",
       "      <td>N</td>\n",
       "      <td>None</td>\n",
       "      <td>...</td>\n",
       "      <td>{'x': 414535.89329999965, 'y': 4550651.3814, '...</td>\n",
       "      <td>{'rings': [[[414588.36290000007, 4550687.3267]...</td>\n",
       "      <td>488.0</td>\n",
       "      <td>494.0</td>\n",
       "      <td>condo</td>\n",
       "      <td>1.0</td>\n",
       "      <td>_02c_common_areas_Nicole</td>\n",
       "      <td>multi_family</td>\n",
       "      <td>494.0</td>\n",
       "      <td>1.0</td>\n",
       "    </tr>\n",
       "  </tbody>\n",
       "</table>\n",
       "<p>12270 rows × 25 columns</p>\n",
       "</div>"
      ],
      "text/plain": [
       "        OBJECTID_left  PARCEL_ID  COUNT_PARCEL_ID TAXEXEMPT_TYPE  \\\n",
       "2389             2391  011070116              1.0             NO   \n",
       "2990             2992  011270001              1.0             NO   \n",
       "2991             2993  011270002              1.0             NO   \n",
       "2992             2994  011270003              1.0             NO   \n",
       "2993             2995  011270004              1.0             NO   \n",
       "...               ...        ...              ...            ...   \n",
       "114228         114034  150270029              1.0             NO   \n",
       "114229         114035  150270030              1.0             NO   \n",
       "114230         114036  150270031              1.0             NO   \n",
       "114231         114037  150270032              1.0             NO   \n",
       "114232         114038  150270033              1.0         COMMON   \n",
       "\n",
       "        TOTAL_MKT_VALUE  LAND_MKT_VALUE  PARCEL_ACRES   PROP_CLASS  \\\n",
       "2389              500.0           500.0           NaN  Vacant Land   \n",
       "2990           165000.0         25500.0          0.01  Residential   \n",
       "2991           153000.0         25500.0          0.01  Residential   \n",
       "2992           158000.0         38000.0          0.01  Residential   \n",
       "2993           158000.0         38000.0          0.01  Residential   \n",
       "...                 ...             ...           ...          ...   \n",
       "114228          50000.0         50000.0          0.03  Vacant Land   \n",
       "114229          50000.0         50000.0          0.03  Vacant Land   \n",
       "114230          50000.0         50000.0          0.03  Vacant Land   \n",
       "114231          50000.0         50000.0          0.03  Vacant Land   \n",
       "114232            730.0           730.0          1.46  Vacant Land   \n",
       "\n",
       "       PRIMARY_RES HOUSE_CNT  ...  \\\n",
       "2389             N      None  ...   \n",
       "2990             Y         1  ...   \n",
       "2991             Y         1  ...   \n",
       "2992             Y         1  ...   \n",
       "2993             Y         1  ...   \n",
       "...            ...       ...  ...   \n",
       "114228           N      None  ...   \n",
       "114229           N      None  ...   \n",
       "114230           N      None  ...   \n",
       "114231           N      None  ...   \n",
       "114232           N      None  ...   \n",
       "\n",
       "                                                CENTROIDS  \\\n",
       "2389    {'x': 423521.5990000004, 'y': 4520113.0613, 's...   \n",
       "2990    {'x': 423103.6414999999, 'y': 4521292.6625, 's...   \n",
       "2991    {'x': 423098.22020000033, 'y': 4521292.7367, '...   \n",
       "2992    {'x': 423092.81429999974, 'y': 4521292.2328999...   \n",
       "2993    {'x': 423087.4107999997, 'y': 4521292.2797, 's...   \n",
       "...                                                   ...   \n",
       "114228  {'x': 414558.1183000002, 'y': 4550610.99410000...   \n",
       "114229  {'x': 414565.42920000013, 'y': 4550610.8836, '...   \n",
       "114230  {'x': 414572.74010000005, 'y': 4550610.7732, '...   \n",
       "114231  {'x': 414580.1297000004, 'y': 4550610.6118, 's...   \n",
       "114232  {'x': 414535.89329999965, 'y': 4550651.3814, '...   \n",
       "\n",
       "                                                    POLYS  index_right  \\\n",
       "2389    {'rings': [[[423523.51049999986, 4520112.94150...        213.0   \n",
       "2990    {'rings': [[[423100.86120000016, 4521288.72089...        216.0   \n",
       "2991    {'rings': [[[423095.46829999983, 4521288.78460...        216.0   \n",
       "2992    {'rings': [[[423090.1489000004, 4521296.3013],...        216.0   \n",
       "2993    {'rings': [[[423090.1489000004, 4521296.3013],...        216.0   \n",
       "...                                                   ...          ...   \n",
       "114228  {'rings': [[[414561.88019999955, 4550617.9801]...        488.0   \n",
       "114229  {'rings': [[[414569.1911000004, 4550617.869799...        488.0   \n",
       "114230  {'rings': [[[414576.50189999957, 4550617.75940...        488.0   \n",
       "114231  {'rings': [[[414576.2893000003, 4550603.6768],...        488.0   \n",
       "114232  {'rings': [[[414588.36290000007, 4550687.3267]...        488.0   \n",
       "\n",
       "       OBJECTID_right SUBTYPE_WFRC Review                 MERGE_SRC  \\\n",
       "2389            215.0          pud    1.0         Common_Areas_Josh   \n",
       "2990            218.0     townhome    1.0         Common_Areas_Josh   \n",
       "2991            218.0     townhome    1.0         Common_Areas_Josh   \n",
       "2992            218.0     townhome    1.0         Common_Areas_Josh   \n",
       "2993            218.0     townhome    1.0         Common_Areas_Josh   \n",
       "...               ...          ...    ...                       ...   \n",
       "114228          494.0        condo    1.0  _02c_common_areas_Nicole   \n",
       "114229          494.0        condo    1.0  _02c_common_areas_Nicole   \n",
       "114230          494.0        condo    1.0  _02c_common_areas_Nicole   \n",
       "114231          494.0        condo    1.0  _02c_common_areas_Nicole   \n",
       "114232          494.0        condo    1.0  _02c_common_areas_Nicole   \n",
       "\n",
       "            TYPE_WFRC  common_area_key IS_OUG  \n",
       "2389    single_family            215.0    1.0  \n",
       "2990     multi_family            218.0    1.0  \n",
       "2991     multi_family            218.0    1.0  \n",
       "2992     multi_family            218.0    1.0  \n",
       "2993     multi_family            218.0    1.0  \n",
       "...               ...              ...    ...  \n",
       "114228   multi_family            494.0    1.0  \n",
       "114229   multi_family            494.0    1.0  \n",
       "114230   multi_family            494.0    1.0  \n",
       "114231   multi_family            494.0    1.0  \n",
       "114232   multi_family            494.0    1.0  \n",
       "\n",
       "[12270 rows x 25 columns]"
      ]
     },
     "execution_count": 88,
     "metadata": {},
     "output_type": "execute_result"
    }
   ],
   "source": [
    "parcels_with_pud_join[parcels_with_pud_join[common_area_key].notna()]"
   ]
  },
  {
   "cell_type": "code",
   "execution_count": 89,
   "id": "97ca5ef9",
   "metadata": {
    "hidden": true
   },
   "outputs": [],
   "source": [
    "pud_parcels_mask = parcels_with_pud_join[common_area_key].notna()"
   ]
  },
  {
   "cell_type": "code",
   "execution_count": 90,
   "id": "7036eef0",
   "metadata": {
    "hidden": true
   },
   "outputs": [],
   "source": [
    "parcels_with_pud_join.loc[pud_parcels_mask, 'parcel_type'] = 'owned_unit_grouping'"
   ]
  },
  {
   "cell_type": "code",
   "execution_count": 91,
   "id": "384eab8b",
   "metadata": {
    "hidden": true
   },
   "outputs": [
    {
     "data": {
      "text/html": [
       "<div>\n",
       "<style scoped>\n",
       "    .dataframe tbody tr th:only-of-type {\n",
       "        vertical-align: middle;\n",
       "    }\n",
       "\n",
       "    .dataframe tbody tr th {\n",
       "        vertical-align: top;\n",
       "    }\n",
       "\n",
       "    .dataframe thead th {\n",
       "        text-align: right;\n",
       "    }\n",
       "</style>\n",
       "<table border=\"1\" class=\"dataframe\">\n",
       "  <thead>\n",
       "    <tr style=\"text-align: right;\">\n",
       "      <th></th>\n",
       "      <th>OBJECTID_left</th>\n",
       "      <th>PARCEL_ID</th>\n",
       "      <th>COUNT_PARCEL_ID</th>\n",
       "      <th>TAXEXEMPT_TYPE</th>\n",
       "      <th>TOTAL_MKT_VALUE</th>\n",
       "      <th>LAND_MKT_VALUE</th>\n",
       "      <th>PARCEL_ACRES</th>\n",
       "      <th>PROP_CLASS</th>\n",
       "      <th>PRIMARY_RES</th>\n",
       "      <th>HOUSE_CNT</th>\n",
       "      <th>...</th>\n",
       "      <th>POLYS</th>\n",
       "      <th>index_right</th>\n",
       "      <th>OBJECTID_right</th>\n",
       "      <th>SUBTYPE_WFRC</th>\n",
       "      <th>Review</th>\n",
       "      <th>MERGE_SRC</th>\n",
       "      <th>TYPE_WFRC</th>\n",
       "      <th>common_area_key</th>\n",
       "      <th>IS_OUG</th>\n",
       "      <th>parcel_type</th>\n",
       "    </tr>\n",
       "  </thead>\n",
       "  <tbody>\n",
       "    <tr>\n",
       "      <th>2389</th>\n",
       "      <td>2391</td>\n",
       "      <td>011070116</td>\n",
       "      <td>1.0</td>\n",
       "      <td>NO</td>\n",
       "      <td>500.0</td>\n",
       "      <td>500.0</td>\n",
       "      <td>NaN</td>\n",
       "      <td>Vacant Land</td>\n",
       "      <td>N</td>\n",
       "      <td>None</td>\n",
       "      <td>...</td>\n",
       "      <td>{'rings': [[[423523.51049999986, 4520112.94150...</td>\n",
       "      <td>213.0</td>\n",
       "      <td>215.0</td>\n",
       "      <td>pud</td>\n",
       "      <td>1.0</td>\n",
       "      <td>Common_Areas_Josh</td>\n",
       "      <td>single_family</td>\n",
       "      <td>215.0</td>\n",
       "      <td>1.0</td>\n",
       "      <td>owned_unit_grouping</td>\n",
       "    </tr>\n",
       "    <tr>\n",
       "      <th>2990</th>\n",
       "      <td>2992</td>\n",
       "      <td>011270001</td>\n",
       "      <td>1.0</td>\n",
       "      <td>NO</td>\n",
       "      <td>165000.0</td>\n",
       "      <td>25500.0</td>\n",
       "      <td>0.01</td>\n",
       "      <td>Residential</td>\n",
       "      <td>Y</td>\n",
       "      <td>1</td>\n",
       "      <td>...</td>\n",
       "      <td>{'rings': [[[423100.86120000016, 4521288.72089...</td>\n",
       "      <td>216.0</td>\n",
       "      <td>218.0</td>\n",
       "      <td>townhome</td>\n",
       "      <td>1.0</td>\n",
       "      <td>Common_Areas_Josh</td>\n",
       "      <td>multi_family</td>\n",
       "      <td>218.0</td>\n",
       "      <td>1.0</td>\n",
       "      <td>owned_unit_grouping</td>\n",
       "    </tr>\n",
       "    <tr>\n",
       "      <th>2991</th>\n",
       "      <td>2993</td>\n",
       "      <td>011270002</td>\n",
       "      <td>1.0</td>\n",
       "      <td>NO</td>\n",
       "      <td>153000.0</td>\n",
       "      <td>25500.0</td>\n",
       "      <td>0.01</td>\n",
       "      <td>Residential</td>\n",
       "      <td>Y</td>\n",
       "      <td>1</td>\n",
       "      <td>...</td>\n",
       "      <td>{'rings': [[[423095.46829999983, 4521288.78460...</td>\n",
       "      <td>216.0</td>\n",
       "      <td>218.0</td>\n",
       "      <td>townhome</td>\n",
       "      <td>1.0</td>\n",
       "      <td>Common_Areas_Josh</td>\n",
       "      <td>multi_family</td>\n",
       "      <td>218.0</td>\n",
       "      <td>1.0</td>\n",
       "      <td>owned_unit_grouping</td>\n",
       "    </tr>\n",
       "    <tr>\n",
       "      <th>2992</th>\n",
       "      <td>2994</td>\n",
       "      <td>011270003</td>\n",
       "      <td>1.0</td>\n",
       "      <td>NO</td>\n",
       "      <td>158000.0</td>\n",
       "      <td>38000.0</td>\n",
       "      <td>0.01</td>\n",
       "      <td>Residential</td>\n",
       "      <td>Y</td>\n",
       "      <td>1</td>\n",
       "      <td>...</td>\n",
       "      <td>{'rings': [[[423090.1489000004, 4521296.3013],...</td>\n",
       "      <td>216.0</td>\n",
       "      <td>218.0</td>\n",
       "      <td>townhome</td>\n",
       "      <td>1.0</td>\n",
       "      <td>Common_Areas_Josh</td>\n",
       "      <td>multi_family</td>\n",
       "      <td>218.0</td>\n",
       "      <td>1.0</td>\n",
       "      <td>owned_unit_grouping</td>\n",
       "    </tr>\n",
       "    <tr>\n",
       "      <th>2993</th>\n",
       "      <td>2995</td>\n",
       "      <td>011270004</td>\n",
       "      <td>1.0</td>\n",
       "      <td>NO</td>\n",
       "      <td>158000.0</td>\n",
       "      <td>38000.0</td>\n",
       "      <td>0.01</td>\n",
       "      <td>Residential</td>\n",
       "      <td>Y</td>\n",
       "      <td>1</td>\n",
       "      <td>...</td>\n",
       "      <td>{'rings': [[[423090.1489000004, 4521296.3013],...</td>\n",
       "      <td>216.0</td>\n",
       "      <td>218.0</td>\n",
       "      <td>townhome</td>\n",
       "      <td>1.0</td>\n",
       "      <td>Common_Areas_Josh</td>\n",
       "      <td>multi_family</td>\n",
       "      <td>218.0</td>\n",
       "      <td>1.0</td>\n",
       "      <td>owned_unit_grouping</td>\n",
       "    </tr>\n",
       "    <tr>\n",
       "      <th>...</th>\n",
       "      <td>...</td>\n",
       "      <td>...</td>\n",
       "      <td>...</td>\n",
       "      <td>...</td>\n",
       "      <td>...</td>\n",
       "      <td>...</td>\n",
       "      <td>...</td>\n",
       "      <td>...</td>\n",
       "      <td>...</td>\n",
       "      <td>...</td>\n",
       "      <td>...</td>\n",
       "      <td>...</td>\n",
       "      <td>...</td>\n",
       "      <td>...</td>\n",
       "      <td>...</td>\n",
       "      <td>...</td>\n",
       "      <td>...</td>\n",
       "      <td>...</td>\n",
       "      <td>...</td>\n",
       "      <td>...</td>\n",
       "      <td>...</td>\n",
       "    </tr>\n",
       "    <tr>\n",
       "      <th>114228</th>\n",
       "      <td>114034</td>\n",
       "      <td>150270029</td>\n",
       "      <td>1.0</td>\n",
       "      <td>NO</td>\n",
       "      <td>50000.0</td>\n",
       "      <td>50000.0</td>\n",
       "      <td>0.03</td>\n",
       "      <td>Vacant Land</td>\n",
       "      <td>N</td>\n",
       "      <td>None</td>\n",
       "      <td>...</td>\n",
       "      <td>{'rings': [[[414561.88019999955, 4550617.9801]...</td>\n",
       "      <td>488.0</td>\n",
       "      <td>494.0</td>\n",
       "      <td>condo</td>\n",
       "      <td>1.0</td>\n",
       "      <td>_02c_common_areas_Nicole</td>\n",
       "      <td>multi_family</td>\n",
       "      <td>494.0</td>\n",
       "      <td>1.0</td>\n",
       "      <td>owned_unit_grouping</td>\n",
       "    </tr>\n",
       "    <tr>\n",
       "      <th>114229</th>\n",
       "      <td>114035</td>\n",
       "      <td>150270030</td>\n",
       "      <td>1.0</td>\n",
       "      <td>NO</td>\n",
       "      <td>50000.0</td>\n",
       "      <td>50000.0</td>\n",
       "      <td>0.03</td>\n",
       "      <td>Vacant Land</td>\n",
       "      <td>N</td>\n",
       "      <td>None</td>\n",
       "      <td>...</td>\n",
       "      <td>{'rings': [[[414569.1911000004, 4550617.869799...</td>\n",
       "      <td>488.0</td>\n",
       "      <td>494.0</td>\n",
       "      <td>condo</td>\n",
       "      <td>1.0</td>\n",
       "      <td>_02c_common_areas_Nicole</td>\n",
       "      <td>multi_family</td>\n",
       "      <td>494.0</td>\n",
       "      <td>1.0</td>\n",
       "      <td>owned_unit_grouping</td>\n",
       "    </tr>\n",
       "    <tr>\n",
       "      <th>114230</th>\n",
       "      <td>114036</td>\n",
       "      <td>150270031</td>\n",
       "      <td>1.0</td>\n",
       "      <td>NO</td>\n",
       "      <td>50000.0</td>\n",
       "      <td>50000.0</td>\n",
       "      <td>0.03</td>\n",
       "      <td>Vacant Land</td>\n",
       "      <td>N</td>\n",
       "      <td>None</td>\n",
       "      <td>...</td>\n",
       "      <td>{'rings': [[[414576.50189999957, 4550617.75940...</td>\n",
       "      <td>488.0</td>\n",
       "      <td>494.0</td>\n",
       "      <td>condo</td>\n",
       "      <td>1.0</td>\n",
       "      <td>_02c_common_areas_Nicole</td>\n",
       "      <td>multi_family</td>\n",
       "      <td>494.0</td>\n",
       "      <td>1.0</td>\n",
       "      <td>owned_unit_grouping</td>\n",
       "    </tr>\n",
       "    <tr>\n",
       "      <th>114231</th>\n",
       "      <td>114037</td>\n",
       "      <td>150270032</td>\n",
       "      <td>1.0</td>\n",
       "      <td>NO</td>\n",
       "      <td>50000.0</td>\n",
       "      <td>50000.0</td>\n",
       "      <td>0.03</td>\n",
       "      <td>Vacant Land</td>\n",
       "      <td>N</td>\n",
       "      <td>None</td>\n",
       "      <td>...</td>\n",
       "      <td>{'rings': [[[414576.2893000003, 4550603.6768],...</td>\n",
       "      <td>488.0</td>\n",
       "      <td>494.0</td>\n",
       "      <td>condo</td>\n",
       "      <td>1.0</td>\n",
       "      <td>_02c_common_areas_Nicole</td>\n",
       "      <td>multi_family</td>\n",
       "      <td>494.0</td>\n",
       "      <td>1.0</td>\n",
       "      <td>owned_unit_grouping</td>\n",
       "    </tr>\n",
       "    <tr>\n",
       "      <th>114232</th>\n",
       "      <td>114038</td>\n",
       "      <td>150270033</td>\n",
       "      <td>1.0</td>\n",
       "      <td>COMMON</td>\n",
       "      <td>730.0</td>\n",
       "      <td>730.0</td>\n",
       "      <td>1.46</td>\n",
       "      <td>Vacant Land</td>\n",
       "      <td>N</td>\n",
       "      <td>None</td>\n",
       "      <td>...</td>\n",
       "      <td>{'rings': [[[414588.36290000007, 4550687.3267]...</td>\n",
       "      <td>488.0</td>\n",
       "      <td>494.0</td>\n",
       "      <td>condo</td>\n",
       "      <td>1.0</td>\n",
       "      <td>_02c_common_areas_Nicole</td>\n",
       "      <td>multi_family</td>\n",
       "      <td>494.0</td>\n",
       "      <td>1.0</td>\n",
       "      <td>owned_unit_grouping</td>\n",
       "    </tr>\n",
       "  </tbody>\n",
       "</table>\n",
       "<p>12270 rows × 26 columns</p>\n",
       "</div>"
      ],
      "text/plain": [
       "        OBJECTID_left  PARCEL_ID  COUNT_PARCEL_ID TAXEXEMPT_TYPE  \\\n",
       "2389             2391  011070116              1.0             NO   \n",
       "2990             2992  011270001              1.0             NO   \n",
       "2991             2993  011270002              1.0             NO   \n",
       "2992             2994  011270003              1.0             NO   \n",
       "2993             2995  011270004              1.0             NO   \n",
       "...               ...        ...              ...            ...   \n",
       "114228         114034  150270029              1.0             NO   \n",
       "114229         114035  150270030              1.0             NO   \n",
       "114230         114036  150270031              1.0             NO   \n",
       "114231         114037  150270032              1.0             NO   \n",
       "114232         114038  150270033              1.0         COMMON   \n",
       "\n",
       "        TOTAL_MKT_VALUE  LAND_MKT_VALUE  PARCEL_ACRES   PROP_CLASS  \\\n",
       "2389              500.0           500.0           NaN  Vacant Land   \n",
       "2990           165000.0         25500.0          0.01  Residential   \n",
       "2991           153000.0         25500.0          0.01  Residential   \n",
       "2992           158000.0         38000.0          0.01  Residential   \n",
       "2993           158000.0         38000.0          0.01  Residential   \n",
       "...                 ...             ...           ...          ...   \n",
       "114228          50000.0         50000.0          0.03  Vacant Land   \n",
       "114229          50000.0         50000.0          0.03  Vacant Land   \n",
       "114230          50000.0         50000.0          0.03  Vacant Land   \n",
       "114231          50000.0         50000.0          0.03  Vacant Land   \n",
       "114232            730.0           730.0          1.46  Vacant Land   \n",
       "\n",
       "       PRIMARY_RES HOUSE_CNT  ...  \\\n",
       "2389             N      None  ...   \n",
       "2990             Y         1  ...   \n",
       "2991             Y         1  ...   \n",
       "2992             Y         1  ...   \n",
       "2993             Y         1  ...   \n",
       "...            ...       ...  ...   \n",
       "114228           N      None  ...   \n",
       "114229           N      None  ...   \n",
       "114230           N      None  ...   \n",
       "114231           N      None  ...   \n",
       "114232           N      None  ...   \n",
       "\n",
       "                                                    POLYS  index_right  \\\n",
       "2389    {'rings': [[[423523.51049999986, 4520112.94150...        213.0   \n",
       "2990    {'rings': [[[423100.86120000016, 4521288.72089...        216.0   \n",
       "2991    {'rings': [[[423095.46829999983, 4521288.78460...        216.0   \n",
       "2992    {'rings': [[[423090.1489000004, 4521296.3013],...        216.0   \n",
       "2993    {'rings': [[[423090.1489000004, 4521296.3013],...        216.0   \n",
       "...                                                   ...          ...   \n",
       "114228  {'rings': [[[414561.88019999955, 4550617.9801]...        488.0   \n",
       "114229  {'rings': [[[414569.1911000004, 4550617.869799...        488.0   \n",
       "114230  {'rings': [[[414576.50189999957, 4550617.75940...        488.0   \n",
       "114231  {'rings': [[[414576.2893000003, 4550603.6768],...        488.0   \n",
       "114232  {'rings': [[[414588.36290000007, 4550687.3267]...        488.0   \n",
       "\n",
       "        OBJECTID_right SUBTYPE_WFRC Review                 MERGE_SRC  \\\n",
       "2389             215.0          pud    1.0         Common_Areas_Josh   \n",
       "2990             218.0     townhome    1.0         Common_Areas_Josh   \n",
       "2991             218.0     townhome    1.0         Common_Areas_Josh   \n",
       "2992             218.0     townhome    1.0         Common_Areas_Josh   \n",
       "2993             218.0     townhome    1.0         Common_Areas_Josh   \n",
       "...                ...          ...    ...                       ...   \n",
       "114228           494.0        condo    1.0  _02c_common_areas_Nicole   \n",
       "114229           494.0        condo    1.0  _02c_common_areas_Nicole   \n",
       "114230           494.0        condo    1.0  _02c_common_areas_Nicole   \n",
       "114231           494.0        condo    1.0  _02c_common_areas_Nicole   \n",
       "114232           494.0        condo    1.0  _02c_common_areas_Nicole   \n",
       "\n",
       "            TYPE_WFRC  common_area_key  IS_OUG          parcel_type  \n",
       "2389    single_family            215.0     1.0  owned_unit_grouping  \n",
       "2990     multi_family            218.0     1.0  owned_unit_grouping  \n",
       "2991     multi_family            218.0     1.0  owned_unit_grouping  \n",
       "2992     multi_family            218.0     1.0  owned_unit_grouping  \n",
       "2993     multi_family            218.0     1.0  owned_unit_grouping  \n",
       "...               ...              ...     ...                  ...  \n",
       "114228   multi_family            494.0     1.0  owned_unit_grouping  \n",
       "114229   multi_family            494.0     1.0  owned_unit_grouping  \n",
       "114230   multi_family            494.0     1.0  owned_unit_grouping  \n",
       "114231   multi_family            494.0     1.0  owned_unit_grouping  \n",
       "114232   multi_family            494.0     1.0  owned_unit_grouping  \n",
       "\n",
       "[12270 rows x 26 columns]"
      ]
     },
     "execution_count": 91,
     "metadata": {},
     "output_type": "execute_result"
    }
   ],
   "source": [
    "parcels_with_pud_join[pud_parcels_mask]"
   ]
  },
  {
   "cell_type": "code",
   "execution_count": 92,
   "id": "109584c0",
   "metadata": {
    "hidden": true
   },
   "outputs": [],
   "source": [
    "mobile_homes = r'c:/gis/git/housing-unit-inventory/Parcels/2020-Davis/Inputs/Mobile_Home_Parks.shp'\n",
    "mhc_df = pd.DataFrame.spatial.from_featureclass(mobile_homes)"
   ]
  },
  {
   "cell_type": "code",
   "execution_count": 101,
   "id": "b44f1ab9",
   "metadata": {
    "hidden": true
   },
   "outputs": [
    {
     "data": {
      "text/html": [
       "<div>\n",
       "<style scoped>\n",
       "    .dataframe tbody tr th:only-of-type {\n",
       "        vertical-align: middle;\n",
       "    }\n",
       "\n",
       "    .dataframe tbody tr th {\n",
       "        vertical-align: top;\n",
       "    }\n",
       "\n",
       "    .dataframe thead th {\n",
       "        text-align: right;\n",
       "    }\n",
       "</style>\n",
       "<table border=\"1\" class=\"dataframe\">\n",
       "  <thead>\n",
       "    <tr style=\"text-align: right;\">\n",
       "      <th></th>\n",
       "      <th>FID</th>\n",
       "      <th>OBJECTID</th>\n",
       "      <th>MHPID</th>\n",
       "      <th>NAME</th>\n",
       "      <th>ADDRESS</th>\n",
       "      <th>CITY</th>\n",
       "      <th>COUNTY</th>\n",
       "      <th>LATITUDE</th>\n",
       "      <th>LONGITUDE</th>\n",
       "      <th>UnitsAppro</th>\n",
       "      <th>Shape__Are</th>\n",
       "      <th>Shape__Len</th>\n",
       "      <th>SHAPE</th>\n",
       "    </tr>\n",
       "  </thead>\n",
       "  <tbody>\n",
       "    <tr>\n",
       "      <th>36</th>\n",
       "      <td>36</td>\n",
       "      <td>37</td>\n",
       "      <td>11619</td>\n",
       "      <td>SILO FARMS MHP</td>\n",
       "      <td>3717 FISHER WAY</td>\n",
       "      <td>WEST VALLEY CITY</td>\n",
       "      <td>SALT LAKE</td>\n",
       "      <td>40.692986</td>\n",
       "      <td>-111.928818</td>\n",
       "      <td>151</td>\n",
       "      <td>135634.833618</td>\n",
       "      <td>1989.125178</td>\n",
       "      <td>{\"rings\": [[[421622.735, 4504936.183], [421624...</td>\n",
       "    </tr>\n",
       "    <tr>\n",
       "      <th>129</th>\n",
       "      <td>129</td>\n",
       "      <td>130</td>\n",
       "      <td>11619</td>\n",
       "      <td>RIIVERSIDE MHP</td>\n",
       "      <td>1232 West Rock River Road</td>\n",
       "      <td>WEST VALLEY CITY</td>\n",
       "      <td>SALT LAKE</td>\n",
       "      <td>40.692986</td>\n",
       "      <td>-111.928818</td>\n",
       "      <td>201</td>\n",
       "      <td>102982.704956</td>\n",
       "      <td>1515.615773</td>\n",
       "      <td>{\"rings\": [[[422020.0505, 4505081.483], [42202...</td>\n",
       "    </tr>\n",
       "  </tbody>\n",
       "</table>\n",
       "</div>"
      ],
      "text/plain": [
       "     FID  OBJECTID  MHPID            NAME                    ADDRESS  \\\n",
       "36    36        37  11619  SILO FARMS MHP            3717 FISHER WAY   \n",
       "129  129       130  11619  RIIVERSIDE MHP  1232 West Rock River Road   \n",
       "\n",
       "                 CITY     COUNTY   LATITUDE   LONGITUDE  UnitsAppro  \\\n",
       "36   WEST VALLEY CITY  SALT LAKE  40.692986 -111.928818         151   \n",
       "129  WEST VALLEY CITY  SALT LAKE  40.692986 -111.928818         201   \n",
       "\n",
       "        Shape__Are   Shape__Len  \\\n",
       "36   135634.833618  1989.125178   \n",
       "129  102982.704956  1515.615773   \n",
       "\n",
       "                                                 SHAPE  \n",
       "36   {\"rings\": [[[421622.735, 4504936.183], [421624...  \n",
       "129  {\"rings\": [[[422020.0505, 4505081.483], [42202...  "
      ]
     },
     "execution_count": 101,
     "metadata": {},
     "output_type": "execute_result"
    }
   ],
   "source": [
    "mhc_df[mhc_df['MHPID'].duplicated(keep=False)]"
   ]
  },
  {
   "cell_type": "markdown",
   "id": "3ab89e8e",
   "metadata": {
    "heading_collapsed": true
   },
   "source": [
    "# Concat and cleanup"
   ]
  },
  {
   "cell_type": "code",
   "execution_count": 2,
   "id": "75d70cb4",
   "metadata": {
    "hidden": true
   },
   "outputs": [],
   "source": [
    "oug_df = pd.DataFrame({\n",
    "    'foo': [1, 2, 3],\n",
    "    'bar': [4, 5, 6],\n",
    "})\n",
    "\n",
    "sf_df = pd.DataFrame({\n",
    "    'foo':[7, 8, 9],\n",
    "    'baz': ['a', 'b', 'c'],\n",
    "})\n"
   ]
  },
  {
   "cell_type": "code",
   "execution_count": 4,
   "id": "443eb59d",
   "metadata": {
    "hidden": true
   },
   "outputs": [
    {
     "data": {
      "text/html": [
       "<div>\n",
       "<style scoped>\n",
       "    .dataframe tbody tr th:only-of-type {\n",
       "        vertical-align: middle;\n",
       "    }\n",
       "\n",
       "    .dataframe tbody tr th {\n",
       "        vertical-align: top;\n",
       "    }\n",
       "\n",
       "    .dataframe thead th {\n",
       "        text-align: right;\n",
       "    }\n",
       "</style>\n",
       "<table border=\"1\" class=\"dataframe\">\n",
       "  <thead>\n",
       "    <tr style=\"text-align: right;\">\n",
       "      <th></th>\n",
       "      <th>foo</th>\n",
       "      <th>bar</th>\n",
       "      <th>baz</th>\n",
       "    </tr>\n",
       "  </thead>\n",
       "  <tbody>\n",
       "    <tr>\n",
       "      <th>0</th>\n",
       "      <td>1</td>\n",
       "      <td>4.0</td>\n",
       "      <td>NaN</td>\n",
       "    </tr>\n",
       "    <tr>\n",
       "      <th>1</th>\n",
       "      <td>2</td>\n",
       "      <td>5.0</td>\n",
       "      <td>NaN</td>\n",
       "    </tr>\n",
       "    <tr>\n",
       "      <th>2</th>\n",
       "      <td>3</td>\n",
       "      <td>6.0</td>\n",
       "      <td>NaN</td>\n",
       "    </tr>\n",
       "    <tr>\n",
       "      <th>0</th>\n",
       "      <td>7</td>\n",
       "      <td>NaN</td>\n",
       "      <td>a</td>\n",
       "    </tr>\n",
       "    <tr>\n",
       "      <th>1</th>\n",
       "      <td>8</td>\n",
       "      <td>NaN</td>\n",
       "      <td>b</td>\n",
       "    </tr>\n",
       "    <tr>\n",
       "      <th>2</th>\n",
       "      <td>9</td>\n",
       "      <td>NaN</td>\n",
       "      <td>c</td>\n",
       "    </tr>\n",
       "  </tbody>\n",
       "</table>\n",
       "</div>"
      ],
      "text/plain": [
       "   foo  bar  baz\n",
       "0    1  4.0  NaN\n",
       "1    2  5.0  NaN\n",
       "2    3  6.0  NaN\n",
       "0    7  NaN    a\n",
       "1    8  NaN    b\n",
       "2    9  NaN    c"
      ]
     },
     "execution_count": 4,
     "metadata": {},
     "output_type": "execute_result"
    }
   ],
   "source": [
    "pd.concat([oug_df, sf_df])"
   ]
  },
  {
   "cell_type": "code",
   "execution_count": 5,
   "id": "42fb2e9e",
   "metadata": {
    "hidden": true
   },
   "outputs": [],
   "source": [
    "evaluated_dfs = [df.set_index('foo', verify_integrity=True) for df in [oug_df, sf_df]]"
   ]
  },
  {
   "cell_type": "code",
   "execution_count": 7,
   "id": "97c1d96e",
   "metadata": {
    "hidden": true
   },
   "outputs": [
    {
     "data": {
      "text/html": [
       "<div>\n",
       "<style scoped>\n",
       "    .dataframe tbody tr th:only-of-type {\n",
       "        vertical-align: middle;\n",
       "    }\n",
       "\n",
       "    .dataframe tbody tr th {\n",
       "        vertical-align: top;\n",
       "    }\n",
       "\n",
       "    .dataframe thead th {\n",
       "        text-align: right;\n",
       "    }\n",
       "</style>\n",
       "<table border=\"1\" class=\"dataframe\">\n",
       "  <thead>\n",
       "    <tr style=\"text-align: right;\">\n",
       "      <th></th>\n",
       "      <th>bar</th>\n",
       "      <th>baz</th>\n",
       "    </tr>\n",
       "    <tr>\n",
       "      <th>foo</th>\n",
       "      <th></th>\n",
       "      <th></th>\n",
       "    </tr>\n",
       "  </thead>\n",
       "  <tbody>\n",
       "    <tr>\n",
       "      <th>1</th>\n",
       "      <td>4.0</td>\n",
       "      <td>NaN</td>\n",
       "    </tr>\n",
       "    <tr>\n",
       "      <th>2</th>\n",
       "      <td>5.0</td>\n",
       "      <td>NaN</td>\n",
       "    </tr>\n",
       "    <tr>\n",
       "      <th>3</th>\n",
       "      <td>6.0</td>\n",
       "      <td>NaN</td>\n",
       "    </tr>\n",
       "    <tr>\n",
       "      <th>7</th>\n",
       "      <td>NaN</td>\n",
       "      <td>a</td>\n",
       "    </tr>\n",
       "    <tr>\n",
       "      <th>8</th>\n",
       "      <td>NaN</td>\n",
       "      <td>b</td>\n",
       "    </tr>\n",
       "    <tr>\n",
       "      <th>9</th>\n",
       "      <td>NaN</td>\n",
       "      <td>c</td>\n",
       "    </tr>\n",
       "  </tbody>\n",
       "</table>\n",
       "</div>"
      ],
      "text/plain": [
       "     bar  baz\n",
       "foo          \n",
       "1    4.0  NaN\n",
       "2    5.0  NaN\n",
       "3    6.0  NaN\n",
       "7    NaN    a\n",
       "8    NaN    b\n",
       "9    NaN    c"
      ]
     },
     "execution_count": 7,
     "metadata": {},
     "output_type": "execute_result"
    }
   ],
   "source": [
    "pd.concat(evaluated_dfs)"
   ]
  },
  {
   "cell_type": "code",
   "execution_count": 8,
   "id": "cc15e004",
   "metadata": {
    "hidden": true
   },
   "outputs": [],
   "source": [
    "oug_2_df = pd.DataFrame({\n",
    "    'foo': [10, 11, 3],\n",
    "    'bar': [4, 5, 6],\n",
    "})"
   ]
  },
  {
   "cell_type": "code",
   "execution_count": 11,
   "id": "f9fec757",
   "metadata": {
    "hidden": true
   },
   "outputs": [
    {
     "ename": "ValueError",
     "evalue": "Index has duplicate keys: Int64Index([3], dtype='int64', name='foo')",
     "output_type": "error",
     "traceback": [
      "\u001b[1;31m---------------------------------------------------------------------------\u001b[0m",
      "\u001b[1;31mValueError\u001b[0m                                Traceback (most recent call last)",
      "\u001b[1;32m<ipython-input-11-4154d35b60c6>\u001b[0m in \u001b[0;36m<module>\u001b[1;34m\u001b[0m\n\u001b[1;32m----> 1\u001b[1;33m \u001b[0mpd\u001b[0m\u001b[1;33m.\u001b[0m\u001b[0mconcat\u001b[0m\u001b[1;33m(\u001b[0m\u001b[1;33m[\u001b[0m\u001b[0moug_df\u001b[0m\u001b[1;33m,\u001b[0m \u001b[0moug_2_df\u001b[0m\u001b[1;33m]\u001b[0m\u001b[1;33m)\u001b[0m\u001b[1;33m.\u001b[0m\u001b[0mset_index\u001b[0m\u001b[1;33m(\u001b[0m\u001b[1;34m'foo'\u001b[0m\u001b[1;33m,\u001b[0m \u001b[0mverify_integrity\u001b[0m\u001b[1;33m=\u001b[0m\u001b[1;32mTrue\u001b[0m\u001b[1;33m)\u001b[0m\u001b[1;33m\u001b[0m\u001b[1;33m\u001b[0m\u001b[0m\n\u001b[0m",
      "\u001b[1;32m~\\Miniconda3\\envs\\housing\\lib\\site-packages\\pandas\\util\\_decorators.py\u001b[0m in \u001b[0;36mwrapper\u001b[1;34m(*args, **kwargs)\u001b[0m\n\u001b[0;32m    309\u001b[0m                     \u001b[0mstacklevel\u001b[0m\u001b[1;33m=\u001b[0m\u001b[0mstacklevel\u001b[0m\u001b[1;33m,\u001b[0m\u001b[1;33m\u001b[0m\u001b[1;33m\u001b[0m\u001b[0m\n\u001b[0;32m    310\u001b[0m                 )\n\u001b[1;32m--> 311\u001b[1;33m             \u001b[1;32mreturn\u001b[0m \u001b[0mfunc\u001b[0m\u001b[1;33m(\u001b[0m\u001b[1;33m*\u001b[0m\u001b[0margs\u001b[0m\u001b[1;33m,\u001b[0m \u001b[1;33m**\u001b[0m\u001b[0mkwargs\u001b[0m\u001b[1;33m)\u001b[0m\u001b[1;33m\u001b[0m\u001b[1;33m\u001b[0m\u001b[0m\n\u001b[0m\u001b[0;32m    312\u001b[0m \u001b[1;33m\u001b[0m\u001b[0m\n\u001b[0;32m    313\u001b[0m         \u001b[1;32mreturn\u001b[0m \u001b[0mwrapper\u001b[0m\u001b[1;33m\u001b[0m\u001b[1;33m\u001b[0m\u001b[0m\n",
      "\u001b[1;32m~\\Miniconda3\\envs\\housing\\lib\\site-packages\\pandas\\core\\frame.py\u001b[0m in \u001b[0;36mset_index\u001b[1;34m(self, keys, drop, append, inplace, verify_integrity)\u001b[0m\n\u001b[0;32m   5508\u001b[0m         \u001b[1;32mif\u001b[0m \u001b[0mverify_integrity\u001b[0m \u001b[1;32mand\u001b[0m \u001b[1;32mnot\u001b[0m \u001b[0mindex\u001b[0m\u001b[1;33m.\u001b[0m\u001b[0mis_unique\u001b[0m\u001b[1;33m:\u001b[0m\u001b[1;33m\u001b[0m\u001b[1;33m\u001b[0m\u001b[0m\n\u001b[0;32m   5509\u001b[0m             \u001b[0mduplicates\u001b[0m \u001b[1;33m=\u001b[0m \u001b[0mindex\u001b[0m\u001b[1;33m[\u001b[0m\u001b[0mindex\u001b[0m\u001b[1;33m.\u001b[0m\u001b[0mduplicated\u001b[0m\u001b[1;33m(\u001b[0m\u001b[1;33m)\u001b[0m\u001b[1;33m]\u001b[0m\u001b[1;33m.\u001b[0m\u001b[0munique\u001b[0m\u001b[1;33m(\u001b[0m\u001b[1;33m)\u001b[0m\u001b[1;33m\u001b[0m\u001b[1;33m\u001b[0m\u001b[0m\n\u001b[1;32m-> 5510\u001b[1;33m             \u001b[1;32mraise\u001b[0m \u001b[0mValueError\u001b[0m\u001b[1;33m(\u001b[0m\u001b[1;34mf\"Index has duplicate keys: {duplicates}\"\u001b[0m\u001b[1;33m)\u001b[0m\u001b[1;33m\u001b[0m\u001b[1;33m\u001b[0m\u001b[0m\n\u001b[0m\u001b[0;32m   5511\u001b[0m \u001b[1;33m\u001b[0m\u001b[0m\n\u001b[0;32m   5512\u001b[0m         \u001b[1;31m# use set to handle duplicate column names gracefully in case of drop\u001b[0m\u001b[1;33m\u001b[0m\u001b[1;33m\u001b[0m\u001b[1;33m\u001b[0m\u001b[0m\n",
      "\u001b[1;31mValueError\u001b[0m: Index has duplicate keys: Int64Index([3], dtype='int64', name='foo')"
     ]
    }
   ],
   "source": [
    "pd.concat([oug_df, oug_2_df]).set_index('foo', verify_integrity=True)"
   ]
  },
  {
   "cell_type": "code",
   "execution_count": 12,
   "id": "6d8fc9b4",
   "metadata": {
    "hidden": true
   },
   "outputs": [
    {
     "ename": "ValueError",
     "evalue": "not enough values to unpack (expected 3, got 2)",
     "output_type": "error",
     "traceback": [
      "\u001b[1;31m---------------------------------------------------------------------------\u001b[0m",
      "\u001b[1;31mValueError\u001b[0m                                Traceback (most recent call last)",
      "\u001b[1;32m<ipython-input-12-6ce5c89c216c>\u001b[0m in \u001b[0;36m<module>\u001b[1;34m\u001b[0m\n\u001b[0;32m      1\u001b[0m \u001b[0mfoo\u001b[0m \u001b[1;33m=\u001b[0m \u001b[1;33m(\u001b[0m\u001b[1;36m1\u001b[0m\u001b[1;33m,\u001b[0m \u001b[1;36m2\u001b[0m\u001b[1;33m)\u001b[0m\u001b[1;33m\u001b[0m\u001b[1;33m\u001b[0m\u001b[0m\n\u001b[1;32m----> 2\u001b[1;33m \u001b[0mbar\u001b[0m\u001b[1;33m,\u001b[0m \u001b[0mbaz\u001b[0m\u001b[1;33m,\u001b[0m \u001b[0mbee\u001b[0m \u001b[1;33m=\u001b[0m \u001b[0mfoo\u001b[0m\u001b[1;33m\u001b[0m\u001b[1;33m\u001b[0m\u001b[0m\n\u001b[0m",
      "\u001b[1;31mValueError\u001b[0m: not enough values to unpack (expected 3, got 2)"
     ]
    }
   ],
   "source": [
    "foo = (1, 2)\n",
    "bar, baz, bee = foo"
   ]
  },
  {
   "cell_type": "code",
   "execution_count": 17,
   "id": "4876f89a",
   "metadata": {
    "hidden": true
   },
   "outputs": [
    {
     "data": {
      "text/html": [
       "<div>\n",
       "<style scoped>\n",
       "    .dataframe tbody tr th:only-of-type {\n",
       "        vertical-align: middle;\n",
       "    }\n",
       "\n",
       "    .dataframe tbody tr th {\n",
       "        vertical-align: top;\n",
       "    }\n",
       "\n",
       "    .dataframe thead th {\n",
       "        text-align: right;\n",
       "    }\n",
       "</style>\n",
       "<table border=\"1\" class=\"dataframe\">\n",
       "  <thead>\n",
       "    <tr style=\"text-align: right;\">\n",
       "      <th></th>\n",
       "      <th>foo</th>\n",
       "    </tr>\n",
       "  </thead>\n",
       "  <tbody>\n",
       "    <tr>\n",
       "      <th>0</th>\n",
       "      <td>0.0</td>\n",
       "    </tr>\n",
       "    <tr>\n",
       "      <th>1</th>\n",
       "      <td>1.0</td>\n",
       "    </tr>\n",
       "    <tr>\n",
       "      <th>2</th>\n",
       "      <td>NaN</td>\n",
       "    </tr>\n",
       "  </tbody>\n",
       "</table>\n",
       "</div>"
      ],
      "text/plain": [
       "   foo\n",
       "0  0.0\n",
       "1  1.0\n",
       "2  NaN"
      ]
     },
     "execution_count": 17,
     "metadata": {},
     "output_type": "execute_result"
    }
   ],
   "source": [
    "df = pd.DataFrame({\n",
    "    'foo': [0, 1, np.nan]\n",
    "})\n",
    "df"
   ]
  },
  {
   "cell_type": "code",
   "execution_count": 20,
   "id": "0bdd7f78",
   "metadata": {
    "hidden": true
   },
   "outputs": [],
   "source": [
    "df['foo'] = df['foo'].fillna(0).astype(int)"
   ]
  },
  {
   "cell_type": "code",
   "execution_count": 21,
   "id": "75131d70",
   "metadata": {
    "hidden": true
   },
   "outputs": [
    {
     "data": {
      "text/html": [
       "<div>\n",
       "<style scoped>\n",
       "    .dataframe tbody tr th:only-of-type {\n",
       "        vertical-align: middle;\n",
       "    }\n",
       "\n",
       "    .dataframe tbody tr th {\n",
       "        vertical-align: top;\n",
       "    }\n",
       "\n",
       "    .dataframe thead th {\n",
       "        text-align: right;\n",
       "    }\n",
       "</style>\n",
       "<table border=\"1\" class=\"dataframe\">\n",
       "  <thead>\n",
       "    <tr style=\"text-align: right;\">\n",
       "      <th></th>\n",
       "      <th>foo</th>\n",
       "    </tr>\n",
       "  </thead>\n",
       "  <tbody>\n",
       "    <tr>\n",
       "      <th>0</th>\n",
       "      <td>0</td>\n",
       "    </tr>\n",
       "    <tr>\n",
       "      <th>1</th>\n",
       "      <td>1</td>\n",
       "    </tr>\n",
       "    <tr>\n",
       "      <th>2</th>\n",
       "      <td>0</td>\n",
       "    </tr>\n",
       "  </tbody>\n",
       "</table>\n",
       "</div>"
      ],
      "text/plain": [
       "   foo\n",
       "0    0\n",
       "1    1\n",
       "2    0"
      ]
     },
     "execution_count": 21,
     "metadata": {},
     "output_type": "execute_result"
    }
   ],
   "source": [
    "df"
   ]
  },
  {
   "cell_type": "code",
   "execution_count": 22,
   "id": "78f36d9f",
   "metadata": {
    "hidden": true
   },
   "outputs": [],
   "source": [
    "decades_df = pd.DataFrame({\n",
    "    'BUILT_YR': [1941, 1929, 2012, 2010],\n",
    "})"
   ]
  },
  {
   "cell_type": "code",
   "execution_count": 29,
   "id": "65a25e3c",
   "metadata": {
    "hidden": true
   },
   "outputs": [],
   "source": [
    "decades_df['BUILT_DECADE'] = decades_df['BUILT_YR']//10*10"
   ]
  },
  {
   "cell_type": "code",
   "execution_count": 30,
   "id": "99f258d3",
   "metadata": {
    "hidden": true,
    "scrolled": true
   },
   "outputs": [
    {
     "data": {
      "text/html": [
       "<div>\n",
       "<style scoped>\n",
       "    .dataframe tbody tr th:only-of-type {\n",
       "        vertical-align: middle;\n",
       "    }\n",
       "\n",
       "    .dataframe tbody tr th {\n",
       "        vertical-align: top;\n",
       "    }\n",
       "\n",
       "    .dataframe thead th {\n",
       "        text-align: right;\n",
       "    }\n",
       "</style>\n",
       "<table border=\"1\" class=\"dataframe\">\n",
       "  <thead>\n",
       "    <tr style=\"text-align: right;\">\n",
       "      <th></th>\n",
       "      <th>BUILT_YR</th>\n",
       "      <th>BUILT_DECADE</th>\n",
       "    </tr>\n",
       "  </thead>\n",
       "  <tbody>\n",
       "    <tr>\n",
       "      <th>0</th>\n",
       "      <td>1941</td>\n",
       "      <td>1940</td>\n",
       "    </tr>\n",
       "    <tr>\n",
       "      <th>1</th>\n",
       "      <td>1929</td>\n",
       "      <td>1920</td>\n",
       "    </tr>\n",
       "    <tr>\n",
       "      <th>2</th>\n",
       "      <td>2012</td>\n",
       "      <td>2010</td>\n",
       "    </tr>\n",
       "    <tr>\n",
       "      <th>3</th>\n",
       "      <td>2010</td>\n",
       "      <td>2010</td>\n",
       "    </tr>\n",
       "  </tbody>\n",
       "</table>\n",
       "</div>"
      ],
      "text/plain": [
       "   BUILT_YR  BUILT_DECADE\n",
       "0      1941          1940\n",
       "1      1929          1920\n",
       "2      2012          2010\n",
       "3      2010          2010"
      ]
     },
     "execution_count": 30,
     "metadata": {},
     "output_type": "execute_result"
    }
   ],
   "source": [
    "decades_df"
   ]
  },
  {
   "cell_type": "code",
   "execution_count": null,
   "id": "2180fe11",
   "metadata": {
    "hidden": true
   },
   "outputs": [],
   "source": [
    "rf_merged_df = pd.DataFrame"
   ]
  },
  {
   "cell_type": "code",
   "execution_count": 4,
   "id": "3eb5cf21",
   "metadata": {
    "hidden": true
   },
   "outputs": [
    {
     "data": {
      "text/plain": [
       "2022"
      ]
     },
     "execution_count": 4,
     "metadata": {},
     "output_type": "execute_result"
    }
   ],
   "source": [
    "datetime.datetime.now().year"
   ]
  },
  {
   "cell_type": "code",
   "execution_count": 6,
   "id": "3ab2f50e",
   "metadata": {
    "hidden": true
   },
   "outputs": [
    {
     "data": {
      "text/plain": [
       "False"
      ]
     },
     "execution_count": 6,
     "metadata": {},
     "output_type": "execute_result"
    }
   ],
   "source": [
    "bool(pd.DataFrame().shape[0])"
   ]
  },
  {
   "cell_type": "code",
   "execution_count": null,
   "id": "91acd965",
   "metadata": {
    "hidden": true
   },
   "outputs": [],
   "source": []
  },
  {
   "cell_type": "markdown",
   "id": "3d2deb9a",
   "metadata": {
    "heading_collapsed": true
   },
   "source": [
    "# Address point testing"
   ]
  },
  {
   "cell_type": "code",
   "execution_count": 35,
   "id": "0dcda56b",
   "metadata": {
    "hidden": true
   },
   "outputs": [],
   "source": [
    "addr_pts_fc = r'c:\\gis\\git\\housing-unit-inventory\\parcels\\2020-davis\\Inputs\\AddressPoints_Davis.gdb\\address_points_davis'"
   ]
  },
  {
   "cell_type": "code",
   "execution_count": 36,
   "id": "d48ece6b",
   "metadata": {
    "hidden": true
   },
   "outputs": [],
   "source": [
    "addr_pts_df = pd.DataFrame.spatial.from_featureclass(addr_pts_fc)"
   ]
  },
  {
   "cell_type": "code",
   "execution_count": 41,
   "id": "6ab669e8",
   "metadata": {
    "hidden": true
   },
   "outputs": [
    {
     "data": {
      "text/html": [
       "<div>\n",
       "<style scoped>\n",
       "    .dataframe tbody tr th:only-of-type {\n",
       "        vertical-align: middle;\n",
       "    }\n",
       "\n",
       "    .dataframe tbody tr th {\n",
       "        vertical-align: top;\n",
       "    }\n",
       "\n",
       "    .dataframe thead th {\n",
       "        text-align: right;\n",
       "    }\n",
       "</style>\n",
       "<table border=\"1\" class=\"dataframe\">\n",
       "  <thead>\n",
       "    <tr style=\"text-align: right;\">\n",
       "      <th></th>\n",
       "      <th>OBJECTID</th>\n",
       "      <th>AddSystem</th>\n",
       "      <th>UTAddPtID</th>\n",
       "      <th>FullAdd</th>\n",
       "      <th>AddNum</th>\n",
       "      <th>AddNumSuffix</th>\n",
       "      <th>PrefixDir</th>\n",
       "      <th>StreetName</th>\n",
       "      <th>StreetType</th>\n",
       "      <th>SuffixDir</th>\n",
       "      <th>...</th>\n",
       "      <th>CountyID</th>\n",
       "      <th>State</th>\n",
       "      <th>PtLocation</th>\n",
       "      <th>PtType</th>\n",
       "      <th>Structure</th>\n",
       "      <th>ParcelID</th>\n",
       "      <th>AddSource</th>\n",
       "      <th>LoadDate</th>\n",
       "      <th>USNG</th>\n",
       "      <th>SHAPE</th>\n",
       "    </tr>\n",
       "  </thead>\n",
       "  <tbody>\n",
       "    <tr>\n",
       "      <th>7370</th>\n",
       "      <td>7371</td>\n",
       "      <td>OGDEN</td>\n",
       "      <td>OGDEN | 5014 S 1150 W</td>\n",
       "      <td>5014 S 1150 W</td>\n",
       "      <td>5014</td>\n",
       "      <td></td>\n",
       "      <td>S</td>\n",
       "      <td>1150</td>\n",
       "      <td></td>\n",
       "      <td>W</td>\n",
       "      <td>...</td>\n",
       "      <td>49057</td>\n",
       "      <td>UT</td>\n",
       "      <td>None</td>\n",
       "      <td>BASE ADDRESS</td>\n",
       "      <td>None</td>\n",
       "      <td>None</td>\n",
       "      <td>AGRC</td>\n",
       "      <td>2020-10-01</td>\n",
       "      <td>12TVL1558</td>\n",
       "      <td>{\"x\": 415445.1500000004, \"y\": 4558289.47000000...</td>\n",
       "    </tr>\n",
       "    <tr>\n",
       "      <th>7371</th>\n",
       "      <td>7372</td>\n",
       "      <td>OGDEN</td>\n",
       "      <td>OGDEN | 2440 E 6600 S</td>\n",
       "      <td>2440 E 6600 S</td>\n",
       "      <td>2440</td>\n",
       "      <td></td>\n",
       "      <td>E</td>\n",
       "      <td>6600</td>\n",
       "      <td></td>\n",
       "      <td>S</td>\n",
       "      <td>...</td>\n",
       "      <td>49057</td>\n",
       "      <td>UT</td>\n",
       "      <td>None</td>\n",
       "      <td>BASE ADDRESS</td>\n",
       "      <td>None</td>\n",
       "      <td>None</td>\n",
       "      <td>AGRC</td>\n",
       "      <td>2020-10-01</td>\n",
       "      <td>12TVL2354</td>\n",
       "      <td>{\"x\": 423348.1299999999, \"y\": 4554579.61999999...</td>\n",
       "    </tr>\n",
       "    <tr>\n",
       "      <th>7372</th>\n",
       "      <td>7373</td>\n",
       "      <td>OGDEN</td>\n",
       "      <td>OGDEN | 975 E 6600 S</td>\n",
       "      <td>975 E 6600 S</td>\n",
       "      <td>975</td>\n",
       "      <td></td>\n",
       "      <td>E</td>\n",
       "      <td>6600</td>\n",
       "      <td></td>\n",
       "      <td>S</td>\n",
       "      <td>...</td>\n",
       "      <td>49057</td>\n",
       "      <td>UT</td>\n",
       "      <td>None</td>\n",
       "      <td>BASE ADDRESS</td>\n",
       "      <td>None</td>\n",
       "      <td>None</td>\n",
       "      <td>AGRC</td>\n",
       "      <td>2020-10-01</td>\n",
       "      <td>12TVL1955</td>\n",
       "      <td>{\"x\": 419721.70999999996, \"y\": 4555405.25, \"sp...</td>\n",
       "    </tr>\n",
       "    <tr>\n",
       "      <th>7373</th>\n",
       "      <td>7374</td>\n",
       "      <td>OGDEN</td>\n",
       "      <td>OGDEN | 5187 S 1500 W</td>\n",
       "      <td>5187 S 1500 W</td>\n",
       "      <td>5187</td>\n",
       "      <td></td>\n",
       "      <td>S</td>\n",
       "      <td>1500</td>\n",
       "      <td></td>\n",
       "      <td>W</td>\n",
       "      <td>...</td>\n",
       "      <td>49057</td>\n",
       "      <td>UT</td>\n",
       "      <td>None</td>\n",
       "      <td>BASE ADDRESS</td>\n",
       "      <td>None</td>\n",
       "      <td>None</td>\n",
       "      <td>AGRC</td>\n",
       "      <td>2020-10-01</td>\n",
       "      <td>12TVL1458</td>\n",
       "      <td>{\"x\": 414778.5800000001, \"y\": 4558038.98, \"spa...</td>\n",
       "    </tr>\n",
       "    <tr>\n",
       "      <th>7374</th>\n",
       "      <td>7375</td>\n",
       "      <td>OGDEN</td>\n",
       "      <td>OGDEN | 5675 S 2200 W</td>\n",
       "      <td>5675 S 2200 W</td>\n",
       "      <td>5675</td>\n",
       "      <td></td>\n",
       "      <td>S</td>\n",
       "      <td>2200</td>\n",
       "      <td></td>\n",
       "      <td>W</td>\n",
       "      <td>...</td>\n",
       "      <td>49057</td>\n",
       "      <td>UT</td>\n",
       "      <td>None</td>\n",
       "      <td>BASE ADDRESS</td>\n",
       "      <td>None</td>\n",
       "      <td>None</td>\n",
       "      <td>AGRC</td>\n",
       "      <td>2020-10-01</td>\n",
       "      <td>12TVL1357</td>\n",
       "      <td>{\"x\": 413215.23000000045, \"y\": 4557070.91, \"sp...</td>\n",
       "    </tr>\n",
       "    <tr>\n",
       "      <th>...</th>\n",
       "      <td>...</td>\n",
       "      <td>...</td>\n",
       "      <td>...</td>\n",
       "      <td>...</td>\n",
       "      <td>...</td>\n",
       "      <td>...</td>\n",
       "      <td>...</td>\n",
       "      <td>...</td>\n",
       "      <td>...</td>\n",
       "      <td>...</td>\n",
       "      <td>...</td>\n",
       "      <td>...</td>\n",
       "      <td>...</td>\n",
       "      <td>...</td>\n",
       "      <td>...</td>\n",
       "      <td>...</td>\n",
       "      <td>...</td>\n",
       "      <td>...</td>\n",
       "      <td>...</td>\n",
       "      <td>...</td>\n",
       "      <td>...</td>\n",
       "    </tr>\n",
       "    <tr>\n",
       "      <th>157272</th>\n",
       "      <td>157273</td>\n",
       "      <td>CLEARFIELD</td>\n",
       "      <td>CLEARFIELD | 850 E GRAND DR</td>\n",
       "      <td>850 E GRAND DR</td>\n",
       "      <td>850</td>\n",
       "      <td></td>\n",
       "      <td>E</td>\n",
       "      <td>GRAND</td>\n",
       "      <td>DR</td>\n",
       "      <td></td>\n",
       "      <td>...</td>\n",
       "      <td>49011</td>\n",
       "      <td>UT</td>\n",
       "      <td>None</td>\n",
       "      <td>BASE ADDRESS</td>\n",
       "      <td>None</td>\n",
       "      <td>None</td>\n",
       "      <td>AGRC</td>\n",
       "      <td>2020-10-01</td>\n",
       "      <td>12TVL1549</td>\n",
       "      <td>{\"x\": 415201.98000000045, \"y\": 4549699.9399999...</td>\n",
       "    </tr>\n",
       "    <tr>\n",
       "      <th>157273</th>\n",
       "      <td>157274</td>\n",
       "      <td>CLEARFIELD</td>\n",
       "      <td>CLEARFIELD | 850 E 1350 S</td>\n",
       "      <td>850 E 1350 S</td>\n",
       "      <td>850</td>\n",
       "      <td></td>\n",
       "      <td>E</td>\n",
       "      <td>1350</td>\n",
       "      <td></td>\n",
       "      <td>S</td>\n",
       "      <td>...</td>\n",
       "      <td>49011</td>\n",
       "      <td>UT</td>\n",
       "      <td>None</td>\n",
       "      <td>BASE ADDRESS</td>\n",
       "      <td>None</td>\n",
       "      <td>None</td>\n",
       "      <td>AGRC</td>\n",
       "      <td>2020-10-01</td>\n",
       "      <td>12TVL1549</td>\n",
       "      <td>{\"x\": 415201.98000000045, \"y\": 4549699.9399999...</td>\n",
       "    </tr>\n",
       "    <tr>\n",
       "      <th>157274</th>\n",
       "      <td>157275</td>\n",
       "      <td>CLEARFIELD</td>\n",
       "      <td>CLEARFIELD | 990 E GRAND DR</td>\n",
       "      <td>990 E GRAND DR</td>\n",
       "      <td>990</td>\n",
       "      <td></td>\n",
       "      <td>E</td>\n",
       "      <td>GRAND</td>\n",
       "      <td>DR</td>\n",
       "      <td></td>\n",
       "      <td>...</td>\n",
       "      <td>49011</td>\n",
       "      <td>UT</td>\n",
       "      <td>None</td>\n",
       "      <td>BASE ADDRESS</td>\n",
       "      <td>None</td>\n",
       "      <td>None</td>\n",
       "      <td>AGRC</td>\n",
       "      <td>2020-10-01</td>\n",
       "      <td>12TVL1549</td>\n",
       "      <td>{\"x\": 415412.21999999974, \"y\": 4549686.6099999...</td>\n",
       "    </tr>\n",
       "    <tr>\n",
       "      <th>157275</th>\n",
       "      <td>157276</td>\n",
       "      <td>CLEARFIELD</td>\n",
       "      <td>CLEARFIELD | 990 E 1350 S</td>\n",
       "      <td>990 E 1350 S</td>\n",
       "      <td>990</td>\n",
       "      <td></td>\n",
       "      <td>E</td>\n",
       "      <td>1350</td>\n",
       "      <td></td>\n",
       "      <td>S</td>\n",
       "      <td>...</td>\n",
       "      <td>49011</td>\n",
       "      <td>UT</td>\n",
       "      <td>None</td>\n",
       "      <td>BASE ADDRESS</td>\n",
       "      <td>None</td>\n",
       "      <td>None</td>\n",
       "      <td>AGRC</td>\n",
       "      <td>2020-10-01</td>\n",
       "      <td>12TVL1549</td>\n",
       "      <td>{\"x\": 415412.21999999974, \"y\": 4549686.6099999...</td>\n",
       "    </tr>\n",
       "    <tr>\n",
       "      <th>157276</th>\n",
       "      <td>157277</td>\n",
       "      <td>LAYTON</td>\n",
       "      <td>LAYTON | 1600 N 1575 W</td>\n",
       "      <td>1600 N 1575 W</td>\n",
       "      <td>1600</td>\n",
       "      <td></td>\n",
       "      <td>N</td>\n",
       "      <td>1575</td>\n",
       "      <td></td>\n",
       "      <td>W</td>\n",
       "      <td>...</td>\n",
       "      <td>49011</td>\n",
       "      <td>UT</td>\n",
       "      <td>None</td>\n",
       "      <td>BASE ADDRESS</td>\n",
       "      <td>None</td>\n",
       "      <td>None</td>\n",
       "      <td>AGRC</td>\n",
       "      <td>2020-10-01</td>\n",
       "      <td>12TVL1648</td>\n",
       "      <td>{\"x\": 416832.41000000015, \"y\": 4548471.17, \"sp...</td>\n",
       "    </tr>\n",
       "  </tbody>\n",
       "</table>\n",
       "<p>87 rows × 26 columns</p>\n",
       "</div>"
      ],
      "text/plain": [
       "        OBJECTID   AddSystem                    UTAddPtID         FullAdd  \\\n",
       "7370        7371       OGDEN        OGDEN | 5014 S 1150 W   5014 S 1150 W   \n",
       "7371        7372       OGDEN        OGDEN | 2440 E 6600 S   2440 E 6600 S   \n",
       "7372        7373       OGDEN         OGDEN | 975 E 6600 S    975 E 6600 S   \n",
       "7373        7374       OGDEN        OGDEN | 5187 S 1500 W   5187 S 1500 W   \n",
       "7374        7375       OGDEN        OGDEN | 5675 S 2200 W   5675 S 2200 W   \n",
       "...          ...         ...                          ...             ...   \n",
       "157272    157273  CLEARFIELD  CLEARFIELD | 850 E GRAND DR  850 E GRAND DR   \n",
       "157273    157274  CLEARFIELD    CLEARFIELD | 850 E 1350 S    850 E 1350 S   \n",
       "157274    157275  CLEARFIELD  CLEARFIELD | 990 E GRAND DR  990 E GRAND DR   \n",
       "157275    157276  CLEARFIELD    CLEARFIELD | 990 E 1350 S    990 E 1350 S   \n",
       "157276    157277      LAYTON       LAYTON | 1600 N 1575 W   1600 N 1575 W   \n",
       "\n",
       "       AddNum AddNumSuffix PrefixDir StreetName StreetType SuffixDir  ...  \\\n",
       "7370     5014                      S       1150                    W  ...   \n",
       "7371     2440                      E       6600                    S  ...   \n",
       "7372      975                      E       6600                    S  ...   \n",
       "7373     5187                      S       1500                    W  ...   \n",
       "7374     5675                      S       2200                    W  ...   \n",
       "...       ...          ...       ...        ...        ...       ...  ...   \n",
       "157272    850                      E      GRAND         DR            ...   \n",
       "157273    850                      E       1350                    S  ...   \n",
       "157274    990                      E      GRAND         DR            ...   \n",
       "157275    990                      E       1350                    S  ...   \n",
       "157276   1600                      N       1575                    W  ...   \n",
       "\n",
       "       CountyID State PtLocation        PtType Structure ParcelID AddSource  \\\n",
       "7370      49057    UT       None  BASE ADDRESS      None     None      AGRC   \n",
       "7371      49057    UT       None  BASE ADDRESS      None     None      AGRC   \n",
       "7372      49057    UT       None  BASE ADDRESS      None     None      AGRC   \n",
       "7373      49057    UT       None  BASE ADDRESS      None     None      AGRC   \n",
       "7374      49057    UT       None  BASE ADDRESS      None     None      AGRC   \n",
       "...         ...   ...        ...           ...       ...      ...       ...   \n",
       "157272    49011    UT       None  BASE ADDRESS      None     None      AGRC   \n",
       "157273    49011    UT       None  BASE ADDRESS      None     None      AGRC   \n",
       "157274    49011    UT       None  BASE ADDRESS      None     None      AGRC   \n",
       "157275    49011    UT       None  BASE ADDRESS      None     None      AGRC   \n",
       "157276    49011    UT       None  BASE ADDRESS      None     None      AGRC   \n",
       "\n",
       "         LoadDate       USNG  \\\n",
       "7370   2020-10-01  12TVL1558   \n",
       "7371   2020-10-01  12TVL2354   \n",
       "7372   2020-10-01  12TVL1955   \n",
       "7373   2020-10-01  12TVL1458   \n",
       "7374   2020-10-01  12TVL1357   \n",
       "...           ...        ...   \n",
       "157272 2020-10-01  12TVL1549   \n",
       "157273 2020-10-01  12TVL1549   \n",
       "157274 2020-10-01  12TVL1549   \n",
       "157275 2020-10-01  12TVL1549   \n",
       "157276 2020-10-01  12TVL1648   \n",
       "\n",
       "                                                    SHAPE  \n",
       "7370    {\"x\": 415445.1500000004, \"y\": 4558289.47000000...  \n",
       "7371    {\"x\": 423348.1299999999, \"y\": 4554579.61999999...  \n",
       "7372    {\"x\": 419721.70999999996, \"y\": 4555405.25, \"sp...  \n",
       "7373    {\"x\": 414778.5800000001, \"y\": 4558038.98, \"spa...  \n",
       "7374    {\"x\": 413215.23000000045, \"y\": 4557070.91, \"sp...  \n",
       "...                                                   ...  \n",
       "157272  {\"x\": 415201.98000000045, \"y\": 4549699.9399999...  \n",
       "157273  {\"x\": 415201.98000000045, \"y\": 4549699.9399999...  \n",
       "157274  {\"x\": 415412.21999999974, \"y\": 4549686.6099999...  \n",
       "157275  {\"x\": 415412.21999999974, \"y\": 4549686.6099999...  \n",
       "157276  {\"x\": 416832.41000000015, \"y\": 4548471.17, \"sp...  \n",
       "\n",
       "[87 rows x 26 columns]"
      ]
     },
     "execution_count": 41,
     "metadata": {},
     "output_type": "execute_result"
    }
   ],
   "source": [
    "value = 'BASE ADDRESS'\n",
    "field = 'PtType'\n",
    "addr_pts_df.query(f\"{field} == '{value}'\")"
   ]
  },
  {
   "cell_type": "markdown",
   "id": "6fffdcc7",
   "metadata": {
    "heading_collapsed": true
   },
   "source": [
    "# CSV testing"
   ]
  },
  {
   "cell_type": "code",
   "execution_count": 12,
   "id": "b69bf12d",
   "metadata": {
    "hidden": true
   },
   "outputs": [
    {
     "ename": "MergeError",
     "evalue": "Merge keys are not unique in right dataset; not a many-to-one merge",
     "output_type": "error",
     "traceback": [
      "\u001b[1;31m---------------------------------------------------------------------------\u001b[0m",
      "\u001b[1;31mMergeError\u001b[0m                                Traceback (most recent call last)",
      "\u001b[1;32m<ipython-input-12-5e12a8a6f2bf>\u001b[0m in \u001b[0;36m<module>\u001b[1;34m\u001b[0m\n\u001b[0;32m      7\u001b[0m })\n\u001b[0;32m      8\u001b[0m \u001b[1;33m\u001b[0m\u001b[0m\n\u001b[1;32m----> 9\u001b[1;33m \u001b[0mparcels_df\u001b[0m\u001b[1;33m.\u001b[0m\u001b[0mmerge\u001b[0m\u001b[1;33m(\u001b[0m\u001b[0mtest_df1\u001b[0m\u001b[1;33m,\u001b[0m \u001b[0mleft_on\u001b[0m\u001b[1;33m=\u001b[0m\u001b[1;34m'parcel_id'\u001b[0m\u001b[1;33m,\u001b[0m \u001b[0mright_on\u001b[0m\u001b[1;33m=\u001b[0m\u001b[1;34m'accountno'\u001b[0m\u001b[1;33m,\u001b[0m \u001b[0mhow\u001b[0m\u001b[1;33m=\u001b[0m\u001b[1;34m'left'\u001b[0m\u001b[1;33m,\u001b[0m \u001b[0mvalidate\u001b[0m\u001b[1;33m=\u001b[0m\u001b[1;34m'm:1'\u001b[0m\u001b[1;33m)\u001b[0m\u001b[1;33m\u001b[0m\u001b[1;33m\u001b[0m\u001b[0m\n\u001b[0m",
      "\u001b[1;32m~\\Miniconda3\\envs\\housing\\lib\\site-packages\\pandas\\core\\frame.py\u001b[0m in \u001b[0;36mmerge\u001b[1;34m(self, right, how, on, left_on, right_on, left_index, right_index, sort, suffixes, copy, indicator, validate)\u001b[0m\n\u001b[0;32m   9201\u001b[0m             \u001b[0mcopy\u001b[0m\u001b[1;33m=\u001b[0m\u001b[0mcopy\u001b[0m\u001b[1;33m,\u001b[0m\u001b[1;33m\u001b[0m\u001b[1;33m\u001b[0m\u001b[0m\n\u001b[0;32m   9202\u001b[0m             \u001b[0mindicator\u001b[0m\u001b[1;33m=\u001b[0m\u001b[0mindicator\u001b[0m\u001b[1;33m,\u001b[0m\u001b[1;33m\u001b[0m\u001b[1;33m\u001b[0m\u001b[0m\n\u001b[1;32m-> 9203\u001b[1;33m             \u001b[0mvalidate\u001b[0m\u001b[1;33m=\u001b[0m\u001b[0mvalidate\u001b[0m\u001b[1;33m,\u001b[0m\u001b[1;33m\u001b[0m\u001b[1;33m\u001b[0m\u001b[0m\n\u001b[0m\u001b[0;32m   9204\u001b[0m         )\n\u001b[0;32m   9205\u001b[0m \u001b[1;33m\u001b[0m\u001b[0m\n",
      "\u001b[1;32m~\\Miniconda3\\envs\\housing\\lib\\site-packages\\pandas\\core\\reshape\\merge.py\u001b[0m in \u001b[0;36mmerge\u001b[1;34m(left, right, how, on, left_on, right_on, left_index, right_index, sort, suffixes, copy, indicator, validate)\u001b[0m\n\u001b[0;32m    117\u001b[0m         \u001b[0mcopy\u001b[0m\u001b[1;33m=\u001b[0m\u001b[0mcopy\u001b[0m\u001b[1;33m,\u001b[0m\u001b[1;33m\u001b[0m\u001b[1;33m\u001b[0m\u001b[0m\n\u001b[0;32m    118\u001b[0m         \u001b[0mindicator\u001b[0m\u001b[1;33m=\u001b[0m\u001b[0mindicator\u001b[0m\u001b[1;33m,\u001b[0m\u001b[1;33m\u001b[0m\u001b[1;33m\u001b[0m\u001b[0m\n\u001b[1;32m--> 119\u001b[1;33m         \u001b[0mvalidate\u001b[0m\u001b[1;33m=\u001b[0m\u001b[0mvalidate\u001b[0m\u001b[1;33m,\u001b[0m\u001b[1;33m\u001b[0m\u001b[1;33m\u001b[0m\u001b[0m\n\u001b[0m\u001b[0;32m    120\u001b[0m     )\n\u001b[0;32m    121\u001b[0m     \u001b[1;32mreturn\u001b[0m \u001b[0mop\u001b[0m\u001b[1;33m.\u001b[0m\u001b[0mget_result\u001b[0m\u001b[1;33m(\u001b[0m\u001b[1;33m)\u001b[0m\u001b[1;33m\u001b[0m\u001b[1;33m\u001b[0m\u001b[0m\n",
      "\u001b[1;32m~\\Miniconda3\\envs\\housing\\lib\\site-packages\\pandas\\core\\reshape\\merge.py\u001b[0m in \u001b[0;36m__init__\u001b[1;34m(self, left, right, how, on, left_on, right_on, axis, left_index, right_index, sort, suffixes, copy, indicator, validate)\u001b[0m\n\u001b[0;32m    707\u001b[0m         \u001b[1;31m# are in fact unique.\u001b[0m\u001b[1;33m\u001b[0m\u001b[1;33m\u001b[0m\u001b[1;33m\u001b[0m\u001b[0m\n\u001b[0;32m    708\u001b[0m         \u001b[1;32mif\u001b[0m \u001b[0mvalidate\u001b[0m \u001b[1;32mis\u001b[0m \u001b[1;32mnot\u001b[0m \u001b[1;32mNone\u001b[0m\u001b[1;33m:\u001b[0m\u001b[1;33m\u001b[0m\u001b[1;33m\u001b[0m\u001b[0m\n\u001b[1;32m--> 709\u001b[1;33m             \u001b[0mself\u001b[0m\u001b[1;33m.\u001b[0m\u001b[0m_validate\u001b[0m\u001b[1;33m(\u001b[0m\u001b[0mvalidate\u001b[0m\u001b[1;33m)\u001b[0m\u001b[1;33m\u001b[0m\u001b[1;33m\u001b[0m\u001b[0m\n\u001b[0m\u001b[0;32m    710\u001b[0m \u001b[1;33m\u001b[0m\u001b[0m\n\u001b[0;32m    711\u001b[0m     \u001b[1;32mdef\u001b[0m \u001b[0mget_result\u001b[0m\u001b[1;33m(\u001b[0m\u001b[0mself\u001b[0m\u001b[1;33m)\u001b[0m \u001b[1;33m->\u001b[0m \u001b[0mDataFrame\u001b[0m\u001b[1;33m:\u001b[0m\u001b[1;33m\u001b[0m\u001b[1;33m\u001b[0m\u001b[0m\n",
      "\u001b[1;32m~\\Miniconda3\\envs\\housing\\lib\\site-packages\\pandas\\core\\reshape\\merge.py\u001b[0m in \u001b[0;36m_validate\u001b[1;34m(self, validate)\u001b[0m\n\u001b[0;32m   1440\u001b[0m             \u001b[1;32mif\u001b[0m \u001b[1;32mnot\u001b[0m \u001b[0mright_unique\u001b[0m\u001b[1;33m:\u001b[0m\u001b[1;33m\u001b[0m\u001b[1;33m\u001b[0m\u001b[0m\n\u001b[0;32m   1441\u001b[0m                 raise MergeError(\n\u001b[1;32m-> 1442\u001b[1;33m                     \u001b[1;34m\"Merge keys are not unique in right dataset; \"\u001b[0m\u001b[1;33m\u001b[0m\u001b[1;33m\u001b[0m\u001b[0m\n\u001b[0m\u001b[0;32m   1443\u001b[0m                     \u001b[1;34m\"not a many-to-one merge\"\u001b[0m\u001b[1;33m\u001b[0m\u001b[1;33m\u001b[0m\u001b[0m\n\u001b[0;32m   1444\u001b[0m                 )\n",
      "\u001b[1;31mMergeError\u001b[0m: Merge keys are not unique in right dataset; not a many-to-one merge"
     ]
    }
   ],
   "source": [
    "test_df1 = pd.DataFrame({\n",
    "    'accountno': [1, 1],\n",
    "    'value': ['foo', 'bar']\n",
    "})\n",
    "parcels_df = pd.DataFrame({\n",
    "    'parcel_id': [1, 3, 3],\n",
    "})\n",
    "\n",
    "parcels_df.merge(test_df1, left_on='parcel_id', right_on='accountno', how='left', validate='m:1')"
   ]
  },
  {
   "cell_type": "code",
   "execution_count": 1,
   "id": "150e1fc8",
   "metadata": {
    "hidden": true
   },
   "outputs": [
    {
     "ename": "NameError",
     "evalue": "name 'pd' is not defined",
     "output_type": "error",
     "traceback": [
      "\u001b[1;31m---------------------------------------------------------------------------\u001b[0m",
      "\u001b[1;31mNameError\u001b[0m                                 Traceback (most recent call last)",
      "\u001b[1;32m<ipython-input-1-d2c57030bedc>\u001b[0m in \u001b[0;36m<module>\u001b[1;34m\u001b[0m\n\u001b[1;32m----> 1\u001b[1;33m parcels_df = pd.DataFrame({\n\u001b[0m\u001b[0;32m      2\u001b[0m     \u001b[1;34m'PARCEL_ID'\u001b[0m\u001b[1;33m:\u001b[0m \u001b[1;33m[\u001b[0m\u001b[1;36m1\u001b[0m\u001b[1;33m,\u001b[0m \u001b[1;36m2\u001b[0m\u001b[1;33m,\u001b[0m \u001b[1;36m3\u001b[0m\u001b[1;33m]\u001b[0m\u001b[1;33m,\u001b[0m\u001b[1;33m\u001b[0m\u001b[1;33m\u001b[0m\u001b[0m\n\u001b[0;32m      3\u001b[0m     \u001b[1;34m'key_col'\u001b[0m\u001b[1;33m:\u001b[0m \u001b[1;33m[\u001b[0m\u001b[1;36m4\u001b[0m\u001b[1;33m,\u001b[0m \u001b[1;36m5\u001b[0m\u001b[1;33m,\u001b[0m \u001b[1;36m6\u001b[0m\u001b[1;33m]\u001b[0m\u001b[1;33m,\u001b[0m\u001b[1;33m\u001b[0m\u001b[1;33m\u001b[0m\u001b[0m\n\u001b[0;32m      4\u001b[0m     \u001b[1;34m'other_col'\u001b[0m\u001b[1;33m:\u001b[0m \u001b[1;33m[\u001b[0m\u001b[1;36m7\u001b[0m\u001b[1;33m,\u001b[0m \u001b[1;36m8\u001b[0m\u001b[1;33m,\u001b[0m \u001b[1;36m9\u001b[0m\u001b[1;33m]\u001b[0m\u001b[1;33m,\u001b[0m\u001b[1;33m\u001b[0m\u001b[1;33m\u001b[0m\u001b[0m\n\u001b[0;32m      5\u001b[0m })\n",
      "\u001b[1;31mNameError\u001b[0m: name 'pd' is not defined"
     ]
    }
   ],
   "source": [
    "parcels_df = pd.DataFrame({\n",
    "    'PARCEL_ID': [1, 2, 3],\n",
    "    'key_col': [4, 5, 6],\n",
    "    'other_col': [7, 8, 9],\n",
    "})"
   ]
  },
  {
   "cell_type": "code",
   "execution_count": 3,
   "id": "466e71f9",
   "metadata": {
    "hidden": true
   },
   "outputs": [],
   "source": [
    "test_df = pd.DataFrame({\n",
    "    'foo': [1, 2],\n",
    "    'bar': [3, 4],\n",
    "    'baz': [5, 6],\n",
    "})"
   ]
  },
  {
   "cell_type": "code",
   "execution_count": 5,
   "id": "e134de62",
   "metadata": {
    "hidden": true
   },
   "outputs": [
    {
     "data": {
      "text/html": [
       "<div>\n",
       "<style scoped>\n",
       "    .dataframe tbody tr th:only-of-type {\n",
       "        vertical-align: middle;\n",
       "    }\n",
       "\n",
       "    .dataframe tbody tr th {\n",
       "        vertical-align: top;\n",
       "    }\n",
       "\n",
       "    .dataframe thead th {\n",
       "        text-align: right;\n",
       "    }\n",
       "</style>\n",
       "<table border=\"1\" class=\"dataframe\">\n",
       "  <thead>\n",
       "    <tr style=\"text-align: right;\">\n",
       "      <th></th>\n",
       "      <th>foo</th>\n",
       "      <th>bar</th>\n",
       "    </tr>\n",
       "  </thead>\n",
       "  <tbody>\n",
       "    <tr>\n",
       "      <th>0</th>\n",
       "      <td>1</td>\n",
       "      <td>3</td>\n",
       "    </tr>\n",
       "    <tr>\n",
       "      <th>1</th>\n",
       "      <td>2</td>\n",
       "      <td>4</td>\n",
       "    </tr>\n",
       "  </tbody>\n",
       "</table>\n",
       "</div>"
      ],
      "text/plain": [
       "   foo  bar\n",
       "0    1    3\n",
       "1    2    4"
      ]
     },
     "execution_count": 5,
     "metadata": {},
     "output_type": "execute_result"
    }
   ],
   "source": [
    "new_df = test_df.reindex(columns=['foo', 'bar'])\n",
    "new_df"
   ]
  },
  {
   "cell_type": "code",
   "execution_count": 2,
   "id": "2239b95e",
   "metadata": {
    "hidden": true
   },
   "outputs": [],
   "source": [
    "csv_path = r\"C:\\gis\\git\\housing-unit-inventory\\Parcels\\2020-Davis\\Inputs\\davis_extended_simplified.csv\""
   ]
  },
  {
   "cell_type": "code",
   "execution_count": 6,
   "id": "eef84e7c",
   "metadata": {
    "hidden": true
   },
   "outputs": [
    {
     "name": "stderr",
     "output_type": "stream",
     "text": [
      "C:\\Users\\jdadams\\Miniconda3\\envs\\housing\\lib\\site-packages\\IPython\\core\\interactiveshell.py:3437: DtypeWarning: Columns (9) have mixed types.Specify dtype option on import or set low_memory=False.\n",
      "  exec(code_obj, self.user_global_ns, self.user_ns)\n"
     ]
    }
   ],
   "source": [
    "csv_df = pd.read_csv(csv_path)"
   ]
  },
  {
   "cell_type": "code",
   "execution_count": 8,
   "id": "3352c454",
   "metadata": {
    "hidden": true
   },
   "outputs": [
    {
     "data": {
      "text/html": [
       "<div>\n",
       "<style scoped>\n",
       "    .dataframe tbody tr th:only-of-type {\n",
       "        vertical-align: middle;\n",
       "    }\n",
       "\n",
       "    .dataframe tbody tr th {\n",
       "        vertical-align: top;\n",
       "    }\n",
       "\n",
       "    .dataframe thead th {\n",
       "        text-align: right;\n",
       "    }\n",
       "</style>\n",
       "<table border=\"1\" class=\"dataframe\">\n",
       "  <thead>\n",
       "    <tr style=\"text-align: right;\">\n",
       "      <th></th>\n",
       "      <th>Unnamed: 0</th>\n",
       "      <th>PARCEL_ID</th>\n",
       "      <th>ACCOUNTNO</th>\n",
       "      <th>PROP_CLASS</th>\n",
       "      <th>PRIMARY_RES</th>\n",
       "      <th>TAXEXEMPT_TYPE</th>\n",
       "      <th>des_all</th>\n",
       "      <th>count</th>\n",
       "      <th>class</th>\n",
       "      <th>notes</th>\n",
       "    </tr>\n",
       "  </thead>\n",
       "  <tbody>\n",
       "    <tr>\n",
       "      <th>114037</th>\n",
       "      <td>118736</td>\n",
       "      <td>NaN</td>\n",
       "      <td>NaN</td>\n",
       "      <td></td>\n",
       "      <td>NaN</td>\n",
       "      <td>NaN</td>\n",
       "      <td>NaN</td>\n",
       "      <td>NaN</td>\n",
       "      <td>NaN</td>\n",
       "      <td>NaN</td>\n",
       "    </tr>\n",
       "    <tr>\n",
       "      <th>114038</th>\n",
       "      <td>118739</td>\n",
       "      <td>NaN</td>\n",
       "      <td>NaN</td>\n",
       "      <td>Vacant Land</td>\n",
       "      <td>N</td>\n",
       "      <td>NO</td>\n",
       "      <td>NaN</td>\n",
       "      <td>NaN</td>\n",
       "      <td>vacant</td>\n",
       "      <td>NaN</td>\n",
       "    </tr>\n",
       "    <tr>\n",
       "      <th>114039</th>\n",
       "      <td>118805</td>\n",
       "      <td>NaN</td>\n",
       "      <td>NaN</td>\n",
       "      <td>Vacant Land</td>\n",
       "      <td>Y</td>\n",
       "      <td>NO</td>\n",
       "      <td>NaN</td>\n",
       "      <td>NaN</td>\n",
       "      <td>vacant</td>\n",
       "      <td>NaN</td>\n",
       "    </tr>\n",
       "    <tr>\n",
       "      <th>114040</th>\n",
       "      <td>119062</td>\n",
       "      <td>NaN</td>\n",
       "      <td>NaN</td>\n",
       "      <td>Residential</td>\n",
       "      <td>Y</td>\n",
       "      <td>NO</td>\n",
       "      <td>NaN</td>\n",
       "      <td>NaN</td>\n",
       "      <td>NaN</td>\n",
       "      <td>NaN</td>\n",
       "    </tr>\n",
       "  </tbody>\n",
       "</table>\n",
       "</div>"
      ],
      "text/plain": [
       "        Unnamed: 0  PARCEL_ID  ACCOUNTNO   PROP_CLASS PRIMARY_RES  \\\n",
       "114037      118736        NaN        NaN                      NaN   \n",
       "114038      118739        NaN        NaN  Vacant Land           N   \n",
       "114039      118805        NaN        NaN  Vacant Land           Y   \n",
       "114040      119062        NaN        NaN  Residential           Y   \n",
       "\n",
       "       TAXEXEMPT_TYPE des_all  count   class notes  \n",
       "114037            NaN     NaN    NaN     NaN   NaN  \n",
       "114038             NO     NaN    NaN  vacant   NaN  \n",
       "114039             NO     NaN    NaN  vacant   NaN  \n",
       "114040             NO     NaN    NaN     NaN   NaN  "
      ]
     },
     "execution_count": 8,
     "metadata": {},
     "output_type": "execute_result"
    }
   ],
   "source": [
    "csv_df[csv_df.duplicated(subset='ACCOUNTNO', keep=False)]"
   ]
  },
  {
   "cell_type": "markdown",
   "id": "f317ecf8",
   "metadata": {
    "heading_collapsed": true
   },
   "source": [
    "# Random testing"
   ]
  },
  {
   "cell_type": "code",
   "execution_count": 2,
   "id": "dd4ef799",
   "metadata": {
    "hidden": true
   },
   "outputs": [],
   "source": [
    "memory_centroids = r'C:\\gis\\Projects\\HousingInventory\\HousingInventory.gdb\\parcel_centroids'"
   ]
  },
  {
   "cell_type": "code",
   "execution_count": 5,
   "id": "a5d6898d",
   "metadata": {
    "hidden": true
   },
   "outputs": [],
   "source": [
    "join_field='PARCEL_ID'\n",
    "centroids_df = (\n",
    "    pd.DataFrame.spatial.from_featureclass(memory_centroids)[[join_field.lower(), 'SHAPE']].rename(\n",
    "        columns={\n",
    "            'SHAPE': 'CENTROIDS',\n",
    "            join_field.lower(): join_field\n",
    "        }\n",
    "    )  #: feature class lowercases the columns\n",
    "    .assign(**{join_field: lambda df: df[join_field].astype(str)})  #: ensure it's a str for join\n",
    ")"
   ]
  },
  {
   "cell_type": "code",
   "execution_count": 8,
   "id": "86534870",
   "metadata": {
    "hidden": true
   },
   "outputs": [
    {
     "data": {
      "text/html": [
       "<div>\n",
       "<style scoped>\n",
       "    .dataframe tbody tr th:only-of-type {\n",
       "        vertical-align: middle;\n",
       "    }\n",
       "\n",
       "    .dataframe tbody tr th {\n",
       "        vertical-align: top;\n",
       "    }\n",
       "\n",
       "    .dataframe thead th {\n",
       "        text-align: right;\n",
       "    }\n",
       "</style>\n",
       "<table border=\"1\" class=\"dataframe\">\n",
       "  <thead>\n",
       "    <tr style=\"text-align: right;\">\n",
       "      <th></th>\n",
       "      <th>PARCEL_ID</th>\n",
       "      <th>CENTROIDS</th>\n",
       "    </tr>\n",
       "  </thead>\n",
       "  <tbody>\n",
       "    <tr>\n",
       "      <th>0</th>\n",
       "      <td>010010001</td>\n",
       "      <td>{\"x\": 433640.0864000004, \"y\": 4522271.3223, \"s...</td>\n",
       "    </tr>\n",
       "    <tr>\n",
       "      <th>1</th>\n",
       "      <td>010020001</td>\n",
       "      <td>{\"x\": 432067.84109999985, \"y\": 4522288.0898, \"...</td>\n",
       "    </tr>\n",
       "    <tr>\n",
       "      <th>2</th>\n",
       "      <td>010030001</td>\n",
       "      <td>{\"x\": 430479.2838000003, \"y\": 4522300.2831, \"s...</td>\n",
       "    </tr>\n",
       "    <tr>\n",
       "      <th>3</th>\n",
       "      <td>010040001</td>\n",
       "      <td>{\"x\": 428672.2905000001, \"y\": 4522950.6358, \"s...</td>\n",
       "    </tr>\n",
       "    <tr>\n",
       "      <th>4</th>\n",
       "      <td>010040002</td>\n",
       "      <td>{\"x\": 428162.5903000003, \"y\": 4521728.47340000...</td>\n",
       "    </tr>\n",
       "    <tr>\n",
       "      <th>...</th>\n",
       "      <td>...</td>\n",
       "      <td>...</td>\n",
       "    </tr>\n",
       "    <tr>\n",
       "      <th>114042</th>\n",
       "      <td>550030001</td>\n",
       "      <td>{\"x\": 414203.3998999996, \"y\": 4553013.13440000...</td>\n",
       "    </tr>\n",
       "    <tr>\n",
       "      <th>114043</th>\n",
       "      <td>550030002</td>\n",
       "      <td>{\"x\": 414282.1196999997, \"y\": 4552960.726, \"sp...</td>\n",
       "    </tr>\n",
       "    <tr>\n",
       "      <th>114044</th>\n",
       "      <td>550040001</td>\n",
       "      <td>{\"x\": 414510.1227000002, \"y\": 4552697.9208, \"s...</td>\n",
       "    </tr>\n",
       "    <tr>\n",
       "      <th>114045</th>\n",
       "      <td>550050005</td>\n",
       "      <td>{\"x\": 414851.3979000002, \"y\": 4552851.6852, \"s...</td>\n",
       "    </tr>\n",
       "    <tr>\n",
       "      <th>114046</th>\n",
       "      <td>550060001</td>\n",
       "      <td>{\"x\": 414359.4461000003, \"y\": 4552865.26129999...</td>\n",
       "    </tr>\n",
       "  </tbody>\n",
       "</table>\n",
       "<p>114047 rows × 2 columns</p>\n",
       "</div>"
      ],
      "text/plain": [
       "        PARCEL_ID                                          CENTROIDS\n",
       "0       010010001  {\"x\": 433640.0864000004, \"y\": 4522271.3223, \"s...\n",
       "1       010020001  {\"x\": 432067.84109999985, \"y\": 4522288.0898, \"...\n",
       "2       010030001  {\"x\": 430479.2838000003, \"y\": 4522300.2831, \"s...\n",
       "3       010040001  {\"x\": 428672.2905000001, \"y\": 4522950.6358, \"s...\n",
       "4       010040002  {\"x\": 428162.5903000003, \"y\": 4521728.47340000...\n",
       "...           ...                                                ...\n",
       "114042  550030001  {\"x\": 414203.3998999996, \"y\": 4553013.13440000...\n",
       "114043  550030002  {\"x\": 414282.1196999997, \"y\": 4552960.726, \"sp...\n",
       "114044  550040001  {\"x\": 414510.1227000002, \"y\": 4552697.9208, \"s...\n",
       "114045  550050005  {\"x\": 414851.3979000002, \"y\": 4552851.6852, \"s...\n",
       "114046  550060001  {\"x\": 414359.4461000003, \"y\": 4552865.26129999...\n",
       "\n",
       "[114047 rows x 2 columns]"
      ]
     },
     "execution_count": 8,
     "metadata": {},
     "output_type": "execute_result"
    }
   ],
   "source": [
    "centroids_df"
   ]
  },
  {
   "cell_type": "code",
   "execution_count": 37,
   "id": "57bb662a",
   "metadata": {
    "hidden": true
   },
   "outputs": [],
   "source": [
    "def load_and_clean_parcels(parcels_fc):\n",
    "\n",
    "    parcels_dissolved_fc = 'memory/dissolved'\n",
    "    if arcpy.Exists(parcels_dissolved_fc):\n",
    "        arcpy.management.Delete(parcels_dissolved_fc)\n",
    "\n",
    "    arcpy.management.Dissolve(\n",
    "        str(parcels_fc), parcels_dissolved_fc, 'PARCEL_ID', [\n",
    "            ['PARCEL_ID', 'COUNT'],\n",
    "            ['TAXEXEMPT_TYPE', 'FIRST'],\n",
    "            ['TOTAL_MKT_VALUE', 'SUM'],\n",
    "            ['LAND_MKT_VALUE', 'SUM'],\n",
    "            ['PARCEL_ACRES', 'SUM'],\n",
    "            ['PROP_CLASS', 'FIRST'],\n",
    "            ['PRIMARY_RES', 'FIRST'],\n",
    "            ['HOUSE_CNT', 'MAX'],\n",
    "            ['BLDG_SQFT', 'SUM'],\n",
    "            ['FLOORS_CNT', 'MAX'],\n",
    "            ['BUILT_YR', 'FIRST'],\n",
    "            ['EFFBUILT_YR', 'FIRST'],\n",
    "        ], 'MULTI_PART', 'DISSOLVE_LINES'\n",
    "    )\n",
    "\n",
    "    # rename columns\n",
    "    #: moves OBJECTID, COUNT_PARCEL_ID\n",
    "    parcels_dissolved_df = pd.DataFrame.spatial.from_featureclass(parcels_dissolved_fc)\n",
    "    return parcels_dissolved_df\n",
    "#     columns_subset = [\n",
    "#         'OBJECTID',\n",
    "#         'PARCEL_ID',\n",
    "#         'COUNT_PARCEL_ID',\n",
    "#         'TAXEXEMPT_TYPE',\n",
    "#         'TOTAL_MKT_VALUE',\n",
    "#         'LAND_MKT_VALUE',\n",
    "#         'PARCEL_ACRES',\n",
    "#         'PROP_CLASS',\n",
    "#         'PRIMARY_RES',\n",
    "#         'HOUSE_CNT',\n",
    "#         'BLDG_SQFT',\n",
    "#         'FLOORS_CNT',\n",
    "#         'BUILT_YR',\n",
    "#         'EFFBUILT_YR',\n",
    "#         'SHAPE',\n",
    "#     ]\n",
    "#     reindex_df = parcels_dissolved_df.reindex(columns=columns_subset)\n",
    "\n",
    "    #: Remove parcels without parcel ids and empty geometries\n",
    "#     reindex_df.dropna(subset=['PARCEL_ID', 'SHAPE'], inplace=True)\n",
    "\n",
    "#     return reindex_df"
   ]
  },
  {
   "cell_type": "code",
   "execution_count": 12,
   "id": "1371c9c5",
   "metadata": {
    "hidden": true
   },
   "outputs": [],
   "source": [
    "input_dir_path = Path(r'c:\\gis\\git\\housing-unit-inventory\\Parcels\\2020-Davis\\Inputs')\n",
    "parcels_fc = input_dir_path / r'Davis_County_LIR_Parcels.gdb/Parcels_Davis_LIR_UTM12'"
   ]
  },
  {
   "cell_type": "code",
   "execution_count": 38,
   "id": "62016d6d",
   "metadata": {
    "hidden": true
   },
   "outputs": [],
   "source": [
    "parcels_df = load_and_clean_parcels(parcels_fc)"
   ]
  },
  {
   "cell_type": "code",
   "execution_count": 40,
   "id": "9766e39c",
   "metadata": {
    "hidden": true
   },
   "outputs": [
    {
     "data": {
      "text/html": [
       "<div>\n",
       "<style scoped>\n",
       "    .dataframe tbody tr th:only-of-type {\n",
       "        vertical-align: middle;\n",
       "    }\n",
       "\n",
       "    .dataframe tbody tr th {\n",
       "        vertical-align: top;\n",
       "    }\n",
       "\n",
       "    .dataframe thead th {\n",
       "        text-align: right;\n",
       "    }\n",
       "</style>\n",
       "<table border=\"1\" class=\"dataframe\">\n",
       "  <thead>\n",
       "    <tr style=\"text-align: right;\">\n",
       "      <th></th>\n",
       "      <th>OBJECTID</th>\n",
       "      <th>PARCEL_ID</th>\n",
       "      <th>COUNT_PARCEL_ID</th>\n",
       "      <th>FIRST_TAXEXEMPT_TYPE</th>\n",
       "      <th>SUM_TOTAL_MKT_VALUE</th>\n",
       "      <th>SUM_LAND_MKT_VALUE</th>\n",
       "      <th>SUM_PARCEL_ACRES</th>\n",
       "      <th>FIRST_PROP_CLASS</th>\n",
       "      <th>FIRST_PRIMARY_RES</th>\n",
       "      <th>MAX_HOUSE_CNT</th>\n",
       "      <th>SUM_BLDG_SQFT</th>\n",
       "      <th>MAX_FLOORS_CNT</th>\n",
       "      <th>FIRST_BUILT_YR</th>\n",
       "      <th>FIRST_EFFBUILT_YR</th>\n",
       "      <th>SHAPE</th>\n",
       "    </tr>\n",
       "  </thead>\n",
       "  <tbody>\n",
       "    <tr>\n",
       "      <th>0</th>\n",
       "      <td>1</td>\n",
       "      <td>None</td>\n",
       "      <td>NaN</td>\n",
       "      <td>None</td>\n",
       "      <td>NaN</td>\n",
       "      <td>NaN</td>\n",
       "      <td>NaN</td>\n",
       "      <td></td>\n",
       "      <td>None</td>\n",
       "      <td>None</td>\n",
       "      <td>0.0</td>\n",
       "      <td>0.0</td>\n",
       "      <td>NaN</td>\n",
       "      <td>None</td>\n",
       "      <td>{\"rings\": [[[423624.40919999965, 4519453.22540...</td>\n",
       "    </tr>\n",
       "    <tr>\n",
       "      <th>1</th>\n",
       "      <td>2</td>\n",
       "      <td>010010001</td>\n",
       "      <td>1.0</td>\n",
       "      <td>YES</td>\n",
       "      <td>2631555.0</td>\n",
       "      <td>2631555.0</td>\n",
       "      <td>584.790</td>\n",
       "      <td>Vacant Land</td>\n",
       "      <td>N</td>\n",
       "      <td>None</td>\n",
       "      <td>0.0</td>\n",
       "      <td>0.0</td>\n",
       "      <td>NaN</td>\n",
       "      <td>None</td>\n",
       "      <td>{\"rings\": [[[432837.2489, 4523084.3905], [4344...</td>\n",
       "    </tr>\n",
       "    <tr>\n",
       "      <th>2</th>\n",
       "      <td>3</td>\n",
       "      <td>010020001</td>\n",
       "      <td>1.0</td>\n",
       "      <td>YES</td>\n",
       "      <td>2862855.0</td>\n",
       "      <td>2862855.0</td>\n",
       "      <td>636.190</td>\n",
       "      <td>Vacant Land</td>\n",
       "      <td>N</td>\n",
       "      <td>None</td>\n",
       "      <td>0.0</td>\n",
       "      <td>0.0</td>\n",
       "      <td>NaN</td>\n",
       "      <td>None</td>\n",
       "      <td>{\"rings\": [[[431259.5963000003, 4523102.8245],...</td>\n",
       "    </tr>\n",
       "    <tr>\n",
       "      <th>3</th>\n",
       "      <td>4</td>\n",
       "      <td>010030001</td>\n",
       "      <td>1.0</td>\n",
       "      <td>YES</td>\n",
       "      <td>2820735.0</td>\n",
       "      <td>2820735.0</td>\n",
       "      <td>626.830</td>\n",
       "      <td>Vacant Land</td>\n",
       "      <td>N</td>\n",
       "      <td>None</td>\n",
       "      <td>0.0</td>\n",
       "      <td>0.0</td>\n",
       "      <td>NaN</td>\n",
       "      <td>None</td>\n",
       "      <td>{\"rings\": [[[431298.3334999997, 4521492.8399],...</td>\n",
       "    </tr>\n",
       "    <tr>\n",
       "      <th>4</th>\n",
       "      <td>5</td>\n",
       "      <td>010040001</td>\n",
       "      <td>1.0</td>\n",
       "      <td>YES</td>\n",
       "      <td>720000.0</td>\n",
       "      <td>720000.0</td>\n",
       "      <td>160.000</td>\n",
       "      <td>Vacant Land</td>\n",
       "      <td>N</td>\n",
       "      <td>None</td>\n",
       "      <td>0.0</td>\n",
       "      <td>0.0</td>\n",
       "      <td>NaN</td>\n",
       "      <td>None</td>\n",
       "      <td>{\"rings\": [[[429278.03220000025, 4523132.31059...</td>\n",
       "    </tr>\n",
       "    <tr>\n",
       "      <th>...</th>\n",
       "      <td>...</td>\n",
       "      <td>...</td>\n",
       "      <td>...</td>\n",
       "      <td>...</td>\n",
       "      <td>...</td>\n",
       "      <td>...</td>\n",
       "      <td>...</td>\n",
       "      <td>...</td>\n",
       "      <td>...</td>\n",
       "      <td>...</td>\n",
       "      <td>...</td>\n",
       "      <td>...</td>\n",
       "      <td>...</td>\n",
       "      <td>...</td>\n",
       "      <td>...</td>\n",
       "    </tr>\n",
       "    <tr>\n",
       "      <th>114043</th>\n",
       "      <td>114044</td>\n",
       "      <td>550030001</td>\n",
       "      <td>1.0</td>\n",
       "      <td>NO</td>\n",
       "      <td>214922.0</td>\n",
       "      <td>58600.0</td>\n",
       "      <td>0.223</td>\n",
       "      <td>Commercial</td>\n",
       "      <td>N</td>\n",
       "      <td>None</td>\n",
       "      <td>1384.0</td>\n",
       "      <td>0.0</td>\n",
       "      <td>1950.0</td>\n",
       "      <td>None</td>\n",
       "      <td>{\"rings\": [[[414211.6102, 4553028.373], [41422...</td>\n",
       "    </tr>\n",
       "    <tr>\n",
       "      <th>114044</th>\n",
       "      <td>114045</td>\n",
       "      <td>550030002</td>\n",
       "      <td>1.0</td>\n",
       "      <td>NO</td>\n",
       "      <td>2797906.0</td>\n",
       "      <td>305521.0</td>\n",
       "      <td>1.460</td>\n",
       "      <td>Commercial</td>\n",
       "      <td>N</td>\n",
       "      <td>1</td>\n",
       "      <td>9886.0</td>\n",
       "      <td>1.0</td>\n",
       "      <td>2014.0</td>\n",
       "      <td>None</td>\n",
       "      <td>{\"rings\": [[[414302.11479999963, 4552902.90530...</td>\n",
       "    </tr>\n",
       "    <tr>\n",
       "      <th>114045</th>\n",
       "      <td>114046</td>\n",
       "      <td>550040001</td>\n",
       "      <td>1.0</td>\n",
       "      <td>NO</td>\n",
       "      <td>2848745.0</td>\n",
       "      <td>271413.0</td>\n",
       "      <td>1.276</td>\n",
       "      <td>Commercial</td>\n",
       "      <td>N</td>\n",
       "      <td>1</td>\n",
       "      <td>20968.0</td>\n",
       "      <td>1.0</td>\n",
       "      <td>2017.0</td>\n",
       "      <td>None</td>\n",
       "      <td>{\"rings\": [[[414561.9134999998, 4552696.2083],...</td>\n",
       "    </tr>\n",
       "    <tr>\n",
       "      <th>114046</th>\n",
       "      <td>114047</td>\n",
       "      <td>550050005</td>\n",
       "      <td>1.0</td>\n",
       "      <td>NO</td>\n",
       "      <td>20723538.0</td>\n",
       "      <td>981752.0</td>\n",
       "      <td>5.511</td>\n",
       "      <td>Commercial</td>\n",
       "      <td>N</td>\n",
       "      <td>None</td>\n",
       "      <td>76778.0</td>\n",
       "      <td>0.0</td>\n",
       "      <td>2017.0</td>\n",
       "      <td>None</td>\n",
       "      <td>{\"rings\": [[[414893.5239000004, 4552990.350099...</td>\n",
       "    </tr>\n",
       "    <tr>\n",
       "      <th>114047</th>\n",
       "      <td>114048</td>\n",
       "      <td>550060001</td>\n",
       "      <td>1.0</td>\n",
       "      <td>NO</td>\n",
       "      <td>NaN</td>\n",
       "      <td>NaN</td>\n",
       "      <td>1.345</td>\n",
       "      <td>Commercial</td>\n",
       "      <td>N</td>\n",
       "      <td>None</td>\n",
       "      <td>0.0</td>\n",
       "      <td>0.0</td>\n",
       "      <td>2020.0</td>\n",
       "      <td>None</td>\n",
       "      <td>{\"rings\": [[[414325.5843000002, 4552909.3949],...</td>\n",
       "    </tr>\n",
       "  </tbody>\n",
       "</table>\n",
       "<p>114048 rows × 15 columns</p>\n",
       "</div>"
      ],
      "text/plain": [
       "        OBJECTID  PARCEL_ID  COUNT_PARCEL_ID FIRST_TAXEXEMPT_TYPE  \\\n",
       "0              1       None              NaN                 None   \n",
       "1              2  010010001              1.0                  YES   \n",
       "2              3  010020001              1.0                  YES   \n",
       "3              4  010030001              1.0                  YES   \n",
       "4              5  010040001              1.0                  YES   \n",
       "...          ...        ...              ...                  ...   \n",
       "114043    114044  550030001              1.0                   NO   \n",
       "114044    114045  550030002              1.0                   NO   \n",
       "114045    114046  550040001              1.0                   NO   \n",
       "114046    114047  550050005              1.0                   NO   \n",
       "114047    114048  550060001              1.0                   NO   \n",
       "\n",
       "        SUM_TOTAL_MKT_VALUE  SUM_LAND_MKT_VALUE  SUM_PARCEL_ACRES  \\\n",
       "0                       NaN                 NaN               NaN   \n",
       "1                 2631555.0           2631555.0           584.790   \n",
       "2                 2862855.0           2862855.0           636.190   \n",
       "3                 2820735.0           2820735.0           626.830   \n",
       "4                  720000.0            720000.0           160.000   \n",
       "...                     ...                 ...               ...   \n",
       "114043             214922.0             58600.0             0.223   \n",
       "114044            2797906.0            305521.0             1.460   \n",
       "114045            2848745.0            271413.0             1.276   \n",
       "114046           20723538.0            981752.0             5.511   \n",
       "114047                  NaN                 NaN             1.345   \n",
       "\n",
       "       FIRST_PROP_CLASS FIRST_PRIMARY_RES MAX_HOUSE_CNT  SUM_BLDG_SQFT  \\\n",
       "0                                    None          None            0.0   \n",
       "1           Vacant Land                 N          None            0.0   \n",
       "2           Vacant Land                 N          None            0.0   \n",
       "3           Vacant Land                 N          None            0.0   \n",
       "4           Vacant Land                 N          None            0.0   \n",
       "...                 ...               ...           ...            ...   \n",
       "114043       Commercial                 N          None         1384.0   \n",
       "114044       Commercial                 N             1         9886.0   \n",
       "114045       Commercial                 N             1        20968.0   \n",
       "114046       Commercial                 N          None        76778.0   \n",
       "114047       Commercial                 N          None            0.0   \n",
       "\n",
       "        MAX_FLOORS_CNT  FIRST_BUILT_YR FIRST_EFFBUILT_YR  \\\n",
       "0                  0.0             NaN              None   \n",
       "1                  0.0             NaN              None   \n",
       "2                  0.0             NaN              None   \n",
       "3                  0.0             NaN              None   \n",
       "4                  0.0             NaN              None   \n",
       "...                ...             ...               ...   \n",
       "114043             0.0          1950.0              None   \n",
       "114044             1.0          2014.0              None   \n",
       "114045             1.0          2017.0              None   \n",
       "114046             0.0          2017.0              None   \n",
       "114047             0.0          2020.0              None   \n",
       "\n",
       "                                                    SHAPE  \n",
       "0       {\"rings\": [[[423624.40919999965, 4519453.22540...  \n",
       "1       {\"rings\": [[[432837.2489, 4523084.3905], [4344...  \n",
       "2       {\"rings\": [[[431259.5963000003, 4523102.8245],...  \n",
       "3       {\"rings\": [[[431298.3334999997, 4521492.8399],...  \n",
       "4       {\"rings\": [[[429278.03220000025, 4523132.31059...  \n",
       "...                                                   ...  \n",
       "114043  {\"rings\": [[[414211.6102, 4553028.373], [41422...  \n",
       "114044  {\"rings\": [[[414302.11479999963, 4552902.90530...  \n",
       "114045  {\"rings\": [[[414561.9134999998, 4552696.2083],...  \n",
       "114046  {\"rings\": [[[414893.5239000004, 4552990.350099...  \n",
       "114047  {\"rings\": [[[414325.5843000002, 4552909.3949],...  \n",
       "\n",
       "[114048 rows x 15 columns]"
      ]
     },
     "execution_count": 40,
     "metadata": {},
     "output_type": "execute_result"
    }
   ],
   "source": [
    "parcels_df"
   ]
  },
  {
   "cell_type": "code",
   "execution_count": 39,
   "id": "dd4149ee",
   "metadata": {
    "hidden": true
   },
   "outputs": [
    {
     "data": {
      "text/html": [
       "<div>\n",
       "<style scoped>\n",
       "    .dataframe tbody tr th:only-of-type {\n",
       "        vertical-align: middle;\n",
       "    }\n",
       "\n",
       "    .dataframe tbody tr th {\n",
       "        vertical-align: top;\n",
       "    }\n",
       "\n",
       "    .dataframe thead th {\n",
       "        text-align: right;\n",
       "    }\n",
       "</style>\n",
       "<table border=\"1\" class=\"dataframe\">\n",
       "  <thead>\n",
       "    <tr style=\"text-align: right;\">\n",
       "      <th></th>\n",
       "      <th>OBJECTID</th>\n",
       "      <th>PARCEL_ID</th>\n",
       "      <th>COUNT_PARCEL_ID</th>\n",
       "      <th>FIRST_TAXEXEMPT_TYPE</th>\n",
       "      <th>SUM_TOTAL_MKT_VALUE</th>\n",
       "      <th>SUM_LAND_MKT_VALUE</th>\n",
       "      <th>SUM_PARCEL_ACRES</th>\n",
       "      <th>FIRST_PROP_CLASS</th>\n",
       "      <th>FIRST_PRIMARY_RES</th>\n",
       "      <th>MAX_HOUSE_CNT</th>\n",
       "      <th>SUM_BLDG_SQFT</th>\n",
       "      <th>MAX_FLOORS_CNT</th>\n",
       "      <th>FIRST_BUILT_YR</th>\n",
       "      <th>FIRST_EFFBUILT_YR</th>\n",
       "      <th>SHAPE</th>\n",
       "    </tr>\n",
       "  </thead>\n",
       "  <tbody>\n",
       "  </tbody>\n",
       "</table>\n",
       "</div>"
      ],
      "text/plain": [
       "Empty DataFrame\n",
       "Columns: [OBJECTID, PARCEL_ID, COUNT_PARCEL_ID, FIRST_TAXEXEMPT_TYPE, SUM_TOTAL_MKT_VALUE, SUM_LAND_MKT_VALUE, SUM_PARCEL_ACRES, FIRST_PROP_CLASS, FIRST_PRIMARY_RES, MAX_HOUSE_CNT, SUM_BLDG_SQFT, MAX_FLOORS_CNT, FIRST_BUILT_YR, FIRST_EFFBUILT_YR, SHAPE]\n",
       "Index: []"
      ]
     },
     "execution_count": 39,
     "metadata": {},
     "output_type": "execute_result"
    }
   ],
   "source": [
    "parcels_df[parcels_df['PARCEL_ID'] == '']"
   ]
  },
  {
   "cell_type": "code",
   "execution_count": 21,
   "id": "ee4afa78",
   "metadata": {
    "hidden": true
   },
   "outputs": [
    {
     "data": {
      "text/html": [
       "<div>\n",
       "<style scoped>\n",
       "    .dataframe tbody tr th:only-of-type {\n",
       "        vertical-align: middle;\n",
       "    }\n",
       "\n",
       "    .dataframe tbody tr th {\n",
       "        vertical-align: top;\n",
       "    }\n",
       "\n",
       "    .dataframe thead th {\n",
       "        text-align: right;\n",
       "    }\n",
       "</style>\n",
       "<table border=\"1\" class=\"dataframe\">\n",
       "  <thead>\n",
       "    <tr style=\"text-align: right;\">\n",
       "      <th></th>\n",
       "      <th>PARCEL_ID</th>\n",
       "      <th>CENTROIDS</th>\n",
       "    </tr>\n",
       "  </thead>\n",
       "  <tbody>\n",
       "  </tbody>\n",
       "</table>\n",
       "</div>"
      ],
      "text/plain": [
       "Empty DataFrame\n",
       "Columns: [PARCEL_ID, CENTROIDS]\n",
       "Index: []"
      ]
     },
     "execution_count": 21,
     "metadata": {},
     "output_type": "execute_result"
    }
   ],
   "source": [
    "centroids_df[centroids_df['PARCEL_ID'] == '']"
   ]
  },
  {
   "cell_type": "code",
   "execution_count": 23,
   "id": "1118f91c",
   "metadata": {
    "collapsed": true,
    "hidden": true
   },
   "outputs": [
    {
     "ename": "ValueError",
     "evalue": "You are trying to merge on object and int64 columns. If you wish to proceed you should use pd.concat",
     "output_type": "error",
     "traceback": [
      "\u001b[1;31m---------------------------------------------------------------------------\u001b[0m",
      "\u001b[1;31mValueError\u001b[0m                                Traceback (most recent call last)",
      "\u001b[1;32m<ipython-input-23-083e4a9c9c7f>\u001b[0m in \u001b[0;36m<module>\u001b[1;34m\u001b[0m\n\u001b[1;32m----> 1\u001b[1;33m \u001b[0mjoined_df\u001b[0m \u001b[1;33m=\u001b[0m \u001b[0mparcels_df\u001b[0m\u001b[1;33m.\u001b[0m\u001b[0mjoin\u001b[0m\u001b[1;33m(\u001b[0m\u001b[0mcentroids_df\u001b[0m\u001b[1;33m,\u001b[0m \u001b[0mon\u001b[0m\u001b[1;33m=\u001b[0m\u001b[1;34m'PARCEL_ID'\u001b[0m\u001b[1;33m,\u001b[0m \u001b[0mhow\u001b[0m\u001b[1;33m=\u001b[0m\u001b[1;34m'left'\u001b[0m\u001b[1;33m)\u001b[0m\u001b[1;33m\u001b[0m\u001b[1;33m\u001b[0m\u001b[0m\n\u001b[0m",
      "\u001b[1;32m~\\Miniconda3\\envs\\housing\\lib\\site-packages\\pandas\\core\\frame.py\u001b[0m in \u001b[0;36mjoin\u001b[1;34m(self, other, on, how, lsuffix, rsuffix, sort)\u001b[0m\n\u001b[0;32m   9098\u001b[0m         \"\"\"\n\u001b[0;32m   9099\u001b[0m         return self._join_compat(\n\u001b[1;32m-> 9100\u001b[1;33m             \u001b[0mother\u001b[0m\u001b[1;33m,\u001b[0m \u001b[0mon\u001b[0m\u001b[1;33m=\u001b[0m\u001b[0mon\u001b[0m\u001b[1;33m,\u001b[0m \u001b[0mhow\u001b[0m\u001b[1;33m=\u001b[0m\u001b[0mhow\u001b[0m\u001b[1;33m,\u001b[0m \u001b[0mlsuffix\u001b[0m\u001b[1;33m=\u001b[0m\u001b[0mlsuffix\u001b[0m\u001b[1;33m,\u001b[0m \u001b[0mrsuffix\u001b[0m\u001b[1;33m=\u001b[0m\u001b[0mrsuffix\u001b[0m\u001b[1;33m,\u001b[0m \u001b[0msort\u001b[0m\u001b[1;33m=\u001b[0m\u001b[0msort\u001b[0m\u001b[1;33m\u001b[0m\u001b[1;33m\u001b[0m\u001b[0m\n\u001b[0m\u001b[0;32m   9101\u001b[0m         )\n\u001b[0;32m   9102\u001b[0m \u001b[1;33m\u001b[0m\u001b[0m\n",
      "\u001b[1;32m~\\Miniconda3\\envs\\housing\\lib\\site-packages\\pandas\\core\\frame.py\u001b[0m in \u001b[0;36m_join_compat\u001b[1;34m(self, other, on, how, lsuffix, rsuffix, sort)\u001b[0m\n\u001b[0;32m   9136\u001b[0m                 \u001b[0mright_index\u001b[0m\u001b[1;33m=\u001b[0m\u001b[1;32mTrue\u001b[0m\u001b[1;33m,\u001b[0m\u001b[1;33m\u001b[0m\u001b[1;33m\u001b[0m\u001b[0m\n\u001b[0;32m   9137\u001b[0m                 \u001b[0msuffixes\u001b[0m\u001b[1;33m=\u001b[0m\u001b[1;33m(\u001b[0m\u001b[0mlsuffix\u001b[0m\u001b[1;33m,\u001b[0m \u001b[0mrsuffix\u001b[0m\u001b[1;33m)\u001b[0m\u001b[1;33m,\u001b[0m\u001b[1;33m\u001b[0m\u001b[1;33m\u001b[0m\u001b[0m\n\u001b[1;32m-> 9138\u001b[1;33m                 \u001b[0msort\u001b[0m\u001b[1;33m=\u001b[0m\u001b[0msort\u001b[0m\u001b[1;33m,\u001b[0m\u001b[1;33m\u001b[0m\u001b[1;33m\u001b[0m\u001b[0m\n\u001b[0m\u001b[0;32m   9139\u001b[0m             )\n\u001b[0;32m   9140\u001b[0m         \u001b[1;32melse\u001b[0m\u001b[1;33m:\u001b[0m\u001b[1;33m\u001b[0m\u001b[1;33m\u001b[0m\u001b[0m\n",
      "\u001b[1;32m~\\Miniconda3\\envs\\housing\\lib\\site-packages\\pandas\\core\\reshape\\merge.py\u001b[0m in \u001b[0;36mmerge\u001b[1;34m(left, right, how, on, left_on, right_on, left_index, right_index, sort, suffixes, copy, indicator, validate)\u001b[0m\n\u001b[0;32m    117\u001b[0m         \u001b[0mcopy\u001b[0m\u001b[1;33m=\u001b[0m\u001b[0mcopy\u001b[0m\u001b[1;33m,\u001b[0m\u001b[1;33m\u001b[0m\u001b[1;33m\u001b[0m\u001b[0m\n\u001b[0;32m    118\u001b[0m         \u001b[0mindicator\u001b[0m\u001b[1;33m=\u001b[0m\u001b[0mindicator\u001b[0m\u001b[1;33m,\u001b[0m\u001b[1;33m\u001b[0m\u001b[1;33m\u001b[0m\u001b[0m\n\u001b[1;32m--> 119\u001b[1;33m         \u001b[0mvalidate\u001b[0m\u001b[1;33m=\u001b[0m\u001b[0mvalidate\u001b[0m\u001b[1;33m,\u001b[0m\u001b[1;33m\u001b[0m\u001b[1;33m\u001b[0m\u001b[0m\n\u001b[0m\u001b[0;32m    120\u001b[0m     )\n\u001b[0;32m    121\u001b[0m     \u001b[1;32mreturn\u001b[0m \u001b[0mop\u001b[0m\u001b[1;33m.\u001b[0m\u001b[0mget_result\u001b[0m\u001b[1;33m(\u001b[0m\u001b[1;33m)\u001b[0m\u001b[1;33m\u001b[0m\u001b[1;33m\u001b[0m\u001b[0m\n",
      "\u001b[1;32m~\\Miniconda3\\envs\\housing\\lib\\site-packages\\pandas\\core\\reshape\\merge.py\u001b[0m in \u001b[0;36m__init__\u001b[1;34m(self, left, right, how, on, left_on, right_on, axis, left_index, right_index, sort, suffixes, copy, indicator, validate)\u001b[0m\n\u001b[0;32m    701\u001b[0m         \u001b[1;31m# validate the merge keys dtypes. We may need to coerce\u001b[0m\u001b[1;33m\u001b[0m\u001b[1;33m\u001b[0m\u001b[1;33m\u001b[0m\u001b[0m\n\u001b[0;32m    702\u001b[0m         \u001b[1;31m# to avoid incompatible dtypes\u001b[0m\u001b[1;33m\u001b[0m\u001b[1;33m\u001b[0m\u001b[1;33m\u001b[0m\u001b[0m\n\u001b[1;32m--> 703\u001b[1;33m         \u001b[0mself\u001b[0m\u001b[1;33m.\u001b[0m\u001b[0m_maybe_coerce_merge_keys\u001b[0m\u001b[1;33m(\u001b[0m\u001b[1;33m)\u001b[0m\u001b[1;33m\u001b[0m\u001b[1;33m\u001b[0m\u001b[0m\n\u001b[0m\u001b[0;32m    704\u001b[0m \u001b[1;33m\u001b[0m\u001b[0m\n\u001b[0;32m    705\u001b[0m         \u001b[1;31m# If argument passed to validate,\u001b[0m\u001b[1;33m\u001b[0m\u001b[1;33m\u001b[0m\u001b[1;33m\u001b[0m\u001b[0m\n",
      "\u001b[1;32m~\\Miniconda3\\envs\\housing\\lib\\site-packages\\pandas\\core\\reshape\\merge.py\u001b[0m in \u001b[0;36m_maybe_coerce_merge_keys\u001b[1;34m(self)\u001b[0m\n\u001b[0;32m   1254\u001b[0m                     \u001b[0minferred_right\u001b[0m \u001b[1;32min\u001b[0m \u001b[0mstring_types\u001b[0m \u001b[1;32mand\u001b[0m \u001b[0minferred_left\u001b[0m \u001b[1;32mnot\u001b[0m \u001b[1;32min\u001b[0m \u001b[0mstring_types\u001b[0m\u001b[1;33m\u001b[0m\u001b[1;33m\u001b[0m\u001b[0m\n\u001b[0;32m   1255\u001b[0m                 ):\n\u001b[1;32m-> 1256\u001b[1;33m                     \u001b[1;32mraise\u001b[0m \u001b[0mValueError\u001b[0m\u001b[1;33m(\u001b[0m\u001b[0mmsg\u001b[0m\u001b[1;33m)\u001b[0m\u001b[1;33m\u001b[0m\u001b[1;33m\u001b[0m\u001b[0m\n\u001b[0m\u001b[0;32m   1257\u001b[0m \u001b[1;33m\u001b[0m\u001b[0m\n\u001b[0;32m   1258\u001b[0m             \u001b[1;31m# datetimelikes must match exactly\u001b[0m\u001b[1;33m\u001b[0m\u001b[1;33m\u001b[0m\u001b[1;33m\u001b[0m\u001b[0m\n",
      "\u001b[1;31mValueError\u001b[0m: You are trying to merge on object and int64 columns. If you wish to proceed you should use pd.concat"
     ]
    }
   ],
   "source": [
    "joined_df = parcels_df.join(centroids_df, on='PARCEL_ID', how='left')"
   ]
  },
  {
   "cell_type": "code",
   "execution_count": 25,
   "id": "e360a79a",
   "metadata": {
    "hidden": true
   },
   "outputs": [
    {
     "data": {
      "text/plain": [
       "1         010010001\n",
       "2         010020001\n",
       "3         010030001\n",
       "4         010040001\n",
       "5         010040002\n",
       "            ...    \n",
       "114043    550030001\n",
       "114044    550030002\n",
       "114045    550040001\n",
       "114046    550050005\n",
       "114047    550060001\n",
       "Name: PARCEL_ID, Length: 114047, dtype: object"
      ]
     },
     "execution_count": 25,
     "metadata": {},
     "output_type": "execute_result"
    }
   ],
   "source": [
    "parcels_df['PARCEL_ID']"
   ]
  },
  {
   "cell_type": "code",
   "execution_count": 26,
   "id": "04545f3e",
   "metadata": {
    "hidden": true
   },
   "outputs": [
    {
     "data": {
      "text/plain": [
       "0         010010001\n",
       "1         010020001\n",
       "2         010030001\n",
       "3         010040001\n",
       "4         010040002\n",
       "            ...    \n",
       "114042    550030001\n",
       "114043    550030002\n",
       "114044    550040001\n",
       "114045    550050005\n",
       "114046    550060001\n",
       "Name: PARCEL_ID, Length: 114047, dtype: object"
      ]
     },
     "execution_count": 26,
     "metadata": {},
     "output_type": "execute_result"
    }
   ],
   "source": [
    "centroids_df['PARCEL_ID']"
   ]
  },
  {
   "cell_type": "code",
   "execution_count": 27,
   "id": "b2a777ce",
   "metadata": {
    "hidden": true
   },
   "outputs": [],
   "source": [
    "joined_df = parcels_df.merge(centroids_df, on='PARCEL_ID', how='left')"
   ]
  },
  {
   "cell_type": "code",
   "execution_count": 36,
   "id": "e315f0ca",
   "metadata": {
    "hidden": true
   },
   "outputs": [
    {
     "data": {
      "text/plain": [
       "OBJECTID                                                       10002\n",
       "PARCEL_ID                                                  020720028\n",
       "COUNT_PARCEL_ID                                                  1.0\n",
       "TAXEXEMPT_TYPE                                                   NaN\n",
       "TOTAL_MKT_VALUE                                                  NaN\n",
       "LAND_MKT_VALUE                                                   NaN\n",
       "PARCEL_ACRES                                                     NaN\n",
       "PROP_CLASS                                                       NaN\n",
       "PRIMARY_RES                                                      NaN\n",
       "HOUSE_CNT                                                        NaN\n",
       "BLDG_SQFT                                                        NaN\n",
       "FLOORS_CNT                                                       NaN\n",
       "BUILT_YR                                                         NaN\n",
       "EFFBUILT_YR                                                      NaN\n",
       "SHAPE              {'rings': [[[427070.25069999974, 4529188.6898]...\n",
       "Name: 10001, dtype: object"
      ]
     },
     "execution_count": 36,
     "metadata": {},
     "output_type": "execute_result"
    }
   ],
   "source": [
    "parcels_df.iloc[10000, :]"
   ]
  },
  {
   "cell_type": "code",
   "execution_count": 41,
   "id": "6ef54486",
   "metadata": {
    "collapsed": true,
    "hidden": true
   },
   "outputs": [
    {
     "data": {
      "text/html": [
       "<div>\n",
       "<style scoped>\n",
       "    .dataframe tbody tr th:only-of-type {\n",
       "        vertical-align: middle;\n",
       "    }\n",
       "\n",
       "    .dataframe tbody tr th {\n",
       "        vertical-align: top;\n",
       "    }\n",
       "\n",
       "    .dataframe thead th {\n",
       "        text-align: right;\n",
       "    }\n",
       "</style>\n",
       "<table border=\"1\" class=\"dataframe\">\n",
       "  <thead>\n",
       "    <tr style=\"text-align: right;\">\n",
       "      <th></th>\n",
       "      <th>OBJECTID</th>\n",
       "      <th>PARCEL_ID</th>\n",
       "      <th>COUNT_PARCEL_ID</th>\n",
       "      <th>TAXEXEMPT_TYPE</th>\n",
       "      <th>TOTAL_MKT_VALUE</th>\n",
       "      <th>LAND_MKT_VALUE</th>\n",
       "      <th>PARCEL_ACRES</th>\n",
       "      <th>PROP_CLASS</th>\n",
       "      <th>PRIMARY_RES</th>\n",
       "      <th>HOUSE_CNT</th>\n",
       "      <th>BLDG_SQFT</th>\n",
       "      <th>FLOORS_CNT</th>\n",
       "      <th>BUILT_YR</th>\n",
       "      <th>EFFBUILT_YR</th>\n",
       "      <th>SHAPE</th>\n",
       "    </tr>\n",
       "  </thead>\n",
       "  <tbody>\n",
       "    <tr>\n",
       "      <th>0</th>\n",
       "      <td>1</td>\n",
       "      <td>None</td>\n",
       "      <td>NaN</td>\n",
       "      <td>NaN</td>\n",
       "      <td>NaN</td>\n",
       "      <td>NaN</td>\n",
       "      <td>NaN</td>\n",
       "      <td>NaN</td>\n",
       "      <td>NaN</td>\n",
       "      <td>NaN</td>\n",
       "      <td>NaN</td>\n",
       "      <td>NaN</td>\n",
       "      <td>NaN</td>\n",
       "      <td>NaN</td>\n",
       "      <td>{\"rings\": [[[423624.40919999965, 4519453.22540...</td>\n",
       "    </tr>\n",
       "    <tr>\n",
       "      <th>1</th>\n",
       "      <td>2</td>\n",
       "      <td>010010001</td>\n",
       "      <td>1.0</td>\n",
       "      <td>NaN</td>\n",
       "      <td>NaN</td>\n",
       "      <td>NaN</td>\n",
       "      <td>NaN</td>\n",
       "      <td>NaN</td>\n",
       "      <td>NaN</td>\n",
       "      <td>NaN</td>\n",
       "      <td>NaN</td>\n",
       "      <td>NaN</td>\n",
       "      <td>NaN</td>\n",
       "      <td>NaN</td>\n",
       "      <td>{\"rings\": [[[432837.2489, 4523084.3905], [4344...</td>\n",
       "    </tr>\n",
       "    <tr>\n",
       "      <th>2</th>\n",
       "      <td>3</td>\n",
       "      <td>010020001</td>\n",
       "      <td>1.0</td>\n",
       "      <td>NaN</td>\n",
       "      <td>NaN</td>\n",
       "      <td>NaN</td>\n",
       "      <td>NaN</td>\n",
       "      <td>NaN</td>\n",
       "      <td>NaN</td>\n",
       "      <td>NaN</td>\n",
       "      <td>NaN</td>\n",
       "      <td>NaN</td>\n",
       "      <td>NaN</td>\n",
       "      <td>NaN</td>\n",
       "      <td>{\"rings\": [[[431259.5963000003, 4523102.8245],...</td>\n",
       "    </tr>\n",
       "    <tr>\n",
       "      <th>3</th>\n",
       "      <td>4</td>\n",
       "      <td>010030001</td>\n",
       "      <td>1.0</td>\n",
       "      <td>NaN</td>\n",
       "      <td>NaN</td>\n",
       "      <td>NaN</td>\n",
       "      <td>NaN</td>\n",
       "      <td>NaN</td>\n",
       "      <td>NaN</td>\n",
       "      <td>NaN</td>\n",
       "      <td>NaN</td>\n",
       "      <td>NaN</td>\n",
       "      <td>NaN</td>\n",
       "      <td>NaN</td>\n",
       "      <td>{\"rings\": [[[431298.3334999997, 4521492.8399],...</td>\n",
       "    </tr>\n",
       "    <tr>\n",
       "      <th>4</th>\n",
       "      <td>5</td>\n",
       "      <td>010040001</td>\n",
       "      <td>1.0</td>\n",
       "      <td>NaN</td>\n",
       "      <td>NaN</td>\n",
       "      <td>NaN</td>\n",
       "      <td>NaN</td>\n",
       "      <td>NaN</td>\n",
       "      <td>NaN</td>\n",
       "      <td>NaN</td>\n",
       "      <td>NaN</td>\n",
       "      <td>NaN</td>\n",
       "      <td>NaN</td>\n",
       "      <td>NaN</td>\n",
       "      <td>{\"rings\": [[[429278.03220000025, 4523132.31059...</td>\n",
       "    </tr>\n",
       "    <tr>\n",
       "      <th>...</th>\n",
       "      <td>...</td>\n",
       "      <td>...</td>\n",
       "      <td>...</td>\n",
       "      <td>...</td>\n",
       "      <td>...</td>\n",
       "      <td>...</td>\n",
       "      <td>...</td>\n",
       "      <td>...</td>\n",
       "      <td>...</td>\n",
       "      <td>...</td>\n",
       "      <td>...</td>\n",
       "      <td>...</td>\n",
       "      <td>...</td>\n",
       "      <td>...</td>\n",
       "      <td>...</td>\n",
       "    </tr>\n",
       "    <tr>\n",
       "      <th>114043</th>\n",
       "      <td>114044</td>\n",
       "      <td>550030001</td>\n",
       "      <td>1.0</td>\n",
       "      <td>NaN</td>\n",
       "      <td>NaN</td>\n",
       "      <td>NaN</td>\n",
       "      <td>NaN</td>\n",
       "      <td>NaN</td>\n",
       "      <td>NaN</td>\n",
       "      <td>NaN</td>\n",
       "      <td>NaN</td>\n",
       "      <td>NaN</td>\n",
       "      <td>NaN</td>\n",
       "      <td>NaN</td>\n",
       "      <td>{\"rings\": [[[414211.6102, 4553028.373], [41422...</td>\n",
       "    </tr>\n",
       "    <tr>\n",
       "      <th>114044</th>\n",
       "      <td>114045</td>\n",
       "      <td>550030002</td>\n",
       "      <td>1.0</td>\n",
       "      <td>NaN</td>\n",
       "      <td>NaN</td>\n",
       "      <td>NaN</td>\n",
       "      <td>NaN</td>\n",
       "      <td>NaN</td>\n",
       "      <td>NaN</td>\n",
       "      <td>NaN</td>\n",
       "      <td>NaN</td>\n",
       "      <td>NaN</td>\n",
       "      <td>NaN</td>\n",
       "      <td>NaN</td>\n",
       "      <td>{\"rings\": [[[414302.11479999963, 4552902.90530...</td>\n",
       "    </tr>\n",
       "    <tr>\n",
       "      <th>114045</th>\n",
       "      <td>114046</td>\n",
       "      <td>550040001</td>\n",
       "      <td>1.0</td>\n",
       "      <td>NaN</td>\n",
       "      <td>NaN</td>\n",
       "      <td>NaN</td>\n",
       "      <td>NaN</td>\n",
       "      <td>NaN</td>\n",
       "      <td>NaN</td>\n",
       "      <td>NaN</td>\n",
       "      <td>NaN</td>\n",
       "      <td>NaN</td>\n",
       "      <td>NaN</td>\n",
       "      <td>NaN</td>\n",
       "      <td>{\"rings\": [[[414561.9134999998, 4552696.2083],...</td>\n",
       "    </tr>\n",
       "    <tr>\n",
       "      <th>114046</th>\n",
       "      <td>114047</td>\n",
       "      <td>550050005</td>\n",
       "      <td>1.0</td>\n",
       "      <td>NaN</td>\n",
       "      <td>NaN</td>\n",
       "      <td>NaN</td>\n",
       "      <td>NaN</td>\n",
       "      <td>NaN</td>\n",
       "      <td>NaN</td>\n",
       "      <td>NaN</td>\n",
       "      <td>NaN</td>\n",
       "      <td>NaN</td>\n",
       "      <td>NaN</td>\n",
       "      <td>NaN</td>\n",
       "      <td>{\"rings\": [[[414893.5239000004, 4552990.350099...</td>\n",
       "    </tr>\n",
       "    <tr>\n",
       "      <th>114047</th>\n",
       "      <td>114048</td>\n",
       "      <td>550060001</td>\n",
       "      <td>1.0</td>\n",
       "      <td>NaN</td>\n",
       "      <td>NaN</td>\n",
       "      <td>NaN</td>\n",
       "      <td>NaN</td>\n",
       "      <td>NaN</td>\n",
       "      <td>NaN</td>\n",
       "      <td>NaN</td>\n",
       "      <td>NaN</td>\n",
       "      <td>NaN</td>\n",
       "      <td>NaN</td>\n",
       "      <td>NaN</td>\n",
       "      <td>{\"rings\": [[[414325.5843000002, 4552909.3949],...</td>\n",
       "    </tr>\n",
       "  </tbody>\n",
       "</table>\n",
       "<p>114048 rows × 15 columns</p>\n",
       "</div>"
      ],
      "text/plain": [
       "        OBJECTID  PARCEL_ID  COUNT_PARCEL_ID  TAXEXEMPT_TYPE  TOTAL_MKT_VALUE  \\\n",
       "0              1       None              NaN             NaN              NaN   \n",
       "1              2  010010001              1.0             NaN              NaN   \n",
       "2              3  010020001              1.0             NaN              NaN   \n",
       "3              4  010030001              1.0             NaN              NaN   \n",
       "4              5  010040001              1.0             NaN              NaN   \n",
       "...          ...        ...              ...             ...              ...   \n",
       "114043    114044  550030001              1.0             NaN              NaN   \n",
       "114044    114045  550030002              1.0             NaN              NaN   \n",
       "114045    114046  550040001              1.0             NaN              NaN   \n",
       "114046    114047  550050005              1.0             NaN              NaN   \n",
       "114047    114048  550060001              1.0             NaN              NaN   \n",
       "\n",
       "        LAND_MKT_VALUE  PARCEL_ACRES  PROP_CLASS  PRIMARY_RES  HOUSE_CNT  \\\n",
       "0                  NaN           NaN         NaN          NaN        NaN   \n",
       "1                  NaN           NaN         NaN          NaN        NaN   \n",
       "2                  NaN           NaN         NaN          NaN        NaN   \n",
       "3                  NaN           NaN         NaN          NaN        NaN   \n",
       "4                  NaN           NaN         NaN          NaN        NaN   \n",
       "...                ...           ...         ...          ...        ...   \n",
       "114043             NaN           NaN         NaN          NaN        NaN   \n",
       "114044             NaN           NaN         NaN          NaN        NaN   \n",
       "114045             NaN           NaN         NaN          NaN        NaN   \n",
       "114046             NaN           NaN         NaN          NaN        NaN   \n",
       "114047             NaN           NaN         NaN          NaN        NaN   \n",
       "\n",
       "        BLDG_SQFT  FLOORS_CNT  BUILT_YR  EFFBUILT_YR  \\\n",
       "0             NaN         NaN       NaN          NaN   \n",
       "1             NaN         NaN       NaN          NaN   \n",
       "2             NaN         NaN       NaN          NaN   \n",
       "3             NaN         NaN       NaN          NaN   \n",
       "4             NaN         NaN       NaN          NaN   \n",
       "...           ...         ...       ...          ...   \n",
       "114043        NaN         NaN       NaN          NaN   \n",
       "114044        NaN         NaN       NaN          NaN   \n",
       "114045        NaN         NaN       NaN          NaN   \n",
       "114046        NaN         NaN       NaN          NaN   \n",
       "114047        NaN         NaN       NaN          NaN   \n",
       "\n",
       "                                                    SHAPE  \n",
       "0       {\"rings\": [[[423624.40919999965, 4519453.22540...  \n",
       "1       {\"rings\": [[[432837.2489, 4523084.3905], [4344...  \n",
       "2       {\"rings\": [[[431259.5963000003, 4523102.8245],...  \n",
       "3       {\"rings\": [[[431298.3334999997, 4521492.8399],...  \n",
       "4       {\"rings\": [[[429278.03220000025, 4523132.31059...  \n",
       "...                                                   ...  \n",
       "114043  {\"rings\": [[[414211.6102, 4553028.373], [41422...  \n",
       "114044  {\"rings\": [[[414302.11479999963, 4552902.90530...  \n",
       "114045  {\"rings\": [[[414561.9134999998, 4552696.2083],...  \n",
       "114046  {\"rings\": [[[414893.5239000004, 4552990.350099...  \n",
       "114047  {\"rings\": [[[414325.5843000002, 4552909.3949],...  \n",
       "\n",
       "[114048 rows x 15 columns]"
      ]
     },
     "execution_count": 41,
     "metadata": {},
     "output_type": "execute_result"
    }
   ],
   "source": [
    "columns_subset = [\n",
    "    'OBJECTID',\n",
    "    'PARCEL_ID',\n",
    "    'COUNT_PARCEL_ID',\n",
    "    'TAXEXEMPT_TYPE',\n",
    "    'TOTAL_MKT_VALUE',\n",
    "    'LAND_MKT_VALUE',\n",
    "    'PARCEL_ACRES',\n",
    "    'PROP_CLASS',\n",
    "    'PRIMARY_RES',\n",
    "    'HOUSE_CNT',\n",
    "    'BLDG_SQFT',\n",
    "    'FLOORS_CNT',\n",
    "    'BUILT_YR',\n",
    "    'EFFBUILT_YR',\n",
    "    'SHAPE',\n",
    "]\n",
    "parcels_df.reindex(columns=columns_subset)\n"
   ]
  },
  {
   "cell_type": "code",
   "execution_count": 42,
   "id": "73a0f83c",
   "metadata": {
    "collapsed": true,
    "hidden": true
   },
   "outputs": [
    {
     "name": "stdout",
     "output_type": "stream",
     "text": [
      "<class 'pandas.core.frame.DataFrame'>\n",
      "RangeIndex: 114048 entries, 0 to 114047\n",
      "Data columns (total 15 columns):\n",
      " #   Column                Non-Null Count   Dtype   \n",
      "---  ------                --------------   -----   \n",
      " 0   OBJECTID              114048 non-null  int64   \n",
      " 1   PARCEL_ID             114047 non-null  object  \n",
      " 2   COUNT_PARCEL_ID       114047 non-null  float64 \n",
      " 3   FIRST_TAXEXEMPT_TYPE  112942 non-null  object  \n",
      " 4   SUM_TOTAL_MKT_VALUE   114029 non-null  float64 \n",
      " 5   SUM_LAND_MKT_VALUE    114028 non-null  float64 \n",
      " 6   SUM_PARCEL_ACRES      113625 non-null  float64 \n",
      " 7   FIRST_PROP_CLASS      114048 non-null  object  \n",
      " 8   FIRST_PRIMARY_RES     114047 non-null  object  \n",
      " 9   MAX_HOUSE_CNT         96665 non-null   object  \n",
      " 10  SUM_BLDG_SQFT         114048 non-null  float64 \n",
      " 11  MAX_FLOORS_CNT        114048 non-null  float64 \n",
      " 12  FIRST_BUILT_YR        100305 non-null  float64 \n",
      " 13  FIRST_EFFBUILT_YR     0 non-null       object  \n",
      " 14  SHAPE                 114048 non-null  geometry\n",
      "dtypes: float64(7), geometry(1), int64(1), object(6)\n",
      "memory usage: 13.1+ MB\n"
     ]
    }
   ],
   "source": [
    "parcels_df.info()"
   ]
  },
  {
   "cell_type": "code",
   "execution_count": 44,
   "id": "96eb358c",
   "metadata": {
    "hidden": true
   },
   "outputs": [
    {
     "data": {
      "text/plain": [
       "Index(['OBJECTID', 'PARCEL_ID', 'COUNT_PARCEL_ID', 'FIRST_TAXEXEMPT_TYPE',\n",
       "       'SUM_TOTAL_MKT_VALUE', 'SUM_LAND_MKT_VALUE', 'SUM_PARCEL_ACRES',\n",
       "       'FIRST_PROP_CLASS', 'FIRST_PRIMARY_RES', 'MAX_HOUSE_CNT',\n",
       "       'SUM_BLDG_SQFT', 'MAX_FLOORS_CNT', 'FIRST_BUILT_YR',\n",
       "       'FIRST_EFFBUILT_YR', 'SHAPE'],\n",
       "      dtype='object')"
      ]
     },
     "execution_count": 44,
     "metadata": {},
     "output_type": "execute_result"
    }
   ],
   "source": [
    "parcels_df.columns"
   ]
  },
  {
   "cell_type": "code",
   "execution_count": 45,
   "id": "3a42810b",
   "metadata": {
    "hidden": true
   },
   "outputs": [
    {
     "data": {
      "text/html": [
       "<div>\n",
       "<style scoped>\n",
       "    .dataframe tbody tr th:only-of-type {\n",
       "        vertical-align: middle;\n",
       "    }\n",
       "\n",
       "    .dataframe tbody tr th {\n",
       "        vertical-align: top;\n",
       "    }\n",
       "\n",
       "    .dataframe thead th {\n",
       "        text-align: right;\n",
       "    }\n",
       "</style>\n",
       "<table border=\"1\" class=\"dataframe\">\n",
       "  <thead>\n",
       "    <tr style=\"text-align: right;\">\n",
       "      <th></th>\n",
       "      <th>OBJECTID</th>\n",
       "      <th>PARCEL_ID</th>\n",
       "      <th>COUNT_PARCEL_ID</th>\n",
       "      <th>TAXEXEMPT_TYPE</th>\n",
       "      <th>TOTAL_MKT_VALUE</th>\n",
       "      <th>LAND_MKT_VALUE</th>\n",
       "      <th>PARCEL_ACRES</th>\n",
       "      <th>PROP_CLASS</th>\n",
       "      <th>PRIMARY_RES</th>\n",
       "      <th>HOUSE_CNT</th>\n",
       "      <th>BLDG_SQFT</th>\n",
       "      <th>FLOORS_CNT</th>\n",
       "      <th>BUILT_YR</th>\n",
       "      <th>EFFBUILT_YR</th>\n",
       "      <th>SHAPE</th>\n",
       "    </tr>\n",
       "  </thead>\n",
       "  <tbody>\n",
       "    <tr>\n",
       "      <th>1</th>\n",
       "      <td>2</td>\n",
       "      <td>010010001</td>\n",
       "      <td>1.0</td>\n",
       "      <td>NaN</td>\n",
       "      <td>NaN</td>\n",
       "      <td>NaN</td>\n",
       "      <td>NaN</td>\n",
       "      <td>NaN</td>\n",
       "      <td>NaN</td>\n",
       "      <td>NaN</td>\n",
       "      <td>NaN</td>\n",
       "      <td>NaN</td>\n",
       "      <td>NaN</td>\n",
       "      <td>NaN</td>\n",
       "      <td>{\"rings\": [[[432837.2489, 4523084.3905], [4344...</td>\n",
       "    </tr>\n",
       "    <tr>\n",
       "      <th>2</th>\n",
       "      <td>3</td>\n",
       "      <td>010020001</td>\n",
       "      <td>1.0</td>\n",
       "      <td>NaN</td>\n",
       "      <td>NaN</td>\n",
       "      <td>NaN</td>\n",
       "      <td>NaN</td>\n",
       "      <td>NaN</td>\n",
       "      <td>NaN</td>\n",
       "      <td>NaN</td>\n",
       "      <td>NaN</td>\n",
       "      <td>NaN</td>\n",
       "      <td>NaN</td>\n",
       "      <td>NaN</td>\n",
       "      <td>{\"rings\": [[[431259.5963000003, 4523102.8245],...</td>\n",
       "    </tr>\n",
       "    <tr>\n",
       "      <th>3</th>\n",
       "      <td>4</td>\n",
       "      <td>010030001</td>\n",
       "      <td>1.0</td>\n",
       "      <td>NaN</td>\n",
       "      <td>NaN</td>\n",
       "      <td>NaN</td>\n",
       "      <td>NaN</td>\n",
       "      <td>NaN</td>\n",
       "      <td>NaN</td>\n",
       "      <td>NaN</td>\n",
       "      <td>NaN</td>\n",
       "      <td>NaN</td>\n",
       "      <td>NaN</td>\n",
       "      <td>NaN</td>\n",
       "      <td>{\"rings\": [[[431298.3334999997, 4521492.8399],...</td>\n",
       "    </tr>\n",
       "    <tr>\n",
       "      <th>4</th>\n",
       "      <td>5</td>\n",
       "      <td>010040001</td>\n",
       "      <td>1.0</td>\n",
       "      <td>NaN</td>\n",
       "      <td>NaN</td>\n",
       "      <td>NaN</td>\n",
       "      <td>NaN</td>\n",
       "      <td>NaN</td>\n",
       "      <td>NaN</td>\n",
       "      <td>NaN</td>\n",
       "      <td>NaN</td>\n",
       "      <td>NaN</td>\n",
       "      <td>NaN</td>\n",
       "      <td>NaN</td>\n",
       "      <td>{\"rings\": [[[429278.03220000025, 4523132.31059...</td>\n",
       "    </tr>\n",
       "    <tr>\n",
       "      <th>5</th>\n",
       "      <td>6</td>\n",
       "      <td>010040002</td>\n",
       "      <td>1.0</td>\n",
       "      <td>NaN</td>\n",
       "      <td>NaN</td>\n",
       "      <td>NaN</td>\n",
       "      <td>NaN</td>\n",
       "      <td>NaN</td>\n",
       "      <td>NaN</td>\n",
       "      <td>NaN</td>\n",
       "      <td>NaN</td>\n",
       "      <td>NaN</td>\n",
       "      <td>NaN</td>\n",
       "      <td>NaN</td>\n",
       "      <td>{\"rings\": [[[428065.1196999997, 4522371.7095],...</td>\n",
       "    </tr>\n",
       "    <tr>\n",
       "      <th>...</th>\n",
       "      <td>...</td>\n",
       "      <td>...</td>\n",
       "      <td>...</td>\n",
       "      <td>...</td>\n",
       "      <td>...</td>\n",
       "      <td>...</td>\n",
       "      <td>...</td>\n",
       "      <td>...</td>\n",
       "      <td>...</td>\n",
       "      <td>...</td>\n",
       "      <td>...</td>\n",
       "      <td>...</td>\n",
       "      <td>...</td>\n",
       "      <td>...</td>\n",
       "      <td>...</td>\n",
       "    </tr>\n",
       "    <tr>\n",
       "      <th>114043</th>\n",
       "      <td>114044</td>\n",
       "      <td>550030001</td>\n",
       "      <td>1.0</td>\n",
       "      <td>NaN</td>\n",
       "      <td>NaN</td>\n",
       "      <td>NaN</td>\n",
       "      <td>NaN</td>\n",
       "      <td>NaN</td>\n",
       "      <td>NaN</td>\n",
       "      <td>NaN</td>\n",
       "      <td>NaN</td>\n",
       "      <td>NaN</td>\n",
       "      <td>NaN</td>\n",
       "      <td>NaN</td>\n",
       "      <td>{\"rings\": [[[414211.6102, 4553028.373], [41422...</td>\n",
       "    </tr>\n",
       "    <tr>\n",
       "      <th>114044</th>\n",
       "      <td>114045</td>\n",
       "      <td>550030002</td>\n",
       "      <td>1.0</td>\n",
       "      <td>NaN</td>\n",
       "      <td>NaN</td>\n",
       "      <td>NaN</td>\n",
       "      <td>NaN</td>\n",
       "      <td>NaN</td>\n",
       "      <td>NaN</td>\n",
       "      <td>NaN</td>\n",
       "      <td>NaN</td>\n",
       "      <td>NaN</td>\n",
       "      <td>NaN</td>\n",
       "      <td>NaN</td>\n",
       "      <td>{\"rings\": [[[414302.11479999963, 4552902.90530...</td>\n",
       "    </tr>\n",
       "    <tr>\n",
       "      <th>114045</th>\n",
       "      <td>114046</td>\n",
       "      <td>550040001</td>\n",
       "      <td>1.0</td>\n",
       "      <td>NaN</td>\n",
       "      <td>NaN</td>\n",
       "      <td>NaN</td>\n",
       "      <td>NaN</td>\n",
       "      <td>NaN</td>\n",
       "      <td>NaN</td>\n",
       "      <td>NaN</td>\n",
       "      <td>NaN</td>\n",
       "      <td>NaN</td>\n",
       "      <td>NaN</td>\n",
       "      <td>NaN</td>\n",
       "      <td>{\"rings\": [[[414561.9134999998, 4552696.2083],...</td>\n",
       "    </tr>\n",
       "    <tr>\n",
       "      <th>114046</th>\n",
       "      <td>114047</td>\n",
       "      <td>550050005</td>\n",
       "      <td>1.0</td>\n",
       "      <td>NaN</td>\n",
       "      <td>NaN</td>\n",
       "      <td>NaN</td>\n",
       "      <td>NaN</td>\n",
       "      <td>NaN</td>\n",
       "      <td>NaN</td>\n",
       "      <td>NaN</td>\n",
       "      <td>NaN</td>\n",
       "      <td>NaN</td>\n",
       "      <td>NaN</td>\n",
       "      <td>NaN</td>\n",
       "      <td>{\"rings\": [[[414893.5239000004, 4552990.350099...</td>\n",
       "    </tr>\n",
       "    <tr>\n",
       "      <th>114047</th>\n",
       "      <td>114048</td>\n",
       "      <td>550060001</td>\n",
       "      <td>1.0</td>\n",
       "      <td>NaN</td>\n",
       "      <td>NaN</td>\n",
       "      <td>NaN</td>\n",
       "      <td>NaN</td>\n",
       "      <td>NaN</td>\n",
       "      <td>NaN</td>\n",
       "      <td>NaN</td>\n",
       "      <td>NaN</td>\n",
       "      <td>NaN</td>\n",
       "      <td>NaN</td>\n",
       "      <td>NaN</td>\n",
       "      <td>{\"rings\": [[[414325.5843000002, 4552909.3949],...</td>\n",
       "    </tr>\n",
       "  </tbody>\n",
       "</table>\n",
       "<p>114047 rows × 15 columns</p>\n",
       "</div>"
      ],
      "text/plain": [
       "        OBJECTID  PARCEL_ID  COUNT_PARCEL_ID  TAXEXEMPT_TYPE  TOTAL_MKT_VALUE  \\\n",
       "1              2  010010001              1.0             NaN              NaN   \n",
       "2              3  010020001              1.0             NaN              NaN   \n",
       "3              4  010030001              1.0             NaN              NaN   \n",
       "4              5  010040001              1.0             NaN              NaN   \n",
       "5              6  010040002              1.0             NaN              NaN   \n",
       "...          ...        ...              ...             ...              ...   \n",
       "114043    114044  550030001              1.0             NaN              NaN   \n",
       "114044    114045  550030002              1.0             NaN              NaN   \n",
       "114045    114046  550040001              1.0             NaN              NaN   \n",
       "114046    114047  550050005              1.0             NaN              NaN   \n",
       "114047    114048  550060001              1.0             NaN              NaN   \n",
       "\n",
       "        LAND_MKT_VALUE  PARCEL_ACRES  PROP_CLASS  PRIMARY_RES  HOUSE_CNT  \\\n",
       "1                  NaN           NaN         NaN          NaN        NaN   \n",
       "2                  NaN           NaN         NaN          NaN        NaN   \n",
       "3                  NaN           NaN         NaN          NaN        NaN   \n",
       "4                  NaN           NaN         NaN          NaN        NaN   \n",
       "5                  NaN           NaN         NaN          NaN        NaN   \n",
       "...                ...           ...         ...          ...        ...   \n",
       "114043             NaN           NaN         NaN          NaN        NaN   \n",
       "114044             NaN           NaN         NaN          NaN        NaN   \n",
       "114045             NaN           NaN         NaN          NaN        NaN   \n",
       "114046             NaN           NaN         NaN          NaN        NaN   \n",
       "114047             NaN           NaN         NaN          NaN        NaN   \n",
       "\n",
       "        BLDG_SQFT  FLOORS_CNT  BUILT_YR  EFFBUILT_YR  \\\n",
       "1             NaN         NaN       NaN          NaN   \n",
       "2             NaN         NaN       NaN          NaN   \n",
       "3             NaN         NaN       NaN          NaN   \n",
       "4             NaN         NaN       NaN          NaN   \n",
       "5             NaN         NaN       NaN          NaN   \n",
       "...           ...         ...       ...          ...   \n",
       "114043        NaN         NaN       NaN          NaN   \n",
       "114044        NaN         NaN       NaN          NaN   \n",
       "114045        NaN         NaN       NaN          NaN   \n",
       "114046        NaN         NaN       NaN          NaN   \n",
       "114047        NaN         NaN       NaN          NaN   \n",
       "\n",
       "                                                    SHAPE  \n",
       "1       {\"rings\": [[[432837.2489, 4523084.3905], [4344...  \n",
       "2       {\"rings\": [[[431259.5963000003, 4523102.8245],...  \n",
       "3       {\"rings\": [[[431298.3334999997, 4521492.8399],...  \n",
       "4       {\"rings\": [[[429278.03220000025, 4523132.31059...  \n",
       "5       {\"rings\": [[[428065.1196999997, 4522371.7095],...  \n",
       "...                                                   ...  \n",
       "114043  {\"rings\": [[[414211.6102, 4553028.373], [41422...  \n",
       "114044  {\"rings\": [[[414302.11479999963, 4552902.90530...  \n",
       "114045  {\"rings\": [[[414561.9134999998, 4552696.2083],...  \n",
       "114046  {\"rings\": [[[414893.5239000004, 4552990.350099...  \n",
       "114047  {\"rings\": [[[414325.5843000002, 4552909.3949],...  \n",
       "\n",
       "[114047 rows x 15 columns]"
      ]
     },
     "execution_count": 45,
     "metadata": {},
     "output_type": "execute_result"
    }
   ],
   "source": [
    "dropped = parcels_df.dropna(subset=['PARCEL_ID', 'SHAPE'])\n",
    "dropped.reindex(columns=columns_subset)"
   ]
  },
  {
   "cell_type": "code",
   "execution_count": 46,
   "id": "0c08c561",
   "metadata": {
    "hidden": true
   },
   "outputs": [
    {
     "data": {
      "text/html": [
       "<div>\n",
       "<style scoped>\n",
       "    .dataframe tbody tr th:only-of-type {\n",
       "        vertical-align: middle;\n",
       "    }\n",
       "\n",
       "    .dataframe tbody tr th {\n",
       "        vertical-align: top;\n",
       "    }\n",
       "\n",
       "    .dataframe thead th {\n",
       "        text-align: right;\n",
       "    }\n",
       "</style>\n",
       "<table border=\"1\" class=\"dataframe\">\n",
       "  <thead>\n",
       "    <tr style=\"text-align: right;\">\n",
       "      <th></th>\n",
       "      <th>OBJECTID</th>\n",
       "      <th>PARCEL_ID</th>\n",
       "      <th>COUNT_PARCEL_ID</th>\n",
       "      <th>FIRST_TAXEXEMPT_TYPE</th>\n",
       "      <th>SUM_TOTAL_MKT_VALUE</th>\n",
       "      <th>SUM_LAND_MKT_VALUE</th>\n",
       "      <th>SUM_PARCEL_ACRES</th>\n",
       "      <th>FIRST_PROP_CLASS</th>\n",
       "      <th>FIRST_PRIMARY_RES</th>\n",
       "      <th>MAX_HOUSE_CNT</th>\n",
       "      <th>SUM_BLDG_SQFT</th>\n",
       "      <th>MAX_FLOORS_CNT</th>\n",
       "      <th>FIRST_BUILT_YR</th>\n",
       "      <th>FIRST_EFFBUILT_YR</th>\n",
       "      <th>SHAPE</th>\n",
       "    </tr>\n",
       "  </thead>\n",
       "  <tbody>\n",
       "    <tr>\n",
       "      <th>0</th>\n",
       "      <td>1</td>\n",
       "      <td>None</td>\n",
       "      <td>NaN</td>\n",
       "      <td>None</td>\n",
       "      <td>NaN</td>\n",
       "      <td>NaN</td>\n",
       "      <td>NaN</td>\n",
       "      <td></td>\n",
       "      <td>None</td>\n",
       "      <td>None</td>\n",
       "      <td>0.0</td>\n",
       "      <td>0.0</td>\n",
       "      <td>NaN</td>\n",
       "      <td>None</td>\n",
       "      <td>{\"rings\": [[[423624.40919999965, 4519453.22540...</td>\n",
       "    </tr>\n",
       "    <tr>\n",
       "      <th>1</th>\n",
       "      <td>2</td>\n",
       "      <td>010010001</td>\n",
       "      <td>1.0</td>\n",
       "      <td>YES</td>\n",
       "      <td>2631555.0</td>\n",
       "      <td>2631555.0</td>\n",
       "      <td>584.790</td>\n",
       "      <td>Vacant Land</td>\n",
       "      <td>N</td>\n",
       "      <td>None</td>\n",
       "      <td>0.0</td>\n",
       "      <td>0.0</td>\n",
       "      <td>NaN</td>\n",
       "      <td>None</td>\n",
       "      <td>{\"rings\": [[[432837.2489, 4523084.3905], [4344...</td>\n",
       "    </tr>\n",
       "    <tr>\n",
       "      <th>2</th>\n",
       "      <td>3</td>\n",
       "      <td>010020001</td>\n",
       "      <td>1.0</td>\n",
       "      <td>YES</td>\n",
       "      <td>2862855.0</td>\n",
       "      <td>2862855.0</td>\n",
       "      <td>636.190</td>\n",
       "      <td>Vacant Land</td>\n",
       "      <td>N</td>\n",
       "      <td>None</td>\n",
       "      <td>0.0</td>\n",
       "      <td>0.0</td>\n",
       "      <td>NaN</td>\n",
       "      <td>None</td>\n",
       "      <td>{\"rings\": [[[431259.5963000003, 4523102.8245],...</td>\n",
       "    </tr>\n",
       "    <tr>\n",
       "      <th>3</th>\n",
       "      <td>4</td>\n",
       "      <td>010030001</td>\n",
       "      <td>1.0</td>\n",
       "      <td>YES</td>\n",
       "      <td>2820735.0</td>\n",
       "      <td>2820735.0</td>\n",
       "      <td>626.830</td>\n",
       "      <td>Vacant Land</td>\n",
       "      <td>N</td>\n",
       "      <td>None</td>\n",
       "      <td>0.0</td>\n",
       "      <td>0.0</td>\n",
       "      <td>NaN</td>\n",
       "      <td>None</td>\n",
       "      <td>{\"rings\": [[[431298.3334999997, 4521492.8399],...</td>\n",
       "    </tr>\n",
       "    <tr>\n",
       "      <th>4</th>\n",
       "      <td>5</td>\n",
       "      <td>010040001</td>\n",
       "      <td>1.0</td>\n",
       "      <td>YES</td>\n",
       "      <td>720000.0</td>\n",
       "      <td>720000.0</td>\n",
       "      <td>160.000</td>\n",
       "      <td>Vacant Land</td>\n",
       "      <td>N</td>\n",
       "      <td>None</td>\n",
       "      <td>0.0</td>\n",
       "      <td>0.0</td>\n",
       "      <td>NaN</td>\n",
       "      <td>None</td>\n",
       "      <td>{\"rings\": [[[429278.03220000025, 4523132.31059...</td>\n",
       "    </tr>\n",
       "    <tr>\n",
       "      <th>...</th>\n",
       "      <td>...</td>\n",
       "      <td>...</td>\n",
       "      <td>...</td>\n",
       "      <td>...</td>\n",
       "      <td>...</td>\n",
       "      <td>...</td>\n",
       "      <td>...</td>\n",
       "      <td>...</td>\n",
       "      <td>...</td>\n",
       "      <td>...</td>\n",
       "      <td>...</td>\n",
       "      <td>...</td>\n",
       "      <td>...</td>\n",
       "      <td>...</td>\n",
       "      <td>...</td>\n",
       "    </tr>\n",
       "    <tr>\n",
       "      <th>114043</th>\n",
       "      <td>114044</td>\n",
       "      <td>550030001</td>\n",
       "      <td>1.0</td>\n",
       "      <td>NO</td>\n",
       "      <td>214922.0</td>\n",
       "      <td>58600.0</td>\n",
       "      <td>0.223</td>\n",
       "      <td>Commercial</td>\n",
       "      <td>N</td>\n",
       "      <td>None</td>\n",
       "      <td>1384.0</td>\n",
       "      <td>0.0</td>\n",
       "      <td>1950.0</td>\n",
       "      <td>None</td>\n",
       "      <td>{\"rings\": [[[414211.6102, 4553028.373], [41422...</td>\n",
       "    </tr>\n",
       "    <tr>\n",
       "      <th>114044</th>\n",
       "      <td>114045</td>\n",
       "      <td>550030002</td>\n",
       "      <td>1.0</td>\n",
       "      <td>NO</td>\n",
       "      <td>2797906.0</td>\n",
       "      <td>305521.0</td>\n",
       "      <td>1.460</td>\n",
       "      <td>Commercial</td>\n",
       "      <td>N</td>\n",
       "      <td>1</td>\n",
       "      <td>9886.0</td>\n",
       "      <td>1.0</td>\n",
       "      <td>2014.0</td>\n",
       "      <td>None</td>\n",
       "      <td>{\"rings\": [[[414302.11479999963, 4552902.90530...</td>\n",
       "    </tr>\n",
       "    <tr>\n",
       "      <th>114045</th>\n",
       "      <td>114046</td>\n",
       "      <td>550040001</td>\n",
       "      <td>1.0</td>\n",
       "      <td>NO</td>\n",
       "      <td>2848745.0</td>\n",
       "      <td>271413.0</td>\n",
       "      <td>1.276</td>\n",
       "      <td>Commercial</td>\n",
       "      <td>N</td>\n",
       "      <td>1</td>\n",
       "      <td>20968.0</td>\n",
       "      <td>1.0</td>\n",
       "      <td>2017.0</td>\n",
       "      <td>None</td>\n",
       "      <td>{\"rings\": [[[414561.9134999998, 4552696.2083],...</td>\n",
       "    </tr>\n",
       "    <tr>\n",
       "      <th>114046</th>\n",
       "      <td>114047</td>\n",
       "      <td>550050005</td>\n",
       "      <td>1.0</td>\n",
       "      <td>NO</td>\n",
       "      <td>20723538.0</td>\n",
       "      <td>981752.0</td>\n",
       "      <td>5.511</td>\n",
       "      <td>Commercial</td>\n",
       "      <td>N</td>\n",
       "      <td>None</td>\n",
       "      <td>76778.0</td>\n",
       "      <td>0.0</td>\n",
       "      <td>2017.0</td>\n",
       "      <td>None</td>\n",
       "      <td>{\"rings\": [[[414893.5239000004, 4552990.350099...</td>\n",
       "    </tr>\n",
       "    <tr>\n",
       "      <th>114047</th>\n",
       "      <td>114048</td>\n",
       "      <td>550060001</td>\n",
       "      <td>1.0</td>\n",
       "      <td>NO</td>\n",
       "      <td>NaN</td>\n",
       "      <td>NaN</td>\n",
       "      <td>1.345</td>\n",
       "      <td>Commercial</td>\n",
       "      <td>N</td>\n",
       "      <td>None</td>\n",
       "      <td>0.0</td>\n",
       "      <td>0.0</td>\n",
       "      <td>2020.0</td>\n",
       "      <td>None</td>\n",
       "      <td>{\"rings\": [[[414325.5843000002, 4552909.3949],...</td>\n",
       "    </tr>\n",
       "  </tbody>\n",
       "</table>\n",
       "<p>114048 rows × 15 columns</p>\n",
       "</div>"
      ],
      "text/plain": [
       "        OBJECTID  PARCEL_ID  COUNT_PARCEL_ID FIRST_TAXEXEMPT_TYPE  \\\n",
       "0              1       None              NaN                 None   \n",
       "1              2  010010001              1.0                  YES   \n",
       "2              3  010020001              1.0                  YES   \n",
       "3              4  010030001              1.0                  YES   \n",
       "4              5  010040001              1.0                  YES   \n",
       "...          ...        ...              ...                  ...   \n",
       "114043    114044  550030001              1.0                   NO   \n",
       "114044    114045  550030002              1.0                   NO   \n",
       "114045    114046  550040001              1.0                   NO   \n",
       "114046    114047  550050005              1.0                   NO   \n",
       "114047    114048  550060001              1.0                   NO   \n",
       "\n",
       "        SUM_TOTAL_MKT_VALUE  SUM_LAND_MKT_VALUE  SUM_PARCEL_ACRES  \\\n",
       "0                       NaN                 NaN               NaN   \n",
       "1                 2631555.0           2631555.0           584.790   \n",
       "2                 2862855.0           2862855.0           636.190   \n",
       "3                 2820735.0           2820735.0           626.830   \n",
       "4                  720000.0            720000.0           160.000   \n",
       "...                     ...                 ...               ...   \n",
       "114043             214922.0             58600.0             0.223   \n",
       "114044            2797906.0            305521.0             1.460   \n",
       "114045            2848745.0            271413.0             1.276   \n",
       "114046           20723538.0            981752.0             5.511   \n",
       "114047                  NaN                 NaN             1.345   \n",
       "\n",
       "       FIRST_PROP_CLASS FIRST_PRIMARY_RES MAX_HOUSE_CNT  SUM_BLDG_SQFT  \\\n",
       "0                                    None          None            0.0   \n",
       "1           Vacant Land                 N          None            0.0   \n",
       "2           Vacant Land                 N          None            0.0   \n",
       "3           Vacant Land                 N          None            0.0   \n",
       "4           Vacant Land                 N          None            0.0   \n",
       "...                 ...               ...           ...            ...   \n",
       "114043       Commercial                 N          None         1384.0   \n",
       "114044       Commercial                 N             1         9886.0   \n",
       "114045       Commercial                 N             1        20968.0   \n",
       "114046       Commercial                 N          None        76778.0   \n",
       "114047       Commercial                 N          None            0.0   \n",
       "\n",
       "        MAX_FLOORS_CNT  FIRST_BUILT_YR FIRST_EFFBUILT_YR  \\\n",
       "0                  0.0             NaN              None   \n",
       "1                  0.0             NaN              None   \n",
       "2                  0.0             NaN              None   \n",
       "3                  0.0             NaN              None   \n",
       "4                  0.0             NaN              None   \n",
       "...                ...             ...               ...   \n",
       "114043             0.0          1950.0              None   \n",
       "114044             1.0          2014.0              None   \n",
       "114045             1.0          2017.0              None   \n",
       "114046             0.0          2017.0              None   \n",
       "114047             0.0          2020.0              None   \n",
       "\n",
       "                                                    SHAPE  \n",
       "0       {\"rings\": [[[423624.40919999965, 4519453.22540...  \n",
       "1       {\"rings\": [[[432837.2489, 4523084.3905], [4344...  \n",
       "2       {\"rings\": [[[431259.5963000003, 4523102.8245],...  \n",
       "3       {\"rings\": [[[431298.3334999997, 4521492.8399],...  \n",
       "4       {\"rings\": [[[429278.03220000025, 4523132.31059...  \n",
       "...                                                   ...  \n",
       "114043  {\"rings\": [[[414211.6102, 4553028.373], [41422...  \n",
       "114044  {\"rings\": [[[414302.11479999963, 4552902.90530...  \n",
       "114045  {\"rings\": [[[414561.9134999998, 4552696.2083],...  \n",
       "114046  {\"rings\": [[[414893.5239000004, 4552990.350099...  \n",
       "114047  {\"rings\": [[[414325.5843000002, 4552909.3949],...  \n",
       "\n",
       "[114048 rows x 15 columns]"
      ]
     },
     "execution_count": 46,
     "metadata": {},
     "output_type": "execute_result"
    }
   ],
   "source": [
    "parcels_df"
   ]
  },
  {
   "cell_type": "code",
   "execution_count": 47,
   "id": "69e08c7b",
   "metadata": {
    "hidden": true
   },
   "outputs": [],
   "source": [
    "common_areas_fc = input_dir_path / r'Common_Areas.gdb/Common_Areas_Reviewed'\n",
    "common_areas_df = pd.DataFrame.spatial.from_featureclass(common_areas_fc)"
   ]
  },
  {
   "cell_type": "code",
   "execution_count": 56,
   "id": "78069308",
   "metadata": {
    "hidden": true
   },
   "outputs": [
    {
     "data": {
      "text/plain": [
       "1"
      ]
     },
     "execution_count": 56,
     "metadata": {},
     "output_type": "execute_result"
    }
   ],
   "source": [
    "common_areas_df[common_areas_df['SHAPE'].isna()]['OBJECTID'].count()"
   ]
  },
  {
   "cell_type": "code",
   "execution_count": 57,
   "id": "ff6bd139",
   "metadata": {
    "hidden": true
   },
   "outputs": [],
   "source": [
    "address_pts = input_dir_path / r'AddressPoints_Davis.gdb/address_points_davis'\n",
    "address_pts_df = pd.DataFrame.spatial.from_featureclass(address_pts)"
   ]
  },
  {
   "cell_type": "code",
   "execution_count": 58,
   "id": "68adbe7d",
   "metadata": {
    "hidden": true
   },
   "outputs": [
    {
     "data": {
      "text/plain": [
       "{'wkid': 26912, 'latestWkid': 26912}"
      ]
     },
     "execution_count": 58,
     "metadata": {},
     "output_type": "execute_result"
    }
   ],
   "source": [
    "address_pts_df.spatial.sr"
   ]
  },
  {
   "cell_type": "code",
   "execution_count": 59,
   "id": "8db56942",
   "metadata": {
    "hidden": true
   },
   "outputs": [
    {
     "data": {
      "text/plain": [
       "{'wkid': 26912, 'latestWkid': 26912}"
      ]
     },
     "execution_count": 59,
     "metadata": {},
     "output_type": "execute_result"
    }
   ],
   "source": [
    "parcels_df.spatial.sr"
   ]
  },
  {
   "cell_type": "code",
   "execution_count": 2,
   "id": "834c7666",
   "metadata": {
    "hidden": true
   },
   "outputs": [],
   "source": [
    "test_parcels_df = pd.DataFrame({\n",
    "    'PARCEL_ID': [1, 2, 3],\n",
    "    'BUILT_YR': [4., 5., 7.],\n",
    "    'common_area_key': [1, 1, 2],\n",
    "})"
   ]
  },
  {
   "cell_type": "code",
   "execution_count": 3,
   "id": "25e83ec9",
   "metadata": {
    "hidden": true
   },
   "outputs": [],
   "source": [
    "common_area_col = 'common_area_key'\n",
    "parcels_grouped = test_parcels_df.groupby(common_area_col)\n",
    "mode_series = pd.Series(data=0, index=parcels_grouped.groups.keys(), name='BUILT_YEAR')\n",
    "mode_series.index.name = common_area_col"
   ]
  },
  {
   "cell_type": "code",
   "execution_count": 4,
   "id": "7dcaed1d",
   "metadata": {
    "hidden": true
   },
   "outputs": [
    {
     "data": {
      "text/plain": [
       "common_area_key\n",
       "1    0\n",
       "2    0\n",
       "Name: BUILT_YEAR, dtype: int64"
      ]
     },
     "execution_count": 4,
     "metadata": {},
     "output_type": "execute_result"
    }
   ],
   "source": [
    "mode_series"
   ]
  },
  {
   "cell_type": "code",
   "execution_count": 77,
   "id": "775d5a0b",
   "metadata": {
    "hidden": true
   },
   "outputs": [],
   "source": [
    "mode_series = parcels_grouped['BUILT_YR'].apply(pd.Series.mode)"
   ]
  },
  {
   "cell_type": "code",
   "execution_count": 78,
   "id": "ea7cb799",
   "metadata": {
    "hidden": true
   },
   "outputs": [
    {
     "data": {
      "text/plain": [
       "common_area_key   \n",
       "1                0    4.0\n",
       "                 1    5.0\n",
       "Name: BUILT_YR, dtype: float64"
      ]
     },
     "execution_count": 78,
     "metadata": {},
     "output_type": "execute_result"
    }
   ],
   "source": [
    "mode_series"
   ]
  },
  {
   "cell_type": "code",
   "execution_count": 48,
   "id": "11785fab",
   "metadata": {
    "hidden": true
   },
   "outputs": [],
   "source": [
    "def get_proper_built_yr_value_series(parcels_df, index_col, built_yr_col):\n",
    "    \"\"\"Return either the most common yearbuilt or the max if the common is 0\n",
    "\n",
    "    Args:\n",
    "        parcels_df (pd.DataFrame.spatial): The parcels data\n",
    "        index_col (str): The primary key of the parcel table (usually a parcel number/id)\n",
    "        built_yr_col (str): The column holding the built year as an integer/float\n",
    "\n",
    "    Returns:\n",
    "        pd.Series: A series of the built year, indexed by the unique values in index_col\n",
    "    \"\"\"\n",
    "\n",
    "    parcels_grouped = parcels_df.groupby(index_col)\n",
    "\n",
    "    #: Set mode to 0 to start with\n",
    "    built_yr_mode_series = pd.Series(data=-1, index=parcels_grouped.groups.keys(), name=built_yr_col)\n",
    "    built_yr_mode_series.index.name = index_col\n",
    "    #: If we can get a single mode value, use that instead\n",
    "    try:\n",
    "        built_yr_mode_series = parcels_grouped[built_yr_col].agg(pd.Series.mode)\n",
    "    #: If there are multiple modes, .mode returns them all and .agg complains there isn't a single value\n",
    "    #: FIXME: this isn't happening, it's putting both modes into a list and putting that in the series.\n",
    "    #: Throw a breakpoint here and see if we're getting this ValueError to confirm behavior\n",
    "    #: And the set to 0 shouldn't matter- the .agg() returns a new series that overbinds built_yr_mod_series\n",
    "    #: This is working in the tests... clearly something is wrong with the tests.\n",
    "    except ValueError as error:\n",
    "        if str(error) == 'Must produce aggregated value':\n",
    "            pass\n",
    "\n",
    "    built_yr_max_series = parcels_grouped[built_yr_col].max()\n",
    "    built_yr_df = pd.DataFrame({'mode': built_yr_mode_series, 'max': built_yr_max_series})\n",
    "    built_yr_df[built_yr_col] = built_yr_df['mode']\n",
    "    built_yr_df.loc[built_yr_df[built_yr_col] <= 0, built_yr_col] = built_yr_df['max']\n",
    "\n",
    "    return built_yr_df[built_yr_col]"
   ]
  },
  {
   "cell_type": "code",
   "execution_count": 49,
   "id": "23e96439",
   "metadata": {
    "hidden": true
   },
   "outputs": [
    {
     "data": {
      "text/plain": [
       "common_area_key\n",
       "1.0    5.0\n",
       "2.0    6.0\n",
       "Name: BUILT_YR, dtype: float64"
      ]
     },
     "execution_count": 49,
     "metadata": {},
     "output_type": "execute_result"
    }
   ],
   "source": [
    "get_proper_built_yr_value_series(test_parcels_df, 'common_area_key', 'BUILT_YR')"
   ]
  },
  {
   "cell_type": "code",
   "execution_count": 76,
   "id": "674fe998",
   "metadata": {
    "hidden": true
   },
   "outputs": [
    {
     "ename": "ValueError",
     "evalue": "The truth value of an array with more than one element is ambiguous. Use a.any() or a.all()",
     "output_type": "error",
     "traceback": [
      "\u001b[1;31m---------------------------------------------------------------------------\u001b[0m",
      "\u001b[1;31mValueError\u001b[0m                                Traceback (most recent call last)",
      "\u001b[1;32m<ipython-input-76-ee4d11244e38>\u001b[0m in \u001b[0;36m<module>\u001b[1;34m\u001b[0m\n\u001b[0;32m      8\u001b[0m })\n\u001b[0;32m      9\u001b[0m \u001b[1;33m\u001b[0m\u001b[0m\n\u001b[1;32m---> 10\u001b[1;33m \u001b[0mresult_df\u001b[0m \u001b[1;33m=\u001b[0m \u001b[0mget_proper_built_yr_value_series\u001b[0m\u001b[1;33m(\u001b[0m\u001b[0mtest_parcels_df\u001b[0m\u001b[1;33m,\u001b[0m \u001b[1;34m'common_area_key'\u001b[0m\u001b[1;33m,\u001b[0m \u001b[1;34m'BUILT_YR'\u001b[0m\u001b[1;33m)\u001b[0m\u001b[1;33m\u001b[0m\u001b[1;33m\u001b[0m\u001b[0m\n\u001b[0m",
      "\u001b[1;32m<ipython-input-48-d60a0275f3ba>\u001b[0m in \u001b[0;36mget_proper_built_yr_value_series\u001b[1;34m(parcels_df, index_col, built_yr_col)\u001b[0m\n\u001b[0;32m     31\u001b[0m     \u001b[0mbuilt_yr_df\u001b[0m \u001b[1;33m=\u001b[0m \u001b[0mpd\u001b[0m\u001b[1;33m.\u001b[0m\u001b[0mDataFrame\u001b[0m\u001b[1;33m(\u001b[0m\u001b[1;33m{\u001b[0m\u001b[1;34m'mode'\u001b[0m\u001b[1;33m:\u001b[0m \u001b[0mbuilt_yr_mode_series\u001b[0m\u001b[1;33m,\u001b[0m \u001b[1;34m'max'\u001b[0m\u001b[1;33m:\u001b[0m \u001b[0mbuilt_yr_max_series\u001b[0m\u001b[1;33m}\u001b[0m\u001b[1;33m)\u001b[0m\u001b[1;33m\u001b[0m\u001b[1;33m\u001b[0m\u001b[0m\n\u001b[0;32m     32\u001b[0m     \u001b[0mbuilt_yr_df\u001b[0m\u001b[1;33m[\u001b[0m\u001b[0mbuilt_yr_col\u001b[0m\u001b[1;33m]\u001b[0m \u001b[1;33m=\u001b[0m \u001b[0mbuilt_yr_df\u001b[0m\u001b[1;33m[\u001b[0m\u001b[1;34m'mode'\u001b[0m\u001b[1;33m]\u001b[0m\u001b[1;33m\u001b[0m\u001b[1;33m\u001b[0m\u001b[0m\n\u001b[1;32m---> 33\u001b[1;33m     \u001b[0mbuilt_yr_df\u001b[0m\u001b[1;33m.\u001b[0m\u001b[0mloc\u001b[0m\u001b[1;33m[\u001b[0m\u001b[0mbuilt_yr_df\u001b[0m\u001b[1;33m[\u001b[0m\u001b[0mbuilt_yr_col\u001b[0m\u001b[1;33m]\u001b[0m \u001b[1;33m<=\u001b[0m \u001b[1;36m0\u001b[0m\u001b[1;33m,\u001b[0m \u001b[0mbuilt_yr_col\u001b[0m\u001b[1;33m]\u001b[0m \u001b[1;33m=\u001b[0m \u001b[0mbuilt_yr_df\u001b[0m\u001b[1;33m[\u001b[0m\u001b[1;34m'max'\u001b[0m\u001b[1;33m]\u001b[0m\u001b[1;33m\u001b[0m\u001b[1;33m\u001b[0m\u001b[0m\n\u001b[0m\u001b[0;32m     34\u001b[0m \u001b[1;33m\u001b[0m\u001b[0m\n\u001b[0;32m     35\u001b[0m     \u001b[1;32mreturn\u001b[0m \u001b[0mbuilt_yr_df\u001b[0m\u001b[1;33m[\u001b[0m\u001b[0mbuilt_yr_col\u001b[0m\u001b[1;33m]\u001b[0m\u001b[1;33m\u001b[0m\u001b[1;33m\u001b[0m\u001b[0m\n",
      "\u001b[1;32m~\\Miniconda3\\envs\\housing\\lib\\site-packages\\pandas\\core\\ops\\common.py\u001b[0m in \u001b[0;36mnew_method\u001b[1;34m(self, other)\u001b[0m\n\u001b[0;32m     67\u001b[0m         \u001b[0mother\u001b[0m \u001b[1;33m=\u001b[0m \u001b[0mitem_from_zerodim\u001b[0m\u001b[1;33m(\u001b[0m\u001b[0mother\u001b[0m\u001b[1;33m)\u001b[0m\u001b[1;33m\u001b[0m\u001b[1;33m\u001b[0m\u001b[0m\n\u001b[0;32m     68\u001b[0m \u001b[1;33m\u001b[0m\u001b[0m\n\u001b[1;32m---> 69\u001b[1;33m         \u001b[1;32mreturn\u001b[0m \u001b[0mmethod\u001b[0m\u001b[1;33m(\u001b[0m\u001b[0mself\u001b[0m\u001b[1;33m,\u001b[0m \u001b[0mother\u001b[0m\u001b[1;33m)\u001b[0m\u001b[1;33m\u001b[0m\u001b[1;33m\u001b[0m\u001b[0m\n\u001b[0m\u001b[0;32m     70\u001b[0m \u001b[1;33m\u001b[0m\u001b[0m\n\u001b[0;32m     71\u001b[0m     \u001b[1;32mreturn\u001b[0m \u001b[0mnew_method\u001b[0m\u001b[1;33m\u001b[0m\u001b[1;33m\u001b[0m\u001b[0m\n",
      "\u001b[1;32m~\\Miniconda3\\envs\\housing\\lib\\site-packages\\pandas\\core\\arraylike.py\u001b[0m in \u001b[0;36m__le__\u001b[1;34m(self, other)\u001b[0m\n\u001b[0;32m     42\u001b[0m     \u001b[1;33m@\u001b[0m\u001b[0munpack_zerodim_and_defer\u001b[0m\u001b[1;33m(\u001b[0m\u001b[1;34m\"__le__\"\u001b[0m\u001b[1;33m)\u001b[0m\u001b[1;33m\u001b[0m\u001b[1;33m\u001b[0m\u001b[0m\n\u001b[0;32m     43\u001b[0m     \u001b[1;32mdef\u001b[0m \u001b[0m__le__\u001b[0m\u001b[1;33m(\u001b[0m\u001b[0mself\u001b[0m\u001b[1;33m,\u001b[0m \u001b[0mother\u001b[0m\u001b[1;33m)\u001b[0m\u001b[1;33m:\u001b[0m\u001b[1;33m\u001b[0m\u001b[1;33m\u001b[0m\u001b[0m\n\u001b[1;32m---> 44\u001b[1;33m         \u001b[1;32mreturn\u001b[0m \u001b[0mself\u001b[0m\u001b[1;33m.\u001b[0m\u001b[0m_cmp_method\u001b[0m\u001b[1;33m(\u001b[0m\u001b[0mother\u001b[0m\u001b[1;33m,\u001b[0m \u001b[0moperator\u001b[0m\u001b[1;33m.\u001b[0m\u001b[0mle\u001b[0m\u001b[1;33m)\u001b[0m\u001b[1;33m\u001b[0m\u001b[1;33m\u001b[0m\u001b[0m\n\u001b[0m\u001b[0;32m     45\u001b[0m \u001b[1;33m\u001b[0m\u001b[0m\n\u001b[0;32m     46\u001b[0m     \u001b[1;33m@\u001b[0m\u001b[0munpack_zerodim_and_defer\u001b[0m\u001b[1;33m(\u001b[0m\u001b[1;34m\"__gt__\"\u001b[0m\u001b[1;33m)\u001b[0m\u001b[1;33m\u001b[0m\u001b[1;33m\u001b[0m\u001b[0m\n",
      "\u001b[1;32m~\\Miniconda3\\envs\\housing\\lib\\site-packages\\pandas\\core\\series.py\u001b[0m in \u001b[0;36m_cmp_method\u001b[1;34m(self, other, op)\u001b[0m\n\u001b[0;32m   5500\u001b[0m \u001b[1;33m\u001b[0m\u001b[0m\n\u001b[0;32m   5501\u001b[0m         \u001b[1;32mwith\u001b[0m \u001b[0mnp\u001b[0m\u001b[1;33m.\u001b[0m\u001b[0merrstate\u001b[0m\u001b[1;33m(\u001b[0m\u001b[0mall\u001b[0m\u001b[1;33m=\u001b[0m\u001b[1;34m\"ignore\"\u001b[0m\u001b[1;33m)\u001b[0m\u001b[1;33m:\u001b[0m\u001b[1;33m\u001b[0m\u001b[1;33m\u001b[0m\u001b[0m\n\u001b[1;32m-> 5502\u001b[1;33m             \u001b[0mres_values\u001b[0m \u001b[1;33m=\u001b[0m \u001b[0mops\u001b[0m\u001b[1;33m.\u001b[0m\u001b[0mcomparison_op\u001b[0m\u001b[1;33m(\u001b[0m\u001b[0mlvalues\u001b[0m\u001b[1;33m,\u001b[0m \u001b[0mrvalues\u001b[0m\u001b[1;33m,\u001b[0m \u001b[0mop\u001b[0m\u001b[1;33m)\u001b[0m\u001b[1;33m\u001b[0m\u001b[1;33m\u001b[0m\u001b[0m\n\u001b[0m\u001b[0;32m   5503\u001b[0m \u001b[1;33m\u001b[0m\u001b[0m\n\u001b[0;32m   5504\u001b[0m         \u001b[1;32mreturn\u001b[0m \u001b[0mself\u001b[0m\u001b[1;33m.\u001b[0m\u001b[0m_construct_result\u001b[0m\u001b[1;33m(\u001b[0m\u001b[0mres_values\u001b[0m\u001b[1;33m,\u001b[0m \u001b[0mname\u001b[0m\u001b[1;33m=\u001b[0m\u001b[0mres_name\u001b[0m\u001b[1;33m)\u001b[0m\u001b[1;33m\u001b[0m\u001b[1;33m\u001b[0m\u001b[0m\n",
      "\u001b[1;32m~\\Miniconda3\\envs\\housing\\lib\\site-packages\\pandas\\core\\ops\\array_ops.py\u001b[0m in \u001b[0;36mcomparison_op\u001b[1;34m(left, right, op)\u001b[0m\n\u001b[0;32m    282\u001b[0m \u001b[1;33m\u001b[0m\u001b[0m\n\u001b[0;32m    283\u001b[0m     \u001b[1;32melif\u001b[0m \u001b[0mis_object_dtype\u001b[0m\u001b[1;33m(\u001b[0m\u001b[0mlvalues\u001b[0m\u001b[1;33m.\u001b[0m\u001b[0mdtype\u001b[0m\u001b[1;33m)\u001b[0m \u001b[1;32mor\u001b[0m \u001b[0misinstance\u001b[0m\u001b[1;33m(\u001b[0m\u001b[0mrvalues\u001b[0m\u001b[1;33m,\u001b[0m \u001b[0mstr\u001b[0m\u001b[1;33m)\u001b[0m\u001b[1;33m:\u001b[0m\u001b[1;33m\u001b[0m\u001b[1;33m\u001b[0m\u001b[0m\n\u001b[1;32m--> 284\u001b[1;33m         \u001b[0mres_values\u001b[0m \u001b[1;33m=\u001b[0m \u001b[0mcomp_method_OBJECT_ARRAY\u001b[0m\u001b[1;33m(\u001b[0m\u001b[0mop\u001b[0m\u001b[1;33m,\u001b[0m \u001b[0mlvalues\u001b[0m\u001b[1;33m,\u001b[0m \u001b[0mrvalues\u001b[0m\u001b[1;33m)\u001b[0m\u001b[1;33m\u001b[0m\u001b[1;33m\u001b[0m\u001b[0m\n\u001b[0m\u001b[0;32m    285\u001b[0m \u001b[1;33m\u001b[0m\u001b[0m\n\u001b[0;32m    286\u001b[0m     \u001b[1;32melse\u001b[0m\u001b[1;33m:\u001b[0m\u001b[1;33m\u001b[0m\u001b[1;33m\u001b[0m\u001b[0m\n",
      "\u001b[1;32m~\\Miniconda3\\envs\\housing\\lib\\site-packages\\pandas\\core\\ops\\array_ops.py\u001b[0m in \u001b[0;36mcomp_method_OBJECT_ARRAY\u001b[1;34m(op, x, y)\u001b[0m\n\u001b[0;32m     71\u001b[0m         \u001b[0mresult\u001b[0m \u001b[1;33m=\u001b[0m \u001b[0mlibops\u001b[0m\u001b[1;33m.\u001b[0m\u001b[0mvec_compare\u001b[0m\u001b[1;33m(\u001b[0m\u001b[0mx\u001b[0m\u001b[1;33m.\u001b[0m\u001b[0mravel\u001b[0m\u001b[1;33m(\u001b[0m\u001b[1;33m)\u001b[0m\u001b[1;33m,\u001b[0m \u001b[0my\u001b[0m\u001b[1;33m.\u001b[0m\u001b[0mravel\u001b[0m\u001b[1;33m(\u001b[0m\u001b[1;33m)\u001b[0m\u001b[1;33m,\u001b[0m \u001b[0mop\u001b[0m\u001b[1;33m)\u001b[0m\u001b[1;33m\u001b[0m\u001b[1;33m\u001b[0m\u001b[0m\n\u001b[0;32m     72\u001b[0m     \u001b[1;32melse\u001b[0m\u001b[1;33m:\u001b[0m\u001b[1;33m\u001b[0m\u001b[1;33m\u001b[0m\u001b[0m\n\u001b[1;32m---> 73\u001b[1;33m         \u001b[0mresult\u001b[0m \u001b[1;33m=\u001b[0m \u001b[0mlibops\u001b[0m\u001b[1;33m.\u001b[0m\u001b[0mscalar_compare\u001b[0m\u001b[1;33m(\u001b[0m\u001b[0mx\u001b[0m\u001b[1;33m.\u001b[0m\u001b[0mravel\u001b[0m\u001b[1;33m(\u001b[0m\u001b[1;33m)\u001b[0m\u001b[1;33m,\u001b[0m \u001b[0my\u001b[0m\u001b[1;33m,\u001b[0m \u001b[0mop\u001b[0m\u001b[1;33m)\u001b[0m\u001b[1;33m\u001b[0m\u001b[1;33m\u001b[0m\u001b[0m\n\u001b[0m\u001b[0;32m     74\u001b[0m     \u001b[1;32mreturn\u001b[0m \u001b[0mresult\u001b[0m\u001b[1;33m.\u001b[0m\u001b[0mreshape\u001b[0m\u001b[1;33m(\u001b[0m\u001b[0mx\u001b[0m\u001b[1;33m.\u001b[0m\u001b[0mshape\u001b[0m\u001b[1;33m)\u001b[0m\u001b[1;33m\u001b[0m\u001b[1;33m\u001b[0m\u001b[0m\n\u001b[0;32m     75\u001b[0m \u001b[1;33m\u001b[0m\u001b[0m\n",
      "\u001b[1;32m~\\Miniconda3\\envs\\housing\\lib\\site-packages\\pandas\\_libs\\ops.pyx\u001b[0m in \u001b[0;36mpandas._libs.ops.scalar_compare\u001b[1;34m()\u001b[0m\n",
      "\u001b[1;31mValueError\u001b[0m: The truth value of an array with more than one element is ambiguous. Use a.any() or a.all()"
     ]
    }
   ],
   "source": [
    "test_parcels_df = pd.DataFrame({\n",
    "#     'PARCEL_ID': ['0', '1', '2', '3', '4', '5', '6', '7', '8', '9', '10'],\n",
    "#     'BUILT_YR': [3, np.nan, 4, 4, 4, 4, 5, 5, 5, 5, 7,],\n",
    "#     'common_area_key': [0, 1., 1., 1., 1., 1., 1., 1., 1., 1., 2.],\n",
    "    'PARCEL_ID': ['0', 'a', '1', '2'],\n",
    "    'BUILT_YR': [3., 3, 3, 4,],\n",
    "    'common_area_key': [0, 0, 1., 1.,],\n",
    "})\n",
    "\n",
    "result_df = get_proper_built_yr_value_series(test_parcels_df, 'common_area_key', 'BUILT_YR')"
   ]
  },
  {
   "cell_type": "code",
   "execution_count": 74,
   "id": "e1711298",
   "metadata": {
    "hidden": true
   },
   "outputs": [
    {
     "data": {
      "text/plain": [
       "common_area_key\n",
       "0.0    3.0\n",
       "1.0    4.0\n",
       "Name: BUILT_YR, dtype: float64"
      ]
     },
     "execution_count": 74,
     "metadata": {},
     "output_type": "execute_result"
    }
   ],
   "source": [
    "result_df"
   ]
  },
  {
   "cell_type": "code",
   "execution_count": 85,
   "id": "671a6392",
   "metadata": {
    "hidden": true
   },
   "outputs": [
    {
     "data": {
      "text/plain": [
       "common_area_key   \n",
       "0                0    3\n",
       "1                0    3\n",
       "                 1    4\n",
       "Name: BUILT_YR, dtype: int64"
      ]
     },
     "execution_count": 85,
     "metadata": {},
     "output_type": "execute_result"
    }
   ],
   "source": [
    "test_parcels_df = pd.DataFrame({\n",
    "    'PARCEL_ID': ['1', '2', '3', '4'],\n",
    "    'BUILT_YR': [3, 3, 3, 4,],\n",
    "    'common_area_key': [0, 0, 1, 1,],\n",
    "})\n",
    "gb = test_parcels_df.groupby('common_area_key')\n",
    "mode_series = gb['BUILT_YR'].apply(pd.Series.mode)\n",
    "mode_series"
   ]
  },
  {
   "cell_type": "code",
   "execution_count": 87,
   "id": "f7dec409",
   "metadata": {
    "hidden": true
   },
   "outputs": [],
   "source": [
    "mode_df = pd.DataFrame(mode_series)"
   ]
  },
  {
   "cell_type": "code",
   "execution_count": 90,
   "id": "87671351",
   "metadata": {
    "hidden": true
   },
   "outputs": [
    {
     "data": {
      "text/plain": [
       "common_area_key\n",
       "0    3\n",
       "1    4\n",
       "Name: BUILT_YR, dtype: int64"
      ]
     },
     "execution_count": 90,
     "metadata": {},
     "output_type": "execute_result"
    }
   ],
   "source": [
    "mode_df.reset_index().groupby('common_area_key')['BUILT_YR'].max()"
   ]
  },
  {
   "cell_type": "markdown",
   "id": "908a0e9d",
   "metadata": {
    "heading_collapsed": true
   },
   "source": [
    "# oug concat work"
   ]
  },
  {
   "cell_type": "code",
   "execution_count": 41,
   "id": "db75fc8a",
   "metadata": {
    "hidden": true
   },
   "outputs": [],
   "source": [
    "test_df = pd.DataFrame({\n",
    "    'PARCEL_ID': [1, 2, 3],\n",
    "    'FOO': [4, 5, 6],\n",
    "    'BAR':[7, 8, 9],\n",
    "})\n",
    "series_one = pd.Series(data=['a', 'b', 'c'], index=[1, 2, 3], name='one')\n",
    "series_one.index.name='PARCEL_ID'\n",
    "\n",
    "series_two = pd.Series(data=['x', 'y', 'z'], index=[3, 2, 1], name='two')\n",
    "series_one.index.name='PARCEL_ID'\n"
   ]
  },
  {
   "cell_type": "code",
   "execution_count": 42,
   "id": "c54f8b83",
   "metadata": {
    "hidden": true
   },
   "outputs": [],
   "source": [
    "concatted = pd.concat([\n",
    "    test_df[['PARCEL_ID', 'FOO']].copy().set_index('PARCEL_ID'),\n",
    "    series_one,\n",
    "    series_two,\n",
    "], axis=1)"
   ]
  },
  {
   "cell_type": "code",
   "execution_count": 43,
   "id": "1bf2de86",
   "metadata": {
    "hidden": true
   },
   "outputs": [
    {
     "data": {
      "text/html": [
       "<div>\n",
       "<style scoped>\n",
       "    .dataframe tbody tr th:only-of-type {\n",
       "        vertical-align: middle;\n",
       "    }\n",
       "\n",
       "    .dataframe tbody tr th {\n",
       "        vertical-align: top;\n",
       "    }\n",
       "\n",
       "    .dataframe thead th {\n",
       "        text-align: right;\n",
       "    }\n",
       "</style>\n",
       "<table border=\"1\" class=\"dataframe\">\n",
       "  <thead>\n",
       "    <tr style=\"text-align: right;\">\n",
       "      <th></th>\n",
       "      <th>FOO</th>\n",
       "      <th>one</th>\n",
       "      <th>two</th>\n",
       "    </tr>\n",
       "  </thead>\n",
       "  <tbody>\n",
       "    <tr>\n",
       "      <th>1</th>\n",
       "      <td>4</td>\n",
       "      <td>a</td>\n",
       "      <td>z</td>\n",
       "    </tr>\n",
       "    <tr>\n",
       "      <th>2</th>\n",
       "      <td>5</td>\n",
       "      <td>b</td>\n",
       "      <td>y</td>\n",
       "    </tr>\n",
       "    <tr>\n",
       "      <th>3</th>\n",
       "      <td>6</td>\n",
       "      <td>c</td>\n",
       "      <td>x</td>\n",
       "    </tr>\n",
       "  </tbody>\n",
       "</table>\n",
       "</div>"
      ],
      "text/plain": [
       "   FOO one two\n",
       "1    4   a   z\n",
       "2    5   b   y\n",
       "3    6   c   x"
      ]
     },
     "execution_count": 43,
     "metadata": {},
     "output_type": "execute_result"
    }
   ],
   "source": [
    "concatted"
   ]
  },
  {
   "cell_type": "code",
   "execution_count": 46,
   "id": "d0b4019c",
   "metadata": {
    "hidden": true
   },
   "outputs": [],
   "source": [
    "# concatted['INDEX'] = concatted.index\n",
    "concatted['PARCEL_ID'] = 'oug_' + concatted.index.astype(str)"
   ]
  },
  {
   "cell_type": "code",
   "execution_count": 47,
   "id": "5965ecc9",
   "metadata": {
    "hidden": true
   },
   "outputs": [
    {
     "data": {
      "text/html": [
       "<div>\n",
       "<style scoped>\n",
       "    .dataframe tbody tr th:only-of-type {\n",
       "        vertical-align: middle;\n",
       "    }\n",
       "\n",
       "    .dataframe tbody tr th {\n",
       "        vertical-align: top;\n",
       "    }\n",
       "\n",
       "    .dataframe thead th {\n",
       "        text-align: right;\n",
       "    }\n",
       "</style>\n",
       "<table border=\"1\" class=\"dataframe\">\n",
       "  <thead>\n",
       "    <tr style=\"text-align: right;\">\n",
       "      <th></th>\n",
       "      <th>FOO</th>\n",
       "      <th>one</th>\n",
       "      <th>two</th>\n",
       "      <th>PARCEL_ID</th>\n",
       "    </tr>\n",
       "  </thead>\n",
       "  <tbody>\n",
       "    <tr>\n",
       "      <th>1</th>\n",
       "      <td>4</td>\n",
       "      <td>a</td>\n",
       "      <td>z</td>\n",
       "      <td>oug_1</td>\n",
       "    </tr>\n",
       "    <tr>\n",
       "      <th>2</th>\n",
       "      <td>5</td>\n",
       "      <td>b</td>\n",
       "      <td>y</td>\n",
       "      <td>oug_2</td>\n",
       "    </tr>\n",
       "    <tr>\n",
       "      <th>3</th>\n",
       "      <td>6</td>\n",
       "      <td>c</td>\n",
       "      <td>x</td>\n",
       "      <td>oug_3</td>\n",
       "    </tr>\n",
       "  </tbody>\n",
       "</table>\n",
       "</div>"
      ],
      "text/plain": [
       "   FOO one two PARCEL_ID\n",
       "1    4   a   z     oug_1\n",
       "2    5   b   y     oug_2\n",
       "3    6   c   x     oug_3"
      ]
     },
     "execution_count": 47,
     "metadata": {},
     "output_type": "execute_result"
    }
   ],
   "source": [
    "concatted"
   ]
  },
  {
   "cell_type": "code",
   "execution_count": 51,
   "id": "e3bc4cdc",
   "metadata": {
    "hidden": true
   },
   "outputs": [
    {
     "data": {
      "text/plain": [
       "1    4\n",
       "2    5\n",
       "3    6\n",
       "Name: FOO, dtype: object"
      ]
     },
     "execution_count": 51,
     "metadata": {},
     "output_type": "execute_result"
    }
   ],
   "source": [
    "concatted['FOO'].astype(concatted['PARCEL_ID'].dtype)"
   ]
  },
  {
   "cell_type": "markdown",
   "id": "7ef04935",
   "metadata": {
    "heading_collapsed": true
   },
   "source": [
    "# Cities spatial join test, etc"
   ]
  },
  {
   "cell_type": "code",
   "execution_count": 2,
   "id": "add9b703",
   "metadata": {
    "hidden": true
   },
   "outputs": [],
   "source": [
    "input_dir_path = Path(r'c:\\gis\\git\\housing-unit-inventory\\Parcels\\2020-Davis\\Inputs')\n",
    "cities = input_dir_path / r'Cities.shp'\n"
   ]
  },
  {
   "cell_type": "code",
   "execution_count": 3,
   "id": "9e5bef7b",
   "metadata": {
    "hidden": true
   },
   "outputs": [],
   "source": [
    "cities_df = pd.DataFrame.spatial.from_featureclass(cities)"
   ]
  },
  {
   "cell_type": "code",
   "execution_count": 4,
   "id": "df9b95bb",
   "metadata": {
    "hidden": true
   },
   "outputs": [
    {
     "data": {
      "text/html": [
       "<div>\n",
       "<style scoped>\n",
       "    .dataframe tbody tr th:only-of-type {\n",
       "        vertical-align: middle;\n",
       "    }\n",
       "\n",
       "    .dataframe tbody tr th {\n",
       "        vertical-align: top;\n",
       "    }\n",
       "\n",
       "    .dataframe thead th {\n",
       "        text-align: right;\n",
       "    }\n",
       "</style>\n",
       "<table border=\"1\" class=\"dataframe\">\n",
       "  <thead>\n",
       "    <tr style=\"text-align: right;\">\n",
       "      <th></th>\n",
       "      <th>FID</th>\n",
       "      <th>NAME</th>\n",
       "      <th>FIRST_MERG</th>\n",
       "      <th>FIRST_SALE</th>\n",
       "      <th>FIRST_POPL</th>\n",
       "      <th>FIRST_PO_1</th>\n",
       "      <th>AREA_SQMI</th>\n",
       "      <th>SHAPE</th>\n",
       "    </tr>\n",
       "  </thead>\n",
       "  <tbody>\n",
       "    <tr>\n",
       "      <th>0</th>\n",
       "      <td>0</td>\n",
       "      <td>Alpine</td>\n",
       "      <td>Cities</td>\n",
       "      <td>001</td>\n",
       "      <td>9945</td>\n",
       "      <td>10504</td>\n",
       "      <td>7.942460</td>\n",
       "      <td>{\"rings\": [[[432785.52676665655, 4476821.29419...</td>\n",
       "    </tr>\n",
       "    <tr>\n",
       "      <th>1</th>\n",
       "      <td>1</td>\n",
       "      <td>Alta</td>\n",
       "      <td>Cities</td>\n",
       "      <td>003</td>\n",
       "      <td>384</td>\n",
       "      <td>383</td>\n",
       "      <td>4.524140</td>\n",
       "      <td>{\"rings\": [[[449264.0068137033, 4492021.704154...</td>\n",
       "    </tr>\n",
       "    <tr>\n",
       "      <th>2</th>\n",
       "      <td>2</td>\n",
       "      <td>Altamont</td>\n",
       "      <td>Cities</td>\n",
       "      <td>001</td>\n",
       "      <td>237</td>\n",
       "      <td>246</td>\n",
       "      <td>0.211541</td>\n",
       "      <td>{\"rings\": [[[560735.736964477, 4468288.5141359...</td>\n",
       "    </tr>\n",
       "    <tr>\n",
       "      <th>3</th>\n",
       "      <td>3</td>\n",
       "      <td>Alton</td>\n",
       "      <td>Cities</td>\n",
       "      <td>001</td>\n",
       "      <td>120</td>\n",
       "      <td>120</td>\n",
       "      <td>2.321220</td>\n",
       "      <td>{\"rings\": [[[365115.0665220134, 4143588.683681...</td>\n",
       "    </tr>\n",
       "    <tr>\n",
       "      <th>4</th>\n",
       "      <td>4</td>\n",
       "      <td>Amalga</td>\n",
       "      <td>Cities</td>\n",
       "      <td>001</td>\n",
       "      <td>501</td>\n",
       "      <td>539</td>\n",
       "      <td>3.546140</td>\n",
       "      <td>{\"rings\": [[[426221.256837887, 4637235.5144259...</td>\n",
       "    </tr>\n",
       "    <tr>\n",
       "      <th>...</th>\n",
       "      <td>...</td>\n",
       "      <td>...</td>\n",
       "      <td>...</td>\n",
       "      <td>...</td>\n",
       "      <td>...</td>\n",
       "      <td>...</td>\n",
       "      <td>...</td>\n",
       "      <td>...</td>\n",
       "    </tr>\n",
       "    <tr>\n",
       "      <th>248</th>\n",
       "      <td>248</td>\n",
       "      <td>White City Township</td>\n",
       "      <td>MetroTownships</td>\n",
       "      <td></td>\n",
       "      <td>0</td>\n",
       "      <td>5858</td>\n",
       "      <td>0.874335</td>\n",
       "      <td>{\"rings\": [[[426986.61674209347, 4492663.65423...</td>\n",
       "    </tr>\n",
       "    <tr>\n",
       "      <th>249</th>\n",
       "      <td>249</td>\n",
       "      <td>Willard</td>\n",
       "      <td>Cities</td>\n",
       "      <td>120</td>\n",
       "      <td>1799</td>\n",
       "      <td>1914</td>\n",
       "      <td>7.036630</td>\n",
       "      <td>{\"rings\": [[[413890.77674790076, 4582726.08432...</td>\n",
       "    </tr>\n",
       "    <tr>\n",
       "      <th>250</th>\n",
       "      <td>250</td>\n",
       "      <td>Woodland Hills</td>\n",
       "      <td>Cities</td>\n",
       "      <td>125</td>\n",
       "      <td>1399</td>\n",
       "      <td>1567</td>\n",
       "      <td>2.532780</td>\n",
       "      <td>{\"rings\": [[[443806.4767082976, 4431231.524182...</td>\n",
       "    </tr>\n",
       "    <tr>\n",
       "      <th>251</th>\n",
       "      <td>251</td>\n",
       "      <td>Woodruff</td>\n",
       "      <td>Cities</td>\n",
       "      <td>010</td>\n",
       "      <td>185</td>\n",
       "      <td>212</td>\n",
       "      <td>0.716006</td>\n",
       "      <td>{\"rings\": [[[485447.1969038169, 4596959.064351...</td>\n",
       "    </tr>\n",
       "    <tr>\n",
       "      <th>252</th>\n",
       "      <td>252</td>\n",
       "      <td>Woods Cross</td>\n",
       "      <td>Cities</td>\n",
       "      <td>057</td>\n",
       "      <td>10086</td>\n",
       "      <td>11328</td>\n",
       "      <td>3.835550</td>\n",
       "      <td>{\"rings\": [[[424779.70679974474, 4524289.10421...</td>\n",
       "    </tr>\n",
       "  </tbody>\n",
       "</table>\n",
       "<p>253 rows × 8 columns</p>\n",
       "</div>"
      ],
      "text/plain": [
       "     FID                 NAME      FIRST_MERG FIRST_SALE  FIRST_POPL  \\\n",
       "0      0               Alpine          Cities        001        9945   \n",
       "1      1                 Alta          Cities        003         384   \n",
       "2      2             Altamont          Cities        001         237   \n",
       "3      3                Alton          Cities        001         120   \n",
       "4      4               Amalga          Cities        001         501   \n",
       "..   ...                  ...             ...        ...         ...   \n",
       "248  248  White City Township  MetroTownships                      0   \n",
       "249  249              Willard          Cities        120        1799   \n",
       "250  250       Woodland Hills          Cities        125        1399   \n",
       "251  251             Woodruff          Cities        010         185   \n",
       "252  252          Woods Cross          Cities        057       10086   \n",
       "\n",
       "     FIRST_PO_1  AREA_SQMI                                              SHAPE  \n",
       "0         10504   7.942460  {\"rings\": [[[432785.52676665655, 4476821.29419...  \n",
       "1           383   4.524140  {\"rings\": [[[449264.0068137033, 4492021.704154...  \n",
       "2           246   0.211541  {\"rings\": [[[560735.736964477, 4468288.5141359...  \n",
       "3           120   2.321220  {\"rings\": [[[365115.0665220134, 4143588.683681...  \n",
       "4           539   3.546140  {\"rings\": [[[426221.256837887, 4637235.5144259...  \n",
       "..          ...        ...                                                ...  \n",
       "248        5858   0.874335  {\"rings\": [[[426986.61674209347, 4492663.65423...  \n",
       "249        1914   7.036630  {\"rings\": [[[413890.77674790076, 4582726.08432...  \n",
       "250        1567   2.532780  {\"rings\": [[[443806.4767082976, 4431231.524182...  \n",
       "251         212   0.716006  {\"rings\": [[[485447.1969038169, 4596959.064351...  \n",
       "252       11328   3.835550  {\"rings\": [[[424779.70679974474, 4524289.10421...  \n",
       "\n",
       "[253 rows x 8 columns]"
      ]
     },
     "execution_count": 4,
     "metadata": {},
     "output_type": "execute_result"
    }
   ],
   "source": [
    "cities_df"
   ]
  },
  {
   "cell_type": "code",
   "execution_count": 5,
   "id": "1312550b",
   "metadata": {
    "hidden": true
   },
   "outputs": [
    {
     "data": {
      "text/plain": [
       "True"
      ]
     },
     "execution_count": 5,
     "metadata": {},
     "output_type": "execute_result"
    }
   ],
   "source": [
    "cities_df.spatial.validate()"
   ]
  },
  {
   "cell_type": "code",
   "execution_count": 6,
   "id": "68496934",
   "metadata": {
    "hidden": true
   },
   "outputs": [
    {
     "data": {
      "text/plain": [
       "RangeIndex(start=0, stop=253, step=1)"
      ]
     },
     "execution_count": 6,
     "metadata": {},
     "output_type": "execute_result"
    }
   ],
   "source": [
    "cities_df.index"
   ]
  },
  {
   "cell_type": "code",
   "execution_count": 7,
   "id": "5600f63e",
   "metadata": {
    "hidden": true
   },
   "outputs": [],
   "source": [
    "opensgid_path = Path(r'c:\\gis\\projects\\housinginventory\\opensgid.agrc.utah.gov.sde')\n",
    "cities = opensgid_path / 'opensgid.boundaries.municipal_boundaries'\n",
    "metro_townships = opensgid_path / 'opensgid.boundaries.metro_townships'"
   ]
  },
  {
   "cell_type": "code",
   "execution_count": 9,
   "id": "c1c10f68",
   "metadata": {
    "hidden": true
   },
   "outputs": [],
   "source": [
    "cities_df = pd.DataFrame.spatial.from_featureclass(cities)\n",
    "townships_df = pd.DataFrame.spatial.from_featureclass(metro_townships)"
   ]
  },
  {
   "cell_type": "code",
   "execution_count": 10,
   "id": "94e2eec7",
   "metadata": {
    "hidden": true
   },
   "outputs": [
    {
     "data": {
      "text/plain": [
       "Index(['xid', 'countynbr', 'name', 'countyseat', 'shortdesc', 'updated',\n",
       "       'fips', 'entitynbr', 'salestaxid', 'imscolor', 'minname',\n",
       "       'poplastcensus', 'poplastestimate', 'ugrcode', 'gnis', 'globalid',\n",
       "       'SHAPE'],\n",
       "      dtype='object')"
      ]
     },
     "execution_count": 10,
     "metadata": {},
     "output_type": "execute_result"
    }
   ],
   "source": [
    "cities_df.columns"
   ]
  },
  {
   "cell_type": "code",
   "execution_count": 12,
   "id": "69efdf54",
   "metadata": {
    "hidden": true
   },
   "outputs": [
    {
     "data": {
      "text/plain": [
       "Index(['xid', 'countynbr', 'name', 'shortdesc', 'updated', 'fips', 'minname',\n",
       "       'poplastcensus', 'poplastestimate', 'ugrcode', 'globalid', 'SHAPE'],\n",
       "      dtype='object')"
      ]
     },
     "execution_count": 12,
     "metadata": {},
     "output_type": "execute_result"
    }
   ],
   "source": [
    "townships_df.columns"
   ]
  },
  {
   "cell_type": "code",
   "execution_count": 13,
   "id": "eaa65da5",
   "metadata": {
    "hidden": true
   },
   "outputs": [],
   "source": [
    "concatted_df = pd.concat([cities_df, townships_df], join='inner')"
   ]
  },
  {
   "cell_type": "code",
   "execution_count": 19,
   "id": "868f3ac7",
   "metadata": {
    "hidden": true
   },
   "outputs": [
    {
     "data": {
      "text/plain": [
       "5      Bluffdale\n",
       "36     Park City\n",
       "71     Santaquin\n",
       "117       Draper\n",
       "142    Park City\n",
       "162    Bluffdale\n",
       "172    Santaquin\n",
       "243       Draper\n",
       "Name: name, dtype: object"
      ]
     },
     "execution_count": 19,
     "metadata": {},
     "output_type": "execute_result"
    }
   ],
   "source": [
    "concatted_df[concatted_df['name'].duplicated(keep=False)]['name']"
   ]
  },
  {
   "cell_type": "code",
   "execution_count": 20,
   "id": "023e45cc",
   "metadata": {
    "hidden": true
   },
   "outputs": [
    {
     "data": {
      "text/plain": [
       "Index(['xid', 'countynbr', 'name', 'shortdesc', 'updated', 'fips', 'minname',\n",
       "       'poplastcensus', 'poplastestimate', 'ugrcode', 'globalid', 'SHAPE'],\n",
       "      dtype='object')"
      ]
     },
     "execution_count": 20,
     "metadata": {},
     "output_type": "execute_result"
    }
   ],
   "source": [
    "concatted_df.columns"
   ]
  },
  {
   "cell_type": "code",
   "execution_count": 4,
   "id": "8bcde891",
   "metadata": {
    "hidden": true
   },
   "outputs": [],
   "source": [
    "sr = SpatialReference?"
   ]
  },
  {
   "cell_type": "code",
   "execution_count": 10,
   "id": "00693446",
   "metadata": {
    "hidden": true
   },
   "outputs": [],
   "source": [
    "sr = SpatialReference(wkid=3857)"
   ]
  },
  {
   "cell_type": "code",
   "execution_count": 11,
   "id": "d17e4d79",
   "metadata": {
    "hidden": true
   },
   "outputs": [
    {
     "data": {
      "text/plain": [
       "'SpatialReference'"
      ]
     },
     "execution_count": 11,
     "metadata": {},
     "output_type": "execute_result"
    }
   ],
   "source": [
    "sr.type"
   ]
  },
  {
   "cell_type": "code",
   "execution_count": 12,
   "id": "46815063",
   "metadata": {
    "hidden": true
   },
   "outputs": [
    {
     "data": {
      "text/plain": [
       "{'wkid': 3857}"
      ]
     },
     "execution_count": 12,
     "metadata": {},
     "output_type": "execute_result"
    }
   ],
   "source": [
    "sr"
   ]
  },
  {
   "cell_type": "code",
   "execution_count": 13,
   "id": "a5b9a9aa",
   "metadata": {
    "hidden": true
   },
   "outputs": [
    {
     "data": {
      "text/plain": [
       "arcgis.geometry._types.SpatialReference"
      ]
     },
     "execution_count": 13,
     "metadata": {},
     "output_type": "execute_result"
    }
   ],
   "source": [
    "type(sr)"
   ]
  },
  {
   "cell_type": "code",
   "execution_count": 2,
   "id": "2f086713",
   "metadata": {
    "hidden": true
   },
   "outputs": [],
   "source": [
    "test_df = pd.DataFrame({\n",
    "    'foo': ['1', None],\n",
    "    'bar': ['a', 'b'],\n",
    "})\n"
   ]
  },
  {
   "cell_type": "code",
   "execution_count": 3,
   "id": "d12debbe",
   "metadata": {
    "hidden": true
   },
   "outputs": [
    {
     "data": {
      "text/html": [
       "<div>\n",
       "<style scoped>\n",
       "    .dataframe tbody tr th:only-of-type {\n",
       "        vertical-align: middle;\n",
       "    }\n",
       "\n",
       "    .dataframe tbody tr th {\n",
       "        vertical-align: top;\n",
       "    }\n",
       "\n",
       "    .dataframe thead th {\n",
       "        text-align: right;\n",
       "    }\n",
       "</style>\n",
       "<table border=\"1\" class=\"dataframe\">\n",
       "  <thead>\n",
       "    <tr style=\"text-align: right;\">\n",
       "      <th></th>\n",
       "      <th>foo</th>\n",
       "      <th>bar</th>\n",
       "    </tr>\n",
       "  </thead>\n",
       "  <tbody>\n",
       "    <tr>\n",
       "      <th>0</th>\n",
       "      <td>1</td>\n",
       "      <td>a</td>\n",
       "    </tr>\n",
       "    <tr>\n",
       "      <th>1</th>\n",
       "      <td>None</td>\n",
       "      <td>b</td>\n",
       "    </tr>\n",
       "  </tbody>\n",
       "</table>\n",
       "</div>"
      ],
      "text/plain": [
       "    foo bar\n",
       "0     1   a\n",
       "1  None   b"
      ]
     },
     "execution_count": 3,
     "metadata": {},
     "output_type": "execute_result"
    }
   ],
   "source": [
    "test_df"
   ]
  },
  {
   "cell_type": "code",
   "execution_count": 6,
   "id": "9fc45c37",
   "metadata": {
    "hidden": true
   },
   "outputs": [
    {
     "data": {
      "text/plain": [
       "0    1.0\n",
       "1    NaN\n",
       "Name: foo, dtype: float64"
      ]
     },
     "execution_count": 6,
     "metadata": {},
     "output_type": "execute_result"
    }
   ],
   "source": [
    "test_df['foo'].astype(float)"
   ]
  },
  {
   "cell_type": "code",
   "execution_count": 7,
   "id": "18c58170",
   "metadata": {
    "hidden": true
   },
   "outputs": [
    {
     "data": {
      "text/html": [
       "<div>\n",
       "<style scoped>\n",
       "    .dataframe tbody tr th:only-of-type {\n",
       "        vertical-align: middle;\n",
       "    }\n",
       "\n",
       "    .dataframe tbody tr th {\n",
       "        vertical-align: top;\n",
       "    }\n",
       "\n",
       "    .dataframe thead th {\n",
       "        text-align: right;\n",
       "    }\n",
       "</style>\n",
       "<table border=\"1\" class=\"dataframe\">\n",
       "  <thead>\n",
       "    <tr style=\"text-align: right;\">\n",
       "      <th></th>\n",
       "      <th>foo</th>\n",
       "      <th>bar</th>\n",
       "    </tr>\n",
       "  </thead>\n",
       "  <tbody>\n",
       "    <tr>\n",
       "      <th>0</th>\n",
       "      <td>1</td>\n",
       "      <td>a</td>\n",
       "    </tr>\n",
       "    <tr>\n",
       "      <th>1</th>\n",
       "      <td>None</td>\n",
       "      <td>b</td>\n",
       "    </tr>\n",
       "  </tbody>\n",
       "</table>\n",
       "</div>"
      ],
      "text/plain": [
       "    foo bar\n",
       "0     1   a\n",
       "1  None   b"
      ]
     },
     "execution_count": 7,
     "metadata": {},
     "output_type": "execute_result"
    }
   ],
   "source": [
    "test_df"
   ]
  },
  {
   "cell_type": "code",
   "execution_count": 10,
   "id": "9a1d3b10",
   "metadata": {
    "hidden": true
   },
   "outputs": [
    {
     "ename": "IntCastingNaNError",
     "evalue": "Cannot convert non-finite values (NA or inf) to integer",
     "output_type": "error",
     "traceback": [
      "\u001b[1;31m---------------------------------------------------------------------------\u001b[0m",
      "\u001b[1;31mIntCastingNaNError\u001b[0m                        Traceback (most recent call last)",
      "\u001b[1;32m<ipython-input-10-fb0bb55980a2>\u001b[0m in \u001b[0;36m<module>\u001b[1;34m\u001b[0m\n\u001b[1;32m----> 1\u001b[1;33m \u001b[0mtest_df\u001b[0m\u001b[1;33m[\u001b[0m\u001b[1;34m'foo'\u001b[0m\u001b[1;33m]\u001b[0m \u001b[1;33m=\u001b[0m \u001b[0mtest_df\u001b[0m\u001b[1;33m[\u001b[0m\u001b[1;34m'foo'\u001b[0m\u001b[1;33m]\u001b[0m\u001b[1;33m.\u001b[0m\u001b[0mastype\u001b[0m\u001b[1;33m(\u001b[0m\u001b[0mint\u001b[0m\u001b[1;33m)\u001b[0m\u001b[1;33m\u001b[0m\u001b[1;33m\u001b[0m\u001b[0m\n\u001b[0m",
      "\u001b[1;32m~\\Miniconda3\\envs\\housing\\lib\\site-packages\\pandas\\core\\generic.py\u001b[0m in \u001b[0;36mastype\u001b[1;34m(self, dtype, copy, errors)\u001b[0m\n\u001b[0;32m   5813\u001b[0m         \u001b[1;32melse\u001b[0m\u001b[1;33m:\u001b[0m\u001b[1;33m\u001b[0m\u001b[1;33m\u001b[0m\u001b[0m\n\u001b[0;32m   5814\u001b[0m             \u001b[1;31m# else, only a single dtype is given\u001b[0m\u001b[1;33m\u001b[0m\u001b[1;33m\u001b[0m\u001b[1;33m\u001b[0m\u001b[0m\n\u001b[1;32m-> 5815\u001b[1;33m             \u001b[0mnew_data\u001b[0m \u001b[1;33m=\u001b[0m \u001b[0mself\u001b[0m\u001b[1;33m.\u001b[0m\u001b[0m_mgr\u001b[0m\u001b[1;33m.\u001b[0m\u001b[0mastype\u001b[0m\u001b[1;33m(\u001b[0m\u001b[0mdtype\u001b[0m\u001b[1;33m=\u001b[0m\u001b[0mdtype\u001b[0m\u001b[1;33m,\u001b[0m \u001b[0mcopy\u001b[0m\u001b[1;33m=\u001b[0m\u001b[0mcopy\u001b[0m\u001b[1;33m,\u001b[0m \u001b[0merrors\u001b[0m\u001b[1;33m=\u001b[0m\u001b[0merrors\u001b[0m\u001b[1;33m)\u001b[0m\u001b[1;33m\u001b[0m\u001b[1;33m\u001b[0m\u001b[0m\n\u001b[0m\u001b[0;32m   5816\u001b[0m             \u001b[1;32mreturn\u001b[0m \u001b[0mself\u001b[0m\u001b[1;33m.\u001b[0m\u001b[0m_constructor\u001b[0m\u001b[1;33m(\u001b[0m\u001b[0mnew_data\u001b[0m\u001b[1;33m)\u001b[0m\u001b[1;33m.\u001b[0m\u001b[0m__finalize__\u001b[0m\u001b[1;33m(\u001b[0m\u001b[0mself\u001b[0m\u001b[1;33m,\u001b[0m \u001b[0mmethod\u001b[0m\u001b[1;33m=\u001b[0m\u001b[1;34m\"astype\"\u001b[0m\u001b[1;33m)\u001b[0m\u001b[1;33m\u001b[0m\u001b[1;33m\u001b[0m\u001b[0m\n\u001b[0;32m   5817\u001b[0m \u001b[1;33m\u001b[0m\u001b[0m\n",
      "\u001b[1;32m~\\Miniconda3\\envs\\housing\\lib\\site-packages\\pandas\\core\\internals\\managers.py\u001b[0m in \u001b[0;36mastype\u001b[1;34m(self, dtype, copy, errors)\u001b[0m\n\u001b[0;32m    416\u001b[0m \u001b[1;33m\u001b[0m\u001b[0m\n\u001b[0;32m    417\u001b[0m     \u001b[1;32mdef\u001b[0m \u001b[0mastype\u001b[0m\u001b[1;33m(\u001b[0m\u001b[0mself\u001b[0m\u001b[1;33m:\u001b[0m \u001b[0mT\u001b[0m\u001b[1;33m,\u001b[0m \u001b[0mdtype\u001b[0m\u001b[1;33m,\u001b[0m \u001b[0mcopy\u001b[0m\u001b[1;33m:\u001b[0m \u001b[0mbool\u001b[0m \u001b[1;33m=\u001b[0m \u001b[1;32mFalse\u001b[0m\u001b[1;33m,\u001b[0m \u001b[0merrors\u001b[0m\u001b[1;33m:\u001b[0m \u001b[0mstr\u001b[0m \u001b[1;33m=\u001b[0m \u001b[1;34m\"raise\"\u001b[0m\u001b[1;33m)\u001b[0m \u001b[1;33m->\u001b[0m \u001b[0mT\u001b[0m\u001b[1;33m:\u001b[0m\u001b[1;33m\u001b[0m\u001b[1;33m\u001b[0m\u001b[0m\n\u001b[1;32m--> 418\u001b[1;33m         \u001b[1;32mreturn\u001b[0m \u001b[0mself\u001b[0m\u001b[1;33m.\u001b[0m\u001b[0mapply\u001b[0m\u001b[1;33m(\u001b[0m\u001b[1;34m\"astype\"\u001b[0m\u001b[1;33m,\u001b[0m \u001b[0mdtype\u001b[0m\u001b[1;33m=\u001b[0m\u001b[0mdtype\u001b[0m\u001b[1;33m,\u001b[0m \u001b[0mcopy\u001b[0m\u001b[1;33m=\u001b[0m\u001b[0mcopy\u001b[0m\u001b[1;33m,\u001b[0m \u001b[0merrors\u001b[0m\u001b[1;33m=\u001b[0m\u001b[0merrors\u001b[0m\u001b[1;33m)\u001b[0m\u001b[1;33m\u001b[0m\u001b[1;33m\u001b[0m\u001b[0m\n\u001b[0m\u001b[0;32m    419\u001b[0m \u001b[1;33m\u001b[0m\u001b[0m\n\u001b[0;32m    420\u001b[0m     def convert(\n",
      "\u001b[1;32m~\\Miniconda3\\envs\\housing\\lib\\site-packages\\pandas\\core\\internals\\managers.py\u001b[0m in \u001b[0;36mapply\u001b[1;34m(self, f, align_keys, ignore_failures, **kwargs)\u001b[0m\n\u001b[0;32m    325\u001b[0m                     \u001b[0mapplied\u001b[0m \u001b[1;33m=\u001b[0m \u001b[0mb\u001b[0m\u001b[1;33m.\u001b[0m\u001b[0mapply\u001b[0m\u001b[1;33m(\u001b[0m\u001b[0mf\u001b[0m\u001b[1;33m,\u001b[0m \u001b[1;33m**\u001b[0m\u001b[0mkwargs\u001b[0m\u001b[1;33m)\u001b[0m\u001b[1;33m\u001b[0m\u001b[1;33m\u001b[0m\u001b[0m\n\u001b[0;32m    326\u001b[0m                 \u001b[1;32melse\u001b[0m\u001b[1;33m:\u001b[0m\u001b[1;33m\u001b[0m\u001b[1;33m\u001b[0m\u001b[0m\n\u001b[1;32m--> 327\u001b[1;33m                     \u001b[0mapplied\u001b[0m \u001b[1;33m=\u001b[0m \u001b[0mgetattr\u001b[0m\u001b[1;33m(\u001b[0m\u001b[0mb\u001b[0m\u001b[1;33m,\u001b[0m \u001b[0mf\u001b[0m\u001b[1;33m)\u001b[0m\u001b[1;33m(\u001b[0m\u001b[1;33m**\u001b[0m\u001b[0mkwargs\u001b[0m\u001b[1;33m)\u001b[0m\u001b[1;33m\u001b[0m\u001b[1;33m\u001b[0m\u001b[0m\n\u001b[0m\u001b[0;32m    328\u001b[0m             \u001b[1;32mexcept\u001b[0m \u001b[1;33m(\u001b[0m\u001b[0mTypeError\u001b[0m\u001b[1;33m,\u001b[0m \u001b[0mNotImplementedError\u001b[0m\u001b[1;33m)\u001b[0m\u001b[1;33m:\u001b[0m\u001b[1;33m\u001b[0m\u001b[1;33m\u001b[0m\u001b[0m\n\u001b[0;32m    329\u001b[0m                 \u001b[1;32mif\u001b[0m \u001b[1;32mnot\u001b[0m \u001b[0mignore_failures\u001b[0m\u001b[1;33m:\u001b[0m\u001b[1;33m\u001b[0m\u001b[1;33m\u001b[0m\u001b[0m\n",
      "\u001b[1;32m~\\Miniconda3\\envs\\housing\\lib\\site-packages\\pandas\\core\\internals\\blocks.py\u001b[0m in \u001b[0;36mastype\u001b[1;34m(self, dtype, copy, errors)\u001b[0m\n\u001b[0;32m    589\u001b[0m         \u001b[0mvalues\u001b[0m \u001b[1;33m=\u001b[0m \u001b[0mself\u001b[0m\u001b[1;33m.\u001b[0m\u001b[0mvalues\u001b[0m\u001b[1;33m\u001b[0m\u001b[1;33m\u001b[0m\u001b[0m\n\u001b[0;32m    590\u001b[0m \u001b[1;33m\u001b[0m\u001b[0m\n\u001b[1;32m--> 591\u001b[1;33m         \u001b[0mnew_values\u001b[0m \u001b[1;33m=\u001b[0m \u001b[0mastype_array_safe\u001b[0m\u001b[1;33m(\u001b[0m\u001b[0mvalues\u001b[0m\u001b[1;33m,\u001b[0m \u001b[0mdtype\u001b[0m\u001b[1;33m,\u001b[0m \u001b[0mcopy\u001b[0m\u001b[1;33m=\u001b[0m\u001b[0mcopy\u001b[0m\u001b[1;33m,\u001b[0m \u001b[0merrors\u001b[0m\u001b[1;33m=\u001b[0m\u001b[0merrors\u001b[0m\u001b[1;33m)\u001b[0m\u001b[1;33m\u001b[0m\u001b[1;33m\u001b[0m\u001b[0m\n\u001b[0m\u001b[0;32m    592\u001b[0m \u001b[1;33m\u001b[0m\u001b[0m\n\u001b[0;32m    593\u001b[0m         \u001b[0mnew_values\u001b[0m \u001b[1;33m=\u001b[0m \u001b[0mmaybe_coerce_values\u001b[0m\u001b[1;33m(\u001b[0m\u001b[0mnew_values\u001b[0m\u001b[1;33m)\u001b[0m\u001b[1;33m\u001b[0m\u001b[1;33m\u001b[0m\u001b[0m\n",
      "\u001b[1;32m~\\Miniconda3\\envs\\housing\\lib\\site-packages\\pandas\\core\\dtypes\\cast.py\u001b[0m in \u001b[0;36mastype_array_safe\u001b[1;34m(values, dtype, copy, errors)\u001b[0m\n\u001b[0;32m   1307\u001b[0m \u001b[1;33m\u001b[0m\u001b[0m\n\u001b[0;32m   1308\u001b[0m     \u001b[1;32mtry\u001b[0m\u001b[1;33m:\u001b[0m\u001b[1;33m\u001b[0m\u001b[1;33m\u001b[0m\u001b[0m\n\u001b[1;32m-> 1309\u001b[1;33m         \u001b[0mnew_values\u001b[0m \u001b[1;33m=\u001b[0m \u001b[0mastype_array\u001b[0m\u001b[1;33m(\u001b[0m\u001b[0mvalues\u001b[0m\u001b[1;33m,\u001b[0m \u001b[0mdtype\u001b[0m\u001b[1;33m,\u001b[0m \u001b[0mcopy\u001b[0m\u001b[1;33m=\u001b[0m\u001b[0mcopy\u001b[0m\u001b[1;33m)\u001b[0m\u001b[1;33m\u001b[0m\u001b[1;33m\u001b[0m\u001b[0m\n\u001b[0m\u001b[0;32m   1310\u001b[0m     \u001b[1;32mexcept\u001b[0m \u001b[1;33m(\u001b[0m\u001b[0mValueError\u001b[0m\u001b[1;33m,\u001b[0m \u001b[0mTypeError\u001b[0m\u001b[1;33m)\u001b[0m\u001b[1;33m:\u001b[0m\u001b[1;33m\u001b[0m\u001b[1;33m\u001b[0m\u001b[0m\n\u001b[0;32m   1311\u001b[0m         \u001b[1;31m# e.g. astype_nansafe can fail on object-dtype of strings\u001b[0m\u001b[1;33m\u001b[0m\u001b[1;33m\u001b[0m\u001b[1;33m\u001b[0m\u001b[0m\n",
      "\u001b[1;32m~\\Miniconda3\\envs\\housing\\lib\\site-packages\\pandas\\core\\dtypes\\cast.py\u001b[0m in \u001b[0;36mastype_array\u001b[1;34m(values, dtype, copy)\u001b[0m\n\u001b[0;32m   1255\u001b[0m \u001b[1;33m\u001b[0m\u001b[0m\n\u001b[0;32m   1256\u001b[0m     \u001b[1;32melse\u001b[0m\u001b[1;33m:\u001b[0m\u001b[1;33m\u001b[0m\u001b[1;33m\u001b[0m\u001b[0m\n\u001b[1;32m-> 1257\u001b[1;33m         \u001b[0mvalues\u001b[0m \u001b[1;33m=\u001b[0m \u001b[0mastype_nansafe\u001b[0m\u001b[1;33m(\u001b[0m\u001b[0mvalues\u001b[0m\u001b[1;33m,\u001b[0m \u001b[0mdtype\u001b[0m\u001b[1;33m,\u001b[0m \u001b[0mcopy\u001b[0m\u001b[1;33m=\u001b[0m\u001b[0mcopy\u001b[0m\u001b[1;33m)\u001b[0m\u001b[1;33m\u001b[0m\u001b[1;33m\u001b[0m\u001b[0m\n\u001b[0m\u001b[0;32m   1258\u001b[0m \u001b[1;33m\u001b[0m\u001b[0m\n\u001b[0;32m   1259\u001b[0m     \u001b[1;31m# in pandas we don't store numpy str dtypes, so convert to object\u001b[0m\u001b[1;33m\u001b[0m\u001b[1;33m\u001b[0m\u001b[1;33m\u001b[0m\u001b[0m\n",
      "\u001b[1;32m~\\Miniconda3\\envs\\housing\\lib\\site-packages\\pandas\\core\\dtypes\\cast.py\u001b[0m in \u001b[0;36mastype_nansafe\u001b[1;34m(arr, dtype, copy, skipna)\u001b[0m\n\u001b[0;32m   1166\u001b[0m \u001b[1;33m\u001b[0m\u001b[0m\n\u001b[0;32m   1167\u001b[0m     \u001b[1;32melif\u001b[0m \u001b[0mnp\u001b[0m\u001b[1;33m.\u001b[0m\u001b[0missubdtype\u001b[0m\u001b[1;33m(\u001b[0m\u001b[0marr\u001b[0m\u001b[1;33m.\u001b[0m\u001b[0mdtype\u001b[0m\u001b[1;33m,\u001b[0m \u001b[0mnp\u001b[0m\u001b[1;33m.\u001b[0m\u001b[0mfloating\u001b[0m\u001b[1;33m)\u001b[0m \u001b[1;32mand\u001b[0m \u001b[0mnp\u001b[0m\u001b[1;33m.\u001b[0m\u001b[0missubdtype\u001b[0m\u001b[1;33m(\u001b[0m\u001b[0mdtype\u001b[0m\u001b[1;33m,\u001b[0m \u001b[0mnp\u001b[0m\u001b[1;33m.\u001b[0m\u001b[0minteger\u001b[0m\u001b[1;33m)\u001b[0m\u001b[1;33m:\u001b[0m\u001b[1;33m\u001b[0m\u001b[1;33m\u001b[0m\u001b[0m\n\u001b[1;32m-> 1168\u001b[1;33m         \u001b[1;32mreturn\u001b[0m \u001b[0mastype_float_to_int_nansafe\u001b[0m\u001b[1;33m(\u001b[0m\u001b[0marr\u001b[0m\u001b[1;33m,\u001b[0m \u001b[0mdtype\u001b[0m\u001b[1;33m,\u001b[0m \u001b[0mcopy\u001b[0m\u001b[1;33m)\u001b[0m\u001b[1;33m\u001b[0m\u001b[1;33m\u001b[0m\u001b[0m\n\u001b[0m\u001b[0;32m   1169\u001b[0m \u001b[1;33m\u001b[0m\u001b[0m\n\u001b[0;32m   1170\u001b[0m     \u001b[1;32melif\u001b[0m \u001b[0mis_object_dtype\u001b[0m\u001b[1;33m(\u001b[0m\u001b[0marr\u001b[0m\u001b[1;33m)\u001b[0m\u001b[1;33m:\u001b[0m\u001b[1;33m\u001b[0m\u001b[1;33m\u001b[0m\u001b[0m\n",
      "\u001b[1;32m~\\Miniconda3\\envs\\housing\\lib\\site-packages\\pandas\\core\\dtypes\\cast.py\u001b[0m in \u001b[0;36mastype_float_to_int_nansafe\u001b[1;34m(values, dtype, copy)\u001b[0m\n\u001b[0;32m   1212\u001b[0m     \u001b[1;32mif\u001b[0m \u001b[1;32mnot\u001b[0m \u001b[0mnp\u001b[0m\u001b[1;33m.\u001b[0m\u001b[0misfinite\u001b[0m\u001b[1;33m(\u001b[0m\u001b[0mvalues\u001b[0m\u001b[1;33m)\u001b[0m\u001b[1;33m.\u001b[0m\u001b[0mall\u001b[0m\u001b[1;33m(\u001b[0m\u001b[1;33m)\u001b[0m\u001b[1;33m:\u001b[0m\u001b[1;33m\u001b[0m\u001b[1;33m\u001b[0m\u001b[0m\n\u001b[0;32m   1213\u001b[0m         raise IntCastingNaNError(\n\u001b[1;32m-> 1214\u001b[1;33m             \u001b[1;34m\"Cannot convert non-finite values (NA or inf) to integer\"\u001b[0m\u001b[1;33m\u001b[0m\u001b[1;33m\u001b[0m\u001b[0m\n\u001b[0m\u001b[0;32m   1215\u001b[0m         )\n\u001b[0;32m   1216\u001b[0m     \u001b[1;32mreturn\u001b[0m \u001b[0mvalues\u001b[0m\u001b[1;33m.\u001b[0m\u001b[0mastype\u001b[0m\u001b[1;33m(\u001b[0m\u001b[0mdtype\u001b[0m\u001b[1;33m,\u001b[0m \u001b[0mcopy\u001b[0m\u001b[1;33m=\u001b[0m\u001b[0mcopy\u001b[0m\u001b[1;33m)\u001b[0m\u001b[1;33m\u001b[0m\u001b[1;33m\u001b[0m\u001b[0m\n",
      "\u001b[1;31mIntCastingNaNError\u001b[0m: Cannot convert non-finite values (NA or inf) to integer"
     ]
    }
   ],
   "source": [
    "test_df['foo'] = test_df['foo'].astype(int)"
   ]
  },
  {
   "cell_type": "code",
   "execution_count": 9,
   "id": "72ebfb85",
   "metadata": {
    "hidden": true
   },
   "outputs": [
    {
     "data": {
      "text/html": [
       "<div>\n",
       "<style scoped>\n",
       "    .dataframe tbody tr th:only-of-type {\n",
       "        vertical-align: middle;\n",
       "    }\n",
       "\n",
       "    .dataframe tbody tr th {\n",
       "        vertical-align: top;\n",
       "    }\n",
       "\n",
       "    .dataframe thead th {\n",
       "        text-align: right;\n",
       "    }\n",
       "</style>\n",
       "<table border=\"1\" class=\"dataframe\">\n",
       "  <thead>\n",
       "    <tr style=\"text-align: right;\">\n",
       "      <th></th>\n",
       "      <th>foo</th>\n",
       "      <th>bar</th>\n",
       "    </tr>\n",
       "  </thead>\n",
       "  <tbody>\n",
       "    <tr>\n",
       "      <th>0</th>\n",
       "      <td>1.0</td>\n",
       "      <td>a</td>\n",
       "    </tr>\n",
       "    <tr>\n",
       "      <th>1</th>\n",
       "      <td>NaN</td>\n",
       "      <td>b</td>\n",
       "    </tr>\n",
       "  </tbody>\n",
       "</table>\n",
       "</div>"
      ],
      "text/plain": [
       "   foo bar\n",
       "0  1.0   a\n",
       "1  NaN   b"
      ]
     },
     "execution_count": 9,
     "metadata": {},
     "output_type": "execute_result"
    }
   ],
   "source": [
    "test_df"
   ]
  },
  {
   "cell_type": "code",
   "execution_count": 2,
   "id": "d749cde3",
   "metadata": {
    "hidden": true
   },
   "outputs": [
    {
     "data": {
      "text/html": [
       "<div>\n",
       "<style scoped>\n",
       "    .dataframe tbody tr th:only-of-type {\n",
       "        vertical-align: middle;\n",
       "    }\n",
       "\n",
       "    .dataframe tbody tr th {\n",
       "        vertical-align: top;\n",
       "    }\n",
       "\n",
       "    .dataframe thead th {\n",
       "        text-align: right;\n",
       "    }\n",
       "</style>\n",
       "<table border=\"1\" class=\"dataframe\">\n",
       "  <thead>\n",
       "    <tr style=\"text-align: right;\">\n",
       "      <th></th>\n",
       "      <th>one</th>\n",
       "      <th>two</th>\n",
       "      <th>three</th>\n",
       "    </tr>\n",
       "  </thead>\n",
       "  <tbody>\n",
       "    <tr>\n",
       "      <th>0</th>\n",
       "      <td>NaN</td>\n",
       "      <td>3.0</td>\n",
       "      <td>6.0</td>\n",
       "    </tr>\n",
       "    <tr>\n",
       "      <th>1</th>\n",
       "      <td>1.0</td>\n",
       "      <td>NaN</td>\n",
       "      <td>7.0</td>\n",
       "    </tr>\n",
       "    <tr>\n",
       "      <th>2</th>\n",
       "      <td>2.0</td>\n",
       "      <td>5.0</td>\n",
       "      <td>NaN</td>\n",
       "    </tr>\n",
       "  </tbody>\n",
       "</table>\n",
       "</div>"
      ],
      "text/plain": [
       "   one  two  three\n",
       "0  NaN  3.0    6.0\n",
       "1  1.0  NaN    7.0\n",
       "2  2.0  5.0    NaN"
      ]
     },
     "execution_count": 2,
     "metadata": {},
     "output_type": "execute_result"
    }
   ],
   "source": [
    "test_df = pd.DataFrame({\n",
    "    'one': [np.nan, 1, 2],\n",
    "    'two': [3, np.nan, 5],\n",
    "    'three': [6, 7, np.nan],\n",
    "})\n",
    "test_df"
   ]
  },
  {
   "cell_type": "code",
   "execution_count": 3,
   "id": "2c260153",
   "metadata": {
    "hidden": true
   },
   "outputs": [
    {
     "data": {
      "text/html": [
       "<div>\n",
       "<style scoped>\n",
       "    .dataframe tbody tr th:only-of-type {\n",
       "        vertical-align: middle;\n",
       "    }\n",
       "\n",
       "    .dataframe tbody tr th {\n",
       "        vertical-align: top;\n",
       "    }\n",
       "\n",
       "    .dataframe thead th {\n",
       "        text-align: right;\n",
       "    }\n",
       "</style>\n",
       "<table border=\"1\" class=\"dataframe\">\n",
       "  <thead>\n",
       "    <tr style=\"text-align: right;\">\n",
       "      <th></th>\n",
       "      <th>one</th>\n",
       "      <th>two</th>\n",
       "      <th>three</th>\n",
       "    </tr>\n",
       "  </thead>\n",
       "  <tbody>\n",
       "    <tr>\n",
       "      <th>0</th>\n",
       "      <td>0.0</td>\n",
       "      <td>3.0</td>\n",
       "      <td>6.0</td>\n",
       "    </tr>\n",
       "    <tr>\n",
       "      <th>1</th>\n",
       "      <td>1.0</td>\n",
       "      <td>0.0</td>\n",
       "      <td>7.0</td>\n",
       "    </tr>\n",
       "    <tr>\n",
       "      <th>2</th>\n",
       "      <td>2.0</td>\n",
       "      <td>5.0</td>\n",
       "      <td>NaN</td>\n",
       "    </tr>\n",
       "  </tbody>\n",
       "</table>\n",
       "</div>"
      ],
      "text/plain": [
       "   one  two  three\n",
       "0  0.0  3.0    6.0\n",
       "1  1.0  0.0    7.0\n",
       "2  2.0  5.0    NaN"
      ]
     },
     "execution_count": 3,
     "metadata": {},
     "output_type": "execute_result"
    }
   ],
   "source": [
    "test_df.fillna({'one': 0, 'two':0})"
   ]
  },
  {
   "cell_type": "markdown",
   "id": "0bf6d64e",
   "metadata": {
    "heading_collapsed": true
   },
   "source": [
    "# Calculate areas"
   ]
  },
  {
   "cell_type": "code",
   "execution_count": 3,
   "id": "595d33c1",
   "metadata": {
    "hidden": true
   },
   "outputs": [],
   "source": [
    "parcels_fc = Path(r'c:\\gis\\projects\\housinginventory\\housinginventory.gdb\\davis_test_parcels')\n"
   ]
  },
  {
   "cell_type": "code",
   "execution_count": 4,
   "id": "c9b620d3",
   "metadata": {
    "hidden": true
   },
   "outputs": [],
   "source": [
    "parcels_df = pd.DataFrame.spatial.from_featureclass(parcels_fc)"
   ]
  },
  {
   "cell_type": "code",
   "execution_count": 5,
   "id": "4e6cc3c8",
   "metadata": {
    "hidden": true
   },
   "outputs": [
    {
     "name": "stdout",
     "output_type": "stream",
     "text": [
      "<class 'pandas.core.frame.DataFrame'>\n",
      "RangeIndex: 2021 entries, 0 to 2020\n",
      "Data columns (total 30 columns):\n",
      " #   Column           Non-Null Count  Dtype         \n",
      "---  ------           --------------  -----         \n",
      " 0   OBJECTID         2021 non-null   int64         \n",
      " 1   COUNTY_NAME      2021 non-null   object        \n",
      " 2   COUNTY_ID        2021 non-null   object        \n",
      " 3   ASSESSOR_SRC     2021 non-null   object        \n",
      " 4   BOUNDARY_SRC     2021 non-null   object        \n",
      " 5   DISCLAIMER       2021 non-null   object        \n",
      " 6   CURRENT_ASOF     2021 non-null   datetime64[ns]\n",
      " 7   PARCEL_ID        2015 non-null   object        \n",
      " 8   SERIAL_NUM       0 non-null      object        \n",
      " 9   PARCEL_ADD       2021 non-null   object        \n",
      " 10  PARCEL_CITY      2015 non-null   object        \n",
      " 11  TAXEXEMPT_TYPE   2000 non-null   object        \n",
      " 12  TAX_DISTRICT     2015 non-null   object        \n",
      " 13  TOTAL_MKT_VALUE  2015 non-null   float64       \n",
      " 14  LAND_MKT_VALUE   2015 non-null   float64       \n",
      " 15  PARCEL_ACRES     2015 non-null   float64       \n",
      " 16  PROP_CLASS       2021 non-null   object        \n",
      " 17  PRIMARY_RES      2015 non-null   object        \n",
      " 18  HOUSE_CNT        1866 non-null   object        \n",
      " 19  SUBDIV_NAME      0 non-null      object        \n",
      " 20  BLDG_SQFT        2021 non-null   float64       \n",
      " 21  BLDG_SQFT_INFO   2015 non-null   object        \n",
      " 22  FLOORS_CNT       2021 non-null   float64       \n",
      " 23  FLOORS_INFO      2015 non-null   object        \n",
      " 24  BUILT_YR         1900 non-null   float64       \n",
      " 25  EFFBUILT_YR      0 non-null      object        \n",
      " 26  CONST_MATERIAL   0 non-null      object        \n",
      " 27  x                2021 non-null   float64       \n",
      " 28  y                2021 non-null   float64       \n",
      " 29  SHAPE            2021 non-null   geometry      \n",
      "dtypes: datetime64[ns](1), float64(8), geometry(1), int64(1), object(19)\n",
      "memory usage: 473.8+ KB\n"
     ]
    }
   ],
   "source": [
    "parcels_df.info()"
   ]
  },
  {
   "cell_type": "code",
   "execution_count": 8,
   "id": "df7b43f4",
   "metadata": {
    "hidden": true
   },
   "outputs": [
    {
     "name": "stdout",
     "output_type": "stream",
     "text": [
      "14.3 ms ± 446 µs per loop (mean ± std. dev. of 7 runs, 100 loops each)\n"
     ]
    }
   ],
   "source": [
    "%%timeit\n",
    "parcels_df['SHAPE'].apply(\n",
    "    lambda shape: shape.area / 4046.86 \n",
    ")"
   ]
  },
  {
   "cell_type": "code",
   "execution_count": 9,
   "id": "8ad803f6",
   "metadata": {
    "hidden": true
   },
   "outputs": [
    {
     "name": "stdout",
     "output_type": "stream",
     "text": [
      "137 ms ± 1.59 ms per loop (mean ± std. dev. of 7 runs, 10 loops each)\n"
     ]
    }
   ],
   "source": [
    "%%timeit\n",
    "parcels_df['SHAPE'].apply(\n",
    "    lambda shape: shape.get_area('PLANAR', 'ACRES')\n",
    ")"
   ]
  },
  {
   "cell_type": "code",
   "execution_count": 24,
   "id": "689fb615",
   "metadata": {
    "hidden": true
   },
   "outputs": [
    {
     "data": {
      "text/plain": [
       "2.250000000299451e-06"
      ]
     },
     "execution_count": 24,
     "metadata": {},
     "output_type": "execute_result"
    }
   ],
   "source": [
    "test_geo = Geometry({\n",
    "    \"rings\" : [[[-97.06138,32.837],[-97.06133,32.836],[-97.06124,32.834],[-97.06127,32.832],\n",
    "              [-97.06138,32.837]],[[-97.06326,32.759],[-97.06298,32.755],[-97.06153,32.749],\n",
    "              [-97.06326,32.759]]],\n",
    "    \"spatialReference\" : {\"wkid\" : 4326}\n",
    "                })\n",
    "test_geo.get_area('PLANAR')"
   ]
  },
  {
   "cell_type": "code",
   "execution_count": 27,
   "id": "86be1700",
   "metadata": {
    "hidden": true
   },
   "outputs": [],
   "source": [
    "Geometry.get_area?"
   ]
  },
  {
   "cell_type": "code",
   "execution_count": 10,
   "id": "9562ef5e",
   "metadata": {
    "hidden": true
   },
   "outputs": [
    {
     "data": {
      "text/plain": [
       "{'wkid': 26912, 'latestWkid': 26912}"
      ]
     },
     "execution_count": 10,
     "metadata": {},
     "output_type": "execute_result"
    }
   ],
   "source": [
    "parcels_df.spatial.sr"
   ]
  },
  {
   "cell_type": "markdown",
   "id": "27f8c8e9",
   "metadata": {
    "heading_collapsed": true
   },
   "source": [
    "# Dissolve by df"
   ]
  },
  {
   "cell_type": "code",
   "execution_count": 2,
   "id": "b0b816da",
   "metadata": {
    "hidden": true
   },
   "outputs": [],
   "source": [
    "parcels_fc = Path(r'c:\\gis\\projects\\housinginventory\\housinginventory.gdb\\davis_test_parcels')\n",
    "parcels_df = pd.DataFrame.spatial.from_featureclass(parcels_fc)\n",
    "pd.set_option(\"display.max_columns\", None)"
   ]
  },
  {
   "cell_type": "code",
   "execution_count": 3,
   "id": "67db6bc8",
   "metadata": {
    "hidden": true
   },
   "outputs": [],
   "source": [
    "dups = parcels_df[parcels_df['PARCEL_ID'].duplicated(keep=False)]"
   ]
  },
  {
   "cell_type": "code",
   "execution_count": 4,
   "id": "cbcecb81",
   "metadata": {
    "hidden": true
   },
   "outputs": [
    {
     "data": {
      "text/html": [
       "<div>\n",
       "<style scoped>\n",
       "    .dataframe tbody tr th:only-of-type {\n",
       "        vertical-align: middle;\n",
       "    }\n",
       "\n",
       "    .dataframe tbody tr th {\n",
       "        vertical-align: top;\n",
       "    }\n",
       "\n",
       "    .dataframe thead th {\n",
       "        text-align: right;\n",
       "    }\n",
       "</style>\n",
       "<table border=\"1\" class=\"dataframe\">\n",
       "  <thead>\n",
       "    <tr style=\"text-align: right;\">\n",
       "      <th></th>\n",
       "      <th>OBJECTID</th>\n",
       "      <th>COUNTY_NAME</th>\n",
       "      <th>COUNTY_ID</th>\n",
       "      <th>ASSESSOR_SRC</th>\n",
       "      <th>BOUNDARY_SRC</th>\n",
       "      <th>DISCLAIMER</th>\n",
       "      <th>CURRENT_ASOF</th>\n",
       "      <th>PARCEL_ID</th>\n",
       "      <th>SERIAL_NUM</th>\n",
       "      <th>PARCEL_ADD</th>\n",
       "      <th>PARCEL_CITY</th>\n",
       "      <th>TAXEXEMPT_TYPE</th>\n",
       "      <th>TAX_DISTRICT</th>\n",
       "      <th>TOTAL_MKT_VALUE</th>\n",
       "      <th>LAND_MKT_VALUE</th>\n",
       "      <th>PARCEL_ACRES</th>\n",
       "      <th>PROP_CLASS</th>\n",
       "      <th>PRIMARY_RES</th>\n",
       "      <th>HOUSE_CNT</th>\n",
       "      <th>SUBDIV_NAME</th>\n",
       "      <th>BLDG_SQFT</th>\n",
       "      <th>BLDG_SQFT_INFO</th>\n",
       "      <th>FLOORS_CNT</th>\n",
       "      <th>FLOORS_INFO</th>\n",
       "      <th>BUILT_YR</th>\n",
       "      <th>EFFBUILT_YR</th>\n",
       "      <th>CONST_MATERIAL</th>\n",
       "      <th>x</th>\n",
       "      <th>y</th>\n",
       "      <th>SHAPE</th>\n",
       "    </tr>\n",
       "  </thead>\n",
       "  <tbody>\n",
       "    <tr>\n",
       "      <th>972</th>\n",
       "      <td>973</td>\n",
       "      <td>Davis</td>\n",
       "      <td>6</td>\n",
       "      <td>www.co.davis.ut.us/assessor/</td>\n",
       "      <td>www.co.davis.ut.us/recorder/</td>\n",
       "      <td>http://www.utah.gov/disclaimer.html</td>\n",
       "      <td>2020-07-20</td>\n",
       "      <td>None</td>\n",
       "      <td>None</td>\n",
       "      <td></td>\n",
       "      <td>None</td>\n",
       "      <td>None</td>\n",
       "      <td>None</td>\n",
       "      <td>NaN</td>\n",
       "      <td>NaN</td>\n",
       "      <td>NaN</td>\n",
       "      <td></td>\n",
       "      <td>None</td>\n",
       "      <td>None</td>\n",
       "      <td>None</td>\n",
       "      <td>0.0</td>\n",
       "      <td>None</td>\n",
       "      <td>0.0</td>\n",
       "      <td>None</td>\n",
       "      <td>NaN</td>\n",
       "      <td>None</td>\n",
       "      <td>None</td>\n",
       "      <td>419268.28125</td>\n",
       "      <td>4547542.0</td>\n",
       "      <td>{\"rings\": [[[419253.0332000004, 4547543.087200...</td>\n",
       "    </tr>\n",
       "    <tr>\n",
       "      <th>994</th>\n",
       "      <td>995</td>\n",
       "      <td>Davis</td>\n",
       "      <td>6</td>\n",
       "      <td>www.co.davis.ut.us/assessor/</td>\n",
       "      <td>www.co.davis.ut.us/recorder/</td>\n",
       "      <td>http://www.utah.gov/disclaimer.html</td>\n",
       "      <td>2020-07-20</td>\n",
       "      <td>None</td>\n",
       "      <td>None</td>\n",
       "      <td></td>\n",
       "      <td>None</td>\n",
       "      <td>None</td>\n",
       "      <td>None</td>\n",
       "      <td>NaN</td>\n",
       "      <td>NaN</td>\n",
       "      <td>NaN</td>\n",
       "      <td></td>\n",
       "      <td>None</td>\n",
       "      <td>None</td>\n",
       "      <td>None</td>\n",
       "      <td>0.0</td>\n",
       "      <td>None</td>\n",
       "      <td>0.0</td>\n",
       "      <td>None</td>\n",
       "      <td>NaN</td>\n",
       "      <td>None</td>\n",
       "      <td>None</td>\n",
       "      <td>419947.37500</td>\n",
       "      <td>4548097.5</td>\n",
       "      <td>{\"rings\": [[[419948.81099999975, 4548099.5275]...</td>\n",
       "    </tr>\n",
       "    <tr>\n",
       "      <th>1151</th>\n",
       "      <td>1152</td>\n",
       "      <td>Davis</td>\n",
       "      <td>6</td>\n",
       "      <td>www.co.davis.ut.us/assessor/</td>\n",
       "      <td>www.co.davis.ut.us/recorder/</td>\n",
       "      <td>http://www.utah.gov/disclaimer.html</td>\n",
       "      <td>2020-07-20</td>\n",
       "      <td>None</td>\n",
       "      <td>None</td>\n",
       "      <td></td>\n",
       "      <td>None</td>\n",
       "      <td>None</td>\n",
       "      <td>None</td>\n",
       "      <td>NaN</td>\n",
       "      <td>NaN</td>\n",
       "      <td>NaN</td>\n",
       "      <td></td>\n",
       "      <td>None</td>\n",
       "      <td>None</td>\n",
       "      <td>None</td>\n",
       "      <td>0.0</td>\n",
       "      <td>None</td>\n",
       "      <td>0.0</td>\n",
       "      <td>None</td>\n",
       "      <td>NaN</td>\n",
       "      <td>None</td>\n",
       "      <td>None</td>\n",
       "      <td>419814.71875</td>\n",
       "      <td>4547462.0</td>\n",
       "      <td>{\"rings\": [[[419836.4988000002, 4547459.509299...</td>\n",
       "    </tr>\n",
       "    <tr>\n",
       "      <th>1155</th>\n",
       "      <td>1156</td>\n",
       "      <td>Davis</td>\n",
       "      <td>6</td>\n",
       "      <td>www.co.davis.ut.us/assessor/</td>\n",
       "      <td>www.co.davis.ut.us/recorder/</td>\n",
       "      <td>http://www.utah.gov/disclaimer.html</td>\n",
       "      <td>2020-07-20</td>\n",
       "      <td>None</td>\n",
       "      <td>None</td>\n",
       "      <td></td>\n",
       "      <td>None</td>\n",
       "      <td>None</td>\n",
       "      <td>None</td>\n",
       "      <td>NaN</td>\n",
       "      <td>NaN</td>\n",
       "      <td>NaN</td>\n",
       "      <td></td>\n",
       "      <td>None</td>\n",
       "      <td>None</td>\n",
       "      <td>None</td>\n",
       "      <td>0.0</td>\n",
       "      <td>None</td>\n",
       "      <td>0.0</td>\n",
       "      <td>None</td>\n",
       "      <td>NaN</td>\n",
       "      <td>None</td>\n",
       "      <td>None</td>\n",
       "      <td>420288.65625</td>\n",
       "      <td>4546638.5</td>\n",
       "      <td>{\"rings\": [[[420276.6551999999, 4546687.940500...</td>\n",
       "    </tr>\n",
       "    <tr>\n",
       "      <th>1802</th>\n",
       "      <td>1803</td>\n",
       "      <td>Davis</td>\n",
       "      <td>6</td>\n",
       "      <td>www.co.davis.ut.us/assessor/</td>\n",
       "      <td>www.co.davis.ut.us/recorder/</td>\n",
       "      <td>http://www.utah.gov/disclaimer.html</td>\n",
       "      <td>2020-07-20</td>\n",
       "      <td>None</td>\n",
       "      <td>None</td>\n",
       "      <td></td>\n",
       "      <td>None</td>\n",
       "      <td>None</td>\n",
       "      <td>None</td>\n",
       "      <td>NaN</td>\n",
       "      <td>NaN</td>\n",
       "      <td>NaN</td>\n",
       "      <td></td>\n",
       "      <td>None</td>\n",
       "      <td>None</td>\n",
       "      <td>None</td>\n",
       "      <td>0.0</td>\n",
       "      <td>None</td>\n",
       "      <td>0.0</td>\n",
       "      <td>None</td>\n",
       "      <td>NaN</td>\n",
       "      <td>None</td>\n",
       "      <td>None</td>\n",
       "      <td>419570.68750</td>\n",
       "      <td>4546559.0</td>\n",
       "      <td>{\"rings\": [[[419563.03550000023, 4546558.51249...</td>\n",
       "    </tr>\n",
       "    <tr>\n",
       "      <th>1944</th>\n",
       "      <td>1945</td>\n",
       "      <td>Davis</td>\n",
       "      <td>6</td>\n",
       "      <td>www.co.davis.ut.us/assessor/</td>\n",
       "      <td>www.co.davis.ut.us/recorder/</td>\n",
       "      <td>http://www.utah.gov/disclaimer.html</td>\n",
       "      <td>2020-07-20</td>\n",
       "      <td>None</td>\n",
       "      <td>None</td>\n",
       "      <td></td>\n",
       "      <td>None</td>\n",
       "      <td>None</td>\n",
       "      <td>None</td>\n",
       "      <td>NaN</td>\n",
       "      <td>NaN</td>\n",
       "      <td>NaN</td>\n",
       "      <td></td>\n",
       "      <td>None</td>\n",
       "      <td>None</td>\n",
       "      <td>None</td>\n",
       "      <td>0.0</td>\n",
       "      <td>None</td>\n",
       "      <td>0.0</td>\n",
       "      <td>None</td>\n",
       "      <td>NaN</td>\n",
       "      <td>None</td>\n",
       "      <td>None</td>\n",
       "      <td>419866.96875</td>\n",
       "      <td>4546681.0</td>\n",
       "      <td>{\"rings\": [[[419881.8735999996, 4546680.850099...</td>\n",
       "    </tr>\n",
       "  </tbody>\n",
       "</table>\n",
       "</div>"
      ],
      "text/plain": [
       "      OBJECTID COUNTY_NAME COUNTY_ID                  ASSESSOR_SRC  \\\n",
       "972        973       Davis         6  www.co.davis.ut.us/assessor/   \n",
       "994        995       Davis         6  www.co.davis.ut.us/assessor/   \n",
       "1151      1152       Davis         6  www.co.davis.ut.us/assessor/   \n",
       "1155      1156       Davis         6  www.co.davis.ut.us/assessor/   \n",
       "1802      1803       Davis         6  www.co.davis.ut.us/assessor/   \n",
       "1944      1945       Davis         6  www.co.davis.ut.us/assessor/   \n",
       "\n",
       "                      BOUNDARY_SRC                           DISCLAIMER  \\\n",
       "972   www.co.davis.ut.us/recorder/  http://www.utah.gov/disclaimer.html   \n",
       "994   www.co.davis.ut.us/recorder/  http://www.utah.gov/disclaimer.html   \n",
       "1151  www.co.davis.ut.us/recorder/  http://www.utah.gov/disclaimer.html   \n",
       "1155  www.co.davis.ut.us/recorder/  http://www.utah.gov/disclaimer.html   \n",
       "1802  www.co.davis.ut.us/recorder/  http://www.utah.gov/disclaimer.html   \n",
       "1944  www.co.davis.ut.us/recorder/  http://www.utah.gov/disclaimer.html   \n",
       "\n",
       "     CURRENT_ASOF PARCEL_ID SERIAL_NUM PARCEL_ADD PARCEL_CITY TAXEXEMPT_TYPE  \\\n",
       "972    2020-07-20      None       None                   None           None   \n",
       "994    2020-07-20      None       None                   None           None   \n",
       "1151   2020-07-20      None       None                   None           None   \n",
       "1155   2020-07-20      None       None                   None           None   \n",
       "1802   2020-07-20      None       None                   None           None   \n",
       "1944   2020-07-20      None       None                   None           None   \n",
       "\n",
       "     TAX_DISTRICT  TOTAL_MKT_VALUE  LAND_MKT_VALUE  PARCEL_ACRES PROP_CLASS  \\\n",
       "972          None              NaN             NaN           NaN              \n",
       "994          None              NaN             NaN           NaN              \n",
       "1151         None              NaN             NaN           NaN              \n",
       "1155         None              NaN             NaN           NaN              \n",
       "1802         None              NaN             NaN           NaN              \n",
       "1944         None              NaN             NaN           NaN              \n",
       "\n",
       "     PRIMARY_RES HOUSE_CNT SUBDIV_NAME  BLDG_SQFT BLDG_SQFT_INFO  FLOORS_CNT  \\\n",
       "972         None      None        None        0.0           None         0.0   \n",
       "994         None      None        None        0.0           None         0.0   \n",
       "1151        None      None        None        0.0           None         0.0   \n",
       "1155        None      None        None        0.0           None         0.0   \n",
       "1802        None      None        None        0.0           None         0.0   \n",
       "1944        None      None        None        0.0           None         0.0   \n",
       "\n",
       "     FLOORS_INFO  BUILT_YR EFFBUILT_YR CONST_MATERIAL             x  \\\n",
       "972         None       NaN        None           None  419268.28125   \n",
       "994         None       NaN        None           None  419947.37500   \n",
       "1151        None       NaN        None           None  419814.71875   \n",
       "1155        None       NaN        None           None  420288.65625   \n",
       "1802        None       NaN        None           None  419570.68750   \n",
       "1944        None       NaN        None           None  419866.96875   \n",
       "\n",
       "              y                                              SHAPE  \n",
       "972   4547542.0  {\"rings\": [[[419253.0332000004, 4547543.087200...  \n",
       "994   4548097.5  {\"rings\": [[[419948.81099999975, 4548099.5275]...  \n",
       "1151  4547462.0  {\"rings\": [[[419836.4988000002, 4547459.509299...  \n",
       "1155  4546638.5  {\"rings\": [[[420276.6551999999, 4546687.940500...  \n",
       "1802  4546559.0  {\"rings\": [[[419563.03550000023, 4546558.51249...  \n",
       "1944  4546681.0  {\"rings\": [[[419881.8735999996, 4546680.850099...  "
      ]
     },
     "execution_count": 4,
     "metadata": {},
     "output_type": "execute_result"
    }
   ],
   "source": [
    "dups[dups['PARCEL_ID'].isna()]"
   ]
  },
  {
   "cell_type": "code",
   "execution_count": 11,
   "id": "36b16970",
   "metadata": {
    "hidden": true
   },
   "outputs": [],
   "source": [
    "uniques = parcels_df[~(parcels_df['PARCEL_ID'].duplicated(keep=False))]"
   ]
  },
  {
   "cell_type": "code",
   "execution_count": 12,
   "id": "f16c7dc2",
   "metadata": {
    "hidden": true
   },
   "outputs": [
    {
     "name": "stdout",
     "output_type": "stream",
     "text": [
      "197\n",
      "1824\n",
      "2021\n"
     ]
    }
   ],
   "source": [
    "print(dups.shape[0])\n",
    "print(uniques.shape[0])\n",
    "print(parcels_df.shape[0])"
   ]
  },
  {
   "cell_type": "code",
   "execution_count": 14,
   "id": "52e1c508",
   "metadata": {
    "hidden": true
   },
   "outputs": [],
   "source": [
    "groups = dups.groupby('PARCEL_ID')"
   ]
  },
  {
   "cell_type": "code",
   "execution_count": 15,
   "id": "52aae0b9",
   "metadata": {
    "collapsed": true,
    "hidden": true
   },
   "outputs": [
    {
     "data": {
      "text/plain": [
       "{'100110017': [1622, 1639], '100120057': [1735, 2016], '100130023': [1204, 1994], '100130026': [1651, 1655], '100260028': [974, 975], '100260030': [1496, 1497], '100860061': [1009, 1826], '100910007': [546, 1343], '100920102': [252, 971], '100920103': [1362, 1372], '100920104': [249, 254, 255], '100920106': [153, 253], '100920111': [1374, 1375], '100930120': [1779, 1784, 1790], '100930121': [1765, 1781], '100930122': [1763, 1794], '100950044': [1919, 1922], '100960009': [1895, 1896], '100980019': [116, 969], '100980056': [1408, 1831], '100980057': [970, 1407], '101010045': [1775, 1777], '101010048': [880, 1028], '101010049': [878, 1788], '101010051': [1776, 1778], '101010052': [1771, 1791], '101020016': [1425, 1426, 1427], '101020018': [1416, 1417, 1418], '101020038': [1411, 1412], '101020039': [1413, 1414, 1415], '101020041': [432, 961, 1419], '101020062': [346, 962, 1420], '101020063': [1421, 1424], '101040076': [415, 952], '101040083': [1435, 1439], '101040084': [953, 1316], '101040085': [375, 954], '101040087': [767, 955], '101040088': [768, 950], '101040089': [769, 949], '101040105': [376, 945, 946], '101040106': [1429, 1430], '101040107': [1434, 1438], '101040108': [951, 1315, 1436], '101050006': [434, 1997], '101050007': [435, 1996], '101050036': [350, 1995], '101060122': [1326, 1329], '101060127': [356, 966], '101060128': [408, 956], '101060135': [1345, 1346], '101060136': [968, 1344], '101060137': [957, 1347], '101060138': [411, 958], '101060139': [410, 963], '101060140': [373, 964], '101060149': [965, 1013], '101060150': [960, 1480], '101460014': [874, 959], '102270004': [1291, 1292], '102270029': [1288, 1289], '102370108': [1004, 1005, 1006], '103190130': [1869, 2017], '110010053': [715, 733], '110030027': [515, 606], '110050030': [1145, 1998], '110050040': [538, 1999], '110060072': [1500, 1511], '110060079': [540, 573], '110060080': [1507, 1509, 1510], '110060081': [613, 1513], '110060082': [1514, 1515], '110060083': [612, 1512], '110060084': [998, 1523], '110070110': [686, 877], '110070128': [731, 941], '110070129': [552, 943], '110070130': [637, 942], '110070131': [495, 944], '110070132': [553, 757], '110090053': [1378, 1379, 1380, 1381], '110140094': [885, 2019], '111840509': [1823, 1824], '114790909': [1518, 1520], '116940015': [1051, 1052], '116940016': [1054, 1055], '116940017': [1053, 1074], '116940018': [1050, 1073], '117840026': [1119, 1122]}"
      ]
     },
     "execution_count": 15,
     "metadata": {},
     "output_type": "execute_result"
    }
   ],
   "source": [
    "groups.groups"
   ]
  },
  {
   "cell_type": "code",
   "execution_count": 21,
   "id": "40b15df3",
   "metadata": {
    "collapsed": true,
    "hidden": true
   },
   "outputs": [
    {
     "name": "stdout",
     "output_type": "stream",
     "text": [
      "[{'rings': [[[420739.14969999995, 4547799.8606], [420734.74760000035, 4547799.7568], [420730.3696999997, 4547799.284600001], [420726.04679999966, 4547798.4471], [420719.6895000003, 4547797.329500001], [420713.24459999986, 4547796.9714], [420712.0533999996, 4547797.069499999], [420710.89240000024, 4547797.3528], [420709.7899000002, 4547797.814200001], [420708.77329999954, 4547798.442500001], [420707.8673999999, 4547799.222100001], [420707.0946000004, 4547800.1337], [420706.47389999963, 4547801.155200001], [420706.0206000004, 4547802.2609], [420705.74590000045, 4547803.4241], [420705.65660000034, 4547804.615900001], [420705.7444000002, 4547828.1653], [420739.2329000002, 4547827.979900001], [420739.14969999995, 4547799.8606]]], 'spatialReference': {'wkid': 26912, 'latestWkid': 26912}}, {'rings': [[[420739.44739999995, 4547879.77], [420705.93740000017, 4547879.955499999], [420706.00629999954, 4547898.4416000005], [420706.1375000002, 4547899.762700001], [420706.4961000001, 4547901.040899999], [420707.0712000001, 4547902.237500001], [420707.8454, 4547903.316], [420708.79509999976, 4547904.2436999995], [420709.8914999999, 4547904.9924], [420711.1012000004, 4547905.5393], [420712.3875000002, 4547905.867900001], [420713.7114000004, 4547905.9682], [420739.54389999993, 4547905.665100001], [420739.44739999995, 4547879.77]]], 'spatialReference': {'wkid': 26912, 'latestWkid': 26912}}]\n",
      "[{'rings': [[[420856.7840999998, 4547546.531099999], [420738.1911000004, 4547546.0031], [420738.24789999984, 4547562.273600001], [420738.3541000001, 4547592.738299999], [420738.4243999999, 4547612.8463], [420790.0859000003, 4547612.240499999], [420790.1026999997, 4547639.660800001], [420790.21190000046, 4547653.969900001], [420805.4417000003, 4547653.7685], [420857.18319999985, 4547653.161800001], [420856.7840999998, 4547546.531099999]], [[420814.5502000004, 4547593.978], [420814.7763, 4547587.272600001], [420821.47809999995, 4547587.194], [420828.4846000001, 4547587.1118], [420832.07969999965, 4547587.069700001], [420834.8817999996, 4547587.036800001], [420836.5544999996, 4547587.017200001], [420841.88829999976, 4547586.954600001], [420841.8025000002, 4547579.6435], [420841.78160000034, 4547577.8564], [420841.72389999963, 4547572.9416000005], [420841.6453999998, 4547566.239800001], [420841.56439999957, 4547559.334799999], [420841.5525000002, 4547558.319399999], [420839.9774000002, 4547558.3378], [420835.15529999975, 4547558.394400001], [420829.7337999996, 4547558.458000001], [420828.4534999998, 4547558.472999999], [420825.61000000034, 4547558.3828], [420821.4434000002, 4547558.250600001], [420814.74149999954, 4547558.3292], [420814.6629999997, 4547551.6273], [420819.0565999998, 4547551.7754], [420821.36840000004, 4547551.8533], [420828.37480000034, 4547551.771199999], [420832.49010000005, 4547551.7228999995], [420835.0767000001, 4547551.692500001], [420841.4740000004, 4547551.6175999995], [420848.4840000002, 4547551.84], [420848.4139999999, 4547559.1711], [420848.3471999997, 4547566.1613], [420848.4258000003, 4547572.8631], [420848.4582000002, 4547575.6227], [420848.5044, 4547579.5649], [420848.58299999963, 4547586.266899999], [420848.64169999957, 4547591.269099999], [420848.6687000003, 4547593.5779], [420841.9667999996, 4547593.6565000005], [420834.9604000002, 4547593.738600001], [420828.56319999974, 4547593.8137], [420821.5566999996, 4547593.8959], [420814.5502000004, 4547593.978]], [[420780.8454, 4547551.7191], [420780.62289999984, 4547558.7292], [420780.1612999998, 4547558.7147], [420773.61280000024, 4547558.5068], [420767.7405000003, 4547558.5756], [420766.91110000014, 4547558.5854], [420760.2090999996, 4547558.664000001], [420753.5036000004, 4547558.437899999], [420753.5048000002, 4547558.5363], [420753.5214999998, 4547559.961100001], [420753.38239999954, 4547564.0875], [420753.2954000002, 4547566.6665], [420753.35720000044, 4547571.9322999995], [420753.37399999984, 4547573.3683], [420753.4526000004, 4547580.0702], [420753.4760999996, 4547582.0693], [420753.52770000044, 4547586.4673999995], [420753.5153000001, 4547586.9056], [420753.49340000004, 4547587.6844999995], [420760.2438000003, 4547587.6074], [420766.94579999987, 4547587.5287999995], [420773.6475999998, 4547587.450200001], [420780.6540999999, 4547587.368100001], [420780.70380000025, 4547591.612600001], [420780.7326999996, 4547594.0699000005], [420775.0656000003, 4547593.8901], [420773.7226, 4547593.8474], [420770.7525000004, 4547593.882300001], [420767.0207000002, 4547593.926100001], [420760.31879999954, 4547594.0046], [420759.66199999955, 4547594.012399999], [420753.31230000034, 4547594.0867], [420750.7296000002, 4547594.1171], [420746.6105000004, 4547594.1653], [420746.8258999996, 4547586.546], [420746.76489999983, 4547581.348300001], [420746.7507999996, 4547580.148800001], [420746.9769000001, 4547573.443399999], [420746.91449999996, 4547568.1184], [420746.89460000023, 4547566.436799999], [420746.8585000001, 4547563.343699999], [420746.8161000004, 4547559.735099999], [420746.7511, 4547554.1907], [420746.7232999997, 4547551.8146], [420753.42509999964, 4547551.736], [420759.05040000007, 4547551.9257], [420760.13049999997, 4547551.962099999], [420760.79030000046, 4547551.954399999], [420766.83249999955, 4547551.8835], [420773.83889999986, 4547551.8014], [420777.31960000005, 4547551.760600001], [420780.8454, 4547551.7191]]], 'spatialReference': {'wkid': 26912, 'latestWkid': 26912}}, {'rings': [[[420738.1911000004, 4547546.0031], [420856.7840999998, 4547546.531099999], [420856.4985999996, 4547470.2656], [420763.45239999983, 4547471.489800001], [420737.9321999997, 4547471.7908], [420738.0351999998, 4547501.343800001], [420738.14159999974, 4547531.8089000005], [420738.1911000004, 4547546.0031]], [[420814.68180000037, 4547527.2534], [420814.46669999976, 4547523.6302000005], [420814.3021, 4547520.8596], [420821.3086000001, 4547520.7775], [420828.31520000007, 4547520.6953], [420834.7122999998, 4547520.6203000005], [420841.41420000046, 4547520.5417], [420841.3498999998, 4547515.0583999995], [420841.32129999995, 4547512.621300001], [420841.2982999999, 4547510.653100001], [420841.2463999996, 4547506.224199999], [420841.2126000002, 4547503.3519], [420841.16779999994, 4547499.522299999], [420841.12069999985, 4547495.5064], [420841.07490000036, 4547491.602], [420834.67760000005, 4547491.676899999], [420827.98390000034, 4547491.7841], [420821.46499999985, 4547491.869899999], [420814.9458999997, 4547491.955800001], [420814.92059999984, 4547485.2535], [420821.4395000003, 4547485.1676], [420826.8295999998, 4547485.066199999], [420827.89719999954, 4547485.0537], [420834.5990000004, 4547484.975099999], [420840.99629999977, 4547484.9001], [420847.6980999997, 4547484.8215], [420847.7871000003, 4547492.4022], [420847.86959999986, 4547499.443700001], [420847.9380999999, 4547505.2863], [420847.9480999997, 4547506.1457], [420848.0231999997, 4547512.5427], [420848.10529999994, 4547519.5494], [420848.10890000034, 4547519.8539], [420848.19460000005, 4547527.164899999], [420841.4928000001, 4547527.2436], [420835.09559999965, 4547527.318600001], [420831.78809999954, 4547527.3574], [420828.3937999997, 4547527.3972], [420827.1807000004, 4547527.3587], [420821.3837000001, 4547527.174699999], [420815.3925999999, 4547527.244999999], [420814.68180000037, 4547527.2534]], [[420780.6723999996, 4547484.9980999995], [420780.44629999995, 4547491.703500001], [420773.74459999986, 4547491.7820999995], [420766.7379999999, 4547491.864399999], [420760.03249999974, 4547491.6383], [420753.3306999998, 4547491.7169], [420753.3448999999, 4547492.9354], [420753.42349999957, 4547499.6373], [420753.50210000016, 4547506.3390999995], [420753.2758999998, 4547513.044500001], [420753.3546000002, 4547519.746300001], [420753.3613, 4547520.312100001], [420753.36899999995, 4547520.9648], [420753.77639999986, 4547520.960100001], [420760.3755000001, 4547520.8827], [420767.0809000004, 4547521.1087], [420771.4517000001, 4547521.057499999], [420773.78280000016, 4547521.030200001], [420780.4846999999, 4547520.9516], [420780.5552000003, 4547522.141100001], [420780.86429999955, 4547527.3452], [420773.55319999997, 4547527.431], [420766.8513000002, 4547527.509500001], [420760.14580000006, 4547527.283500001], [420753.44400000013, 4547527.3621], [420746.7421000004, 4547527.4407], [420746.8660000004, 4547523.0569], [420746.95749999955, 4547519.8214], [420746.8788999999, 4547513.1195], [420746.80030000024, 4547506.4177], [420746.7806000002, 4547504.7423], [420746.72169999965, 4547499.7159], [420746.94409999996, 4547492.705700001], [420746.5502000004, 4547485.093599999], [420753.25210000016, 4547485.015000001], [420759.9539000001, 4547484.9365], [420766.96410000045, 4547485.159], [420773.6660000002, 4547485.0803], [420780.6723999996, 4547484.9980999995]]], 'spatialReference': {'wkid': 26912, 'latestWkid': 26912}}]\n",
      "[{'rings': [[[420857.7564000003, 4547803.773700001], [420806.4622999998, 4547804.1435], [420806.6275000004, 4547828.514799999], [420857.8490000004, 4547828.145500001], [420857.7564000003, 4547803.773700001]]], 'spatialReference': {'wkid': 26912, 'latestWkid': 26912}}, {'rings': [[[420857.7564000003, 4547803.773700001], [420857.76109999977, 4547802.855], [420806.45660000015, 4547803.2973], [420806.4622999998, 4547804.1435], [420857.7564000003, 4547803.773700001]]], 'spatialReference': {'wkid': 26912, 'latestWkid': 26912}}]\n",
      "[{'rings': [[[420791.4559000004, 4547837.7597], [420739.2642000001, 4547838.1642], [420739.3378999997, 4547853.8749], [420739.4012000002, 4547867.3597], [420765.2567999996, 4547867.1844], [420791.65419999976, 4547867.0055], [420791.4559000004, 4547837.7597]]], 'spatialReference': {'wkid': 26912, 'latestWkid': 26912}}, {'rings': [[[420791.65419999976, 4547867.0055], [420765.2567999996, 4547867.1844], [420765.26389999967, 4547867.7938], [420791.6612, 4547867.614800001], [420791.65419999976, 4547867.0055]]], 'spatialReference': {'wkid': 26912, 'latestWkid': 26912}}]\n",
      "[{'rings': [[[419658.19039999973, 4547894.8445], [419562.93209999986, 4547895.352700001], [419562.72589999996, 4547895.353800001], [419562.7829999998, 4547916.982999999], [419563.0875000004, 4547916.980900001], [419670.32129999995, 4547916.0294], [419670.3163999999, 4547916.0209], [419658.19039999973, 4547894.8445]]], 'spatialReference': {'wkid': 26912, 'latestWkid': 26912}}, {'rings': [[[419670.32129999995, 4547916.0294], [419563.0875000004, 4547916.980900001], [419562.7829999998, 4547916.982999999], [419562.72589999996, 4547895.353800001], [419562.86679999996, 4547883.473300001], [419505.0669, 4547884.15], [419505.4659000002, 4547918.1734], [419538.25939999986, 4547917.747099999], [419551.45610000007, 4547917.335899999], [419551.4678999996, 4547918.3397], [419639.98929999955, 4547917.3050999995], [419671.3962000003, 4547916.891000001], [419670.32129999995, 4547916.0294]]], 'spatialReference': {'wkid': 26912, 'latestWkid': 26912}}]\n",
      "[{'rings': [[[419477.9957999997, 4547623.6665], [419466.8361999998, 4547607.345000001], [419465.8041000003, 4547605.955600001], [419464.2424999997, 4547604.2083], [419462.5080000004, 4547602.632200001], [419460.6194000002, 4547601.2447999995], [419458.59700000007, 4547600.0611000005], [419456.4625000004, 4547599.0934], [419454.2391999997, 4547598.352600001], [419453.36959999986, 4547598.0264], [419450.8317999998, 4547597.2499], [419448.23319999967, 4547596.7093], [419445.59619999956, 4547596.4092999995], [419442.9428000003, 4547596.352299999], [419441.7279000003, 4547596.6713], [419442.1922000004, 4547636.2731], [419457.9765999997, 4547636.0879999995], [419460.29030000046, 4547636.061000001], [419460.58889999986, 4547636.057399999], [419477.9957999997, 4547623.6665]]], 'spatialReference': {'wkid': 26912, 'latestWkid': 26912}}, {'rings': [[[419460.29030000046, 4547636.061000001], [419457.9765999997, 4547636.0879999995], [419458.3406999996, 4547636.91], [419460.29030000046, 4547636.061000001]]], 'spatialReference': {'wkid': 26912, 'latestWkid': 26912}}]\n",
      "[{'rings': [[[419515.66390000004, 4546964.6839000005], [419514.2934999997, 4546899.6436], [419545.2226, 4546898.7609], [419543.84339999966, 4546835.533299999], [419318.25009999983, 4546911.9526], [419338.23599999957, 4546920.616699999], [419353.6562999999, 4546927.123199999], [419354.56180000026, 4546927.505100001], [419352.82859999966, 4546931.6741], [419349.3465999998, 4546941.489800001], [419409.3934000004, 4546940.796599999], [419413.0778000001, 4546941.007999999], [419416.74010000005, 4546941.4618999995], [419420.3644000003, 4546942.1567], [419423.9349999996, 4546943.089], [419427.43620000035, 4546944.254899999], [419428.9053999996, 4546944.8224], [419467.80069999956, 4546962.0373], [419470.9341000002, 4546963.1982], [419473.9771999996, 4546964.058700001], [419477.07770000026, 4546964.682399999], [419480.2167999996, 4546965.0656], [419483.3761, 4546965.206], [419515.66390000004, 4546964.6839000005]]], 'spatialReference': {'wkid': 26912, 'latestWkid': 26912}}, {'rings': [[[419458.9653000003, 4547408.2324], [419464.3996000001, 4547386.219699999], [419473.84580000024, 4547347.6819], [419507.0959000001, 4547355.5813], [419547.65469999984, 4547186.729699999], [419548.13599999994, 4547184.971000001], [419548.54360000044, 4547183.3839], [419548.9276999999, 4547181.790999999], [419549.6244000001, 4547178.5888], [419549.9369999999, 4547176.9802], [419550.4902999997, 4547173.7502], [419550.9472000003, 4547170.5053], [419551.3074000003, 4547167.2479], [419551.4512, 4547165.615599999], [419551.6656999998, 4547162.3455], [419551.7363999998, 4547160.7085], [419551.8048999999, 4547157.4321], [419551.7758999998, 4547154.155099999], [419549.0832000002, 4547074.9825], [419547.08389999997, 4546983.728], [419483.30730000045, 4546985.315199999], [419479.7890999997, 4546985.2897], [419476.28110000025, 4546985.020400001], [419472.7999999998, 4546984.509099999], [419469.3627000004, 4546983.758199999], [419465.98560000025, 4546982.771199999], [419462.6849999996, 4546981.5527], [419460.0946000004, 4546980.4079], [419420.89829999954, 4546963.5012], [419418.3521999996, 4546962.5660999995], [419415.3914000001, 4546961.7227], [419412.37310000043, 4546961.115900001], [419410.5133999996, 4546960.972999999], [419408.6113, 4546961.0022], [419402.31159999967, 4546961.243100001], [419339.79140000045, 4546963.368000001], [419338.4511000002, 4546963.4233], [419317.3229, 4547014.0271000005], [419321.67929999996, 4547024.3804], [419325.38489999995, 4547028.602399999], [419325.48589999974, 4547028.590600001], [419331.1657999996, 4547027.9252], [419331.2625000002, 4547028.0339], [419337.34049999993, 4547034.860300001], [419339.2538999999, 4547042.15], [419342.3574999999, 4547046.988399999], [419342.47530000005, 4547057.041300001], [419346.77940000035, 4547060.3423], [419344.4101999998, 4547066.1588], [419339.8443999998, 4547066.517000001], [419335.62239999976, 4547070.2225], [419338.51410000026, 4547082.9848], [419344.3485000003, 4547086.8772], [419344.3886000002, 4547086.867799999], [419349.8175999997, 4547085.5943], [419355.6124999998, 4547086.1358], [419355.66949999984, 4547086.2191], [419367.3923000004, 4547103.364], [419371.69290000014, 4547106.360300001], [419374.5274, 4547114.248500001], [419378.52329999954, 4547117.248400001], [419379.49789999984, 4547122.4164], [419382.26460000034, 4547124.5167], [419386.6188000003, 4547132.0824], [419385.02139999997, 4547142.7818], [419385.00069999974, 4547143.0341], [419382.93840000033, 4547168.0744], [419388.7728000004, 4547171.966700001], [419389.47140000015, 4547179.5754], [419399.9287999999, 4547187.9836], [419404.20440000016, 4547188.8475], [419406.3618000001, 4547190.9549], [419404.5840999996, 4547195.2411], [419374.70799999963, 4547216.4059999995], [419415.1615000004, 4547296.2159], [419421.3212000001, 4547308.368000001], [419431.79980000015, 4547329.0407], [419426.87239999976, 4547365.764799999], [419434.55179999955, 4547386.2048], [419452.27990000043, 4547400.882099999], [419453.5088999998, 4547400.3002], [419454.7017999999, 4547403.9661], [419458.9653000003, 4547408.2324]]], 'spatialReference': {'wkid': 26912, 'latestWkid': 26912}}]\n",
      "[{'rings': [[[420183.83139999956, 4546183.711300001], [420188.7028999999, 4546186.4199], [420189.7312000003, 4546183.274900001], [420190.9879999999, 4546180.214199999], [420192.0599999996, 4546178.0154], [420183.83139999956, 4546183.711300001]]], 'spatialReference': {'wkid': 26912, 'latestWkid': 26912}}, {'rings': [[[420156.4961000001, 4546168.5448], [420183.83139999956, 4546183.711300001], [420192.0599999996, 4546178.0154], [420195.98000000045, 4546175.505799999], [420182.97860000003, 4546156.556299999], [420167.46109999996, 4546133.9398], [420165.3200000003, 4546130.8193], [420161.7048000004, 4546146.210899999], [420159.0617000004, 4546157.543500001], [420156.4961000001, 4546168.5448]]], 'spatialReference': {'wkid': 26912, 'latestWkid': 26912}}]\n",
      "[{'rings': [[[419815.3699000003, 4547456.669500001], [419815.4140999997, 4547460.4158], [419836.4988000002, 4547459.509299999], [419836.86089999974, 4547458.7509], [419837.26489999983, 4547457.448899999], [419837.43099999987, 4547456.096000001], [419837.3541000001, 4547454.735099999], [419837.0366000002, 4547453.409600001], [419836.3997999998, 4547425.0825], [419815.00380000006, 4547425.556299999], [419815.3699000003, 4547456.669500001]]], 'spatialReference': {'wkid': 26912, 'latestWkid': 26912}}, {'rings': [[[419807.2763, 4547460.934699999], [419814.2253999999, 4547460.4669], [419815.4140999997, 4547460.4158], [419815.3699000003, 4547456.669500001], [419815.00380000006, 4547425.556299999], [419807.1588000003, 4547425.7301], [419807.2763, 4547460.934699999]]], 'spatialReference': {'wkid': 26912, 'latestWkid': 26912}}]\n",
      "[{'rings': [[[419783.3596000001, 4547408.915100001], [419777.9101, 4547403.774800001], [419751.37459999975, 4547430.2773], [419766.5251000002, 4547444.460899999], [419766.55260000005, 4547444.4866], [419792.31510000024, 4547417.3628], [419783.3596000001, 4547408.915100001]]], 'spatialReference': {'wkid': 26912, 'latestWkid': 26912}}, {'rings': [[[419777.9101, 4547403.774800001], [419764.96559999976, 4547391.5645], [419763.50519999955, 4547390.186899999], [419737.58359999955, 4547417.667099999], [419751.37459999975, 4547430.2773], [419777.9101, 4547403.774800001]]], 'spatialReference': {'wkid': 26912, 'latestWkid': 26912}}]\n",
      "[{'rings': [[[419654.7594999997, 4547260.7513999995], [419662.71219999995, 4547270.6259], [419667.4632000001, 4547277.3475], [419695.7818, 4547255.2009], [419683.0954999998, 4547238.592800001], [419654.7594999997, 4547260.7513999995]]], 'spatialReference': {'wkid': 26912, 'latestWkid': 26912}}, {'rings': [[[419621.10699999984, 4547278.622400001], [419633.16970000044, 4547294.019300001], [419662.71219999995, 4547270.6259], [419654.7594999997, 4547260.7513999995], [419650.8870000001, 4547255.2731], [419621.10699999984, 4547278.622400001]]], 'spatialReference': {'wkid': 26912, 'latestWkid': 26912}}, {'rings': [[[419633.16970000044, 4547294.019300001], [419645.23599999957, 4547309.7206999995], [419674.65419999976, 4547286.4241], [419667.4632000001, 4547277.3475], [419662.71219999995, 4547270.6259], [419633.16970000044, 4547294.019300001]]], 'spatialReference': {'wkid': 26912, 'latestWkid': 26912}}]\n",
      "[{'rings': [[[419641.93090000004, 4547244.0233], [419650.8870000001, 4547255.2731], [419654.7594999997, 4547260.7513999995], [419683.0954999998, 4547238.592800001], [419670.4057, 4547221.6798], [419641.93090000004, 4547244.0233]]], 'spatialReference': {'wkid': 26912, 'latestWkid': 26912}}, {'rings': [[[419609.0368999997, 4547262.6163], [419621.10699999984, 4547278.622400001], [419650.8870000001, 4547255.2731], [419641.93090000004, 4547244.0233], [419638.7444000002, 4547239.6338], [419609.0368999997, 4547262.6163]]], 'spatialReference': {'wkid': 26912, 'latestWkid': 26912}}]\n",
      "[{'rings': [[[419801.26379999984, 4547425.804], [419792.31510000024, 4547417.3628], [419766.55260000005, 4547444.4866], [419780.40299999993, 4547457.4384], [419780.54140000045, 4547457.5821], [419780.8152999999, 4547457.809], [419780.8295999998, 4547457.808599999], [419780.8825000003, 4547457.8072999995], [419786.3354000002, 4547457.666099999], [419786.38829999976, 4547457.664899999], [419786.3959999997, 4547459.0723], [419786.3432, 4547459.0734], [419782.87820000015, 4547459.1512], [419782.8252999997, 4547459.1524], [419782.6945000002, 4547459.1554000005], [419782.64159999974, 4547459.1565000005], [419782.59520000033, 4547459.157400001], [419783.90979999956, 4547459.9947999995], [419785.84700000007, 4547461.070800001], [419786.09700000007, 4547461.209799999], [419787.5798000004, 4547461.853599999], [419787.8360000001, 4547461.9647], [419787.8448999999, 4547461.941400001], [419801.26379999984, 4547425.804]]], 'spatialReference': {'wkid': 26912, 'latestWkid': 26912}}, {'rings': [[[419807.1588000003, 4547425.7301], [419801.26379999984, 4547425.804], [419787.8448999999, 4547461.941400001], [419787.8360000001, 4547461.9647], [419788.3920999998, 4547462.2062], [419788.60259999987, 4547462.1921], [419807.2763, 4547460.934699999], [419807.1588000003, 4547425.7301]]], 'spatialReference': {'wkid': 26912, 'latestWkid': 26912}}]\n",
      "[{'rings': [[[419691.81680000015, 4546654.762800001], [419658.3272000002, 4546654.8914], [419658.3947999999, 4546657.937100001], [419678.35589999985, 4546658.263499999], [419691.8995000003, 4546658.484999999], [419691.81680000015, 4546654.762800001]]], 'spatialReference': {'wkid': 26912, 'latestWkid': 26912}}, {'rings': [[[419699.0366000002, 4546701.2684], [419698.31709999964, 4546658.5897], [419691.8995000003, 4546658.484999999], [419678.35589999985, 4546658.263499999], [419678.9347000001, 4546701.808700001], [419699.0366000002, 4546701.2684]]], 'spatialReference': {'wkid': 26912, 'latestWkid': 26912}}, {'rings': [[[419704.82689999975, 4546641.6346], [419691.5223000003, 4546641.4932], [419691.81680000015, 4546654.762800001], [419691.8995000003, 4546658.484999999], [419698.31709999964, 4546658.5897], [419704.8978000004, 4546658.6917], [419704.82689999975, 4546641.6346]]], 'spatialReference': {'wkid': 26912, 'latestWkid': 26912}}]\n",
      "[{'rings': [[[419738.23950000014, 4546659.2424], [419739.2444000002, 4546700.4922], [419759.0417999998, 4546699.955399999], [419758.2006000001, 4546659.568700001], [419738.23950000014, 4546659.2424]]], 'spatialReference': {'wkid': 26912, 'latestWkid': 26912}}, {'rings': [[[419757.97809999995, 4546646.7783], [419756.17229999974, 4546646.1258000005], [419731.28610000014, 4546645.670399999], [419731.2980000004, 4546659.129000001], [419738.23950000014, 4546659.2424], [419758.2006000001, 4546659.568700001], [419757.97809999995, 4546646.7783]]], 'spatialReference': {'wkid': 26912, 'latestWkid': 26912}}]\n",
      "[{'rings': [[[419698.31709999964, 4546658.5897], [419699.0366000002, 4546701.2684], [419719.13879999984, 4546700.728], [419718.2781999996, 4546658.916099999], [419698.31709999964, 4546658.5897]]], 'spatialReference': {'wkid': 26912, 'latestWkid': 26912}}, {'rings': [[[419718.1760999998, 4546641.7754999995], [419704.82689999975, 4546641.6346], [419704.8978000004, 4546658.6917], [419718.2781999996, 4546658.916099999], [419718.1760999998, 4546641.7754999995]]], 'spatialReference': {'wkid': 26912, 'latestWkid': 26912}}]\n",
      "[{'rings': [[[420124.6270000003, 4546879.9955], [420099.1353000002, 4546879.959899999], [420065.93090000004, 4546880.3782], [420061.36149999965, 4546880.435799999], [420063.71729999967, 4546880.7126], [420064.90079999994, 4546880.8533], [420084.75260000024, 4546883.2051], [420109.42760000005, 4546882.9158], [420124.6584000001, 4546882.737199999], [420124.6270000003, 4546879.9955]]], 'spatialReference': {'wkid': 26912, 'latestWkid': 26912}}, {'rings': [[[420124.02520000003, 4546857.135500001], [420123.8400999997, 4546850.1074], [420090.66640000045, 4546838.8605], [420089.60780000035, 4546841.3565], [420088.1911000004, 4546843.668199999], [420086.4475999996, 4546845.7444], [420084.4156999998, 4546847.5393], [420082.1403000001, 4546849.013599999], [420099.1353000002, 4546879.959899999], [420124.6270000003, 4546879.9955], [420124.02520000003, 4546857.135500001]]], 'spatialReference': {'wkid': 26912, 'latestWkid': 26912}}]\n",
      "[{'rings': [[[420122.2056999998, 4546720.357100001], [420122.38379999995, 4546734.5013999995], [420122.4910000004, 4546743.006899999], [420156.83380000014, 4546742.5155], [420156.5658999998, 4546719.668199999], [420122.2056999998, 4546720.357100001]]], 'spatialReference': {'wkid': 26912, 'latestWkid': 26912}}, {'rings': [[[420122.4910000004, 4546743.006899999], [420122.65249999985, 4546755.825300001], [420122.7807, 4546765.999299999], [420157.10170000046, 4546765.3628], [420156.83380000014, 4546742.5155], [420122.4910000004, 4546743.006899999]]], 'spatialReference': {'wkid': 26912, 'latestWkid': 26912}}]\n",
      "[{'rings': [[[420040.4182000002, 4547165.5075], [420054.6130999997, 4547188.4155], [420056.37370000035, 4547191.2568], [420079.1531999996, 4547185.2009], [420078.60539999977, 4547183.2743999995], [420077.54870000016, 4547180.283600001], [420076.2653999999, 4547177.3827], [420074.76329999976, 4547174.5888], [420061.7081000004, 4547152.5009], [420040.4182000002, 4547165.5075]]], 'spatialReference': {'wkid': 26912, 'latestWkid': 26912}}, {'rings': [[[420053.5538999997, 4547192.953199999], [420056.37370000035, 4547191.2568], [420054.6130999997, 4547188.4155], [420040.4182000002, 4547165.5075], [420037.8102000002, 4547167.1008], [420053.5538999997, 4547192.953199999]]], 'spatialReference': {'wkid': 26912, 'latestWkid': 26912}}]\n",
      "[{'rings': [[[420097.42119999975, 4547340.0649999995], [420096.7023, 4547304.7313], [420095.47020000033, 4547304.760600001], [420096.20100000035, 4547340.0941], [420097.42119999975, 4547340.0649999995]]], 'spatialReference': {'wkid': 26912, 'latestWkid': 26912}}, {'rings': [[[420096.20100000035, 4547340.0941], [420095.47020000033, 4547304.760600001], [420071.4216, 4547305.3325], [420072.4436999997, 4547340.654200001], [420085.5423999997, 4547340.349099999], [420096.20100000035, 4547340.0941]]], 'spatialReference': {'wkid': 26912, 'latestWkid': 26912}}]\n",
      "[{'rings': [[[420118.1618999997, 4547339.5348000005], [420119.04669999983, 4547339.5122], [420118.02300000004, 4547304.1766], [420117.10840000026, 4547304.2004], [420118.1618999997, 4547339.5348000005]]], 'spatialReference': {'wkid': 26912, 'latestWkid': 26912}}, {'rings': [[[420098.0873999996, 4547340.047800001], [420118.1618999997, 4547339.5348000005], [420117.10840000026, 4547304.2004], [420096.7023, 4547304.7313], [420097.42119999975, 4547340.0649999995], [420098.0873999996, 4547340.047800001]]], 'spatialReference': {'wkid': 26912, 'latestWkid': 26912}}]\n",
      "[{'rings': [[[419776.0669, 4546589.374299999], [419755.9972000001, 4546582.163899999], [419738.5005000001, 4546630.909600001], [419758.57019999996, 4546638.119999999], [419776.0669, 4546589.374299999]]], 'spatialReference': {'wkid': 26912, 'latestWkid': 26912}}, {'rings': [[[419758.57019999996, 4546638.119999999], [419738.5005000001, 4546630.909600001], [419731.27249999996, 4546628.312899999], [419731.28610000014, 4546645.670399999], [419756.17229999974, 4546646.1258000005], [419758.57019999996, 4546638.119999999]]], 'spatialReference': {'wkid': 26912, 'latestWkid': 26912}}]\n",
      "[{'rings': [[[419756.3152999999, 4546563.376800001], [419764.3912000004, 4546529.0154], [419763.55030000024, 4546528.675799999], [419754.99760000035, 4546562.9004], [419756.3152999999, 4546563.376800001]]], 'spatialReference': {'wkid': 26912, 'latestWkid': 26912}}, {'rings': [[[419763.55030000024, 4546528.675799999], [419746.8702999996, 4546521.941299999], [419741.6760999998, 4546519.8441], [419734.18429999985, 4546541.0802], [419729.6059999997, 4546554.0578000005], [419750.0985000003, 4546560.824999999], [419754.99760000035, 4546562.9004], [419763.55030000024, 4546528.675799999]]], 'spatialReference': {'wkid': 26912, 'latestWkid': 26912}}]\n",
      "[{'rings': [[[419756.3152999999, 4546563.376800001], [419757.4453999996, 4546563.785599999], [419765.26680000033, 4546529.265900001], [419764.3912000004, 4546529.0154], [419756.3152999999, 4546563.376800001]]], 'spatialReference': {'wkid': 26912, 'latestWkid': 26912}}, {'rings': [[[419786.7690000003, 4546536.065099999], [419765.26680000033, 4546529.265900001], [419757.4453999996, 4546563.785599999], [419777.94489999954, 4546571.1620000005], [419790.2284000004, 4546537.1591], [419786.7690000003, 4546536.065099999]]], 'spatialReference': {'wkid': 26912, 'latestWkid': 26912}}]\n",
      "[{'rings': [[[419787.38829999976, 4546620.9575], [419796.1366999997, 4546596.5847], [419776.0669, 4546589.374299999], [419758.57019999996, 4546638.119999999], [419778.63999999966, 4546645.330399999], [419787.38829999976, 4546620.9575]]], 'spatialReference': {'wkid': 26912, 'latestWkid': 26912}}, {'rings': [[[419778.63999999966, 4546645.330399999], [419758.57019999996, 4546638.119999999], [419756.17229999974, 4546646.1258000005], [419757.97809999995, 4546646.7783], [419777.2221999997, 4546653.7172], [419778.63999999966, 4546645.330399999]]], 'spatialReference': {'wkid': 26912, 'latestWkid': 26912}}]\n",
      "[{'rings': [[[419718.4308000002, 4546623.6993], [419735.9159000004, 4546575.030300001], [419713.86230000015, 4546568.1603], [419704.7248999998, 4546624.003699999], [419704.75349999964, 4546624.0035999995], [419718.4308000002, 4546623.6993]]], 'spatialReference': {'wkid': 26912, 'latestWkid': 26912}}, {'rings': [[[419704.75349999964, 4546624.0035999995], [419704.82689999975, 4546641.6346], [419718.1760999998, 4546641.7754999995], [419718.4308000002, 4546623.6993], [419704.75349999964, 4546624.0035999995]]], 'spatialReference': {'wkid': 26912, 'latestWkid': 26912}}]\n",
      "[{'rings': [[[419709.5769999996, 4546179.9388999995], [419748.9784000004, 4546183.0525], [419749.28259999957, 4546178.2391], [419709.66750000045, 4546178.282500001], [419709.5769999996, 4546179.9388999995]]], 'spatialReference': {'wkid': 26912, 'latestWkid': 26912}}, {'rings': [[[419709.5769999996, 4546179.9388999995], [419710.7104000002, 4546158.695], [419704.77880000044, 4546158.7645], [419703.2204999998, 4546179.466399999], [419709.5769999996, 4546179.9388999995]]], 'spatialReference': {'wkid': 26912, 'latestWkid': 26912}}, {'rings': [[[419749.28259999957, 4546178.2391], [419750.4977000002, 4546160.000399999], [419710.7104000002, 4546158.695], [419709.66750000045, 4546178.282500001], [419749.28259999957, 4546178.2391]]], 'spatialReference': {'wkid': 26912, 'latestWkid': 26912}}]\n",
      "[{'rings': [[[419768.59300000034, 4546157.685799999], [419767.45859999955, 4546175.9166], [419807.35360000003, 4546175.461999999], [419807.5809000004, 4546173.0375], [419808.76910000015, 4546160.3627], [419768.59300000034, 4546157.685799999]]], 'spatialReference': {'wkid': 26912, 'latestWkid': 26912}}, {'rings': [[[419766.98649999965, 4546183.5044], [419806.63879999984, 4546183.036], [419807.35360000003, 4546175.461999999], [419767.45859999955, 4546175.9166], [419766.98649999965, 4546183.5044]]], 'spatialReference': {'wkid': 26912, 'latestWkid': 26912}}, {'rings': [[[419806.23539999966, 4546187.286900001], [419806.63879999984, 4546183.036], [419766.98649999965, 4546183.5044], [419766.94120000023, 4546184.2148], [419806.23539999966, 4546187.286900001]]], 'spatialReference': {'wkid': 26912, 'latestWkid': 26912}}]\n",
      "[{'rings': [[[419807.5809000004, 4546173.0375], [419827.33499999996, 4546175.228700001], [419847.15029999986, 4546174.9975000005], [419849.1063000001, 4546158.663000001], [419809.30420000013, 4546154.652799999], [419808.76910000015, 4546160.3627], [419807.5809000004, 4546173.0375]]], 'spatialReference': {'wkid': 26912, 'latestWkid': 26912}}, {'rings': [[[419846.86060000025, 4546177.417300001], [419847.15029999986, 4546174.9975000005], [419827.33499999996, 4546175.228700001], [419846.86060000025, 4546177.417300001]]], 'spatialReference': {'wkid': 26912, 'latestWkid': 26912}}]\n",
      "[{'rings': [[[419827.33499999996, 4546175.228700001], [419807.5809000004, 4546173.0375], [419807.35360000003, 4546175.461999999], [419827.33499999996, 4546175.228700001]]], 'spatialReference': {'wkid': 26912, 'latestWkid': 26912}}, {'rings': [[[419806.63879999984, 4546183.036], [419846.2430999996, 4546182.574899999], [419846.86060000025, 4546177.417300001], [419827.33499999996, 4546175.228700001], [419807.35360000003, 4546175.461999999], [419806.63879999984, 4546183.036]]], 'spatialReference': {'wkid': 26912, 'latestWkid': 26912}}, {'rings': [[[419806.23539999966, 4546187.286900001], [419845.43659999967, 4546190.358899999], [419846.2430999996, 4546182.574899999], [419806.63879999984, 4546183.036], [419806.23539999966, 4546187.286900001]]], 'spatialReference': {'wkid': 26912, 'latestWkid': 26912}}]\n",
      "[{'rings': [[[419863.3443, 4546163.1186999995], [419861.5875000004, 4546179.7269], [419901.31709999964, 4546186.264799999], [419903.6342000002, 4546169.348999999], [419863.3443, 4546163.1186999995]]], 'spatialReference': {'wkid': 26912, 'latestWkid': 26912}}, {'rings': [[[419900.2692, 4546193.914999999], [419901.31709999964, 4546186.264799999], [419861.5875000004, 4546179.7269], [419860.7729000002, 4546187.427300001], [419899.58800000045, 4546193.803200001], [419900.2692, 4546193.914999999]]], 'spatialReference': {'wkid': 26912, 'latestWkid': 26912}}, {'rings': [[[419899.89190000016, 4546196.669500001], [419900.2692, 4546193.914999999], [419899.58800000045, 4546193.803200001], [419860.7729000002, 4546187.427300001], [419860.1490000002, 4546193.3259], [419899.89190000016, 4546196.669500001]]], 'spatialReference': {'wkid': 26912, 'latestWkid': 26912}}]\n",
      "[{'rings': [[[419901.31709999964, 4546186.264799999], [419940.3216000004, 4546192.9361000005], [419942.70529999956, 4546175.593800001], [419903.6342000002, 4546169.348999999], [419901.31709999964, 4546186.264799999]]], 'spatialReference': {'wkid': 26912, 'latestWkid': 26912}}, {'rings': [[[419939.3054999998, 4546200.327400001], [419940.3216000004, 4546192.9361000005], [419901.31709999964, 4546186.264799999], [419900.2692, 4546193.914999999], [419938.50650000013, 4546200.196], [419939.3054999998, 4546200.327400001]]], 'spatialReference': {'wkid': 26912, 'latestWkid': 26912}}, {'rings': [[[419899.89190000016, 4546196.669500001], [419939.22109999973, 4546200.9407], [419939.3054999998, 4546200.327400001], [419900.2692, 4546193.914999999], [419899.89190000016, 4546196.669500001]]], 'spatialReference': {'wkid': 26912, 'latestWkid': 26912}}]\n",
      "[{'rings': [[[419996.6797000002, 4546205.1543000005], [419997.1793999998, 4546202.069700001], [419957.9797, 4546195.8094], [419957.0175000001, 4546201.933800001], [419996.6797000002, 4546205.1543000005]]], 'spatialReference': {'wkid': 26912, 'latestWkid': 26912}}, {'rings': [[[419960.51290000044, 4546177.721000001], [419957.9797, 4546195.8094], [419997.1793999998, 4546202.069700001], [420000.0943, 4546184.259400001], [419960.51290000044, 4546177.721000001]]], 'spatialReference': {'wkid': 26912, 'latestWkid': 26912}}]\n",
      "[{'rings': [[[420008.3016999997, 4546402.5868], [420047.0817999998, 4546412.8946], [420050.9835999999, 4546393.6883000005], [420011.7149, 4546384.737299999], [420008.3850999996, 4546401.137399999], [420008.3016999997, 4546402.5868]]], 'spatialReference': {'wkid': 26912, 'latestWkid': 26912}}, {'rings': [[[420046.95079999976, 4546413.5392], [420047.0817999998, 4546412.8946], [420008.3016999997, 4546402.5868], [420008.2182, 4546404.0363], [420046.95079999976, 4546413.5392]]], 'spatialReference': {'wkid': 26912, 'latestWkid': 26912}}]\n",
      "[{'rings': [[[420033.4479, 4546275.7015], [420012.3671000004, 4546270.450200001], [419990.0499, 4546264.991599999], [419986.4764999999, 4546285.752800001], [420026.8945000004, 4546293.1757], [420029.46300000045, 4546293.647500001], [420033.4479, 4546275.7015]]], 'spatialReference': {'wkid': 26912, 'latestWkid': 26912}}, {'rings': [[[420029.46300000045, 4546293.647500001], [420026.8945000004, 4546293.1757], [419986.4764999999, 4546285.752800001], [419986.0692999996, 4546288.1186999995], [420029.1188000003, 4546295.246099999], [420029.46300000045, 4546293.647500001]]], 'spatialReference': {'wkid': 26912, 'latestWkid': 26912}}]\n",
      "[{'rings': [[[420025.3570999997, 4546313.2498], [420025.6782999998, 4546311.730900001], [420021.59750000015, 4546311.0472], [419983.1936999997, 4546304.613700001], [419982.9291000003, 4546306.1313000005], [420025.3570999997, 4546313.2498]]], 'spatialReference': {'wkid': 26912, 'latestWkid': 26912}}, {'rings': [[[419983.1936999997, 4546304.613700001], [420021.59750000015, 4546311.0472], [420025.6782999998, 4546311.730900001], [420026.0610999996, 4546309.890900001], [420029.1188000003, 4546295.246099999], [419986.0692999996, 4546288.1186999995], [419983.1936999997, 4546304.613700001]]], 'spatialReference': {'wkid': 26912, 'latestWkid': 26912}}]\n",
      "[{'rings': [[[419980.3203999996, 4546323.233200001], [420013.5850999998, 4546328.4023], [420022.22229999956, 4546329.7445], [420025.3570999997, 4546313.2498], [419982.9291000003, 4546306.1313000005], [419980.3203999996, 4546323.233200001]]], 'spatialReference': {'wkid': 26912, 'latestWkid': 26912}}, {'rings': [[[420020.7451999998, 4546337.369200001], [420022.22229999956, 4546329.7445], [420013.5850999998, 4546328.4023], [419980.3203999996, 4546323.233200001], [419979.25100000016, 4546330.2434], [420020.7451999998, 4546337.369200001]]], 'spatialReference': {'wkid': 26912, 'latestWkid': 26912}}]\n",
      "[{'rings': [[[419977.46719999984, 4546342.533], [420010.29119999986, 4546346.690199999], [420018.8172000004, 4546347.770099999], [420020.7451999998, 4546337.369200001], [419979.25100000016, 4546330.2434], [419977.46719999984, 4546342.533]]], 'spatialReference': {'wkid': 26912, 'latestWkid': 26912}}, {'rings': [[[420016.5851999996, 4546358.717700001], [420018.8172000004, 4546347.770099999], [420010.29119999986, 4546346.690199999], [419977.46719999984, 4546342.533], [419976.1501000002, 4546351.607000001], [420016.5851999996, 4546358.717700001]]], 'spatialReference': {'wkid': 26912, 'latestWkid': 26912}}]\n",
      "[{'rings': [[[419972.7553000003, 4546373.887700001], [420012.3371000001, 4546380.7162999995], [420015.4879999999, 4546365.209100001], [420010.1897, 4546364.3466], [419975.0800000001, 4546358.6307], [419972.7553000003, 4546373.887700001]]], 'spatialReference': {'wkid': 26912, 'latestWkid': 26912}}, {'rings': [[[420015.4879999999, 4546365.209100001], [420016.5851999996, 4546358.717700001], [419976.1501000002, 4546351.607000001], [419975.0800000001, 4546358.6307], [420010.1897, 4546364.3466], [420015.4879999999, 4546365.209100001]]], 'spatialReference': {'wkid': 26912, 'latestWkid': 26912}}]\n",
      "[{'rings': [[[419969.65079999994, 4546394.946599999], [420008.3850999996, 4546401.137399999], [420011.7149, 4546384.737299999], [420009.11730000004, 4546384.274900001], [419972.19319999963, 4546377.700099999], [419969.65079999994, 4546394.946599999]]], 'spatialReference': {'wkid': 26912, 'latestWkid': 26912}}, {'rings': [[[420011.7149, 4546384.737299999], [420012.3371000001, 4546380.7162999995], [419972.7553000003, 4546373.887700001], [419972.19319999963, 4546377.700099999], [420009.11730000004, 4546384.274900001], [420011.7149, 4546384.737299999]]], 'spatialReference': {'wkid': 26912, 'latestWkid': 26912}}]\n",
      "[{'rings': [[[419969.4025999997, 4546396.9408], [419967.3032999998, 4546413.810799999], [419967.10450000037, 4546415.079500001], [420004.7215, 4546423.7838], [420004.79619999975, 4546423.361500001], [420008.2182, 4546404.0363], [420008.3016999997, 4546402.5868], [419969.4025999997, 4546396.9408]]], 'spatialReference': {'wkid': 26912, 'latestWkid': 26912}}, {'rings': [[[420008.3016999997, 4546402.5868], [420008.3850999996, 4546401.137399999], [419969.65079999994, 4546394.946599999], [419969.4025999997, 4546396.9408], [420008.3016999997, 4546402.5868]]], 'spatialReference': {'wkid': 26912, 'latestWkid': 26912}}, {'rings': [[[420004.33469999954, 4546425.773700001], [420004.71889999975, 4546423.7952], [420004.7209000001, 4546423.7837000005], [419983.91000000015, 4546418.9682], [419967.10450000037, 4546415.079500001], [419966.8343000002, 4546416.804], [420004.33469999954, 4546425.773700001]]], 'spatialReference': {'wkid': 26912, 'latestWkid': 26912}}]\n",
      "[{'rings': [[[420097.8184000002, 4546422.6503], [420063.07770000026, 4546414.6757], [420058.3376000002, 4546435.780300001], [420093.07830000017, 4546443.754799999], [420097.8184000002, 4546422.6503]]], 'spatialReference': {'wkid': 26912, 'latestWkid': 26912}}, {'rings': [[[420093.07830000017, 4546443.754799999], [420058.3376000002, 4546435.780300001], [420058.0038999999, 4546437.2664], [420092.74459999986, 4546445.241], [420093.07830000017, 4546443.754799999]]], 'spatialReference': {'wkid': 26912, 'latestWkid': 26912}}]\n",
      "[{'rings': [[[420046.95079999976, 4546413.5392], [420008.2182, 4546404.0363], [420004.79619999975, 4546423.361500001], [420004.7213000003, 4546423.7838], [420042.65699999966, 4546433.1028], [420043.1939000003, 4546430.4592], [420046.95079999976, 4546413.5392]]], 'spatialReference': {'wkid': 26912, 'latestWkid': 26912}}, {'rings': [[[420042.65699999966, 4546433.1028], [420004.7213000003, 4546423.7838], [420004.71889999975, 4546423.7952], [420004.33469999954, 4546425.773700001], [420004.6113999998, 4546425.8399], [420009.44010000024, 4546426.966399999], [420042.3426000001, 4546434.642999999], [420042.65699999966, 4546433.1028]]], 'spatialReference': {'wkid': 26912, 'latestWkid': 26912}}]\n",
      "[{'rings': [[[420042.03639999963, 4546436.1427], [420042.3426000001, 4546434.642999999], [420009.44010000024, 4546426.966399999], [420009.0581, 4546428.611400001], [420026.01669999957, 4546432.484200001], [420042.03639999963, 4546436.1427]]], 'spatialReference': {'wkid': 26912, 'latestWkid': 26912}}, {'rings': [[[420036.56620000023, 4546463.3226], [420037.01889999956, 4546461.073000001], [420003.7578999996, 4546453.7423], [420003.3312999997, 4546455.8048], [420036.56620000023, 4546463.3226]]], 'spatialReference': {'wkid': 26912, 'latestWkid': 26912}}, {'rings': [[[420042.03639999963, 4546436.1427], [420026.01669999957, 4546432.484200001], [420009.0581, 4546428.611400001], [420008.87710000016, 4546429.3914], [420005.73929999955, 4546444.161499999], [420003.7578999996, 4546453.7423], [420037.01889999956, 4546461.073000001], [420041.70610000007, 4546437.7838], [420042.03639999963, 4546436.1427]]], 'spatialReference': {'wkid': 26912, 'latestWkid': 26912}}]\n",
      "[{'rings': [[[419692.3306999998, 4546325.830499999], [419735.3476, 4546329.0548], [419736.7768000001, 4546308.1032], [419693.5005999999, 4546304.6262], [419692.3306999998, 4546325.830499999]]], 'spatialReference': {'wkid': 26912, 'latestWkid': 26912}}, {'rings': [[[419692.2209999999, 4546327.8199000005], [419735.2167999996, 4546330.9717999995], [419735.3476, 4546329.0548], [419692.3306999998, 4546325.830499999], [419692.2209999999, 4546327.8199000005]]], 'spatialReference': {'wkid': 26912, 'latestWkid': 26912}}]\n",
      "[{'rings': [[[419690.6646999996, 4546350.9932], [419733.66050000023, 4546354.145300001], [419735.0992999999, 4546332.721899999], [419692.11340000015, 4546329.422], [419690.6646999996, 4546350.9932]]], 'spatialReference': {'wkid': 26912, 'latestWkid': 26912}}, {'rings': [[[419735.0992999999, 4546332.721899999], [419735.2167999996, 4546330.9717999995], [419692.2209999999, 4546327.8199000005], [419692.11340000015, 4546329.422], [419735.0992999999, 4546332.721899999]]], 'spatialReference': {'wkid': 26912, 'latestWkid': 26912}}]\n",
      "[{'rings': [[[419752.2644999996, 4546355.7552000005], [419795.6911000004, 4546358.6072], [419797.0053000003, 4546337.9452], [419753.61679999996, 4546334.680500001], [419752.2644999996, 4546355.7552000005]]], 'spatialReference': {'wkid': 26912, 'latestWkid': 26912}}, {'rings': [[[419797.0053000003, 4546337.9452], [419797.20749999955, 4546334.8224], [419753.81010000035, 4546331.6679], [419753.61679999996, 4546334.680500001], [419797.0053000003, 4546337.9452]]], 'spatialReference': {'wkid': 26912, 'latestWkid': 26912}}]\n",
      "[{'rings': [[[420214.0159, 4546241.0174], [420231.84190000035, 4546208.6471], [420231.22389999963, 4546208.3094], [420213.1034000004, 4546240.6702], [420214.0159, 4546241.0174]]], 'spatialReference': {'wkid': 26912, 'latestWkid': 26912}}, {'rings': [[[420214.0159, 4546241.0174], [420220.9780000001, 4546243.665999999], [420223.81549999956, 4546244.8100000005], [420233.6242000004, 4546249.874399999], [420250.3881000001, 4546218.7818], [420231.84190000035, 4546208.6471], [420214.0159, 4546241.0174]]], 'spatialReference': {'wkid': 26912, 'latestWkid': 26912}}]\n",
      "[{'rings': [[[420227.61789999995, 4546321.870999999], [420232.39350000024, 4546323.1755], [420248.81379999965, 4546328.153000001], [420270.63350000046, 4546288.1339], [420251.5426000003, 4546277.3936], [420227.61789999995, 4546321.870999999]]], 'spatialReference': {'wkid': 26912, 'latestWkid': 26912}}, {'rings': [[[420227.61789999995, 4546321.870999999], [420251.5426000003, 4546277.3936], [420251.0050999997, 4546277.091], [420226.8175999997, 4546321.6523], [420227.61789999995, 4546321.870999999]]], 'spatialReference': {'wkid': 26912, 'latestWkid': 26912}}]\n",
      "[{'rings': [[[420205.40670000017, 4546315.2311], [420207.0114000002, 4546315.5721], [420226.8175999997, 4546321.6523], [420251.0050999997, 4546277.091], [420232.5733000003, 4546267.3160999995], [420223.051, 4546284.3256], [420220.0756000001, 4546289.6406], [420205.40670000017, 4546315.2311]]], 'spatialReference': {'wkid': 26912, 'latestWkid': 26912}}, {'rings': [[[420220.0756000001, 4546289.6406], [420232.5733000003, 4546267.3160999995], [420230.7708999999, 4546266.360099999], [420218.4938000003, 4546289.268100001], [420220.0756000001, 4546289.6406]]], 'spatialReference': {'wkid': 26912, 'latestWkid': 26912}}]\n",
      "[{'rings': [[[420267.90639999975, 4546397.0462], [420295.3825000003, 4546356.369000001], [420294.4726999998, 4546355.206900001], [420266.41449999996, 4546396.0372], [420267.90639999975, 4546397.0462]]], 'spatialReference': {'wkid': 26912, 'latestWkid': 26912}}, {'rings': [[[420246.7572999997, 4546382.557399999], [420266.41449999996, 4546396.0372], [420294.4726999998, 4546355.206900001], [420280.03920000046, 4546336.771], [420278.26489999983, 4546336.281400001], [420246.7572999997, 4546382.557399999]]], 'spatialReference': {'wkid': 26912, 'latestWkid': 26912}}]\n",
      "[{'rings': [[[420287.22640000004, 4546410.1241], [420310.3064000001, 4546375.4287], [420309.1138000004, 4546373.9048], [420285.4550999999, 4546408.914799999], [420287.22640000004, 4546410.1241]]], 'spatialReference': {'wkid': 26912, 'latestWkid': 26912}}, {'rings': [[[420267.90639999975, 4546397.0462], [420285.4550999999, 4546408.914799999], [420309.1138000004, 4546373.9048], [420295.3825000003, 4546356.369000001], [420267.90639999975, 4546397.0462]]], 'spatialReference': {'wkid': 26912, 'latestWkid': 26912}}]\n",
      "[{'rings': [[[420303.4040000001, 4546421.168099999], [420306.95419999957, 4546423.591700001], [420326.1255999999, 4546395.641799999], [420323.3172000004, 4546392.053200001], [420303.4040000001, 4546421.168099999]]], 'spatialReference': {'wkid': 26912, 'latestWkid': 26912}}, {'rings': [[[420287.22640000004, 4546410.1241], [420303.4040000001, 4546421.168099999], [420323.3169, 4546392.0537], [420310.3064000001, 4546375.4287], [420287.22640000004, 4546410.1241]]], 'spatialReference': {'wkid': 26912, 'latestWkid': 26912}}]\n",
      "[{'rings': [[[420258.1599000003, 4546451.1894000005], [420275.05200000014, 4546462.6214000005], [420295.0290000001, 4546433.5359000005], [420278.1956000002, 4546421.974300001], [420258.1599000003, 4546451.1894000005]]], 'spatialReference': {'wkid': 26912, 'latestWkid': 26912}}, {'rings': [[[420279.10929999966, 4546465.353599999], [420298.8755999999, 4546436.177999999], [420295.0290000001, 4546433.5359000005], [420275.0571999997, 4546462.6139], [420279.10929999966, 4546465.353599999]]], 'spatialReference': {'wkid': 26912, 'latestWkid': 26912}}]\n",
      "[{'rings': [[[420240.4123999998, 4546438.788899999], [420256.7807, 4546450.256899999], [420277.0683000004, 4546421.200099999], [420259.78610000014, 4546409.6854], [420240.4123999998, 4546438.788899999]]], 'spatialReference': {'wkid': 26912, 'latestWkid': 26912}}, {'rings': [[[420258.1599000003, 4546451.1894000005], [420278.1956000002, 4546421.974300001], [420277.0683000004, 4546421.200099999], [420256.7807, 4546450.256899999], [420258.1599000003, 4546451.1894000005]]], 'spatialReference': {'wkid': 26912, 'latestWkid': 26912}}]\n",
      "[{'rings': [[[420221.0592, 4546425.512800001], [420239.25939999986, 4546437.981000001], [420258.64410000015, 4546408.9245], [420240.52440000046, 4546396.645400001], [420221.0592, 4546425.512800001]]], 'spatialReference': {'wkid': 26912, 'latestWkid': 26912}}, {'rings': [[[420240.4123999998, 4546438.788899999], [420259.78610000014, 4546409.6854], [420258.64410000015, 4546408.9245], [420239.25939999986, 4546437.981000001], [420240.4123999998, 4546438.788899999]]], 'spatialReference': {'wkid': 26912, 'latestWkid': 26912}}]\n",
      "[{'rings': [[[420254.8074000003, 4546492.220899999], [420259.0455, 4546495.142000001], [420279.10929999966, 4546465.353599999], [420275.0571999997, 4546462.6139], [420275.05200000014, 4546462.6214000005], [420274.8158999998, 4546462.966499999], [420254.8074000003, 4546492.220899999]]], 'spatialReference': {'wkid': 26912, 'latestWkid': 26912}}, {'rings': [[[420275.0571999997, 4546462.6139], [420256.7807, 4546450.256899999], [420236.0088999998, 4546479.2645], [420254.8074000003, 4546492.220899999], [420259.0455, 4546495.142000001], [420279.10929999966, 4546465.353599999], [420275.0571999997, 4546462.6139]]], 'spatialReference': {'wkid': 26912, 'latestWkid': 26912}}]\n",
      "[{'rings': [[[420230.5515999999, 4546536.6778], [420251.2714999998, 4546507.7247], [420246.3409000002, 4546504.352399999], [420226.3278999999, 4546533.859999999], [420230.5515999999, 4546536.6778]]], 'spatialReference': {'wkid': 26912, 'latestWkid': 26912}}, {'rings': [[[420226.3278999999, 4546533.859999999], [420246.3409000002, 4546504.352399999], [420227.62210000027, 4546491.549699999], [420207.5582999997, 4546521.338099999], [420226.3278999999, 4546533.859999999]]], 'spatialReference': {'wkid': 26912, 'latestWkid': 26912}}]\n",
      "[{'rings': [[[420263.05150000006, 4547725.7655], [420263.20999999996, 4547739.278999999], [420284.95139999967, 4547739.0239], [420284.7929999996, 4547725.510500001], [420263.05150000006, 4547725.7655]]], 'spatialReference': {'wkid': 26912, 'latestWkid': 26912}}, {'rings': [[[420250.31909999996, 4547773.5537], [420252.87739999965, 4547773.188100001], [420255.44880000036, 4547771.3619], [420256.35639999993, 4547769.409399999], [420256.54760000017, 4547767.512599999], [420256.8521999996, 4547766.3934], [420256.68259999994, 4547753.979699999], [420256.59140000027, 4547752.491900001], [420256.07600000035, 4547750.1515999995], [420254.5954999998, 4547748.095899999], [420252.6459999997, 4547746.683700001], [420250.1727, 4547746.134500001], [420243.08970000036, 4547746.3551], [420241.2034, 4547746.079], [420238.99450000003, 4547744.838099999], [420237.48139999993, 4547742.8058], [420236.92569999956, 4547740.3465], [420236.79849999957, 4547726.076199999], [420233.45139999967, 4547726.112500001], [420233.88599999994, 4547757.6317], [420226.26570000034, 4547757.732100001], [420226.37320000026, 4547765.5504], [420226.3783, 4547767.7146000005], [420226.94629999995, 4547770.226600001], [420228.46910000034, 4547772.2513999995], [420230.1607999997, 4547773.300899999], [420232.01520000026, 4547773.742799999], [420235.69680000003, 4547773.7248], [420250.31909999996, 4547773.5537]]], 'spatialReference': {'wkid': 26912, 'latestWkid': 26912}}]\n",
      "[{'rings': [[[419267.4844000004, 4547936.959000001], [419264.48039999977, 4547936.986500001], [419264.75769999996, 4547967.450300001], [419289.12870000023, 4547967.2282], [419288.8526999997, 4547936.7645], [419288.85280000046, 4547936.749500001], [419288.8300000001, 4547936.7498], [419277.47300000023, 4547936.861], [419267.4844000004, 4547936.959000001]]], 'spatialReference': {'wkid': 26912, 'latestWkid': 26912}}, {'rings': [[[419267.20050000027, 4547936.947699999], [419264.48029999994, 4547936.9715], [419264.48039999977, 4547936.986500001], [419264.75769999996, 4547967.450300001], [419289.12870000023, 4547967.2282], [419288.8526999997, 4547936.7645], [419277.47300000023, 4547936.861], [419267.20050000027, 4547936.947699999]]], 'spatialReference': {'wkid': 26912, 'latestWkid': 26912}}]\n",
      "[{'rings': [[[419381.82770000026, 4547935.9025], [419375.3476, 4547935.9615], [419358.98220000044, 4547936.1105], [419359.3663999997, 4547978.467], [419361.54569999967, 4547978.863], [419365.9172, 4547979.580700001], [419370.3032999998, 4547980.202099999], [419374.7022000002, 4547980.7269], [419376.9057, 4547980.9528], [419379.1113999998, 4547981.1546], [419382.2413999997, 4547981.4], [419381.82770000026, 4547935.9025]]], 'spatialReference': {'wkid': 26912, 'latestWkid': 26912}}, {'rings': [[[419419.97119999956, 4547935.555], [419396.9769000001, 4547935.764599999], [419381.82770000026, 4547935.9025], [419382.2413999997, 4547981.4], [419382.27109999955, 4547984.303300001], [419386.6934000002, 4547984.5622000005], [419391.1205000002, 4547984.7238], [419395.5499999998, 4547984.788000001], [419398.7670999998, 4547984.773399999], [419415.9787999997, 4547984.5691], [419415.9444000004, 4547981.675100001], [419416.6087999996, 4547981.6184], [419417.2580000004, 4547981.4657000005], [419417.5725999996, 4547981.3542], [419418.17310000025, 4547981.063999999], [419418.4556999998, 4547980.8868], [419418.72479999997, 4547980.6895], [419419.2161999997, 4547980.238600001], [419419.63680000044, 4547979.721100001], [419419.8174999999, 4547979.4407], [419420.11569999997, 4547978.8440000005], [419420.32380000036, 4547978.2104], [419420.43730000034, 4547977.553200001], [419420.45889999997, 4547977.052100001], [419419.97119999956, 4547935.555]]], 'spatialReference': {'wkid': 26912, 'latestWkid': 26912}}]\n",
      "[{'rings': [[[419281.08270000014, 4547115.5878], [419280.99700000044, 4547115.467700001], [419280.7251000004, 4547115.661599999], [419251.2374999998, 4547136.699100001], [419271.574, 4547165.205700001], [419274.07930000033, 4547163.3783], [419277.7570000002, 4547160.5754], [419281.375, 4547157.6953], [419284.93149999995, 4547154.739800001], [419288.42480000015, 4547151.709899999], [419291.8535000002, 4547148.607000001], [419295.2159000002, 4547145.432700001], [419296.8718999997, 4547143.819], [419299.41050000023, 4547141.2776999995], [419281.08270000014, 4547115.5878]]], 'spatialReference': {'wkid': 26912, 'latestWkid': 26912}}, {'rings': [[[419293.95299999975, 4547113.1719], [419293.91899999976, 4547113.044299999], [419280.99700000044, 4547115.467700001], [419281.08270000014, 4547115.5878], [419299.41050000023, 4547141.2776999995], [419300.94350000005, 4547139.8782], [419302.56259999983, 4547138.579500001], [419304.2615, 4547137.3869], [419300.81900000013, 4547131.697799999], [419297.9313000003, 4547125.7081], [419295.6244000001, 4547119.4714], [419293.95299999975, 4547113.1719]]], 'spatialReference': {'wkid': 26912, 'latestWkid': 26912}}, {'rings': [[[419280.7251000004, 4547115.661599999], [419280.99700000044, 4547115.467700001], [419241.86280000024, 4547123.556399999], [419241.97580000013, 4547123.714500001], [419251.2374999998, 4547136.699100001], [419280.7251000004, 4547115.661599999]]], 'spatialReference': {'wkid': 26912, 'latestWkid': 26912}}]\n",
      "[{'rings': [[[420045.92179999966, 4547399.542300001], [420045.9129999997, 4547418.2524999995], [420037.01329999976, 4547437.3989], [420036.54140000045, 4547452.9779], [420043.4576000003, 4547452.8236], [420042.30869999994, 4547451.642899999], [420041.35539999977, 4547450.2994], [420040.6205000002, 4547448.8247], [420040.1217, 4547447.2546999995], [420039.8707999997, 4547445.6262], [420039.8739, 4547443.978800001], [420040.1308000004, 4547442.351500001], [420040.92540000007, 4547439.7097], [420042.01910000015, 4547437.177100001], [420043.65110000037, 4547433.926200001], [420112.2262000004, 4547432.3972], [420112.09049999993, 4547426.305600001], [420046.74679999985, 4547427.762599999], [420047.46719999984, 4547426.3278], [420048.7114000004, 4547423.290200001], [420049.4781999998, 4547420.0987], [420052.48730000015, 4547417.1581999995], [420052.4857999999, 4547416.153000001], [420052.1127000004, 4547399.4044], [420045.92179999966, 4547399.542300001]]], 'spatialReference': {'wkid': 26912, 'latestWkid': 26912}}, {'rings': [[[420036.54140000045, 4547452.9779], [420037.01329999976, 4547437.3989], [420045.9129999997, 4547418.2524999995], [420045.92179999966, 4547399.542300001], [420044.3459999999, 4547399.577400001], [420039.3205000004, 4547399.6895], [420039.6935999999, 4547416.438200001], [420039.5842000004, 4547418.2893], [420039.1769000003, 4547420.098200001], [420038.48230000027, 4547421.817399999], [420036.29920000024, 4547426.1655], [419996.0769999996, 4547427.0626], [419996.21279999986, 4547433.153999999], [420033.20359999966, 4547432.3292], [420033.0354000004, 4547432.664000001], [420031.2587000001, 4547436.8903], [420030.0673000002, 4547441.317299999], [420029.48280000035, 4547445.864499999], [420029.30069999956, 4547447.5021], [420028.86849999987, 4547449.0922], [420028.1967000002, 4547450.5966], [420027.30119999964, 4547451.979800001], [420026.2034, 4547453.2084], [420036.54140000045, 4547452.9779]]], 'spatialReference': {'wkid': 26912, 'latestWkid': 26912}}]\n",
      "[{'rings': [[[420288.6573999999, 4547147.9276], [420242.96329999994, 4547148.494200001], [420243.50629999954, 4547192.289000001], [420319.6634999998, 4547191.350500001], [420288.6573999999, 4547147.9276]]], 'spatialReference': {'wkid': 26912, 'latestWkid': 26912}}, {'rings': [[[420185.13129999954, 4547153.721000001], [420185.92569999956, 4547208.5524], [420222.85840000026, 4547208.0459], [420222.10699999984, 4547153.214], [420185.13129999954, 4547153.721000001]]], 'spatialReference': {'wkid': 26912, 'latestWkid': 26912}}]\n",
      "[{'rings': [[[420289.8794, 4546298.6318], [420280.03920000046, 4546336.771], [420326.1255999999, 4546395.641799999], [420362.6476999996, 4546340.3728], [420289.8794, 4546298.6318]]], 'spatialReference': {'wkid': 26912, 'latestWkid': 26912}}, {'rings': [[[420303.45639999956, 4546247.649800001], [420293.42009999976, 4546282.6872000005], [420371.6294, 4546326.8618], [420426.4232999999, 4546244.8719], [420324.9846000001, 4546172.316], [420324.2355000004, 4546175.1072], [420316.9395000003, 4546200.578199999], [420305.92310000025, 4546239.037900001], [420303.45639999956, 4546247.649800001]]], 'spatialReference': {'wkid': 26912, 'latestWkid': 26912}}]\n",
      "[{'rings': [[[420297.4040000001, 4546752.444800001], [420261.45419999957, 4546752.5616999995], [420261.0899, 4546776.7568], [420260.94039999973, 4546786.6909], [420260.9963999996, 4546786.674799999], [420300.5991000002, 4546774.7588], [420299.5683000004, 4546770.4506], [420298.6564999996, 4546765.593900001], [420297.9852999998, 4546760.6983], [420297.5560999997, 4546755.775599999], [420297.4040000001, 4546752.444800001]]], 'spatialReference': {'wkid': 26912, 'latestWkid': 26912}}, {'rings': [[[420300.94269999955, 4546775.9143], [420300.5991000002, 4546774.7588], [420261.06900000013, 4546786.653899999], [420290.54250000045, 4546779.3005], [420300.94269999955, 4546775.9143]]], 'spatialReference': {'wkid': 26912, 'latestWkid': 26912}}]\n",
      "[{'rings': [[[420303.22119999956, 4547011.795299999], [420325.36259999964, 4547006.213500001], [420340.27419999987, 4546994.3587], [420317.69350000005, 4546978.0385], [420316.341, 4546979.703400001], [420314.6246999996, 4546981.409600001], [420313.2034, 4546982.591600001], [420311.6370000001, 4546983.4945], [420309.96360000037, 4546984.1788], [420308.2133999998, 4546984.631999999], [420306.41810000036, 4546984.846000001], [420304.6986999996, 4546984.823999999], [420303.22119999956, 4547011.795299999]]], 'spatialReference': {'wkid': 26912, 'latestWkid': 26912}}, {'rings': [[[420340.25459999964, 4546994.3835], [420329.48139999993, 4546980.2684], [420318.89520000014, 4546976.289899999], [420317.69350000005, 4546978.0385], [420340.25459999964, 4546994.3835]]], 'spatialReference': {'wkid': 26912, 'latestWkid': 26912}}]\n",
      "[{'rings': [[[420494.2572999997, 4547171.1932], [420494.6481999997, 4547204.5349], [420501.4927000003, 4547204.438999999], [420528.4611999998, 4547204.0612], [420526.93850000016, 4547178.122099999], [420525.0811999999, 4547178.1709], [420523.2335000001, 4547177.976299999], [420521.4271999998, 4547177.5419], [420519.6930999998, 4547176.875], [420519.30480000004, 4547176.6883000005], [420517.39219999965, 4547175.4542], [420515.6224999996, 4547174.022700001], [420514.0155999996, 4547172.4103], [420512.8398000002, 4547170.975299999], [420494.2572999997, 4547171.1932]]], 'spatialReference': {'wkid': 26912, 'latestWkid': 26912}}, {'rings': [[[420528.79669999983, 4547209.774900001], [420528.4611999998, 4547204.0612], [420528.2520000003, 4547204.064099999], [420494.6481999997, 4547204.5349], [420494.6501000002, 4547204.7026], [420494.47950000037, 4547210.247300001], [420528.79669999983, 4547209.774900001]]], 'spatialReference': {'wkid': 26912, 'latestWkid': 26912}}]\n",
      "[{'rings': [[[420391.1299999999, 4547106.5934], [420402.3717, 4547129.921399999], [420443.1146999998, 4547122.839299999], [420426.5895999996, 4547090.6393], [420424.70150000043, 4547091.215600001], [420419.07749999966, 4547093.1018], [420413.5357999997, 4547095.217499999], [420408.0856999997, 4547097.5591], [420391.1299999999, 4547106.5934]]], 'spatialReference': {'wkid': 26912, 'latestWkid': 26912}}, {'rings': [[[420402.3717, 4547129.921399999], [420411.56680000015, 4547160.5853], [420417.27770000044, 4547159.3112], [420423.0366000002, 4547158.275699999], [420428.83359999955, 4547157.4811], [420434.65890000015, 4547156.9286], [420440.50189999957, 4547156.619100001], [420443.5100999996, 4547156.5548], [420443.1146999998, 4547122.839299999], [420402.3717, 4547129.921399999]]], 'spatialReference': {'wkid': 26912, 'latestWkid': 26912}}]\n",
      "[{'rings': [[[420526.93850000016, 4547178.122099999], [420528.4611999998, 4547204.0612], [420556.7553000003, 4547203.664899999], [420567.7259999998, 4547203.5111], [420567.1640999997, 4547178.8751], [420540.23139999993, 4547168.521500001], [420539.1048999997, 4547170.444], [420537.77520000003, 4547172.231899999], [420536.25829999987, 4547173.8641], [420534.57239999995, 4547175.3211], [420533.31429999974, 4547176.2194], [420531.6749999998, 4547177.0448], [420529.9408999998, 4547177.646], [420528.14240000024, 4547178.012499999], [420526.93850000016, 4547178.122099999]]], 'spatialReference': {'wkid': 26912, 'latestWkid': 26912}}, {'rings': [[[420567.1640999997, 4547178.8751], [420567.7176999999, 4547203.147700001], [420582.37509999983, 4547202.9439], [420582.09080000035, 4547178.6941], [420567.1640999997, 4547178.8751]]], 'spatialReference': {'wkid': 26912, 'latestWkid': 26912}}, {'rings': [[[420528.79669999983, 4547209.774900001], [420567.7594999997, 4547209.238600001], [420567.6807000004, 4547203.512800001], [420528.4611999998, 4547204.0612], [420528.79669999983, 4547209.774900001]]], 'spatialReference': {'wkid': 26912, 'latestWkid': 26912}}]\n",
      "[{'rings': [[[420457.70160000026, 4547171.6219], [420458.09449999966, 4547205.1313000005], [420494.6501000002, 4547204.7026], [420494.2572999997, 4547171.1932], [420457.70160000026, 4547171.6219]]], 'spatialReference': {'wkid': 26912, 'latestWkid': 26912}}, {'rings': [[[420458.0663999999, 4547221.0374], [420494.6211000001, 4547220.5342], [420494.47950000037, 4547210.247300001], [420494.6501000002, 4547204.7026], [420458.09449999966, 4547205.1313000005], [420458.0663999999, 4547221.0374]]], 'spatialReference': {'wkid': 26912, 'latestWkid': 26912}}]\n",
      "[{'rings': [[[420388.0499999998, 4547233.6777], [420388.22640000004, 4547260.9562], [420421.76520000026, 4547260.4264], [420421.54860000033, 4547232.3708999995], [420388.0499999998, 4547233.6777]]], 'spatialReference': {'wkid': 26912, 'latestWkid': 26912}}, {'rings': [[[420421.54860000033, 4547232.3708999995], [420421.76520000026, 4547260.4264], [420458.5239000004, 4547259.842], [420458.2123999996, 4547231.645199999], [420421.54860000033, 4547232.3708999995]]], 'spatialReference': {'wkid': 26912, 'latestWkid': 26912}}]\n",
      "[{'rings': [[[420418.42929999996, 4547174.2151], [420421.23429999966, 4547205.5634], [420458.09449999966, 4547205.1313000005], [420457.70160000026, 4547171.6219], [420442.8493999997, 4547171.800100001], [420436.7132000001, 4547172.0397], [420430.5915000001, 4547172.522700001], [420424.4935999997, 4547173.248199999], [420418.42929999996, 4547174.2151]]], 'spatialReference': {'wkid': 26912, 'latestWkid': 26912}}, {'rings': [[[420421.23429999966, 4547205.5634], [420421.54860000033, 4547232.3708999995], [420458.2123999996, 4547231.645199999], [420458.0663999999, 4547221.0374], [420458.09449999966, 4547205.1313000005], [420421.23429999966, 4547205.5634]]], 'spatialReference': {'wkid': 26912, 'latestWkid': 26912}}]\n",
      "[{'rings': [[[420535.15020000003, 4547150.9101], [420536.54420000035, 4547151.8736000005], [420537.7856999999, 4547153.0271000005], [420538.84920000006, 4547154.3464], [420539.71270000003, 4547155.804500001], [420540.3585000001, 4547157.371200001], [420540.72640000004, 4547158.7662], [420541.04839999974, 4547160.9087000005], [420541.1281000003, 4547163.073899999], [420540.9643000001, 4547165.2345], [420540.5591000002, 4547167.3629], [420540.23139999993, 4547168.521500001], [420567.1640999997, 4547178.8751], [420566.48890000023, 4547121.2941], [420558.87310000043, 4547121.383400001], [420535.15020000003, 4547150.9101]]], 'spatialReference': {'wkid': 26912, 'latestWkid': 26912}}, {'rings': [[[420566.48890000023, 4547121.2941], [420567.1640999997, 4547178.8751], [420582.09080000035, 4547178.6941], [420581.7335999999, 4547148.2311], [420581.41899999976, 4547121.257200001], [420572.5673000002, 4547121.278999999], [420566.48890000023, 4547121.2941]]], 'spatialReference': {'wkid': 26912, 'latestWkid': 26912}}]\n",
      "[{'rings': [[[420599.3650000002, 4546910.989700001], [420640.82519999985, 4546860.2151], [420610.57799999975, 4546842.388800001], [420601.8398000002, 4546862.213300001], [420599.5125000002, 4546867.307], [420596.9656999996, 4546872.2949], [420594.20430000033, 4546877.167099999], [420591.2335000001, 4546881.9146], [420588.05900000036, 4546886.5284], [420584.6869999999, 4546890.9997000005], [420583.9084999999, 4546891.976600001], [420599.3650000002, 4546910.989700001]]], 'spatialReference': {'wkid': 26912, 'latestWkid': 26912}}, {'rings': [[[420599.3650000002, 4546910.989700001], [420605.8552000001, 4546918.835100001], [420642.49149999954, 4546861.1972], [420640.82519999985, 4546860.2151], [420599.3650000002, 4546910.989700001]]], 'spatialReference': {'wkid': 26912, 'latestWkid': 26912}}]\n",
      "[{'rings': [[[420522.19570000004, 4546851.569599999], [420547.0278000003, 4546864.6839000005], [420564.2329000002, 4546830.896500001], [420562.01439999975, 4546829.828], [420559.18450000044, 4546828.4649], [420557.4682, 4546827.6383], [420543.6934000002, 4546821.003799999], [420539.19880000036, 4546818.8389], [420522.19570000004, 4546851.569599999]]], 'spatialReference': {'wkid': 26912, 'latestWkid': 26912}}, {'rings': [[[420564.2329000002, 4546830.896500001], [420567.89329999965, 4546819.2303], [420580.27809999976, 4546826.108999999], [420581.3093999997, 4546823.080499999], [420544.7408999996, 4546808.686899999], [420539.19880000036, 4546818.8389], [420543.6934000002, 4546821.003799999], [420557.4682, 4546827.6383], [420559.18450000044, 4546828.4649], [420562.01439999975, 4546829.828], [420564.2329000002, 4546830.896500001]]], 'spatialReference': {'wkid': 26912, 'latestWkid': 26912}}]\n",
      "[{'rings': [[[420449.5482999999, 4546814.0326000005], [420473.76049999986, 4546826.2402], [420490.05370000005, 4546795.168500001], [420487.0120000001, 4546793.669199999], [420469.0636999998, 4546785.0594], [420465.4269000003, 4546783.3071], [420449.5482999999, 4546814.0326000005]]], 'spatialReference': {'wkid': 26912, 'latestWkid': 26912}}, {'rings': [[[420490.05370000005, 4546795.168500001], [420492.57550000027, 4546790.3440000005], [420467.40419999976, 4546780.383099999], [420465.4269000003, 4546783.3071], [420469.0636999998, 4546785.0594], [420487.0120000001, 4546793.669199999], [420490.05370000005, 4546795.168500001]]], 'spatialReference': {'wkid': 26912, 'latestWkid': 26912}}]\n",
      "[{'rings': [[[420497.9762000004, 4546838.752599999], [420522.19570000004, 4546851.569599999], [420539.19880000036, 4546818.8389], [420533.44209999964, 4546816.066199999], [420517.1141999997, 4546808.2019], [420514.44070000015, 4546806.9144], [420497.9762000004, 4546838.752599999]]], 'spatialReference': {'wkid': 26912, 'latestWkid': 26912}}, {'rings': [[[420539.19880000036, 4546818.8389], [420544.7408999996, 4546808.686899999], [420518.4210999999, 4546799.7217999995], [420514.44070000015, 4546806.9144], [420517.1141999997, 4546808.2019], [420533.44209999964, 4546816.066199999], [420539.19880000036, 4546818.8389]]], 'spatialReference': {'wkid': 26912, 'latestWkid': 26912}}]\n",
      "[{'rings': [[[420425.9417000003, 4546801.5132], [420435.7542000003, 4546806.882300001], [420449.5482999999, 4546814.0326000005], [420465.4269000003, 4546783.3071], [420463.2385999998, 4546782.253799999], [420458.63889999967, 4546780.0385], [420438.79339999985, 4546770.480799999], [420437.7335000001, 4546769.9702], [420425.9417000003, 4546801.5132]]], 'spatialReference': {'wkid': 26912, 'latestWkid': 26912}}, {'rings': [[[420465.4269000003, 4546783.3071], [420467.40419999976, 4546780.383099999], [420461.50540000014, 4546778.048900001], [420438.46729999967, 4546769.153100001], [420438.301, 4546769.0888], [420437.7335000001, 4546769.9702], [420438.79339999985, 4546770.480799999], [420458.63889999967, 4546780.0385], [420463.2385999998, 4546782.253799999], [420465.4269000003, 4546783.3071]]], 'spatialReference': {'wkid': 26912, 'latestWkid': 26912}}]\n",
      "[{'rings': [[[420473.76049999986, 4546826.2402], [420497.9762000004, 4546838.752599999], [420514.44070000015, 4546806.9144], [420490.05370000005, 4546795.168500001], [420473.76049999986, 4546826.2402]]], 'spatialReference': {'wkid': 26912, 'latestWkid': 26912}}, {'rings': [[[420490.05370000005, 4546795.168500001], [420514.44070000015, 4546806.9144], [420518.4210999999, 4546799.7217999995], [420502.9977000002, 4546794.4684], [420492.57550000027, 4546790.3440000005], [420490.05370000005, 4546795.168500001]]], 'spatialReference': {'wkid': 26912, 'latestWkid': 26912}}]\n",
      "[{'rings': [[[420791.85730000027, 4546959.7853999995], [420793.00769999996, 4546956.3653], [420775.68510000035, 4546946.7982], [420767.5987, 4546922.448000001], [420767.3256999999, 4546921.6259], [420766.4411000004, 4546922.043500001], [420765.3540000003, 4546922.4120000005], [420773.8340999996, 4546947.9672], [420784.7429999998, 4546980.8422], [420784.7496999996, 4546980.8627], [420791.85730000027, 4546959.7853999995]]], 'spatialReference': {'wkid': 26912, 'latestWkid': 26912}}, {'rings': [[[420773.8340999996, 4546947.9672], [420765.3540000003, 4546922.4120000005], [420763.4283999996, 4546923.018100001], [420761.5577999996, 4546923.349300001], [420759.6604000004, 4546923.4385], [420757.76719999965, 4546923.284399999], [420755.9090999998, 4546922.8893], [420754.1169999996, 4546922.2599], [420752.42009999976, 4546921.406300001], [420750.97470000014, 4546920.429400001], [420732.8591, 4546941.8378], [420739.6531999996, 4546951.508400001], [420739.9950000001, 4546951.9947999995], [420758.8060999997, 4546978.223300001], [420763.13460000046, 4546984.3287], [420773.6727999998, 4546948.5151], [420773.8340999996, 4546947.9672]]], 'spatialReference': {'wkid': 26912, 'latestWkid': 26912}}, {'rings': [[[420758.8060999997, 4546978.223300001], [420739.9950000001, 4546951.9947999995], [420739.6531999996, 4546951.508400001], [420739.62260000035, 4546951.5428], [420732.7073999997, 4546959.300899999], [420732.71779999975, 4546959.3158], [420751.4603000004, 4546985.8298], [420758.4762000004, 4546978.5649], [420758.8060999997, 4546978.223300001]]], 'spatialReference': {'wkid': 26912, 'latestWkid': 26912}}, {'rings': [[[420784.7496999996, 4546980.8627], [420784.7429999998, 4546980.8422], [420773.8340999996, 4546947.9672], [420773.6727999998, 4546948.5151], [420763.13460000046, 4546984.3287], [420769.1414999999, 4546992.8948], [420769.32079999987, 4546993.0842], [420775.3267999999, 4547001.580600001], [420777.76549999975, 4547001.9235], [420778.27979999967, 4547000.3752999995], [420784.35479999986, 4546982.0337000005], [420784.7496999996, 4546980.8627]]], 'spatialReference': {'wkid': 26912, 'latestWkid': 26912}}]\n",
      "[{'rings': [[[420583.6205000002, 4546318.426000001], [420602.9341000002, 4546281.2453000005], [420581.22979999986, 4546270.1603], [420561.95139999967, 4546307.022299999], [420583.6205000002, 4546318.426000001]]], 'spatialReference': {'wkid': 26912, 'latestWkid': 26912}}, {'rings': [[[420561.95139999967, 4546307.022299999], [420581.22979999986, 4546270.1603], [420580.0399000002, 4546269.5414], [420560.8702999996, 4546306.460000001], [420561.95139999967, 4546307.022299999]]], 'spatialReference': {'wkid': 26912, 'latestWkid': 26912}}]\n",
      "[{'rings': [[[420875.7318000002, 4547017.4309], [420876.6830000002, 4547072.565400001], [420879.1235999996, 4547072.841600001], [420881.39580000006, 4547072.8015], [420886.12480000034, 4547072.538000001], [420890.8339999998, 4547072.0316], [420895.5109000001, 4547071.2838], [420900.1431, 4547070.2963], [420904.7185000004, 4547069.071799999], [420907.4304999998, 4547068.194499999], [420903.80420000013, 4547021.0626], [420900.26379999984, 4547020.604499999], [420875.7318000002, 4547017.4309]]], 'spatialReference': {'wkid': 26912, 'latestWkid': 26912}}, {'rings': [[[420909.2248999998, 4547067.6138], [420903.80420000013, 4547021.0626], [420907.4304999998, 4547068.194499999], [420909.2248999998, 4547067.6138]]], 'spatialReference': {'wkid': 26912, 'latestWkid': 26912}}]\n",
      "[{'rings': [[[420389.0954, 4547315.9692], [420389.53000000026, 4547343.4759], [420426.0837000003, 4547342.8982], [420425.6490000002, 4547315.3917], [420389.0954, 4547315.9692]]], 'spatialReference': {'wkid': 26912, 'latestWkid': 26912}}, {'rings': [[[420426.0837000003, 4547342.8982], [420459.68230000045, 4547342.369999999], [420459.36280000024, 4547314.8454], [420425.6490000002, 4547315.3917], [420426.0837000003, 4547342.8982]]], 'spatialReference': {'wkid': 26912, 'latestWkid': 26912}}]\n",
      "[{'rings': [[[420419.37009999994, 4546547.755000001], [420419.5003000004, 4546547.614800001], [420428.5806, 4546537.8321], [420428.69689999986, 4546537.706700001], [420429.4631000003, 4546536.3901], [420409.21669999976, 4546524.6088], [420408.63350000046, 4546538.8697], [420408.59020000044, 4546539.8255], [420418.3342000004, 4546548.870200001], [420419.37009999994, 4546547.755000001]]], 'spatialReference': {'wkid': 26912, 'latestWkid': 26912}}, {'rings': [[[420428.69689999986, 4546537.706700001], [420428.5806, 4546537.8321], [420419.5003000004, 4546547.614800001], [420419.37009999994, 4546547.755000001], [420431.8742000004, 4546559.361099999], [420441.2006999999, 4546549.313100001], [420428.69689999986, 4546537.706700001]]], 'spatialReference': {'wkid': 26912, 'latestWkid': 26912}}]\n",
      "[{'rings': [[[420409.4713000003, 4546565.583799999], [420408.23330000043, 4546566.9177], [420404.2401999999, 4546571.2195999995], [420403.574, 4546571.9374], [420400.76630000025, 4546574.9627], [420403.22250000015, 4546577.2425], [420396.17590000015, 4546584.8343], [420402.6512000002, 4546590.8445999995], [420418.4025999997, 4546573.8748], [420409.4713000003, 4546565.583799999]]], 'spatialReference': {'wkid': 26912, 'latestWkid': 26912}}, {'rings': [[[420409.4713000003, 4546565.583799999], [420407.9462000001, 4546564.168299999], [420402.7150999997, 4546569.804099999], [420404.2401999999, 4546571.2195999995], [420408.23330000043, 4546566.9177], [420409.4713000003, 4546565.583799999]]], 'spatialReference': {'wkid': 26912, 'latestWkid': 26912}}]\n",
      "[{'rings': [[[420417.29789999966, 4546549.987400001], [420417.13889999967, 4546550.158600001], [420408.20409999974, 4546559.7842999995], [420407.97229999956, 4546560.034], [420420.4752000002, 4546571.641899999], [420429.8016999997, 4546561.5940000005], [420417.29789999966, 4546549.987400001]]], 'spatialReference': {'wkid': 26912, 'latestWkid': 26912}}, {'rings': [[[420417.29789999966, 4546549.987400001], [420418.3342000004, 4546548.870200001], [420408.59020000044, 4546539.8255], [420408.10080000013, 4546546.0119], [420407.2522999998, 4546552.159600001], [420406.04760000017, 4546558.2475000005], [420407.97229999956, 4546560.034], [420408.20409999974, 4546559.7842999995], [420417.13889999967, 4546550.158600001], [420417.29789999966, 4546549.987400001]]], 'spatialReference': {'wkid': 26912, 'latestWkid': 26912}}]\n",
      "[{'rings': [[[420427.76109999977, 4546514.677200001], [420420.9885, 4546526.316299999], [420420.8661000002, 4546526.5265999995], [420435.6118000001, 4546535.106899999], [420442.5067999996, 4546523.2577], [420427.76109999977, 4546514.677200001]]], 'spatialReference': {'wkid': 26912, 'latestWkid': 26912}}, {'rings': [[[420420.8661000002, 4546526.5265999995], [420420.9885, 4546526.316299999], [420427.76109999977, 4546514.677200001], [420412.18819999974, 4546505.471899999], [420411.8777999999, 4546509.4712000005], [420411.33490000013, 4546522.7458999995], [420420.09800000023, 4546527.8453], [420420.8661000002, 4546526.5265999995]]], 'spatialReference': {'wkid': 26912, 'latestWkid': 26912}}]\n",
      "[{'rings': [[[420862.6009999998, 4547326.9801], [420862.5700000003, 4547324.430600001], [420841.9974999996, 4547342.320699999], [420862.6009999998, 4547326.9801]]], 'spatialReference': {'wkid': 26912, 'latestWkid': 26912}}, {'rings': [[[420841.9974999996, 4547342.320699999], [420862.5700000003, 4547324.430600001], [420873.9659000002, 4547314.5261], [420800.1152999997, 4547315.3937], [420800.43680000026, 4547342.8103], [420841.9974999996, 4547342.320699999]]], 'spatialReference': {'wkid': 26912, 'latestWkid': 26912}}]\n"
     ]
    },
    {
     "data": {
      "text/plain": [
       "PARCEL_ID\n",
       "100110017    None\n",
       "100120057    None\n",
       "100130023    None\n",
       "100130026    None\n",
       "100260028    None\n",
       "             ... \n",
       "116940015    None\n",
       "116940016    None\n",
       "116940017    None\n",
       "116940018    None\n",
       "117840026    None\n",
       "Name: SHAPE, Length: 89, dtype: object"
      ]
     },
     "execution_count": 21,
     "metadata": {},
     "output_type": "execute_result"
    }
   ],
   "source": [
    "groups['SHAPE'].apply(lambda shapes: print(list(shapes)))"
   ]
  },
  {
   "cell_type": "code",
   "execution_count": 27,
   "id": "ae2a9368",
   "metadata": {
    "collapsed": true,
    "hidden": true
   },
   "outputs": [
    {
     "ename": "ValueError",
     "evalue": "Invalid geometry type for method",
     "output_type": "error",
     "traceback": [
      "\u001b[1;31m---------------------------------------------------------------------------\u001b[0m",
      "\u001b[1;31mValueError\u001b[0m                                Traceback (most recent call last)",
      "\u001b[1;32m<ipython-input-27-c6d334338cc0>\u001b[0m in \u001b[0;36m<module>\u001b[1;34m\u001b[0m\n\u001b[0;32m      1\u001b[0m \u001b[0mgis\u001b[0m \u001b[1;33m=\u001b[0m \u001b[0mGIS\u001b[0m\u001b[1;33m(\u001b[0m\u001b[1;33m)\u001b[0m\u001b[1;33m\u001b[0m\u001b[1;33m\u001b[0m\u001b[0m\n\u001b[1;32m----> 2\u001b[1;33m \u001b[0mgroups\u001b[0m\u001b[1;33m[\u001b[0m\u001b[1;34m'SHAPE'\u001b[0m\u001b[1;33m]\u001b[0m\u001b[1;33m.\u001b[0m\u001b[0mapply\u001b[0m\u001b[1;33m(\u001b[0m\u001b[1;32mlambda\u001b[0m \u001b[0mshapes\u001b[0m\u001b[1;33m:\u001b[0m \u001b[0mgeometry\u001b[0m\u001b[1;33m.\u001b[0m\u001b[0munion\u001b[0m\u001b[1;33m(\u001b[0m\u001b[0mdups\u001b[0m\u001b[1;33m.\u001b[0m\u001b[0mspatial\u001b[0m\u001b[1;33m.\u001b[0m\u001b[0msr\u001b[0m\u001b[1;33m,\u001b[0m \u001b[0mlist\u001b[0m\u001b[1;33m(\u001b[0m\u001b[0mshapes\u001b[0m\u001b[1;33m)\u001b[0m\u001b[1;33m)\u001b[0m\u001b[1;33m)\u001b[0m\u001b[1;33m\u001b[0m\u001b[1;33m\u001b[0m\u001b[0m\n\u001b[0m",
      "\u001b[1;32m~\\Miniconda3\\envs\\housing\\lib\\site-packages\\pandas\\core\\groupby\\generic.py\u001b[0m in \u001b[0;36mapply\u001b[1;34m(self, func, *args, **kwargs)\u001b[0m\n\u001b[0;32m    221\u001b[0m     )\n\u001b[0;32m    222\u001b[0m     \u001b[1;32mdef\u001b[0m \u001b[0mapply\u001b[0m\u001b[1;33m(\u001b[0m\u001b[0mself\u001b[0m\u001b[1;33m,\u001b[0m \u001b[0mfunc\u001b[0m\u001b[1;33m,\u001b[0m \u001b[1;33m*\u001b[0m\u001b[0margs\u001b[0m\u001b[1;33m,\u001b[0m \u001b[1;33m**\u001b[0m\u001b[0mkwargs\u001b[0m\u001b[1;33m)\u001b[0m\u001b[1;33m:\u001b[0m\u001b[1;33m\u001b[0m\u001b[1;33m\u001b[0m\u001b[0m\n\u001b[1;32m--> 223\u001b[1;33m         \u001b[1;32mreturn\u001b[0m \u001b[0msuper\u001b[0m\u001b[1;33m(\u001b[0m\u001b[1;33m)\u001b[0m\u001b[1;33m.\u001b[0m\u001b[0mapply\u001b[0m\u001b[1;33m(\u001b[0m\u001b[0mfunc\u001b[0m\u001b[1;33m,\u001b[0m \u001b[1;33m*\u001b[0m\u001b[0margs\u001b[0m\u001b[1;33m,\u001b[0m \u001b[1;33m**\u001b[0m\u001b[0mkwargs\u001b[0m\u001b[1;33m)\u001b[0m\u001b[1;33m\u001b[0m\u001b[1;33m\u001b[0m\u001b[0m\n\u001b[0m\u001b[0;32m    224\u001b[0m \u001b[1;33m\u001b[0m\u001b[0m\n\u001b[0;32m    225\u001b[0m     \u001b[1;33m@\u001b[0m\u001b[0mdoc\u001b[0m\u001b[1;33m(\u001b[0m\u001b[0m_agg_template\u001b[0m\u001b[1;33m,\u001b[0m \u001b[0mexamples\u001b[0m\u001b[1;33m=\u001b[0m\u001b[0m_agg_examples_doc\u001b[0m\u001b[1;33m,\u001b[0m \u001b[0mklass\u001b[0m\u001b[1;33m=\u001b[0m\u001b[1;34m\"Series\"\u001b[0m\u001b[1;33m)\u001b[0m\u001b[1;33m\u001b[0m\u001b[1;33m\u001b[0m\u001b[0m\n",
      "\u001b[1;32m~\\Miniconda3\\envs\\housing\\lib\\site-packages\\pandas\\core\\groupby\\groupby.py\u001b[0m in \u001b[0;36mapply\u001b[1;34m(self, func, *args, **kwargs)\u001b[0m\n\u001b[0;32m   1273\u001b[0m         \u001b[1;32mwith\u001b[0m \u001b[0moption_context\u001b[0m\u001b[1;33m(\u001b[0m\u001b[1;34m\"mode.chained_assignment\"\u001b[0m\u001b[1;33m,\u001b[0m \u001b[1;32mNone\u001b[0m\u001b[1;33m)\u001b[0m\u001b[1;33m:\u001b[0m\u001b[1;33m\u001b[0m\u001b[1;33m\u001b[0m\u001b[0m\n\u001b[0;32m   1274\u001b[0m             \u001b[1;32mtry\u001b[0m\u001b[1;33m:\u001b[0m\u001b[1;33m\u001b[0m\u001b[1;33m\u001b[0m\u001b[0m\n\u001b[1;32m-> 1275\u001b[1;33m                 \u001b[0mresult\u001b[0m \u001b[1;33m=\u001b[0m \u001b[0mself\u001b[0m\u001b[1;33m.\u001b[0m\u001b[0m_python_apply_general\u001b[0m\u001b[1;33m(\u001b[0m\u001b[0mf\u001b[0m\u001b[1;33m,\u001b[0m \u001b[0mself\u001b[0m\u001b[1;33m.\u001b[0m\u001b[0m_selected_obj\u001b[0m\u001b[1;33m)\u001b[0m\u001b[1;33m\u001b[0m\u001b[1;33m\u001b[0m\u001b[0m\n\u001b[0m\u001b[0;32m   1276\u001b[0m             \u001b[1;32mexcept\u001b[0m \u001b[0mTypeError\u001b[0m\u001b[1;33m:\u001b[0m\u001b[1;33m\u001b[0m\u001b[1;33m\u001b[0m\u001b[0m\n\u001b[0;32m   1277\u001b[0m                 \u001b[1;31m# gh-20949\u001b[0m\u001b[1;33m\u001b[0m\u001b[1;33m\u001b[0m\u001b[1;33m\u001b[0m\u001b[0m\n",
      "\u001b[1;32m~\\Miniconda3\\envs\\housing\\lib\\site-packages\\pandas\\core\\groupby\\groupby.py\u001b[0m in \u001b[0;36m_python_apply_general\u001b[1;34m(self, f, data)\u001b[0m\n\u001b[0;32m   1307\u001b[0m             \u001b[0mdata\u001b[0m \u001b[0mafter\u001b[0m \u001b[0mapplying\u001b[0m \u001b[0mf\u001b[0m\u001b[1;33m\u001b[0m\u001b[1;33m\u001b[0m\u001b[0m\n\u001b[0;32m   1308\u001b[0m         \"\"\"\n\u001b[1;32m-> 1309\u001b[1;33m         \u001b[0mkeys\u001b[0m\u001b[1;33m,\u001b[0m \u001b[0mvalues\u001b[0m\u001b[1;33m,\u001b[0m \u001b[0mmutated\u001b[0m \u001b[1;33m=\u001b[0m \u001b[0mself\u001b[0m\u001b[1;33m.\u001b[0m\u001b[0mgrouper\u001b[0m\u001b[1;33m.\u001b[0m\u001b[0mapply\u001b[0m\u001b[1;33m(\u001b[0m\u001b[0mf\u001b[0m\u001b[1;33m,\u001b[0m \u001b[0mdata\u001b[0m\u001b[1;33m,\u001b[0m \u001b[0mself\u001b[0m\u001b[1;33m.\u001b[0m\u001b[0maxis\u001b[0m\u001b[1;33m)\u001b[0m\u001b[1;33m\u001b[0m\u001b[1;33m\u001b[0m\u001b[0m\n\u001b[0m\u001b[0;32m   1310\u001b[0m \u001b[1;33m\u001b[0m\u001b[0m\n\u001b[0;32m   1311\u001b[0m         return self._wrap_applied_output(\n",
      "\u001b[1;32m~\\Miniconda3\\envs\\housing\\lib\\site-packages\\pandas\\core\\groupby\\ops.py\u001b[0m in \u001b[0;36mapply\u001b[1;34m(self, f, data, axis)\u001b[0m\n\u001b[0;32m    850\u001b[0m             \u001b[1;31m# group might be modified\u001b[0m\u001b[1;33m\u001b[0m\u001b[1;33m\u001b[0m\u001b[1;33m\u001b[0m\u001b[0m\n\u001b[0;32m    851\u001b[0m             \u001b[0mgroup_axes\u001b[0m \u001b[1;33m=\u001b[0m \u001b[0mgroup\u001b[0m\u001b[1;33m.\u001b[0m\u001b[0maxes\u001b[0m\u001b[1;33m\u001b[0m\u001b[1;33m\u001b[0m\u001b[0m\n\u001b[1;32m--> 852\u001b[1;33m             \u001b[0mres\u001b[0m \u001b[1;33m=\u001b[0m \u001b[0mf\u001b[0m\u001b[1;33m(\u001b[0m\u001b[0mgroup\u001b[0m\u001b[1;33m)\u001b[0m\u001b[1;33m\u001b[0m\u001b[1;33m\u001b[0m\u001b[0m\n\u001b[0m\u001b[0;32m    853\u001b[0m             \u001b[1;32mif\u001b[0m \u001b[1;32mnot\u001b[0m \u001b[0m_is_indexed_like\u001b[0m\u001b[1;33m(\u001b[0m\u001b[0mres\u001b[0m\u001b[1;33m,\u001b[0m \u001b[0mgroup_axes\u001b[0m\u001b[1;33m,\u001b[0m \u001b[0maxis\u001b[0m\u001b[1;33m)\u001b[0m\u001b[1;33m:\u001b[0m\u001b[1;33m\u001b[0m\u001b[1;33m\u001b[0m\u001b[0m\n\u001b[0;32m    854\u001b[0m                 \u001b[0mmutated\u001b[0m \u001b[1;33m=\u001b[0m \u001b[1;32mTrue\u001b[0m\u001b[1;33m\u001b[0m\u001b[1;33m\u001b[0m\u001b[0m\n",
      "\u001b[1;32m<ipython-input-27-c6d334338cc0>\u001b[0m in \u001b[0;36m<lambda>\u001b[1;34m(shapes)\u001b[0m\n\u001b[0;32m      1\u001b[0m \u001b[0mgis\u001b[0m \u001b[1;33m=\u001b[0m \u001b[0mGIS\u001b[0m\u001b[1;33m(\u001b[0m\u001b[1;33m)\u001b[0m\u001b[1;33m\u001b[0m\u001b[1;33m\u001b[0m\u001b[0m\n\u001b[1;32m----> 2\u001b[1;33m \u001b[0mgroups\u001b[0m\u001b[1;33m[\u001b[0m\u001b[1;34m'SHAPE'\u001b[0m\u001b[1;33m]\u001b[0m\u001b[1;33m.\u001b[0m\u001b[0mapply\u001b[0m\u001b[1;33m(\u001b[0m\u001b[1;32mlambda\u001b[0m \u001b[0mshapes\u001b[0m\u001b[1;33m:\u001b[0m \u001b[0mgeometry\u001b[0m\u001b[1;33m.\u001b[0m\u001b[0munion\u001b[0m\u001b[1;33m(\u001b[0m\u001b[0mdups\u001b[0m\u001b[1;33m.\u001b[0m\u001b[0mspatial\u001b[0m\u001b[1;33m.\u001b[0m\u001b[0msr\u001b[0m\u001b[1;33m,\u001b[0m \u001b[0mlist\u001b[0m\u001b[1;33m(\u001b[0m\u001b[0mshapes\u001b[0m\u001b[1;33m)\u001b[0m\u001b[1;33m)\u001b[0m\u001b[1;33m)\u001b[0m\u001b[1;33m\u001b[0m\u001b[1;33m\u001b[0m\u001b[0m\n\u001b[0m",
      "\u001b[1;32m~\\Miniconda3\\envs\\housing\\lib\\site-packages\\arcgis\\geometry\\functions.py\u001b[0m in \u001b[0;36munion\u001b[1;34m(spatial_ref, geometries, gis, future)\u001b[0m\n\u001b[0;32m   1358\u001b[0m     \u001b[1;32mif\u001b[0m \u001b[0mgis\u001b[0m \u001b[1;32mis\u001b[0m \u001b[1;32mNone\u001b[0m\u001b[1;33m:\u001b[0m\u001b[1;33m\u001b[0m\u001b[1;33m\u001b[0m\u001b[0m\n\u001b[0;32m   1359\u001b[0m         \u001b[0mgis\u001b[0m \u001b[1;33m=\u001b[0m \u001b[0marcgis\u001b[0m\u001b[1;33m.\u001b[0m\u001b[0menv\u001b[0m\u001b[1;33m.\u001b[0m\u001b[0mactive_gis\u001b[0m\u001b[1;33m\u001b[0m\u001b[1;33m\u001b[0m\u001b[0m\n\u001b[1;32m-> 1360\u001b[1;33m     \u001b[1;32mreturn\u001b[0m \u001b[0mgis\u001b[0m\u001b[1;33m.\u001b[0m\u001b[0m_tools\u001b[0m\u001b[1;33m.\u001b[0m\u001b[0mgeometry\u001b[0m\u001b[1;33m.\u001b[0m\u001b[0munion\u001b[0m\u001b[1;33m(\u001b[0m\u001b[0mspatial_ref\u001b[0m\u001b[1;33m,\u001b[0m \u001b[0mgeometries\u001b[0m\u001b[1;33m,\u001b[0m \u001b[0mfuture\u001b[0m\u001b[1;33m=\u001b[0m\u001b[0mfuture\u001b[0m\u001b[1;33m)\u001b[0m\u001b[1;33m\u001b[0m\u001b[1;33m\u001b[0m\u001b[0m\n\u001b[0m",
      "\u001b[1;32m~\\Miniconda3\\envs\\housing\\lib\\site-packages\\arcgis\\_impl\\tools.py\u001b[0m in \u001b[0;36munion\u001b[1;34m(self, sr, geometries, future)\u001b[0m\n\u001b[0;32m  17237\u001b[0m             \u001b[1;32mreturn\u001b[0m \u001b[0mjob\u001b[0m\u001b[1;33m\u001b[0m\u001b[1;33m\u001b[0m\u001b[0m\n\u001b[0;32m  17238\u001b[0m         \u001b[1;32melse\u001b[0m\u001b[1;33m:\u001b[0m\u001b[1;33m\u001b[0m\u001b[1;33m\u001b[0m\u001b[0m\n\u001b[1;32m> 17239\u001b[1;33m             \u001b[1;32mreturn\u001b[0m \u001b[0mjob\u001b[0m\u001b[1;33m.\u001b[0m\u001b[0mresult\u001b[0m\u001b[1;33m(\u001b[0m\u001b[1;33m)\u001b[0m\u001b[1;33m\u001b[0m\u001b[1;33m\u001b[0m\u001b[0m\n\u001b[0m\u001b[0;32m  17240\u001b[0m \u001b[1;33m\u001b[0m\u001b[0m\n\u001b[0;32m  17241\u001b[0m \u001b[1;33m\u001b[0m\u001b[0m\n",
      "\u001b[1;32m~\\Miniconda3\\envs\\housing\\lib\\site-packages\\arcgis\\_impl\\_async\\jobs.py\u001b[0m in \u001b[0;36mresult\u001b[1;34m(self)\u001b[0m\n\u001b[0;32m    163\u001b[0m             \u001b[1;32melif\u001b[0m \u001b[0misinstance\u001b[0m\u001b[1;33m(\u001b[0m\u001b[0mres\u001b[0m\u001b[1;33m,\u001b[0m \u001b[0mdict\u001b[0m\u001b[1;33m)\u001b[0m \u001b[1;32mand\u001b[0m \u001b[1;32mnot\u001b[0m \u001b[1;34m\"spatialReference\"\u001b[0m \u001b[1;32min\u001b[0m \u001b[0mres\u001b[0m\u001b[1;33m:\u001b[0m\u001b[1;33m\u001b[0m\u001b[1;33m\u001b[0m\u001b[0m\n\u001b[0;32m    164\u001b[0m                 \u001b[0mres\u001b[0m\u001b[1;33m.\u001b[0m\u001b[0mupdate\u001b[0m\u001b[1;33m(\u001b[0m\u001b[0msr\u001b[0m\u001b[1;33m)\u001b[0m\u001b[1;33m\u001b[0m\u001b[1;33m\u001b[0m\u001b[0m\n\u001b[1;32m--> 165\u001b[1;33m                 \u001b[1;32mreturn\u001b[0m \u001b[0mGeometry\u001b[0m\u001b[1;33m(\u001b[0m\u001b[0mres\u001b[0m\u001b[1;33m)\u001b[0m\u001b[1;33m\u001b[0m\u001b[1;33m\u001b[0m\u001b[0m\n\u001b[0m\u001b[0;32m    166\u001b[0m             \u001b[1;32melse\u001b[0m\u001b[1;33m:\u001b[0m\u001b[1;33m\u001b[0m\u001b[1;33m\u001b[0m\u001b[0m\n\u001b[0;32m    167\u001b[0m                 \u001b[1;32mreturn\u001b[0m \u001b[0mres\u001b[0m\u001b[1;33m\u001b[0m\u001b[1;33m\u001b[0m\u001b[0m\n",
      "\u001b[1;32m~\\Miniconda3\\envs\\housing\\lib\\site-packages\\arcgis\\geometry\\_types.py\u001b[0m in \u001b[0;36m__call__\u001b[1;34m(cls, iterable, **kwargs)\u001b[0m\n\u001b[0;32m    250\u001b[0m             \u001b[1;32mif\u001b[0m \u001b[0misinstance\u001b[0m\u001b[1;33m(\u001b[0m\u001b[0miterable\u001b[0m\u001b[1;33m,\u001b[0m \u001b[1;33m(\u001b[0m\u001b[0mbytearray\u001b[0m\u001b[1;33m,\u001b[0m \u001b[0mbytes\u001b[0m\u001b[1;33m)\u001b[0m\u001b[1;33m)\u001b[0m\u001b[1;33m:\u001b[0m\u001b[1;33m\u001b[0m\u001b[1;33m\u001b[0m\u001b[0m\n\u001b[0;32m    251\u001b[0m                 \u001b[0miterable\u001b[0m \u001b[1;33m=\u001b[0m \u001b[0mGeometryFactory\u001b[0m\u001b[1;33m.\u001b[0m\u001b[0m_from_wkb\u001b[0m\u001b[1;33m(\u001b[0m\u001b[0miterable\u001b[0m\u001b[1;33m)\u001b[0m\u001b[1;33m\u001b[0m\u001b[1;33m\u001b[0m\u001b[0m\n\u001b[1;32m--> 252\u001b[1;33m             \u001b[1;32melif\u001b[0m \u001b[0mhasattr\u001b[0m\u001b[1;33m(\u001b[0m\u001b[0miterable\u001b[0m\u001b[1;33m,\u001b[0m \u001b[1;34m\"JSON\"\u001b[0m\u001b[1;33m)\u001b[0m\u001b[1;33m:\u001b[0m\u001b[1;33m\u001b[0m\u001b[1;33m\u001b[0m\u001b[0m\n\u001b[0m\u001b[0;32m    253\u001b[0m                 \u001b[0miterable\u001b[0m \u001b[1;33m=\u001b[0m \u001b[0m_ujson\u001b[0m\u001b[1;33m.\u001b[0m\u001b[0mloads\u001b[0m\u001b[1;33m(\u001b[0m\u001b[0mgetattr\u001b[0m\u001b[1;33m(\u001b[0m\u001b[0miterable\u001b[0m\u001b[1;33m,\u001b[0m \u001b[1;34m\"JSON\"\u001b[0m\u001b[1;33m)\u001b[0m\u001b[1;33m)\u001b[0m\u001b[1;33m\u001b[0m\u001b[1;33m\u001b[0m\u001b[0m\n\u001b[0;32m    254\u001b[0m             \u001b[1;32melif\u001b[0m \u001b[1;34m\"coordinates\"\u001b[0m \u001b[1;32min\u001b[0m \u001b[0miterable\u001b[0m\u001b[1;33m:\u001b[0m\u001b[1;33m\u001b[0m\u001b[1;33m\u001b[0m\u001b[0m\n",
      "\u001b[1;32m~\\Miniconda3\\envs\\housing\\lib\\site-packages\\arcgis\\geometry\\_types.py\u001b[0m in \u001b[0;36m__getattribute__\u001b[1;34m(self, name)\u001b[0m\n\u001b[0;32m    175\u001b[0m \u001b[1;33m\u001b[0m\u001b[0m\n\u001b[0;32m    176\u001b[0m     \u001b[1;32mdef\u001b[0m \u001b[0m__getattribute__\u001b[0m\u001b[1;33m(\u001b[0m\u001b[0mself\u001b[0m\u001b[1;33m,\u001b[0m \u001b[0mname\u001b[0m\u001b[1;33m)\u001b[0m\u001b[1;33m:\u001b[0m\u001b[1;33m\u001b[0m\u001b[1;33m\u001b[0m\u001b[0m\n\u001b[1;32m--> 177\u001b[1;33m         \u001b[1;32mreturn\u001b[0m \u001b[0msuper\u001b[0m\u001b[1;33m(\u001b[0m\u001b[0mBaseGeometry\u001b[0m\u001b[1;33m,\u001b[0m \u001b[0mself\u001b[0m\u001b[1;33m)\u001b[0m\u001b[1;33m.\u001b[0m\u001b[0m__getattribute__\u001b[0m\u001b[1;33m(\u001b[0m\u001b[0mname\u001b[0m\u001b[1;33m)\u001b[0m\u001b[1;33m\u001b[0m\u001b[1;33m\u001b[0m\u001b[0m\n\u001b[0m\u001b[0;32m    178\u001b[0m \u001b[1;33m\u001b[0m\u001b[0m\n\u001b[0;32m    179\u001b[0m     \u001b[1;32mdef\u001b[0m \u001b[0m__getattr__\u001b[0m\u001b[1;33m(\u001b[0m\u001b[0mself\u001b[0m\u001b[1;33m,\u001b[0m \u001b[0mname\u001b[0m\u001b[1;33m)\u001b[0m\u001b[1;33m:\u001b[0m\u001b[1;33m\u001b[0m\u001b[1;33m\u001b[0m\u001b[0m\n",
      "\u001b[1;32m~\\Miniconda3\\envs\\housing\\lib\\site-packages\\arcgis\\geometry\\_types.py\u001b[0m in \u001b[0;36mJSON\u001b[1;34m(self)\u001b[0m\n\u001b[0;32m    843\u001b[0m         \u001b[1;32mif\u001b[0m \u001b[0mHASARCPY\u001b[0m\u001b[1;33m:\u001b[0m\u001b[1;33m\u001b[0m\u001b[1;33m\u001b[0m\u001b[0m\n\u001b[0;32m    844\u001b[0m             \u001b[1;32mimport\u001b[0m \u001b[0marcpy\u001b[0m\u001b[1;33m\u001b[0m\u001b[1;33m\u001b[0m\u001b[0m\n\u001b[1;32m--> 845\u001b[1;33m         \u001b[1;32mif\u001b[0m \u001b[0mHASARCPY\u001b[0m \u001b[1;32mand\u001b[0m \u001b[0misinstance\u001b[0m\u001b[1;33m(\u001b[0m\u001b[0mself\u001b[0m\u001b[1;33m.\u001b[0m\u001b[0mas_arcpy\u001b[0m\u001b[1;33m,\u001b[0m \u001b[0marcpy\u001b[0m\u001b[1;33m.\u001b[0m\u001b[0mGeometry\u001b[0m\u001b[1;33m)\u001b[0m\u001b[1;33m:\u001b[0m\u001b[1;33m\u001b[0m\u001b[1;33m\u001b[0m\u001b[0m\n\u001b[0m\u001b[0;32m    846\u001b[0m             \u001b[1;32mreturn\u001b[0m \u001b[0mgetattr\u001b[0m\u001b[1;33m(\u001b[0m\u001b[0mself\u001b[0m\u001b[1;33m.\u001b[0m\u001b[0mas_arcpy\u001b[0m\u001b[1;33m,\u001b[0m \u001b[1;34m\"JSON\"\u001b[0m\u001b[1;33m,\u001b[0m \u001b[1;32mNone\u001b[0m\u001b[1;33m)\u001b[0m\u001b[1;33m\u001b[0m\u001b[1;33m\u001b[0m\u001b[0m\n\u001b[0;32m    847\u001b[0m         \u001b[1;32melif\u001b[0m \u001b[1;34m\"coordinates\"\u001b[0m \u001b[1;32min\u001b[0m \u001b[0mself\u001b[0m\u001b[1;33m:\u001b[0m\u001b[1;33m\u001b[0m\u001b[1;33m\u001b[0m\u001b[0m\n",
      "\u001b[1;32m~\\Miniconda3\\envs\\housing\\lib\\site-packages\\arcgis\\geometry\\_types.py\u001b[0m in \u001b[0;36m__getattribute__\u001b[1;34m(self, name)\u001b[0m\n\u001b[0;32m    175\u001b[0m \u001b[1;33m\u001b[0m\u001b[0m\n\u001b[0;32m    176\u001b[0m     \u001b[1;32mdef\u001b[0m \u001b[0m__getattribute__\u001b[0m\u001b[1;33m(\u001b[0m\u001b[0mself\u001b[0m\u001b[1;33m,\u001b[0m \u001b[0mname\u001b[0m\u001b[1;33m)\u001b[0m\u001b[1;33m:\u001b[0m\u001b[1;33m\u001b[0m\u001b[1;33m\u001b[0m\u001b[0m\n\u001b[1;32m--> 177\u001b[1;33m         \u001b[1;32mreturn\u001b[0m \u001b[0msuper\u001b[0m\u001b[1;33m(\u001b[0m\u001b[0mBaseGeometry\u001b[0m\u001b[1;33m,\u001b[0m \u001b[0mself\u001b[0m\u001b[1;33m)\u001b[0m\u001b[1;33m.\u001b[0m\u001b[0m__getattribute__\u001b[0m\u001b[1;33m(\u001b[0m\u001b[0mname\u001b[0m\u001b[1;33m)\u001b[0m\u001b[1;33m\u001b[0m\u001b[1;33m\u001b[0m\u001b[0m\n\u001b[0m\u001b[0;32m    178\u001b[0m \u001b[1;33m\u001b[0m\u001b[0m\n\u001b[0;32m    179\u001b[0m     \u001b[1;32mdef\u001b[0m \u001b[0m__getattr__\u001b[0m\u001b[1;33m(\u001b[0m\u001b[0mself\u001b[0m\u001b[1;33m,\u001b[0m \u001b[0mname\u001b[0m\u001b[1;33m)\u001b[0m\u001b[1;33m:\u001b[0m\u001b[1;33m\u001b[0m\u001b[1;33m\u001b[0m\u001b[0m\n",
      "\u001b[1;32m~\\Miniconda3\\envs\\housing\\lib\\site-packages\\arcgis\\geometry\\_types.py\u001b[0m in \u001b[0;36mas_arcpy\u001b[1;34m(self)\u001b[0m\n\u001b[0;32m    492\u001b[0m \u001b[1;33m\u001b[0m\u001b[0m\n\u001b[0;32m    493\u001b[0m         \u001b[1;32mif\u001b[0m \u001b[0misinstance\u001b[0m\u001b[1;33m(\u001b[0m\u001b[0mself\u001b[0m\u001b[1;33m,\u001b[0m \u001b[1;33m(\u001b[0m\u001b[0mPoint\u001b[0m\u001b[1;33m,\u001b[0m \u001b[0mMultiPoint\u001b[0m\u001b[1;33m,\u001b[0m \u001b[0mPolygon\u001b[0m\u001b[1;33m,\u001b[0m \u001b[0mPolyline\u001b[0m\u001b[1;33m)\u001b[0m\u001b[1;33m)\u001b[0m\u001b[1;33m:\u001b[0m\u001b[1;33m\u001b[0m\u001b[1;33m\u001b[0m\u001b[0m\n\u001b[1;32m--> 494\u001b[1;33m             \u001b[0mself\u001b[0m\u001b[1;33m.\u001b[0m\u001b[0m_ao\u001b[0m \u001b[1;33m=\u001b[0m \u001b[0marcpy\u001b[0m\u001b[1;33m.\u001b[0m\u001b[0mAsShape\u001b[0m\u001b[1;33m(\u001b[0m\u001b[0mjson\u001b[0m\u001b[1;33m.\u001b[0m\u001b[0mdumps\u001b[0m\u001b[1;33m(\u001b[0m\u001b[0mdict\u001b[0m\u001b[1;33m(\u001b[0m\u001b[0mself\u001b[0m\u001b[1;33m)\u001b[0m\u001b[1;33m)\u001b[0m\u001b[1;33m,\u001b[0m \u001b[1;32mTrue\u001b[0m\u001b[1;33m)\u001b[0m\u001b[1;33m\u001b[0m\u001b[1;33m\u001b[0m\u001b[0m\n\u001b[0m\u001b[0;32m    495\u001b[0m         \u001b[1;32melif\u001b[0m \u001b[0misinstance\u001b[0m\u001b[1;33m(\u001b[0m\u001b[0mself\u001b[0m\u001b[1;33m,\u001b[0m \u001b[0mSpatialReference\u001b[0m\u001b[1;33m)\u001b[0m\u001b[1;33m:\u001b[0m\u001b[1;33m\u001b[0m\u001b[1;33m\u001b[0m\u001b[0m\n\u001b[0;32m    496\u001b[0m             \u001b[1;32mif\u001b[0m \u001b[1;34m\"wkid\"\u001b[0m \u001b[1;32min\u001b[0m \u001b[0mself\u001b[0m\u001b[1;33m:\u001b[0m\u001b[1;33m\u001b[0m\u001b[1;33m\u001b[0m\u001b[0m\n",
      "\u001b[1;32m~\\AppData\\Local\\Programs\\ArcGIS\\Pro\\Resources\\ArcPy\\arcpy\\arcobjects\\geometries.py\u001b[0m in \u001b[0;36mAsShape\u001b[1;34m(geojson_struct, esri_json)\u001b[0m\n\u001b[0;32m    301\u001b[0m             \u001b[0mgeojson_struct\u001b[0m \u001b[1;33m=\u001b[0m \u001b[0mjson\u001b[0m\u001b[1;33m.\u001b[0m\u001b[0mdumps\u001b[0m\u001b[1;33m(\u001b[0m\u001b[0mgeojson_struct\u001b[0m\u001b[1;33m)\u001b[0m\u001b[1;33m\u001b[0m\u001b[1;33m\u001b[0m\u001b[0m\n\u001b[0;32m    302\u001b[0m         \u001b[1;32mfrom\u001b[0m \u001b[0marcpy\u001b[0m\u001b[1;33m.\u001b[0m\u001b[0marcobjects\u001b[0m\u001b[1;33m.\u001b[0m\u001b[0marcobjectconversion\u001b[0m \u001b[1;32mimport\u001b[0m \u001b[0mconvertArcObjectToPythonObject\u001b[0m\u001b[1;33m\u001b[0m\u001b[1;33m\u001b[0m\u001b[0m\n\u001b[1;32m--> 303\u001b[1;33m         \u001b[1;32mreturn\u001b[0m \u001b[0mconvertArcObjectToPythonObject\u001b[0m\u001b[1;33m(\u001b[0m\u001b[0mgp\u001b[0m\u001b[1;33m.\u001b[0m\u001b[0mfromEsriJson\u001b[0m\u001b[1;33m(\u001b[0m\u001b[0mgeojson_struct\u001b[0m\u001b[1;33m)\u001b[0m\u001b[1;33m)\u001b[0m\u001b[1;33m\u001b[0m\u001b[1;33m\u001b[0m\u001b[0m\n\u001b[0m\u001b[0;32m    304\u001b[0m     \u001b[1;32melse\u001b[0m\u001b[1;33m:\u001b[0m\u001b[1;33m\u001b[0m\u001b[1;33m\u001b[0m\u001b[0m\n\u001b[0;32m    305\u001b[0m         mappings = {\n",
      "\u001b[1;32m~\\AppData\\Local\\Programs\\ArcGIS\\Pro\\Resources\\ArcPy\\arcpy\\geoprocessing\\_base.py\u001b[0m in \u001b[0;36mfromEsriJson\u001b[1;34m(self, json)\u001b[0m\n\u001b[0;32m    481\u001b[0m         \u001b[1;32mreturn\u001b[0m \u001b[0mself\u001b[0m\u001b[1;33m.\u001b[0m\u001b[0m_gp\u001b[0m\u001b[1;33m.\u001b[0m\u001b[0mcreateGPSDDraft\u001b[0m\u001b[1;33m(\u001b[0m\u001b[0mresult\u001b[0m\u001b[1;33m,\u001b[0m \u001b[0mout_sddraft\u001b[0m\u001b[1;33m,\u001b[0m \u001b[0mservice_name\u001b[0m\u001b[1;33m,\u001b[0m \u001b[0mserver_type\u001b[0m\u001b[1;33m,\u001b[0m \u001b[0mconnection_file_path\u001b[0m\u001b[1;33m,\u001b[0m \u001b[0mcopy_data_to_server\u001b[0m\u001b[1;33m,\u001b[0m \u001b[0mfolder_name\u001b[0m\u001b[1;33m,\u001b[0m \u001b[0msummary\u001b[0m\u001b[1;33m,\u001b[0m \u001b[0mtags\u001b[0m\u001b[1;33m,\u001b[0m \u001b[0mexecutionType\u001b[0m\u001b[1;33m,\u001b[0m \u001b[0mresultMapServer\u001b[0m\u001b[1;33m,\u001b[0m \u001b[0mshowMessages\u001b[0m\u001b[1;33m,\u001b[0m \u001b[0mmaximumRecords\u001b[0m\u001b[1;33m,\u001b[0m \u001b[0mminInstances\u001b[0m\u001b[1;33m,\u001b[0m \u001b[0mmaxInstances\u001b[0m\u001b[1;33m,\u001b[0m \u001b[0mmaxUsageTime\u001b[0m\u001b[1;33m,\u001b[0m \u001b[0mmaxWaitTime\u001b[0m\u001b[1;33m,\u001b[0m \u001b[0mmaxIdleTime\u001b[0m\u001b[1;33m,\u001b[0m \u001b[0mcapabilities\u001b[0m\u001b[1;33m,\u001b[0m \u001b[0mconstantValues\u001b[0m\u001b[1;33m,\u001b[0m \u001b[0mchoiceLists\u001b[0m\u001b[1;33m)\u001b[0m\u001b[1;33m\u001b[0m\u001b[1;33m\u001b[0m\u001b[0m\n\u001b[0;32m    482\u001b[0m     \u001b[1;32mdef\u001b[0m \u001b[0mfromEsriJson\u001b[0m\u001b[1;33m(\u001b[0m\u001b[0mself\u001b[0m\u001b[1;33m,\u001b[0m \u001b[0mjson\u001b[0m\u001b[1;33m)\u001b[0m\u001b[1;33m:\u001b[0m\u001b[1;33m\u001b[0m\u001b[1;33m\u001b[0m\u001b[0m\n\u001b[1;32m--> 483\u001b[1;33m         \u001b[1;32mreturn\u001b[0m \u001b[0mself\u001b[0m\u001b[1;33m.\u001b[0m\u001b[0m_gp\u001b[0m\u001b[1;33m.\u001b[0m\u001b[0mFromEsriJson\u001b[0m\u001b[1;33m(\u001b[0m\u001b[0mjson\u001b[0m\u001b[1;33m)\u001b[0m\u001b[1;33m\u001b[0m\u001b[1;33m\u001b[0m\u001b[0m\n\u001b[0m\u001b[0;32m    484\u001b[0m     \u001b[1;32mdef\u001b[0m \u001b[0mlistDataStoreItems\u001b[0m\u001b[1;33m(\u001b[0m\u001b[0mself\u001b[0m\u001b[1;33m,\u001b[0m \u001b[0mconnection_file\u001b[0m\u001b[1;33m,\u001b[0m \u001b[0mdatastore_type\u001b[0m\u001b[1;33m)\u001b[0m\u001b[1;33m:\u001b[0m\u001b[1;33m\u001b[0m\u001b[1;33m\u001b[0m\u001b[0m\n\u001b[0;32m    485\u001b[0m         \u001b[1;32mreturn\u001b[0m \u001b[0mself\u001b[0m\u001b[1;33m.\u001b[0m\u001b[0m_gp\u001b[0m\u001b[1;33m.\u001b[0m\u001b[0mlistDataStoreItems\u001b[0m\u001b[1;33m(\u001b[0m\u001b[0mconnection_file\u001b[0m\u001b[1;33m,\u001b[0m \u001b[0mdatastore_type\u001b[0m\u001b[1;33m)\u001b[0m\u001b[1;33m\u001b[0m\u001b[1;33m\u001b[0m\u001b[0m\n",
      "\u001b[1;31mValueError\u001b[0m: Invalid geometry type for method"
     ]
    }
   ],
   "source": [
    "gis = GIS()\n",
    "groups['SHAPE'].apply(lambda shapes: geometry.union(dups.spatial.sr, list(shapes)))"
   ]
  },
  {
   "cell_type": "code",
   "execution_count": 24,
   "id": "1ea231ee",
   "metadata": {
    "hidden": true
   },
   "outputs": [],
   "source": [
    "geometry.union?"
   ]
  },
  {
   "cell_type": "code",
   "execution_count": 41,
   "id": "81c562a2",
   "metadata": {
    "hidden": true
   },
   "outputs": [
    {
     "data": {
      "text/plain": [
       "arcgis.geometry._types.Polygon"
      ]
     },
     "execution_count": 41,
     "metadata": {},
     "output_type": "execute_result"
    }
   ],
   "source": [
    "shape1 = parcels_df.loc[1, 'SHAPE']\n",
    "shape2 = parcels_df.loc[2, 'SHAPE']\n",
    "shape3 = parcels_df.loc[3, 'SHAPE']\n",
    "type(shape2)"
   ]
  },
  {
   "cell_type": "code",
   "execution_count": 35,
   "id": "7cdac2ee",
   "metadata": {
    "hidden": true
   },
   "outputs": [
    {
     "data": {
      "text/plain": [
       "'{\"rings\":[[[420506.1157999998,4547565.6022999994],[420545.41770000011,4547565.5256999992],[420563.03969999962,4547565.4912999999],[420568.65039999969,4547565.4802999999],[420568.4227,4547534.5080999993],[420505.99799999967,4547535.1394999996],[420506.0055999998,4547536.1133999992],[420506.07249999978,4547555.2459999993],[420506.1157999998,4547565.6022999994]]],\"spatialReference\":{\"wkid\":26912,\"latestWkid\":26912}}'"
      ]
     },
     "execution_count": 35,
     "metadata": {},
     "output_type": "execute_result"
    }
   ],
   "source": [
    "shape1.JSON"
   ]
  },
  {
   "cell_type": "code",
   "execution_count": 37,
   "id": "2d0904df",
   "metadata": {
    "collapsed": true,
    "hidden": true
   },
   "outputs": [
    {
     "ename": "ValueError",
     "evalue": "Invalid geometry type for method",
     "output_type": "error",
     "traceback": [
      "\u001b[1;31m---------------------------------------------------------------------------\u001b[0m",
      "\u001b[1;31mValueError\u001b[0m                                Traceback (most recent call last)",
      "\u001b[1;32m<ipython-input-37-be1d47c00cdb>\u001b[0m in \u001b[0;36m<module>\u001b[1;34m\u001b[0m\n\u001b[1;32m----> 1\u001b[1;33m \u001b[0mgeometry\u001b[0m\u001b[1;33m.\u001b[0m\u001b[0munion\u001b[0m\u001b[1;33m(\u001b[0m\u001b[0mparcels_df\u001b[0m\u001b[1;33m.\u001b[0m\u001b[0mspatial\u001b[0m\u001b[1;33m.\u001b[0m\u001b[0msr\u001b[0m\u001b[1;33m,\u001b[0m \u001b[1;33m[\u001b[0m\u001b[0mshape1\u001b[0m\u001b[1;33m.\u001b[0m\u001b[0mJSON\u001b[0m\u001b[1;33m,\u001b[0m \u001b[0mshape2\u001b[0m\u001b[1;33m.\u001b[0m\u001b[0mJSON\u001b[0m\u001b[1;33m]\u001b[0m\u001b[1;33m,\u001b[0m \u001b[0mgis\u001b[0m\u001b[1;33m)\u001b[0m\u001b[1;33m\u001b[0m\u001b[1;33m\u001b[0m\u001b[0m\n\u001b[0m",
      "\u001b[1;32m~\\Miniconda3\\envs\\housing\\lib\\site-packages\\arcgis\\geometry\\functions.py\u001b[0m in \u001b[0;36munion\u001b[1;34m(spatial_ref, geometries, gis, future)\u001b[0m\n\u001b[0;32m   1358\u001b[0m     \u001b[1;32mif\u001b[0m \u001b[0mgis\u001b[0m \u001b[1;32mis\u001b[0m \u001b[1;32mNone\u001b[0m\u001b[1;33m:\u001b[0m\u001b[1;33m\u001b[0m\u001b[1;33m\u001b[0m\u001b[0m\n\u001b[0;32m   1359\u001b[0m         \u001b[0mgis\u001b[0m \u001b[1;33m=\u001b[0m \u001b[0marcgis\u001b[0m\u001b[1;33m.\u001b[0m\u001b[0menv\u001b[0m\u001b[1;33m.\u001b[0m\u001b[0mactive_gis\u001b[0m\u001b[1;33m\u001b[0m\u001b[1;33m\u001b[0m\u001b[0m\n\u001b[1;32m-> 1360\u001b[1;33m     \u001b[1;32mreturn\u001b[0m \u001b[0mgis\u001b[0m\u001b[1;33m.\u001b[0m\u001b[0m_tools\u001b[0m\u001b[1;33m.\u001b[0m\u001b[0mgeometry\u001b[0m\u001b[1;33m.\u001b[0m\u001b[0munion\u001b[0m\u001b[1;33m(\u001b[0m\u001b[0mspatial_ref\u001b[0m\u001b[1;33m,\u001b[0m \u001b[0mgeometries\u001b[0m\u001b[1;33m,\u001b[0m \u001b[0mfuture\u001b[0m\u001b[1;33m=\u001b[0m\u001b[0mfuture\u001b[0m\u001b[1;33m)\u001b[0m\u001b[1;33m\u001b[0m\u001b[1;33m\u001b[0m\u001b[0m\n\u001b[0m",
      "\u001b[1;32m~\\Miniconda3\\envs\\housing\\lib\\site-packages\\arcgis\\_impl\\tools.py\u001b[0m in \u001b[0;36munion\u001b[1;34m(self, sr, geometries, future)\u001b[0m\n\u001b[0;32m  17237\u001b[0m             \u001b[1;32mreturn\u001b[0m \u001b[0mjob\u001b[0m\u001b[1;33m\u001b[0m\u001b[1;33m\u001b[0m\u001b[0m\n\u001b[0;32m  17238\u001b[0m         \u001b[1;32melse\u001b[0m\u001b[1;33m:\u001b[0m\u001b[1;33m\u001b[0m\u001b[1;33m\u001b[0m\u001b[0m\n\u001b[1;32m> 17239\u001b[1;33m             \u001b[1;32mreturn\u001b[0m \u001b[0mjob\u001b[0m\u001b[1;33m.\u001b[0m\u001b[0mresult\u001b[0m\u001b[1;33m(\u001b[0m\u001b[1;33m)\u001b[0m\u001b[1;33m\u001b[0m\u001b[1;33m\u001b[0m\u001b[0m\n\u001b[0m\u001b[0;32m  17240\u001b[0m \u001b[1;33m\u001b[0m\u001b[0m\n\u001b[0;32m  17241\u001b[0m \u001b[1;33m\u001b[0m\u001b[0m\n",
      "\u001b[1;32m~\\Miniconda3\\envs\\housing\\lib\\site-packages\\arcgis\\_impl\\_async\\jobs.py\u001b[0m in \u001b[0;36mresult\u001b[1;34m(self)\u001b[0m\n\u001b[0;32m    163\u001b[0m             \u001b[1;32melif\u001b[0m \u001b[0misinstance\u001b[0m\u001b[1;33m(\u001b[0m\u001b[0mres\u001b[0m\u001b[1;33m,\u001b[0m \u001b[0mdict\u001b[0m\u001b[1;33m)\u001b[0m \u001b[1;32mand\u001b[0m \u001b[1;32mnot\u001b[0m \u001b[1;34m\"spatialReference\"\u001b[0m \u001b[1;32min\u001b[0m \u001b[0mres\u001b[0m\u001b[1;33m:\u001b[0m\u001b[1;33m\u001b[0m\u001b[1;33m\u001b[0m\u001b[0m\n\u001b[0;32m    164\u001b[0m                 \u001b[0mres\u001b[0m\u001b[1;33m.\u001b[0m\u001b[0mupdate\u001b[0m\u001b[1;33m(\u001b[0m\u001b[0msr\u001b[0m\u001b[1;33m)\u001b[0m\u001b[1;33m\u001b[0m\u001b[1;33m\u001b[0m\u001b[0m\n\u001b[1;32m--> 165\u001b[1;33m                 \u001b[1;32mreturn\u001b[0m \u001b[0mGeometry\u001b[0m\u001b[1;33m(\u001b[0m\u001b[0mres\u001b[0m\u001b[1;33m)\u001b[0m\u001b[1;33m\u001b[0m\u001b[1;33m\u001b[0m\u001b[0m\n\u001b[0m\u001b[0;32m    166\u001b[0m             \u001b[1;32melse\u001b[0m\u001b[1;33m:\u001b[0m\u001b[1;33m\u001b[0m\u001b[1;33m\u001b[0m\u001b[0m\n\u001b[0;32m    167\u001b[0m                 \u001b[1;32mreturn\u001b[0m \u001b[0mres\u001b[0m\u001b[1;33m\u001b[0m\u001b[1;33m\u001b[0m\u001b[0m\n",
      "\u001b[1;32m~\\Miniconda3\\envs\\housing\\lib\\site-packages\\arcgis\\geometry\\_types.py\u001b[0m in \u001b[0;36m__call__\u001b[1;34m(cls, iterable, **kwargs)\u001b[0m\n\u001b[0;32m    250\u001b[0m             \u001b[1;32mif\u001b[0m \u001b[0misinstance\u001b[0m\u001b[1;33m(\u001b[0m\u001b[0miterable\u001b[0m\u001b[1;33m,\u001b[0m \u001b[1;33m(\u001b[0m\u001b[0mbytearray\u001b[0m\u001b[1;33m,\u001b[0m \u001b[0mbytes\u001b[0m\u001b[1;33m)\u001b[0m\u001b[1;33m)\u001b[0m\u001b[1;33m:\u001b[0m\u001b[1;33m\u001b[0m\u001b[1;33m\u001b[0m\u001b[0m\n\u001b[0;32m    251\u001b[0m                 \u001b[0miterable\u001b[0m \u001b[1;33m=\u001b[0m \u001b[0mGeometryFactory\u001b[0m\u001b[1;33m.\u001b[0m\u001b[0m_from_wkb\u001b[0m\u001b[1;33m(\u001b[0m\u001b[0miterable\u001b[0m\u001b[1;33m)\u001b[0m\u001b[1;33m\u001b[0m\u001b[1;33m\u001b[0m\u001b[0m\n\u001b[1;32m--> 252\u001b[1;33m             \u001b[1;32melif\u001b[0m \u001b[0mhasattr\u001b[0m\u001b[1;33m(\u001b[0m\u001b[0miterable\u001b[0m\u001b[1;33m,\u001b[0m \u001b[1;34m\"JSON\"\u001b[0m\u001b[1;33m)\u001b[0m\u001b[1;33m:\u001b[0m\u001b[1;33m\u001b[0m\u001b[1;33m\u001b[0m\u001b[0m\n\u001b[0m\u001b[0;32m    253\u001b[0m                 \u001b[0miterable\u001b[0m \u001b[1;33m=\u001b[0m \u001b[0m_ujson\u001b[0m\u001b[1;33m.\u001b[0m\u001b[0mloads\u001b[0m\u001b[1;33m(\u001b[0m\u001b[0mgetattr\u001b[0m\u001b[1;33m(\u001b[0m\u001b[0miterable\u001b[0m\u001b[1;33m,\u001b[0m \u001b[1;34m\"JSON\"\u001b[0m\u001b[1;33m)\u001b[0m\u001b[1;33m)\u001b[0m\u001b[1;33m\u001b[0m\u001b[1;33m\u001b[0m\u001b[0m\n\u001b[0;32m    254\u001b[0m             \u001b[1;32melif\u001b[0m \u001b[1;34m\"coordinates\"\u001b[0m \u001b[1;32min\u001b[0m \u001b[0miterable\u001b[0m\u001b[1;33m:\u001b[0m\u001b[1;33m\u001b[0m\u001b[1;33m\u001b[0m\u001b[0m\n",
      "\u001b[1;32m~\\Miniconda3\\envs\\housing\\lib\\site-packages\\arcgis\\geometry\\_types.py\u001b[0m in \u001b[0;36m__getattribute__\u001b[1;34m(self, name)\u001b[0m\n\u001b[0;32m    175\u001b[0m \u001b[1;33m\u001b[0m\u001b[0m\n\u001b[0;32m    176\u001b[0m     \u001b[1;32mdef\u001b[0m \u001b[0m__getattribute__\u001b[0m\u001b[1;33m(\u001b[0m\u001b[0mself\u001b[0m\u001b[1;33m,\u001b[0m \u001b[0mname\u001b[0m\u001b[1;33m)\u001b[0m\u001b[1;33m:\u001b[0m\u001b[1;33m\u001b[0m\u001b[1;33m\u001b[0m\u001b[0m\n\u001b[1;32m--> 177\u001b[1;33m         \u001b[1;32mreturn\u001b[0m \u001b[0msuper\u001b[0m\u001b[1;33m(\u001b[0m\u001b[0mBaseGeometry\u001b[0m\u001b[1;33m,\u001b[0m \u001b[0mself\u001b[0m\u001b[1;33m)\u001b[0m\u001b[1;33m.\u001b[0m\u001b[0m__getattribute__\u001b[0m\u001b[1;33m(\u001b[0m\u001b[0mname\u001b[0m\u001b[1;33m)\u001b[0m\u001b[1;33m\u001b[0m\u001b[1;33m\u001b[0m\u001b[0m\n\u001b[0m\u001b[0;32m    178\u001b[0m \u001b[1;33m\u001b[0m\u001b[0m\n\u001b[0;32m    179\u001b[0m     \u001b[1;32mdef\u001b[0m \u001b[0m__getattr__\u001b[0m\u001b[1;33m(\u001b[0m\u001b[0mself\u001b[0m\u001b[1;33m,\u001b[0m \u001b[0mname\u001b[0m\u001b[1;33m)\u001b[0m\u001b[1;33m:\u001b[0m\u001b[1;33m\u001b[0m\u001b[1;33m\u001b[0m\u001b[0m\n",
      "\u001b[1;32m~\\Miniconda3\\envs\\housing\\lib\\site-packages\\arcgis\\geometry\\_types.py\u001b[0m in \u001b[0;36mJSON\u001b[1;34m(self)\u001b[0m\n\u001b[0;32m    843\u001b[0m         \u001b[1;32mif\u001b[0m \u001b[0mHASARCPY\u001b[0m\u001b[1;33m:\u001b[0m\u001b[1;33m\u001b[0m\u001b[1;33m\u001b[0m\u001b[0m\n\u001b[0;32m    844\u001b[0m             \u001b[1;32mimport\u001b[0m \u001b[0marcpy\u001b[0m\u001b[1;33m\u001b[0m\u001b[1;33m\u001b[0m\u001b[0m\n\u001b[1;32m--> 845\u001b[1;33m         \u001b[1;32mif\u001b[0m \u001b[0mHASARCPY\u001b[0m \u001b[1;32mand\u001b[0m \u001b[0misinstance\u001b[0m\u001b[1;33m(\u001b[0m\u001b[0mself\u001b[0m\u001b[1;33m.\u001b[0m\u001b[0mas_arcpy\u001b[0m\u001b[1;33m,\u001b[0m \u001b[0marcpy\u001b[0m\u001b[1;33m.\u001b[0m\u001b[0mGeometry\u001b[0m\u001b[1;33m)\u001b[0m\u001b[1;33m:\u001b[0m\u001b[1;33m\u001b[0m\u001b[1;33m\u001b[0m\u001b[0m\n\u001b[0m\u001b[0;32m    846\u001b[0m             \u001b[1;32mreturn\u001b[0m \u001b[0mgetattr\u001b[0m\u001b[1;33m(\u001b[0m\u001b[0mself\u001b[0m\u001b[1;33m.\u001b[0m\u001b[0mas_arcpy\u001b[0m\u001b[1;33m,\u001b[0m \u001b[1;34m\"JSON\"\u001b[0m\u001b[1;33m,\u001b[0m \u001b[1;32mNone\u001b[0m\u001b[1;33m)\u001b[0m\u001b[1;33m\u001b[0m\u001b[1;33m\u001b[0m\u001b[0m\n\u001b[0;32m    847\u001b[0m         \u001b[1;32melif\u001b[0m \u001b[1;34m\"coordinates\"\u001b[0m \u001b[1;32min\u001b[0m \u001b[0mself\u001b[0m\u001b[1;33m:\u001b[0m\u001b[1;33m\u001b[0m\u001b[1;33m\u001b[0m\u001b[0m\n",
      "\u001b[1;32m~\\Miniconda3\\envs\\housing\\lib\\site-packages\\arcgis\\geometry\\_types.py\u001b[0m in \u001b[0;36m__getattribute__\u001b[1;34m(self, name)\u001b[0m\n\u001b[0;32m    175\u001b[0m \u001b[1;33m\u001b[0m\u001b[0m\n\u001b[0;32m    176\u001b[0m     \u001b[1;32mdef\u001b[0m \u001b[0m__getattribute__\u001b[0m\u001b[1;33m(\u001b[0m\u001b[0mself\u001b[0m\u001b[1;33m,\u001b[0m \u001b[0mname\u001b[0m\u001b[1;33m)\u001b[0m\u001b[1;33m:\u001b[0m\u001b[1;33m\u001b[0m\u001b[1;33m\u001b[0m\u001b[0m\n\u001b[1;32m--> 177\u001b[1;33m         \u001b[1;32mreturn\u001b[0m \u001b[0msuper\u001b[0m\u001b[1;33m(\u001b[0m\u001b[0mBaseGeometry\u001b[0m\u001b[1;33m,\u001b[0m \u001b[0mself\u001b[0m\u001b[1;33m)\u001b[0m\u001b[1;33m.\u001b[0m\u001b[0m__getattribute__\u001b[0m\u001b[1;33m(\u001b[0m\u001b[0mname\u001b[0m\u001b[1;33m)\u001b[0m\u001b[1;33m\u001b[0m\u001b[1;33m\u001b[0m\u001b[0m\n\u001b[0m\u001b[0;32m    178\u001b[0m \u001b[1;33m\u001b[0m\u001b[0m\n\u001b[0;32m    179\u001b[0m     \u001b[1;32mdef\u001b[0m \u001b[0m__getattr__\u001b[0m\u001b[1;33m(\u001b[0m\u001b[0mself\u001b[0m\u001b[1;33m,\u001b[0m \u001b[0mname\u001b[0m\u001b[1;33m)\u001b[0m\u001b[1;33m:\u001b[0m\u001b[1;33m\u001b[0m\u001b[1;33m\u001b[0m\u001b[0m\n",
      "\u001b[1;32m~\\Miniconda3\\envs\\housing\\lib\\site-packages\\arcgis\\geometry\\_types.py\u001b[0m in \u001b[0;36mas_arcpy\u001b[1;34m(self)\u001b[0m\n\u001b[0;32m    492\u001b[0m \u001b[1;33m\u001b[0m\u001b[0m\n\u001b[0;32m    493\u001b[0m         \u001b[1;32mif\u001b[0m \u001b[0misinstance\u001b[0m\u001b[1;33m(\u001b[0m\u001b[0mself\u001b[0m\u001b[1;33m,\u001b[0m \u001b[1;33m(\u001b[0m\u001b[0mPoint\u001b[0m\u001b[1;33m,\u001b[0m \u001b[0mMultiPoint\u001b[0m\u001b[1;33m,\u001b[0m \u001b[0mPolygon\u001b[0m\u001b[1;33m,\u001b[0m \u001b[0mPolyline\u001b[0m\u001b[1;33m)\u001b[0m\u001b[1;33m)\u001b[0m\u001b[1;33m:\u001b[0m\u001b[1;33m\u001b[0m\u001b[1;33m\u001b[0m\u001b[0m\n\u001b[1;32m--> 494\u001b[1;33m             \u001b[0mself\u001b[0m\u001b[1;33m.\u001b[0m\u001b[0m_ao\u001b[0m \u001b[1;33m=\u001b[0m \u001b[0marcpy\u001b[0m\u001b[1;33m.\u001b[0m\u001b[0mAsShape\u001b[0m\u001b[1;33m(\u001b[0m\u001b[0mjson\u001b[0m\u001b[1;33m.\u001b[0m\u001b[0mdumps\u001b[0m\u001b[1;33m(\u001b[0m\u001b[0mdict\u001b[0m\u001b[1;33m(\u001b[0m\u001b[0mself\u001b[0m\u001b[1;33m)\u001b[0m\u001b[1;33m)\u001b[0m\u001b[1;33m,\u001b[0m \u001b[1;32mTrue\u001b[0m\u001b[1;33m)\u001b[0m\u001b[1;33m\u001b[0m\u001b[1;33m\u001b[0m\u001b[0m\n\u001b[0m\u001b[0;32m    495\u001b[0m         \u001b[1;32melif\u001b[0m \u001b[0misinstance\u001b[0m\u001b[1;33m(\u001b[0m\u001b[0mself\u001b[0m\u001b[1;33m,\u001b[0m \u001b[0mSpatialReference\u001b[0m\u001b[1;33m)\u001b[0m\u001b[1;33m:\u001b[0m\u001b[1;33m\u001b[0m\u001b[1;33m\u001b[0m\u001b[0m\n\u001b[0;32m    496\u001b[0m             \u001b[1;32mif\u001b[0m \u001b[1;34m\"wkid\"\u001b[0m \u001b[1;32min\u001b[0m \u001b[0mself\u001b[0m\u001b[1;33m:\u001b[0m\u001b[1;33m\u001b[0m\u001b[1;33m\u001b[0m\u001b[0m\n",
      "\u001b[1;32m~\\AppData\\Local\\Programs\\ArcGIS\\Pro\\Resources\\ArcPy\\arcpy\\arcobjects\\geometries.py\u001b[0m in \u001b[0;36mAsShape\u001b[1;34m(geojson_struct, esri_json)\u001b[0m\n\u001b[0;32m    301\u001b[0m             \u001b[0mgeojson_struct\u001b[0m \u001b[1;33m=\u001b[0m \u001b[0mjson\u001b[0m\u001b[1;33m.\u001b[0m\u001b[0mdumps\u001b[0m\u001b[1;33m(\u001b[0m\u001b[0mgeojson_struct\u001b[0m\u001b[1;33m)\u001b[0m\u001b[1;33m\u001b[0m\u001b[1;33m\u001b[0m\u001b[0m\n\u001b[0;32m    302\u001b[0m         \u001b[1;32mfrom\u001b[0m \u001b[0marcpy\u001b[0m\u001b[1;33m.\u001b[0m\u001b[0marcobjects\u001b[0m\u001b[1;33m.\u001b[0m\u001b[0marcobjectconversion\u001b[0m \u001b[1;32mimport\u001b[0m \u001b[0mconvertArcObjectToPythonObject\u001b[0m\u001b[1;33m\u001b[0m\u001b[1;33m\u001b[0m\u001b[0m\n\u001b[1;32m--> 303\u001b[1;33m         \u001b[1;32mreturn\u001b[0m \u001b[0mconvertArcObjectToPythonObject\u001b[0m\u001b[1;33m(\u001b[0m\u001b[0mgp\u001b[0m\u001b[1;33m.\u001b[0m\u001b[0mfromEsriJson\u001b[0m\u001b[1;33m(\u001b[0m\u001b[0mgeojson_struct\u001b[0m\u001b[1;33m)\u001b[0m\u001b[1;33m)\u001b[0m\u001b[1;33m\u001b[0m\u001b[1;33m\u001b[0m\u001b[0m\n\u001b[0m\u001b[0;32m    304\u001b[0m     \u001b[1;32melse\u001b[0m\u001b[1;33m:\u001b[0m\u001b[1;33m\u001b[0m\u001b[1;33m\u001b[0m\u001b[0m\n\u001b[0;32m    305\u001b[0m         mappings = {\n",
      "\u001b[1;32m~\\AppData\\Local\\Programs\\ArcGIS\\Pro\\Resources\\ArcPy\\arcpy\\geoprocessing\\_base.py\u001b[0m in \u001b[0;36mfromEsriJson\u001b[1;34m(self, json)\u001b[0m\n\u001b[0;32m    481\u001b[0m         \u001b[1;32mreturn\u001b[0m \u001b[0mself\u001b[0m\u001b[1;33m.\u001b[0m\u001b[0m_gp\u001b[0m\u001b[1;33m.\u001b[0m\u001b[0mcreateGPSDDraft\u001b[0m\u001b[1;33m(\u001b[0m\u001b[0mresult\u001b[0m\u001b[1;33m,\u001b[0m \u001b[0mout_sddraft\u001b[0m\u001b[1;33m,\u001b[0m \u001b[0mservice_name\u001b[0m\u001b[1;33m,\u001b[0m \u001b[0mserver_type\u001b[0m\u001b[1;33m,\u001b[0m \u001b[0mconnection_file_path\u001b[0m\u001b[1;33m,\u001b[0m \u001b[0mcopy_data_to_server\u001b[0m\u001b[1;33m,\u001b[0m \u001b[0mfolder_name\u001b[0m\u001b[1;33m,\u001b[0m \u001b[0msummary\u001b[0m\u001b[1;33m,\u001b[0m \u001b[0mtags\u001b[0m\u001b[1;33m,\u001b[0m \u001b[0mexecutionType\u001b[0m\u001b[1;33m,\u001b[0m \u001b[0mresultMapServer\u001b[0m\u001b[1;33m,\u001b[0m \u001b[0mshowMessages\u001b[0m\u001b[1;33m,\u001b[0m \u001b[0mmaximumRecords\u001b[0m\u001b[1;33m,\u001b[0m \u001b[0mminInstances\u001b[0m\u001b[1;33m,\u001b[0m \u001b[0mmaxInstances\u001b[0m\u001b[1;33m,\u001b[0m \u001b[0mmaxUsageTime\u001b[0m\u001b[1;33m,\u001b[0m \u001b[0mmaxWaitTime\u001b[0m\u001b[1;33m,\u001b[0m \u001b[0mmaxIdleTime\u001b[0m\u001b[1;33m,\u001b[0m \u001b[0mcapabilities\u001b[0m\u001b[1;33m,\u001b[0m \u001b[0mconstantValues\u001b[0m\u001b[1;33m,\u001b[0m \u001b[0mchoiceLists\u001b[0m\u001b[1;33m)\u001b[0m\u001b[1;33m\u001b[0m\u001b[1;33m\u001b[0m\u001b[0m\n\u001b[0;32m    482\u001b[0m     \u001b[1;32mdef\u001b[0m \u001b[0mfromEsriJson\u001b[0m\u001b[1;33m(\u001b[0m\u001b[0mself\u001b[0m\u001b[1;33m,\u001b[0m \u001b[0mjson\u001b[0m\u001b[1;33m)\u001b[0m\u001b[1;33m:\u001b[0m\u001b[1;33m\u001b[0m\u001b[1;33m\u001b[0m\u001b[0m\n\u001b[1;32m--> 483\u001b[1;33m         \u001b[1;32mreturn\u001b[0m \u001b[0mself\u001b[0m\u001b[1;33m.\u001b[0m\u001b[0m_gp\u001b[0m\u001b[1;33m.\u001b[0m\u001b[0mFromEsriJson\u001b[0m\u001b[1;33m(\u001b[0m\u001b[0mjson\u001b[0m\u001b[1;33m)\u001b[0m\u001b[1;33m\u001b[0m\u001b[1;33m\u001b[0m\u001b[0m\n\u001b[0m\u001b[0;32m    484\u001b[0m     \u001b[1;32mdef\u001b[0m \u001b[0mlistDataStoreItems\u001b[0m\u001b[1;33m(\u001b[0m\u001b[0mself\u001b[0m\u001b[1;33m,\u001b[0m \u001b[0mconnection_file\u001b[0m\u001b[1;33m,\u001b[0m \u001b[0mdatastore_type\u001b[0m\u001b[1;33m)\u001b[0m\u001b[1;33m:\u001b[0m\u001b[1;33m\u001b[0m\u001b[1;33m\u001b[0m\u001b[0m\n\u001b[0;32m    485\u001b[0m         \u001b[1;32mreturn\u001b[0m \u001b[0mself\u001b[0m\u001b[1;33m.\u001b[0m\u001b[0m_gp\u001b[0m\u001b[1;33m.\u001b[0m\u001b[0mlistDataStoreItems\u001b[0m\u001b[1;33m(\u001b[0m\u001b[0mconnection_file\u001b[0m\u001b[1;33m,\u001b[0m \u001b[0mdatastore_type\u001b[0m\u001b[1;33m)\u001b[0m\u001b[1;33m\u001b[0m\u001b[1;33m\u001b[0m\u001b[0m\n",
      "\u001b[1;31mValueError\u001b[0m: Invalid geometry type for method"
     ]
    }
   ],
   "source": [
    "geometry.union(parcels_df.spatial.sr, [shape1.JSON, shape2.JSON], gis)"
   ]
  },
  {
   "cell_type": "code",
   "execution_count": 42,
   "id": "7c5feeee",
   "metadata": {
    "collapsed": true,
    "hidden": true
   },
   "outputs": [
    {
     "ename": "ValueError",
     "evalue": "<geoprocessing describe geometry object object at 0x000002172ED61F30>",
     "output_type": "error",
     "traceback": [
      "\u001b[1;31m---------------------------------------------------------------------------\u001b[0m",
      "\u001b[1;31mValueError\u001b[0m                                Traceback (most recent call last)",
      "\u001b[1;32m<ipython-input-42-78bbce27e1b9>\u001b[0m in \u001b[0;36m<module>\u001b[1;34m\u001b[0m\n\u001b[1;32m----> 1\u001b[1;33m \u001b[0mshape3\u001b[0m \u001b[1;33m=\u001b[0m \u001b[0mshape1\u001b[0m\u001b[1;33m.\u001b[0m\u001b[0munion\u001b[0m\u001b[1;33m(\u001b[0m\u001b[1;33m[\u001b[0m\u001b[0mshape2\u001b[0m\u001b[1;33m,\u001b[0m \u001b[0mshape3\u001b[0m\u001b[1;33m]\u001b[0m\u001b[1;33m)\u001b[0m\u001b[1;33m\u001b[0m\u001b[1;33m\u001b[0m\u001b[0m\n\u001b[0m",
      "\u001b[1;32m~\\Miniconda3\\envs\\housing\\lib\\site-packages\\arcgis\\geometry\\_types.py\u001b[0m in \u001b[0;36munion\u001b[1;34m(self, second_geometry)\u001b[0m\n\u001b[0;32m   2854\u001b[0m             \u001b[1;32mif\u001b[0m \u001b[0misinstance\u001b[0m\u001b[1;33m(\u001b[0m\u001b[0msecond_geometry\u001b[0m\u001b[1;33m,\u001b[0m \u001b[0mGeometry\u001b[0m\u001b[1;33m)\u001b[0m\u001b[1;33m:\u001b[0m\u001b[1;33m\u001b[0m\u001b[1;33m\u001b[0m\u001b[0m\n\u001b[0;32m   2855\u001b[0m                 \u001b[0msecond_geometry\u001b[0m \u001b[1;33m=\u001b[0m \u001b[0msecond_geometry\u001b[0m\u001b[1;33m.\u001b[0m\u001b[0mas_arcpy\u001b[0m\u001b[1;33m\u001b[0m\u001b[1;33m\u001b[0m\u001b[0m\n\u001b[1;32m-> 2856\u001b[1;33m             \u001b[1;32mreturn\u001b[0m \u001b[0mGeometry\u001b[0m\u001b[1;33m(\u001b[0m\u001b[0mself\u001b[0m\u001b[1;33m.\u001b[0m\u001b[0mas_arcpy\u001b[0m\u001b[1;33m.\u001b[0m\u001b[0munion\u001b[0m\u001b[1;33m(\u001b[0m\u001b[0mother\u001b[0m\u001b[1;33m=\u001b[0m\u001b[0msecond_geometry\u001b[0m\u001b[1;33m)\u001b[0m\u001b[1;33m)\u001b[0m\u001b[1;33m\u001b[0m\u001b[1;33m\u001b[0m\u001b[0m\n\u001b[0m\u001b[0;32m   2857\u001b[0m         \u001b[1;32melif\u001b[0m \u001b[0mHASSHAPELY\u001b[0m \u001b[1;32mand\u001b[0m \u001b[0misinstance\u001b[0m\u001b[1;33m(\u001b[0m\u001b[0mself\u001b[0m\u001b[1;33m,\u001b[0m \u001b[1;33m(\u001b[0m\u001b[0mPoint\u001b[0m\u001b[1;33m,\u001b[0m \u001b[0mPolygon\u001b[0m\u001b[1;33m,\u001b[0m \u001b[0mPolyline\u001b[0m\u001b[1;33m,\u001b[0m \u001b[0mMultiPoint\u001b[0m\u001b[1;33m)\u001b[0m\u001b[1;33m)\u001b[0m\u001b[1;33m:\u001b[0m\u001b[1;33m\u001b[0m\u001b[1;33m\u001b[0m\u001b[0m\n\u001b[0;32m   2858\u001b[0m             \u001b[1;32mif\u001b[0m \u001b[0misinstance\u001b[0m\u001b[1;33m(\u001b[0m\u001b[0msecond_geometry\u001b[0m\u001b[1;33m,\u001b[0m \u001b[0mGeometry\u001b[0m\u001b[1;33m)\u001b[0m\u001b[1;33m:\u001b[0m\u001b[1;33m\u001b[0m\u001b[1;33m\u001b[0m\u001b[0m\n",
      "\u001b[1;32m~\\AppData\\Local\\Programs\\ArcGIS\\Pro\\Resources\\ArcPy\\arcpy\\arcobjects\\arcobjects.py\u001b[0m in \u001b[0;36munion\u001b[1;34m(self, other)\u001b[0m\n\u001b[0;32m   1857\u001b[0m            A second geometry.\"\"\"\n\u001b[0;32m   1858\u001b[0m         \u001b[1;32mfrom\u001b[0m \u001b[0marcpy\u001b[0m\u001b[1;33m.\u001b[0m\u001b[0mgeoprocessing\u001b[0m\u001b[1;33m.\u001b[0m\u001b[0m_base\u001b[0m \u001b[1;32mimport\u001b[0m \u001b[0mgp_fixargs\u001b[0m\u001b[1;33m\u001b[0m\u001b[1;33m\u001b[0m\u001b[0m\n\u001b[1;32m-> 1859\u001b[1;33m         \u001b[1;32mreturn\u001b[0m \u001b[0mconvertArcObjectToPythonObject\u001b[0m\u001b[1;33m(\u001b[0m\u001b[0mself\u001b[0m\u001b[1;33m.\u001b[0m\u001b[0m_arc_object\u001b[0m\u001b[1;33m.\u001b[0m\u001b[0mUnion\u001b[0m\u001b[1;33m(\u001b[0m\u001b[1;33m*\u001b[0m\u001b[0mgp_fixargs\u001b[0m\u001b[1;33m(\u001b[0m\u001b[1;33m(\u001b[0m\u001b[0mother\u001b[0m\u001b[1;33m,\u001b[0m\u001b[1;33m)\u001b[0m\u001b[1;33m)\u001b[0m\u001b[1;33m)\u001b[0m\u001b[1;33m)\u001b[0m\u001b[1;33m\u001b[0m\u001b[1;33m\u001b[0m\u001b[0m\n\u001b[0m\u001b[0;32m   1860\u001b[0m \u001b[1;33m\u001b[0m\u001b[0m\n\u001b[0;32m   1861\u001b[0m     \u001b[1;32mdef\u001b[0m \u001b[0mdistanceTo\u001b[0m\u001b[1;33m(\u001b[0m\u001b[0mself\u001b[0m\u001b[1;33m,\u001b[0m \u001b[0mother\u001b[0m\u001b[1;33m)\u001b[0m\u001b[1;33m:\u001b[0m\u001b[1;33m\u001b[0m\u001b[1;33m\u001b[0m\u001b[0m\n",
      "\u001b[1;31mValueError\u001b[0m: <geoprocessing describe geometry object object at 0x000002172ED61F30>"
     ]
    }
   ],
   "source": [
    "shape3 = shape1.union([shape2, shape3])"
   ]
  },
  {
   "cell_type": "code",
   "execution_count": 40,
   "id": "b15eea60",
   "metadata": {
    "collapsed": true,
    "hidden": true
   },
   "outputs": [
    {
     "data": {
      "text/plain": [
       "'{\"rings\":[[[420568.65039999969,4547565.4802999999],[420568.4227,4547534.5080999993],[420505.99799999967,4547535.1394999996],[420506.0055999998,4547536.1133999992],[420506.07249999978,4547555.2459999993],[420506.1157999998,4547565.6022999994],[420545.41770000011,4547565.5256999992],[420563.03969999962,4547565.4912999999],[420568.65039999969,4547565.4802999999]],[[420568.75549999997,4547626.4134999998],[420568.70289999992,4547595.9470000006],[420506.25009999983,4547596.3747000005],[420506.27689999994,4547612.8342000004],[420506.34970000014,4547626.5360000003],[420568.75549999997,4547626.4134999998]]],\"spatialReference\":{\"wkid\":26912,\"latestWkid\":26912}}'"
      ]
     },
     "execution_count": 40,
     "metadata": {},
     "output_type": "execute_result"
    }
   ],
   "source": [
    "shape3.JSON"
   ]
  },
  {
   "cell_type": "code",
   "execution_count": 50,
   "id": "7dc53b3b",
   "metadata": {
    "hidden": true
   },
   "outputs": [],
   "source": [
    "def recursive_union(shape, other_shapes):\n",
    "    if len(other_shapes) == 1:\n",
    "        return shape.union(other_shapes[0])\n",
    "    else:\n",
    "        new_shape = shape.union(other_shapes[0])\n",
    "        return recursive_union(new_shape, other_shapes[1:])\n",
    "    "
   ]
  },
  {
   "cell_type": "code",
   "execution_count": 51,
   "id": "8d557fbe",
   "metadata": {
    "hidden": true
   },
   "outputs": [],
   "source": [
    "joined = recursive_union(shape1, [shape2, shape3])"
   ]
  },
  {
   "cell_type": "code",
   "execution_count": 52,
   "id": "25891b8e",
   "metadata": {
    "collapsed": true,
    "hidden": true
   },
   "outputs": [
    {
     "data": {
      "image/svg+xml": [
       "<svg xmlns=\"http://www.w3.org/2000/svg\" xmlns:xlink=\"http://www.w3.org/1999/xlink\" width=\"300\" height=\"268.25397999957204\" viewBox=\"420179.08985999954 4547519.520959999 404.65278000046965 268.25397999957204\" preserveAspectRatio=\"xMinYMin meet\"><g transform=\"matrix(1,0,0,-1,0,9095307.295899998)\"><path fill-rule=\"evenodd\" fill=\"#66cc99\" stroke=\"#555555\" stroke-width=\"2.697685200003131\" opacity=\"0.6\" d=\"M 420568.6503999997,4547565.4803 L 420568.4227,4547534.508099999 L 420505.9979999997,4547535.1395 L 420506.0055999998,4547536.113399999 L 420506.0724999998,4547555.245999999 L 420506.1157999998,4547565.602299999 L 420545.4177000001,4547565.525699999 L 420563.0396999996,4547565.4913 L 420568.6503999997,4547565.4803 z\" /><path fill-rule=\"evenodd\" fill=\"#66cc99\" stroke=\"#555555\" stroke-width=\"2.697685200003131\" opacity=\"0.6\" d=\"M 420568.75549999997,4547626.4135 L 420568.7028999999,4547595.947000001 L 420506.25009999983,4547596.3747000005 L 420506.27689999994,4547612.8342 L 420506.34970000014,4547626.536 L 420568.75549999997,4547626.4135 z\" /><path fill-rule=\"evenodd\" fill=\"#66cc99\" stroke=\"#555555\" stroke-width=\"2.697685200003131\" opacity=\"0.6\" d=\"M 420226.37320000026,4547765.5504 L 420226.26570000034,4547757.732100001 L 420194.0769999996,4547758.1559999995 L 420194.2784000002,4547772.787799999 L 420216.2818999998,4547772.5298 L 420226.37320000026,4547765.5504 z\" /></g></svg>"
      ],
      "text/plain": [
       "{'rings': [[[420568.6503999997, 4547565.4803],\n",
       "   [420568.4227, 4547534.508099999],\n",
       "   [420505.9979999997, 4547535.1395],\n",
       "   [420506.0055999998, 4547536.113399999],\n",
       "   [420506.0724999998, 4547555.245999999],\n",
       "   [420506.1157999998, 4547565.602299999],\n",
       "   [420545.4177000001, 4547565.525699999],\n",
       "   [420563.0396999996, 4547565.4913],\n",
       "   [420568.6503999997, 4547565.4803]],\n",
       "  [[420568.75549999997, 4547626.4135],\n",
       "   [420568.7028999999, 4547595.947000001],\n",
       "   [420506.25009999983, 4547596.3747000005],\n",
       "   [420506.27689999994, 4547612.8342],\n",
       "   [420506.34970000014, 4547626.536],\n",
       "   [420568.75549999997, 4547626.4135]],\n",
       "  [[420226.37320000026, 4547765.5504],\n",
       "   [420226.26570000034, 4547757.732100001],\n",
       "   [420194.0769999996, 4547758.1559999995],\n",
       "   [420194.2784000002, 4547772.787799999],\n",
       "   [420216.2818999998, 4547772.5298],\n",
       "   [420226.37320000026, 4547765.5504]]],\n",
       " 'spatialReference': {'wkid': 26912, 'latestWkid': 26912}}"
      ]
     },
     "execution_count": 52,
     "metadata": {},
     "output_type": "execute_result"
    }
   ],
   "source": [
    "joined"
   ]
  },
  {
   "cell_type": "code",
   "execution_count": 53,
   "id": "9b11083b",
   "metadata": {
    "collapsed": true,
    "hidden": true
   },
   "outputs": [
    {
     "data": {
      "text/plain": [
       "'{\"rings\":[[[420568.65039999969,4547565.4802999999],[420568.4227,4547534.5080999993],[420505.99799999967,4547535.1394999996],[420506.0055999998,4547536.1133999992],[420506.07249999978,4547555.2459999993],[420506.1157999998,4547565.6022999994],[420545.41770000011,4547565.5256999992],[420563.03969999962,4547565.4912999999],[420568.65039999969,4547565.4802999999]],[[420568.75549999997,4547626.4134999998],[420568.70289999992,4547595.9470000006],[420506.25009999983,4547596.3747000005],[420506.27689999994,4547612.8342000004],[420506.34970000014,4547626.5360000003],[420568.75549999997,4547626.4134999998]],[[420226.37320000026,4547765.5504000001],[420226.26570000034,4547757.7321000006],[420194.07699999958,4547758.1559999995],[420194.27840000018,4547772.7877999991],[420216.28189999983,4547772.5297999997],[420226.37320000026,4547765.5504000001]]],\"spatialReference\":{\"wkid\":26912,\"latestWkid\":26912}}'"
      ]
     },
     "execution_count": 53,
     "metadata": {},
     "output_type": "execute_result"
    }
   ],
   "source": [
    "joined.JSON"
   ]
  },
  {
   "cell_type": "code",
   "execution_count": 80,
   "id": "654d1f90",
   "metadata": {
    "hidden": true
   },
   "outputs": [],
   "source": [
    "def recursive_union2(shapes):\n",
    "    if len(shapes) == 2:\n",
    "        return shapes[0].union(shapes[1])\n",
    "    else:\n",
    "        return shapes[0].union(recursive_union2(shapes[1:]))\n",
    "    "
   ]
  },
  {
   "cell_type": "code",
   "execution_count": 81,
   "id": "29fc52f3",
   "metadata": {
    "hidden": true
   },
   "outputs": [],
   "source": [
    "joined = recursive_union2([shape1, shape2, shape3])"
   ]
  },
  {
   "cell_type": "code",
   "execution_count": 82,
   "id": "03a0eab9",
   "metadata": {
    "collapsed": true,
    "hidden": true
   },
   "outputs": [
    {
     "data": {
      "image/svg+xml": [
       "<svg xmlns=\"http://www.w3.org/2000/svg\" xmlns:xlink=\"http://www.w3.org/1999/xlink\" width=\"300\" height=\"268.25397999957204\" viewBox=\"420179.08985999954 4547519.520959999 404.65278000046965 268.25397999957204\" preserveAspectRatio=\"xMinYMin meet\"><g transform=\"matrix(1,0,0,-1,0,9095307.295899998)\"><path fill-rule=\"evenodd\" fill=\"#66cc99\" stroke=\"#555555\" stroke-width=\"2.697685200003131\" opacity=\"0.6\" d=\"M 420568.6503999997,4547565.4803 L 420568.4227,4547534.508099999 L 420505.9979999997,4547535.1395 L 420506.0055999998,4547536.113399999 L 420506.0724999998,4547555.245999999 L 420506.1157999998,4547565.602299999 L 420545.4177000001,4547565.525699999 L 420563.0396999996,4547565.4913 L 420568.6503999997,4547565.4803 z\" /><path fill-rule=\"evenodd\" fill=\"#66cc99\" stroke=\"#555555\" stroke-width=\"2.697685200003131\" opacity=\"0.6\" d=\"M 420568.75549999997,4547626.4135 L 420568.7028999999,4547595.947000001 L 420506.25009999983,4547596.3747000005 L 420506.27689999994,4547612.8342 L 420506.34970000014,4547626.536 L 420568.75549999997,4547626.4135 z\" /><path fill-rule=\"evenodd\" fill=\"#66cc99\" stroke=\"#555555\" stroke-width=\"2.697685200003131\" opacity=\"0.6\" d=\"M 420226.37320000026,4547765.5504 L 420226.26570000034,4547757.732100001 L 420194.0769999996,4547758.1559999995 L 420194.2784000002,4547772.787799999 L 420216.2818999998,4547772.5298 L 420226.37320000026,4547765.5504 z\" /></g></svg>"
      ],
      "text/plain": [
       "{'rings': [[[420568.6503999997, 4547565.4803],\n",
       "   [420568.4227, 4547534.508099999],\n",
       "   [420505.9979999997, 4547535.1395],\n",
       "   [420506.0055999998, 4547536.113399999],\n",
       "   [420506.0724999998, 4547555.245999999],\n",
       "   [420506.1157999998, 4547565.602299999],\n",
       "   [420545.4177000001, 4547565.525699999],\n",
       "   [420563.0396999996, 4547565.4913],\n",
       "   [420568.6503999997, 4547565.4803]],\n",
       "  [[420568.75549999997, 4547626.4135],\n",
       "   [420568.7028999999, 4547595.947000001],\n",
       "   [420506.25009999983, 4547596.3747000005],\n",
       "   [420506.27689999994, 4547612.8342],\n",
       "   [420506.34970000014, 4547626.536],\n",
       "   [420568.75549999997, 4547626.4135]],\n",
       "  [[420226.37320000026, 4547765.5504],\n",
       "   [420226.26570000034, 4547757.732100001],\n",
       "   [420194.0769999996, 4547758.1559999995],\n",
       "   [420194.2784000002, 4547772.787799999],\n",
       "   [420216.2818999998, 4547772.5298],\n",
       "   [420226.37320000026, 4547765.5504]]],\n",
       " 'spatialReference': {'wkid': 26912, 'latestWkid': 26912}}"
      ]
     },
     "execution_count": 82,
     "metadata": {},
     "output_type": "execute_result"
    }
   ],
   "source": [
    "joined"
   ]
  },
  {
   "cell_type": "code",
   "execution_count": 83,
   "id": "c393cde9",
   "metadata": {
    "collapsed": true,
    "hidden": true
   },
   "outputs": [
    {
     "data": {
      "text/plain": [
       "'{\"rings\":[[[420568.65039999969,4547565.4802999999],[420568.4227,4547534.5080999993],[420505.99799999967,4547535.1394999996],[420506.0055999998,4547536.1133999992],[420506.07249999978,4547555.2459999993],[420506.1157999998,4547565.6022999994],[420545.41770000011,4547565.5256999992],[420563.03969999962,4547565.4912999999],[420568.65039999969,4547565.4802999999]],[[420568.75549999997,4547626.4134999998],[420568.70289999992,4547595.9470000006],[420506.25009999983,4547596.3747000005],[420506.27689999994,4547612.8342000004],[420506.34970000014,4547626.5360000003],[420568.75549999997,4547626.4134999998]],[[420226.37320000026,4547765.5504000001],[420226.26570000034,4547757.7321000006],[420194.07699999958,4547758.1559999995],[420194.27840000018,4547772.7877999991],[420216.28189999983,4547772.5297999997],[420226.37320000026,4547765.5504000001]]],\"spatialReference\":{\"wkid\":26912,\"latestWkid\":26912}}'"
      ]
     },
     "execution_count": 83,
     "metadata": {},
     "output_type": "execute_result"
    }
   ],
   "source": [
    "joined.JSON"
   ]
  },
  {
   "cell_type": "code",
   "execution_count": 84,
   "id": "2604f215",
   "metadata": {
    "hidden": true
   },
   "outputs": [],
   "source": [
    "def recursive_union_series(shape_series):\n",
    "    if shape_series.size == 2:\n",
    "        return shape_series.iloc[0].union(shape_series.iloc[1])\n",
    "    else:\n",
    "        return shape_series.iloc[0].union(recursive_union_series(shape_series.iloc[1:]))\n",
    "    "
   ]
  },
  {
   "cell_type": "code",
   "execution_count": 85,
   "id": "3aa3047d",
   "metadata": {
    "hidden": true
   },
   "outputs": [],
   "source": [
    "shape_series = pd.Series([shape1, shape2, shape3])"
   ]
  },
  {
   "cell_type": "code",
   "execution_count": 86,
   "id": "9c31d6db",
   "metadata": {
    "hidden": true
   },
   "outputs": [],
   "source": [
    "joined = recursive_union_series(shape_series)"
   ]
  },
  {
   "cell_type": "code",
   "execution_count": 88,
   "id": "d4f9d77a",
   "metadata": {
    "collapsed": true,
    "hidden": true
   },
   "outputs": [
    {
     "data": {
      "text/plain": [
       "'{\"rings\":[[[420568.65039999969,4547565.4802999999],[420568.4227,4547534.5080999993],[420505.99799999967,4547535.1394999996],[420506.0055999998,4547536.1133999992],[420506.07249999978,4547555.2459999993],[420506.1157999998,4547565.6022999994],[420545.41770000011,4547565.5256999992],[420563.03969999962,4547565.4912999999],[420568.65039999969,4547565.4802999999]],[[420568.75549999997,4547626.4134999998],[420568.70289999992,4547595.9470000006],[420506.25009999983,4547596.3747000005],[420506.27689999994,4547612.8342000004],[420506.34970000014,4547626.5360000003],[420568.75549999997,4547626.4134999998]],[[420226.37320000026,4547765.5504000001],[420226.26570000034,4547757.7321000006],[420194.07699999958,4547758.1559999995],[420194.27840000018,4547772.7877999991],[420216.28189999983,4547772.5297999997],[420226.37320000026,4547765.5504000001]]],\"spatialReference\":{\"wkid\":26912,\"latestWkid\":26912}}'"
      ]
     },
     "execution_count": 88,
     "metadata": {},
     "output_type": "execute_result"
    }
   ],
   "source": [
    "joined.JSON"
   ]
  },
  {
   "cell_type": "code",
   "execution_count": 95,
   "id": "7cf2e547",
   "metadata": {
    "hidden": true
   },
   "outputs": [],
   "source": [
    "unions = groups['SHAPE'].agg(recursive_union_series)"
   ]
  },
  {
   "cell_type": "code",
   "execution_count": 97,
   "id": "898fbfe6",
   "metadata": {
    "hidden": true
   },
   "outputs": [
    {
     "data": {
      "text/plain": [
       "PARCEL_ID\n",
       "100110017    {\"rings\": [[[420719.6895000003, 4547797.329500...\n",
       "100120057    {\"rings\": [[[420857.18319999985, 4547653.16180...\n",
       "100130023    {\"rings\": [[[420857.7564000003, 4547803.773700...\n",
       "100130026    {\"rings\": [[[420791.6612, 4547867.614800001], ...\n",
       "100260028    {\"rings\": [[[419551.4678999996, 4547918.3397],...\n",
       "                                   ...                        \n",
       "116940015    {\"rings\": [[[420441.2006999999, 4546549.313100...\n",
       "116940016    {\"rings\": [[[420409.4713000003, 4546565.583799...\n",
       "116940017    {\"rings\": [[[420418.3342000004, 4546548.870200...\n",
       "116940018    {\"rings\": [[[420435.6118000001, 4546535.106899...\n",
       "117840026    {\"rings\": [[[420862.5700000003, 4547324.430600...\n",
       "Name: SHAPE, Length: 89, dtype: geometry"
      ]
     },
     "execution_count": 97,
     "metadata": {},
     "output_type": "execute_result"
    }
   ],
   "source": [
    "unions"
   ]
  },
  {
   "cell_type": "code",
   "execution_count": 98,
   "id": "8d6373a4",
   "metadata": {
    "hidden": true
   },
   "outputs": [
    {
     "data": {
      "text/html": [
       "<div>\n",
       "<style scoped>\n",
       "    .dataframe tbody tr th:only-of-type {\n",
       "        vertical-align: middle;\n",
       "    }\n",
       "\n",
       "    .dataframe tbody tr th {\n",
       "        vertical-align: top;\n",
       "    }\n",
       "\n",
       "    .dataframe thead th {\n",
       "        text-align: right;\n",
       "    }\n",
       "</style>\n",
       "<table border=\"1\" class=\"dataframe\">\n",
       "  <thead>\n",
       "    <tr style=\"text-align: right;\">\n",
       "      <th></th>\n",
       "      <th>OBJECTID</th>\n",
       "      <th>COUNTY_NAME</th>\n",
       "      <th>COUNTY_ID</th>\n",
       "      <th>ASSESSOR_SRC</th>\n",
       "      <th>BOUNDARY_SRC</th>\n",
       "      <th>DISCLAIMER</th>\n",
       "      <th>CURRENT_ASOF</th>\n",
       "      <th>PARCEL_ID</th>\n",
       "      <th>SERIAL_NUM</th>\n",
       "      <th>PARCEL_ADD</th>\n",
       "      <th>PARCEL_CITY</th>\n",
       "      <th>TAXEXEMPT_TYPE</th>\n",
       "      <th>TAX_DISTRICT</th>\n",
       "      <th>TOTAL_MKT_VALUE</th>\n",
       "      <th>LAND_MKT_VALUE</th>\n",
       "      <th>PARCEL_ACRES</th>\n",
       "      <th>PROP_CLASS</th>\n",
       "      <th>PRIMARY_RES</th>\n",
       "      <th>HOUSE_CNT</th>\n",
       "      <th>SUBDIV_NAME</th>\n",
       "      <th>BLDG_SQFT</th>\n",
       "      <th>BLDG_SQFT_INFO</th>\n",
       "      <th>FLOORS_CNT</th>\n",
       "      <th>FLOORS_INFO</th>\n",
       "      <th>BUILT_YR</th>\n",
       "      <th>EFFBUILT_YR</th>\n",
       "      <th>CONST_MATERIAL</th>\n",
       "      <th>x</th>\n",
       "      <th>y</th>\n",
       "      <th>SHAPE</th>\n",
       "    </tr>\n",
       "  </thead>\n",
       "  <tbody>\n",
       "    <tr>\n",
       "      <th>116</th>\n",
       "      <td>117</td>\n",
       "      <td>Davis</td>\n",
       "      <td>6</td>\n",
       "      <td>www.co.davis.ut.us/assessor/</td>\n",
       "      <td>www.co.davis.ut.us/recorder/</td>\n",
       "      <td>http://www.utah.gov/disclaimer.html</td>\n",
       "      <td>2020-07-20</td>\n",
       "      <td>100980019</td>\n",
       "      <td>None</td>\n",
       "      <td>801 N 800 EAST</td>\n",
       "      <td>Layton</td>\n",
       "      <td>NO</td>\n",
       "      <td>39</td>\n",
       "      <td>263000.0</td>\n",
       "      <td>86852.0</td>\n",
       "      <td>0.213</td>\n",
       "      <td>Residential</td>\n",
       "      <td>Y</td>\n",
       "      <td>1</td>\n",
       "      <td>None</td>\n",
       "      <td>1204.0</td>\n",
       "      <td>Only above grade areas are counted</td>\n",
       "      <td>1.0</td>\n",
       "      <td>Only above grade floors are counted and only t...</td>\n",
       "      <td>1967.0</td>\n",
       "      <td>None</td>\n",
       "      <td>None</td>\n",
       "      <td>420060.03125</td>\n",
       "      <td>4547173.0</td>\n",
       "      <td>{\"rings\": [[[420040.4182000002, 4547165.5075],...</td>\n",
       "    </tr>\n",
       "    <tr>\n",
       "      <th>153</th>\n",
       "      <td>154</td>\n",
       "      <td>Davis</td>\n",
       "      <td>6</td>\n",
       "      <td>www.co.davis.ut.us/assessor/</td>\n",
       "      <td>www.co.davis.ut.us/recorder/</td>\n",
       "      <td>http://www.utah.gov/disclaimer.html</td>\n",
       "      <td>2020-07-20</td>\n",
       "      <td>100920106</td>\n",
       "      <td>None</td>\n",
       "      <td>857 N SHERWOOD</td>\n",
       "      <td>Layton</td>\n",
       "      <td>NO</td>\n",
       "      <td>39</td>\n",
       "      <td>228000.0</td>\n",
       "      <td>112956.0</td>\n",
       "      <td>0.370</td>\n",
       "      <td>Residential</td>\n",
       "      <td>Y</td>\n",
       "      <td>1</td>\n",
       "      <td>None</td>\n",
       "      <td>1502.0</td>\n",
       "      <td>Only above grade areas are counted</td>\n",
       "      <td>1.0</td>\n",
       "      <td>Only above grade floors are counted and only t...</td>\n",
       "      <td>1955.0</td>\n",
       "      <td>None</td>\n",
       "      <td>None</td>\n",
       "      <td>419662.59375</td>\n",
       "      <td>4547241.0</td>\n",
       "      <td>{\"rings\": [[[419641.93090000004, 4547244.0233]...</td>\n",
       "    </tr>\n",
       "    <tr>\n",
       "      <th>249</th>\n",
       "      <td>250</td>\n",
       "      <td>Davis</td>\n",
       "      <td>6</td>\n",
       "      <td>www.co.davis.ut.us/assessor/</td>\n",
       "      <td>www.co.davis.ut.us/recorder/</td>\n",
       "      <td>http://www.utah.gov/disclaimer.html</td>\n",
       "      <td>2020-07-20</td>\n",
       "      <td>100920104</td>\n",
       "      <td>None</td>\n",
       "      <td>869 SHERWOOD</td>\n",
       "      <td>Layton</td>\n",
       "      <td>NO</td>\n",
       "      <td>39</td>\n",
       "      <td>209000.0</td>\n",
       "      <td>131933.0</td>\n",
       "      <td>0.555</td>\n",
       "      <td>Residential</td>\n",
       "      <td>Y</td>\n",
       "      <td>1</td>\n",
       "      <td>None</td>\n",
       "      <td>1312.0</td>\n",
       "      <td>Only above grade areas are counted</td>\n",
       "      <td>1.0</td>\n",
       "      <td>Only above grade floors are counted and only t...</td>\n",
       "      <td>1955.0</td>\n",
       "      <td>None</td>\n",
       "      <td>None</td>\n",
       "      <td>419675.34375</td>\n",
       "      <td>4547258.0</td>\n",
       "      <td>{\"rings\": [[[419654.7594999997, 4547260.751399...</td>\n",
       "    </tr>\n",
       "    <tr>\n",
       "      <th>252</th>\n",
       "      <td>253</td>\n",
       "      <td>Davis</td>\n",
       "      <td>6</td>\n",
       "      <td>www.co.davis.ut.us/assessor/</td>\n",
       "      <td>www.co.davis.ut.us/recorder/</td>\n",
       "      <td>http://www.utah.gov/disclaimer.html</td>\n",
       "      <td>2020-07-20</td>\n",
       "      <td>100920102</td>\n",
       "      <td>None</td>\n",
       "      <td></td>\n",
       "      <td>Layton</td>\n",
       "      <td>NO</td>\n",
       "      <td>39</td>\n",
       "      <td>392000.0</td>\n",
       "      <td>92347.0</td>\n",
       "      <td>0.250</td>\n",
       "      <td>Residential</td>\n",
       "      <td>Y</td>\n",
       "      <td>4</td>\n",
       "      <td>None</td>\n",
       "      <td>3312.0</td>\n",
       "      <td>Only above grade areas are counted</td>\n",
       "      <td>2.0</td>\n",
       "      <td>Only above grade floors are counted and only t...</td>\n",
       "      <td>1974.0</td>\n",
       "      <td>None</td>\n",
       "      <td>None</td>\n",
       "      <td>419825.96875</td>\n",
       "      <td>4547442.5</td>\n",
       "      <td>{\"rings\": [[[419815.3699000003, 4547456.669500...</td>\n",
       "    </tr>\n",
       "    <tr>\n",
       "      <th>253</th>\n",
       "      <td>254</td>\n",
       "      <td>Davis</td>\n",
       "      <td>6</td>\n",
       "      <td>www.co.davis.ut.us/assessor/</td>\n",
       "      <td>www.co.davis.ut.us/recorder/</td>\n",
       "      <td>http://www.utah.gov/disclaimer.html</td>\n",
       "      <td>2020-07-20</td>\n",
       "      <td>100920106</td>\n",
       "      <td>None</td>\n",
       "      <td>857 N SHERWOOD</td>\n",
       "      <td>Layton</td>\n",
       "      <td>NO</td>\n",
       "      <td>39</td>\n",
       "      <td>228000.0</td>\n",
       "      <td>112956.0</td>\n",
       "      <td>0.370</td>\n",
       "      <td>Residential</td>\n",
       "      <td>Y</td>\n",
       "      <td>1</td>\n",
       "      <td>None</td>\n",
       "      <td>1502.0</td>\n",
       "      <td>Only above grade areas are counted</td>\n",
       "      <td>1.0</td>\n",
       "      <td>Only above grade floors are counted and only t...</td>\n",
       "      <td>1955.0</td>\n",
       "      <td>None</td>\n",
       "      <td>None</td>\n",
       "      <td>419629.87500</td>\n",
       "      <td>4547259.0</td>\n",
       "      <td>{\"rings\": [[[419609.0368999997, 4547262.6163],...</td>\n",
       "    </tr>\n",
       "    <tr>\n",
       "      <th>...</th>\n",
       "      <td>...</td>\n",
       "      <td>...</td>\n",
       "      <td>...</td>\n",
       "      <td>...</td>\n",
       "      <td>...</td>\n",
       "      <td>...</td>\n",
       "      <td>...</td>\n",
       "      <td>...</td>\n",
       "      <td>...</td>\n",
       "      <td>...</td>\n",
       "      <td>...</td>\n",
       "      <td>...</td>\n",
       "      <td>...</td>\n",
       "      <td>...</td>\n",
       "      <td>...</td>\n",
       "      <td>...</td>\n",
       "      <td>...</td>\n",
       "      <td>...</td>\n",
       "      <td>...</td>\n",
       "      <td>...</td>\n",
       "      <td>...</td>\n",
       "      <td>...</td>\n",
       "      <td>...</td>\n",
       "      <td>...</td>\n",
       "      <td>...</td>\n",
       "      <td>...</td>\n",
       "      <td>...</td>\n",
       "      <td>...</td>\n",
       "      <td>...</td>\n",
       "      <td>...</td>\n",
       "    </tr>\n",
       "    <tr>\n",
       "      <th>1998</th>\n",
       "      <td>1999</td>\n",
       "      <td>Davis</td>\n",
       "      <td>6</td>\n",
       "      <td>www.co.davis.ut.us/assessor/</td>\n",
       "      <td>www.co.davis.ut.us/recorder/</td>\n",
       "      <td>http://www.utah.gov/disclaimer.html</td>\n",
       "      <td>2020-07-20</td>\n",
       "      <td>110050030</td>\n",
       "      <td>None</td>\n",
       "      <td>567 N ADAMSWOOD</td>\n",
       "      <td>Layton</td>\n",
       "      <td>NO</td>\n",
       "      <td>39</td>\n",
       "      <td>276000.0</td>\n",
       "      <td>134198.0</td>\n",
       "      <td>0.242</td>\n",
       "      <td>Residential</td>\n",
       "      <td>Y</td>\n",
       "      <td>1</td>\n",
       "      <td>None</td>\n",
       "      <td>1176.0</td>\n",
       "      <td>Only above grade areas are counted</td>\n",
       "      <td>1.0</td>\n",
       "      <td>Only above grade floors are counted and only t...</td>\n",
       "      <td>1976.0</td>\n",
       "      <td>None</td>\n",
       "      <td>None</td>\n",
       "      <td>420286.46875</td>\n",
       "      <td>4546779.5</td>\n",
       "      <td>{\"rings\": [[[420300.94269999955, 4546775.9143]...</td>\n",
       "    </tr>\n",
       "    <tr>\n",
       "      <th>1999</th>\n",
       "      <td>2000</td>\n",
       "      <td>Davis</td>\n",
       "      <td>6</td>\n",
       "      <td>www.co.davis.ut.us/assessor/</td>\n",
       "      <td>www.co.davis.ut.us/recorder/</td>\n",
       "      <td>http://www.utah.gov/disclaimer.html</td>\n",
       "      <td>2020-07-20</td>\n",
       "      <td>110050040</td>\n",
       "      <td>None</td>\n",
       "      <td>722 E SNOW CREEK</td>\n",
       "      <td>Layton</td>\n",
       "      <td>NO</td>\n",
       "      <td>39</td>\n",
       "      <td>276000.0</td>\n",
       "      <td>133312.0</td>\n",
       "      <td>0.209</td>\n",
       "      <td>Residential</td>\n",
       "      <td>Y</td>\n",
       "      <td>1</td>\n",
       "      <td>None</td>\n",
       "      <td>1260.0</td>\n",
       "      <td>Only above grade areas are counted</td>\n",
       "      <td>1.0</td>\n",
       "      <td>Only above grade floors are counted and only t...</td>\n",
       "      <td>1976.0</td>\n",
       "      <td>None</td>\n",
       "      <td>None</td>\n",
       "      <td>420328.15625</td>\n",
       "      <td>4546983.5</td>\n",
       "      <td>{\"rings\": [[[420340.25459999964, 4546994.3835]...</td>\n",
       "    </tr>\n",
       "    <tr>\n",
       "      <th>2016</th>\n",
       "      <td>2017</td>\n",
       "      <td>Davis</td>\n",
       "      <td>6</td>\n",
       "      <td>www.co.davis.ut.us/assessor/</td>\n",
       "      <td>www.co.davis.ut.us/recorder/</td>\n",
       "      <td>http://www.utah.gov/disclaimer.html</td>\n",
       "      <td>2020-07-20</td>\n",
       "      <td>100120057</td>\n",
       "      <td>None</td>\n",
       "      <td></td>\n",
       "      <td>Layton</td>\n",
       "      <td>COMMON</td>\n",
       "      <td>39</td>\n",
       "      <td>2425.0</td>\n",
       "      <td>2425.0</td>\n",
       "      <td>4.850</td>\n",
       "      <td>Vacant Land</td>\n",
       "      <td>N</td>\n",
       "      <td>None</td>\n",
       "      <td>None</td>\n",
       "      <td>0.0</td>\n",
       "      <td>Only above grade areas are counted</td>\n",
       "      <td>0.0</td>\n",
       "      <td>Only above grade floors are counted and only t...</td>\n",
       "      <td>NaN</td>\n",
       "      <td>None</td>\n",
       "      <td>None</td>\n",
       "      <td>420797.62500</td>\n",
       "      <td>4547509.0</td>\n",
       "      <td>{\"rings\": [[[420738.1911000004, 4547546.0031],...</td>\n",
       "    </tr>\n",
       "    <tr>\n",
       "      <th>2017</th>\n",
       "      <td>2018</td>\n",
       "      <td>Davis</td>\n",
       "      <td>6</td>\n",
       "      <td>www.co.davis.ut.us/assessor/</td>\n",
       "      <td>www.co.davis.ut.us/recorder/</td>\n",
       "      <td>http://www.utah.gov/disclaimer.html</td>\n",
       "      <td>2020-07-20</td>\n",
       "      <td>103190130</td>\n",
       "      <td>None</td>\n",
       "      <td></td>\n",
       "      <td>Layton</td>\n",
       "      <td>COMMON</td>\n",
       "      <td>39</td>\n",
       "      <td>155.0</td>\n",
       "      <td>155.0</td>\n",
       "      <td>0.310</td>\n",
       "      <td>Vacant Land</td>\n",
       "      <td>N</td>\n",
       "      <td>None</td>\n",
       "      <td>None</td>\n",
       "      <td>0.0</td>\n",
       "      <td>Only above grade areas are counted</td>\n",
       "      <td>0.0</td>\n",
       "      <td>Only above grade floors are counted and only t...</td>\n",
       "      <td>NaN</td>\n",
       "      <td>None</td>\n",
       "      <td>None</td>\n",
       "      <td>420029.00000</td>\n",
       "      <td>4547428.5</td>\n",
       "      <td>{\"rings\": [[[420036.54140000045, 4547452.9779]...</td>\n",
       "    </tr>\n",
       "    <tr>\n",
       "      <th>2019</th>\n",
       "      <td>2020</td>\n",
       "      <td>Davis</td>\n",
       "      <td>6</td>\n",
       "      <td>www.co.davis.ut.us/assessor/</td>\n",
       "      <td>www.co.davis.ut.us/recorder/</td>\n",
       "      <td>http://www.utah.gov/disclaimer.html</td>\n",
       "      <td>2020-07-20</td>\n",
       "      <td>110140094</td>\n",
       "      <td>None</td>\n",
       "      <td>1163 E 300 NORTH</td>\n",
       "      <td>Layton</td>\n",
       "      <td>NO</td>\n",
       "      <td>39</td>\n",
       "      <td>239000.0</td>\n",
       "      <td>139868.0</td>\n",
       "      <td>0.270</td>\n",
       "      <td>Residential</td>\n",
       "      <td>Y</td>\n",
       "      <td>1</td>\n",
       "      <td>None</td>\n",
       "      <td>1574.0</td>\n",
       "      <td>Only above grade areas are counted</td>\n",
       "      <td>2.0</td>\n",
       "      <td>Only above grade floors are counted and only t...</td>\n",
       "      <td>1978.0</td>\n",
       "      <td>None</td>\n",
       "      <td>None</td>\n",
       "      <td>420571.18750</td>\n",
       "      <td>4546288.0</td>\n",
       "      <td>{\"rings\": [[[420561.95139999967, 4546307.02229...</td>\n",
       "    </tr>\n",
       "  </tbody>\n",
       "</table>\n",
       "<p>197 rows × 30 columns</p>\n",
       "</div>"
      ],
      "text/plain": [
       "      OBJECTID COUNTY_NAME COUNTY_ID                  ASSESSOR_SRC  \\\n",
       "116        117       Davis         6  www.co.davis.ut.us/assessor/   \n",
       "153        154       Davis         6  www.co.davis.ut.us/assessor/   \n",
       "249        250       Davis         6  www.co.davis.ut.us/assessor/   \n",
       "252        253       Davis         6  www.co.davis.ut.us/assessor/   \n",
       "253        254       Davis         6  www.co.davis.ut.us/assessor/   \n",
       "...        ...         ...       ...                           ...   \n",
       "1998      1999       Davis         6  www.co.davis.ut.us/assessor/   \n",
       "1999      2000       Davis         6  www.co.davis.ut.us/assessor/   \n",
       "2016      2017       Davis         6  www.co.davis.ut.us/assessor/   \n",
       "2017      2018       Davis         6  www.co.davis.ut.us/assessor/   \n",
       "2019      2020       Davis         6  www.co.davis.ut.us/assessor/   \n",
       "\n",
       "                      BOUNDARY_SRC                           DISCLAIMER  \\\n",
       "116   www.co.davis.ut.us/recorder/  http://www.utah.gov/disclaimer.html   \n",
       "153   www.co.davis.ut.us/recorder/  http://www.utah.gov/disclaimer.html   \n",
       "249   www.co.davis.ut.us/recorder/  http://www.utah.gov/disclaimer.html   \n",
       "252   www.co.davis.ut.us/recorder/  http://www.utah.gov/disclaimer.html   \n",
       "253   www.co.davis.ut.us/recorder/  http://www.utah.gov/disclaimer.html   \n",
       "...                            ...                                  ...   \n",
       "1998  www.co.davis.ut.us/recorder/  http://www.utah.gov/disclaimer.html   \n",
       "1999  www.co.davis.ut.us/recorder/  http://www.utah.gov/disclaimer.html   \n",
       "2016  www.co.davis.ut.us/recorder/  http://www.utah.gov/disclaimer.html   \n",
       "2017  www.co.davis.ut.us/recorder/  http://www.utah.gov/disclaimer.html   \n",
       "2019  www.co.davis.ut.us/recorder/  http://www.utah.gov/disclaimer.html   \n",
       "\n",
       "     CURRENT_ASOF  PARCEL_ID SERIAL_NUM        PARCEL_ADD PARCEL_CITY  \\\n",
       "116    2020-07-20  100980019       None    801 N 800 EAST      Layton   \n",
       "153    2020-07-20  100920106       None    857 N SHERWOOD      Layton   \n",
       "249    2020-07-20  100920104       None      869 SHERWOOD      Layton   \n",
       "252    2020-07-20  100920102       None                        Layton   \n",
       "253    2020-07-20  100920106       None    857 N SHERWOOD      Layton   \n",
       "...           ...        ...        ...               ...         ...   \n",
       "1998   2020-07-20  110050030       None   567 N ADAMSWOOD      Layton   \n",
       "1999   2020-07-20  110050040       None  722 E SNOW CREEK      Layton   \n",
       "2016   2020-07-20  100120057       None                        Layton   \n",
       "2017   2020-07-20  103190130       None                        Layton   \n",
       "2019   2020-07-20  110140094       None  1163 E 300 NORTH      Layton   \n",
       "\n",
       "     TAXEXEMPT_TYPE TAX_DISTRICT  TOTAL_MKT_VALUE  LAND_MKT_VALUE  \\\n",
       "116              NO           39         263000.0         86852.0   \n",
       "153              NO           39         228000.0        112956.0   \n",
       "249              NO           39         209000.0        131933.0   \n",
       "252              NO           39         392000.0         92347.0   \n",
       "253              NO           39         228000.0        112956.0   \n",
       "...             ...          ...              ...             ...   \n",
       "1998             NO           39         276000.0        134198.0   \n",
       "1999             NO           39         276000.0        133312.0   \n",
       "2016         COMMON           39           2425.0          2425.0   \n",
       "2017         COMMON           39            155.0           155.0   \n",
       "2019             NO           39         239000.0        139868.0   \n",
       "\n",
       "      PARCEL_ACRES   PROP_CLASS PRIMARY_RES HOUSE_CNT SUBDIV_NAME  BLDG_SQFT  \\\n",
       "116          0.213  Residential           Y         1        None     1204.0   \n",
       "153          0.370  Residential           Y         1        None     1502.0   \n",
       "249          0.555  Residential           Y         1        None     1312.0   \n",
       "252          0.250  Residential           Y         4        None     3312.0   \n",
       "253          0.370  Residential           Y         1        None     1502.0   \n",
       "...            ...          ...         ...       ...         ...        ...   \n",
       "1998         0.242  Residential           Y         1        None     1176.0   \n",
       "1999         0.209  Residential           Y         1        None     1260.0   \n",
       "2016         4.850  Vacant Land           N      None        None        0.0   \n",
       "2017         0.310  Vacant Land           N      None        None        0.0   \n",
       "2019         0.270  Residential           Y         1        None     1574.0   \n",
       "\n",
       "                          BLDG_SQFT_INFO  FLOORS_CNT  \\\n",
       "116   Only above grade areas are counted         1.0   \n",
       "153   Only above grade areas are counted         1.0   \n",
       "249   Only above grade areas are counted         1.0   \n",
       "252   Only above grade areas are counted         2.0   \n",
       "253   Only above grade areas are counted         1.0   \n",
       "...                                  ...         ...   \n",
       "1998  Only above grade areas are counted         1.0   \n",
       "1999  Only above grade areas are counted         1.0   \n",
       "2016  Only above grade areas are counted         0.0   \n",
       "2017  Only above grade areas are counted         0.0   \n",
       "2019  Only above grade areas are counted         2.0   \n",
       "\n",
       "                                            FLOORS_INFO  BUILT_YR EFFBUILT_YR  \\\n",
       "116   Only above grade floors are counted and only t...    1967.0        None   \n",
       "153   Only above grade floors are counted and only t...    1955.0        None   \n",
       "249   Only above grade floors are counted and only t...    1955.0        None   \n",
       "252   Only above grade floors are counted and only t...    1974.0        None   \n",
       "253   Only above grade floors are counted and only t...    1955.0        None   \n",
       "...                                                 ...       ...         ...   \n",
       "1998  Only above grade floors are counted and only t...    1976.0        None   \n",
       "1999  Only above grade floors are counted and only t...    1976.0        None   \n",
       "2016  Only above grade floors are counted and only t...       NaN        None   \n",
       "2017  Only above grade floors are counted and only t...       NaN        None   \n",
       "2019  Only above grade floors are counted and only t...    1978.0        None   \n",
       "\n",
       "     CONST_MATERIAL             x          y  \\\n",
       "116            None  420060.03125  4547173.0   \n",
       "153            None  419662.59375  4547241.0   \n",
       "249            None  419675.34375  4547258.0   \n",
       "252            None  419825.96875  4547442.5   \n",
       "253            None  419629.87500  4547259.0   \n",
       "...             ...           ...        ...   \n",
       "1998           None  420286.46875  4546779.5   \n",
       "1999           None  420328.15625  4546983.5   \n",
       "2016           None  420797.62500  4547509.0   \n",
       "2017           None  420029.00000  4547428.5   \n",
       "2019           None  420571.18750  4546288.0   \n",
       "\n",
       "                                                  SHAPE  \n",
       "116   {\"rings\": [[[420040.4182000002, 4547165.5075],...  \n",
       "153   {\"rings\": [[[419641.93090000004, 4547244.0233]...  \n",
       "249   {\"rings\": [[[419654.7594999997, 4547260.751399...  \n",
       "252   {\"rings\": [[[419815.3699000003, 4547456.669500...  \n",
       "253   {\"rings\": [[[419609.0368999997, 4547262.6163],...  \n",
       "...                                                 ...  \n",
       "1998  {\"rings\": [[[420300.94269999955, 4546775.9143]...  \n",
       "1999  {\"rings\": [[[420340.25459999964, 4546994.3835]...  \n",
       "2016  {\"rings\": [[[420738.1911000004, 4547546.0031],...  \n",
       "2017  {\"rings\": [[[420036.54140000045, 4547452.9779]...  \n",
       "2019  {\"rings\": [[[420561.95139999967, 4546307.02229...  \n",
       "\n",
       "[197 rows x 30 columns]"
      ]
     },
     "execution_count": 98,
     "metadata": {},
     "output_type": "execute_result"
    }
   ],
   "source": [
    "dups"
   ]
  },
  {
   "cell_type": "code",
   "execution_count": 2,
   "id": "f34f5eb6",
   "metadata": {
    "hidden": true
   },
   "outputs": [
    {
     "data": {
      "text/plain": [
       "defaultdict(list, {'sum': ['foo', 'bar'], 'max': ['baz']})"
      ]
     },
     "execution_count": 2,
     "metadata": {},
     "output_type": "execute_result"
    }
   ],
   "source": [
    "from collections import defaultdict\n",
    "fields_map = {'foo': 'sum', 'bar': 'sum', 'baz': 'max'}\n",
    "ops_and_fields = defaultdict(list)\n",
    "for field, op in fields_map.items():\n",
    "    ops_and_fields[op].append(field)\n",
    "ops_and_fields"
   ]
  },
  {
   "cell_type": "code",
   "execution_count": 6,
   "id": "8328eee3",
   "metadata": {
    "hidden": true
   },
   "outputs": [
    {
     "data": {
      "text/html": [
       "<div>\n",
       "<style scoped>\n",
       "    .dataframe tbody tr th:only-of-type {\n",
       "        vertical-align: middle;\n",
       "    }\n",
       "\n",
       "    .dataframe tbody tr th {\n",
       "        vertical-align: top;\n",
       "    }\n",
       "\n",
       "    .dataframe thead th {\n",
       "        text-align: right;\n",
       "    }\n",
       "</style>\n",
       "<table border=\"1\" class=\"dataframe\">\n",
       "  <thead>\n",
       "    <tr style=\"text-align: right;\">\n",
       "      <th></th>\n",
       "      <th>foo</th>\n",
       "      <th>bar</th>\n",
       "      <th>baz</th>\n",
       "    </tr>\n",
       "  </thead>\n",
       "  <tbody>\n",
       "  </tbody>\n",
       "</table>\n",
       "</div>"
      ],
      "text/plain": [
       "Empty DataFrame\n",
       "Columns: [foo, bar, baz]\n",
       "Index: []"
      ]
     },
     "execution_count": 6,
     "metadata": {},
     "output_type": "execute_result"
    }
   ],
   "source": [
    "pd.DataFrame(columns=list(fields_map.keys()))"
   ]
  },
  {
   "cell_type": "code",
   "execution_count": 7,
   "id": "7bfcbbb7",
   "metadata": {
    "hidden": true
   },
   "outputs": [],
   "source": [
    "fields_group_df = pd.DataFrame({\n",
    "    'key': [1, 1, 1, 2],\n",
    "    'first': [11, 12, 13, 50],\n",
    "    'max': [10, 40, 20, 42],\n",
    "})\n"
   ]
  },
  {
   "cell_type": "code",
   "execution_count": 13,
   "id": "b80d5824",
   "metadata": {
    "hidden": true
   },
   "outputs": [
    {
     "data": {
      "text/html": [
       "<div>\n",
       "<style scoped>\n",
       "    .dataframe tbody tr th:only-of-type {\n",
       "        vertical-align: middle;\n",
       "    }\n",
       "\n",
       "    .dataframe tbody tr th {\n",
       "        vertical-align: top;\n",
       "    }\n",
       "\n",
       "    .dataframe thead th {\n",
       "        text-align: right;\n",
       "    }\n",
       "</style>\n",
       "<table border=\"1\" class=\"dataframe\">\n",
       "  <thead>\n",
       "    <tr style=\"text-align: right;\">\n",
       "      <th></th>\n",
       "      <th>first</th>\n",
       "      <th>max</th>\n",
       "    </tr>\n",
       "    <tr>\n",
       "      <th>key</th>\n",
       "      <th></th>\n",
       "      <th></th>\n",
       "    </tr>\n",
       "  </thead>\n",
       "  <tbody>\n",
       "    <tr>\n",
       "      <th>1</th>\n",
       "      <td>36</td>\n",
       "      <td>70</td>\n",
       "    </tr>\n",
       "    <tr>\n",
       "      <th>2</th>\n",
       "      <td>50</td>\n",
       "      <td>42</td>\n",
       "    </tr>\n",
       "  </tbody>\n",
       "</table>\n",
       "</div>"
      ],
      "text/plain": [
       "     first  max\n",
       "key            \n",
       "1       36   70\n",
       "2       50   42"
      ]
     },
     "execution_count": 13,
     "metadata": {},
     "output_type": "execute_result"
    }
   ],
   "source": [
    "fields_group_df.groupby('key')[['first', 'max']].sum()"
   ]
  },
  {
   "cell_type": "code",
   "execution_count": 15,
   "id": "aec670ce",
   "metadata": {
    "hidden": true
   },
   "outputs": [
    {
     "data": {
      "text/html": [
       "<div>\n",
       "<style scoped>\n",
       "    .dataframe tbody tr th:only-of-type {\n",
       "        vertical-align: middle;\n",
       "    }\n",
       "\n",
       "    .dataframe tbody tr th {\n",
       "        vertical-align: top;\n",
       "    }\n",
       "\n",
       "    .dataframe thead th {\n",
       "        text-align: right;\n",
       "    }\n",
       "</style>\n",
       "<table border=\"1\" class=\"dataframe\">\n",
       "  <thead>\n",
       "    <tr style=\"text-align: right;\">\n",
       "      <th></th>\n",
       "      <th>first</th>\n",
       "      <th>max</th>\n",
       "    </tr>\n",
       "  </thead>\n",
       "  <tbody>\n",
       "    <tr>\n",
       "      <th>1</th>\n",
       "      <td>36</td>\n",
       "      <td>70</td>\n",
       "    </tr>\n",
       "    <tr>\n",
       "      <th>2</th>\n",
       "      <td>50</td>\n",
       "      <td>42</td>\n",
       "    </tr>\n",
       "  </tbody>\n",
       "</table>\n",
       "</div>"
      ],
      "text/plain": [
       "  first max\n",
       "1    36  70\n",
       "2    50  42"
      ]
     },
     "execution_count": 15,
     "metadata": {},
     "output_type": "execute_result"
    }
   ],
   "source": [
    "combined_df = pd.DataFrame(columns=['first', 'max'])\n",
    "pd.concat([combined_df, fields_group_df.groupby('key')[['first', 'max']].sum()])"
   ]
  },
  {
   "cell_type": "code",
   "execution_count": 4,
   "id": "516a26e6",
   "metadata": {
    "hidden": true
   },
   "outputs": [],
   "source": [
    "dup_parcels_df = pd.DataFrame({\n",
    "    'PARCEL_ID': ['1', '1', '2', '2', '3'],\n",
    "    'BLDG_SQFT': [100, 100, 150, 0, 200],\n",
    "    'TOTAL_MKT_VALUE':[50, 50, 25, 0, 40],\n",
    "    'LAND_MKT_VALUE': [10, 10, 5, 0, 15],\n",
    "    'PARCEL_ACRES': [.5, .5, .75, .1, 1],\n",
    "    'foo': ['bar', 'baz', 'bee', 'boo', 'baa']\n",
    "})\n",
    "all_fields = list(dup_parcels_df.columns)"
   ]
  },
  {
   "cell_type": "code",
   "execution_count": 5,
   "id": "1b73afa6",
   "metadata": {
    "hidden": true
   },
   "outputs": [],
   "source": [
    "grouped = dup_parcels_df.groupby('PARCEL_ID')"
   ]
  },
  {
   "cell_type": "code",
   "execution_count": 10,
   "id": "a0962747",
   "metadata": {
    "hidden": true
   },
   "outputs": [],
   "source": [
    "group1 = grouped[all_fields].get_group('1')\n",
    "group2 = grouped[all_fields].get_group('2')\n",
    "group3 = grouped[all_fields].get_group('3')"
   ]
  },
  {
   "cell_type": "code",
   "execution_count": 12,
   "id": "e9ed066d",
   "metadata": {
    "hidden": true
   },
   "outputs": [
    {
     "data": {
      "text/plain": [
       "0    1\n",
       "1    1\n",
       "Name: PARCEL_ID, dtype: object"
      ]
     },
     "execution_count": 12,
     "metadata": {},
     "output_type": "execute_result"
    }
   ],
   "source": [
    "grouped['PARCEL_ID'].get_group('1')"
   ]
  },
  {
   "cell_type": "code",
   "execution_count": 42,
   "id": "3d25a92f",
   "metadata": {
    "hidden": true
   },
   "outputs": [
    {
     "data": {
      "text/plain": [
       "True"
      ]
     },
     "execution_count": 42,
     "metadata": {},
     "output_type": "execute_result"
    }
   ],
   "source": [
    "group1.duplicated(subset=['PARCEL_ACRES', 'TOTAL_MKT_VALUE'], keep=False).all()"
   ]
  },
  {
   "cell_type": "code",
   "execution_count": 43,
   "id": "894ca651",
   "metadata": {
    "hidden": true
   },
   "outputs": [
    {
     "data": {
      "text/plain": [
       "False"
      ]
     },
     "execution_count": 43,
     "metadata": {},
     "output_type": "execute_result"
    }
   ],
   "source": [
    "group2.duplicated(subset=['PARCEL_ACRES', 'TOTAL_MKT_VALUE'], keep=False).all()"
   ]
  },
  {
   "cell_type": "code",
   "execution_count": 64,
   "id": "6c31a3a5",
   "metadata": {
    "hidden": true
   },
   "outputs": [],
   "source": [
    "def _smart_groupby_sum(group_df, sum_fields, test_fields):\n",
    "    if not group_df.duplicated(subset=test_fields, keep=False).all():  #: if all the rows have identical values in test_fields\n",
    "        return group_df.iloc[0][sum_fields]\n",
    "    return group_df[sum_fields].sum()"
   ]
  },
  {
   "cell_type": "code",
   "execution_count": 69,
   "id": "2c5fccb5",
   "metadata": {
    "hidden": true
   },
   "outputs": [
    {
     "data": {
      "text/html": [
       "<div>\n",
       "<style scoped>\n",
       "    .dataframe tbody tr th:only-of-type {\n",
       "        vertical-align: middle;\n",
       "    }\n",
       "\n",
       "    .dataframe tbody tr th {\n",
       "        vertical-align: top;\n",
       "    }\n",
       "\n",
       "    .dataframe thead th {\n",
       "        text-align: right;\n",
       "    }\n",
       "</style>\n",
       "<table border=\"1\" class=\"dataframe\">\n",
       "  <thead>\n",
       "    <tr style=\"text-align: right;\">\n",
       "      <th></th>\n",
       "      <th>BLDG_SQFT</th>\n",
       "      <th>TOTAL_MKT_VALUE</th>\n",
       "      <th>LAND_MKT_VALUE</th>\n",
       "    </tr>\n",
       "    <tr>\n",
       "      <th>PARCEL_ID</th>\n",
       "      <th></th>\n",
       "      <th></th>\n",
       "      <th></th>\n",
       "    </tr>\n",
       "  </thead>\n",
       "  <tbody>\n",
       "    <tr>\n",
       "      <th>1</th>\n",
       "      <td>200.0</td>\n",
       "      <td>100.0</td>\n",
       "      <td>20.0</td>\n",
       "    </tr>\n",
       "    <tr>\n",
       "      <th>2</th>\n",
       "      <td>150.0</td>\n",
       "      <td>25.0</td>\n",
       "      <td>5.0</td>\n",
       "    </tr>\n",
       "    <tr>\n",
       "      <th>3</th>\n",
       "      <td>200.0</td>\n",
       "      <td>40.0</td>\n",
       "      <td>15.0</td>\n",
       "    </tr>\n",
       "  </tbody>\n",
       "</table>\n",
       "</div>"
      ],
      "text/plain": [
       "           BLDG_SQFT  TOTAL_MKT_VALUE  LAND_MKT_VALUE\n",
       "PARCEL_ID                                            \n",
       "1              200.0            100.0            20.0\n",
       "2              150.0             25.0             5.0\n",
       "3              200.0             40.0            15.0"
      ]
     },
     "execution_count": 69,
     "metadata": {},
     "output_type": "execute_result"
    }
   ],
   "source": [
    "sum_fields=['BLDG_SQFT', 'TOTAL_MKT_VALUE', 'LAND_MKT_VALUE']\n",
    "test_fields=['BLDG_SQFT', 'TOTAL_MKT_VALUE', 'LAND_MKT_VALUE', 'PARCEL_ACRES']\n",
    "summed_df = grouped.agg(_smart_groupby_sum, sum_fields=sum_fields, test_fields=test_fields)[sum_fields]\n",
    "summed_df"
   ]
  },
  {
   "cell_type": "code",
   "execution_count": 70,
   "id": "656609b3",
   "metadata": {
    "hidden": true
   },
   "outputs": [],
   "source": [
    "foo_df = pd.DataFrame({\n",
    "    'PARCEL_ID': ['8'],\n",
    "    'BLDG_SQFT': [32],\n",
    "    'TOTAL_MKT_VALUE': [42],\n",
    "    'LAND_MKT_VALUE': [16],\n",
    "    'FOO': ['bar'],\n",
    "})"
   ]
  },
  {
   "cell_type": "code",
   "execution_count": 74,
   "id": "3d3cd428",
   "metadata": {
    "hidden": true
   },
   "outputs": [
    {
     "data": {
      "text/html": [
       "<div>\n",
       "<style scoped>\n",
       "    .dataframe tbody tr th:only-of-type {\n",
       "        vertical-align: middle;\n",
       "    }\n",
       "\n",
       "    .dataframe tbody tr th {\n",
       "        vertical-align: top;\n",
       "    }\n",
       "\n",
       "    .dataframe thead th {\n",
       "        text-align: right;\n",
       "    }\n",
       "</style>\n",
       "<table border=\"1\" class=\"dataframe\">\n",
       "  <thead>\n",
       "    <tr style=\"text-align: right;\">\n",
       "      <th></th>\n",
       "      <th>BLDG_SQFT</th>\n",
       "      <th>TOTAL_MKT_VALUE</th>\n",
       "      <th>LAND_MKT_VALUE</th>\n",
       "    </tr>\n",
       "  </thead>\n",
       "  <tbody>\n",
       "    <tr>\n",
       "      <th>1</th>\n",
       "      <td>200.0</td>\n",
       "      <td>100.0</td>\n",
       "      <td>20.0</td>\n",
       "    </tr>\n",
       "    <tr>\n",
       "      <th>2</th>\n",
       "      <td>150.0</td>\n",
       "      <td>25.0</td>\n",
       "      <td>5.0</td>\n",
       "    </tr>\n",
       "    <tr>\n",
       "      <th>3</th>\n",
       "      <td>200.0</td>\n",
       "      <td>40.0</td>\n",
       "      <td>15.0</td>\n",
       "    </tr>\n",
       "    <tr>\n",
       "      <th>0</th>\n",
       "      <td>32.0</td>\n",
       "      <td>42.0</td>\n",
       "      <td>16.0</td>\n",
       "    </tr>\n",
       "  </tbody>\n",
       "</table>\n",
       "</div>"
      ],
      "text/plain": [
       "   BLDG_SQFT  TOTAL_MKT_VALUE  LAND_MKT_VALUE\n",
       "1      200.0            100.0            20.0\n",
       "2      150.0             25.0             5.0\n",
       "3      200.0             40.0            15.0\n",
       "0       32.0             42.0            16.0"
      ]
     },
     "execution_count": 74,
     "metadata": {},
     "output_type": "execute_result"
    }
   ],
   "source": [
    "pd.concat([summed_df, foo_df], join='inner')"
   ]
  },
  {
   "cell_type": "code",
   "execution_count": 8,
   "id": "1dadfcd0",
   "metadata": {
    "hidden": true,
    "scrolled": true
   },
   "outputs": [],
   "source": [
    "dup_parcels_df = pd.DataFrame({\n",
    "    'PARCEL_ID': ['1', '1', '2', '2', '3'],\n",
    "    'BLDG_SQFT': [100, 100, 150, 0, 200],\n",
    "    'TOTAL_MKT_VALUE':[50, 50, 25, 0, 40],\n",
    "    'LAND_MKT_VALUE': [10, 10, 5, 0, 15],\n",
    "    'PARCEL_ACRES': [.5, .5, .75, .1, 1],\n",
    "    'foo': ['bar', 'baz', 'bee', 'boo', 'baa']\n",
    "})\n",
    "first_row_series =dup_parcels_df.iloc[0, dup_parcels_df.columns.get_indexer(['PARCEL_ID', 'BLDG_SQFT'])]\n"
   ]
  },
  {
   "cell_type": "code",
   "execution_count": 9,
   "id": "c8c6ae41",
   "metadata": {
    "hidden": true
   },
   "outputs": [
    {
     "data": {
      "text/plain": [
       "Index(['PARCEL_ID', 'BLDG_SQFT'], dtype='object')"
      ]
     },
     "execution_count": 9,
     "metadata": {},
     "output_type": "execute_result"
    }
   ],
   "source": [
    "first_row_series.index"
   ]
  },
  {
   "cell_type": "markdown",
   "id": "f8f00bff",
   "metadata": {
    "heading_collapsed": true
   },
   "source": [
    "# Dupe testing"
   ]
  },
  {
   "cell_type": "code",
   "execution_count": 2,
   "id": "9e78b116",
   "metadata": {
    "hidden": true
   },
   "outputs": [],
   "source": [
    "from housing_unit_inventory import dissolve"
   ]
  },
  {
   "cell_type": "code",
   "execution_count": 3,
   "id": "20d7c25f",
   "metadata": {
    "hidden": true
   },
   "outputs": [],
   "source": [
    "dupes_fc = \"C:\\\\gis\\\\Projects\\\\HousingInventory\\\\HousingInventory.gdb\\\\davis_test_parcels_dupes\"\n",
    "dupes_df = pd.DataFrame.spatial.from_featureclass(dupes_fc)"
   ]
  },
  {
   "cell_type": "code",
   "execution_count": 4,
   "id": "7af01d50",
   "metadata": {
    "hidden": true
   },
   "outputs": [],
   "source": [
    "fields_map_list =[\n",
    "    ['PARCEL_ID', 'COUNT'],\n",
    "    ['TAXEXEMPT_TYPE', 'FIRST'],\n",
    "    ['TOTAL_MKT_VALUE', 'SUM'],\n",
    "    ['LAND_MKT_VALUE', 'SUM'],\n",
    "    ['PARCEL_ACRES', 'SUM'],\n",
    "    ['PROP_CLASS', 'FIRST'],\n",
    "    ['PRIMARY_RES', 'FIRST'],\n",
    "    ['HOUSE_CNT', 'MAX'],\n",
    "    ['BLDG_SQFT', 'SUM'],\n",
    "    ['FLOORS_CNT', 'MAX'],\n",
    "    ['BUILT_YR', 'FIRST'],\n",
    "    ['EFFBUILT_YR', 'FIRST'],\n",
    "]\n",
    "fields_map_dict = {field[0].casefold(): field[1].casefold() for field in fields_map_list}"
   ]
  },
  {
   "cell_type": "code",
   "execution_count": 5,
   "id": "42cb38f6",
   "metadata": {
    "hidden": true,
    "scrolled": true
   },
   "outputs": [
    {
     "data": {
      "text/plain": [
       "{'parcel_id': 'count',\n",
       " 'taxexempt_type': 'first',\n",
       " 'total_mkt_value': 'sum',\n",
       " 'land_mkt_value': 'sum',\n",
       " 'parcel_acres': 'sum',\n",
       " 'prop_class': 'first',\n",
       " 'primary_res': 'first',\n",
       " 'house_cnt': 'max',\n",
       " 'bldg_sqft': 'sum',\n",
       " 'floors_cnt': 'max',\n",
       " 'built_yr': 'first',\n",
       " 'effbuilt_yr': 'first'}"
      ]
     },
     "execution_count": 5,
     "metadata": {},
     "output_type": "execute_result"
    }
   ],
   "source": [
    "fields_map_dict"
   ]
  },
  {
   "cell_type": "code",
   "execution_count": 6,
   "id": "abb0de61",
   "metadata": {
    "hidden": true
   },
   "outputs": [
    {
     "data": {
      "text/html": [
       "<div class='gpresult'><h2>Messages</h2><div id='messages' data-messages='[\"Start Time: Wednesday, March 30, 2022 5:11:05 PM\",\"Sorting Attributes...\",\"Dissolving...\",\"Succeeded at Wednesday, March 30, 2022 5:11:05 PM (Elapsed Time: 0.31 seconds)\"]' data-show='true'><div id = 'default' /></div></div>"
      ],
      "text/plain": [
       "<Result 'memory\\\\dissolved'>"
      ]
     },
     "execution_count": 6,
     "metadata": {},
     "output_type": "execute_result"
    }
   ],
   "source": [
    "arcpy.management.Dissolve(dupes_fc, 'memory/dissolved', 'PARCEL_ID', fields_map_list, 'MULTI_PART', 'DISSOLVE_LINES')"
   ]
  },
  {
   "cell_type": "code",
   "execution_count": 7,
   "id": "546ab5e6",
   "metadata": {
    "hidden": true
   },
   "outputs": [],
   "source": [
    "arcpy_df = pd.DataFrame.spatial.from_featureclass('memory/dissolved')"
   ]
  },
  {
   "cell_type": "code",
   "execution_count": 8,
   "id": "dee0f02f",
   "metadata": {
    "hidden": true
   },
   "outputs": [
    {
     "data": {
      "text/html": [
       "<div>\n",
       "<style scoped>\n",
       "    .dataframe tbody tr th:only-of-type {\n",
       "        vertical-align: middle;\n",
       "    }\n",
       "\n",
       "    .dataframe tbody tr th {\n",
       "        vertical-align: top;\n",
       "    }\n",
       "\n",
       "    .dataframe thead th {\n",
       "        text-align: right;\n",
       "    }\n",
       "</style>\n",
       "<table border=\"1\" class=\"dataframe\">\n",
       "  <thead>\n",
       "    <tr style=\"text-align: right;\">\n",
       "      <th></th>\n",
       "      <th>OBJECTID</th>\n",
       "      <th>parcel_id</th>\n",
       "      <th>COUNT_parcel_id</th>\n",
       "      <th>FIRST_taxexempt_type</th>\n",
       "      <th>SUM_total_mkt_value</th>\n",
       "      <th>SUM_land_mkt_value</th>\n",
       "      <th>SUM_parcel_acres</th>\n",
       "      <th>FIRST_prop_class</th>\n",
       "      <th>FIRST_primary_res</th>\n",
       "      <th>MAX_house_cnt</th>\n",
       "      <th>SUM_bldg_sqft</th>\n",
       "      <th>MAX_floors_cnt</th>\n",
       "      <th>FIRST_built_yr</th>\n",
       "      <th>FIRST_effbuilt_yr</th>\n",
       "      <th>SHAPE</th>\n",
       "    </tr>\n",
       "  </thead>\n",
       "  <tbody>\n",
       "    <tr>\n",
       "      <th>0</th>\n",
       "      <td>1</td>\n",
       "      <td>None</td>\n",
       "      <td>NaN</td>\n",
       "      <td>None</td>\n",
       "      <td>NaN</td>\n",
       "      <td>NaN</td>\n",
       "      <td>NaN</td>\n",
       "      <td></td>\n",
       "      <td>None</td>\n",
       "      <td>None</td>\n",
       "      <td>0.0</td>\n",
       "      <td>0.0</td>\n",
       "      <td>NaN</td>\n",
       "      <td>None</td>\n",
       "      <td>{\"rings\": [[[419584.0273000002, 4546558.5713],...</td>\n",
       "    </tr>\n",
       "    <tr>\n",
       "      <th>1</th>\n",
       "      <td>2</td>\n",
       "      <td>100110017</td>\n",
       "      <td>2.0</td>\n",
       "      <td>NO</td>\n",
       "      <td>518000.0</td>\n",
       "      <td>254386.0</td>\n",
       "      <td>0.420</td>\n",
       "      <td>Residential</td>\n",
       "      <td>Y</td>\n",
       "      <td>1</td>\n",
       "      <td>1976.0</td>\n",
       "      <td>1.0</td>\n",
       "      <td>1978.0</td>\n",
       "      <td>None</td>\n",
       "      <td>{\"rings\": [[[420719.6895000003, 4547797.329500...</td>\n",
       "    </tr>\n",
       "    <tr>\n",
       "      <th>2</th>\n",
       "      <td>3</td>\n",
       "      <td>100120057</td>\n",
       "      <td>2.0</td>\n",
       "      <td>COMMON</td>\n",
       "      <td>4850.0</td>\n",
       "      <td>4850.0</td>\n",
       "      <td>9.700</td>\n",
       "      <td>Vacant Land</td>\n",
       "      <td>N</td>\n",
       "      <td>None</td>\n",
       "      <td>0.0</td>\n",
       "      <td>0.0</td>\n",
       "      <td>NaN</td>\n",
       "      <td>None</td>\n",
       "      <td>{\"rings\": [[[420857.18319999985, 4547653.16180...</td>\n",
       "    </tr>\n",
       "    <tr>\n",
       "      <th>3</th>\n",
       "      <td>4</td>\n",
       "      <td>100130023</td>\n",
       "      <td>2.0</td>\n",
       "      <td>NO</td>\n",
       "      <td>516000.0</td>\n",
       "      <td>297584.0</td>\n",
       "      <td>0.636</td>\n",
       "      <td>Residential</td>\n",
       "      <td>Y</td>\n",
       "      <td>1</td>\n",
       "      <td>2096.0</td>\n",
       "      <td>1.0</td>\n",
       "      <td>1988.0</td>\n",
       "      <td>None</td>\n",
       "      <td>{\"rings\": [[[420857.7564000003, 4547803.773700...</td>\n",
       "    </tr>\n",
       "    <tr>\n",
       "      <th>4</th>\n",
       "      <td>5</td>\n",
       "      <td>100130026</td>\n",
       "      <td>2.0</td>\n",
       "      <td>NO</td>\n",
       "      <td>770000.0</td>\n",
       "      <td>319574.0</td>\n",
       "      <td>0.768</td>\n",
       "      <td>Residential</td>\n",
       "      <td>Y</td>\n",
       "      <td>3</td>\n",
       "      <td>7708.0</td>\n",
       "      <td>2.0</td>\n",
       "      <td>1981.0</td>\n",
       "      <td>None</td>\n",
       "      <td>{\"rings\": [[[420791.6612, 4547867.614800001], ...</td>\n",
       "    </tr>\n",
       "    <tr>\n",
       "      <th>...</th>\n",
       "      <td>...</td>\n",
       "      <td>...</td>\n",
       "      <td>...</td>\n",
       "      <td>...</td>\n",
       "      <td>...</td>\n",
       "      <td>...</td>\n",
       "      <td>...</td>\n",
       "      <td>...</td>\n",
       "      <td>...</td>\n",
       "      <td>...</td>\n",
       "      <td>...</td>\n",
       "      <td>...</td>\n",
       "      <td>...</td>\n",
       "      <td>...</td>\n",
       "      <td>...</td>\n",
       "    </tr>\n",
       "    <tr>\n",
       "      <th>85</th>\n",
       "      <td>86</td>\n",
       "      <td>116940015</td>\n",
       "      <td>2.0</td>\n",
       "      <td>NO</td>\n",
       "      <td>776000.0</td>\n",
       "      <td>139000.0</td>\n",
       "      <td>0.254</td>\n",
       "      <td>Residential</td>\n",
       "      <td>Y</td>\n",
       "      <td>1</td>\n",
       "      <td>3542.0</td>\n",
       "      <td>1.0</td>\n",
       "      <td>2013.0</td>\n",
       "      <td>None</td>\n",
       "      <td>{\"rings\": [[[420441.2006999999, 4546549.313100...</td>\n",
       "    </tr>\n",
       "    <tr>\n",
       "      <th>86</th>\n",
       "      <td>87</td>\n",
       "      <td>116940016</td>\n",
       "      <td>2.0</td>\n",
       "      <td>NO</td>\n",
       "      <td>690000.0</td>\n",
       "      <td>139000.0</td>\n",
       "      <td>0.128</td>\n",
       "      <td>Residential</td>\n",
       "      <td>Y</td>\n",
       "      <td>1</td>\n",
       "      <td>3276.0</td>\n",
       "      <td>1.0</td>\n",
       "      <td>2014.0</td>\n",
       "      <td>None</td>\n",
       "      <td>{\"rings\": [[[420409.4713000003, 4546565.583799...</td>\n",
       "    </tr>\n",
       "    <tr>\n",
       "      <th>87</th>\n",
       "      <td>88</td>\n",
       "      <td>116940017</td>\n",
       "      <td>2.0</td>\n",
       "      <td>NO</td>\n",
       "      <td>722000.0</td>\n",
       "      <td>139000.0</td>\n",
       "      <td>0.178</td>\n",
       "      <td>Residential</td>\n",
       "      <td>Y</td>\n",
       "      <td>1</td>\n",
       "      <td>3210.0</td>\n",
       "      <td>1.0</td>\n",
       "      <td>2014.0</td>\n",
       "      <td>None</td>\n",
       "      <td>{\"rings\": [[[420418.3342000004, 4546548.870200...</td>\n",
       "    </tr>\n",
       "    <tr>\n",
       "      <th>88</th>\n",
       "      <td>89</td>\n",
       "      <td>116940018</td>\n",
       "      <td>2.0</td>\n",
       "      <td>NO</td>\n",
       "      <td>782000.0</td>\n",
       "      <td>139000.0</td>\n",
       "      <td>0.228</td>\n",
       "      <td>Residential</td>\n",
       "      <td>Y</td>\n",
       "      <td>1</td>\n",
       "      <td>3504.0</td>\n",
       "      <td>1.0</td>\n",
       "      <td>2014.0</td>\n",
       "      <td>None</td>\n",
       "      <td>{\"rings\": [[[420435.6118000001, 4546535.106899...</td>\n",
       "    </tr>\n",
       "    <tr>\n",
       "      <th>89</th>\n",
       "      <td>90</td>\n",
       "      <td>117840026</td>\n",
       "      <td>2.0</td>\n",
       "      <td>NO</td>\n",
       "      <td>1034000.0</td>\n",
       "      <td>323620.0</td>\n",
       "      <td>0.794</td>\n",
       "      <td>Residential</td>\n",
       "      <td>Y</td>\n",
       "      <td>1</td>\n",
       "      <td>5588.0</td>\n",
       "      <td>2.0</td>\n",
       "      <td>2017.0</td>\n",
       "      <td>None</td>\n",
       "      <td>{\"rings\": [[[420862.5700000003, 4547324.430600...</td>\n",
       "    </tr>\n",
       "  </tbody>\n",
       "</table>\n",
       "<p>90 rows × 15 columns</p>\n",
       "</div>"
      ],
      "text/plain": [
       "    OBJECTID  parcel_id  COUNT_parcel_id FIRST_taxexempt_type  \\\n",
       "0          1       None              NaN                 None   \n",
       "1          2  100110017              2.0                   NO   \n",
       "2          3  100120057              2.0               COMMON   \n",
       "3          4  100130023              2.0                   NO   \n",
       "4          5  100130026              2.0                   NO   \n",
       "..       ...        ...              ...                  ...   \n",
       "85        86  116940015              2.0                   NO   \n",
       "86        87  116940016              2.0                   NO   \n",
       "87        88  116940017              2.0                   NO   \n",
       "88        89  116940018              2.0                   NO   \n",
       "89        90  117840026              2.0                   NO   \n",
       "\n",
       "    SUM_total_mkt_value  SUM_land_mkt_value  SUM_parcel_acres  \\\n",
       "0                   NaN                 NaN               NaN   \n",
       "1              518000.0            254386.0             0.420   \n",
       "2                4850.0              4850.0             9.700   \n",
       "3              516000.0            297584.0             0.636   \n",
       "4              770000.0            319574.0             0.768   \n",
       "..                  ...                 ...               ...   \n",
       "85             776000.0            139000.0             0.254   \n",
       "86             690000.0            139000.0             0.128   \n",
       "87             722000.0            139000.0             0.178   \n",
       "88             782000.0            139000.0             0.228   \n",
       "89            1034000.0            323620.0             0.794   \n",
       "\n",
       "   FIRST_prop_class FIRST_primary_res MAX_house_cnt  SUM_bldg_sqft  \\\n",
       "0                                None          None            0.0   \n",
       "1       Residential                 Y             1         1976.0   \n",
       "2       Vacant Land                 N          None            0.0   \n",
       "3       Residential                 Y             1         2096.0   \n",
       "4       Residential                 Y             3         7708.0   \n",
       "..              ...               ...           ...            ...   \n",
       "85      Residential                 Y             1         3542.0   \n",
       "86      Residential                 Y             1         3276.0   \n",
       "87      Residential                 Y             1         3210.0   \n",
       "88      Residential                 Y             1         3504.0   \n",
       "89      Residential                 Y             1         5588.0   \n",
       "\n",
       "    MAX_floors_cnt  FIRST_built_yr FIRST_effbuilt_yr  \\\n",
       "0              0.0             NaN              None   \n",
       "1              1.0          1978.0              None   \n",
       "2              0.0             NaN              None   \n",
       "3              1.0          1988.0              None   \n",
       "4              2.0          1981.0              None   \n",
       "..             ...             ...               ...   \n",
       "85             1.0          2013.0              None   \n",
       "86             1.0          2014.0              None   \n",
       "87             1.0          2014.0              None   \n",
       "88             1.0          2014.0              None   \n",
       "89             2.0          2017.0              None   \n",
       "\n",
       "                                                SHAPE  \n",
       "0   {\"rings\": [[[419584.0273000002, 4546558.5713],...  \n",
       "1   {\"rings\": [[[420719.6895000003, 4547797.329500...  \n",
       "2   {\"rings\": [[[420857.18319999985, 4547653.16180...  \n",
       "3   {\"rings\": [[[420857.7564000003, 4547803.773700...  \n",
       "4   {\"rings\": [[[420791.6612, 4547867.614800001], ...  \n",
       "..                                                ...  \n",
       "85  {\"rings\": [[[420441.2006999999, 4546549.313100...  \n",
       "86  {\"rings\": [[[420409.4713000003, 4546565.583799...  \n",
       "87  {\"rings\": [[[420418.3342000004, 4546548.870200...  \n",
       "88  {\"rings\": [[[420435.6118000001, 4546535.106899...  \n",
       "89  {\"rings\": [[[420862.5700000003, 4547324.430600...  \n",
       "\n",
       "[90 rows x 15 columns]"
      ]
     },
     "execution_count": 8,
     "metadata": {},
     "output_type": "execute_result"
    }
   ],
   "source": [
    "arcpy_df"
   ]
  },
  {
   "cell_type": "code",
   "execution_count": 9,
   "id": "64b9405f",
   "metadata": {
    "hidden": true
   },
   "outputs": [],
   "source": [
    "dupe_test_fields = list(fields_map_dict.keys()) + ['parcel_acres']\n",
    "custom_df = dissolve.dissolve_duplicates_by_dataframe(dupes_df, 'parcel_id', fields_map_dict, dupe_test_fields)"
   ]
  },
  {
   "cell_type": "code",
   "execution_count": 10,
   "id": "cec74576",
   "metadata": {
    "hidden": true
   },
   "outputs": [
    {
     "data": {
      "text/html": [
       "<div>\n",
       "<style scoped>\n",
       "    .dataframe tbody tr th:only-of-type {\n",
       "        vertical-align: middle;\n",
       "    }\n",
       "\n",
       "    .dataframe tbody tr th {\n",
       "        vertical-align: top;\n",
       "    }\n",
       "\n",
       "    .dataframe thead th {\n",
       "        text-align: right;\n",
       "    }\n",
       "</style>\n",
       "<table border=\"1\" class=\"dataframe\">\n",
       "  <thead>\n",
       "    <tr style=\"text-align: right;\">\n",
       "      <th></th>\n",
       "      <th>parcel_id</th>\n",
       "      <th>taxexempt_type</th>\n",
       "      <th>total_mkt_value</th>\n",
       "      <th>land_mkt_value</th>\n",
       "      <th>parcel_acres</th>\n",
       "      <th>prop_class</th>\n",
       "      <th>primary_res</th>\n",
       "      <th>house_cnt</th>\n",
       "      <th>bldg_sqft</th>\n",
       "      <th>floors_cnt</th>\n",
       "      <th>built_yr</th>\n",
       "      <th>effbuilt_yr</th>\n",
       "      <th>SHAPE</th>\n",
       "    </tr>\n",
       "  </thead>\n",
       "  <tbody>\n",
       "    <tr>\n",
       "      <th>0</th>\n",
       "      <td>100110017</td>\n",
       "      <td>NO</td>\n",
       "      <td>259000.0</td>\n",
       "      <td>127193.0</td>\n",
       "      <td>0.210</td>\n",
       "      <td>Residential</td>\n",
       "      <td>Y</td>\n",
       "      <td>1</td>\n",
       "      <td>988.0</td>\n",
       "      <td>1.0</td>\n",
       "      <td>1978.0</td>\n",
       "      <td>None</td>\n",
       "      <td>{'rings': [[[420719.6895000003, 4547797.329500...</td>\n",
       "    </tr>\n",
       "    <tr>\n",
       "      <th>1</th>\n",
       "      <td>100120057</td>\n",
       "      <td>COMMON</td>\n",
       "      <td>2425.0</td>\n",
       "      <td>2425.0</td>\n",
       "      <td>4.850</td>\n",
       "      <td>Vacant Land</td>\n",
       "      <td>N</td>\n",
       "      <td>NaN</td>\n",
       "      <td>0.0</td>\n",
       "      <td>0.0</td>\n",
       "      <td>NaN</td>\n",
       "      <td>None</td>\n",
       "      <td>{'rings': [[[420857.18319999985, 4547653.16180...</td>\n",
       "    </tr>\n",
       "    <tr>\n",
       "      <th>2</th>\n",
       "      <td>100130023</td>\n",
       "      <td>NO</td>\n",
       "      <td>258000.0</td>\n",
       "      <td>148792.0</td>\n",
       "      <td>0.318</td>\n",
       "      <td>Residential</td>\n",
       "      <td>Y</td>\n",
       "      <td>1</td>\n",
       "      <td>1048.0</td>\n",
       "      <td>1.0</td>\n",
       "      <td>1988.0</td>\n",
       "      <td>None</td>\n",
       "      <td>{'rings': [[[420857.7564000003, 4547803.773700...</td>\n",
       "    </tr>\n",
       "    <tr>\n",
       "      <th>3</th>\n",
       "      <td>100130026</td>\n",
       "      <td>NO</td>\n",
       "      <td>385000.0</td>\n",
       "      <td>159787.0</td>\n",
       "      <td>0.384</td>\n",
       "      <td>Residential</td>\n",
       "      <td>Y</td>\n",
       "      <td>3</td>\n",
       "      <td>3854.0</td>\n",
       "      <td>2.0</td>\n",
       "      <td>1981.0</td>\n",
       "      <td>None</td>\n",
       "      <td>{'rings': [[[420791.6612, 4547867.614800001], ...</td>\n",
       "    </tr>\n",
       "    <tr>\n",
       "      <th>4</th>\n",
       "      <td>100260028</td>\n",
       "      <td>NO</td>\n",
       "      <td>435000.0</td>\n",
       "      <td>151118.0</td>\n",
       "      <td>1.120</td>\n",
       "      <td>Residential</td>\n",
       "      <td>Y</td>\n",
       "      <td>2</td>\n",
       "      <td>3812.0</td>\n",
       "      <td>2.0</td>\n",
       "      <td>1977.0</td>\n",
       "      <td>None</td>\n",
       "      <td>{'rings': [[[419551.4678999996, 4547918.3397],...</td>\n",
       "    </tr>\n",
       "    <tr>\n",
       "      <th>...</th>\n",
       "      <td>...</td>\n",
       "      <td>...</td>\n",
       "      <td>...</td>\n",
       "      <td>...</td>\n",
       "      <td>...</td>\n",
       "      <td>...</td>\n",
       "      <td>...</td>\n",
       "      <td>...</td>\n",
       "      <td>...</td>\n",
       "      <td>...</td>\n",
       "      <td>...</td>\n",
       "      <td>...</td>\n",
       "      <td>...</td>\n",
       "    </tr>\n",
       "    <tr>\n",
       "      <th>84</th>\n",
       "      <td>116940015</td>\n",
       "      <td>NO</td>\n",
       "      <td>388000.0</td>\n",
       "      <td>69500.0</td>\n",
       "      <td>0.127</td>\n",
       "      <td>Residential</td>\n",
       "      <td>Y</td>\n",
       "      <td>1</td>\n",
       "      <td>1771.0</td>\n",
       "      <td>1.0</td>\n",
       "      <td>2013.0</td>\n",
       "      <td>None</td>\n",
       "      <td>{'rings': [[[420441.2006999999, 4546549.313100...</td>\n",
       "    </tr>\n",
       "    <tr>\n",
       "      <th>85</th>\n",
       "      <td>116940016</td>\n",
       "      <td>NO</td>\n",
       "      <td>345000.0</td>\n",
       "      <td>69500.0</td>\n",
       "      <td>0.064</td>\n",
       "      <td>Residential</td>\n",
       "      <td>Y</td>\n",
       "      <td>1</td>\n",
       "      <td>1638.0</td>\n",
       "      <td>1.0</td>\n",
       "      <td>2014.0</td>\n",
       "      <td>None</td>\n",
       "      <td>{'rings': [[[420409.4713000003, 4546565.583799...</td>\n",
       "    </tr>\n",
       "    <tr>\n",
       "      <th>86</th>\n",
       "      <td>116940017</td>\n",
       "      <td>NO</td>\n",
       "      <td>361000.0</td>\n",
       "      <td>69500.0</td>\n",
       "      <td>0.089</td>\n",
       "      <td>Residential</td>\n",
       "      <td>Y</td>\n",
       "      <td>1</td>\n",
       "      <td>1605.0</td>\n",
       "      <td>1.0</td>\n",
       "      <td>2014.0</td>\n",
       "      <td>None</td>\n",
       "      <td>{'rings': [[[420418.3342000004, 4546548.870200...</td>\n",
       "    </tr>\n",
       "    <tr>\n",
       "      <th>87</th>\n",
       "      <td>116940018</td>\n",
       "      <td>NO</td>\n",
       "      <td>391000.0</td>\n",
       "      <td>69500.0</td>\n",
       "      <td>0.114</td>\n",
       "      <td>Residential</td>\n",
       "      <td>Y</td>\n",
       "      <td>1</td>\n",
       "      <td>1752.0</td>\n",
       "      <td>1.0</td>\n",
       "      <td>2014.0</td>\n",
       "      <td>None</td>\n",
       "      <td>{'rings': [[[420435.6118000001, 4546535.106899...</td>\n",
       "    </tr>\n",
       "    <tr>\n",
       "      <th>88</th>\n",
       "      <td>117840026</td>\n",
       "      <td>NO</td>\n",
       "      <td>517000.0</td>\n",
       "      <td>161810.0</td>\n",
       "      <td>0.397</td>\n",
       "      <td>Residential</td>\n",
       "      <td>Y</td>\n",
       "      <td>1</td>\n",
       "      <td>2794.0</td>\n",
       "      <td>2.0</td>\n",
       "      <td>2017.0</td>\n",
       "      <td>None</td>\n",
       "      <td>{'rings': [[[420862.5700000003, 4547324.430600...</td>\n",
       "    </tr>\n",
       "  </tbody>\n",
       "</table>\n",
       "<p>89 rows × 13 columns</p>\n",
       "</div>"
      ],
      "text/plain": [
       "    parcel_id taxexempt_type  total_mkt_value  land_mkt_value  parcel_acres  \\\n",
       "0   100110017             NO         259000.0        127193.0         0.210   \n",
       "1   100120057         COMMON           2425.0          2425.0         4.850   \n",
       "2   100130023             NO         258000.0        148792.0         0.318   \n",
       "3   100130026             NO         385000.0        159787.0         0.384   \n",
       "4   100260028             NO         435000.0        151118.0         1.120   \n",
       "..        ...            ...              ...             ...           ...   \n",
       "84  116940015             NO         388000.0         69500.0         0.127   \n",
       "85  116940016             NO         345000.0         69500.0         0.064   \n",
       "86  116940017             NO         361000.0         69500.0         0.089   \n",
       "87  116940018             NO         391000.0         69500.0         0.114   \n",
       "88  117840026             NO         517000.0        161810.0         0.397   \n",
       "\n",
       "     prop_class primary_res house_cnt  bldg_sqft  floors_cnt  built_yr  \\\n",
       "0   Residential           Y         1      988.0         1.0    1978.0   \n",
       "1   Vacant Land           N       NaN        0.0         0.0       NaN   \n",
       "2   Residential           Y         1     1048.0         1.0    1988.0   \n",
       "3   Residential           Y         3     3854.0         2.0    1981.0   \n",
       "4   Residential           Y         2     3812.0         2.0    1977.0   \n",
       "..          ...         ...       ...        ...         ...       ...   \n",
       "84  Residential           Y         1     1771.0         1.0    2013.0   \n",
       "85  Residential           Y         1     1638.0         1.0    2014.0   \n",
       "86  Residential           Y         1     1605.0         1.0    2014.0   \n",
       "87  Residential           Y         1     1752.0         1.0    2014.0   \n",
       "88  Residential           Y         1     2794.0         2.0    2017.0   \n",
       "\n",
       "   effbuilt_yr                                              SHAPE  \n",
       "0         None  {'rings': [[[420719.6895000003, 4547797.329500...  \n",
       "1         None  {'rings': [[[420857.18319999985, 4547653.16180...  \n",
       "2         None  {'rings': [[[420857.7564000003, 4547803.773700...  \n",
       "3         None  {'rings': [[[420791.6612, 4547867.614800001], ...  \n",
       "4         None  {'rings': [[[419551.4678999996, 4547918.3397],...  \n",
       "..         ...                                                ...  \n",
       "84        None  {'rings': [[[420441.2006999999, 4546549.313100...  \n",
       "85        None  {'rings': [[[420409.4713000003, 4546565.583799...  \n",
       "86        None  {'rings': [[[420418.3342000004, 4546548.870200...  \n",
       "87        None  {'rings': [[[420435.6118000001, 4546535.106899...  \n",
       "88        None  {'rings': [[[420862.5700000003, 4547324.430600...  \n",
       "\n",
       "[89 rows x 13 columns]"
      ]
     },
     "execution_count": 10,
     "metadata": {},
     "output_type": "execute_result"
    }
   ],
   "source": [
    "custom_df"
   ]
  },
  {
   "cell_type": "code",
   "execution_count": 11,
   "id": "e1a2fc48",
   "metadata": {
    "hidden": true
   },
   "outputs": [
    {
     "data": {
      "text/plain": [
       "Index(['parcel_id', 'taxexempt_type', 'total_mkt_value', 'land_mkt_value',\n",
       "       'parcel_acres', 'prop_class', 'primary_res', 'house_cnt', 'bldg_sqft',\n",
       "       'floors_cnt', 'built_yr', 'effbuilt_yr', 'SHAPE'],\n",
       "      dtype='object')"
      ]
     },
     "execution_count": 11,
     "metadata": {},
     "output_type": "execute_result"
    }
   ],
   "source": [
    "custom_df.columns"
   ]
  },
  {
   "cell_type": "code",
   "execution_count": 12,
   "id": "3f903efe",
   "metadata": {
    "hidden": true
   },
   "outputs": [
    {
     "data": {
      "text/html": [
       "<div>\n",
       "<style scoped>\n",
       "    .dataframe tbody tr th:only-of-type {\n",
       "        vertical-align: middle;\n",
       "    }\n",
       "\n",
       "    .dataframe tbody tr th {\n",
       "        vertical-align: top;\n",
       "    }\n",
       "\n",
       "    .dataframe thead th {\n",
       "        text-align: right;\n",
       "    }\n",
       "</style>\n",
       "<table border=\"1\" class=\"dataframe\">\n",
       "  <thead>\n",
       "    <tr style=\"text-align: right;\">\n",
       "      <th></th>\n",
       "      <th>parcel_id</th>\n",
       "      <th>taxexempt_type</th>\n",
       "      <th>total_mkt_value</th>\n",
       "      <th>land_mkt_value</th>\n",
       "      <th>parcel_acres</th>\n",
       "      <th>prop_class</th>\n",
       "      <th>primary_res</th>\n",
       "      <th>house_cnt</th>\n",
       "      <th>bldg_sqft</th>\n",
       "      <th>floors_cnt</th>\n",
       "      <th>built_yr</th>\n",
       "      <th>effbuilt_yr</th>\n",
       "    </tr>\n",
       "  </thead>\n",
       "  <tbody>\n",
       "    <tr>\n",
       "      <th>0</th>\n",
       "      <td>100110017</td>\n",
       "      <td>NO</td>\n",
       "      <td>259000.0</td>\n",
       "      <td>127193.0</td>\n",
       "      <td>0.210</td>\n",
       "      <td>Residential</td>\n",
       "      <td>Y</td>\n",
       "      <td>1</td>\n",
       "      <td>988.0</td>\n",
       "      <td>1.0</td>\n",
       "      <td>1978.0</td>\n",
       "      <td>None</td>\n",
       "    </tr>\n",
       "    <tr>\n",
       "      <th>1</th>\n",
       "      <td>100120057</td>\n",
       "      <td>COMMON</td>\n",
       "      <td>2425.0</td>\n",
       "      <td>2425.0</td>\n",
       "      <td>4.850</td>\n",
       "      <td>Vacant Land</td>\n",
       "      <td>N</td>\n",
       "      <td>NaN</td>\n",
       "      <td>0.0</td>\n",
       "      <td>0.0</td>\n",
       "      <td>NaN</td>\n",
       "      <td>None</td>\n",
       "    </tr>\n",
       "    <tr>\n",
       "      <th>2</th>\n",
       "      <td>100130023</td>\n",
       "      <td>NO</td>\n",
       "      <td>258000.0</td>\n",
       "      <td>148792.0</td>\n",
       "      <td>0.318</td>\n",
       "      <td>Residential</td>\n",
       "      <td>Y</td>\n",
       "      <td>1</td>\n",
       "      <td>1048.0</td>\n",
       "      <td>1.0</td>\n",
       "      <td>1988.0</td>\n",
       "      <td>None</td>\n",
       "    </tr>\n",
       "    <tr>\n",
       "      <th>3</th>\n",
       "      <td>100130026</td>\n",
       "      <td>NO</td>\n",
       "      <td>385000.0</td>\n",
       "      <td>159787.0</td>\n",
       "      <td>0.384</td>\n",
       "      <td>Residential</td>\n",
       "      <td>Y</td>\n",
       "      <td>3</td>\n",
       "      <td>3854.0</td>\n",
       "      <td>2.0</td>\n",
       "      <td>1981.0</td>\n",
       "      <td>None</td>\n",
       "    </tr>\n",
       "    <tr>\n",
       "      <th>4</th>\n",
       "      <td>100260028</td>\n",
       "      <td>NO</td>\n",
       "      <td>435000.0</td>\n",
       "      <td>151118.0</td>\n",
       "      <td>1.120</td>\n",
       "      <td>Residential</td>\n",
       "      <td>Y</td>\n",
       "      <td>2</td>\n",
       "      <td>3812.0</td>\n",
       "      <td>2.0</td>\n",
       "      <td>1977.0</td>\n",
       "      <td>None</td>\n",
       "    </tr>\n",
       "    <tr>\n",
       "      <th>...</th>\n",
       "      <td>...</td>\n",
       "      <td>...</td>\n",
       "      <td>...</td>\n",
       "      <td>...</td>\n",
       "      <td>...</td>\n",
       "      <td>...</td>\n",
       "      <td>...</td>\n",
       "      <td>...</td>\n",
       "      <td>...</td>\n",
       "      <td>...</td>\n",
       "      <td>...</td>\n",
       "      <td>...</td>\n",
       "    </tr>\n",
       "    <tr>\n",
       "      <th>84</th>\n",
       "      <td>116940015</td>\n",
       "      <td>NO</td>\n",
       "      <td>388000.0</td>\n",
       "      <td>69500.0</td>\n",
       "      <td>0.127</td>\n",
       "      <td>Residential</td>\n",
       "      <td>Y</td>\n",
       "      <td>1</td>\n",
       "      <td>1771.0</td>\n",
       "      <td>1.0</td>\n",
       "      <td>2013.0</td>\n",
       "      <td>None</td>\n",
       "    </tr>\n",
       "    <tr>\n",
       "      <th>85</th>\n",
       "      <td>116940016</td>\n",
       "      <td>NO</td>\n",
       "      <td>345000.0</td>\n",
       "      <td>69500.0</td>\n",
       "      <td>0.064</td>\n",
       "      <td>Residential</td>\n",
       "      <td>Y</td>\n",
       "      <td>1</td>\n",
       "      <td>1638.0</td>\n",
       "      <td>1.0</td>\n",
       "      <td>2014.0</td>\n",
       "      <td>None</td>\n",
       "    </tr>\n",
       "    <tr>\n",
       "      <th>86</th>\n",
       "      <td>116940017</td>\n",
       "      <td>NO</td>\n",
       "      <td>361000.0</td>\n",
       "      <td>69500.0</td>\n",
       "      <td>0.089</td>\n",
       "      <td>Residential</td>\n",
       "      <td>Y</td>\n",
       "      <td>1</td>\n",
       "      <td>1605.0</td>\n",
       "      <td>1.0</td>\n",
       "      <td>2014.0</td>\n",
       "      <td>None</td>\n",
       "    </tr>\n",
       "    <tr>\n",
       "      <th>87</th>\n",
       "      <td>116940018</td>\n",
       "      <td>NO</td>\n",
       "      <td>391000.0</td>\n",
       "      <td>69500.0</td>\n",
       "      <td>0.114</td>\n",
       "      <td>Residential</td>\n",
       "      <td>Y</td>\n",
       "      <td>1</td>\n",
       "      <td>1752.0</td>\n",
       "      <td>1.0</td>\n",
       "      <td>2014.0</td>\n",
       "      <td>None</td>\n",
       "    </tr>\n",
       "    <tr>\n",
       "      <th>88</th>\n",
       "      <td>117840026</td>\n",
       "      <td>NO</td>\n",
       "      <td>517000.0</td>\n",
       "      <td>161810.0</td>\n",
       "      <td>0.397</td>\n",
       "      <td>Residential</td>\n",
       "      <td>Y</td>\n",
       "      <td>1</td>\n",
       "      <td>2794.0</td>\n",
       "      <td>2.0</td>\n",
       "      <td>2017.0</td>\n",
       "      <td>None</td>\n",
       "    </tr>\n",
       "  </tbody>\n",
       "</table>\n",
       "<p>89 rows × 12 columns</p>\n",
       "</div>"
      ],
      "text/plain": [
       "    parcel_id taxexempt_type  total_mkt_value  land_mkt_value  parcel_acres  \\\n",
       "0   100110017             NO         259000.0        127193.0         0.210   \n",
       "1   100120057         COMMON           2425.0          2425.0         4.850   \n",
       "2   100130023             NO         258000.0        148792.0         0.318   \n",
       "3   100130026             NO         385000.0        159787.0         0.384   \n",
       "4   100260028             NO         435000.0        151118.0         1.120   \n",
       "..        ...            ...              ...             ...           ...   \n",
       "84  116940015             NO         388000.0         69500.0         0.127   \n",
       "85  116940016             NO         345000.0         69500.0         0.064   \n",
       "86  116940017             NO         361000.0         69500.0         0.089   \n",
       "87  116940018             NO         391000.0         69500.0         0.114   \n",
       "88  117840026             NO         517000.0        161810.0         0.397   \n",
       "\n",
       "     prop_class primary_res house_cnt  bldg_sqft  floors_cnt  built_yr  \\\n",
       "0   Residential           Y         1      988.0         1.0    1978.0   \n",
       "1   Vacant Land           N       NaN        0.0         0.0       NaN   \n",
       "2   Residential           Y         1     1048.0         1.0    1988.0   \n",
       "3   Residential           Y         3     3854.0         2.0    1981.0   \n",
       "4   Residential           Y         2     3812.0         2.0    1977.0   \n",
       "..          ...         ...       ...        ...         ...       ...   \n",
       "84  Residential           Y         1     1771.0         1.0    2013.0   \n",
       "85  Residential           Y         1     1638.0         1.0    2014.0   \n",
       "86  Residential           Y         1     1605.0         1.0    2014.0   \n",
       "87  Residential           Y         1     1752.0         1.0    2014.0   \n",
       "88  Residential           Y         1     2794.0         2.0    2017.0   \n",
       "\n",
       "   effbuilt_yr  \n",
       "0         None  \n",
       "1         None  \n",
       "2         None  \n",
       "3         None  \n",
       "4         None  \n",
       "..         ...  \n",
       "84        None  \n",
       "85        None  \n",
       "86        None  \n",
       "87        None  \n",
       "88        None  \n",
       "\n",
       "[89 rows x 12 columns]"
      ]
     },
     "execution_count": 12,
     "metadata": {},
     "output_type": "execute_result"
    }
   ],
   "source": [
    "custom_df[list(fields_map_dict.keys())]"
   ]
  },
  {
   "cell_type": "code",
   "execution_count": 16,
   "id": "b0f14d28",
   "metadata": {
    "hidden": true
   },
   "outputs": [],
   "source": [
    "custom_df['floors_cnt'].round?"
   ]
  },
  {
   "cell_type": "code",
   "execution_count": null,
   "id": "f0015b92",
   "metadata": {
    "hidden": true
   },
   "outputs": [],
   "source": [
    "custom_df['floors_cnt'].round"
   ]
  },
  {
   "cell_type": "code",
   "execution_count": 15,
   "id": "4961bf15",
   "metadata": {
    "hidden": true
   },
   "outputs": [
    {
     "ename": "TypeError",
     "evalue": "round() got an unexpected keyword argument 'ndigits'",
     "output_type": "error",
     "traceback": [
      "\u001b[1;31m---------------------------------------------------------------------------\u001b[0m",
      "\u001b[1;31mTypeError\u001b[0m                                 Traceback (most recent call last)",
      "\u001b[1;32m<ipython-input-15-dedd67de53fb>\u001b[0m in \u001b[0;36m<module>\u001b[1;34m\u001b[0m\n\u001b[1;32m----> 1\u001b[1;33m \u001b[0mcustom_df\u001b[0m\u001b[1;33m[\u001b[0m\u001b[1;34m'floors_cnt'\u001b[0m\u001b[1;33m]\u001b[0m\u001b[1;33m.\u001b[0m\u001b[0mround\u001b[0m\u001b[1;33m(\u001b[0m\u001b[0mndigits\u001b[0m\u001b[1;33m=\u001b[0m\u001b[1;32mNone\u001b[0m\u001b[1;33m)\u001b[0m\u001b[1;33m\u001b[0m\u001b[1;33m\u001b[0m\u001b[0m\n\u001b[0m",
      "\u001b[1;32m~\\Miniconda3\\envs\\housing\\lib\\site-packages\\pandas\\core\\series.py\u001b[0m in \u001b[0;36mround\u001b[1;34m(self, decimals, *args, **kwargs)\u001b[0m\n\u001b[0;32m   2390\u001b[0m         \u001b[0mdtype\u001b[0m\u001b[1;33m:\u001b[0m \u001b[0mfloat64\u001b[0m\u001b[1;33m\u001b[0m\u001b[1;33m\u001b[0m\u001b[0m\n\u001b[0;32m   2391\u001b[0m         \"\"\"\n\u001b[1;32m-> 2392\u001b[1;33m         \u001b[0mnv\u001b[0m\u001b[1;33m.\u001b[0m\u001b[0mvalidate_round\u001b[0m\u001b[1;33m(\u001b[0m\u001b[0margs\u001b[0m\u001b[1;33m,\u001b[0m \u001b[0mkwargs\u001b[0m\u001b[1;33m)\u001b[0m\u001b[1;33m\u001b[0m\u001b[1;33m\u001b[0m\u001b[0m\n\u001b[0m\u001b[0;32m   2393\u001b[0m         \u001b[0mresult\u001b[0m \u001b[1;33m=\u001b[0m \u001b[0mself\u001b[0m\u001b[1;33m.\u001b[0m\u001b[0m_values\u001b[0m\u001b[1;33m.\u001b[0m\u001b[0mround\u001b[0m\u001b[1;33m(\u001b[0m\u001b[0mdecimals\u001b[0m\u001b[1;33m)\u001b[0m\u001b[1;33m\u001b[0m\u001b[1;33m\u001b[0m\u001b[0m\n\u001b[0;32m   2394\u001b[0m         result = self._constructor(result, index=self.index).__finalize__(\n",
      "\u001b[1;32m~\\Miniconda3\\envs\\housing\\lib\\site-packages\\pandas\\compat\\numpy\\function.py\u001b[0m in \u001b[0;36m__call__\u001b[1;34m(self, args, kwargs, fname, max_fname_arg_count, method)\u001b[0m\n\u001b[0;32m     70\u001b[0m             \u001b[1;32melif\u001b[0m \u001b[0mmethod\u001b[0m \u001b[1;33m==\u001b[0m \u001b[1;34m\"both\"\u001b[0m\u001b[1;33m:\u001b[0m\u001b[1;33m\u001b[0m\u001b[1;33m\u001b[0m\u001b[0m\n\u001b[0;32m     71\u001b[0m                 validate_args_and_kwargs(\n\u001b[1;32m---> 72\u001b[1;33m                     \u001b[0mfname\u001b[0m\u001b[1;33m,\u001b[0m \u001b[0margs\u001b[0m\u001b[1;33m,\u001b[0m \u001b[0mkwargs\u001b[0m\u001b[1;33m,\u001b[0m \u001b[0mmax_fname_arg_count\u001b[0m\u001b[1;33m,\u001b[0m \u001b[0mself\u001b[0m\u001b[1;33m.\u001b[0m\u001b[0mdefaults\u001b[0m\u001b[1;33m\u001b[0m\u001b[1;33m\u001b[0m\u001b[0m\n\u001b[0m\u001b[0;32m     73\u001b[0m                 )\n\u001b[0;32m     74\u001b[0m             \u001b[1;32melse\u001b[0m\u001b[1;33m:\u001b[0m\u001b[1;33m\u001b[0m\u001b[1;33m\u001b[0m\u001b[0m\n",
      "\u001b[1;32m~\\Miniconda3\\envs\\housing\\lib\\site-packages\\pandas\\util\\_validators.py\u001b[0m in \u001b[0;36mvalidate_args_and_kwargs\u001b[1;34m(fname, args, kwargs, max_fname_arg_count, compat_args)\u001b[0m\n\u001b[0;32m    208\u001b[0m \u001b[1;33m\u001b[0m\u001b[0m\n\u001b[0;32m    209\u001b[0m     \u001b[0mkwargs\u001b[0m\u001b[1;33m.\u001b[0m\u001b[0mupdate\u001b[0m\u001b[1;33m(\u001b[0m\u001b[0margs_dict\u001b[0m\u001b[1;33m)\u001b[0m\u001b[1;33m\u001b[0m\u001b[1;33m\u001b[0m\u001b[0m\n\u001b[1;32m--> 210\u001b[1;33m     \u001b[0mvalidate_kwargs\u001b[0m\u001b[1;33m(\u001b[0m\u001b[0mfname\u001b[0m\u001b[1;33m,\u001b[0m \u001b[0mkwargs\u001b[0m\u001b[1;33m,\u001b[0m \u001b[0mcompat_args\u001b[0m\u001b[1;33m)\u001b[0m\u001b[1;33m\u001b[0m\u001b[1;33m\u001b[0m\u001b[0m\n\u001b[0m\u001b[0;32m    211\u001b[0m \u001b[1;33m\u001b[0m\u001b[0m\n\u001b[0;32m    212\u001b[0m \u001b[1;33m\u001b[0m\u001b[0m\n",
      "\u001b[1;32m~\\Miniconda3\\envs\\housing\\lib\\site-packages\\pandas\\util\\_validators.py\u001b[0m in \u001b[0;36mvalidate_kwargs\u001b[1;34m(fname, kwargs, compat_args)\u001b[0m\n\u001b[0;32m    151\u001b[0m     \"\"\"\n\u001b[0;32m    152\u001b[0m     \u001b[0mkwds\u001b[0m \u001b[1;33m=\u001b[0m \u001b[0mkwargs\u001b[0m\u001b[1;33m.\u001b[0m\u001b[0mcopy\u001b[0m\u001b[1;33m(\u001b[0m\u001b[1;33m)\u001b[0m\u001b[1;33m\u001b[0m\u001b[1;33m\u001b[0m\u001b[0m\n\u001b[1;32m--> 153\u001b[1;33m     \u001b[0m_check_for_invalid_keys\u001b[0m\u001b[1;33m(\u001b[0m\u001b[0mfname\u001b[0m\u001b[1;33m,\u001b[0m \u001b[0mkwargs\u001b[0m\u001b[1;33m,\u001b[0m \u001b[0mcompat_args\u001b[0m\u001b[1;33m)\u001b[0m\u001b[1;33m\u001b[0m\u001b[1;33m\u001b[0m\u001b[0m\n\u001b[0m\u001b[0;32m    154\u001b[0m     \u001b[0m_check_for_default_values\u001b[0m\u001b[1;33m(\u001b[0m\u001b[0mfname\u001b[0m\u001b[1;33m,\u001b[0m \u001b[0mkwds\u001b[0m\u001b[1;33m,\u001b[0m \u001b[0mcompat_args\u001b[0m\u001b[1;33m)\u001b[0m\u001b[1;33m\u001b[0m\u001b[1;33m\u001b[0m\u001b[0m\n\u001b[0;32m    155\u001b[0m \u001b[1;33m\u001b[0m\u001b[0m\n",
      "\u001b[1;32m~\\Miniconda3\\envs\\housing\\lib\\site-packages\\pandas\\util\\_validators.py\u001b[0m in \u001b[0;36m_check_for_invalid_keys\u001b[1;34m(fname, kwargs, compat_args)\u001b[0m\n\u001b[0;32m    125\u001b[0m     \u001b[1;32mif\u001b[0m \u001b[0mdiff\u001b[0m\u001b[1;33m:\u001b[0m\u001b[1;33m\u001b[0m\u001b[1;33m\u001b[0m\u001b[0m\n\u001b[0;32m    126\u001b[0m         \u001b[0mbad_arg\u001b[0m \u001b[1;33m=\u001b[0m \u001b[0mlist\u001b[0m\u001b[1;33m(\u001b[0m\u001b[0mdiff\u001b[0m\u001b[1;33m)\u001b[0m\u001b[1;33m[\u001b[0m\u001b[1;36m0\u001b[0m\u001b[1;33m]\u001b[0m\u001b[1;33m\u001b[0m\u001b[1;33m\u001b[0m\u001b[0m\n\u001b[1;32m--> 127\u001b[1;33m         \u001b[1;32mraise\u001b[0m \u001b[0mTypeError\u001b[0m\u001b[1;33m(\u001b[0m\u001b[1;34mf\"{fname}() got an unexpected keyword argument '{bad_arg}'\"\u001b[0m\u001b[1;33m)\u001b[0m\u001b[1;33m\u001b[0m\u001b[1;33m\u001b[0m\u001b[0m\n\u001b[0m\u001b[0;32m    128\u001b[0m \u001b[1;33m\u001b[0m\u001b[0m\n\u001b[0;32m    129\u001b[0m \u001b[1;33m\u001b[0m\u001b[0m\n",
      "\u001b[1;31mTypeError\u001b[0m: round() got an unexpected keyword argument 'ndigits'"
     ]
    }
   ],
   "source": [
    "custom_df['floors_cnt'].round(ndigits=None)"
   ]
  },
  {
   "cell_type": "code",
   "execution_count": 2,
   "id": "9ebddd87",
   "metadata": {
    "hidden": true
   },
   "outputs": [],
   "source": [
    "import arcgis"
   ]
  },
  {
   "cell_type": "code",
   "execution_count": 3,
   "id": "77baf45c",
   "metadata": {
    "hidden": true
   },
   "outputs": [],
   "source": [
    "GeoAccessor.to_featureclass?"
   ]
  },
  {
   "cell_type": "code",
   "execution_count": null,
   "id": "8a39b395",
   "metadata": {
    "hidden": true
   },
   "outputs": [],
   "source": []
  },
  {
   "cell_type": "code",
   "execution_count": 11,
   "id": "0aa0ed4a",
   "metadata": {
    "hidden": true
   },
   "outputs": [],
   "source": [
    "dup_parcels_df = pd.DataFrame({\n",
    "    'PARCEL_ID': ['1', '1', '2', '2', '2'],\n",
    "    'BLDG_SQFT': [100, 100, 150, 150, 200],\n",
    "    'TOTAL_MKT_VALUE':[50, 50, 25, 0, 40],\n",
    "    'LAND_MKT_VALUE': [10, 10, 5, 0, 15],\n",
    "    'PARCEL_ACRES': [.5, .5, .75, .1, 1],\n",
    "    'foo': ['bar', 'baz', 'bee', 'boo', 'baa']\n",
    "})\n",
    "groupby = dup_parcels_df.groupby('PARCEL_ID')\n",
    "sq_ft_series = groupby['BLDG_SQFT'].agg(pd.Series.mode).rename('NOTE')"
   ]
  },
  {
   "cell_type": "code",
   "execution_count": 12,
   "id": "ea548767",
   "metadata": {
    "hidden": true
   },
   "outputs": [
    {
     "data": {
      "text/plain": [
       "PARCEL_ID\n",
       "1    100\n",
       "2    150\n",
       "Name: NOTE, dtype: int64"
      ]
     },
     "execution_count": 12,
     "metadata": {},
     "output_type": "execute_result"
    }
   ],
   "source": [
    "sq_ft_series"
   ]
  },
  {
   "cell_type": "code",
   "execution_count": 17,
   "id": "f6c89a0b",
   "metadata": {
    "hidden": true
   },
   "outputs": [],
   "source": [
    "oug_id = pd.DataFrame({\n",
    "    'foo': [1, 2, 3, 4, 5]\n",
    "})\n",
    "\n",
    "oug_id.insert(0, column='id', value=range(990000, 990000+len(oug_id)))"
   ]
  },
  {
   "cell_type": "code",
   "execution_count": 18,
   "id": "66e69e34",
   "metadata": {
    "hidden": true
   },
   "outputs": [
    {
     "data": {
      "text/html": [
       "<div>\n",
       "<style scoped>\n",
       "    .dataframe tbody tr th:only-of-type {\n",
       "        vertical-align: middle;\n",
       "    }\n",
       "\n",
       "    .dataframe tbody tr th {\n",
       "        vertical-align: top;\n",
       "    }\n",
       "\n",
       "    .dataframe thead th {\n",
       "        text-align: right;\n",
       "    }\n",
       "</style>\n",
       "<table border=\"1\" class=\"dataframe\">\n",
       "  <thead>\n",
       "    <tr style=\"text-align: right;\">\n",
       "      <th></th>\n",
       "      <th>id</th>\n",
       "      <th>foo</th>\n",
       "    </tr>\n",
       "  </thead>\n",
       "  <tbody>\n",
       "    <tr>\n",
       "      <th>0</th>\n",
       "      <td>990000</td>\n",
       "      <td>1</td>\n",
       "    </tr>\n",
       "    <tr>\n",
       "      <th>1</th>\n",
       "      <td>990001</td>\n",
       "      <td>2</td>\n",
       "    </tr>\n",
       "    <tr>\n",
       "      <th>2</th>\n",
       "      <td>990002</td>\n",
       "      <td>3</td>\n",
       "    </tr>\n",
       "    <tr>\n",
       "      <th>3</th>\n",
       "      <td>990003</td>\n",
       "      <td>4</td>\n",
       "    </tr>\n",
       "    <tr>\n",
       "      <th>4</th>\n",
       "      <td>990004</td>\n",
       "      <td>5</td>\n",
       "    </tr>\n",
       "  </tbody>\n",
       "</table>\n",
       "</div>"
      ],
      "text/plain": [
       "       id  foo\n",
       "0  990000    1\n",
       "1  990001    2\n",
       "2  990002    3\n",
       "3  990003    4\n",
       "4  990004    5"
      ]
     },
     "execution_count": 18,
     "metadata": {},
     "output_type": "execute_result"
    }
   ],
   "source": [
    "oug_id"
   ]
  },
  {
   "cell_type": "markdown",
   "id": "d11071e0",
   "metadata": {
    "heading_collapsed": true
   },
   "source": [
    "# Series mode testing"
   ]
  },
  {
   "cell_type": "code",
   "execution_count": 2,
   "id": "c81b2967",
   "metadata": {
    "hidden": true
   },
   "outputs": [],
   "source": [
    "test_df = pd.DataFrame({\n",
    "    'group': [1, 1, 2, 3],\n",
    "    'data': ['foo', 'bar', 'bee', 'baz'],\n",
    "})\n"
   ]
  },
  {
   "cell_type": "code",
   "execution_count": 7,
   "id": "38bd2fee",
   "metadata": {
    "hidden": true
   },
   "outputs": [],
   "source": [
    "groupby = test_df.groupby('group')\n",
    "modes = groupby['data'].agg(pd.Series.mode)"
   ]
  },
  {
   "cell_type": "code",
   "execution_count": 6,
   "id": "2481ab5f",
   "metadata": {
    "hidden": true
   },
   "outputs": [
    {
     "data": {
      "text/plain": [
       "0    foo\n",
       "1    bar\n",
       "Name: data, dtype: object"
      ]
     },
     "execution_count": 6,
     "metadata": {},
     "output_type": "execute_result"
    }
   ],
   "source": [
    "groupby['data'].get_group(1)"
   ]
  },
  {
   "cell_type": "code",
   "execution_count": 14,
   "id": "179fd559",
   "metadata": {
    "hidden": true
   },
   "outputs": [
    {
     "data": {
      "text/plain": [
       "array(['bar', 'foo'], dtype=object)"
      ]
     },
     "execution_count": 14,
     "metadata": {},
     "output_type": "execute_result"
    }
   ],
   "source": [
    "modes.iloc[0]"
   ]
  },
  {
   "cell_type": "code",
   "execution_count": 13,
   "id": "d3223e5b",
   "metadata": {
    "hidden": true
   },
   "outputs": [
    {
     "data": {
      "text/plain": [
       "'bee'"
      ]
     },
     "execution_count": 13,
     "metadata": {},
     "output_type": "execute_result"
    }
   ],
   "source": [
    "modes.iloc[1]"
   ]
  },
  {
   "cell_type": "code",
   "execution_count": 15,
   "id": "65225dc0",
   "metadata": {
    "hidden": true
   },
   "outputs": [
    {
     "data": {
      "text/plain": [
       "2"
      ]
     },
     "execution_count": 15,
     "metadata": {},
     "output_type": "execute_result"
    }
   ],
   "source": [
    "len(modes.iloc[0])"
   ]
  },
  {
   "cell_type": "code",
   "execution_count": 16,
   "id": "fcf427f3",
   "metadata": {
    "hidden": true
   },
   "outputs": [],
   "source": [
    "multimodes = modes.iloc[0]"
   ]
  },
  {
   "cell_type": "code",
   "execution_count": 17,
   "id": "0c6148a1",
   "metadata": {
    "hidden": true
   },
   "outputs": [
    {
     "data": {
      "text/plain": [
       "numpy.ndarray"
      ]
     },
     "execution_count": 17,
     "metadata": {},
     "output_type": "execute_result"
    }
   ],
   "source": [
    "type(multimodes)"
   ]
  },
  {
   "cell_type": "code",
   "execution_count": 19,
   "id": "0a188217",
   "metadata": {
    "hidden": true
   },
   "outputs": [
    {
     "data": {
      "text/plain": [
       "2"
      ]
     },
     "execution_count": 19,
     "metadata": {},
     "output_type": "execute_result"
    }
   ],
   "source": [
    "multimodes.size"
   ]
  },
  {
   "cell_type": "code",
   "execution_count": 20,
   "id": "0b9f816b",
   "metadata": {
    "hidden": true
   },
   "outputs": [],
   "source": [
    "single_mode = modes.iloc[1]"
   ]
  },
  {
   "cell_type": "code",
   "execution_count": 21,
   "id": "1f5defb9",
   "metadata": {
    "hidden": true
   },
   "outputs": [
    {
     "data": {
      "text/plain": [
       "'bee'"
      ]
     },
     "execution_count": 21,
     "metadata": {},
     "output_type": "execute_result"
    }
   ],
   "source": [
    "single_mode"
   ]
  },
  {
   "cell_type": "code",
   "execution_count": 22,
   "id": "627568ab",
   "metadata": {
    "hidden": true
   },
   "outputs": [
    {
     "data": {
      "text/plain": [
       "str"
      ]
     },
     "execution_count": 22,
     "metadata": {},
     "output_type": "execute_result"
    }
   ],
   "source": [
    "type(single_mode)"
   ]
  },
  {
   "cell_type": "code",
   "execution_count": 28,
   "id": "133f2822",
   "metadata": {
    "hidden": true
   },
   "outputs": [],
   "source": [
    "test_series = pd.Series([3, 2, 4])"
   ]
  },
  {
   "cell_type": "code",
   "execution_count": 29,
   "id": "df981ffb",
   "metadata": {
    "hidden": true
   },
   "outputs": [
    {
     "data": {
      "text/plain": [
       "3"
      ]
     },
     "execution_count": 29,
     "metadata": {},
     "output_type": "execute_result"
    }
   ],
   "source": [
    "test_series.size"
   ]
  },
  {
   "cell_type": "code",
   "execution_count": 31,
   "id": "ac2f175e",
   "metadata": {
    "hidden": true
   },
   "outputs": [],
   "source": [
    "single = test_series.iloc[0:1]"
   ]
  },
  {
   "cell_type": "code",
   "execution_count": 32,
   "id": "cead30b1",
   "metadata": {
    "hidden": true
   },
   "outputs": [
    {
     "data": {
      "text/plain": [
       "pandas.core.series.Series"
      ]
     },
     "execution_count": 32,
     "metadata": {},
     "output_type": "execute_result"
    }
   ],
   "source": [
    "type(single)"
   ]
  },
  {
   "cell_type": "markdown",
   "id": "b1fb18ca",
   "metadata": {
    "heading_collapsed": true
   },
   "source": [
    "# Unit count 0 and null testing"
   ]
  },
  {
   "cell_type": "code",
   "execution_count": 33,
   "id": "3926fa59",
   "metadata": {
    "hidden": true
   },
   "outputs": [],
   "source": [
    "parcels_df = pd.DataFrame({\n",
    "    'PARCEL_ID': [1, 2],\n",
    "    'SUBTYPE': ['single_family', 'single_family'],\n",
    "    'UNIT_COUNT': [0, np.nan],\n",
    "    'NOTE': ['', ''],\n",
    "    'HOUSE_CNT': [1, 1],\n",
    "})"
   ]
  },
  {
   "cell_type": "code",
   "execution_count": 39,
   "id": "1b6f4aea",
   "metadata": {
    "hidden": true
   },
   "outputs": [
    {
     "data": {
      "text/plain": [
       "0    True\n",
       "1    True\n",
       "Name: UNIT_COUNT, dtype: bool"
      ]
     },
     "execution_count": 39,
     "metadata": {},
     "output_type": "execute_result"
    }
   ],
   "source": [
    "zero_or_null_unit_counts = (parcels_df['UNIT_COUNT'] == 0) | (parcels_df['UNIT_COUNT'].isna())\n",
    "zero_or_null_unit_counts"
   ]
  },
  {
   "cell_type": "code",
   "execution_count": 37,
   "id": "bea3874e",
   "metadata": {
    "hidden": true
   },
   "outputs": [
    {
     "data": {
      "text/plain": [
       "0    False\n",
       "1     True\n",
       "Name: UNIT_COUNT, dtype: bool"
      ]
     },
     "execution_count": 37,
     "metadata": {},
     "output_type": "execute_result"
    }
   ],
   "source": [
    "parcels_df['UNIT_COUNT'].isna()"
   ]
  },
  {
   "cell_type": "code",
   "execution_count": 41,
   "id": "402cc8ad",
   "metadata": {
    "hidden": true
   },
   "outputs": [],
   "source": [
    "parcels_df['PARCEL_ID'] = parcels_df['PARCEL_ID'].astype(str)"
   ]
  },
  {
   "cell_type": "code",
   "execution_count": 43,
   "id": "46e8808a",
   "metadata": {
    "hidden": true
   },
   "outputs": [
    {
     "name": "stdout",
     "output_type": "stream",
     "text": [
      "<class 'pandas.core.frame.DataFrame'>\n",
      "RangeIndex: 2 entries, 0 to 1\n",
      "Data columns (total 5 columns):\n",
      " #   Column      Non-Null Count  Dtype  \n",
      "---  ------      --------------  -----  \n",
      " 0   PARCEL_ID   2 non-null      object \n",
      " 1   SUBTYPE     2 non-null      object \n",
      " 2   UNIT_COUNT  1 non-null      float64\n",
      " 3   NOTE        2 non-null      object \n",
      " 4   HOUSE_CNT   2 non-null      int64  \n",
      "dtypes: float64(1), int64(1), object(3)\n",
      "memory usage: 208.0+ bytes\n"
     ]
    }
   ],
   "source": [
    "parcels_df.info()"
   ]
  },
  {
   "cell_type": "markdown",
   "id": "4eaaa219",
   "metadata": {
    "heading_collapsed": true
   },
   "source": [
    "# list membership testing"
   ]
  },
  {
   "cell_type": "code",
   "execution_count": 6,
   "id": "fc556113",
   "metadata": {
    "hidden": true
   },
   "outputs": [],
   "source": [
    "cols = ['foo', 'bar']\n",
    "cols_set = set(cols)"
   ]
  },
  {
   "cell_type": "code",
   "execution_count": 7,
   "id": "11fbfb7f",
   "metadata": {
    "hidden": true
   },
   "outputs": [],
   "source": [
    "cols_set.update(['SHAPE', 'key'])"
   ]
  },
  {
   "cell_type": "code",
   "execution_count": 8,
   "id": "afeb32b7",
   "metadata": {
    "hidden": true
   },
   "outputs": [
    {
     "data": {
      "text/plain": [
       "{'SHAPE', 'bar', 'foo', 'key'}"
      ]
     },
     "execution_count": 8,
     "metadata": {},
     "output_type": "execute_result"
    }
   ],
   "source": [
    "cols_set"
   ]
  },
  {
   "cell_type": "code",
   "execution_count": 9,
   "id": "7e1cf26b",
   "metadata": {
    "hidden": true
   },
   "outputs": [],
   "source": [
    "cols_set.update(['foo', 'key'])"
   ]
  },
  {
   "cell_type": "code",
   "execution_count": 10,
   "id": "b8f6d40a",
   "metadata": {
    "hidden": true
   },
   "outputs": [
    {
     "data": {
      "text/plain": [
       "{'SHAPE', 'bar', 'foo', 'key'}"
      ]
     },
     "execution_count": 10,
     "metadata": {},
     "output_type": "execute_result"
    }
   ],
   "source": [
    "cols_set"
   ]
  },
  {
   "cell_type": "code",
   "execution_count": 13,
   "id": "09acdd23",
   "metadata": {
    "hidden": true
   },
   "outputs": [],
   "source": [
    "test_df = pd.DataFrame(columns=['foo', 'bar', 'baz'])"
   ]
  },
  {
   "cell_type": "code",
   "execution_count": 14,
   "id": "b3cf13fb",
   "metadata": {
    "hidden": true
   },
   "outputs": [
    {
     "data": {
      "text/html": [
       "<div>\n",
       "<style scoped>\n",
       "    .dataframe tbody tr th:only-of-type {\n",
       "        vertical-align: middle;\n",
       "    }\n",
       "\n",
       "    .dataframe tbody tr th {\n",
       "        vertical-align: top;\n",
       "    }\n",
       "\n",
       "    .dataframe thead th {\n",
       "        text-align: right;\n",
       "    }\n",
       "</style>\n",
       "<table border=\"1\" class=\"dataframe\">\n",
       "  <thead>\n",
       "    <tr style=\"text-align: right;\">\n",
       "      <th></th>\n",
       "      <th>foo</th>\n",
       "      <th>bar</th>\n",
       "      <th>baz</th>\n",
       "    </tr>\n",
       "  </thead>\n",
       "  <tbody>\n",
       "  </tbody>\n",
       "</table>\n",
       "</div>"
      ],
      "text/plain": [
       "Empty DataFrame\n",
       "Columns: [foo, bar, baz]\n",
       "Index: []"
      ]
     },
     "execution_count": 14,
     "metadata": {},
     "output_type": "execute_result"
    }
   ],
   "source": [
    "test_df"
   ]
  },
  {
   "cell_type": "code",
   "execution_count": 16,
   "id": "2ea84157",
   "metadata": {
    "hidden": true
   },
   "outputs": [
    {
     "data": {
      "text/html": [
       "<div>\n",
       "<style scoped>\n",
       "    .dataframe tbody tr th:only-of-type {\n",
       "        vertical-align: middle;\n",
       "    }\n",
       "\n",
       "    .dataframe tbody tr th {\n",
       "        vertical-align: top;\n",
       "    }\n",
       "\n",
       "    .dataframe thead th {\n",
       "        text-align: right;\n",
       "    }\n",
       "</style>\n",
       "<table border=\"1\" class=\"dataframe\">\n",
       "  <thead>\n",
       "    <tr style=\"text-align: right;\">\n",
       "      <th></th>\n",
       "      <th>foo</th>\n",
       "      <th>boo</th>\n",
       "      <th>baz</th>\n",
       "    </tr>\n",
       "  </thead>\n",
       "  <tbody>\n",
       "  </tbody>\n",
       "</table>\n",
       "</div>"
      ],
      "text/plain": [
       "Empty DataFrame\n",
       "Columns: [foo, boo, baz]\n",
       "Index: []"
      ]
     },
     "execution_count": 16,
     "metadata": {},
     "output_type": "execute_result"
    }
   ],
   "source": [
    "test_df.reindex(columns={'foo', 'baz', 'boo'})"
   ]
  },
  {
   "cell_type": "code",
   "execution_count": 21,
   "id": "1fd74887",
   "metadata": {
    "hidden": true
   },
   "outputs": [
    {
     "name": "stdout",
     "output_type": "stream",
     "text": [
      "{'foo', 'bar', 'baz'}\n"
     ]
    }
   ],
   "source": [
    "new_cols = set(cols)\n",
    "new_cols.update(['foo', 'baz'])\n",
    "print(new_cols)"
   ]
  },
  {
   "cell_type": "code",
   "execution_count": 22,
   "id": "daea4d2d",
   "metadata": {
    "hidden": true
   },
   "outputs": [
    {
     "data": {
      "text/html": [
       "<div>\n",
       "<style scoped>\n",
       "    .dataframe tbody tr th:only-of-type {\n",
       "        vertical-align: middle;\n",
       "    }\n",
       "\n",
       "    .dataframe tbody tr th {\n",
       "        vertical-align: top;\n",
       "    }\n",
       "\n",
       "    .dataframe thead th {\n",
       "        text-align: right;\n",
       "    }\n",
       "</style>\n",
       "<table border=\"1\" class=\"dataframe\">\n",
       "  <thead>\n",
       "    <tr style=\"text-align: right;\">\n",
       "      <th></th>\n",
       "      <th>foo</th>\n",
       "      <th>bar</th>\n",
       "      <th>baz</th>\n",
       "    </tr>\n",
       "  </thead>\n",
       "  <tbody>\n",
       "  </tbody>\n",
       "</table>\n",
       "</div>"
      ],
      "text/plain": [
       "Empty DataFrame\n",
       "Columns: [foo, bar, baz]\n",
       "Index: []"
      ]
     },
     "execution_count": 22,
     "metadata": {},
     "output_type": "execute_result"
    }
   ],
   "source": [
    "test_df"
   ]
  },
  {
   "cell_type": "code",
   "execution_count": 23,
   "id": "50982f76",
   "metadata": {
    "hidden": true
   },
   "outputs": [
    {
     "data": {
      "text/html": [
       "<div>\n",
       "<style scoped>\n",
       "    .dataframe tbody tr th:only-of-type {\n",
       "        vertical-align: middle;\n",
       "    }\n",
       "\n",
       "    .dataframe tbody tr th {\n",
       "        vertical-align: top;\n",
       "    }\n",
       "\n",
       "    .dataframe thead th {\n",
       "        text-align: right;\n",
       "    }\n",
       "</style>\n",
       "<table border=\"1\" class=\"dataframe\">\n",
       "  <thead>\n",
       "    <tr style=\"text-align: right;\">\n",
       "      <th></th>\n",
       "      <th>FOO</th>\n",
       "      <th>bar</th>\n",
       "      <th>baz</th>\n",
       "    </tr>\n",
       "  </thead>\n",
       "  <tbody>\n",
       "  </tbody>\n",
       "</table>\n",
       "</div>"
      ],
      "text/plain": [
       "Empty DataFrame\n",
       "Columns: [FOO, bar, baz]\n",
       "Index: []"
      ]
     },
     "execution_count": 23,
     "metadata": {},
     "output_type": "execute_result"
    }
   ],
   "source": [
    "test_df.rename(columns={'foo': 'FOO'})"
   ]
  },
  {
   "cell_type": "code",
   "execution_count": 24,
   "id": "4ba67b72",
   "metadata": {
    "hidden": true
   },
   "outputs": [
    {
     "data": {
      "text/html": [
       "<div>\n",
       "<style scoped>\n",
       "    .dataframe tbody tr th:only-of-type {\n",
       "        vertical-align: middle;\n",
       "    }\n",
       "\n",
       "    .dataframe tbody tr th {\n",
       "        vertical-align: top;\n",
       "    }\n",
       "\n",
       "    .dataframe thead th {\n",
       "        text-align: right;\n",
       "    }\n",
       "</style>\n",
       "<table border=\"1\" class=\"dataframe\">\n",
       "  <thead>\n",
       "    <tr style=\"text-align: right;\">\n",
       "      <th></th>\n",
       "      <th>foo</th>\n",
       "      <th>bar</th>\n",
       "      <th>baz</th>\n",
       "    </tr>\n",
       "  </thead>\n",
       "  <tbody>\n",
       "  </tbody>\n",
       "</table>\n",
       "</div>"
      ],
      "text/plain": [
       "Empty DataFrame\n",
       "Columns: [foo, bar, baz]\n",
       "Index: []"
      ]
     },
     "execution_count": 24,
     "metadata": {},
     "output_type": "execute_result"
    }
   ],
   "source": [
    "test_df"
   ]
  },
  {
   "cell_type": "markdown",
   "id": "9f23e455",
   "metadata": {},
   "source": [
    "# test against census"
   ]
  },
  {
   "cell_type": "code",
   "execution_count": 26,
   "id": "2e586dd6",
   "metadata": {},
   "outputs": [],
   "source": [
    "def compare_to_census(evaluated_df, census_blocks_df, outpath):\n",
    "    evaluated_block_unit_counts = evaluated_df.groupby('BLOCK_FIPS').sum('UNIT_COUNT')\n",
    "    joined_df = evaluated_block_unit_counts.join(census_blocks_df, how='left', left_on='BLOCK_FIPS', right_on='geoid20')\n",
    "    return joined_df"
   ]
  },
  {
   "cell_type": "code",
   "execution_count": 2,
   "id": "f343dc48",
   "metadata": {},
   "outputs": [],
   "source": [
    "evaluated_df = pd.DataFrame.spatial.from_featureclass(r'c:\\gis\\projects\\housinginventory\\housinginventory.gdb\\davis2020_8a')"
   ]
  },
  {
   "cell_type": "code",
   "execution_count": 24,
   "id": "5e0aa53c",
   "metadata": {
    "collapsed": true
   },
   "outputs": [
    {
     "data": {
      "text/html": [
       "<div>\n",
       "<style scoped>\n",
       "    .dataframe tbody tr th:only-of-type {\n",
       "        vertical-align: middle;\n",
       "    }\n",
       "\n",
       "    .dataframe tbody tr th {\n",
       "        vertical-align: top;\n",
       "    }\n",
       "\n",
       "    .dataframe thead th {\n",
       "        text-align: right;\n",
       "    }\n",
       "</style>\n",
       "<table border=\"1\" class=\"dataframe\">\n",
       "  <thead>\n",
       "    <tr style=\"text-align: right;\">\n",
       "      <th></th>\n",
       "      <th>OBJECTID</th>\n",
       "      <th>UNIT_ID</th>\n",
       "      <th>TYPE</th>\n",
       "      <th>SUBTYPE</th>\n",
       "      <th>IS_OUG</th>\n",
       "      <th>UNIT_COUNT</th>\n",
       "      <th>DUA</th>\n",
       "      <th>ACRES</th>\n",
       "      <th>TOT_BD_FT2</th>\n",
       "      <th>TOT_VALUE</th>\n",
       "      <th>APX_BLT_YR</th>\n",
       "      <th>BLT_DECADE</th>\n",
       "      <th>CITY</th>\n",
       "      <th>COUNTY</th>\n",
       "      <th>SUBCOUNTY</th>\n",
       "      <th>PARCEL_ID</th>\n",
       "      <th>BLOCK_FIPS</th>\n",
       "      <th>TRACT_FIPS</th>\n",
       "      <th>SHAPE</th>\n",
       "    </tr>\n",
       "  </thead>\n",
       "  <tbody>\n",
       "    <tr>\n",
       "      <th>0</th>\n",
       "      <td>1</td>\n",
       "      <td>None</td>\n",
       "      <td>multi_family</td>\n",
       "      <td>apartment</td>\n",
       "      <td>Yes</td>\n",
       "      <td>99.0</td>\n",
       "      <td>17.219341</td>\n",
       "      <td>5.749349</td>\n",
       "      <td>79004.0</td>\n",
       "      <td>9145682.0</td>\n",
       "      <td>1985.0</td>\n",
       "      <td>1980.0</td>\n",
       "      <td>North Salt Lake</td>\n",
       "      <td>DAVIS</td>\n",
       "      <td>South Davis County</td>\n",
       "      <td>990001</td>\n",
       "      <td>490111269024007</td>\n",
       "      <td>49011126902</td>\n",
       "      <td>{\"rings\": [[[424333.36899999995, 4523310.09830...</td>\n",
       "    </tr>\n",
       "    <tr>\n",
       "      <th>1</th>\n",
       "      <td>2</td>\n",
       "      <td>None</td>\n",
       "      <td>multi_family</td>\n",
       "      <td>townhome</td>\n",
       "      <td>Yes</td>\n",
       "      <td>4.0</td>\n",
       "      <td>7.750787</td>\n",
       "      <td>0.516077</td>\n",
       "      <td>6531.0</td>\n",
       "      <td>1109190.0</td>\n",
       "      <td>1983.0</td>\n",
       "      <td>1980.0</td>\n",
       "      <td>Bountiful</td>\n",
       "      <td>DAVIS</td>\n",
       "      <td>South Davis County</td>\n",
       "      <td>990002</td>\n",
       "      <td>490111269024003</td>\n",
       "      <td>49011126902</td>\n",
       "      <td>{\"rings\": [[[424488.7642000001, 4523372.6039],...</td>\n",
       "    </tr>\n",
       "    <tr>\n",
       "      <th>2</th>\n",
       "      <td>3</td>\n",
       "      <td>None</td>\n",
       "      <td>multi_family</td>\n",
       "      <td>townhome</td>\n",
       "      <td>Yes</td>\n",
       "      <td>8.0</td>\n",
       "      <td>9.839647</td>\n",
       "      <td>0.813037</td>\n",
       "      <td>8331.0</td>\n",
       "      <td>2089240.0</td>\n",
       "      <td>1986.0</td>\n",
       "      <td>1980.0</td>\n",
       "      <td>Bountiful</td>\n",
       "      <td>DAVIS</td>\n",
       "      <td>South Davis County</td>\n",
       "      <td>990003</td>\n",
       "      <td>490111269024004</td>\n",
       "      <td>49011126902</td>\n",
       "      <td>{\"rings\": [[[424697.5943, 4523485.3116], [4246...</td>\n",
       "    </tr>\n",
       "    <tr>\n",
       "      <th>3</th>\n",
       "      <td>4</td>\n",
       "      <td>None</td>\n",
       "      <td>multi_family</td>\n",
       "      <td>townhome</td>\n",
       "      <td>Yes</td>\n",
       "      <td>4.0</td>\n",
       "      <td>9.278807</td>\n",
       "      <td>0.431090</td>\n",
       "      <td>6010.0</td>\n",
       "      <td>1002175.0</td>\n",
       "      <td>2007.0</td>\n",
       "      <td>2000.0</td>\n",
       "      <td>Bountiful</td>\n",
       "      <td>DAVIS</td>\n",
       "      <td>South Davis County</td>\n",
       "      <td>990004</td>\n",
       "      <td>490111269024004</td>\n",
       "      <td>49011126902</td>\n",
       "      <td>{\"rings\": [[[424565.1163999997, 4523564.0053],...</td>\n",
       "    </tr>\n",
       "    <tr>\n",
       "      <th>4</th>\n",
       "      <td>5</td>\n",
       "      <td>None</td>\n",
       "      <td>multi_family</td>\n",
       "      <td>townhome</td>\n",
       "      <td>Yes</td>\n",
       "      <td>58.0</td>\n",
       "      <td>23.025240</td>\n",
       "      <td>2.518975</td>\n",
       "      <td>80806.0</td>\n",
       "      <td>12071518.0</td>\n",
       "      <td>2019.0</td>\n",
       "      <td>2010.0</td>\n",
       "      <td>Woods Cross</td>\n",
       "      <td>DAVIS</td>\n",
       "      <td>South Davis County</td>\n",
       "      <td>990006</td>\n",
       "      <td>490111270063003</td>\n",
       "      <td>49011127006</td>\n",
       "      <td>{\"rings\": [[[424196.7867999999, 4524233.9915],...</td>\n",
       "    </tr>\n",
       "    <tr>\n",
       "      <th>...</th>\n",
       "      <td>...</td>\n",
       "      <td>...</td>\n",
       "      <td>...</td>\n",
       "      <td>...</td>\n",
       "      <td>...</td>\n",
       "      <td>...</td>\n",
       "      <td>...</td>\n",
       "      <td>...</td>\n",
       "      <td>...</td>\n",
       "      <td>...</td>\n",
       "      <td>...</td>\n",
       "      <td>...</td>\n",
       "      <td>...</td>\n",
       "      <td>...</td>\n",
       "      <td>...</td>\n",
       "      <td>...</td>\n",
       "      <td>...</td>\n",
       "      <td>...</td>\n",
       "      <td>...</td>\n",
       "    </tr>\n",
       "    <tr>\n",
       "      <th>84145</th>\n",
       "      <td>84146</td>\n",
       "      <td>None</td>\n",
       "      <td>multi_family</td>\n",
       "      <td>mobile_home_park</td>\n",
       "      <td>No</td>\n",
       "      <td>1.0</td>\n",
       "      <td>2.830484</td>\n",
       "      <td>0.353296</td>\n",
       "      <td>2128.0</td>\n",
       "      <td>258000.0</td>\n",
       "      <td>2018.0</td>\n",
       "      <td>2010.0</td>\n",
       "      <td>Clearfield</td>\n",
       "      <td>DAVIS</td>\n",
       "      <td>North Davis County</td>\n",
       "      <td>140700006</td>\n",
       "      <td>490111255022011</td>\n",
       "      <td>49011125502</td>\n",
       "      <td>{\"rings\": [[[412886.21410000045, 4552382.91599...</td>\n",
       "    </tr>\n",
       "    <tr>\n",
       "      <th>84146</th>\n",
       "      <td>84147</td>\n",
       "      <td>None</td>\n",
       "      <td>multi_family</td>\n",
       "      <td>mobile_home_park</td>\n",
       "      <td>No</td>\n",
       "      <td>1.0</td>\n",
       "      <td>1.236541</td>\n",
       "      <td>0.808708</td>\n",
       "      <td>1974.0</td>\n",
       "      <td>276000.0</td>\n",
       "      <td>1996.0</td>\n",
       "      <td>1990.0</td>\n",
       "      <td>South Weber</td>\n",
       "      <td>DAVIS</td>\n",
       "      <td>North Davis County</td>\n",
       "      <td>131580001</td>\n",
       "      <td>490111251032006</td>\n",
       "      <td>49011125103</td>\n",
       "      <td>{\"rings\": [[[418650.6288999999, 4555242.534299...</td>\n",
       "    </tr>\n",
       "    <tr>\n",
       "      <th>84147</th>\n",
       "      <td>84148</td>\n",
       "      <td>None</td>\n",
       "      <td>multi_family</td>\n",
       "      <td>mobile_home_park</td>\n",
       "      <td>No</td>\n",
       "      <td>1.0</td>\n",
       "      <td>1.000904</td>\n",
       "      <td>0.999097</td>\n",
       "      <td>1620.0</td>\n",
       "      <td>235000.0</td>\n",
       "      <td>1996.0</td>\n",
       "      <td>1990.0</td>\n",
       "      <td>None</td>\n",
       "      <td>DAVIS</td>\n",
       "      <td>North Davis County</td>\n",
       "      <td>141750016</td>\n",
       "      <td>490111253074022</td>\n",
       "      <td>49011125307</td>\n",
       "      <td>{\"rings\": [[[406741.01800000016, 4555763.89729...</td>\n",
       "    </tr>\n",
       "    <tr>\n",
       "      <th>84148</th>\n",
       "      <td>84149</td>\n",
       "      <td>None</td>\n",
       "      <td>multi_family</td>\n",
       "      <td>mobile_home_park</td>\n",
       "      <td>No</td>\n",
       "      <td>125.0</td>\n",
       "      <td>11.573119</td>\n",
       "      <td>10.800891</td>\n",
       "      <td>0.0</td>\n",
       "      <td>5500000.0</td>\n",
       "      <td>1962.0</td>\n",
       "      <td>1960.0</td>\n",
       "      <td>Clearfield</td>\n",
       "      <td>DAVIS</td>\n",
       "      <td>North Davis County</td>\n",
       "      <td>120200161</td>\n",
       "      <td>490111255021015</td>\n",
       "      <td>49011125502</td>\n",
       "      <td>{\"rings\": [[[413764.7653999999, 4552188.4113],...</td>\n",
       "    </tr>\n",
       "    <tr>\n",
       "      <th>84149</th>\n",
       "      <td>84150</td>\n",
       "      <td>None</td>\n",
       "      <td>multi_family</td>\n",
       "      <td>mobile_home_park</td>\n",
       "      <td>No</td>\n",
       "      <td>1.0</td>\n",
       "      <td>1.999426</td>\n",
       "      <td>0.500143</td>\n",
       "      <td>1788.0</td>\n",
       "      <td>253000.0</td>\n",
       "      <td>2001.0</td>\n",
       "      <td>2000.0</td>\n",
       "      <td>Layton</td>\n",
       "      <td>DAVIS</td>\n",
       "      <td>North Davis County</td>\n",
       "      <td>121080227</td>\n",
       "      <td>490111254132000</td>\n",
       "      <td>49011125413</td>\n",
       "      <td>{\"rings\": [[[413720.2933, 4547153.310699999], ...</td>\n",
       "    </tr>\n",
       "  </tbody>\n",
       "</table>\n",
       "<p>84150 rows × 19 columns</p>\n",
       "</div>"
      ],
      "text/plain": [
       "       OBJECTID UNIT_ID          TYPE           SUBTYPE IS_OUG  UNIT_COUNT  \\\n",
       "0             1    None  multi_family         apartment    Yes        99.0   \n",
       "1             2    None  multi_family          townhome    Yes         4.0   \n",
       "2             3    None  multi_family          townhome    Yes         8.0   \n",
       "3             4    None  multi_family          townhome    Yes         4.0   \n",
       "4             5    None  multi_family          townhome    Yes        58.0   \n",
       "...         ...     ...           ...               ...    ...         ...   \n",
       "84145     84146    None  multi_family  mobile_home_park     No         1.0   \n",
       "84146     84147    None  multi_family  mobile_home_park     No         1.0   \n",
       "84147     84148    None  multi_family  mobile_home_park     No         1.0   \n",
       "84148     84149    None  multi_family  mobile_home_park     No       125.0   \n",
       "84149     84150    None  multi_family  mobile_home_park     No         1.0   \n",
       "\n",
       "             DUA      ACRES  TOT_BD_FT2   TOT_VALUE  APX_BLT_YR  BLT_DECADE  \\\n",
       "0      17.219341   5.749349     79004.0   9145682.0      1985.0      1980.0   \n",
       "1       7.750787   0.516077      6531.0   1109190.0      1983.0      1980.0   \n",
       "2       9.839647   0.813037      8331.0   2089240.0      1986.0      1980.0   \n",
       "3       9.278807   0.431090      6010.0   1002175.0      2007.0      2000.0   \n",
       "4      23.025240   2.518975     80806.0  12071518.0      2019.0      2010.0   \n",
       "...          ...        ...         ...         ...         ...         ...   \n",
       "84145   2.830484   0.353296      2128.0    258000.0      2018.0      2010.0   \n",
       "84146   1.236541   0.808708      1974.0    276000.0      1996.0      1990.0   \n",
       "84147   1.000904   0.999097      1620.0    235000.0      1996.0      1990.0   \n",
       "84148  11.573119  10.800891         0.0   5500000.0      1962.0      1960.0   \n",
       "84149   1.999426   0.500143      1788.0    253000.0      2001.0      2000.0   \n",
       "\n",
       "                  CITY COUNTY           SUBCOUNTY  PARCEL_ID       BLOCK_FIPS  \\\n",
       "0      North Salt Lake  DAVIS  South Davis County     990001  490111269024007   \n",
       "1            Bountiful  DAVIS  South Davis County     990002  490111269024003   \n",
       "2            Bountiful  DAVIS  South Davis County     990003  490111269024004   \n",
       "3            Bountiful  DAVIS  South Davis County     990004  490111269024004   \n",
       "4          Woods Cross  DAVIS  South Davis County     990006  490111270063003   \n",
       "...                ...    ...                 ...        ...              ...   \n",
       "84145       Clearfield  DAVIS  North Davis County  140700006  490111255022011   \n",
       "84146      South Weber  DAVIS  North Davis County  131580001  490111251032006   \n",
       "84147             None  DAVIS  North Davis County  141750016  490111253074022   \n",
       "84148       Clearfield  DAVIS  North Davis County  120200161  490111255021015   \n",
       "84149           Layton  DAVIS  North Davis County  121080227  490111254132000   \n",
       "\n",
       "        TRACT_FIPS                                              SHAPE  \n",
       "0      49011126902  {\"rings\": [[[424333.36899999995, 4523310.09830...  \n",
       "1      49011126902  {\"rings\": [[[424488.7642000001, 4523372.6039],...  \n",
       "2      49011126902  {\"rings\": [[[424697.5943, 4523485.3116], [4246...  \n",
       "3      49011126902  {\"rings\": [[[424565.1163999997, 4523564.0053],...  \n",
       "4      49011127006  {\"rings\": [[[424196.7867999999, 4524233.9915],...  \n",
       "...            ...                                                ...  \n",
       "84145  49011125502  {\"rings\": [[[412886.21410000045, 4552382.91599...  \n",
       "84146  49011125103  {\"rings\": [[[418650.6288999999, 4555242.534299...  \n",
       "84147  49011125307  {\"rings\": [[[406741.01800000016, 4555763.89729...  \n",
       "84148  49011125502  {\"rings\": [[[413764.7653999999, 4552188.4113],...  \n",
       "84149  49011125413  {\"rings\": [[[413720.2933, 4547153.310699999], ...  \n",
       "\n",
       "[84150 rows x 19 columns]"
      ]
     },
     "execution_count": 24,
     "metadata": {},
     "output_type": "execute_result"
    }
   ],
   "source": [
    "evaluated_df"
   ]
  },
  {
   "cell_type": "code",
   "execution_count": 3,
   "id": "ec5ef74e",
   "metadata": {},
   "outputs": [],
   "source": [
    "census_df = pd.DataFrame.spatial.from_featureclass(r'c:\\gis\\projects\\housinginventory\\opensgid.agrc.utah.gov.sde\\opensgid.demographic.census_blocks_2020')\n"
   ]
  },
  {
   "cell_type": "code",
   "execution_count": 5,
   "id": "c321e0f0",
   "metadata": {},
   "outputs": [],
   "source": [
    "tracts_df = pd.DataFrame.spatial.from_featureclass(r'c:\\gis\\projects\\housinginventory\\opensgid.agrc.utah.gov.sde\\opensgid.demographic.census_tracts_2020')\n"
   ]
  },
  {
   "cell_type": "code",
   "execution_count": 43,
   "id": "7c570f5f",
   "metadata": {},
   "outputs": [],
   "source": [
    "tracts_df.set_index('geoid20', inplace=True)"
   ]
  },
  {
   "cell_type": "code",
   "execution_count": 44,
   "id": "a9a8b7b1",
   "metadata": {
    "collapsed": true
   },
   "outputs": [
    {
     "data": {
      "text/html": [
       "<div>\n",
       "<style scoped>\n",
       "    .dataframe tbody tr th:only-of-type {\n",
       "        vertical-align: middle;\n",
       "    }\n",
       "\n",
       "    .dataframe tbody tr th {\n",
       "        vertical-align: top;\n",
       "    }\n",
       "\n",
       "    .dataframe thead th {\n",
       "        text-align: right;\n",
       "    }\n",
       "</style>\n",
       "<table border=\"1\" class=\"dataframe\">\n",
       "  <thead>\n",
       "    <tr style=\"text-align: right;\">\n",
       "      <th></th>\n",
       "      <th>xid</th>\n",
       "      <th>statefp20</th>\n",
       "      <th>countyfp20</th>\n",
       "      <th>tractce20</th>\n",
       "      <th>name20</th>\n",
       "      <th>namelsad20</th>\n",
       "      <th>mtfcc20</th>\n",
       "      <th>funcstat20</th>\n",
       "      <th>aland20</th>\n",
       "      <th>awater20</th>\n",
       "      <th>intptlat20</th>\n",
       "      <th>intptlon20</th>\n",
       "      <th>pop100</th>\n",
       "      <th>hu100</th>\n",
       "      <th>SHAPE</th>\n",
       "    </tr>\n",
       "    <tr>\n",
       "      <th>geoid20</th>\n",
       "      <th></th>\n",
       "      <th></th>\n",
       "      <th></th>\n",
       "      <th></th>\n",
       "      <th></th>\n",
       "      <th></th>\n",
       "      <th></th>\n",
       "      <th></th>\n",
       "      <th></th>\n",
       "      <th></th>\n",
       "      <th></th>\n",
       "      <th></th>\n",
       "      <th></th>\n",
       "      <th></th>\n",
       "      <th></th>\n",
       "    </tr>\n",
       "  </thead>\n",
       "  <tbody>\n",
       "    <tr>\n",
       "      <th>49049000901</th>\n",
       "      <td>1</td>\n",
       "      <td>49</td>\n",
       "      <td>049</td>\n",
       "      <td>000901</td>\n",
       "      <td>9.01</td>\n",
       "      <td>Census Tract</td>\n",
       "      <td>G5020</td>\n",
       "      <td>S</td>\n",
       "      <td>1.686016e+06</td>\n",
       "      <td>0.0</td>\n",
       "      <td>+40.3051285</td>\n",
       "      <td>-111.6922978</td>\n",
       "      <td>5559</td>\n",
       "      <td>1958</td>\n",
       "      <td>{\"rings\": [[[440398.4642000003, 4462604.4892],...</td>\n",
       "    </tr>\n",
       "    <tr>\n",
       "      <th>49049002500</th>\n",
       "      <td>2</td>\n",
       "      <td>49</td>\n",
       "      <td>049</td>\n",
       "      <td>002500</td>\n",
       "      <td>25</td>\n",
       "      <td>Census Tract</td>\n",
       "      <td>G5020</td>\n",
       "      <td>S</td>\n",
       "      <td>1.034541e+06</td>\n",
       "      <td>0.0</td>\n",
       "      <td>+40.2296149</td>\n",
       "      <td>-111.6497278</td>\n",
       "      <td>4218</td>\n",
       "      <td>1653</td>\n",
       "      <td>{\"rings\": [[[444113.66309999954, 4453163.1712]...</td>\n",
       "    </tr>\n",
       "    <tr>\n",
       "      <th>49049003401</th>\n",
       "      <td>3</td>\n",
       "      <td>49</td>\n",
       "      <td>049</td>\n",
       "      <td>003401</td>\n",
       "      <td>34.01</td>\n",
       "      <td>Census Tract</td>\n",
       "      <td>G5020</td>\n",
       "      <td>S</td>\n",
       "      <td>9.085765e+06</td>\n",
       "      <td>23788.0</td>\n",
       "      <td>+40.0560227</td>\n",
       "      <td>-111.7122570</td>\n",
       "      <td>3896</td>\n",
       "      <td>1233</td>\n",
       "      <td>{\"rings\": [[[436447.3992999997, 4432868.571], ...</td>\n",
       "    </tr>\n",
       "    <tr>\n",
       "      <th>49049010210</th>\n",
       "      <td>4</td>\n",
       "      <td>49</td>\n",
       "      <td>049</td>\n",
       "      <td>010210</td>\n",
       "      <td>102.10</td>\n",
       "      <td>Census Tract</td>\n",
       "      <td>G5020</td>\n",
       "      <td>S</td>\n",
       "      <td>1.581048e+07</td>\n",
       "      <td>0.0</td>\n",
       "      <td>+40.4005884</td>\n",
       "      <td>-111.7306856</td>\n",
       "      <td>5868</td>\n",
       "      <td>1592</td>\n",
       "      <td>{\"rings\": [[[434385.5806999998, 4474166.1998],...</td>\n",
       "    </tr>\n",
       "    <tr>\n",
       "      <th>49049000505</th>\n",
       "      <td>5</td>\n",
       "      <td>49</td>\n",
       "      <td>049</td>\n",
       "      <td>000505</td>\n",
       "      <td>5.05</td>\n",
       "      <td>Census Tract</td>\n",
       "      <td>G5020</td>\n",
       "      <td>S</td>\n",
       "      <td>3.919712e+06</td>\n",
       "      <td>0.0</td>\n",
       "      <td>+40.3700595</td>\n",
       "      <td>-111.7070846</td>\n",
       "      <td>3288</td>\n",
       "      <td>846</td>\n",
       "      <td>{\"rings\": [[[438303.71279999986, 4469684.0035]...</td>\n",
       "    </tr>\n",
       "    <tr>\n",
       "      <th>...</th>\n",
       "      <td>...</td>\n",
       "      <td>...</td>\n",
       "      <td>...</td>\n",
       "      <td>...</td>\n",
       "      <td>...</td>\n",
       "      <td>...</td>\n",
       "      <td>...</td>\n",
       "      <td>...</td>\n",
       "      <td>...</td>\n",
       "      <td>...</td>\n",
       "      <td>...</td>\n",
       "      <td>...</td>\n",
       "      <td>...</td>\n",
       "      <td>...</td>\n",
       "      <td>...</td>\n",
       "    </tr>\n",
       "    <tr>\n",
       "      <th>49035111701</th>\n",
       "      <td>712</td>\n",
       "      <td>49</td>\n",
       "      <td>035</td>\n",
       "      <td>111701</td>\n",
       "      <td>1117.01</td>\n",
       "      <td>Census Tract</td>\n",
       "      <td>G5020</td>\n",
       "      <td>S</td>\n",
       "      <td>1.358256e+06</td>\n",
       "      <td>0.0</td>\n",
       "      <td>+40.6934670</td>\n",
       "      <td>-111.8826082</td>\n",
       "      <td>5452</td>\n",
       "      <td>2244</td>\n",
       "      <td>{\"rings\": [[[424945.5695000002, 4504747.2454],...</td>\n",
       "    </tr>\n",
       "    <tr>\n",
       "      <th>49035111903</th>\n",
       "      <td>713</td>\n",
       "      <td>49</td>\n",
       "      <td>035</td>\n",
       "      <td>111903</td>\n",
       "      <td>1119.03</td>\n",
       "      <td>Census Tract</td>\n",
       "      <td>G5020</td>\n",
       "      <td>S</td>\n",
       "      <td>2.072253e+06</td>\n",
       "      <td>0.0</td>\n",
       "      <td>+40.6806830</td>\n",
       "      <td>-111.8627470</td>\n",
       "      <td>4113</td>\n",
       "      <td>1876</td>\n",
       "      <td>{\"rings\": [[[426353.4841, 4503135.8453], [4263...</td>\n",
       "    </tr>\n",
       "    <tr>\n",
       "      <th>49035111905</th>\n",
       "      <td>714</td>\n",
       "      <td>49</td>\n",
       "      <td>035</td>\n",
       "      <td>111905</td>\n",
       "      <td>1119.05</td>\n",
       "      <td>Census Tract</td>\n",
       "      <td>G5020</td>\n",
       "      <td>S</td>\n",
       "      <td>1.167718e+06</td>\n",
       "      <td>0.0</td>\n",
       "      <td>+40.6765749</td>\n",
       "      <td>-111.8744366</td>\n",
       "      <td>3806</td>\n",
       "      <td>1871</td>\n",
       "      <td>{\"rings\": [[[425548.92899999954, 4502917.7248]...</td>\n",
       "    </tr>\n",
       "    <tr>\n",
       "      <th>49035113309</th>\n",
       "      <td>715</td>\n",
       "      <td>49</td>\n",
       "      <td>035</td>\n",
       "      <td>113309</td>\n",
       "      <td>1133.09</td>\n",
       "      <td>Census Tract</td>\n",
       "      <td>G5020</td>\n",
       "      <td>S</td>\n",
       "      <td>1.867612e+06</td>\n",
       "      <td>0.0</td>\n",
       "      <td>+40.6881369</td>\n",
       "      <td>-111.9693980</td>\n",
       "      <td>5111</td>\n",
       "      <td>1588</td>\n",
       "      <td>{\"rings\": [[[417449.58469999954, 4505538.77260...</td>\n",
       "    </tr>\n",
       "    <tr>\n",
       "      <th>49015976500</th>\n",
       "      <td>716</td>\n",
       "      <td>49</td>\n",
       "      <td>015</td>\n",
       "      <td>976500</td>\n",
       "      <td>9765</td>\n",
       "      <td>Census Tract</td>\n",
       "      <td>G5020</td>\n",
       "      <td>S</td>\n",
       "      <td>8.782568e+09</td>\n",
       "      <td>14165655.0</td>\n",
       "      <td>+38.9311083</td>\n",
       "      <td>-110.6644589</td>\n",
       "      <td>3078</td>\n",
       "      <td>1330</td>\n",
       "      <td>{\"rings\": [[[473273.6588000003, 4276684.8684],...</td>\n",
       "    </tr>\n",
       "  </tbody>\n",
       "</table>\n",
       "<p>716 rows × 15 columns</p>\n",
       "</div>"
      ],
      "text/plain": [
       "             xid statefp20 countyfp20 tractce20   name20    namelsad20  \\\n",
       "geoid20                                                                  \n",
       "49049000901    1        49        049    000901     9.01  Census Tract   \n",
       "49049002500    2        49        049    002500       25  Census Tract   \n",
       "49049003401    3        49        049    003401    34.01  Census Tract   \n",
       "49049010210    4        49        049    010210   102.10  Census Tract   \n",
       "49049000505    5        49        049    000505     5.05  Census Tract   \n",
       "...          ...       ...        ...       ...      ...           ...   \n",
       "49035111701  712        49        035    111701  1117.01  Census Tract   \n",
       "49035111903  713        49        035    111903  1119.03  Census Tract   \n",
       "49035111905  714        49        035    111905  1119.05  Census Tract   \n",
       "49035113309  715        49        035    113309  1133.09  Census Tract   \n",
       "49015976500  716        49        015    976500     9765  Census Tract   \n",
       "\n",
       "            mtfcc20 funcstat20       aland20    awater20   intptlat20  \\\n",
       "geoid20                                                                 \n",
       "49049000901   G5020          S  1.686016e+06         0.0  +40.3051285   \n",
       "49049002500   G5020          S  1.034541e+06         0.0  +40.2296149   \n",
       "49049003401   G5020          S  9.085765e+06     23788.0  +40.0560227   \n",
       "49049010210   G5020          S  1.581048e+07         0.0  +40.4005884   \n",
       "49049000505   G5020          S  3.919712e+06         0.0  +40.3700595   \n",
       "...             ...        ...           ...         ...          ...   \n",
       "49035111701   G5020          S  1.358256e+06         0.0  +40.6934670   \n",
       "49035111903   G5020          S  2.072253e+06         0.0  +40.6806830   \n",
       "49035111905   G5020          S  1.167718e+06         0.0  +40.6765749   \n",
       "49035113309   G5020          S  1.867612e+06         0.0  +40.6881369   \n",
       "49015976500   G5020          S  8.782568e+09  14165655.0  +38.9311083   \n",
       "\n",
       "               intptlon20  pop100  hu100  \\\n",
       "geoid20                                    \n",
       "49049000901  -111.6922978    5559   1958   \n",
       "49049002500  -111.6497278    4218   1653   \n",
       "49049003401  -111.7122570    3896   1233   \n",
       "49049010210  -111.7306856    5868   1592   \n",
       "49049000505  -111.7070846    3288    846   \n",
       "...                   ...     ...    ...   \n",
       "49035111701  -111.8826082    5452   2244   \n",
       "49035111903  -111.8627470    4113   1876   \n",
       "49035111905  -111.8744366    3806   1871   \n",
       "49035113309  -111.9693980    5111   1588   \n",
       "49015976500  -110.6644589    3078   1330   \n",
       "\n",
       "                                                         SHAPE  \n",
       "geoid20                                                         \n",
       "49049000901  {\"rings\": [[[440398.4642000003, 4462604.4892],...  \n",
       "49049002500  {\"rings\": [[[444113.66309999954, 4453163.1712]...  \n",
       "49049003401  {\"rings\": [[[436447.3992999997, 4432868.571], ...  \n",
       "49049010210  {\"rings\": [[[434385.5806999998, 4474166.1998],...  \n",
       "49049000505  {\"rings\": [[[438303.71279999986, 4469684.0035]...  \n",
       "...                                                        ...  \n",
       "49035111701  {\"rings\": [[[424945.5695000002, 4504747.2454],...  \n",
       "49035111903  {\"rings\": [[[426353.4841, 4503135.8453], [4263...  \n",
       "49035111905  {\"rings\": [[[425548.92899999954, 4502917.7248]...  \n",
       "49035113309  {\"rings\": [[[417449.58469999954, 4505538.77260...  \n",
       "49015976500  {\"rings\": [[[473273.6588000003, 4276684.8684],...  \n",
       "\n",
       "[716 rows x 15 columns]"
      ]
     },
     "execution_count": 44,
     "metadata": {},
     "output_type": "execute_result"
    }
   ],
   "source": [
    "tracts_df"
   ]
  },
  {
   "cell_type": "code",
   "execution_count": 11,
   "id": "bd6ff4c3",
   "metadata": {},
   "outputs": [
    {
     "data": {
      "text/plain": [
       "49011125809"
      ]
     },
     "execution_count": 11,
     "metadata": {},
     "output_type": "execute_result"
    }
   ],
   "source": [
    "block_fips = 490111258091001\n",
    "tract_fips = int(''.join([i for i in str(block_fips)][:11])) \n",
    "tract_fips"
   ]
  },
  {
   "cell_type": "code",
   "execution_count": 19,
   "id": "05e81a47",
   "metadata": {
    "collapsed": true
   },
   "outputs": [
    {
     "data": {
      "text/html": [
       "<div>\n",
       "<style scoped>\n",
       "    .dataframe tbody tr th:only-of-type {\n",
       "        vertical-align: middle;\n",
       "    }\n",
       "\n",
       "    .dataframe tbody tr th {\n",
       "        vertical-align: top;\n",
       "    }\n",
       "\n",
       "    .dataframe thead th {\n",
       "        text-align: right;\n",
       "    }\n",
       "</style>\n",
       "<table border=\"1\" class=\"dataframe\">\n",
       "  <thead>\n",
       "    <tr style=\"text-align: right;\">\n",
       "      <th></th>\n",
       "      <th>OBJECTID</th>\n",
       "      <th>UNIT_ID</th>\n",
       "      <th>TYPE</th>\n",
       "      <th>SUBTYPE</th>\n",
       "      <th>IS_OUG</th>\n",
       "      <th>UNIT_COUNT</th>\n",
       "      <th>DUA</th>\n",
       "      <th>ACRES</th>\n",
       "      <th>TOT_BD_FT2</th>\n",
       "      <th>TOT_VALUE</th>\n",
       "      <th>APX_BLT_YR</th>\n",
       "      <th>BLT_DECADE</th>\n",
       "      <th>CITY</th>\n",
       "      <th>COUNTY</th>\n",
       "      <th>SUBCOUNTY</th>\n",
       "      <th>PARCEL_ID</th>\n",
       "      <th>BLOCK_FIPS</th>\n",
       "      <th>TRACT_FIPS</th>\n",
       "      <th>SHAPE</th>\n",
       "    </tr>\n",
       "  </thead>\n",
       "  <tbody>\n",
       "    <tr>\n",
       "      <th>0</th>\n",
       "      <td>1</td>\n",
       "      <td>None</td>\n",
       "      <td>multi_family</td>\n",
       "      <td>apartment</td>\n",
       "      <td>Yes</td>\n",
       "      <td>99.0</td>\n",
       "      <td>17.219341</td>\n",
       "      <td>5.749349</td>\n",
       "      <td>79004.0</td>\n",
       "      <td>9145682.0</td>\n",
       "      <td>1985.0</td>\n",
       "      <td>1980.0</td>\n",
       "      <td>North Salt Lake</td>\n",
       "      <td>DAVIS</td>\n",
       "      <td>South Davis County</td>\n",
       "      <td>990001</td>\n",
       "      <td>490111269024007</td>\n",
       "      <td>49011126902</td>\n",
       "      <td>{\"rings\": [[[424333.36899999995, 4523310.09830...</td>\n",
       "    </tr>\n",
       "    <tr>\n",
       "      <th>1</th>\n",
       "      <td>2</td>\n",
       "      <td>None</td>\n",
       "      <td>multi_family</td>\n",
       "      <td>townhome</td>\n",
       "      <td>Yes</td>\n",
       "      <td>4.0</td>\n",
       "      <td>7.750787</td>\n",
       "      <td>0.516077</td>\n",
       "      <td>6531.0</td>\n",
       "      <td>1109190.0</td>\n",
       "      <td>1983.0</td>\n",
       "      <td>1980.0</td>\n",
       "      <td>Bountiful</td>\n",
       "      <td>DAVIS</td>\n",
       "      <td>South Davis County</td>\n",
       "      <td>990002</td>\n",
       "      <td>490111269024003</td>\n",
       "      <td>49011126902</td>\n",
       "      <td>{\"rings\": [[[424488.7642000001, 4523372.6039],...</td>\n",
       "    </tr>\n",
       "    <tr>\n",
       "      <th>2</th>\n",
       "      <td>3</td>\n",
       "      <td>None</td>\n",
       "      <td>multi_family</td>\n",
       "      <td>townhome</td>\n",
       "      <td>Yes</td>\n",
       "      <td>8.0</td>\n",
       "      <td>9.839647</td>\n",
       "      <td>0.813037</td>\n",
       "      <td>8331.0</td>\n",
       "      <td>2089240.0</td>\n",
       "      <td>1986.0</td>\n",
       "      <td>1980.0</td>\n",
       "      <td>Bountiful</td>\n",
       "      <td>DAVIS</td>\n",
       "      <td>South Davis County</td>\n",
       "      <td>990003</td>\n",
       "      <td>490111269024004</td>\n",
       "      <td>49011126902</td>\n",
       "      <td>{\"rings\": [[[424697.5943, 4523485.3116], [4246...</td>\n",
       "    </tr>\n",
       "    <tr>\n",
       "      <th>3</th>\n",
       "      <td>4</td>\n",
       "      <td>None</td>\n",
       "      <td>multi_family</td>\n",
       "      <td>townhome</td>\n",
       "      <td>Yes</td>\n",
       "      <td>4.0</td>\n",
       "      <td>9.278807</td>\n",
       "      <td>0.431090</td>\n",
       "      <td>6010.0</td>\n",
       "      <td>1002175.0</td>\n",
       "      <td>2007.0</td>\n",
       "      <td>2000.0</td>\n",
       "      <td>Bountiful</td>\n",
       "      <td>DAVIS</td>\n",
       "      <td>South Davis County</td>\n",
       "      <td>990004</td>\n",
       "      <td>490111269024004</td>\n",
       "      <td>49011126902</td>\n",
       "      <td>{\"rings\": [[[424565.1163999997, 4523564.0053],...</td>\n",
       "    </tr>\n",
       "    <tr>\n",
       "      <th>4</th>\n",
       "      <td>5</td>\n",
       "      <td>None</td>\n",
       "      <td>multi_family</td>\n",
       "      <td>townhome</td>\n",
       "      <td>Yes</td>\n",
       "      <td>58.0</td>\n",
       "      <td>23.025240</td>\n",
       "      <td>2.518975</td>\n",
       "      <td>80806.0</td>\n",
       "      <td>12071518.0</td>\n",
       "      <td>2019.0</td>\n",
       "      <td>2010.0</td>\n",
       "      <td>Woods Cross</td>\n",
       "      <td>DAVIS</td>\n",
       "      <td>South Davis County</td>\n",
       "      <td>990006</td>\n",
       "      <td>490111270063003</td>\n",
       "      <td>49011127006</td>\n",
       "      <td>{\"rings\": [[[424196.7867999999, 4524233.9915],...</td>\n",
       "    </tr>\n",
       "    <tr>\n",
       "      <th>...</th>\n",
       "      <td>...</td>\n",
       "      <td>...</td>\n",
       "      <td>...</td>\n",
       "      <td>...</td>\n",
       "      <td>...</td>\n",
       "      <td>...</td>\n",
       "      <td>...</td>\n",
       "      <td>...</td>\n",
       "      <td>...</td>\n",
       "      <td>...</td>\n",
       "      <td>...</td>\n",
       "      <td>...</td>\n",
       "      <td>...</td>\n",
       "      <td>...</td>\n",
       "      <td>...</td>\n",
       "      <td>...</td>\n",
       "      <td>...</td>\n",
       "      <td>...</td>\n",
       "      <td>...</td>\n",
       "    </tr>\n",
       "    <tr>\n",
       "      <th>84145</th>\n",
       "      <td>84146</td>\n",
       "      <td>None</td>\n",
       "      <td>multi_family</td>\n",
       "      <td>mobile_home_park</td>\n",
       "      <td>No</td>\n",
       "      <td>1.0</td>\n",
       "      <td>2.830484</td>\n",
       "      <td>0.353296</td>\n",
       "      <td>2128.0</td>\n",
       "      <td>258000.0</td>\n",
       "      <td>2018.0</td>\n",
       "      <td>2010.0</td>\n",
       "      <td>Clearfield</td>\n",
       "      <td>DAVIS</td>\n",
       "      <td>North Davis County</td>\n",
       "      <td>140700006</td>\n",
       "      <td>490111255022011</td>\n",
       "      <td>49011125502</td>\n",
       "      <td>{\"rings\": [[[412886.21410000045, 4552382.91599...</td>\n",
       "    </tr>\n",
       "    <tr>\n",
       "      <th>84146</th>\n",
       "      <td>84147</td>\n",
       "      <td>None</td>\n",
       "      <td>multi_family</td>\n",
       "      <td>mobile_home_park</td>\n",
       "      <td>No</td>\n",
       "      <td>1.0</td>\n",
       "      <td>1.236541</td>\n",
       "      <td>0.808708</td>\n",
       "      <td>1974.0</td>\n",
       "      <td>276000.0</td>\n",
       "      <td>1996.0</td>\n",
       "      <td>1990.0</td>\n",
       "      <td>South Weber</td>\n",
       "      <td>DAVIS</td>\n",
       "      <td>North Davis County</td>\n",
       "      <td>131580001</td>\n",
       "      <td>490111251032006</td>\n",
       "      <td>49011125103</td>\n",
       "      <td>{\"rings\": [[[418650.6288999999, 4555242.534299...</td>\n",
       "    </tr>\n",
       "    <tr>\n",
       "      <th>84147</th>\n",
       "      <td>84148</td>\n",
       "      <td>None</td>\n",
       "      <td>multi_family</td>\n",
       "      <td>mobile_home_park</td>\n",
       "      <td>No</td>\n",
       "      <td>1.0</td>\n",
       "      <td>1.000904</td>\n",
       "      <td>0.999097</td>\n",
       "      <td>1620.0</td>\n",
       "      <td>235000.0</td>\n",
       "      <td>1996.0</td>\n",
       "      <td>1990.0</td>\n",
       "      <td>None</td>\n",
       "      <td>DAVIS</td>\n",
       "      <td>North Davis County</td>\n",
       "      <td>141750016</td>\n",
       "      <td>490111253074022</td>\n",
       "      <td>49011125307</td>\n",
       "      <td>{\"rings\": [[[406741.01800000016, 4555763.89729...</td>\n",
       "    </tr>\n",
       "    <tr>\n",
       "      <th>84148</th>\n",
       "      <td>84149</td>\n",
       "      <td>None</td>\n",
       "      <td>multi_family</td>\n",
       "      <td>mobile_home_park</td>\n",
       "      <td>No</td>\n",
       "      <td>125.0</td>\n",
       "      <td>11.573119</td>\n",
       "      <td>10.800891</td>\n",
       "      <td>0.0</td>\n",
       "      <td>5500000.0</td>\n",
       "      <td>1962.0</td>\n",
       "      <td>1960.0</td>\n",
       "      <td>Clearfield</td>\n",
       "      <td>DAVIS</td>\n",
       "      <td>North Davis County</td>\n",
       "      <td>120200161</td>\n",
       "      <td>490111255021015</td>\n",
       "      <td>49011125502</td>\n",
       "      <td>{\"rings\": [[[413764.7653999999, 4552188.4113],...</td>\n",
       "    </tr>\n",
       "    <tr>\n",
       "      <th>84149</th>\n",
       "      <td>84150</td>\n",
       "      <td>None</td>\n",
       "      <td>multi_family</td>\n",
       "      <td>mobile_home_park</td>\n",
       "      <td>No</td>\n",
       "      <td>1.0</td>\n",
       "      <td>1.999426</td>\n",
       "      <td>0.500143</td>\n",
       "      <td>1788.0</td>\n",
       "      <td>253000.0</td>\n",
       "      <td>2001.0</td>\n",
       "      <td>2000.0</td>\n",
       "      <td>Layton</td>\n",
       "      <td>DAVIS</td>\n",
       "      <td>North Davis County</td>\n",
       "      <td>121080227</td>\n",
       "      <td>490111254132000</td>\n",
       "      <td>49011125413</td>\n",
       "      <td>{\"rings\": [[[413720.2933, 4547153.310699999], ...</td>\n",
       "    </tr>\n",
       "  </tbody>\n",
       "</table>\n",
       "<p>84150 rows × 19 columns</p>\n",
       "</div>"
      ],
      "text/plain": [
       "       OBJECTID UNIT_ID          TYPE           SUBTYPE IS_OUG  UNIT_COUNT  \\\n",
       "0             1    None  multi_family         apartment    Yes        99.0   \n",
       "1             2    None  multi_family          townhome    Yes         4.0   \n",
       "2             3    None  multi_family          townhome    Yes         8.0   \n",
       "3             4    None  multi_family          townhome    Yes         4.0   \n",
       "4             5    None  multi_family          townhome    Yes        58.0   \n",
       "...         ...     ...           ...               ...    ...         ...   \n",
       "84145     84146    None  multi_family  mobile_home_park     No         1.0   \n",
       "84146     84147    None  multi_family  mobile_home_park     No         1.0   \n",
       "84147     84148    None  multi_family  mobile_home_park     No         1.0   \n",
       "84148     84149    None  multi_family  mobile_home_park     No       125.0   \n",
       "84149     84150    None  multi_family  mobile_home_park     No         1.0   \n",
       "\n",
       "             DUA      ACRES  TOT_BD_FT2   TOT_VALUE  APX_BLT_YR  BLT_DECADE  \\\n",
       "0      17.219341   5.749349     79004.0   9145682.0      1985.0      1980.0   \n",
       "1       7.750787   0.516077      6531.0   1109190.0      1983.0      1980.0   \n",
       "2       9.839647   0.813037      8331.0   2089240.0      1986.0      1980.0   \n",
       "3       9.278807   0.431090      6010.0   1002175.0      2007.0      2000.0   \n",
       "4      23.025240   2.518975     80806.0  12071518.0      2019.0      2010.0   \n",
       "...          ...        ...         ...         ...         ...         ...   \n",
       "84145   2.830484   0.353296      2128.0    258000.0      2018.0      2010.0   \n",
       "84146   1.236541   0.808708      1974.0    276000.0      1996.0      1990.0   \n",
       "84147   1.000904   0.999097      1620.0    235000.0      1996.0      1990.0   \n",
       "84148  11.573119  10.800891         0.0   5500000.0      1962.0      1960.0   \n",
       "84149   1.999426   0.500143      1788.0    253000.0      2001.0      2000.0   \n",
       "\n",
       "                  CITY COUNTY           SUBCOUNTY  PARCEL_ID       BLOCK_FIPS  \\\n",
       "0      North Salt Lake  DAVIS  South Davis County     990001  490111269024007   \n",
       "1            Bountiful  DAVIS  South Davis County     990002  490111269024003   \n",
       "2            Bountiful  DAVIS  South Davis County     990003  490111269024004   \n",
       "3            Bountiful  DAVIS  South Davis County     990004  490111269024004   \n",
       "4          Woods Cross  DAVIS  South Davis County     990006  490111270063003   \n",
       "...                ...    ...                 ...        ...              ...   \n",
       "84145       Clearfield  DAVIS  North Davis County  140700006  490111255022011   \n",
       "84146      South Weber  DAVIS  North Davis County  131580001  490111251032006   \n",
       "84147             None  DAVIS  North Davis County  141750016  490111253074022   \n",
       "84148       Clearfield  DAVIS  North Davis County  120200161  490111255021015   \n",
       "84149           Layton  DAVIS  North Davis County  121080227  490111254132000   \n",
       "\n",
       "        TRACT_FIPS                                              SHAPE  \n",
       "0      49011126902  {\"rings\": [[[424333.36899999995, 4523310.09830...  \n",
       "1      49011126902  {\"rings\": [[[424488.7642000001, 4523372.6039],...  \n",
       "2      49011126902  {\"rings\": [[[424697.5943, 4523485.3116], [4246...  \n",
       "3      49011126902  {\"rings\": [[[424565.1163999997, 4523564.0053],...  \n",
       "4      49011127006  {\"rings\": [[[424196.7867999999, 4524233.9915],...  \n",
       "...            ...                                                ...  \n",
       "84145  49011125502  {\"rings\": [[[412886.21410000045, 4552382.91599...  \n",
       "84146  49011125103  {\"rings\": [[[418650.6288999999, 4555242.534299...  \n",
       "84147  49011125307  {\"rings\": [[[406741.01800000016, 4555763.89729...  \n",
       "84148  49011125502  {\"rings\": [[[413764.7653999999, 4552188.4113],...  \n",
       "84149  49011125413  {\"rings\": [[[413720.2933, 4547153.310699999], ...  \n",
       "\n",
       "[84150 rows x 19 columns]"
      ]
     },
     "execution_count": 19,
     "metadata": {},
     "output_type": "execute_result"
    }
   ],
   "source": [
    "evaluated_df['TRACT_FIPS'] = evaluated_df['BLOCK_FIPS'].apply(lambda x: ''.join([i for i in str(x)][:11]))\n",
    "evaluated_df"
   ]
  },
  {
   "cell_type": "code",
   "execution_count": 23,
   "id": "b88c6e93",
   "metadata": {
    "collapsed": true
   },
   "outputs": [
    {
     "data": {
      "text/html": [
       "<div>\n",
       "<style scoped>\n",
       "    .dataframe tbody tr th:only-of-type {\n",
       "        vertical-align: middle;\n",
       "    }\n",
       "\n",
       "    .dataframe tbody tr th {\n",
       "        vertical-align: top;\n",
       "    }\n",
       "\n",
       "    .dataframe thead th {\n",
       "        text-align: right;\n",
       "    }\n",
       "</style>\n",
       "<table border=\"1\" class=\"dataframe\">\n",
       "  <thead>\n",
       "    <tr style=\"text-align: right;\">\n",
       "      <th></th>\n",
       "      <th>TRACT_FIPS</th>\n",
       "      <th>UNIT_COUNT</th>\n",
       "      <th>TOT_BD_FT2</th>\n",
       "      <th>TOT_VALUE</th>\n",
       "      <th>hu100</th>\n",
       "      <th>eval_minus_census</th>\n",
       "    </tr>\n",
       "  </thead>\n",
       "  <tbody>\n",
       "    <tr>\n",
       "      <th>0</th>\n",
       "      <td>49011125102</td>\n",
       "      <td>1437.0</td>\n",
       "      <td>3072593.0</td>\n",
       "      <td>640375956.0</td>\n",
       "      <td>1370</td>\n",
       "      <td>67.0</td>\n",
       "    </tr>\n",
       "    <tr>\n",
       "      <th>1</th>\n",
       "      <td>49011125103</td>\n",
       "      <td>2789.0</td>\n",
       "      <td>3409971.0</td>\n",
       "      <td>646685117.0</td>\n",
       "      <td>2406</td>\n",
       "      <td>383.0</td>\n",
       "    </tr>\n",
       "    <tr>\n",
       "      <th>2</th>\n",
       "      <td>49011125104</td>\n",
       "      <td>1734.0</td>\n",
       "      <td>3328208.0</td>\n",
       "      <td>661355949.0</td>\n",
       "      <td>1808</td>\n",
       "      <td>-74.0</td>\n",
       "    </tr>\n",
       "    <tr>\n",
       "      <th>3</th>\n",
       "      <td>49011125201</td>\n",
       "      <td>4.0</td>\n",
       "      <td>5325.0</td>\n",
       "      <td>770000.0</td>\n",
       "      <td>1085</td>\n",
       "      <td>-1081.0</td>\n",
       "    </tr>\n",
       "    <tr>\n",
       "      <th>4</th>\n",
       "      <td>49011125301</td>\n",
       "      <td>2240.0</td>\n",
       "      <td>2449396.0</td>\n",
       "      <td>373239101.0</td>\n",
       "      <td>1879</td>\n",
       "      <td>361.0</td>\n",
       "    </tr>\n",
       "    <tr>\n",
       "      <th>...</th>\n",
       "      <td>...</td>\n",
       "      <td>...</td>\n",
       "      <td>...</td>\n",
       "      <td>...</td>\n",
       "      <td>...</td>\n",
       "      <td>...</td>\n",
       "    </tr>\n",
       "    <tr>\n",
       "      <th>60</th>\n",
       "      <td>49011127002</td>\n",
       "      <td>3315.0</td>\n",
       "      <td>2845378.0</td>\n",
       "      <td>573284602.0</td>\n",
       "      <td>2788</td>\n",
       "      <td>527.0</td>\n",
       "    </tr>\n",
       "    <tr>\n",
       "      <th>61</th>\n",
       "      <td>49011127003</td>\n",
       "      <td>3555.0</td>\n",
       "      <td>5217005.0</td>\n",
       "      <td>951113925.0</td>\n",
       "      <td>2584</td>\n",
       "      <td>971.0</td>\n",
       "    </tr>\n",
       "    <tr>\n",
       "      <th>62</th>\n",
       "      <td>49011127005</td>\n",
       "      <td>1163.0</td>\n",
       "      <td>1658469.0</td>\n",
       "      <td>337683310.0</td>\n",
       "      <td>1119</td>\n",
       "      <td>44.0</td>\n",
       "    </tr>\n",
       "    <tr>\n",
       "      <th>63</th>\n",
       "      <td>49011127006</td>\n",
       "      <td>1309.0</td>\n",
       "      <td>1690297.0</td>\n",
       "      <td>366642279.0</td>\n",
       "      <td>1316</td>\n",
       "      <td>-7.0</td>\n",
       "    </tr>\n",
       "    <tr>\n",
       "      <th>64</th>\n",
       "      <td>49011127100</td>\n",
       "      <td>2933.0</td>\n",
       "      <td>7081392.0</td>\n",
       "      <td>886577336.0</td>\n",
       "      <td>2789</td>\n",
       "      <td>144.0</td>\n",
       "    </tr>\n",
       "  </tbody>\n",
       "</table>\n",
       "<p>65 rows × 6 columns</p>\n",
       "</div>"
      ],
      "text/plain": [
       "     TRACT_FIPS  UNIT_COUNT  TOT_BD_FT2    TOT_VALUE  hu100  eval_minus_census\n",
       "0   49011125102      1437.0   3072593.0  640375956.0   1370               67.0\n",
       "1   49011125103      2789.0   3409971.0  646685117.0   2406              383.0\n",
       "2   49011125104      1734.0   3328208.0  661355949.0   1808              -74.0\n",
       "3   49011125201         4.0      5325.0     770000.0   1085            -1081.0\n",
       "4   49011125301      2240.0   2449396.0  373239101.0   1879              361.0\n",
       "..          ...         ...         ...          ...    ...                ...\n",
       "60  49011127002      3315.0   2845378.0  573284602.0   2788              527.0\n",
       "61  49011127003      3555.0   5217005.0  951113925.0   2584              971.0\n",
       "62  49011127005      1163.0   1658469.0  337683310.0   1119               44.0\n",
       "63  49011127006      1309.0   1690297.0  366642279.0   1316               -7.0\n",
       "64  49011127100      2933.0   7081392.0  886577336.0   2789              144.0\n",
       "\n",
       "[65 rows x 6 columns]"
      ]
     },
     "execution_count": 23,
     "metadata": {},
     "output_type": "execute_result"
    }
   ],
   "source": [
    "# evaluated_block_unit_counts = evaluated_df[['UNIT_COUNT', 'TOT_BD_FT2', 'TOT_VALUE', 'TRACT_FIPS']].groupby('TRACT_FIPS').sum()\n",
    "# evaluated_block_unit_counts.reset_index(inplace=True)\n",
    "# joined_df = evaluated_block_unit_counts.merge(census_df, how='left', left_on='BLOCK_FIPS', right_on='geoid20')\n",
    "# joined_df = evaluated_block_unit_counts.merge(tracts_df, how='left', left_on='TRACT_FIPS', right_on='geoid20')\n",
    "# joined_df['eval_minus_census'] = joined_df['UNIT_COUNT'] - joined_df['hu100']\n",
    "# joined_df[['TRACT_FIPS', 'UNIT_COUNT', 'TOT_BD_FT2', 'TOT_VALUE', 'hu100', 'eval_minus_census']]"
   ]
  },
  {
   "cell_type": "code",
   "execution_count": 30,
   "id": "f0410f60",
   "metadata": {
    "collapsed": true
   },
   "outputs": [
    {
     "data": {
      "text/plain": [
       "count      65.000000\n",
       "mean       52.261538\n",
       "std       277.398984\n",
       "min     -1081.000000\n",
       "25%       -24.000000\n",
       "50%        -3.000000\n",
       "75%        83.000000\n",
       "max      1087.000000\n",
       "Name: eval_minus_census, dtype: float64"
      ]
     },
     "execution_count": 30,
     "metadata": {},
     "output_type": "execute_result"
    }
   ],
   "source": [
    "joined_df['eval_minus_census'].describe()"
   ]
  },
  {
   "cell_type": "code",
   "execution_count": 79,
   "id": "502e6d8a",
   "metadata": {},
   "outputs": [],
   "source": [
    "avg_sf_dua = evaluated_df[evaluated_df['TYPE'] == 'single_family'][['DUA', 'TRACT_FIPS']].groupby('TRACT_FIPS').mean().rename(columns={'DUA': 'avg_sf_dua'})\n",
    "avg_mf_dua = evaluated_df[evaluated_df['TYPE'] == 'multi_family'][['DUA', 'TRACT_FIPS']].groupby('TRACT_FIPS').mean().rename(columns={'DUA': 'avg_mf_dua'})\n",
    "avg_all_dua = evaluated_df[['DUA', 'TRACT_FIPS']].groupby('TRACT_FIPS').mean().rename(columns={'DUA': 'avg_all_dua'})\n",
    "sf_avgs = evaluated_df[evaluated_df['TYPE'] == 'single_family'][['TOT_BD_FT2', 'TOT_VALUE', 'TRACT_FIPS']].groupby('TRACT_FIPS').mean().rename(columns={'TOT_BD_FT2': 'avg_sf_sqft', 'TOT_VALUE': 'avg_sf_value'})"
   ]
  },
  {
   "cell_type": "code",
   "execution_count": 82,
   "id": "7366281d",
   "metadata": {
    "collapsed": true
   },
   "outputs": [
    {
     "data": {
      "text/html": [
       "<div>\n",
       "<style scoped>\n",
       "    .dataframe tbody tr th:only-of-type {\n",
       "        vertical-align: middle;\n",
       "    }\n",
       "\n",
       "    .dataframe tbody tr th {\n",
       "        vertical-align: top;\n",
       "    }\n",
       "\n",
       "    .dataframe thead th {\n",
       "        text-align: right;\n",
       "    }\n",
       "</style>\n",
       "<table border=\"1\" class=\"dataframe\">\n",
       "  <thead>\n",
       "    <tr style=\"text-align: right;\">\n",
       "      <th></th>\n",
       "      <th>avg_sf_sqft</th>\n",
       "      <th>avg_sf_value</th>\n",
       "    </tr>\n",
       "    <tr>\n",
       "      <th>TRACT_FIPS</th>\n",
       "      <th></th>\n",
       "      <th></th>\n",
       "    </tr>\n",
       "  </thead>\n",
       "  <tbody>\n",
       "    <tr>\n",
       "      <th>49011125102</th>\n",
       "      <td>2332.119658</td>\n",
       "      <td>488771.108780</td>\n",
       "    </tr>\n",
       "    <tr>\n",
       "      <th>49011125103</th>\n",
       "      <td>1823.037267</td>\n",
       "      <td>359701.435473</td>\n",
       "    </tr>\n",
       "    <tr>\n",
       "      <th>49011125104</th>\n",
       "      <td>1916.095012</td>\n",
       "      <td>384489.442399</td>\n",
       "    </tr>\n",
       "    <tr>\n",
       "      <th>49011125201</th>\n",
       "      <td>1331.250000</td>\n",
       "      <td>192500.000000</td>\n",
       "    </tr>\n",
       "    <tr>\n",
       "      <th>49011125301</th>\n",
       "      <td>1327.951734</td>\n",
       "      <td>210154.553365</td>\n",
       "    </tr>\n",
       "    <tr>\n",
       "      <th>...</th>\n",
       "      <td>...</td>\n",
       "      <td>...</td>\n",
       "    </tr>\n",
       "    <tr>\n",
       "      <th>49011127002</th>\n",
       "      <td>1498.743846</td>\n",
       "      <td>310289.855385</td>\n",
       "    </tr>\n",
       "    <tr>\n",
       "      <th>49011127003</th>\n",
       "      <td>3147.851380</td>\n",
       "      <td>575919.498938</td>\n",
       "    </tr>\n",
       "    <tr>\n",
       "      <th>49011127005</th>\n",
       "      <td>1501.965829</td>\n",
       "      <td>318471.532663</td>\n",
       "    </tr>\n",
       "    <tr>\n",
       "      <th>49011127006</th>\n",
       "      <td>1369.619270</td>\n",
       "      <td>304310.507016</td>\n",
       "    </tr>\n",
       "    <tr>\n",
       "      <th>49011127100</th>\n",
       "      <td>1923.078675</td>\n",
       "      <td>406423.836439</td>\n",
       "    </tr>\n",
       "  </tbody>\n",
       "</table>\n",
       "<p>65 rows × 2 columns</p>\n",
       "</div>"
      ],
      "text/plain": [
       "             avg_sf_sqft   avg_sf_value\n",
       "TRACT_FIPS                             \n",
       "49011125102  2332.119658  488771.108780\n",
       "49011125103  1823.037267  359701.435473\n",
       "49011125104  1916.095012  384489.442399\n",
       "49011125201  1331.250000  192500.000000\n",
       "49011125301  1327.951734  210154.553365\n",
       "...                  ...            ...\n",
       "49011127002  1498.743846  310289.855385\n",
       "49011127003  3147.851380  575919.498938\n",
       "49011127005  1501.965829  318471.532663\n",
       "49011127006  1369.619270  304310.507016\n",
       "49011127100  1923.078675  406423.836439\n",
       "\n",
       "[65 rows x 2 columns]"
      ]
     },
     "execution_count": 82,
     "metadata": {},
     "output_type": "execute_result"
    }
   ],
   "source": [
    "sf_avgs"
   ]
  },
  {
   "cell_type": "code",
   "execution_count": 36,
   "id": "e10953e2",
   "metadata": {
    "collapsed": true
   },
   "outputs": [
    {
     "name": "stdout",
     "output_type": "stream",
     "text": [
      "<class 'pandas.core.frame.DataFrame'>\n",
      "Index: 65 entries, 49011125102 to 49011127100\n",
      "Data columns (total 1 columns):\n",
      " #   Column  Non-Null Count  Dtype  \n",
      "---  ------  --------------  -----  \n",
      " 0   DUA     65 non-null     float64\n",
      "dtypes: float64(1)\n",
      "memory usage: 3.1+ KB\n"
     ]
    }
   ],
   "source": [
    "avg_sf_dua.info()"
   ]
  },
  {
   "cell_type": "code",
   "execution_count": 29,
   "id": "887aaf72",
   "metadata": {
    "collapsed": true
   },
   "outputs": [
    {
     "data": {
      "text/html": [
       "<div>\n",
       "<style scoped>\n",
       "    .dataframe tbody tr th:only-of-type {\n",
       "        vertical-align: middle;\n",
       "    }\n",
       "\n",
       "    .dataframe tbody tr th {\n",
       "        vertical-align: top;\n",
       "    }\n",
       "\n",
       "    .dataframe thead th {\n",
       "        text-align: right;\n",
       "    }\n",
       "</style>\n",
       "<table border=\"1\" class=\"dataframe\">\n",
       "  <thead>\n",
       "    <tr style=\"text-align: right;\">\n",
       "      <th></th>\n",
       "      <th>DUA</th>\n",
       "    </tr>\n",
       "    <tr>\n",
       "      <th>TRACT_FIPS</th>\n",
       "      <th></th>\n",
       "    </tr>\n",
       "  </thead>\n",
       "  <tbody>\n",
       "    <tr>\n",
       "      <th>49011125102</th>\n",
       "      <td>8.959006</td>\n",
       "    </tr>\n",
       "    <tr>\n",
       "      <th>49011125103</th>\n",
       "      <td>9.776475</td>\n",
       "    </tr>\n",
       "    <tr>\n",
       "      <th>49011125104</th>\n",
       "      <td>4.959726</td>\n",
       "    </tr>\n",
       "    <tr>\n",
       "      <th>49011125301</th>\n",
       "      <td>17.514660</td>\n",
       "    </tr>\n",
       "    <tr>\n",
       "      <th>49011125304</th>\n",
       "      <td>11.344371</td>\n",
       "    </tr>\n",
       "    <tr>\n",
       "      <th>...</th>\n",
       "      <td>...</td>\n",
       "    </tr>\n",
       "    <tr>\n",
       "      <th>49011127002</th>\n",
       "      <td>18.796288</td>\n",
       "    </tr>\n",
       "    <tr>\n",
       "      <th>49011127003</th>\n",
       "      <td>13.310026</td>\n",
       "    </tr>\n",
       "    <tr>\n",
       "      <th>49011127005</th>\n",
       "      <td>6.307283</td>\n",
       "    </tr>\n",
       "    <tr>\n",
       "      <th>49011127006</th>\n",
       "      <td>10.438109</td>\n",
       "    </tr>\n",
       "    <tr>\n",
       "      <th>49011127100</th>\n",
       "      <td>11.042633</td>\n",
       "    </tr>\n",
       "  </tbody>\n",
       "</table>\n",
       "<p>63 rows × 1 columns</p>\n",
       "</div>"
      ],
      "text/plain": [
       "                   DUA\n",
       "TRACT_FIPS            \n",
       "49011125102   8.959006\n",
       "49011125103   9.776475\n",
       "49011125104   4.959726\n",
       "49011125301  17.514660\n",
       "49011125304  11.344371\n",
       "...                ...\n",
       "49011127002  18.796288\n",
       "49011127003  13.310026\n",
       "49011127005   6.307283\n",
       "49011127006  10.438109\n",
       "49011127100  11.042633\n",
       "\n",
       "[63 rows x 1 columns]"
      ]
     },
     "execution_count": 29,
     "metadata": {},
     "output_type": "execute_result"
    }
   ],
   "source": [
    "avg_mf_dua"
   ]
  },
  {
   "cell_type": "code",
   "execution_count": 32,
   "id": "92170376",
   "metadata": {
    "collapsed": true
   },
   "outputs": [
    {
     "data": {
      "text/html": [
       "<div>\n",
       "<style scoped>\n",
       "    .dataframe tbody tr th:only-of-type {\n",
       "        vertical-align: middle;\n",
       "    }\n",
       "\n",
       "    .dataframe tbody tr th {\n",
       "        vertical-align: top;\n",
       "    }\n",
       "\n",
       "    .dataframe thead th {\n",
       "        text-align: right;\n",
       "    }\n",
       "</style>\n",
       "<table border=\"1\" class=\"dataframe\">\n",
       "  <thead>\n",
       "    <tr style=\"text-align: right;\">\n",
       "      <th></th>\n",
       "      <th>DUA</th>\n",
       "    </tr>\n",
       "    <tr>\n",
       "      <th>TRACT_FIPS</th>\n",
       "      <th></th>\n",
       "    </tr>\n",
       "  </thead>\n",
       "  <tbody>\n",
       "    <tr>\n",
       "      <th>49011125102</th>\n",
       "      <td>2.930751</td>\n",
       "    </tr>\n",
       "    <tr>\n",
       "      <th>49011125103</th>\n",
       "      <td>3.991556</td>\n",
       "    </tr>\n",
       "    <tr>\n",
       "      <th>49011125104</th>\n",
       "      <td>3.275919</td>\n",
       "    </tr>\n",
       "    <tr>\n",
       "      <th>49011125201</th>\n",
       "      <td>4.879382</td>\n",
       "    </tr>\n",
       "    <tr>\n",
       "      <th>49011125301</th>\n",
       "      <td>6.009973</td>\n",
       "    </tr>\n",
       "    <tr>\n",
       "      <th>...</th>\n",
       "      <td>...</td>\n",
       "    </tr>\n",
       "    <tr>\n",
       "      <th>49011127002</th>\n",
       "      <td>7.289234</td>\n",
       "    </tr>\n",
       "    <tr>\n",
       "      <th>49011127003</th>\n",
       "      <td>3.973670</td>\n",
       "    </tr>\n",
       "    <tr>\n",
       "      <th>49011127005</th>\n",
       "      <td>4.933484</td>\n",
       "    </tr>\n",
       "    <tr>\n",
       "      <th>49011127006</th>\n",
       "      <td>4.906831</td>\n",
       "    </tr>\n",
       "    <tr>\n",
       "      <th>49011127100</th>\n",
       "      <td>4.063675</td>\n",
       "    </tr>\n",
       "  </tbody>\n",
       "</table>\n",
       "<p>65 rows × 1 columns</p>\n",
       "</div>"
      ],
      "text/plain": [
       "                  DUA\n",
       "TRACT_FIPS           \n",
       "49011125102  2.930751\n",
       "49011125103  3.991556\n",
       "49011125104  3.275919\n",
       "49011125201  4.879382\n",
       "49011125301  6.009973\n",
       "...               ...\n",
       "49011127002  7.289234\n",
       "49011127003  3.973670\n",
       "49011127005  4.933484\n",
       "49011127006  4.906831\n",
       "49011127100  4.063675\n",
       "\n",
       "[65 rows x 1 columns]"
      ]
     },
     "execution_count": 32,
     "metadata": {},
     "output_type": "execute_result"
    }
   ],
   "source": [
    "avg_all_dua"
   ]
  },
  {
   "cell_type": "code",
   "execution_count": 74,
   "id": "1f3bc348",
   "metadata": {},
   "outputs": [],
   "source": [
    "pre_2020_unit_count = evaluated_df[evaluated_df['APX_BLT_YR']<2019][['TRACT_FIPS', 'UNIT_COUNT']].groupby('TRACT_FIPS').sum().rename(columns={'UNIT_COUNT': 'pre_2020_unit_count'})\n"
   ]
  },
  {
   "cell_type": "code",
   "execution_count": 41,
   "id": "19712780",
   "metadata": {
    "collapsed": true
   },
   "outputs": [
    {
     "data": {
      "text/html": [
       "<div>\n",
       "<style scoped>\n",
       "    .dataframe tbody tr th:only-of-type {\n",
       "        vertical-align: middle;\n",
       "    }\n",
       "\n",
       "    .dataframe tbody tr th {\n",
       "        vertical-align: top;\n",
       "    }\n",
       "\n",
       "    .dataframe thead th {\n",
       "        text-align: right;\n",
       "    }\n",
       "</style>\n",
       "<table border=\"1\" class=\"dataframe\">\n",
       "  <thead>\n",
       "    <tr style=\"text-align: right;\">\n",
       "      <th></th>\n",
       "      <th>UNIT_COUNT</th>\n",
       "      <th>TOT_BD_FT2</th>\n",
       "      <th>TOT_VALUE</th>\n",
       "    </tr>\n",
       "    <tr>\n",
       "      <th>TRACT_FIPS</th>\n",
       "      <th></th>\n",
       "      <th></th>\n",
       "      <th></th>\n",
       "    </tr>\n",
       "  </thead>\n",
       "  <tbody>\n",
       "    <tr>\n",
       "      <th>49011125102</th>\n",
       "      <td>1437.0</td>\n",
       "      <td>3072593.0</td>\n",
       "      <td>640375956.0</td>\n",
       "    </tr>\n",
       "    <tr>\n",
       "      <th>49011125103</th>\n",
       "      <td>2789.0</td>\n",
       "      <td>3409971.0</td>\n",
       "      <td>646685117.0</td>\n",
       "    </tr>\n",
       "    <tr>\n",
       "      <th>49011125104</th>\n",
       "      <td>1734.0</td>\n",
       "      <td>3328208.0</td>\n",
       "      <td>661355949.0</td>\n",
       "    </tr>\n",
       "    <tr>\n",
       "      <th>49011125201</th>\n",
       "      <td>4.0</td>\n",
       "      <td>5325.0</td>\n",
       "      <td>770000.0</td>\n",
       "    </tr>\n",
       "    <tr>\n",
       "      <th>49011125301</th>\n",
       "      <td>2240.0</td>\n",
       "      <td>2449396.0</td>\n",
       "      <td>373239101.0</td>\n",
       "    </tr>\n",
       "    <tr>\n",
       "      <th>...</th>\n",
       "      <td>...</td>\n",
       "      <td>...</td>\n",
       "      <td>...</td>\n",
       "    </tr>\n",
       "    <tr>\n",
       "      <th>49011127002</th>\n",
       "      <td>3315.0</td>\n",
       "      <td>2845378.0</td>\n",
       "      <td>573284602.0</td>\n",
       "    </tr>\n",
       "    <tr>\n",
       "      <th>49011127003</th>\n",
       "      <td>3555.0</td>\n",
       "      <td>5217005.0</td>\n",
       "      <td>951113925.0</td>\n",
       "    </tr>\n",
       "    <tr>\n",
       "      <th>49011127005</th>\n",
       "      <td>1163.0</td>\n",
       "      <td>1658469.0</td>\n",
       "      <td>337683310.0</td>\n",
       "    </tr>\n",
       "    <tr>\n",
       "      <th>49011127006</th>\n",
       "      <td>1309.0</td>\n",
       "      <td>1690297.0</td>\n",
       "      <td>366642279.0</td>\n",
       "    </tr>\n",
       "    <tr>\n",
       "      <th>49011127100</th>\n",
       "      <td>2933.0</td>\n",
       "      <td>7081392.0</td>\n",
       "      <td>886577336.0</td>\n",
       "    </tr>\n",
       "  </tbody>\n",
       "</table>\n",
       "<p>65 rows × 3 columns</p>\n",
       "</div>"
      ],
      "text/plain": [
       "             UNIT_COUNT  TOT_BD_FT2    TOT_VALUE\n",
       "TRACT_FIPS                                      \n",
       "49011125102      1437.0   3072593.0  640375956.0\n",
       "49011125103      2789.0   3409971.0  646685117.0\n",
       "49011125104      1734.0   3328208.0  661355949.0\n",
       "49011125201         4.0      5325.0     770000.0\n",
       "49011125301      2240.0   2449396.0  373239101.0\n",
       "...                 ...         ...          ...\n",
       "49011127002      3315.0   2845378.0  573284602.0\n",
       "49011127003      3555.0   5217005.0  951113925.0\n",
       "49011127005      1163.0   1658469.0  337683310.0\n",
       "49011127006      1309.0   1690297.0  366642279.0\n",
       "49011127100      2933.0   7081392.0  886577336.0\n",
       "\n",
       "[65 rows x 3 columns]"
      ]
     },
     "execution_count": 41,
     "metadata": {},
     "output_type": "execute_result"
    }
   ],
   "source": [
    "sums = evaluated_df[['UNIT_COUNT', 'TOT_BD_FT2', 'TOT_VALUE', 'TRACT_FIPS']].groupby('TRACT_FIPS').sum()\n",
    "sums"
   ]
  },
  {
   "cell_type": "code",
   "execution_count": 80,
   "id": "304ff458",
   "metadata": {},
   "outputs": [],
   "source": [
    "joined_df = pd.concat([tracts_df[['SHAPE','pop100', 'hu100']], sums, pre_2020_unit_count, avg_sf_dua, avg_mf_dua, avg_all_dua, sf_avgs], axis=1).dropna(subset=['UNIT_COUNT'])"
   ]
  },
  {
   "cell_type": "code",
   "execution_count": 76,
   "id": "6369e77c",
   "metadata": {
    "collapsed": true
   },
   "outputs": [
    {
     "data": {
      "text/html": [
       "<div>\n",
       "<style scoped>\n",
       "    .dataframe tbody tr th:only-of-type {\n",
       "        vertical-align: middle;\n",
       "    }\n",
       "\n",
       "    .dataframe tbody tr th {\n",
       "        vertical-align: top;\n",
       "    }\n",
       "\n",
       "    .dataframe thead th {\n",
       "        text-align: right;\n",
       "    }\n",
       "</style>\n",
       "<table border=\"1\" class=\"dataframe\">\n",
       "  <thead>\n",
       "    <tr style=\"text-align: right;\">\n",
       "      <th></th>\n",
       "      <th>SHAPE</th>\n",
       "      <th>pop100</th>\n",
       "      <th>hu100</th>\n",
       "      <th>UNIT_COUNT</th>\n",
       "      <th>TOT_BD_FT2</th>\n",
       "      <th>TOT_VALUE</th>\n",
       "      <th>pre_2020_unit_count</th>\n",
       "      <th>avg_sf_dua</th>\n",
       "      <th>avg_mf_dua</th>\n",
       "      <th>avg_all_dua</th>\n",
       "    </tr>\n",
       "  </thead>\n",
       "  <tbody>\n",
       "    <tr>\n",
       "      <th>49011126105</th>\n",
       "      <td>{\"rings\": [[[420548.44379999954, 4542046.6951]...</td>\n",
       "      <td>6436</td>\n",
       "      <td>1725</td>\n",
       "      <td>1710.0</td>\n",
       "      <td>2968308.0</td>\n",
       "      <td>628863075.0</td>\n",
       "      <td>1705.0</td>\n",
       "      <td>4.590069</td>\n",
       "      <td>9.083200</td>\n",
       "      <td>4.674496</td>\n",
       "    </tr>\n",
       "    <tr>\n",
       "      <th>49011126203</th>\n",
       "      <td>{\"rings\": [[[423310.45990000013, 4540364.6054]...</td>\n",
       "      <td>4517</td>\n",
       "      <td>1348</td>\n",
       "      <td>1377.0</td>\n",
       "      <td>3187951.0</td>\n",
       "      <td>702569185.0</td>\n",
       "      <td>1363.0</td>\n",
       "      <td>3.104565</td>\n",
       "      <td>12.485257</td>\n",
       "      <td>3.357436</td>\n",
       "    </tr>\n",
       "    <tr>\n",
       "      <th>49011126304</th>\n",
       "      <td>{\"rings\": [[[421634.90139999986, 4528929.0152]...</td>\n",
       "      <td>6955</td>\n",
       "      <td>2255</td>\n",
       "      <td>2041.0</td>\n",
       "      <td>3977709.0</td>\n",
       "      <td>776912081.0</td>\n",
       "      <td>1990.0</td>\n",
       "      <td>3.883259</td>\n",
       "      <td>7.697844</td>\n",
       "      <td>3.897030</td>\n",
       "    </tr>\n",
       "    <tr>\n",
       "      <th>49011126306</th>\n",
       "      <td>{\"rings\": [[[424937.8322999999, 4528810.0287],...</td>\n",
       "      <td>7585</td>\n",
       "      <td>2885</td>\n",
       "      <td>3062.0</td>\n",
       "      <td>4299428.0</td>\n",
       "      <td>838234962.0</td>\n",
       "      <td>3061.0</td>\n",
       "      <td>4.231680</td>\n",
       "      <td>12.979035</td>\n",
       "      <td>4.678872</td>\n",
       "    </tr>\n",
       "    <tr>\n",
       "      <th>49011125501</th>\n",
       "      <td>{\"rings\": [[[410618.6292000003, 4551550.2971],...</td>\n",
       "      <td>6741</td>\n",
       "      <td>2075</td>\n",
       "      <td>2267.0</td>\n",
       "      <td>2490973.0</td>\n",
       "      <td>490812310.0</td>\n",
       "      <td>2198.0</td>\n",
       "      <td>4.712643</td>\n",
       "      <td>12.615679</td>\n",
       "      <td>4.908869</td>\n",
       "    </tr>\n",
       "    <tr>\n",
       "      <th>...</th>\n",
       "      <td>...</td>\n",
       "      <td>...</td>\n",
       "      <td>...</td>\n",
       "      <td>...</td>\n",
       "      <td>...</td>\n",
       "      <td>...</td>\n",
       "      <td>...</td>\n",
       "      <td>...</td>\n",
       "      <td>...</td>\n",
       "      <td>...</td>\n",
       "    </tr>\n",
       "    <tr>\n",
       "      <th>49011126002</th>\n",
       "      <td>{\"rings\": [[[415357.89580000006, 4544309.07190...</td>\n",
       "      <td>7994</td>\n",
       "      <td>2199</td>\n",
       "      <td>2321.0</td>\n",
       "      <td>4021579.0</td>\n",
       "      <td>814021612.0</td>\n",
       "      <td>2028.0</td>\n",
       "      <td>3.863330</td>\n",
       "      <td>6.715384</td>\n",
       "      <td>3.870199</td>\n",
       "    </tr>\n",
       "    <tr>\n",
       "      <th>49011125807</th>\n",
       "      <td>{\"rings\": [[[418245.6966000004, 4549660.442700...</td>\n",
       "      <td>3675</td>\n",
       "      <td>1370</td>\n",
       "      <td>2457.0</td>\n",
       "      <td>975310.0</td>\n",
       "      <td>189682207.0</td>\n",
       "      <td>2387.0</td>\n",
       "      <td>4.317042</td>\n",
       "      <td>26.660195</td>\n",
       "      <td>4.828717</td>\n",
       "    </tr>\n",
       "    <tr>\n",
       "      <th>49011127100</th>\n",
       "      <td>{\"rings\": [[[420265.4735000003, 4543427.589199...</td>\n",
       "      <td>8538</td>\n",
       "      <td>2789</td>\n",
       "      <td>2933.0</td>\n",
       "      <td>7081392.0</td>\n",
       "      <td>886577336.0</td>\n",
       "      <td>2925.0</td>\n",
       "      <td>3.702446</td>\n",
       "      <td>11.042633</td>\n",
       "      <td>4.063675</td>\n",
       "    </tr>\n",
       "    <tr>\n",
       "      <th>49011126001</th>\n",
       "      <td>{\"rings\": [[[416755.3304000003, 4547519.9706],...</td>\n",
       "      <td>5835</td>\n",
       "      <td>2156</td>\n",
       "      <td>2166.0</td>\n",
       "      <td>2079635.0</td>\n",
       "      <td>362014090.0</td>\n",
       "      <td>1980.0</td>\n",
       "      <td>4.861735</td>\n",
       "      <td>34.330956</td>\n",
       "      <td>6.020926</td>\n",
       "    </tr>\n",
       "    <tr>\n",
       "      <th>49011125907</th>\n",
       "      <td>{\"rings\": [[[419421.0466, 4549090.499299999], ...</td>\n",
       "      <td>2596</td>\n",
       "      <td>834</td>\n",
       "      <td>866.0</td>\n",
       "      <td>1329630.0</td>\n",
       "      <td>256897836.0</td>\n",
       "      <td>856.0</td>\n",
       "      <td>3.655053</td>\n",
       "      <td>8.881205</td>\n",
       "      <td>3.754441</td>\n",
       "    </tr>\n",
       "  </tbody>\n",
       "</table>\n",
       "<p>65 rows × 10 columns</p>\n",
       "</div>"
      ],
      "text/plain": [
       "                                                         SHAPE  pop100  hu100  \\\n",
       "49011126105  {\"rings\": [[[420548.44379999954, 4542046.6951]...    6436   1725   \n",
       "49011126203  {\"rings\": [[[423310.45990000013, 4540364.6054]...    4517   1348   \n",
       "49011126304  {\"rings\": [[[421634.90139999986, 4528929.0152]...    6955   2255   \n",
       "49011126306  {\"rings\": [[[424937.8322999999, 4528810.0287],...    7585   2885   \n",
       "49011125501  {\"rings\": [[[410618.6292000003, 4551550.2971],...    6741   2075   \n",
       "...                                                        ...     ...    ...   \n",
       "49011126002  {\"rings\": [[[415357.89580000006, 4544309.07190...    7994   2199   \n",
       "49011125807  {\"rings\": [[[418245.6966000004, 4549660.442700...    3675   1370   \n",
       "49011127100  {\"rings\": [[[420265.4735000003, 4543427.589199...    8538   2789   \n",
       "49011126001  {\"rings\": [[[416755.3304000003, 4547519.9706],...    5835   2156   \n",
       "49011125907  {\"rings\": [[[419421.0466, 4549090.499299999], ...    2596    834   \n",
       "\n",
       "             UNIT_COUNT  TOT_BD_FT2    TOT_VALUE  pre_2020_unit_count  \\\n",
       "49011126105      1710.0   2968308.0  628863075.0               1705.0   \n",
       "49011126203      1377.0   3187951.0  702569185.0               1363.0   \n",
       "49011126304      2041.0   3977709.0  776912081.0               1990.0   \n",
       "49011126306      3062.0   4299428.0  838234962.0               3061.0   \n",
       "49011125501      2267.0   2490973.0  490812310.0               2198.0   \n",
       "...                 ...         ...          ...                  ...   \n",
       "49011126002      2321.0   4021579.0  814021612.0               2028.0   \n",
       "49011125807      2457.0    975310.0  189682207.0               2387.0   \n",
       "49011127100      2933.0   7081392.0  886577336.0               2925.0   \n",
       "49011126001      2166.0   2079635.0  362014090.0               1980.0   \n",
       "49011125907       866.0   1329630.0  256897836.0                856.0   \n",
       "\n",
       "             avg_sf_dua  avg_mf_dua  avg_all_dua  \n",
       "49011126105    4.590069    9.083200     4.674496  \n",
       "49011126203    3.104565   12.485257     3.357436  \n",
       "49011126304    3.883259    7.697844     3.897030  \n",
       "49011126306    4.231680   12.979035     4.678872  \n",
       "49011125501    4.712643   12.615679     4.908869  \n",
       "...                 ...         ...          ...  \n",
       "49011126002    3.863330    6.715384     3.870199  \n",
       "49011125807    4.317042   26.660195     4.828717  \n",
       "49011127100    3.702446   11.042633     4.063675  \n",
       "49011126001    4.861735   34.330956     6.020926  \n",
       "49011125907    3.655053    8.881205     3.754441  \n",
       "\n",
       "[65 rows x 10 columns]"
      ]
     },
     "execution_count": 76,
     "metadata": {},
     "output_type": "execute_result"
    }
   ],
   "source": [
    "joined_df"
   ]
  },
  {
   "cell_type": "code",
   "execution_count": 81,
   "id": "3c969bbb",
   "metadata": {
    "collapsed": true
   },
   "outputs": [
    {
     "data": {
      "text/html": [
       "<div>\n",
       "<style scoped>\n",
       "    .dataframe tbody tr th:only-of-type {\n",
       "        vertical-align: middle;\n",
       "    }\n",
       "\n",
       "    .dataframe tbody tr th {\n",
       "        vertical-align: top;\n",
       "    }\n",
       "\n",
       "    .dataframe thead th {\n",
       "        text-align: right;\n",
       "    }\n",
       "</style>\n",
       "<table border=\"1\" class=\"dataframe\">\n",
       "  <thead>\n",
       "    <tr style=\"text-align: right;\">\n",
       "      <th></th>\n",
       "      <th>SHAPE</th>\n",
       "      <th>pop100</th>\n",
       "      <th>hu100</th>\n",
       "      <th>UNIT_COUNT</th>\n",
       "      <th>TOT_BD_FT2</th>\n",
       "      <th>TOT_VALUE</th>\n",
       "      <th>pre_2020_unit_count</th>\n",
       "      <th>avg_sf_dua</th>\n",
       "      <th>avg_mf_dua</th>\n",
       "      <th>avg_all_dua</th>\n",
       "      <th>avg_sf_sqft</th>\n",
       "      <th>avg_sf_value</th>\n",
       "      <th>eval_minus_census</th>\n",
       "    </tr>\n",
       "  </thead>\n",
       "  <tbody>\n",
       "    <tr>\n",
       "      <th>49011126105</th>\n",
       "      <td>{\"rings\": [[[420548.44379999954, 4542046.6951]...</td>\n",
       "      <td>6436</td>\n",
       "      <td>1725</td>\n",
       "      <td>1710.0</td>\n",
       "      <td>2968308.0</td>\n",
       "      <td>628863075.0</td>\n",
       "      <td>1705.0</td>\n",
       "      <td>4.590069</td>\n",
       "      <td>9.083200</td>\n",
       "      <td>4.674496</td>\n",
       "      <td>1747.046679</td>\n",
       "      <td>371002.261520</td>\n",
       "      <td>-20.0</td>\n",
       "    </tr>\n",
       "    <tr>\n",
       "      <th>49011126203</th>\n",
       "      <td>{\"rings\": [[[423310.45990000013, 4540364.6054]...</td>\n",
       "      <td>4517</td>\n",
       "      <td>1348</td>\n",
       "      <td>1377.0</td>\n",
       "      <td>3187951.0</td>\n",
       "      <td>702569185.0</td>\n",
       "      <td>1363.0</td>\n",
       "      <td>3.104565</td>\n",
       "      <td>12.485257</td>\n",
       "      <td>3.357436</td>\n",
       "      <td>2736.220733</td>\n",
       "      <td>608505.589812</td>\n",
       "      <td>15.0</td>\n",
       "    </tr>\n",
       "    <tr>\n",
       "      <th>49011126304</th>\n",
       "      <td>{\"rings\": [[[421634.90139999986, 4528929.0152]...</td>\n",
       "      <td>6955</td>\n",
       "      <td>2255</td>\n",
       "      <td>2041.0</td>\n",
       "      <td>3977709.0</td>\n",
       "      <td>776912081.0</td>\n",
       "      <td>1990.0</td>\n",
       "      <td>3.883259</td>\n",
       "      <td>7.697844</td>\n",
       "      <td>3.897030</td>\n",
       "      <td>2021.450483</td>\n",
       "      <td>406785.641908</td>\n",
       "      <td>-265.0</td>\n",
       "    </tr>\n",
       "    <tr>\n",
       "      <th>49011126306</th>\n",
       "      <td>{\"rings\": [[[424937.8322999999, 4528810.0287],...</td>\n",
       "      <td>7585</td>\n",
       "      <td>2885</td>\n",
       "      <td>3062.0</td>\n",
       "      <td>4299428.0</td>\n",
       "      <td>838234962.0</td>\n",
       "      <td>3061.0</td>\n",
       "      <td>4.231680</td>\n",
       "      <td>12.979035</td>\n",
       "      <td>4.678872</td>\n",
       "      <td>1875.762449</td>\n",
       "      <td>395481.760000</td>\n",
       "      <td>176.0</td>\n",
       "    </tr>\n",
       "    <tr>\n",
       "      <th>49011125501</th>\n",
       "      <td>{\"rings\": [[[410618.6292000003, 4551550.2971],...</td>\n",
       "      <td>6741</td>\n",
       "      <td>2075</td>\n",
       "      <td>2267.0</td>\n",
       "      <td>2490973.0</td>\n",
       "      <td>490812310.0</td>\n",
       "      <td>2198.0</td>\n",
       "      <td>4.712643</td>\n",
       "      <td>12.615679</td>\n",
       "      <td>4.908869</td>\n",
       "      <td>1431.379376</td>\n",
       "      <td>282790.426480</td>\n",
       "      <td>123.0</td>\n",
       "    </tr>\n",
       "    <tr>\n",
       "      <th>...</th>\n",
       "      <td>...</td>\n",
       "      <td>...</td>\n",
       "      <td>...</td>\n",
       "      <td>...</td>\n",
       "      <td>...</td>\n",
       "      <td>...</td>\n",
       "      <td>...</td>\n",
       "      <td>...</td>\n",
       "      <td>...</td>\n",
       "      <td>...</td>\n",
       "      <td>...</td>\n",
       "      <td>...</td>\n",
       "      <td>...</td>\n",
       "    </tr>\n",
       "    <tr>\n",
       "      <th>49011126002</th>\n",
       "      <td>{\"rings\": [[[415357.89580000006, 4544309.07190...</td>\n",
       "      <td>7994</td>\n",
       "      <td>2199</td>\n",
       "      <td>2321.0</td>\n",
       "      <td>4021579.0</td>\n",
       "      <td>814021612.0</td>\n",
       "      <td>2028.0</td>\n",
       "      <td>3.863330</td>\n",
       "      <td>6.715384</td>\n",
       "      <td>3.870199</td>\n",
       "      <td>1839.123129</td>\n",
       "      <td>372267.739739</td>\n",
       "      <td>-171.0</td>\n",
       "    </tr>\n",
       "    <tr>\n",
       "      <th>49011125807</th>\n",
       "      <td>{\"rings\": [[[418245.6966000004, 4549660.442700...</td>\n",
       "      <td>3675</td>\n",
       "      <td>1370</td>\n",
       "      <td>2457.0</td>\n",
       "      <td>975310.0</td>\n",
       "      <td>189682207.0</td>\n",
       "      <td>2387.0</td>\n",
       "      <td>4.317042</td>\n",
       "      <td>26.660195</td>\n",
       "      <td>4.828717</td>\n",
       "      <td>1721.898438</td>\n",
       "      <td>322307.312500</td>\n",
       "      <td>1017.0</td>\n",
       "    </tr>\n",
       "    <tr>\n",
       "      <th>49011127100</th>\n",
       "      <td>{\"rings\": [[[420265.4735000003, 4543427.589199...</td>\n",
       "      <td>8538</td>\n",
       "      <td>2789</td>\n",
       "      <td>2933.0</td>\n",
       "      <td>7081392.0</td>\n",
       "      <td>886577336.0</td>\n",
       "      <td>2925.0</td>\n",
       "      <td>3.702446</td>\n",
       "      <td>11.042633</td>\n",
       "      <td>4.063675</td>\n",
       "      <td>1923.078675</td>\n",
       "      <td>406423.836439</td>\n",
       "      <td>136.0</td>\n",
       "    </tr>\n",
       "    <tr>\n",
       "      <th>49011126001</th>\n",
       "      <td>{\"rings\": [[[416755.3304000003, 4547519.9706],...</td>\n",
       "      <td>5835</td>\n",
       "      <td>2156</td>\n",
       "      <td>2166.0</td>\n",
       "      <td>2079635.0</td>\n",
       "      <td>362014090.0</td>\n",
       "      <td>1980.0</td>\n",
       "      <td>4.861735</td>\n",
       "      <td>34.330956</td>\n",
       "      <td>6.020926</td>\n",
       "      <td>1236.082803</td>\n",
       "      <td>237015.222020</td>\n",
       "      <td>-176.0</td>\n",
       "    </tr>\n",
       "    <tr>\n",
       "      <th>49011125907</th>\n",
       "      <td>{\"rings\": [[[419421.0466, 4549090.499299999], ...</td>\n",
       "      <td>2596</td>\n",
       "      <td>834</td>\n",
       "      <td>866.0</td>\n",
       "      <td>1329630.0</td>\n",
       "      <td>256897836.0</td>\n",
       "      <td>856.0</td>\n",
       "      <td>3.655053</td>\n",
       "      <td>8.881205</td>\n",
       "      <td>3.754441</td>\n",
       "      <td>1993.132472</td>\n",
       "      <td>384664.563813</td>\n",
       "      <td>22.0</td>\n",
       "    </tr>\n",
       "  </tbody>\n",
       "</table>\n",
       "<p>65 rows × 13 columns</p>\n",
       "</div>"
      ],
      "text/plain": [
       "                                                         SHAPE  pop100  hu100  \\\n",
       "49011126105  {\"rings\": [[[420548.44379999954, 4542046.6951]...    6436   1725   \n",
       "49011126203  {\"rings\": [[[423310.45990000013, 4540364.6054]...    4517   1348   \n",
       "49011126304  {\"rings\": [[[421634.90139999986, 4528929.0152]...    6955   2255   \n",
       "49011126306  {\"rings\": [[[424937.8322999999, 4528810.0287],...    7585   2885   \n",
       "49011125501  {\"rings\": [[[410618.6292000003, 4551550.2971],...    6741   2075   \n",
       "...                                                        ...     ...    ...   \n",
       "49011126002  {\"rings\": [[[415357.89580000006, 4544309.07190...    7994   2199   \n",
       "49011125807  {\"rings\": [[[418245.6966000004, 4549660.442700...    3675   1370   \n",
       "49011127100  {\"rings\": [[[420265.4735000003, 4543427.589199...    8538   2789   \n",
       "49011126001  {\"rings\": [[[416755.3304000003, 4547519.9706],...    5835   2156   \n",
       "49011125907  {\"rings\": [[[419421.0466, 4549090.499299999], ...    2596    834   \n",
       "\n",
       "             UNIT_COUNT  TOT_BD_FT2    TOT_VALUE  pre_2020_unit_count  \\\n",
       "49011126105      1710.0   2968308.0  628863075.0               1705.0   \n",
       "49011126203      1377.0   3187951.0  702569185.0               1363.0   \n",
       "49011126304      2041.0   3977709.0  776912081.0               1990.0   \n",
       "49011126306      3062.0   4299428.0  838234962.0               3061.0   \n",
       "49011125501      2267.0   2490973.0  490812310.0               2198.0   \n",
       "...                 ...         ...          ...                  ...   \n",
       "49011126002      2321.0   4021579.0  814021612.0               2028.0   \n",
       "49011125807      2457.0    975310.0  189682207.0               2387.0   \n",
       "49011127100      2933.0   7081392.0  886577336.0               2925.0   \n",
       "49011126001      2166.0   2079635.0  362014090.0               1980.0   \n",
       "49011125907       866.0   1329630.0  256897836.0                856.0   \n",
       "\n",
       "             avg_sf_dua  avg_mf_dua  avg_all_dua  avg_sf_sqft   avg_sf_value  \\\n",
       "49011126105    4.590069    9.083200     4.674496  1747.046679  371002.261520   \n",
       "49011126203    3.104565   12.485257     3.357436  2736.220733  608505.589812   \n",
       "49011126304    3.883259    7.697844     3.897030  2021.450483  406785.641908   \n",
       "49011126306    4.231680   12.979035     4.678872  1875.762449  395481.760000   \n",
       "49011125501    4.712643   12.615679     4.908869  1431.379376  282790.426480   \n",
       "...                 ...         ...          ...          ...            ...   \n",
       "49011126002    3.863330    6.715384     3.870199  1839.123129  372267.739739   \n",
       "49011125807    4.317042   26.660195     4.828717  1721.898438  322307.312500   \n",
       "49011127100    3.702446   11.042633     4.063675  1923.078675  406423.836439   \n",
       "49011126001    4.861735   34.330956     6.020926  1236.082803  237015.222020   \n",
       "49011125907    3.655053    8.881205     3.754441  1993.132472  384664.563813   \n",
       "\n",
       "             eval_minus_census  \n",
       "49011126105              -20.0  \n",
       "49011126203               15.0  \n",
       "49011126304             -265.0  \n",
       "49011126306              176.0  \n",
       "49011125501              123.0  \n",
       "...                        ...  \n",
       "49011126002             -171.0  \n",
       "49011125807             1017.0  \n",
       "49011127100              136.0  \n",
       "49011126001             -176.0  \n",
       "49011125907               22.0  \n",
       "\n",
       "[65 rows x 13 columns]"
      ]
     },
     "execution_count": 81,
     "metadata": {},
     "output_type": "execute_result"
    }
   ],
   "source": [
    "joined_df['eval_minus_census'] = joined_df['pre_2020_unit_count'] - joined_df['hu100']\n",
    "joined_df"
   ]
  },
  {
   "cell_type": "code",
   "execution_count": 83,
   "id": "afc69793",
   "metadata": {},
   "outputs": [
    {
     "data": {
      "text/plain": [
       "'c:\\\\gis\\\\Projects\\\\housinginventory\\\\housinginventory.gdb\\\\davis2020_8a_bytract'"
      ]
     },
     "execution_count": 83,
     "metadata": {},
     "output_type": "execute_result"
    }
   ],
   "source": [
    "joined_df.spatial.to_featureclass(r'c:\\gis\\projects\\housinginventory\\housinginventory.gdb\\davis2020_8a_bytract')"
   ]
  },
  {
   "cell_type": "markdown",
   "id": "d8a460e6",
   "metadata": {},
   "source": [
    "# split OUGs on census blocks"
   ]
  },
  {
   "cell_type": "code",
   "execution_count": 2,
   "id": "a60d220e",
   "metadata": {},
   "outputs": [],
   "source": [
    "census_df = pd.DataFrame.spatial.from_featureclass(r'c:\\gis\\projects\\housinginventory\\opensgid.agrc.utah.gov.sde\\opensgid.demographic.census_blocks_2020')\n"
   ]
  },
  {
   "cell_type": "code",
   "execution_count": 3,
   "id": "2b4edef9",
   "metadata": {},
   "outputs": [],
   "source": [
    "input_dir_path = Path(r'c:\\gis\\git\\housing-unit-inventory\\Parcels\\2020-Davis\\Inputs')\n",
    "common_areas_fc = input_dir_path / r'Common_Areas.gdb/Common_Areas_Reviewed'\n",
    "common_areas_df = pd.DataFrame.spatial.from_featureclass(common_areas_fc)\n"
   ]
  },
  {
   "cell_type": "code",
   "execution_count": 6,
   "id": "ce4a3292",
   "metadata": {
    "collapsed": true
   },
   "outputs": [
    {
     "data": {
      "application/vnd.jupyter.widget-view+json": {
       "model_id": "e89b96ef1cae40f99c8edeec258cae68",
       "version_major": 2,
       "version_minor": 0
      },
      "text/plain": [
       "MapView(layout=Layout(height='400px', width='100%'))"
      ]
     },
     "metadata": {},
     "output_type": "display_data"
    },
    {
     "data": {
      "text/html": [
       "<div class=\"map-static-img-preview-b0457f41-7c2b-4a4b-93a9-2e00fb9b67a6\"><img src=\"\"></img></div>"
      ],
      "text/plain": [
       "<IPython.core.display.HTML object>"
      ]
     },
     "metadata": {},
     "output_type": "display_data"
    },
    {
     "data": {
      "text/html": [
       "<div class=\"map-html-embed-preview-b0457f41-7c2b-4a4b-93a9-2e00fb9b67a6\"></div>"
      ],
      "text/plain": [
       "<IPython.core.display.HTML object>"
      ]
     },
     "metadata": {},
     "output_type": "display_data"
    }
   ],
   "source": [
    "common_areas_df.spatial.plot()"
   ]
  },
  {
   "cell_type": "code",
   "execution_count": 8,
   "id": "6a9669f9",
   "metadata": {},
   "outputs": [
    {
     "ename": "ValueError",
     "evalue": "Spatially enabled DataFrame must be the same geometry type.",
     "output_type": "error",
     "traceback": [
      "\u001b[1;31m---------------------------------------------------------------------------\u001b[0m",
      "\u001b[1;31mValueError\u001b[0m                                Traceback (most recent call last)",
      "\u001b[1;32m<ipython-input-8-6f2bd050fa19>\u001b[0m in \u001b[0;36m<module>\u001b[1;34m\u001b[0m\n\u001b[1;32m----> 1\u001b[1;33m \u001b[0mcommon_areas_df\u001b[0m\u001b[1;33m.\u001b[0m\u001b[0mspatial\u001b[0m\u001b[1;33m.\u001b[0m\u001b[0moverlay\u001b[0m\u001b[1;33m(\u001b[0m\u001b[0mcensus_df\u001b[0m\u001b[1;33m,\u001b[0m \u001b[0mop\u001b[0m\u001b[1;33m=\u001b[0m\u001b[1;34m'intersection'\u001b[0m\u001b[1;33m)\u001b[0m\u001b[1;33m\u001b[0m\u001b[1;33m\u001b[0m\u001b[0m\n\u001b[0m",
      "\u001b[1;32m~\\AppData\\Local\\Programs\\ArcGIS\\Pro\\bin\\Python\\envs\\housing\\lib\\site-packages\\arcgis\\features\\geo\\_accessor.py\u001b[0m in \u001b[0;36moverlay\u001b[1;34m(self, sdf, op)\u001b[0m\n\u001b[0;32m   3681\u001b[0m         \u001b[1;32mfrom\u001b[0m \u001b[0marcgis\u001b[0m\u001b[1;33m.\u001b[0m\u001b[0mfeatures\u001b[0m\u001b[1;33m.\u001b[0m\u001b[0mgeo\u001b[0m\u001b[1;33m.\u001b[0m\u001b[0m_tools\u001b[0m \u001b[1;32mimport\u001b[0m \u001b[0moverlay\u001b[0m\u001b[1;33m\u001b[0m\u001b[1;33m\u001b[0m\u001b[0m\n\u001b[0;32m   3682\u001b[0m \u001b[1;33m\u001b[0m\u001b[0m\n\u001b[1;32m-> 3683\u001b[1;33m         \u001b[1;32mreturn\u001b[0m \u001b[0moverlay\u001b[0m\u001b[1;33m(\u001b[0m\u001b[0msdf1\u001b[0m\u001b[1;33m=\u001b[0m\u001b[0mself\u001b[0m\u001b[1;33m.\u001b[0m\u001b[0m_data\u001b[0m\u001b[1;33m,\u001b[0m \u001b[0msdf2\u001b[0m\u001b[1;33m=\u001b[0m\u001b[0msdf\u001b[0m\u001b[1;33m,\u001b[0m \u001b[0mop\u001b[0m\u001b[1;33m=\u001b[0m\u001b[0mop\u001b[0m\u001b[1;33m.\u001b[0m\u001b[0mlower\u001b[0m\u001b[1;33m(\u001b[0m\u001b[1;33m)\u001b[0m\u001b[1;33m)\u001b[0m\u001b[1;33m\u001b[0m\u001b[1;33m\u001b[0m\u001b[0m\n\u001b[0m\u001b[0;32m   3684\u001b[0m \u001b[1;33m\u001b[0m\u001b[0m\n\u001b[0;32m   3685\u001b[0m     \u001b[1;31m# ----------------------------------------------------------------------\u001b[0m\u001b[1;33m\u001b[0m\u001b[1;33m\u001b[0m\u001b[0m\n",
      "\u001b[1;32m~\\AppData\\Local\\Programs\\ArcGIS\\Pro\\bin\\Python\\envs\\housing\\lib\\site-packages\\arcgis\\features\\geo\\_tools\\_overlay.py\u001b[0m in \u001b[0;36moverlay\u001b[1;34m(sdf1, sdf2, op)\u001b[0m\n\u001b[0;32m    223\u001b[0m \u001b[1;33m\u001b[0m\u001b[0m\n\u001b[0;32m    224\u001b[0m     \u001b[1;32mif\u001b[0m \u001b[0msdf1\u001b[0m\u001b[1;33m.\u001b[0m\u001b[0mspatial\u001b[0m\u001b[1;33m.\u001b[0m\u001b[0mgeometry_type\u001b[0m \u001b[1;33m!=\u001b[0m \u001b[0msdf2\u001b[0m\u001b[1;33m.\u001b[0m\u001b[0mspatial\u001b[0m\u001b[1;33m.\u001b[0m\u001b[0mgeometry_type\u001b[0m\u001b[1;33m:\u001b[0m\u001b[1;33m\u001b[0m\u001b[1;33m\u001b[0m\u001b[0m\n\u001b[1;32m--> 225\u001b[1;33m         raise ValueError(\n\u001b[0m\u001b[0;32m    226\u001b[0m             \u001b[1;33m(\u001b[0m\u001b[1;34m\"Spatially enabled DataFrame must \"\u001b[0m \u001b[1;34m\"be the same geometry type.\"\u001b[0m\u001b[1;33m)\u001b[0m\u001b[1;33m\u001b[0m\u001b[1;33m\u001b[0m\u001b[0m\n\u001b[0;32m    227\u001b[0m         )\n",
      "\u001b[1;31mValueError\u001b[0m: Spatially enabled DataFrame must be the same geometry type."
     ]
    }
   ],
   "source": [
    "common_areas_df.spatial.overlay(census_df, op='intersection')"
   ]
  },
  {
   "cell_type": "code",
   "execution_count": 9,
   "id": "9d0dd500",
   "metadata": {},
   "outputs": [
    {
     "data": {
      "text/plain": [
       "['polygon', None]"
      ]
     },
     "execution_count": 9,
     "metadata": {},
     "output_type": "execute_result"
    }
   ],
   "source": [
    "common_areas_df.spatial.geometry_type"
   ]
  },
  {
   "cell_type": "code",
   "execution_count": 10,
   "id": "a53d9ec8",
   "metadata": {},
   "outputs": [
    {
     "data": {
      "text/plain": [
       "['polygon']"
      ]
     },
     "execution_count": 10,
     "metadata": {},
     "output_type": "execute_result"
    }
   ],
   "source": [
    "census_df.spatial.geometry_type"
   ]
  },
  {
   "cell_type": "code",
   "execution_count": 13,
   "id": "6650a02a",
   "metadata": {},
   "outputs": [
    {
     "name": "stdout",
     "output_type": "stream",
     "text": [
      "<class 'pandas.core.frame.DataFrame'>\n",
      "RangeIndex: 574 entries, 0 to 573\n",
      "Data columns (total 6 columns):\n",
      " #   Column        Non-Null Count  Dtype   \n",
      "---  ------        --------------  -----   \n",
      " 0   OBJECTID      574 non-null    int64   \n",
      " 1   SUBTYPE_WFRC  268 non-null    object  \n",
      " 2   Review        574 non-null    int64   \n",
      " 3   MERGE_SRC     573 non-null    object  \n",
      " 4   TYPE_WFRC     574 non-null    object  \n",
      " 5   SHAPE         573 non-null    geometry\n",
      "dtypes: geometry(1), int64(2), object(3)\n",
      "memory usage: 27.0+ KB\n"
     ]
    }
   ],
   "source": [
    "common_areas_df.info()"
   ]
  },
  {
   "cell_type": "code",
   "execution_count": null,
   "id": "8d448bb5",
   "metadata": {},
   "outputs": [],
   "source": []
  }
 ],
 "metadata": {
  "kernelspec": {
   "display_name": "Python 3",
   "language": "python",
   "name": "python3"
  },
  "language_info": {
   "codemirror_mode": {
    "name": "ipython",
    "version": 3
   },
   "file_extension": ".py",
   "mimetype": "text/x-python",
   "name": "python",
   "nbconvert_exporter": "python",
   "pygments_lexer": "ipython3",
   "version": "3.9.11"
  }
 },
 "nbformat": 4,
 "nbformat_minor": 5
}
